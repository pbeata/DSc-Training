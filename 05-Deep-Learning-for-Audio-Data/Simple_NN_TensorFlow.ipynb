{
 "cells": [
  {
   "cell_type": "markdown",
   "id": "applied-retrieval",
   "metadata": {},
   "source": [
    "## Neural Network to Compute Sum"
   ]
  },
  {
   "cell_type": "code",
   "execution_count": 1,
   "id": "unusual-allowance",
   "metadata": {},
   "outputs": [],
   "source": [
    "# build model\n",
    "# compile model\n",
    "# train model\n",
    "# evaluate model\n",
    "# make predictions\n",
    "\n",
    "# data? \n",
    "# input: array([[0.1, 0.2], [0.2, 0.2]])\n",
    "# output: array([[0.3], [0.4]])\n",
    "\n",
    "# IMPORT PYTHON PACKAGES\n",
    "import numpy as np\n",
    "from random import random\n",
    "from sklearn.model_selection import train_test_split\n",
    "\n",
    "# TENSORFLOW\n",
    "import tensorflow as tf \n",
    "\n",
    "%config Completer.use_jedi = False"
   ]
  },
  {
   "cell_type": "code",
   "execution_count": 12,
   "id": "hourly-lobby",
   "metadata": {},
   "outputs": [],
   "source": [
    "def generate_dataset(num_samples=1000, test_size=0.2):\n",
    "    X = np.array([[random()/2 for _ in range(2)] for _ in range(num_samples)])\n",
    "    y = np.array([[i[0] + i[1]] for i in X])\n",
    "    X_train, X_test, y_train, y_test = train_test_split(X, y, test_size=test_size, random_state=101)\n",
    "    return X_train, X_test, y_train, y_test"
   ]
  },
  {
   "cell_type": "code",
   "execution_count": 14,
   "id": "comfortable-brush",
   "metadata": {},
   "outputs": [
    {
     "name": "stdout",
     "output_type": "stream",
     "text": [
      "(3500, 2) (1500, 2)\n"
     ]
    }
   ],
   "source": [
    "X_train, X_test, y_train, y_test = generate_dataset(5000, 0.3)\n",
    "print(X_train.shape, X_test.shape)"
   ]
  },
  {
   "cell_type": "code",
   "execution_count": 15,
   "id": "communist-cause",
   "metadata": {},
   "outputs": [],
   "source": [
    "# build model:  2 -> 5 -> 1\n",
    "model = tf.keras.Sequential([\n",
    "    tf.keras.layers.Dense(5, input_dim=2, activation=\"sigmoid\"),\n",
    "    tf.keras.layers.Dense(1, activation=\"sigmoid\")\n",
    "])"
   ]
  },
  {
   "cell_type": "code",
   "execution_count": 17,
   "id": "romantic-pearl",
   "metadata": {},
   "outputs": [],
   "source": [
    "# compile model\n",
    "custom_optimizer = tf.keras.optimizers.SGD(learning_rate=0.1)\n",
    "model.compile(optimizer=custom_optimizer, loss=\"mse\")"
   ]
  },
  {
   "cell_type": "code",
   "execution_count": 18,
   "id": "south-allocation",
   "metadata": {},
   "outputs": [
    {
     "name": "stdout",
     "output_type": "stream",
     "text": [
      "Epoch 1/100\n",
      "110/110 [==============================] - 1s 1ms/step - loss: 0.0436\n",
      "Epoch 2/100\n",
      "110/110 [==============================] - 0s 1ms/step - loss: 0.0435\n",
      "Epoch 3/100\n",
      "110/110 [==============================] - 0s 1ms/step - loss: 0.0433\n",
      "Epoch 4/100\n",
      "110/110 [==============================] - 0s 1ms/step - loss: 0.0436\n",
      "Epoch 5/100\n",
      "110/110 [==============================] - 0s 3ms/step - loss: 0.0416\n",
      "Epoch 6/100\n",
      "110/110 [==============================] - 0s 3ms/step - loss: 0.0405\n",
      "Epoch 7/100\n",
      "110/110 [==============================] - 0s 3ms/step - loss: 0.0417\n",
      "Epoch 8/100\n",
      "110/110 [==============================] - 0s 3ms/step - loss: 0.0405\n",
      "Epoch 9/100\n",
      "110/110 [==============================] - 0s 3ms/step - loss: 0.0403\n",
      "Epoch 10/100\n",
      "110/110 [==============================] - 0s 3ms/step - loss: 0.0409\n",
      "Epoch 11/100\n",
      "110/110 [==============================] - 0s 3ms/step - loss: 0.0417\n",
      "Epoch 12/100\n",
      "110/110 [==============================] - 0s 3ms/step - loss: 0.0399\n",
      "Epoch 13/100\n",
      "110/110 [==============================] - 0s 3ms/step - loss: 0.0402\n",
      "Epoch 14/100\n",
      "110/110 [==============================] - 0s 3ms/step - loss: 0.0404\n",
      "Epoch 15/100\n",
      "110/110 [==============================] - 0s 3ms/step - loss: 0.0385\n",
      "Epoch 16/100\n",
      "110/110 [==============================] - 0s 3ms/step - loss: 0.0382\n",
      "Epoch 17/100\n",
      "110/110 [==============================] - 0s 3ms/step - loss: 0.0375\n",
      "Epoch 18/100\n",
      "110/110 [==============================] - 0s 3ms/step - loss: 0.0390\n",
      "Epoch 19/100\n",
      "110/110 [==============================] - 0s 3ms/step - loss: 0.0385\n",
      "Epoch 20/100\n",
      "110/110 [==============================] - 0s 3ms/step - loss: 0.0380\n",
      "Epoch 21/100\n",
      "110/110 [==============================] - 0s 3ms/step - loss: 0.0360\n",
      "Epoch 22/100\n",
      "110/110 [==============================] - 0s 3ms/step - loss: 0.0359\n",
      "Epoch 23/100\n",
      "110/110 [==============================] - 0s 3ms/step - loss: 0.0362\n",
      "Epoch 24/100\n",
      "110/110 [==============================] - 0s 3ms/step - loss: 0.0366\n",
      "Epoch 25/100\n",
      "110/110 [==============================] - 0s 3ms/step - loss: 0.0350\n",
      "Epoch 26/100\n",
      "110/110 [==============================] - 0s 3ms/step - loss: 0.0347\n",
      "Epoch 27/100\n",
      "110/110 [==============================] - 0s 3ms/step - loss: 0.0335\n",
      "Epoch 28/100\n",
      "110/110 [==============================] - 0s 3ms/step - loss: 0.0347\n",
      "Epoch 29/100\n",
      "110/110 [==============================] - 0s 3ms/step - loss: 0.0333\n",
      "Epoch 30/100\n",
      "110/110 [==============================] - 0s 3ms/step - loss: 0.0328\n",
      "Epoch 31/100\n",
      "110/110 [==============================] - 0s 3ms/step - loss: 0.0305\n",
      "Epoch 32/100\n",
      "110/110 [==============================] - 0s 3ms/step - loss: 0.0304\n",
      "Epoch 33/100\n",
      "110/110 [==============================] - 0s 3ms/step - loss: 0.0301\n",
      "Epoch 34/100\n",
      "110/110 [==============================] - 0s 3ms/step - loss: 0.0292\n",
      "Epoch 35/100\n",
      "110/110 [==============================] - 0s 3ms/step - loss: 0.0279\n",
      "Epoch 36/100\n",
      "110/110 [==============================] - 0s 3ms/step - loss: 0.0280\n",
      "Epoch 37/100\n",
      "110/110 [==============================] - 0s 3ms/step - loss: 0.0274\n",
      "Epoch 38/100\n",
      "110/110 [==============================] - 0s 3ms/step - loss: 0.0262\n",
      "Epoch 39/100\n",
      "110/110 [==============================] - 0s 3ms/step - loss: 0.0254\n",
      "Epoch 40/100\n",
      "110/110 [==============================] - 0s 3ms/step - loss: 0.0245\n",
      "Epoch 41/100\n",
      "110/110 [==============================] - 0s 3ms/step - loss: 0.0236\n",
      "Epoch 42/100\n",
      "110/110 [==============================] - 0s 3ms/step - loss: 0.0226\n",
      "Epoch 43/100\n",
      "110/110 [==============================] - 0s 3ms/step - loss: 0.0218\n",
      "Epoch 44/100\n",
      "110/110 [==============================] - 0s 3ms/step - loss: 0.0214\n",
      "Epoch 45/100\n",
      "110/110 [==============================] - 0s 3ms/step - loss: 0.0206\n",
      "Epoch 46/100\n",
      "110/110 [==============================] - 0s 3ms/step - loss: 0.0197\n",
      "Epoch 47/100\n",
      "110/110 [==============================] - 0s 3ms/step - loss: 0.0181\n",
      "Epoch 48/100\n",
      "110/110 [==============================] - 0s 2ms/step - loss: 0.0176\n",
      "Epoch 49/100\n",
      "110/110 [==============================] - 0s 2ms/step - loss: 0.0169\n",
      "Epoch 50/100\n",
      "110/110 [==============================] - 0s 2ms/step - loss: 0.0161\n",
      "Epoch 51/100\n",
      "110/110 [==============================] - 0s 1ms/step - loss: 0.0149\n",
      "Epoch 52/100\n",
      "110/110 [==============================] - 0s 1ms/step - loss: 0.0148\n",
      "Epoch 53/100\n",
      "110/110 [==============================] - 0s 1ms/step - loss: 0.0144\n",
      "Epoch 54/100\n",
      "110/110 [==============================] - 0s 1ms/step - loss: 0.0133\n",
      "Epoch 55/100\n",
      "110/110 [==============================] - 0s 2ms/step - loss: 0.0121\n",
      "Epoch 56/100\n",
      "110/110 [==============================] - 0s 2ms/step - loss: 0.0113\n",
      "Epoch 57/100\n",
      "110/110 [==============================] - 0s 2ms/step - loss: 0.0108\n",
      "Epoch 58/100\n",
      "110/110 [==============================] - 0s 2ms/step - loss: 0.0101\n",
      "Epoch 59/100\n",
      "110/110 [==============================] - 0s 1ms/step - loss: 0.0097\n",
      "Epoch 60/100\n",
      "110/110 [==============================] - 0s 1ms/step - loss: 0.0091\n",
      "Epoch 61/100\n",
      "110/110 [==============================] - 0s 1ms/step - loss: 0.0085\n",
      "Epoch 62/100\n",
      "110/110 [==============================] - 0s 1ms/step - loss: 0.0080\n",
      "Epoch 63/100\n",
      "110/110 [==============================] - 0s 2ms/step - loss: 0.0075\n",
      "Epoch 64/100\n",
      "110/110 [==============================] - 0s 2ms/step - loss: 0.0069\n",
      "Epoch 65/100\n",
      "110/110 [==============================] - 0s 2ms/step - loss: 0.0066\n",
      "Epoch 66/100\n",
      "110/110 [==============================] - 0s 4ms/step - loss: 0.0059\n",
      "Epoch 67/100\n",
      "110/110 [==============================] - 0s 4ms/step - loss: 0.0056\n",
      "Epoch 68/100\n",
      "110/110 [==============================] - 0s 3ms/step - loss: 0.0053\n",
      "Epoch 69/100\n",
      "110/110 [==============================] - 0s 3ms/step - loss: 0.0050\n",
      "Epoch 70/100\n",
      "110/110 [==============================] - 0s 3ms/step - loss: 0.0046\n",
      "Epoch 71/100\n",
      "110/110 [==============================] - 0s 3ms/step - loss: 0.0044\n",
      "Epoch 72/100\n",
      "110/110 [==============================] - 0s 3ms/step - loss: 0.0040\n",
      "Epoch 73/100\n",
      "110/110 [==============================] - 0s 3ms/step - loss: 0.0037\n",
      "Epoch 74/100\n",
      "110/110 [==============================] - 0s 3ms/step - loss: 0.0035\n",
      "Epoch 75/100\n",
      "110/110 [==============================] - 0s 3ms/step - loss: 0.0033\n",
      "Epoch 76/100\n",
      "110/110 [==============================] - 0s 3ms/step - loss: 0.0033\n",
      "Epoch 77/100\n",
      "110/110 [==============================] - 0s 3ms/step - loss: 0.0030\n",
      "Epoch 78/100\n",
      "110/110 [==============================] - 0s 3ms/step - loss: 0.0028\n",
      "Epoch 79/100\n",
      "110/110 [==============================] - 0s 3ms/step - loss: 0.0025\n",
      "Epoch 80/100\n",
      "110/110 [==============================] - 0s 3ms/step - loss: 0.0024\n",
      "Epoch 81/100\n",
      "110/110 [==============================] - 0s 3ms/step - loss: 0.0022\n",
      "Epoch 82/100\n",
      "110/110 [==============================] - 0s 3ms/step - loss: 0.0021\n",
      "Epoch 83/100\n",
      "110/110 [==============================] - 0s 3ms/step - loss: 0.0020\n",
      "Epoch 84/100\n",
      "110/110 [==============================] - 0s 3ms/step - loss: 0.0019\n",
      "Epoch 85/100\n",
      "110/110 [==============================] - 0s 3ms/step - loss: 0.0018\n",
      "Epoch 86/100\n",
      "110/110 [==============================] - 0s 3ms/step - loss: 0.0017\n",
      "Epoch 87/100\n",
      "110/110 [==============================] - 0s 3ms/step - loss: 0.0015\n",
      "Epoch 88/100\n",
      "110/110 [==============================] - 0s 3ms/step - loss: 0.0015\n",
      "Epoch 89/100\n",
      "110/110 [==============================] - 0s 3ms/step - loss: 0.0014\n",
      "Epoch 90/100\n",
      "110/110 [==============================] - 0s 3ms/step - loss: 0.0013\n",
      "Epoch 91/100\n",
      "110/110 [==============================] - 0s 3ms/step - loss: 0.0013\n",
      "Epoch 92/100\n",
      "110/110 [==============================] - 0s 3ms/step - loss: 0.0012\n",
      "Epoch 93/100\n",
      "110/110 [==============================] - 0s 3ms/step - loss: 0.0011\n",
      "Epoch 94/100\n",
      "110/110 [==============================] - 0s 3ms/step - loss: 0.0010\n",
      "Epoch 95/100\n",
      "110/110 [==============================] - 0s 3ms/step - loss: 0.0010\n",
      "Epoch 96/100\n",
      "110/110 [==============================] - 0s 3ms/step - loss: 9.1924e-04\n",
      "Epoch 97/100\n",
      "110/110 [==============================] - 0s 3ms/step - loss: 8.9892e-04\n",
      "Epoch 98/100\n",
      "110/110 [==============================] - 0s 3ms/step - loss: 8.2645e-04\n",
      "Epoch 99/100\n"
     ]
    },
    {
     "name": "stdout",
     "output_type": "stream",
     "text": [
      "110/110 [==============================] - 0s 3ms/step - loss: 8.3640e-04\n",
      "Epoch 100/100\n",
      "110/110 [==============================] - 0s 3ms/step - loss: 8.0936e-04\n"
     ]
    },
    {
     "data": {
      "text/plain": [
       "<tensorflow.python.keras.callbacks.History at 0x252baa0fa90>"
      ]
     },
     "execution_count": 18,
     "metadata": {},
     "output_type": "execute_result"
    }
   ],
   "source": [
    "# train model\n",
    "model.fit(X_train, y_train, epochs=100);"
   ]
  },
  {
   "cell_type": "code",
   "execution_count": 19,
   "id": "macro-recipient",
   "metadata": {},
   "outputs": [
    {
     "name": "stdout",
     "output_type": "stream",
     "text": [
      "\n",
      "Model evaluation: \n",
      "47/47 [==============================] - 1s 3ms/step - loss: 8.6117e-04\n"
     ]
    },
    {
     "data": {
      "text/plain": [
       "0.0008611702942289412"
      ]
     },
     "execution_count": 19,
     "metadata": {},
     "output_type": "execute_result"
    }
   ],
   "source": [
    "# evaluate model\n",
    "print(\"\\nModel evaluation: \")\n",
    "model.evaluate(X_test, y_test, verbose=1)"
   ]
  },
  {
   "cell_type": "code",
   "execution_count": 20,
   "id": "juvenile-actor",
   "metadata": {},
   "outputs": [
    {
     "name": "stdout",
     "output_type": "stream",
     "text": [
      "\n",
      "Predictions: \n",
      "0.1 + 0.2 = 0.30870458483695984\n",
      "0.2 + 0.25 = 0.4534066915512085\n"
     ]
    }
   ],
   "source": [
    "# make predictions\n",
    "data = np.array([[0.1, 0.2], [0.2, 0.25]])\n",
    "predictions = model.predict(data)\n",
    "\n",
    "# print predictions\n",
    "print(\"\\nPredictions: \")\n",
    "for d, p in zip(data, predictions):\n",
    "    print(\"{} + {} = {}\".format(d[0], d[1], p[0]))"
   ]
  }
 ],
 "metadata": {
  "kernelspec": {
   "display_name": "Python 3",
   "language": "python",
   "name": "python3"
  },
  "language_info": {
   "codemirror_mode": {
    "name": "ipython",
    "version": 3
   },
   "file_extension": ".py",
   "mimetype": "text/x-python",
   "name": "python",
   "nbconvert_exporter": "python",
   "pygments_lexer": "ipython3",
   "version": "3.8.8"
  }
 },
 "nbformat": 4,
 "nbformat_minor": 5
}
