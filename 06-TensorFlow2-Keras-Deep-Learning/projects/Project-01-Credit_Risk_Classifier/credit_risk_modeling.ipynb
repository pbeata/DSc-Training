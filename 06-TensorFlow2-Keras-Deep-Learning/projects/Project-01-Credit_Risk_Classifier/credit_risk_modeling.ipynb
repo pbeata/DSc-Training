{
 "cells": [
  {
   "cell_type": "markdown",
   "id": "worldwide-richardson",
   "metadata": {},
   "source": [
    "# Credit Risk Classifier - Neural Networks\n",
    "\n",
    "----\n",
    "\n",
    "### The Data\n",
    "\n",
    "We will be using a subset of the LendingClub data set obtained from Kaggle. The original dataset can be found at: https://www.kaggle.com/wordsforthewise/lending-club. The \"loan_status\" column contains our label (or classes used for the classification task). **NOTE: We are working with a special version of this data set that has some extra feature engineering requirements.**\n",
    "\n",
    "### Background\n",
    "\n",
    "LendingClub is a US peer-to-peer lending company, headquartered in San Francisco, California. It was the first peer-to-peer lender to register its offerings as securities with the Securities and Exchange Commission (SEC), and to offer loan trading on a secondary market. LendingClub is the world's largest peer-to-peer lending platform.\n",
    "\n",
    "### Project Goal\n",
    "\n",
    "Given historical data on loans given out with information on whether or not the borrower defaulted (charge-off), can we build a model that can predict wether or nor a borrower will pay back their loan? This way in the future when we get a new potential customer we can assess whether or not they are likely to pay back the loan. We will use typical classification metrics when evaluating the performance of our model.\n",
    "\n",
    "----"
   ]
  },
  {
   "cell_type": "code",
   "execution_count": 1,
   "id": "pleasant-recipe",
   "metadata": {},
   "outputs": [],
   "source": [
    "# load all the libraries and packages used in this notebook\n",
    "import numpy as np\n",
    "import pandas as pd\n",
    "import seaborn as sns\n",
    "import matplotlib.pyplot as plt\n",
    "\n",
    "# configure user settings\n",
    "%config Completer.use_jedi = False"
   ]
  },
  {
   "cell_type": "code",
   "execution_count": 73,
   "id": "forbidden-finish",
   "metadata": {},
   "outputs": [],
   "source": [
    "# load specific functions\n",
    "from sklearn.model_selection import train_test_split\n",
    "from sklearn.preprocessing import StandardScaler, MinMaxScaler\n",
    "from sklearn.metrics import classification_report, confusion_matrix, plot_confusion_matrix\n",
    "\n",
    "from tensorflow.keras.models import Sequential\n",
    "from tensorflow.keras.layers import Dense, Dropout\n",
    "from tensorflow.keras.callbacks import EarlyStopping\n",
    "\n",
    "import random"
   ]
  },
  {
   "cell_type": "markdown",
   "id": "going-intelligence",
   "metadata": {},
   "source": [
    "### Load the Pre-processed Data Set"
   ]
  },
  {
   "cell_type": "code",
   "execution_count": 19,
   "id": "biological-trick",
   "metadata": {},
   "outputs": [],
   "source": [
    "# df = pd.read_csv('./data/lending_club_clean_dummies.csv')\n",
    "# df = pd.read_csv('./data/lending_club_clean_dummies_balanced.csv')\n",
    "df = pd.read_csv('./data/lending_club_course.csv')"
   ]
  },
  {
   "cell_type": "code",
   "execution_count": 20,
   "id": "freelance-dryer",
   "metadata": {},
   "outputs": [
    {
     "name": "stdout",
     "output_type": "stream",
     "text": [
      "<class 'pandas.core.frame.DataFrame'>\n",
      "RangeIndex: 395219 entries, 0 to 395218\n",
      "Data columns (total 79 columns):\n",
      " #   Column                               Non-Null Count   Dtype  \n",
      "---  ------                               --------------   -----  \n",
      " 0   loan_amnt                            395219 non-null  float64\n",
      " 1   term                                 395219 non-null  int64  \n",
      " 2   int_rate                             395219 non-null  float64\n",
      " 3   installment                          395219 non-null  float64\n",
      " 4   annual_inc                           395219 non-null  float64\n",
      " 5   dti                                  395219 non-null  float64\n",
      " 6   earliest_cr_line                     395219 non-null  int64  \n",
      " 7   open_acc                             395219 non-null  float64\n",
      " 8   pub_rec                              395219 non-null  float64\n",
      " 9   revol_bal                            395219 non-null  float64\n",
      " 10  revol_util                           395219 non-null  float64\n",
      " 11  total_acc                            395219 non-null  float64\n",
      " 12  mort_acc                             395219 non-null  float64\n",
      " 13  pub_rec_bankruptcies                 395219 non-null  float64\n",
      " 14  loan_repaid                          395219 non-null  int64  \n",
      " 15  A2                                   395219 non-null  int64  \n",
      " 16  A3                                   395219 non-null  int64  \n",
      " 17  A4                                   395219 non-null  int64  \n",
      " 18  A5                                   395219 non-null  int64  \n",
      " 19  B1                                   395219 non-null  int64  \n",
      " 20  B2                                   395219 non-null  int64  \n",
      " 21  B3                                   395219 non-null  int64  \n",
      " 22  B4                                   395219 non-null  int64  \n",
      " 23  B5                                   395219 non-null  int64  \n",
      " 24  C1                                   395219 non-null  int64  \n",
      " 25  C2                                   395219 non-null  int64  \n",
      " 26  C3                                   395219 non-null  int64  \n",
      " 27  C4                                   395219 non-null  int64  \n",
      " 28  C5                                   395219 non-null  int64  \n",
      " 29  D1                                   395219 non-null  int64  \n",
      " 30  D2                                   395219 non-null  int64  \n",
      " 31  D3                                   395219 non-null  int64  \n",
      " 32  D4                                   395219 non-null  int64  \n",
      " 33  D5                                   395219 non-null  int64  \n",
      " 34  E1                                   395219 non-null  int64  \n",
      " 35  E2                                   395219 non-null  int64  \n",
      " 36  E3                                   395219 non-null  int64  \n",
      " 37  E4                                   395219 non-null  int64  \n",
      " 38  E5                                   395219 non-null  int64  \n",
      " 39  F1                                   395219 non-null  int64  \n",
      " 40  F2                                   395219 non-null  int64  \n",
      " 41  F3                                   395219 non-null  int64  \n",
      " 42  F4                                   395219 non-null  int64  \n",
      " 43  F5                                   395219 non-null  int64  \n",
      " 44  G1                                   395219 non-null  int64  \n",
      " 45  G2                                   395219 non-null  int64  \n",
      " 46  G3                                   395219 non-null  int64  \n",
      " 47  G4                                   395219 non-null  int64  \n",
      " 48  G5                                   395219 non-null  int64  \n",
      " 49  verification_status_Source Verified  395219 non-null  int64  \n",
      " 50  verification_status_Verified         395219 non-null  int64  \n",
      " 51  application_type_INDIVIDUAL          395219 non-null  int64  \n",
      " 52  application_type_JOINT               395219 non-null  int64  \n",
      " 53  initial_list_status_w                395219 non-null  int64  \n",
      " 54  purpose_credit_card                  395219 non-null  int64  \n",
      " 55  purpose_debt_consolidation           395219 non-null  int64  \n",
      " 56  purpose_educational                  395219 non-null  int64  \n",
      " 57  purpose_home_improvement             395219 non-null  int64  \n",
      " 58  purpose_house                        395219 non-null  int64  \n",
      " 59  purpose_major_purchase               395219 non-null  int64  \n",
      " 60  purpose_medical                      395219 non-null  int64  \n",
      " 61  purpose_moving                       395219 non-null  int64  \n",
      " 62  purpose_other                        395219 non-null  int64  \n",
      " 63  purpose_renewable_energy             395219 non-null  int64  \n",
      " 64  purpose_small_business               395219 non-null  int64  \n",
      " 65  purpose_vacation                     395219 non-null  int64  \n",
      " 66  purpose_wedding                      395219 non-null  int64  \n",
      " 67  OTHER                                395219 non-null  int64  \n",
      " 68  OWN                                  395219 non-null  int64  \n",
      " 69  RENT                                 395219 non-null  int64  \n",
      " 70  05113                                395219 non-null  int64  \n",
      " 71  11650                                395219 non-null  int64  \n",
      " 72  22690                                395219 non-null  int64  \n",
      " 73  29597                                395219 non-null  int64  \n",
      " 74  30723                                395219 non-null  int64  \n",
      " 75  48052                                395219 non-null  int64  \n",
      " 76  70466                                395219 non-null  int64  \n",
      " 77  86630                                395219 non-null  int64  \n",
      " 78  93700                                395219 non-null  int64  \n",
      "dtypes: float64(12), int64(67)\n",
      "memory usage: 238.2 MB\n"
     ]
    }
   ],
   "source": [
    "df.info()"
   ]
  },
  {
   "cell_type": "markdown",
   "id": "breathing-grounds",
   "metadata": {},
   "source": [
    "### Balancing the Output Labels"
   ]
  },
  {
   "cell_type": "code",
   "execution_count": 23,
   "id": "burning-nevada",
   "metadata": {},
   "outputs": [
    {
     "data": {
      "image/png": "[encoded data removed]",
      "text/plain": [
       "<Figure size 432x288 with 1 Axes>"
      ]
     },
     "metadata": {
      "needs_background": "light"
     },
     "output_type": "display_data"
    }
   ],
   "source": [
    "# we have more instances of loans being fully paid than being charged off\n",
    "sns.countplot(data=df, x='loan_repaid');"
   ]
  },
  {
   "cell_type": "code",
   "execution_count": 24,
   "id": "passive-richmond",
   "metadata": {},
   "outputs": [],
   "source": [
    "df_paid = df[ df['loan_repaid'] == 1 ]\n",
    "df_default = df[ df['loan_repaid'] == 0 ]"
   ]
  },
  {
   "cell_type": "code",
   "execution_count": 25,
   "id": "controlled-bernard",
   "metadata": {},
   "outputs": [
    {
     "data": {
      "text/plain": [
       "77523"
      ]
     },
     "execution_count": 25,
     "metadata": {},
     "output_type": "execute_result"
    }
   ],
   "source": [
    "n_default = len(df_default)\n",
    "n_default"
   ]
  },
  {
   "cell_type": "code",
   "execution_count": 26,
   "id": "similar-secondary",
   "metadata": {},
   "outputs": [
    {
     "data": {
      "text/plain": [
       "77523"
      ]
     },
     "execution_count": 26,
     "metadata": {},
     "output_type": "execute_result"
    }
   ],
   "source": [
    "df_sample = df_paid.sample(n=n_default, random_state=101)\n",
    "len(df_sample)"
   ]
  },
  {
   "cell_type": "code",
   "execution_count": 28,
   "id": "exciting-passport",
   "metadata": {},
   "outputs": [
    {
     "data": {
      "text/html": [
       "<div>\n",
       "<style scoped>\n",
       "    .dataframe tbody tr th:only-of-type {\n",
       "        vertical-align: middle;\n",
       "    }\n",
       "\n",
       "    .dataframe tbody tr th {\n",
       "        vertical-align: top;\n",
       "    }\n",
       "\n",
       "    .dataframe thead th {\n",
       "        text-align: right;\n",
       "    }\n",
       "</style>\n",
       "<table border=\"1\" class=\"dataframe\">\n",
       "  <thead>\n",
       "    <tr style=\"text-align: right;\">\n",
       "      <th></th>\n",
       "      <th>loan_amnt</th>\n",
       "      <th>term</th>\n",
       "      <th>int_rate</th>\n",
       "      <th>installment</th>\n",
       "      <th>annual_inc</th>\n",
       "      <th>dti</th>\n",
       "      <th>earliest_cr_line</th>\n",
       "      <th>open_acc</th>\n",
       "      <th>pub_rec</th>\n",
       "      <th>revol_bal</th>\n",
       "      <th>...</th>\n",
       "      <th>RENT</th>\n",
       "      <th>05113</th>\n",
       "      <th>11650</th>\n",
       "      <th>22690</th>\n",
       "      <th>29597</th>\n",
       "      <th>30723</th>\n",
       "      <th>48052</th>\n",
       "      <th>70466</th>\n",
       "      <th>86630</th>\n",
       "      <th>93700</th>\n",
       "    </tr>\n",
       "  </thead>\n",
       "  <tbody>\n",
       "    <tr>\n",
       "      <th>0</th>\n",
       "      <td>12000.0</td>\n",
       "      <td>60</td>\n",
       "      <td>17.57</td>\n",
       "      <td>301.93</td>\n",
       "      <td>60000.0</td>\n",
       "      <td>8.82</td>\n",
       "      <td>1999</td>\n",
       "      <td>10.0</td>\n",
       "      <td>1.0</td>\n",
       "      <td>6422.0</td>\n",
       "      <td>...</td>\n",
       "      <td>1</td>\n",
       "      <td>0</td>\n",
       "      <td>0</td>\n",
       "      <td>0</td>\n",
       "      <td>0</td>\n",
       "      <td>0</td>\n",
       "      <td>0</td>\n",
       "      <td>1</td>\n",
       "      <td>0</td>\n",
       "      <td>0</td>\n",
       "    </tr>\n",
       "    <tr>\n",
       "      <th>1</th>\n",
       "      <td>20000.0</td>\n",
       "      <td>36</td>\n",
       "      <td>7.69</td>\n",
       "      <td>623.88</td>\n",
       "      <td>90000.0</td>\n",
       "      <td>11.31</td>\n",
       "      <td>1965</td>\n",
       "      <td>14.0</td>\n",
       "      <td>0.0</td>\n",
       "      <td>37464.0</td>\n",
       "      <td>...</td>\n",
       "      <td>0</td>\n",
       "      <td>0</td>\n",
       "      <td>0</td>\n",
       "      <td>0</td>\n",
       "      <td>0</td>\n",
       "      <td>0</td>\n",
       "      <td>0</td>\n",
       "      <td>1</td>\n",
       "      <td>0</td>\n",
       "      <td>0</td>\n",
       "    </tr>\n",
       "    <tr>\n",
       "      <th>2</th>\n",
       "      <td>13000.0</td>\n",
       "      <td>36</td>\n",
       "      <td>11.67</td>\n",
       "      <td>429.74</td>\n",
       "      <td>54312.0</td>\n",
       "      <td>33.19</td>\n",
       "      <td>2003</td>\n",
       "      <td>15.0</td>\n",
       "      <td>0.0</td>\n",
       "      <td>9697.0</td>\n",
       "      <td>...</td>\n",
       "      <td>0</td>\n",
       "      <td>1</td>\n",
       "      <td>0</td>\n",
       "      <td>0</td>\n",
       "      <td>0</td>\n",
       "      <td>0</td>\n",
       "      <td>0</td>\n",
       "      <td>0</td>\n",
       "      <td>0</td>\n",
       "      <td>0</td>\n",
       "    </tr>\n",
       "    <tr>\n",
       "      <th>3</th>\n",
       "      <td>12000.0</td>\n",
       "      <td>36</td>\n",
       "      <td>16.99</td>\n",
       "      <td>427.78</td>\n",
       "      <td>60000.0</td>\n",
       "      <td>24.46</td>\n",
       "      <td>2001</td>\n",
       "      <td>11.0</td>\n",
       "      <td>0.0</td>\n",
       "      <td>19564.0</td>\n",
       "      <td>...</td>\n",
       "      <td>0</td>\n",
       "      <td>0</td>\n",
       "      <td>0</td>\n",
       "      <td>0</td>\n",
       "      <td>0</td>\n",
       "      <td>1</td>\n",
       "      <td>0</td>\n",
       "      <td>0</td>\n",
       "      <td>0</td>\n",
       "      <td>0</td>\n",
       "    </tr>\n",
       "    <tr>\n",
       "      <th>4</th>\n",
       "      <td>32000.0</td>\n",
       "      <td>36</td>\n",
       "      <td>11.67</td>\n",
       "      <td>1057.83</td>\n",
       "      <td>144000.0</td>\n",
       "      <td>19.49</td>\n",
       "      <td>1976</td>\n",
       "      <td>14.0</td>\n",
       "      <td>0.0</td>\n",
       "      <td>41069.0</td>\n",
       "      <td>...</td>\n",
       "      <td>1</td>\n",
       "      <td>0</td>\n",
       "      <td>0</td>\n",
       "      <td>1</td>\n",
       "      <td>0</td>\n",
       "      <td>0</td>\n",
       "      <td>0</td>\n",
       "      <td>0</td>\n",
       "      <td>0</td>\n",
       "      <td>0</td>\n",
       "    </tr>\n",
       "    <tr>\n",
       "      <th>...</th>\n",
       "      <td>...</td>\n",
       "      <td>...</td>\n",
       "      <td>...</td>\n",
       "      <td>...</td>\n",
       "      <td>...</td>\n",
       "      <td>...</td>\n",
       "      <td>...</td>\n",
       "      <td>...</td>\n",
       "      <td>...</td>\n",
       "      <td>...</td>\n",
       "      <td>...</td>\n",
       "      <td>...</td>\n",
       "      <td>...</td>\n",
       "      <td>...</td>\n",
       "      <td>...</td>\n",
       "      <td>...</td>\n",
       "      <td>...</td>\n",
       "      <td>...</td>\n",
       "      <td>...</td>\n",
       "      <td>...</td>\n",
       "      <td>...</td>\n",
       "    </tr>\n",
       "    <tr>\n",
       "      <th>155041</th>\n",
       "      <td>35000.0</td>\n",
       "      <td>36</td>\n",
       "      <td>12.12</td>\n",
       "      <td>1164.51</td>\n",
       "      <td>167200.0</td>\n",
       "      <td>19.90</td>\n",
       "      <td>1969</td>\n",
       "      <td>18.0</td>\n",
       "      <td>0.0</td>\n",
       "      <td>24288.0</td>\n",
       "      <td>...</td>\n",
       "      <td>0</td>\n",
       "      <td>0</td>\n",
       "      <td>0</td>\n",
       "      <td>0</td>\n",
       "      <td>1</td>\n",
       "      <td>0</td>\n",
       "      <td>0</td>\n",
       "      <td>0</td>\n",
       "      <td>0</td>\n",
       "      <td>0</td>\n",
       "    </tr>\n",
       "    <tr>\n",
       "      <th>155042</th>\n",
       "      <td>18000.0</td>\n",
       "      <td>36</td>\n",
       "      <td>11.99</td>\n",
       "      <td>597.78</td>\n",
       "      <td>165000.0</td>\n",
       "      <td>9.18</td>\n",
       "      <td>2001</td>\n",
       "      <td>11.0</td>\n",
       "      <td>0.0</td>\n",
       "      <td>46648.0</td>\n",
       "      <td>...</td>\n",
       "      <td>0</td>\n",
       "      <td>0</td>\n",
       "      <td>0</td>\n",
       "      <td>1</td>\n",
       "      <td>0</td>\n",
       "      <td>0</td>\n",
       "      <td>0</td>\n",
       "      <td>0</td>\n",
       "      <td>0</td>\n",
       "      <td>0</td>\n",
       "    </tr>\n",
       "    <tr>\n",
       "      <th>155043</th>\n",
       "      <td>20000.0</td>\n",
       "      <td>36</td>\n",
       "      <td>12.49</td>\n",
       "      <td>668.98</td>\n",
       "      <td>65000.0</td>\n",
       "      <td>24.45</td>\n",
       "      <td>1996</td>\n",
       "      <td>21.0</td>\n",
       "      <td>0.0</td>\n",
       "      <td>23008.0</td>\n",
       "      <td>...</td>\n",
       "      <td>0</td>\n",
       "      <td>0</td>\n",
       "      <td>0</td>\n",
       "      <td>0</td>\n",
       "      <td>0</td>\n",
       "      <td>0</td>\n",
       "      <td>0</td>\n",
       "      <td>1</td>\n",
       "      <td>0</td>\n",
       "      <td>0</td>\n",
       "    </tr>\n",
       "    <tr>\n",
       "      <th>155044</th>\n",
       "      <td>5800.0</td>\n",
       "      <td>36</td>\n",
       "      <td>13.11</td>\n",
       "      <td>195.74</td>\n",
       "      <td>20000.0</td>\n",
       "      <td>28.44</td>\n",
       "      <td>2003</td>\n",
       "      <td>12.0</td>\n",
       "      <td>0.0</td>\n",
       "      <td>10958.0</td>\n",
       "      <td>...</td>\n",
       "      <td>1</td>\n",
       "      <td>0</td>\n",
       "      <td>0</td>\n",
       "      <td>0</td>\n",
       "      <td>0</td>\n",
       "      <td>0</td>\n",
       "      <td>1</td>\n",
       "      <td>0</td>\n",
       "      <td>0</td>\n",
       "      <td>0</td>\n",
       "    </tr>\n",
       "    <tr>\n",
       "      <th>155045</th>\n",
       "      <td>12300.0</td>\n",
       "      <td>36</td>\n",
       "      <td>14.33</td>\n",
       "      <td>422.36</td>\n",
       "      <td>75000.0</td>\n",
       "      <td>18.38</td>\n",
       "      <td>1999</td>\n",
       "      <td>13.0</td>\n",
       "      <td>0.0</td>\n",
       "      <td>17236.0</td>\n",
       "      <td>...</td>\n",
       "      <td>1</td>\n",
       "      <td>0</td>\n",
       "      <td>0</td>\n",
       "      <td>0</td>\n",
       "      <td>0</td>\n",
       "      <td>1</td>\n",
       "      <td>0</td>\n",
       "      <td>0</td>\n",
       "      <td>0</td>\n",
       "      <td>0</td>\n",
       "    </tr>\n",
       "  </tbody>\n",
       "</table>\n",
       "<p>155046 rows × 79 columns</p>\n",
       "</div>"
      ],
      "text/plain": [
       "        loan_amnt  term  int_rate  installment  annual_inc    dti  \\\n",
       "0         12000.0    60     17.57       301.93     60000.0   8.82   \n",
       "1         20000.0    36      7.69       623.88     90000.0  11.31   \n",
       "2         13000.0    36     11.67       429.74     54312.0  33.19   \n",
       "3         12000.0    36     16.99       427.78     60000.0  24.46   \n",
       "4         32000.0    36     11.67      1057.83    144000.0  19.49   \n",
       "...           ...   ...       ...          ...         ...    ...   \n",
       "155041    35000.0    36     12.12      1164.51    167200.0  19.90   \n",
       "155042    18000.0    36     11.99       597.78    165000.0   9.18   \n",
       "155043    20000.0    36     12.49       668.98     65000.0  24.45   \n",
       "155044     5800.0    36     13.11       195.74     20000.0  28.44   \n",
       "155045    12300.0    36     14.33       422.36     75000.0  18.38   \n",
       "\n",
       "        earliest_cr_line  open_acc  pub_rec  revol_bal  ...  RENT  05113  \\\n",
       "0                   1999      10.0      1.0     6422.0  ...     1      0   \n",
       "1                   1965      14.0      0.0    37464.0  ...     0      0   \n",
       "2                   2003      15.0      0.0     9697.0  ...     0      1   \n",
       "3                   2001      11.0      0.0    19564.0  ...     0      0   \n",
       "4                   1976      14.0      0.0    41069.0  ...     1      0   \n",
       "...                  ...       ...      ...        ...  ...   ...    ...   \n",
       "155041              1969      18.0      0.0    24288.0  ...     0      0   \n",
       "155042              2001      11.0      0.0    46648.0  ...     0      0   \n",
       "155043              1996      21.0      0.0    23008.0  ...     0      0   \n",
       "155044              2003      12.0      0.0    10958.0  ...     1      0   \n",
       "155045              1999      13.0      0.0    17236.0  ...     1      0   \n",
       "\n",
       "        11650  22690  29597  30723  48052  70466  86630  93700  \n",
       "0           0      0      0      0      0      1      0      0  \n",
       "1           0      0      0      0      0      1      0      0  \n",
       "2           0      0      0      0      0      0      0      0  \n",
       "3           0      0      0      1      0      0      0      0  \n",
       "4           0      1      0      0      0      0      0      0  \n",
       "...       ...    ...    ...    ...    ...    ...    ...    ...  \n",
       "155041      0      0      1      0      0      0      0      0  \n",
       "155042      0      1      0      0      0      0      0      0  \n",
       "155043      0      0      0      0      0      1      0      0  \n",
       "155044      0      0      0      0      1      0      0      0  \n",
       "155045      0      0      0      1      0      0      0      0  \n",
       "\n",
       "[155046 rows x 79 columns]"
      ]
     },
     "execution_count": 28,
     "metadata": {},
     "output_type": "execute_result"
    }
   ],
   "source": [
    "df_bal = pd.concat([df_default, df_sample], axis=0)\n",
    "df_bal = df_bal.sample(frac=1, random_state=101)\n",
    "df_bal.reset_index(inplace=True, drop=True)\n",
    "df_bal"
   ]
  },
  {
   "cell_type": "code",
   "execution_count": 29,
   "id": "southwest-going",
   "metadata": {},
   "outputs": [
    {
     "data": {
      "text/plain": [
       "Index(['loan_amnt', 'term', 'int_rate', 'installment', 'annual_inc', 'dti',\n",
       "       'earliest_cr_line', 'open_acc', 'pub_rec', 'revol_bal', 'revol_util',\n",
       "       'total_acc', 'mort_acc', 'pub_rec_bankruptcies', 'loan_repaid', 'A2',\n",
       "       'A3', 'A4', 'A5', 'B1', 'B2', 'B3', 'B4', 'B5', 'C1', 'C2', 'C3', 'C4',\n",
       "       'C5', 'D1', 'D2', 'D3', 'D4', 'D5', 'E1', 'E2', 'E3', 'E4', 'E5', 'F1',\n",
       "       'F2', 'F3', 'F4', 'F5', 'G1', 'G2', 'G3', 'G4', 'G5',\n",
       "       'verification_status_Source Verified', 'verification_status_Verified',\n",
       "       'application_type_INDIVIDUAL', 'application_type_JOINT',\n",
       "       'initial_list_status_w', 'purpose_credit_card',\n",
       "       'purpose_debt_consolidation', 'purpose_educational',\n",
       "       'purpose_home_improvement', 'purpose_house', 'purpose_major_purchase',\n",
       "       'purpose_medical', 'purpose_moving', 'purpose_other',\n",
       "       'purpose_renewable_energy', 'purpose_small_business',\n",
       "       'purpose_vacation', 'purpose_wedding', 'OTHER', 'OWN', 'RENT', '05113',\n",
       "       '11650', '22690', '29597', '30723', '48052', '70466', '86630', '93700'],\n",
       "      dtype='object')"
      ]
     },
     "execution_count": 29,
     "metadata": {},
     "output_type": "execute_result"
    }
   ],
   "source": [
    "df_bal.columns"
   ]
  },
  {
   "cell_type": "code",
   "execution_count": 33,
   "id": "decimal-review",
   "metadata": {},
   "outputs": [
    {
     "data": {
      "image/png": "[encoded data removed]",
      "text/plain": [
       "<Figure size 2000x1600 with 1 Axes>"
      ]
     },
     "metadata": {
      "needs_background": "light"
     },
     "output_type": "display_data"
    }
   ],
   "source": [
    "plt.figure(figsize=(10,8), dpi=200)\n",
    "df_bal.corr()['loan_repaid'].sort_values()[:-1].plot(kind='bar')\n",
    "plt.xticks(rotation=90)\n",
    "plt.show()"
   ]
  },
  {
   "cell_type": "markdown",
   "id": "cardiac-passing",
   "metadata": {},
   "source": [
    "### Split the Data for Modeling"
   ]
  },
  {
   "cell_type": "code",
   "execution_count": 34,
   "id": "approximate-debate",
   "metadata": {},
   "outputs": [],
   "source": [
    "# X = df.drop('loan_status', axis=1)\n",
    "# y = df['loan_status'].map({'Fully Paid': 1, 'Charged Off': 0})\n",
    "\n",
    "X = df_bal.drop('loan_repaid', axis=1)\n",
    "y = df_bal['loan_repaid']"
   ]
  },
  {
   "cell_type": "code",
   "execution_count": 35,
   "id": "comparable-subscription",
   "metadata": {},
   "outputs": [
    {
     "data": {
      "text/plain": [
       "(155046, 78)"
      ]
     },
     "execution_count": 35,
     "metadata": {},
     "output_type": "execute_result"
    }
   ],
   "source": [
    "X.shape"
   ]
  },
  {
   "cell_type": "code",
   "execution_count": 36,
   "id": "proper-boutique",
   "metadata": {},
   "outputs": [
    {
     "data": {
      "text/plain": [
       "(155046,)"
      ]
     },
     "execution_count": 36,
     "metadata": {},
     "output_type": "execute_result"
    }
   ],
   "source": [
    "y.shape"
   ]
  },
  {
   "cell_type": "code",
   "execution_count": 37,
   "id": "approximate-imperial",
   "metadata": {},
   "outputs": [],
   "source": [
    "# train-validation-test split: 80-10-10\n",
    "\n",
    "# SPLIT #1\n",
    "X_train, X_temp, y_train, y_temp = train_test_split(X, y, test_size=0.10, random_state=101)\n",
    "\n",
    "# SPLIT #2\n",
    "X_valid, X_test, y_valid, y_test = train_test_split(X_temp, y_temp, test_size=0.50, random_state=101)"
   ]
  },
  {
   "cell_type": "code",
   "execution_count": 39,
   "id": "major-throw",
   "metadata": {},
   "outputs": [
    {
     "data": {
      "text/plain": [
       "(139541, 78)"
      ]
     },
     "execution_count": 39,
     "metadata": {},
     "output_type": "execute_result"
    }
   ],
   "source": [
    "X_train.shape"
   ]
  },
  {
   "cell_type": "code",
   "execution_count": 40,
   "id": "foster-helping",
   "metadata": {},
   "outputs": [
    {
     "data": {
      "text/plain": [
       "(7752, 78)"
      ]
     },
     "execution_count": 40,
     "metadata": {},
     "output_type": "execute_result"
    }
   ],
   "source": [
    "X_valid.shape"
   ]
  },
  {
   "cell_type": "code",
   "execution_count": 41,
   "id": "israeli-employee",
   "metadata": {},
   "outputs": [
    {
     "data": {
      "text/plain": [
       "(7753, 78)"
      ]
     },
     "execution_count": 41,
     "metadata": {},
     "output_type": "execute_result"
    }
   ],
   "source": [
    "X_test.shape"
   ]
  },
  {
   "cell_type": "markdown",
   "id": "connected-burton",
   "metadata": {},
   "source": [
    "### Scale the Input Data"
   ]
  },
  {
   "cell_type": "code",
   "execution_count": 42,
   "id": "innocent-express",
   "metadata": {},
   "outputs": [],
   "source": [
    "# OPTION 1: use the standard scaler\n",
    "scaler_1 = StandardScaler()\n",
    "X_train_1 = scaler_1.fit_transform(X_train)\n",
    "X_valid_1 = scaler_1.transform(X_valid)\n",
    "X_test_1 = scaler_1.transform(X_test)"
   ]
  },
  {
   "cell_type": "code",
   "execution_count": 43,
   "id": "grave-ethiopia",
   "metadata": {},
   "outputs": [],
   "source": [
    "# OPTION 1: use the min-max scaler\n",
    "scaler_2 = MinMaxScaler()\n",
    "X_train_2 = scaler_2.fit_transform(X_train)\n",
    "X_valid_2 = scaler_2.transform(X_valid)\n",
    "X_test_2 = scaler_2.transform(X_test)"
   ]
  },
  {
   "cell_type": "markdown",
   "id": "known-puzzle",
   "metadata": {},
   "source": [
    "### Model 1: Training\n",
    "\n",
    "* (put details about the model here)"
   ]
  },
  {
   "cell_type": "code",
   "execution_count": 54,
   "id": "respiratory-wyoming",
   "metadata": {},
   "outputs": [
    {
     "data": {
      "text/plain": [
       "78"
      ]
     },
     "execution_count": 54,
     "metadata": {},
     "output_type": "execute_result"
    }
   ],
   "source": [
    "input_shape = X_train_2.shape[1]\n",
    "input_shape"
   ]
  },
  {
   "cell_type": "code",
   "execution_count": 55,
   "id": "isolated-income",
   "metadata": {},
   "outputs": [],
   "source": [
    "# initialize model\n",
    "model_1 = Sequential()\n",
    "dropout_rate = 0.25\n",
    "\n",
    "# input layer\n",
    "model_1.add(Dense(input_shape, activation='relu'))\n",
    "model_1.add(Dropout(dropout_rate))\n",
    "\n",
    "# hidden layer(s)\n",
    "model_1.add(Dense(64, activation='relu'))\n",
    "model_1.add(Dropout(dropout_rate))\n",
    "model_1.add(Dense(64, activation='relu'))\n",
    "model_1.add(Dropout(dropout_rate))\n",
    "model_1.add(Dense(32, activation='relu'))\n",
    "model_1.add(Dropout(dropout_rate))\n",
    "model_1.add(Dense(32, activation='relu'))\n",
    "model_1.add(Dropout(dropout_rate))\n",
    "\n",
    "# output layer\n",
    "model_1.add(Dense(units=1, activation='sigmoid'))\n",
    "\n",
    "# compile model\n",
    "model_1.compile(loss='binary_crossentropy', optimizer='adam')"
   ]
  },
  {
   "cell_type": "code",
   "execution_count": 56,
   "id": "material-montgomery",
   "metadata": {},
   "outputs": [],
   "source": [
    "# choose min because we want to minimize the loss (or error); for accuracy, use max\n",
    "early_stop = EarlyStopping(monitor='val_loss', \n",
    "                           mode='min', \n",
    "                           verbose=2, \n",
    "                           patience=25)"
   ]
  },
  {
   "cell_type": "code",
   "execution_count": 57,
   "id": "basic-apollo",
   "metadata": {},
   "outputs": [
    {
     "name": "stdout",
     "output_type": "stream",
     "text": [
      "Epoch 1/512\n",
      "1091/1091 - 10s - loss: 0.4152 - val_loss: 0.3656\n",
      "Epoch 2/512\n",
      "1091/1091 - 8s - loss: 0.3674 - val_loss: 0.3658\n",
      "Epoch 3/512\n",
      "1091/1091 - 8s - loss: 0.3645 - val_loss: 0.3636\n",
      "Epoch 4/512\n",
      "1091/1091 - 7s - loss: 0.3631 - val_loss: 0.3638\n",
      "Epoch 5/512\n",
      "1091/1091 - 7s - loss: 0.3628 - val_loss: 0.3629\n",
      "Epoch 6/512\n",
      "1091/1091 - 8s - loss: 0.3614 - val_loss: 0.3619\n",
      "Epoch 7/512\n",
      "1091/1091 - 8s - loss: 0.3613 - val_loss: 0.3620\n",
      "Epoch 8/512\n",
      "1091/1091 - 8s - loss: 0.3603 - val_loss: 0.3622\n",
      "Epoch 9/512\n",
      "1091/1091 - 9s - loss: 0.3600 - val_loss: 0.3612\n",
      "Epoch 10/512\n",
      "1091/1091 - 8s - loss: 0.3595 - val_loss: 0.3600\n",
      "Epoch 11/512\n",
      "1091/1091 - 8s - loss: 0.3592 - val_loss: 0.3607\n",
      "Epoch 12/512\n",
      "1091/1091 - 7s - loss: 0.3592 - val_loss: 0.3615\n",
      "Epoch 13/512\n",
      "1091/1091 - 7s - loss: 0.3585 - val_loss: 0.3609\n",
      "Epoch 14/512\n",
      "1091/1091 - 7s - loss: 0.3582 - val_loss: 0.3612\n",
      "Epoch 15/512\n",
      "1091/1091 - 7s - loss: 0.3584 - val_loss: 0.3609\n",
      "Epoch 16/512\n",
      "1091/1091 - 7s - loss: 0.3573 - val_loss: 0.3602\n",
      "Epoch 17/512\n",
      "1091/1091 - 7s - loss: 0.3577 - val_loss: 0.3598\n",
      "Epoch 18/512\n",
      "1091/1091 - 8s - loss: 0.3578 - val_loss: 0.3605\n",
      "Epoch 19/512\n",
      "1091/1091 - 7s - loss: 0.3570 - val_loss: 0.3615\n",
      "Epoch 20/512\n",
      "1091/1091 - 7s - loss: 0.3571 - val_loss: 0.3606\n",
      "Epoch 21/512\n",
      "1091/1091 - 7s - loss: 0.3565 - val_loss: 0.3615\n",
      "Epoch 22/512\n",
      "1091/1091 - 8s - loss: 0.3564 - val_loss: 0.3612\n",
      "Epoch 23/512\n",
      "1091/1091 - 7s - loss: 0.3561 - val_loss: 0.3603\n",
      "Epoch 24/512\n",
      "1091/1091 - 7s - loss: 0.3558 - val_loss: 0.3622\n",
      "Epoch 25/512\n",
      "1091/1091 - 7s - loss: 0.3553 - val_loss: 0.3607\n",
      "Epoch 26/512\n",
      "1091/1091 - 7s - loss: 0.3553 - val_loss: 0.3614\n",
      "Epoch 27/512\n",
      "1091/1091 - 8s - loss: 0.3549 - val_loss: 0.3612\n",
      "Epoch 28/512\n",
      "1091/1091 - 7s - loss: 0.3550 - val_loss: 0.3607\n",
      "Epoch 29/512\n",
      "1091/1091 - 7s - loss: 0.3547 - val_loss: 0.3599\n",
      "Epoch 30/512\n",
      "1091/1091 - 7s - loss: 0.3547 - val_loss: 0.3599\n",
      "Epoch 31/512\n",
      "1091/1091 - 7s - loss: 0.3542 - val_loss: 0.3604\n",
      "Epoch 32/512\n",
      "1091/1091 - 7s - loss: 0.3538 - val_loss: 0.3598\n",
      "Epoch 33/512\n",
      "1091/1091 - 7s - loss: 0.3538 - val_loss: 0.3608\n",
      "Epoch 34/512\n",
      "1091/1091 - 8s - loss: 0.3532 - val_loss: 0.3603\n",
      "Epoch 35/512\n",
      "1091/1091 - 7s - loss: 0.3530 - val_loss: 0.3603\n",
      "Epoch 36/512\n",
      "1091/1091 - 7s - loss: 0.3529 - val_loss: 0.3616\n",
      "Epoch 37/512\n",
      "1091/1091 - 7s - loss: 0.3530 - val_loss: 0.3602\n",
      "Epoch 38/512\n",
      "1091/1091 - 7s - loss: 0.3530 - val_loss: 0.3607\n",
      "Epoch 39/512\n",
      "1091/1091 - 7s - loss: 0.3521 - val_loss: 0.3602\n",
      "Epoch 40/512\n",
      "1091/1091 - 7s - loss: 0.3519 - val_loss: 0.3618\n",
      "Epoch 41/512\n",
      "1091/1091 - 7s - loss: 0.3521 - val_loss: 0.3618\n",
      "Epoch 42/512\n",
      "1091/1091 - 7s - loss: 0.3522 - val_loss: 0.3627\n",
      "Epoch 43/512\n",
      "1091/1091 - 7s - loss: 0.3517 - val_loss: 0.3607\n",
      "Epoch 44/512\n",
      "1091/1091 - 7s - loss: 0.3521 - val_loss: 0.3618\n",
      "Epoch 45/512\n",
      "1091/1091 - 7s - loss: 0.3522 - val_loss: 0.3610\n",
      "Epoch 46/512\n",
      "1091/1091 - 7s - loss: 0.3515 - val_loss: 0.3598\n",
      "Epoch 47/512\n",
      "1091/1091 - 7s - loss: 0.3516 - val_loss: 0.3615\n",
      "Epoch 48/512\n",
      "1091/1091 - 7s - loss: 0.3509 - val_loss: 0.3607\n",
      "Epoch 49/512\n",
      "1091/1091 - 7s - loss: 0.3521 - val_loss: 0.3610\n",
      "Epoch 50/512\n",
      "1091/1091 - 8s - loss: 0.3507 - val_loss: 0.3606\n",
      "Epoch 51/512\n",
      "1091/1091 - 7s - loss: 0.3505 - val_loss: 0.3625\n",
      "Epoch 52/512\n",
      "1091/1091 - 7s - loss: 0.3500 - val_loss: 0.3617\n",
      "Epoch 53/512\n",
      "1091/1091 - 7s - loss: 0.3510 - val_loss: 0.3614\n",
      "Epoch 54/512\n",
      "1091/1091 - 7s - loss: 0.3509 - val_loss: 0.3599\n",
      "Epoch 55/512\n",
      "1091/1091 - 7s - loss: 0.3504 - val_loss: 0.3609\n",
      "Epoch 56/512\n",
      "1091/1091 - 7s - loss: 0.3501 - val_loss: 0.3615\n",
      "Epoch 57/512\n",
      "1091/1091 - 7s - loss: 0.3493 - val_loss: 0.3600\n",
      "Epoch 00057: early stopping\n"
     ]
    },
    {
     "data": {
      "text/plain": [
       "<tensorflow.python.keras.callbacks.History at 0x194a521b8e0>"
      ]
     },
     "execution_count": 57,
     "metadata": {},
     "output_type": "execute_result"
    }
   ],
   "source": [
    "# train the NN model\n",
    "model_1.fit(x=X_train_2, y=y_train,\n",
    "            epochs=512,\n",
    "            batch_size=128,\n",
    "            validation_data=(X_valid_2, y_valid),\n",
    "            callbacks=[early_stop],\n",
    "            verbose=2)"
   ]
  },
  {
   "cell_type": "code",
   "execution_count": 58,
   "id": "empty-consultancy",
   "metadata": {},
   "outputs": [
    {
     "data": {
      "image/png": "[encoded data removed]",
      "text/plain": [
       "<Figure size 432x288 with 1 Axes>"
      ]
     },
     "metadata": {
      "needs_background": "light"
     },
     "output_type": "display_data"
    }
   ],
   "source": [
    "# evaluate the loss for training and validation data\n",
    "losses_1 = pd.DataFrame(model_1.history.history)\n",
    "losses_1.plot()\n",
    "plt.show()"
   ]
  },
  {
   "cell_type": "markdown",
   "id": "general-naples",
   "metadata": {},
   "source": [
    "### Model 1: Evaluation"
   ]
  },
  {
   "cell_type": "code",
   "execution_count": 65,
   "id": "british-drink",
   "metadata": {},
   "outputs": [
    {
     "name": "stdout",
     "output_type": "stream",
     "text": [
      "              precision    recall  f1-score   support\n",
      "\n",
      "           0       0.79      0.81      0.80      3903\n",
      "           1       0.80      0.78      0.79      3850\n",
      "\n",
      "    accuracy                           0.80      7753\n",
      "   macro avg       0.80      0.80      0.80      7753\n",
      "weighted avg       0.80      0.80      0.80      7753\n",
      "\n"
     ]
    }
   ],
   "source": [
    "y_test_pred = (model_1.predict(X_test_2) > 0.5).astype('int32')\n",
    "print(classification_report(y_test, y_test_pred))"
   ]
  },
  {
   "cell_type": "code",
   "execution_count": 67,
   "id": "operational-slovakia",
   "metadata": {},
   "outputs": [
    {
     "name": "stdout",
     "output_type": "stream",
     "text": [
      "              precision    recall  f1-score   support\n",
      "\n",
      "           0       0.79      0.82      0.80      3868\n",
      "           1       0.81      0.78      0.80      3884\n",
      "\n",
      "    accuracy                           0.80      7752\n",
      "   macro avg       0.80      0.80      0.80      7752\n",
      "weighted avg       0.80      0.80      0.80      7752\n",
      "\n"
     ]
    }
   ],
   "source": [
    "y_valid_pred = (model_1.predict(X_valid_2) > 0.5).astype('int32')\n",
    "print(classification_report(y_valid, y_valid_pred))"
   ]
  },
  {
   "cell_type": "markdown",
   "id": "finished-worth",
   "metadata": {},
   "source": [
    "### Model 1: Predictions"
   ]
  },
  {
   "cell_type": "code",
   "execution_count": 80,
   "id": "finite-magnitude",
   "metadata": {},
   "outputs": [
    {
     "data": {
      "text/plain": [
       "loan_amnt      20000.00\n",
       "term              36.00\n",
       "int_rate          13.98\n",
       "installment      683.36\n",
       "annual_inc     60000.00\n",
       "                 ...   \n",
       "30723              0.00\n",
       "48052              0.00\n",
       "70466              0.00\n",
       "86630              0.00\n",
       "93700              1.00\n",
       "Name: 152345, Length: 78, dtype: float64"
      ]
     },
     "execution_count": 80,
     "metadata": {},
     "output_type": "execute_result"
    }
   ],
   "source": [
    "random.seed(101)\n",
    "random_index = random.randint(0, len(df_bal))\n",
    "\n",
    "new_client = df_bal.drop('loan_repaid', axis=1).iloc[random_index]\n",
    "new_client"
   ]
  },
  {
   "cell_type": "code",
   "execution_count": 81,
   "id": "special-doubt",
   "metadata": {},
   "outputs": [],
   "source": [
    "x = scaler_2.transform(new_client.values.reshape(1, input_shape))"
   ]
  },
  {
   "cell_type": "code",
   "execution_count": 84,
   "id": "derived-jacksonville",
   "metadata": {},
   "outputs": [
    {
     "data": {
      "text/plain": [
       "array([[0]])"
      ]
     },
     "execution_count": 84,
     "metadata": {},
     "output_type": "execute_result"
    }
   ],
   "source": [
    "(model_1.predict_classes(x) > 0.5).astype('int32')"
   ]
  },
  {
   "cell_type": "code",
   "execution_count": 86,
   "id": "billion-denial",
   "metadata": {},
   "outputs": [
    {
     "data": {
      "text/plain": [
       "0.0"
      ]
     },
     "execution_count": 86,
     "metadata": {},
     "output_type": "execute_result"
    }
   ],
   "source": [
    "df_bal.iloc[random_index]['loan_repaid']"
   ]
  },
  {
   "cell_type": "markdown",
   "id": "relative-retention",
   "metadata": {},
   "source": [
    "### Model 2: Training\n",
    "\n",
    "* (put details about the model here)"
   ]
  },
  {
   "cell_type": "code",
   "execution_count": 68,
   "id": "bizarre-chocolate",
   "metadata": {},
   "outputs": [
    {
     "data": {
      "text/plain": [
       "78"
      ]
     },
     "execution_count": 68,
     "metadata": {},
     "output_type": "execute_result"
    }
   ],
   "source": [
    "input_shape = X_train_2.shape[1]\n",
    "input_shape"
   ]
  },
  {
   "cell_type": "code",
   "execution_count": 69,
   "id": "aboriginal-handling",
   "metadata": {},
   "outputs": [],
   "source": [
    "# initialize model\n",
    "model_2 = Sequential()\n",
    "dropout_rate = 0.4\n",
    "\n",
    "# input layer\n",
    "model_2.add(Dense(input_shape, activation='relu'))\n",
    "model_2.add(Dropout(dropout_rate))\n",
    "\n",
    "# hidden layer(s)\n",
    "model_2.add(Dense(256, activation='relu'))\n",
    "model_2.add(Dropout(dropout_rate))\n",
    "model_2.add(Dense(128, activation='relu'))\n",
    "model_2.add(Dropout(dropout_rate))\n",
    "model_2.add(Dense(64, activation='relu'))\n",
    "model_2.add(Dropout(dropout_rate))\n",
    "model_2.add(Dense(32, activation='relu'))\n",
    "model_2.add(Dropout(dropout_rate))\n",
    "model_2.add(Dense(16, activation='relu'))\n",
    "model_2.add(Dropout(dropout_rate))\n",
    "\n",
    "# output layer\n",
    "model_2.add(Dense(units=1, activation='sigmoid'))\n",
    "\n",
    "# compile model\n",
    "model_2.compile(loss='binary_crossentropy', optimizer='adam')"
   ]
  },
  {
   "cell_type": "code",
   "execution_count": 70,
   "id": "olympic-province",
   "metadata": {},
   "outputs": [],
   "source": [
    "# choose min because we want to minimize the loss (or error); for accuracy, use max\n",
    "early_stop = EarlyStopping(monitor='val_loss', \n",
    "                           mode='min', \n",
    "                           verbose=2, \n",
    "                           patience=16)"
   ]
  },
  {
   "cell_type": "code",
   "execution_count": 71,
   "id": "painful-demand",
   "metadata": {},
   "outputs": [
    {
     "name": "stdout",
     "output_type": "stream",
     "text": [
      "Epoch 1/512\n",
      "1091/1091 - 13s - loss: 0.4457 - val_loss: 0.3694\n",
      "Epoch 2/512\n",
      "1091/1091 - 11s - loss: 0.3748 - val_loss: 0.3699\n",
      "Epoch 3/512\n",
      "1091/1091 - 11s - loss: 0.3702 - val_loss: 0.3652\n",
      "Epoch 4/512\n",
      "1091/1091 - 11s - loss: 0.3694 - val_loss: 0.3675\n",
      "Epoch 5/512\n",
      "1091/1091 - 11s - loss: 0.3674 - val_loss: 0.3668\n",
      "Epoch 6/512\n",
      "1091/1091 - 11s - loss: 0.3668 - val_loss: 0.3650\n",
      "Epoch 7/512\n",
      "1091/1091 - 11s - loss: 0.3668 - val_loss: 0.3631\n",
      "Epoch 8/512\n",
      "1091/1091 - 11s - loss: 0.3661 - val_loss: 0.3653\n",
      "Epoch 9/512\n",
      "1091/1091 - 11s - loss: 0.3660 - val_loss: 0.3643\n",
      "Epoch 10/512\n",
      "1091/1091 - 11s - loss: 0.3649 - val_loss: 0.3649\n",
      "Epoch 11/512\n",
      "1091/1091 - 11s - loss: 0.3656 - val_loss: 0.3629\n",
      "Epoch 12/512\n",
      "1091/1091 - 11s - loss: 0.3649 - val_loss: 0.3652\n",
      "Epoch 13/512\n",
      "1091/1091 - 11s - loss: 0.3653 - val_loss: 0.3635\n",
      "Epoch 14/512\n",
      "1091/1091 - 11s - loss: 0.3638 - val_loss: 0.3633\n",
      "Epoch 15/512\n",
      "1091/1091 - 11s - loss: 0.3642 - val_loss: 0.3626\n",
      "Epoch 16/512\n",
      "1091/1091 - 11s - loss: 0.3641 - val_loss: 0.3624\n",
      "Epoch 17/512\n",
      "1091/1091 - 11s - loss: 0.3641 - val_loss: 0.3631\n",
      "Epoch 18/512\n",
      "1091/1091 - 11s - loss: 0.3639 - val_loss: 0.3627\n",
      "Epoch 19/512\n",
      "1091/1091 - 11s - loss: 0.3634 - val_loss: 0.3622\n",
      "Epoch 20/512\n",
      "1091/1091 - 11s - loss: 0.3635 - val_loss: 0.3635\n",
      "Epoch 21/512\n",
      "1091/1091 - 11s - loss: 0.3626 - val_loss: 0.3631\n",
      "Epoch 22/512\n",
      "1091/1091 - 10s - loss: 0.3623 - val_loss: 0.3624\n",
      "Epoch 23/512\n",
      "1091/1091 - 9s - loss: 0.3634 - val_loss: 0.3630\n",
      "Epoch 24/512\n",
      "1091/1091 - 11s - loss: 0.3619 - val_loss: 0.3631\n",
      "Epoch 25/512\n",
      "1091/1091 - 9s - loss: 0.3617 - val_loss: 0.3637\n",
      "Epoch 26/512\n",
      "1091/1091 - 9s - loss: 0.3618 - val_loss: 0.3624\n",
      "Epoch 27/512\n",
      "1091/1091 - 11s - loss: 0.3619 - val_loss: 0.3619\n",
      "Epoch 28/512\n",
      "1091/1091 - 11s - loss: 0.3614 - val_loss: 0.3614\n",
      "Epoch 29/512\n",
      "1091/1091 - 11s - loss: 0.3616 - val_loss: 0.3635\n",
      "Epoch 30/512\n",
      "1091/1091 - 11s - loss: 0.3611 - val_loss: 0.3617\n",
      "Epoch 31/512\n",
      "1091/1091 - 11s - loss: 0.3610 - val_loss: 0.3618\n",
      "Epoch 32/512\n",
      "1091/1091 - 11s - loss: 0.3613 - val_loss: 0.3632\n",
      "Epoch 33/512\n",
      "1091/1091 - 11s - loss: 0.3610 - val_loss: 0.3630\n",
      "Epoch 34/512\n",
      "1091/1091 - 11s - loss: 0.3606 - val_loss: 0.3612\n",
      "Epoch 35/512\n",
      "1091/1091 - 11s - loss: 0.3610 - val_loss: 0.3615\n",
      "Epoch 36/512\n",
      "1091/1091 - 11s - loss: 0.3608 - val_loss: 0.3628\n",
      "Epoch 37/512\n",
      "1091/1091 - 11s - loss: 0.3608 - val_loss: 0.3627\n",
      "Epoch 38/512\n",
      "1091/1091 - 11s - loss: 0.3606 - val_loss: 0.3606\n",
      "Epoch 39/512\n",
      "1091/1091 - 10s - loss: 0.3607 - val_loss: 0.3619\n",
      "Epoch 40/512\n",
      "1091/1091 - 9s - loss: 0.3606 - val_loss: 0.3629\n",
      "Epoch 41/512\n",
      "1091/1091 - 11s - loss: 0.3598 - val_loss: 0.3639\n",
      "Epoch 42/512\n",
      "1091/1091 - 11s - loss: 0.3599 - val_loss: 0.3617\n",
      "Epoch 43/512\n",
      "1091/1091 - 10s - loss: 0.3601 - val_loss: 0.3631\n",
      "Epoch 44/512\n",
      "1091/1091 - 9s - loss: 0.3607 - val_loss: 0.3622\n",
      "Epoch 45/512\n",
      "1091/1091 - 8s - loss: 0.3600 - val_loss: 0.3640\n",
      "Epoch 46/512\n",
      "1091/1091 - 7s - loss: 0.3599 - val_loss: 0.3616\n",
      "Epoch 47/512\n",
      "1091/1091 - 7s - loss: 0.3588 - val_loss: 0.3639\n",
      "Epoch 48/512\n",
      "1091/1091 - 7s - loss: 0.3596 - val_loss: 0.3625\n",
      "Epoch 49/512\n",
      "1091/1091 - 7s - loss: 0.3596 - val_loss: 0.3632\n",
      "Epoch 50/512\n",
      "1091/1091 - 9s - loss: 0.3593 - val_loss: 0.3625\n",
      "Epoch 51/512\n",
      "1091/1091 - 9s - loss: 0.3601 - val_loss: 0.3639\n",
      "Epoch 52/512\n",
      "1091/1091 - 8s - loss: 0.3591 - val_loss: 0.3636\n",
      "Epoch 53/512\n",
      "1091/1091 - 10s - loss: 0.3591 - val_loss: 0.3625\n",
      "Epoch 54/512\n",
      "1091/1091 - 10s - loss: 0.3587 - val_loss: 0.3624\n",
      "Epoch 00054: early stopping\n"
     ]
    },
    {
     "data": {
      "text/plain": [
       "<tensorflow.python.keras.callbacks.History at 0x1948d5ce670>"
      ]
     },
     "execution_count": 71,
     "metadata": {},
     "output_type": "execute_result"
    }
   ],
   "source": [
    "# train the NN model\n",
    "model_2.fit(x=X_train_2, y=y_train,\n",
    "            epochs=512,\n",
    "            batch_size=128,\n",
    "            validation_data=(X_valid_2, y_valid),\n",
    "            callbacks=[early_stop],\n",
    "            verbose=2)"
   ]
  },
  {
   "cell_type": "code",
   "execution_count": 72,
   "id": "joined-lambda",
   "metadata": {},
   "outputs": [
    {
     "data": {
      "image/png": "[encoded data removed]",
      "text/plain": [
       "<Figure size 432x288 with 1 Axes>"
      ]
     },
     "metadata": {
      "needs_background": "light"
     },
     "output_type": "display_data"
    }
   ],
   "source": [
    "# evaluate the loss for training and validation data\n",
    "losses_2 = pd.DataFrame(model_2.history.history)\n",
    "losses_2.plot()\n",
    "plt.show()"
   ]
  },
  {
   "cell_type": "markdown",
   "id": "naked-visiting",
   "metadata": {},
   "source": [
    "### Model 2: Evaluation"
   ]
  },
  {
   "cell_type": "code",
   "execution_count": 75,
   "id": "standing-niger",
   "metadata": {},
   "outputs": [
    {
     "name": "stdout",
     "output_type": "stream",
     "text": [
      "              precision    recall  f1-score   support\n",
      "\n",
      "           0       0.80      0.79      0.80      3903\n",
      "           1       0.79      0.80      0.80      3850\n",
      "\n",
      "    accuracy                           0.80      7753\n",
      "   macro avg       0.80      0.80      0.80      7753\n",
      "weighted avg       0.80      0.80      0.80      7753\n",
      "\n"
     ]
    }
   ],
   "source": [
    "y_test_pred = (model_2.predict(X_test_2) > 0.5).astype('int32')\n",
    "print(classification_report(y_test, y_test_pred))"
   ]
  },
  {
   "cell_type": "markdown",
   "id": "republican-runner",
   "metadata": {},
   "source": [
    "### Model 3: Training"
   ]
  },
  {
   "cell_type": "code",
   "execution_count": 87,
   "id": "behind-seminar",
   "metadata": {},
   "outputs": [
    {
     "data": {
      "text/plain": [
       "78"
      ]
     },
     "execution_count": 87,
     "metadata": {},
     "output_type": "execute_result"
    }
   ],
   "source": [
    "input_shape = X_train_1.shape[1]\n",
    "input_shape"
   ]
  },
  {
   "cell_type": "code",
   "execution_count": 88,
   "id": "stretch-destination",
   "metadata": {},
   "outputs": [],
   "source": [
    "# initialize model\n",
    "model_3 = Sequential()\n",
    "dropout_rate = 0.5\n",
    "\n",
    "# input layer\n",
    "model_3.add(Dense(input_shape, activation='relu'))\n",
    "model_3.add(Dropout(dropout_rate))\n",
    "\n",
    "# hidden layer(s)\n",
    "model_3.add(Dense(40, activation='relu'))\n",
    "model_3.add(Dropout(dropout_rate))\n",
    "model_3.add(Dense(20, activation='relu'))\n",
    "model_3.add(Dropout(dropout_rate))\n",
    "\n",
    "# output layer\n",
    "model_3.add(Dense(units=1, activation='sigmoid'))\n",
    "\n",
    "# compile model\n",
    "model_3.compile(loss='binary_crossentropy', optimizer='adam')"
   ]
  },
  {
   "cell_type": "code",
   "execution_count": 89,
   "id": "extraordinary-bedroom",
   "metadata": {},
   "outputs": [],
   "source": [
    "# choose min because we want to minimize the loss (or error); for accuracy, use max\n",
    "early_stop = EarlyStopping(monitor='val_loss', \n",
    "                           mode='min', \n",
    "                           verbose=2, \n",
    "                           patience=16)"
   ]
  },
  {
   "cell_type": "code",
   "execution_count": 90,
   "id": "grateful-lotus",
   "metadata": {},
   "outputs": [
    {
     "name": "stdout",
     "output_type": "stream",
     "text": [
      "Epoch 1/512\n",
      "1091/1091 - 7s - loss: 0.5121 - val_loss: 0.3801\n",
      "Epoch 2/512\n",
      "1091/1091 - 5s - loss: 0.3903 - val_loss: 0.3668\n",
      "Epoch 3/512\n",
      "1091/1091 - 5s - loss: 0.3747 - val_loss: 0.3637\n",
      "Epoch 4/512\n",
      "1091/1091 - 5s - loss: 0.3693 - val_loss: 0.3601\n",
      "Epoch 5/512\n",
      "1091/1091 - 5s - loss: 0.3671 - val_loss: 0.3602\n",
      "Epoch 6/512\n",
      "1091/1091 - 5s - loss: 0.3659 - val_loss: 0.3589\n",
      "Epoch 7/512\n",
      "1091/1091 - 5s - loss: 0.3649 - val_loss: 0.3573\n",
      "Epoch 8/512\n",
      "1091/1091 - 6s - loss: 0.3631 - val_loss: 0.3588\n",
      "Epoch 9/512\n",
      "1091/1091 - 5s - loss: 0.3630 - val_loss: 0.3581\n",
      "Epoch 10/512\n",
      "1091/1091 - 6s - loss: 0.3627 - val_loss: 0.3585\n",
      "Epoch 11/512\n",
      "1091/1091 - 6s - loss: 0.3620 - val_loss: 0.3581\n",
      "Epoch 12/512\n",
      "1091/1091 - 5s - loss: 0.3618 - val_loss: 0.3574\n",
      "Epoch 13/512\n",
      "1091/1091 - 2s - loss: 0.3610 - val_loss: 0.3563\n",
      "Epoch 14/512\n",
      "1091/1091 - 2s - loss: 0.3603 - val_loss: 0.3548\n",
      "Epoch 15/512\n",
      "1091/1091 - 2s - loss: 0.3598 - val_loss: 0.3567\n",
      "Epoch 16/512\n",
      "1091/1091 - 2s - loss: 0.3603 - val_loss: 0.3581\n",
      "Epoch 17/512\n",
      "1091/1091 - 2s - loss: 0.3593 - val_loss: 0.3566\n",
      "Epoch 18/512\n",
      "1091/1091 - 2s - loss: 0.3592 - val_loss: 0.3562\n",
      "Epoch 19/512\n",
      "1091/1091 - 2s - loss: 0.3592 - val_loss: 0.3574\n",
      "Epoch 20/512\n",
      "1091/1091 - 2s - loss: 0.3587 - val_loss: 0.3569\n",
      "Epoch 21/512\n",
      "1091/1091 - 2s - loss: 0.3584 - val_loss: 0.3569\n",
      "Epoch 22/512\n",
      "1091/1091 - 2s - loss: 0.3590 - val_loss: 0.3570\n",
      "Epoch 23/512\n",
      "1091/1091 - 2s - loss: 0.3583 - val_loss: 0.3576\n",
      "Epoch 24/512\n",
      "1091/1091 - 2s - loss: 0.3590 - val_loss: 0.3564\n",
      "Epoch 25/512\n",
      "1091/1091 - 2s - loss: 0.3580 - val_loss: 0.3569\n",
      "Epoch 26/512\n",
      "1091/1091 - 2s - loss: 0.3582 - val_loss: 0.3578\n",
      "Epoch 27/512\n",
      "1091/1091 - 2s - loss: 0.3579 - val_loss: 0.3565\n",
      "Epoch 28/512\n",
      "1091/1091 - 2s - loss: 0.3576 - val_loss: 0.3569\n",
      "Epoch 29/512\n",
      "1091/1091 - 2s - loss: 0.3574 - val_loss: 0.3562\n",
      "Epoch 30/512\n",
      "1091/1091 - 2s - loss: 0.3573 - val_loss: 0.3565\n",
      "Epoch 00030: early stopping\n"
     ]
    },
    {
     "data": {
      "text/plain": [
       "<tensorflow.python.keras.callbacks.History at 0x1948ce8d550>"
      ]
     },
     "execution_count": 90,
     "metadata": {},
     "output_type": "execute_result"
    }
   ],
   "source": [
    "# train the NN model\n",
    "model_3.fit(x=X_train_1, y=y_train,\n",
    "            epochs=512,\n",
    "            batch_size=128,\n",
    "            validation_data=(X_valid_1, y_valid),\n",
    "            callbacks=[early_stop],\n",
    "            verbose=2)"
   ]
  },
  {
   "cell_type": "code",
   "execution_count": 91,
   "id": "grateful-external",
   "metadata": {},
   "outputs": [
    {
     "data": {
      "image/png": "[encoded data removed]",
      "text/plain": [
       "<Figure size 432x288 with 1 Axes>"
      ]
     },
     "metadata": {
      "needs_background": "light"
     },
     "output_type": "display_data"
    }
   ],
   "source": [
    "# evaluate the loss for training and validation data\n",
    "losses_3 = pd.DataFrame(model_3.history.history)\n",
    "losses_3.plot()\n",
    "plt.show()"
   ]
  },
  {
   "cell_type": "markdown",
   "id": "fitting-kernel",
   "metadata": {},
   "source": [
    "### Model 3: Evaluation"
   ]
  },
  {
   "cell_type": "code",
   "execution_count": 92,
   "id": "outdoor-upset",
   "metadata": {},
   "outputs": [
    {
     "name": "stdout",
     "output_type": "stream",
     "text": [
      "              precision    recall  f1-score   support\n",
      "\n",
      "           0       0.79      0.81      0.80      3903\n",
      "           1       0.80      0.79      0.80      3850\n",
      "\n",
      "    accuracy                           0.80      7753\n",
      "   macro avg       0.80      0.80      0.80      7753\n",
      "weighted avg       0.80      0.80      0.80      7753\n",
      "\n"
     ]
    }
   ],
   "source": [
    "y_test_pred = (model_3.predict(X_test_1) > 0.5).astype('int32')\n",
    "print(classification_report(y_test, y_test_pred))"
   ]
  },
  {
   "cell_type": "markdown",
   "id": "sweet-lover",
   "metadata": {},
   "source": [
    "# Reduced Data Set"
   ]
  },
  {
   "cell_type": "code",
   "execution_count": 93,
   "id": "accompanied-excess",
   "metadata": {},
   "outputs": [
    {
     "data": {
      "text/html": [
       "<div>\n",
       "<style scoped>\n",
       "    .dataframe tbody tr th:only-of-type {\n",
       "        vertical-align: middle;\n",
       "    }\n",
       "\n",
       "    .dataframe tbody tr th {\n",
       "        vertical-align: top;\n",
       "    }\n",
       "\n",
       "    .dataframe thead th {\n",
       "        text-align: right;\n",
       "    }\n",
       "</style>\n",
       "<table border=\"1\" class=\"dataframe\">\n",
       "  <thead>\n",
       "    <tr style=\"text-align: right;\">\n",
       "      <th></th>\n",
       "      <th>loan_amnt</th>\n",
       "      <th>term</th>\n",
       "      <th>int_rate</th>\n",
       "      <th>installment</th>\n",
       "      <th>annual_inc</th>\n",
       "      <th>dti</th>\n",
       "      <th>earliest_cr_line</th>\n",
       "      <th>open_acc</th>\n",
       "      <th>pub_rec</th>\n",
       "      <th>revol_bal</th>\n",
       "      <th>...</th>\n",
       "      <th>G4</th>\n",
       "      <th>G5</th>\n",
       "      <th>verification_status_Source Verified</th>\n",
       "      <th>verification_status_Verified</th>\n",
       "      <th>application_type_INDIVIDUAL</th>\n",
       "      <th>application_type_JOINT</th>\n",
       "      <th>initial_list_status_w</th>\n",
       "      <th>OTHER</th>\n",
       "      <th>OWN</th>\n",
       "      <th>RENT</th>\n",
       "    </tr>\n",
       "  </thead>\n",
       "  <tbody>\n",
       "    <tr>\n",
       "      <th>0</th>\n",
       "      <td>10000.0</td>\n",
       "      <td>36</td>\n",
       "      <td>11.44</td>\n",
       "      <td>329.48</td>\n",
       "      <td>117000.0</td>\n",
       "      <td>26.24</td>\n",
       "      <td>1990</td>\n",
       "      <td>16.0</td>\n",
       "      <td>0.0</td>\n",
       "      <td>36369.0</td>\n",
       "      <td>...</td>\n",
       "      <td>0</td>\n",
       "      <td>0</td>\n",
       "      <td>0</td>\n",
       "      <td>0</td>\n",
       "      <td>1</td>\n",
       "      <td>0</td>\n",
       "      <td>1</td>\n",
       "      <td>0</td>\n",
       "      <td>0</td>\n",
       "      <td>1</td>\n",
       "    </tr>\n",
       "    <tr>\n",
       "      <th>1</th>\n",
       "      <td>8000.0</td>\n",
       "      <td>36</td>\n",
       "      <td>11.99</td>\n",
       "      <td>265.68</td>\n",
       "      <td>65000.0</td>\n",
       "      <td>22.05</td>\n",
       "      <td>2004</td>\n",
       "      <td>17.0</td>\n",
       "      <td>0.0</td>\n",
       "      <td>20131.0</td>\n",
       "      <td>...</td>\n",
       "      <td>0</td>\n",
       "      <td>0</td>\n",
       "      <td>0</td>\n",
       "      <td>0</td>\n",
       "      <td>1</td>\n",
       "      <td>0</td>\n",
       "      <td>0</td>\n",
       "      <td>0</td>\n",
       "      <td>0</td>\n",
       "      <td>0</td>\n",
       "    </tr>\n",
       "    <tr>\n",
       "      <th>2</th>\n",
       "      <td>15600.0</td>\n",
       "      <td>36</td>\n",
       "      <td>10.49</td>\n",
       "      <td>506.97</td>\n",
       "      <td>43057.0</td>\n",
       "      <td>12.79</td>\n",
       "      <td>2007</td>\n",
       "      <td>13.0</td>\n",
       "      <td>0.0</td>\n",
       "      <td>11987.0</td>\n",
       "      <td>...</td>\n",
       "      <td>0</td>\n",
       "      <td>0</td>\n",
       "      <td>1</td>\n",
       "      <td>0</td>\n",
       "      <td>1</td>\n",
       "      <td>0</td>\n",
       "      <td>0</td>\n",
       "      <td>0</td>\n",
       "      <td>0</td>\n",
       "      <td>1</td>\n",
       "    </tr>\n",
       "    <tr>\n",
       "      <th>3</th>\n",
       "      <td>7200.0</td>\n",
       "      <td>36</td>\n",
       "      <td>6.49</td>\n",
       "      <td>220.65</td>\n",
       "      <td>54000.0</td>\n",
       "      <td>2.60</td>\n",
       "      <td>2006</td>\n",
       "      <td>6.0</td>\n",
       "      <td>0.0</td>\n",
       "      <td>5472.0</td>\n",
       "      <td>...</td>\n",
       "      <td>0</td>\n",
       "      <td>0</td>\n",
       "      <td>0</td>\n",
       "      <td>0</td>\n",
       "      <td>1</td>\n",
       "      <td>0</td>\n",
       "      <td>0</td>\n",
       "      <td>0</td>\n",
       "      <td>0</td>\n",
       "      <td>1</td>\n",
       "    </tr>\n",
       "    <tr>\n",
       "      <th>4</th>\n",
       "      <td>24375.0</td>\n",
       "      <td>60</td>\n",
       "      <td>17.27</td>\n",
       "      <td>609.33</td>\n",
       "      <td>55000.0</td>\n",
       "      <td>33.95</td>\n",
       "      <td>1999</td>\n",
       "      <td>13.0</td>\n",
       "      <td>0.0</td>\n",
       "      <td>24584.0</td>\n",
       "      <td>...</td>\n",
       "      <td>0</td>\n",
       "      <td>0</td>\n",
       "      <td>0</td>\n",
       "      <td>1</td>\n",
       "      <td>1</td>\n",
       "      <td>0</td>\n",
       "      <td>0</td>\n",
       "      <td>0</td>\n",
       "      <td>0</td>\n",
       "      <td>0</td>\n",
       "    </tr>\n",
       "    <tr>\n",
       "      <th>...</th>\n",
       "      <td>...</td>\n",
       "      <td>...</td>\n",
       "      <td>...</td>\n",
       "      <td>...</td>\n",
       "      <td>...</td>\n",
       "      <td>...</td>\n",
       "      <td>...</td>\n",
       "      <td>...</td>\n",
       "      <td>...</td>\n",
       "      <td>...</td>\n",
       "      <td>...</td>\n",
       "      <td>...</td>\n",
       "      <td>...</td>\n",
       "      <td>...</td>\n",
       "      <td>...</td>\n",
       "      <td>...</td>\n",
       "      <td>...</td>\n",
       "      <td>...</td>\n",
       "      <td>...</td>\n",
       "      <td>...</td>\n",
       "      <td>...</td>\n",
       "    </tr>\n",
       "    <tr>\n",
       "      <th>394721</th>\n",
       "      <td>10000.0</td>\n",
       "      <td>60</td>\n",
       "      <td>10.99</td>\n",
       "      <td>217.38</td>\n",
       "      <td>40000.0</td>\n",
       "      <td>15.63</td>\n",
       "      <td>2004</td>\n",
       "      <td>6.0</td>\n",
       "      <td>0.0</td>\n",
       "      <td>1990.0</td>\n",
       "      <td>...</td>\n",
       "      <td>0</td>\n",
       "      <td>0</td>\n",
       "      <td>1</td>\n",
       "      <td>0</td>\n",
       "      <td>1</td>\n",
       "      <td>0</td>\n",
       "      <td>1</td>\n",
       "      <td>0</td>\n",
       "      <td>0</td>\n",
       "      <td>1</td>\n",
       "    </tr>\n",
       "    <tr>\n",
       "      <th>394722</th>\n",
       "      <td>21000.0</td>\n",
       "      <td>36</td>\n",
       "      <td>12.29</td>\n",
       "      <td>700.42</td>\n",
       "      <td>110000.0</td>\n",
       "      <td>21.45</td>\n",
       "      <td>2006</td>\n",
       "      <td>6.0</td>\n",
       "      <td>0.0</td>\n",
       "      <td>43263.0</td>\n",
       "      <td>...</td>\n",
       "      <td>0</td>\n",
       "      <td>0</td>\n",
       "      <td>1</td>\n",
       "      <td>0</td>\n",
       "      <td>1</td>\n",
       "      <td>0</td>\n",
       "      <td>0</td>\n",
       "      <td>0</td>\n",
       "      <td>0</td>\n",
       "      <td>0</td>\n",
       "    </tr>\n",
       "    <tr>\n",
       "      <th>394723</th>\n",
       "      <td>5000.0</td>\n",
       "      <td>36</td>\n",
       "      <td>9.99</td>\n",
       "      <td>161.32</td>\n",
       "      <td>56500.0</td>\n",
       "      <td>17.56</td>\n",
       "      <td>1997</td>\n",
       "      <td>15.0</td>\n",
       "      <td>0.0</td>\n",
       "      <td>32704.0</td>\n",
       "      <td>...</td>\n",
       "      <td>0</td>\n",
       "      <td>0</td>\n",
       "      <td>0</td>\n",
       "      <td>1</td>\n",
       "      <td>1</td>\n",
       "      <td>0</td>\n",
       "      <td>0</td>\n",
       "      <td>0</td>\n",
       "      <td>0</td>\n",
       "      <td>1</td>\n",
       "    </tr>\n",
       "    <tr>\n",
       "      <th>394724</th>\n",
       "      <td>21000.0</td>\n",
       "      <td>60</td>\n",
       "      <td>15.31</td>\n",
       "      <td>503.02</td>\n",
       "      <td>64000.0</td>\n",
       "      <td>15.88</td>\n",
       "      <td>1990</td>\n",
       "      <td>9.0</td>\n",
       "      <td>0.0</td>\n",
       "      <td>15704.0</td>\n",
       "      <td>...</td>\n",
       "      <td>0</td>\n",
       "      <td>0</td>\n",
       "      <td>0</td>\n",
       "      <td>1</td>\n",
       "      <td>1</td>\n",
       "      <td>0</td>\n",
       "      <td>0</td>\n",
       "      <td>0</td>\n",
       "      <td>0</td>\n",
       "      <td>0</td>\n",
       "    </tr>\n",
       "    <tr>\n",
       "      <th>394725</th>\n",
       "      <td>2000.0</td>\n",
       "      <td>36</td>\n",
       "      <td>13.61</td>\n",
       "      <td>67.98</td>\n",
       "      <td>42996.0</td>\n",
       "      <td>8.32</td>\n",
       "      <td>1998</td>\n",
       "      <td>3.0</td>\n",
       "      <td>0.0</td>\n",
       "      <td>4292.0</td>\n",
       "      <td>...</td>\n",
       "      <td>0</td>\n",
       "      <td>0</td>\n",
       "      <td>0</td>\n",
       "      <td>1</td>\n",
       "      <td>1</td>\n",
       "      <td>0</td>\n",
       "      <td>0</td>\n",
       "      <td>0</td>\n",
       "      <td>0</td>\n",
       "      <td>1</td>\n",
       "    </tr>\n",
       "  </tbody>\n",
       "</table>\n",
       "<p>394726 rows × 57 columns</p>\n",
       "</div>"
      ],
      "text/plain": [
       "        loan_amnt  term  int_rate  installment  annual_inc    dti  \\\n",
       "0         10000.0    36     11.44       329.48    117000.0  26.24   \n",
       "1          8000.0    36     11.99       265.68     65000.0  22.05   \n",
       "2         15600.0    36     10.49       506.97     43057.0  12.79   \n",
       "3          7200.0    36      6.49       220.65     54000.0   2.60   \n",
       "4         24375.0    60     17.27       609.33     55000.0  33.95   \n",
       "...           ...   ...       ...          ...         ...    ...   \n",
       "394721    10000.0    60     10.99       217.38     40000.0  15.63   \n",
       "394722    21000.0    36     12.29       700.42    110000.0  21.45   \n",
       "394723     5000.0    36      9.99       161.32     56500.0  17.56   \n",
       "394724    21000.0    60     15.31       503.02     64000.0  15.88   \n",
       "394725     2000.0    36     13.61        67.98     42996.0   8.32   \n",
       "\n",
       "        earliest_cr_line  open_acc  pub_rec  revol_bal  ...  G4  G5  \\\n",
       "0                   1990      16.0      0.0    36369.0  ...   0   0   \n",
       "1                   2004      17.0      0.0    20131.0  ...   0   0   \n",
       "2                   2007      13.0      0.0    11987.0  ...   0   0   \n",
       "3                   2006       6.0      0.0     5472.0  ...   0   0   \n",
       "4                   1999      13.0      0.0    24584.0  ...   0   0   \n",
       "...                  ...       ...      ...        ...  ...  ..  ..   \n",
       "394721              2004       6.0      0.0     1990.0  ...   0   0   \n",
       "394722              2006       6.0      0.0    43263.0  ...   0   0   \n",
       "394723              1997      15.0      0.0    32704.0  ...   0   0   \n",
       "394724              1990       9.0      0.0    15704.0  ...   0   0   \n",
       "394725              1998       3.0      0.0     4292.0  ...   0   0   \n",
       "\n",
       "        verification_status_Source Verified  verification_status_Verified  \\\n",
       "0                                         0                             0   \n",
       "1                                         0                             0   \n",
       "2                                         1                             0   \n",
       "3                                         0                             0   \n",
       "4                                         0                             1   \n",
       "...                                     ...                           ...   \n",
       "394721                                    1                             0   \n",
       "394722                                    1                             0   \n",
       "394723                                    0                             1   \n",
       "394724                                    0                             1   \n",
       "394725                                    0                             1   \n",
       "\n",
       "        application_type_INDIVIDUAL  application_type_JOINT  \\\n",
       "0                                 1                       0   \n",
       "1                                 1                       0   \n",
       "2                                 1                       0   \n",
       "3                                 1                       0   \n",
       "4                                 1                       0   \n",
       "...                             ...                     ...   \n",
       "394721                            1                       0   \n",
       "394722                            1                       0   \n",
       "394723                            1                       0   \n",
       "394724                            1                       0   \n",
       "394725                            1                       0   \n",
       "\n",
       "        initial_list_status_w  OTHER  OWN  RENT  \n",
       "0                           1      0    0     1  \n",
       "1                           0      0    0     0  \n",
       "2                           0      0    0     1  \n",
       "3                           0      0    0     1  \n",
       "4                           0      0    0     0  \n",
       "...                       ...    ...  ...   ...  \n",
       "394721                      1      0    0     1  \n",
       "394722                      0      0    0     0  \n",
       "394723                      0      0    0     1  \n",
       "394724                      0      0    0     0  \n",
       "394725                      0      0    0     1  \n",
       "\n",
       "[394726 rows x 57 columns]"
      ]
     },
     "execution_count": 93,
     "metadata": {},
     "output_type": "execute_result"
    }
   ],
   "source": [
    "df2 = pd.read_csv('./data/lending_data_small_removed_outliers.csv')\n",
    "df2"
   ]
  },
  {
   "cell_type": "code",
   "execution_count": 94,
   "id": "graduate-selling",
   "metadata": {},
   "outputs": [
    {
     "data": {
      "text/plain": [
       "loan_amnt                              0\n",
       "term                                   0\n",
       "int_rate                               0\n",
       "installment                            0\n",
       "annual_inc                             0\n",
       "dti                                    0\n",
       "earliest_cr_line                       0\n",
       "open_acc                               0\n",
       "pub_rec                                0\n",
       "revol_bal                              0\n",
       "revol_util                             0\n",
       "total_acc                              0\n",
       "mort_acc                               0\n",
       "pub_rec_bankruptcies                   0\n",
       "loan_repaid                            0\n",
       "A2                                     0\n",
       "A3                                     0\n",
       "A4                                     0\n",
       "A5                                     0\n",
       "B1                                     0\n",
       "B2                                     0\n",
       "B3                                     0\n",
       "B4                                     0\n",
       "B5                                     0\n",
       "C1                                     0\n",
       "C2                                     0\n",
       "C3                                     0\n",
       "C4                                     0\n",
       "C5                                     0\n",
       "D1                                     0\n",
       "D2                                     0\n",
       "D3                                     0\n",
       "D4                                     0\n",
       "D5                                     0\n",
       "E1                                     0\n",
       "E2                                     0\n",
       "E3                                     0\n",
       "E4                                     0\n",
       "E5                                     0\n",
       "F1                                     0\n",
       "F2                                     0\n",
       "F3                                     0\n",
       "F4                                     0\n",
       "F5                                     0\n",
       "G1                                     0\n",
       "G2                                     0\n",
       "G3                                     0\n",
       "G4                                     0\n",
       "G5                                     0\n",
       "verification_status_Source Verified    0\n",
       "verification_status_Verified           0\n",
       "application_type_INDIVIDUAL            0\n",
       "application_type_JOINT                 0\n",
       "initial_list_status_w                  0\n",
       "OTHER                                  0\n",
       "OWN                                    0\n",
       "RENT                                   0\n",
       "dtype: int64"
      ]
     },
     "execution_count": 94,
     "metadata": {},
     "output_type": "execute_result"
    }
   ],
   "source": [
    "df2.isnull().sum()"
   ]
  },
  {
   "cell_type": "markdown",
   "id": "french-slide",
   "metadata": {},
   "source": [
    "## Balance the Data Set"
   ]
  },
  {
   "cell_type": "code",
   "execution_count": 95,
   "id": "traditional-kitchen",
   "metadata": {},
   "outputs": [
    {
     "data": {
      "image/png": "[encoded data removed]",
      "text/plain": [
       "<Figure size 432x288 with 1 Axes>"
      ]
     },
     "metadata": {
      "needs_background": "light"
     },
     "output_type": "display_data"
    }
   ],
   "source": [
    "# we have more instances of loans being fully paid than being charged off\n",
    "sns.countplot(data=df2, x='loan_repaid');"
   ]
  },
  {
   "cell_type": "code",
   "execution_count": 98,
   "id": "fitted-limitation",
   "metadata": {},
   "outputs": [],
   "source": [
    "df_paid = df2[ df2['loan_repaid'] == 1 ]\n",
    "df_default = df2[ df2['loan_repaid'] == 0 ]"
   ]
  },
  {
   "cell_type": "code",
   "execution_count": 99,
   "id": "mature-climate",
   "metadata": {},
   "outputs": [
    {
     "data": {
      "text/plain": [
       "77457"
      ]
     },
     "execution_count": 99,
     "metadata": {},
     "output_type": "execute_result"
    }
   ],
   "source": [
    "n_default = len(df_default)\n",
    "n_default"
   ]
  },
  {
   "cell_type": "code",
   "execution_count": 100,
   "id": "overhead-letters",
   "metadata": {},
   "outputs": [
    {
     "data": {
      "text/plain": [
       "77457"
      ]
     },
     "execution_count": 100,
     "metadata": {},
     "output_type": "execute_result"
    }
   ],
   "source": [
    "df_sample = df_paid.sample(n=n_default, random_state=101)\n",
    "len(df_sample)"
   ]
  },
  {
   "cell_type": "code",
   "execution_count": 101,
   "id": "expanded-mystery",
   "metadata": {},
   "outputs": [
    {
     "data": {
      "text/html": [
       "<div>\n",
       "<style scoped>\n",
       "    .dataframe tbody tr th:only-of-type {\n",
       "        vertical-align: middle;\n",
       "    }\n",
       "\n",
       "    .dataframe tbody tr th {\n",
       "        vertical-align: top;\n",
       "    }\n",
       "\n",
       "    .dataframe thead th {\n",
       "        text-align: right;\n",
       "    }\n",
       "</style>\n",
       "<table border=\"1\" class=\"dataframe\">\n",
       "  <thead>\n",
       "    <tr style=\"text-align: right;\">\n",
       "      <th></th>\n",
       "      <th>loan_amnt</th>\n",
       "      <th>term</th>\n",
       "      <th>int_rate</th>\n",
       "      <th>installment</th>\n",
       "      <th>annual_inc</th>\n",
       "      <th>dti</th>\n",
       "      <th>earliest_cr_line</th>\n",
       "      <th>open_acc</th>\n",
       "      <th>pub_rec</th>\n",
       "      <th>revol_bal</th>\n",
       "      <th>...</th>\n",
       "      <th>G4</th>\n",
       "      <th>G5</th>\n",
       "      <th>verification_status_Source Verified</th>\n",
       "      <th>verification_status_Verified</th>\n",
       "      <th>application_type_INDIVIDUAL</th>\n",
       "      <th>application_type_JOINT</th>\n",
       "      <th>initial_list_status_w</th>\n",
       "      <th>OTHER</th>\n",
       "      <th>OWN</th>\n",
       "      <th>RENT</th>\n",
       "    </tr>\n",
       "  </thead>\n",
       "  <tbody>\n",
       "    <tr>\n",
       "      <th>0</th>\n",
       "      <td>15000.0</td>\n",
       "      <td>36</td>\n",
       "      <td>6.17</td>\n",
       "      <td>375.91</td>\n",
       "      <td>99000.0</td>\n",
       "      <td>7.67</td>\n",
       "      <td>1998</td>\n",
       "      <td>12.0</td>\n",
       "      <td>0.0</td>\n",
       "      <td>2374.0</td>\n",
       "      <td>...</td>\n",
       "      <td>0</td>\n",
       "      <td>0</td>\n",
       "      <td>0</td>\n",
       "      <td>0</td>\n",
       "      <td>1</td>\n",
       "      <td>0</td>\n",
       "      <td>0</td>\n",
       "      <td>0</td>\n",
       "      <td>0</td>\n",
       "      <td>0</td>\n",
       "    </tr>\n",
       "    <tr>\n",
       "      <th>1</th>\n",
       "      <td>25975.0</td>\n",
       "      <td>60</td>\n",
       "      <td>24.08</td>\n",
       "      <td>748.46</td>\n",
       "      <td>65000.0</td>\n",
       "      <td>23.84</td>\n",
       "      <td>2003</td>\n",
       "      <td>19.0</td>\n",
       "      <td>0.0</td>\n",
       "      <td>21603.0</td>\n",
       "      <td>...</td>\n",
       "      <td>0</td>\n",
       "      <td>0</td>\n",
       "      <td>1</td>\n",
       "      <td>0</td>\n",
       "      <td>1</td>\n",
       "      <td>0</td>\n",
       "      <td>0</td>\n",
       "      <td>0</td>\n",
       "      <td>0</td>\n",
       "      <td>0</td>\n",
       "    </tr>\n",
       "    <tr>\n",
       "      <th>2</th>\n",
       "      <td>21000.0</td>\n",
       "      <td>36</td>\n",
       "      <td>7.90</td>\n",
       "      <td>657.10</td>\n",
       "      <td>240000.0</td>\n",
       "      <td>21.31</td>\n",
       "      <td>1998</td>\n",
       "      <td>16.0</td>\n",
       "      <td>0.0</td>\n",
       "      <td>222543.0</td>\n",
       "      <td>...</td>\n",
       "      <td>0</td>\n",
       "      <td>0</td>\n",
       "      <td>0</td>\n",
       "      <td>1</td>\n",
       "      <td>1</td>\n",
       "      <td>0</td>\n",
       "      <td>0</td>\n",
       "      <td>0</td>\n",
       "      <td>0</td>\n",
       "      <td>0</td>\n",
       "    </tr>\n",
       "    <tr>\n",
       "      <th>3</th>\n",
       "      <td>14400.0</td>\n",
       "      <td>36</td>\n",
       "      <td>13.11</td>\n",
       "      <td>485.96</td>\n",
       "      <td>50000.0</td>\n",
       "      <td>26.09</td>\n",
       "      <td>1998</td>\n",
       "      <td>9.0</td>\n",
       "      <td>0.0</td>\n",
       "      <td>7333.0</td>\n",
       "      <td>...</td>\n",
       "      <td>0</td>\n",
       "      <td>0</td>\n",
       "      <td>0</td>\n",
       "      <td>0</td>\n",
       "      <td>1</td>\n",
       "      <td>0</td>\n",
       "      <td>0</td>\n",
       "      <td>0</td>\n",
       "      <td>0</td>\n",
       "      <td>1</td>\n",
       "    </tr>\n",
       "    <tr>\n",
       "      <th>4</th>\n",
       "      <td>15000.0</td>\n",
       "      <td>60</td>\n",
       "      <td>17.57</td>\n",
       "      <td>377.41</td>\n",
       "      <td>85000.0</td>\n",
       "      <td>18.31</td>\n",
       "      <td>2002</td>\n",
       "      <td>9.0</td>\n",
       "      <td>0.0</td>\n",
       "      <td>6188.0</td>\n",
       "      <td>...</td>\n",
       "      <td>0</td>\n",
       "      <td>0</td>\n",
       "      <td>0</td>\n",
       "      <td>0</td>\n",
       "      <td>1</td>\n",
       "      <td>0</td>\n",
       "      <td>1</td>\n",
       "      <td>0</td>\n",
       "      <td>0</td>\n",
       "      <td>0</td>\n",
       "    </tr>\n",
       "    <tr>\n",
       "      <th>...</th>\n",
       "      <td>...</td>\n",
       "      <td>...</td>\n",
       "      <td>...</td>\n",
       "      <td>...</td>\n",
       "      <td>...</td>\n",
       "      <td>...</td>\n",
       "      <td>...</td>\n",
       "      <td>...</td>\n",
       "      <td>...</td>\n",
       "      <td>...</td>\n",
       "      <td>...</td>\n",
       "      <td>...</td>\n",
       "      <td>...</td>\n",
       "      <td>...</td>\n",
       "      <td>...</td>\n",
       "      <td>...</td>\n",
       "      <td>...</td>\n",
       "      <td>...</td>\n",
       "      <td>...</td>\n",
       "      <td>...</td>\n",
       "      <td>...</td>\n",
       "    </tr>\n",
       "    <tr>\n",
       "      <th>154909</th>\n",
       "      <td>3000.0</td>\n",
       "      <td>36</td>\n",
       "      <td>18.99</td>\n",
       "      <td>109.96</td>\n",
       "      <td>37000.0</td>\n",
       "      <td>24.91</td>\n",
       "      <td>2002</td>\n",
       "      <td>15.0</td>\n",
       "      <td>0.0</td>\n",
       "      <td>8288.0</td>\n",
       "      <td>...</td>\n",
       "      <td>0</td>\n",
       "      <td>0</td>\n",
       "      <td>1</td>\n",
       "      <td>0</td>\n",
       "      <td>1</td>\n",
       "      <td>0</td>\n",
       "      <td>0</td>\n",
       "      <td>0</td>\n",
       "      <td>0</td>\n",
       "      <td>0</td>\n",
       "    </tr>\n",
       "    <tr>\n",
       "      <th>154910</th>\n",
       "      <td>11650.0</td>\n",
       "      <td>36</td>\n",
       "      <td>9.76</td>\n",
       "      <td>374.61</td>\n",
       "      <td>70720.0</td>\n",
       "      <td>29.34</td>\n",
       "      <td>1996</td>\n",
       "      <td>11.0</td>\n",
       "      <td>0.0</td>\n",
       "      <td>10510.0</td>\n",
       "      <td>...</td>\n",
       "      <td>0</td>\n",
       "      <td>0</td>\n",
       "      <td>0</td>\n",
       "      <td>1</td>\n",
       "      <td>1</td>\n",
       "      <td>0</td>\n",
       "      <td>0</td>\n",
       "      <td>0</td>\n",
       "      <td>0</td>\n",
       "      <td>0</td>\n",
       "    </tr>\n",
       "    <tr>\n",
       "      <th>154911</th>\n",
       "      <td>16000.0</td>\n",
       "      <td>60</td>\n",
       "      <td>15.61</td>\n",
       "      <td>385.79</td>\n",
       "      <td>65500.0</td>\n",
       "      <td>20.59</td>\n",
       "      <td>2001</td>\n",
       "      <td>18.0</td>\n",
       "      <td>0.0</td>\n",
       "      <td>7882.0</td>\n",
       "      <td>...</td>\n",
       "      <td>0</td>\n",
       "      <td>0</td>\n",
       "      <td>1</td>\n",
       "      <td>0</td>\n",
       "      <td>1</td>\n",
       "      <td>0</td>\n",
       "      <td>1</td>\n",
       "      <td>0</td>\n",
       "      <td>0</td>\n",
       "      <td>1</td>\n",
       "    </tr>\n",
       "    <tr>\n",
       "      <th>154912</th>\n",
       "      <td>15000.0</td>\n",
       "      <td>36</td>\n",
       "      <td>14.65</td>\n",
       "      <td>517.42</td>\n",
       "      <td>56000.0</td>\n",
       "      <td>14.34</td>\n",
       "      <td>1996</td>\n",
       "      <td>8.0</td>\n",
       "      <td>0.0</td>\n",
       "      <td>17225.0</td>\n",
       "      <td>...</td>\n",
       "      <td>0</td>\n",
       "      <td>0</td>\n",
       "      <td>1</td>\n",
       "      <td>0</td>\n",
       "      <td>1</td>\n",
       "      <td>0</td>\n",
       "      <td>0</td>\n",
       "      <td>0</td>\n",
       "      <td>0</td>\n",
       "      <td>0</td>\n",
       "    </tr>\n",
       "    <tr>\n",
       "      <th>154913</th>\n",
       "      <td>12125.0</td>\n",
       "      <td>36</td>\n",
       "      <td>14.65</td>\n",
       "      <td>418.25</td>\n",
       "      <td>44000.0</td>\n",
       "      <td>26.60</td>\n",
       "      <td>2009</td>\n",
       "      <td>9.0</td>\n",
       "      <td>0.0</td>\n",
       "      <td>27319.0</td>\n",
       "      <td>...</td>\n",
       "      <td>0</td>\n",
       "      <td>0</td>\n",
       "      <td>0</td>\n",
       "      <td>0</td>\n",
       "      <td>1</td>\n",
       "      <td>0</td>\n",
       "      <td>1</td>\n",
       "      <td>0</td>\n",
       "      <td>0</td>\n",
       "      <td>0</td>\n",
       "    </tr>\n",
       "  </tbody>\n",
       "</table>\n",
       "<p>154914 rows × 57 columns</p>\n",
       "</div>"
      ],
      "text/plain": [
       "        loan_amnt  term  int_rate  installment  annual_inc    dti  \\\n",
       "0         15000.0    36      6.17       375.91     99000.0   7.67   \n",
       "1         25975.0    60     24.08       748.46     65000.0  23.84   \n",
       "2         21000.0    36      7.90       657.10    240000.0  21.31   \n",
       "3         14400.0    36     13.11       485.96     50000.0  26.09   \n",
       "4         15000.0    60     17.57       377.41     85000.0  18.31   \n",
       "...           ...   ...       ...          ...         ...    ...   \n",
       "154909     3000.0    36     18.99       109.96     37000.0  24.91   \n",
       "154910    11650.0    36      9.76       374.61     70720.0  29.34   \n",
       "154911    16000.0    60     15.61       385.79     65500.0  20.59   \n",
       "154912    15000.0    36     14.65       517.42     56000.0  14.34   \n",
       "154913    12125.0    36     14.65       418.25     44000.0  26.60   \n",
       "\n",
       "        earliest_cr_line  open_acc  pub_rec  revol_bal  ...  G4  G5  \\\n",
       "0                   1998      12.0      0.0     2374.0  ...   0   0   \n",
       "1                   2003      19.0      0.0    21603.0  ...   0   0   \n",
       "2                   1998      16.0      0.0   222543.0  ...   0   0   \n",
       "3                   1998       9.0      0.0     7333.0  ...   0   0   \n",
       "4                   2002       9.0      0.0     6188.0  ...   0   0   \n",
       "...                  ...       ...      ...        ...  ...  ..  ..   \n",
       "154909              2002      15.0      0.0     8288.0  ...   0   0   \n",
       "154910              1996      11.0      0.0    10510.0  ...   0   0   \n",
       "154911              2001      18.0      0.0     7882.0  ...   0   0   \n",
       "154912              1996       8.0      0.0    17225.0  ...   0   0   \n",
       "154913              2009       9.0      0.0    27319.0  ...   0   0   \n",
       "\n",
       "        verification_status_Source Verified  verification_status_Verified  \\\n",
       "0                                         0                             0   \n",
       "1                                         1                             0   \n",
       "2                                         0                             1   \n",
       "3                                         0                             0   \n",
       "4                                         0                             0   \n",
       "...                                     ...                           ...   \n",
       "154909                                    1                             0   \n",
       "154910                                    0                             1   \n",
       "154911                                    1                             0   \n",
       "154912                                    1                             0   \n",
       "154913                                    0                             0   \n",
       "\n",
       "        application_type_INDIVIDUAL  application_type_JOINT  \\\n",
       "0                                 1                       0   \n",
       "1                                 1                       0   \n",
       "2                                 1                       0   \n",
       "3                                 1                       0   \n",
       "4                                 1                       0   \n",
       "...                             ...                     ...   \n",
       "154909                            1                       0   \n",
       "154910                            1                       0   \n",
       "154911                            1                       0   \n",
       "154912                            1                       0   \n",
       "154913                            1                       0   \n",
       "\n",
       "        initial_list_status_w  OTHER  OWN  RENT  \n",
       "0                           0      0    0     0  \n",
       "1                           0      0    0     0  \n",
       "2                           0      0    0     0  \n",
       "3                           0      0    0     1  \n",
       "4                           1      0    0     0  \n",
       "...                       ...    ...  ...   ...  \n",
       "154909                      0      0    0     0  \n",
       "154910                      0      0    0     0  \n",
       "154911                      1      0    0     1  \n",
       "154912                      0      0    0     0  \n",
       "154913                      1      0    0     0  \n",
       "\n",
       "[154914 rows x 57 columns]"
      ]
     },
     "execution_count": 101,
     "metadata": {},
     "output_type": "execute_result"
    }
   ],
   "source": [
    "df_bal2 = pd.concat([df_default, df_sample], axis=0)\n",
    "df_bal2 = df_bal2.sample(frac=1, random_state=101)\n",
    "df_bal2.reset_index(inplace=True, drop=True)\n",
    "df_bal2"
   ]
  },
  {
   "cell_type": "markdown",
   "id": "acting-subsection",
   "metadata": {},
   "source": [
    "### Split the Data for Modeling"
   ]
  },
  {
   "cell_type": "code",
   "execution_count": 102,
   "id": "matched-casting",
   "metadata": {},
   "outputs": [],
   "source": [
    "X = df_bal2.drop('loan_repaid', axis=1)\n",
    "y = df_bal2['loan_repaid']"
   ]
  },
  {
   "cell_type": "code",
   "execution_count": 103,
   "id": "chief-student",
   "metadata": {},
   "outputs": [
    {
     "data": {
      "text/plain": [
       "(154914, 56)"
      ]
     },
     "execution_count": 103,
     "metadata": {},
     "output_type": "execute_result"
    }
   ],
   "source": [
    "X.shape"
   ]
  },
  {
   "cell_type": "code",
   "execution_count": 104,
   "id": "frozen-amplifier",
   "metadata": {},
   "outputs": [
    {
     "data": {
      "text/plain": [
       "(154914,)"
      ]
     },
     "execution_count": 104,
     "metadata": {},
     "output_type": "execute_result"
    }
   ],
   "source": [
    "y.shape"
   ]
  },
  {
   "cell_type": "code",
   "execution_count": 105,
   "id": "dressed-lloyd",
   "metadata": {},
   "outputs": [],
   "source": [
    "# train-validation-test split: 80-10-10\n",
    "\n",
    "# SPLIT #1\n",
    "X_train, X_temp, y_train, y_temp = train_test_split(X, y, test_size=0.20, random_state=101)\n",
    "\n",
    "# SPLIT #2\n",
    "X_valid, X_test, y_valid, y_test = train_test_split(X_temp, y_temp, test_size=0.50, random_state=101)"
   ]
  },
  {
   "cell_type": "code",
   "execution_count": 106,
   "id": "continuing-economy",
   "metadata": {},
   "outputs": [
    {
     "data": {
      "text/plain": [
       "(123931, 56)"
      ]
     },
     "execution_count": 106,
     "metadata": {},
     "output_type": "execute_result"
    }
   ],
   "source": [
    "X_train.shape"
   ]
  },
  {
   "cell_type": "code",
   "execution_count": 107,
   "id": "christian-politics",
   "metadata": {},
   "outputs": [
    {
     "data": {
      "text/plain": [
       "(15491, 56)"
      ]
     },
     "execution_count": 107,
     "metadata": {},
     "output_type": "execute_result"
    }
   ],
   "source": [
    "X_valid.shape"
   ]
  },
  {
   "cell_type": "code",
   "execution_count": 108,
   "id": "mighty-staff",
   "metadata": {},
   "outputs": [
    {
     "data": {
      "text/plain": [
       "(15492, 56)"
      ]
     },
     "execution_count": 108,
     "metadata": {},
     "output_type": "execute_result"
    }
   ],
   "source": [
    "X_test.shape"
   ]
  },
  {
   "cell_type": "code",
   "execution_count": 109,
   "id": "cooked-remainder",
   "metadata": {},
   "outputs": [],
   "source": [
    "scaler = StandardScaler()\n",
    "X_train = scaler.fit_transform(X_train)\n",
    "X_valid = scaler.transform(X_valid)\n",
    "X_test = scaler.transform(X_test)"
   ]
  },
  {
   "cell_type": "markdown",
   "id": "decimal-hospital",
   "metadata": {},
   "source": [
    "## Building and Training the NN Model"
   ]
  },
  {
   "cell_type": "code",
   "execution_count": 112,
   "id": "subject-bradford",
   "metadata": {},
   "outputs": [],
   "source": [
    "# input variables\n",
    "input_shape = X_train.shape[1]  # (do not change)\n",
    "dropout_rate = 0.5   # typical values between 0.2 and 0.5\n",
    "\n",
    "# initialize model\n",
    "model = Sequential()\n",
    "\n",
    "# input layer\n",
    "model.add(Dense(input_shape, activation='relu'))\n",
    "model.add(Dropout(dropout_rate))\n",
    "\n",
    "# hidden layer(s)\n",
    "model.add(Dense(32, activation='relu'))\n",
    "model.add(Dropout(dropout_rate))\n",
    "model.add(Dense(32, activation='relu'))\n",
    "model.add(Dropout(dropout_rate))\n",
    "model.add(Dense(32, activation='relu'))\n",
    "model.add(Dropout(dropout_rate))\n",
    "\n",
    "# output layer\n",
    "model.add(Dense(units=1, activation='sigmoid'))\n",
    "\n",
    "# compile model\n",
    "model.compile(loss='binary_crossentropy', optimizer='adam')"
   ]
  },
  {
   "cell_type": "code",
   "execution_count": 113,
   "id": "ultimate-repository",
   "metadata": {},
   "outputs": [],
   "source": [
    "# choose min because we want to minimize the loss (or error); for accuracy, use max\n",
    "early_stop = EarlyStopping(monitor='val_loss', \n",
    "                           mode='min', \n",
    "                           verbose=2, \n",
    "                           patience=20)"
   ]
  },
  {
   "cell_type": "code",
   "execution_count": 114,
   "id": "appreciated-university",
   "metadata": {},
   "outputs": [
    {
     "name": "stdout",
     "output_type": "stream",
     "text": [
      "Epoch 1/256\n",
      "969/969 - 2s - loss: 0.6921 - val_loss: 0.6643\n",
      "Epoch 2/256\n",
      "969/969 - 1s - loss: 0.6542 - val_loss: 0.6432\n",
      "Epoch 3/256\n",
      "969/969 - 1s - loss: 0.6446 - val_loss: 0.6396\n",
      "Epoch 4/256\n",
      "969/969 - 1s - loss: 0.6407 - val_loss: 0.6357\n",
      "Epoch 5/256\n",
      "969/969 - 1s - loss: 0.6386 - val_loss: 0.6328\n",
      "Epoch 6/256\n",
      "969/969 - 1s - loss: 0.6378 - val_loss: 0.6315\n",
      "Epoch 7/256\n",
      "969/969 - 1s - loss: 0.6362 - val_loss: 0.6301\n",
      "Epoch 8/256\n",
      "969/969 - 1s - loss: 0.6352 - val_loss: 0.6281\n",
      "Epoch 9/256\n",
      "969/969 - 1s - loss: 0.6342 - val_loss: 0.6221\n",
      "Epoch 10/256\n",
      "969/969 - 1s - loss: 0.6337 - val_loss: 0.6263\n",
      "Epoch 11/256\n",
      "969/969 - 1s - loss: 0.6330 - val_loss: 0.6295\n",
      "Epoch 12/256\n",
      "969/969 - 1s - loss: 0.6335 - val_loss: 0.6289\n",
      "Epoch 13/256\n",
      "969/969 - 1s - loss: 0.6329 - val_loss: 0.6297\n",
      "Epoch 14/256\n",
      "969/969 - 1s - loss: 0.6319 - val_loss: 0.6265\n",
      "Epoch 15/256\n",
      "969/969 - 1s - loss: 0.6320 - val_loss: 0.6223\n",
      "Epoch 16/256\n",
      "969/969 - 1s - loss: 0.6317 - val_loss: 0.6272\n",
      "Epoch 17/256\n",
      "969/969 - 1s - loss: 0.6313 - val_loss: 0.6245\n",
      "Epoch 18/256\n",
      "969/969 - 1s - loss: 0.6314 - val_loss: 0.6256\n",
      "Epoch 19/256\n",
      "969/969 - 1s - loss: 0.6319 - val_loss: 0.6266\n",
      "Epoch 20/256\n",
      "969/969 - 1s - loss: 0.6305 - val_loss: 0.6245\n",
      "Epoch 21/256\n",
      "969/969 - 1s - loss: 0.6308 - val_loss: 0.6246\n",
      "Epoch 22/256\n",
      "969/969 - 1s - loss: 0.6299 - val_loss: 0.6244\n",
      "Epoch 23/256\n",
      "969/969 - 1s - loss: 0.6300 - val_loss: 0.6229\n",
      "Epoch 24/256\n",
      "969/969 - 1s - loss: 0.6290 - val_loss: 0.6221\n",
      "Epoch 25/256\n",
      "969/969 - 1s - loss: 0.6298 - val_loss: 0.6250\n",
      "Epoch 26/256\n",
      "969/969 - 2s - loss: 0.6292 - val_loss: 0.6241\n",
      "Epoch 27/256\n",
      "969/969 - 2s - loss: 0.6302 - val_loss: 0.6223\n",
      "Epoch 28/256\n",
      "969/969 - 2s - loss: 0.6291 - val_loss: 0.6242\n",
      "Epoch 29/256\n",
      "969/969 - 1s - loss: 0.6294 - val_loss: 0.6225\n",
      "Epoch 30/256\n",
      "969/969 - 1s - loss: 0.6280 - val_loss: 0.6215\n",
      "Epoch 31/256\n",
      "969/969 - 2s - loss: 0.6285 - val_loss: 0.6248\n",
      "Epoch 32/256\n",
      "969/969 - 1s - loss: 0.6285 - val_loss: 0.6218\n",
      "Epoch 33/256\n",
      "969/969 - 2s - loss: 0.6284 - val_loss: 0.6211\n",
      "Epoch 34/256\n",
      "969/969 - 1s - loss: 0.6284 - val_loss: 0.6206\n",
      "Epoch 35/256\n",
      "969/969 - 1s - loss: 0.6280 - val_loss: 0.6222\n",
      "Epoch 36/256\n",
      "969/969 - 1s - loss: 0.6279 - val_loss: 0.6220\n",
      "Epoch 37/256\n",
      "969/969 - 1s - loss: 0.6278 - val_loss: 0.6230\n",
      "Epoch 38/256\n",
      "969/969 - 1s - loss: 0.6283 - val_loss: 0.6221\n",
      "Epoch 39/256\n",
      "969/969 - 1s - loss: 0.6272 - val_loss: 0.6209\n",
      "Epoch 40/256\n",
      "969/969 - 1s - loss: 0.6281 - val_loss: 0.6229\n",
      "Epoch 41/256\n",
      "969/969 - 1s - loss: 0.6281 - val_loss: 0.6248\n",
      "Epoch 42/256\n",
      "969/969 - 1s - loss: 0.6281 - val_loss: 0.6210\n",
      "Epoch 43/256\n",
      "969/969 - 1s - loss: 0.6274 - val_loss: 0.6232\n",
      "Epoch 44/256\n",
      "969/969 - 1s - loss: 0.6270 - val_loss: 0.6248\n",
      "Epoch 45/256\n",
      "969/969 - 1s - loss: 0.6275 - val_loss: 0.6222\n",
      "Epoch 46/256\n",
      "969/969 - 1s - loss: 0.6280 - val_loss: 0.6198\n",
      "Epoch 47/256\n",
      "969/969 - 1s - loss: 0.6271 - val_loss: 0.6228\n",
      "Epoch 48/256\n",
      "969/969 - 2s - loss: 0.6280 - val_loss: 0.6182\n",
      "Epoch 49/256\n",
      "969/969 - 1s - loss: 0.6274 - val_loss: 0.6211\n",
      "Epoch 50/256\n",
      "969/969 - 2s - loss: 0.6271 - val_loss: 0.6233\n",
      "Epoch 51/256\n",
      "969/969 - 2s - loss: 0.6263 - val_loss: 0.6222\n",
      "Epoch 52/256\n",
      "969/969 - 1s - loss: 0.6270 - val_loss: 0.6211\n",
      "Epoch 53/256\n",
      "969/969 - 1s - loss: 0.6266 - val_loss: 0.6234\n",
      "Epoch 54/256\n",
      "969/969 - 1s - loss: 0.6270 - val_loss: 0.6207\n",
      "Epoch 55/256\n",
      "969/969 - 1s - loss: 0.6272 - val_loss: 0.6203\n",
      "Epoch 56/256\n",
      "969/969 - 1s - loss: 0.6270 - val_loss: 0.6219\n",
      "Epoch 57/256\n",
      "969/969 - 1s - loss: 0.6266 - val_loss: 0.6262\n",
      "Epoch 58/256\n",
      "969/969 - 1s - loss: 0.6271 - val_loss: 0.6237\n",
      "Epoch 59/256\n",
      "969/969 - 1s - loss: 0.6261 - val_loss: 0.6209\n",
      "Epoch 60/256\n",
      "969/969 - 1s - loss: 0.6263 - val_loss: 0.6219\n",
      "Epoch 61/256\n",
      "969/969 - 1s - loss: 0.6264 - val_loss: 0.6235\n",
      "Epoch 62/256\n",
      "969/969 - 1s - loss: 0.6272 - val_loss: 0.6219\n",
      "Epoch 63/256\n",
      "969/969 - 1s - loss: 0.6266 - val_loss: 0.6179\n",
      "Epoch 64/256\n",
      "969/969 - 1s - loss: 0.6269 - val_loss: 0.6180\n",
      "Epoch 65/256\n",
      "969/969 - 1s - loss: 0.6264 - val_loss: 0.6232\n",
      "Epoch 66/256\n",
      "969/969 - 1s - loss: 0.6261 - val_loss: 0.6220\n",
      "Epoch 67/256\n",
      "969/969 - 1s - loss: 0.6265 - val_loss: 0.6259\n",
      "Epoch 68/256\n",
      "969/969 - 1s - loss: 0.6265 - val_loss: 0.6209\n",
      "Epoch 69/256\n",
      "969/969 - 1s - loss: 0.6268 - val_loss: 0.6244\n",
      "Epoch 70/256\n",
      "969/969 - 1s - loss: 0.6262 - val_loss: 0.6217\n",
      "Epoch 71/256\n",
      "969/969 - 1s - loss: 0.6265 - val_loss: 0.6216\n",
      "Epoch 72/256\n",
      "969/969 - 1s - loss: 0.6264 - val_loss: 0.6207\n",
      "Epoch 73/256\n",
      "969/969 - 1s - loss: 0.6258 - val_loss: 0.6233\n",
      "Epoch 74/256\n",
      "969/969 - 1s - loss: 0.6260 - val_loss: 0.6257\n",
      "Epoch 75/256\n",
      "969/969 - 1s - loss: 0.6266 - val_loss: 0.6223\n",
      "Epoch 76/256\n",
      "969/969 - 1s - loss: 0.6261 - val_loss: 0.6239\n",
      "Epoch 77/256\n",
      "969/969 - 1s - loss: 0.6263 - val_loss: 0.6220\n",
      "Epoch 78/256\n",
      "969/969 - 1s - loss: 0.6257 - val_loss: 0.6214\n",
      "Epoch 79/256\n",
      "969/969 - 1s - loss: 0.6260 - val_loss: 0.6247\n",
      "Epoch 80/256\n",
      "969/969 - 1s - loss: 0.6260 - val_loss: 0.6237\n",
      "Epoch 81/256\n",
      "969/969 - 1s - loss: 0.6256 - val_loss: 0.6221\n",
      "Epoch 82/256\n",
      "969/969 - 1s - loss: 0.6270 - val_loss: 0.6227\n",
      "Epoch 83/256\n",
      "969/969 - 1s - loss: 0.6255 - val_loss: 0.6209\n",
      "Epoch 00083: early stopping\n"
     ]
    },
    {
     "data": {
      "text/plain": [
       "<tensorflow.python.keras.callbacks.History at 0x1948d656970>"
      ]
     },
     "execution_count": 114,
     "metadata": {},
     "output_type": "execute_result"
    }
   ],
   "source": [
    "# train the NN model\n",
    "model.fit(x=X_train, y=y_train,\n",
    "          epochs=256,\n",
    "          batch_size=128,\n",
    "          validation_data=(X_valid, y_valid),\n",
    "          callbacks=[early_stop],\n",
    "          verbose=2)"
   ]
  },
  {
   "cell_type": "code",
   "execution_count": 115,
   "id": "massive-israel",
   "metadata": {},
   "outputs": [
    {
     "data": {
      "image/png": "[encoded data removed]",
      "text/plain": [
       "<Figure size 432x288 with 1 Axes>"
      ]
     },
     "metadata": {
      "needs_background": "light"
     },
     "output_type": "display_data"
    }
   ],
   "source": [
    "# evaluate the loss for training and validation data\n",
    "losses = pd.DataFrame(model.history.history)\n",
    "losses.plot()\n",
    "plt.show()"
   ]
  },
  {
   "cell_type": "markdown",
   "id": "northern-nothing",
   "metadata": {},
   "source": [
    "## Model Evaluation"
   ]
  },
  {
   "cell_type": "code",
   "execution_count": 116,
   "id": "royal-projector",
   "metadata": {},
   "outputs": [
    {
     "name": "stdout",
     "output_type": "stream",
     "text": [
      "              precision    recall  f1-score   support\n",
      "\n",
      "           0       0.66      0.65      0.66      7766\n",
      "           1       0.65      0.66      0.66      7726\n",
      "\n",
      "    accuracy                           0.66     15492\n",
      "   macro avg       0.66      0.66      0.66     15492\n",
      "weighted avg       0.66      0.66      0.66     15492\n",
      "\n"
     ]
    }
   ],
   "source": [
    "y_pred = (model.predict(X_test) > 0.5).astype('int32')\n",
    "print(classification_report(y_test, y_pred))"
   ]
  }
 ],
 "metadata": {
  "kernelspec": {
   "display_name": "Python 3",
   "language": "python",
   "name": "python3"
  },
  "language_info": {
   "codemirror_mode": {
    "name": "ipython",
    "version": 3
   },
   "file_extension": ".py",
   "mimetype": "text/x-python",
   "name": "python",
   "nbconvert_exporter": "python",
   "pygments_lexer": "ipython3",
   "version": "3.8.8"
  }
 },
 "nbformat": 4,
 "nbformat_minor": 5
}
