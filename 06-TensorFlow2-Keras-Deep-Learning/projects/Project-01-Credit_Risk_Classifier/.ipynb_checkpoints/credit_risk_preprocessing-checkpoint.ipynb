{
 "cells": [
  {
   "cell_type": "markdown",
   "id": "loaded-animal",
   "metadata": {},
   "source": [
    "# Credit Risk Classifier - Data Preprocessing\n",
    "\n",
    "----\n",
    "\n",
    "### The Data\n",
    "\n",
    "We will be using a subset of the LendingClub data set obtained from Kaggle. The original dataset can be found at: https://www.kaggle.com/wordsforthewise/lending-club. The \"loan_status\" column contains our label (or classes used for the classification task). **NOTE: We are working with a special version of this data set that has some extra feature engineering requirements.**\n",
    "\n",
    "### Background\n",
    "\n",
    "LendingClub is a US peer-to-peer lending company, headquartered in San Francisco, California. It was the first peer-to-peer lender to register its offerings as securities with the Securities and Exchange Commission (SEC), and to offer loan trading on a secondary market. LendingClub is the world's largest peer-to-peer lending platform.\n",
    "\n",
    "### Project Goal\n",
    "\n",
    "Given historical data on loans given out with information on whether or not the borrower defaulted (charge-off), can we build a model that can predict wether or nor a borrower will pay back their loan? This way in the future when we get a new potential customer we can assess whether or not they are likely to pay back the loan. We will use typical classification metrics when evaluating the performance of our model.\n",
    "\n",
    "----"
   ]
  },
  {
   "cell_type": "markdown",
   "id": "smooth-civilization",
   "metadata": {},
   "source": [
    "## Data Overview\n",
    "\n",
    "There are many LendingClub data sets on Kaggle. Here is a table describing the information on this particular data set:\n",
    "\n",
    "<table border=\"1\" class=\"dataframe\">\n",
    "  <thead>\n",
    "    <tr style=\"text-align: right;\">\n",
    "      <th></th>\n",
    "      <th>LoanStatNew</th>\n",
    "      <th>Description</th>\n",
    "    </tr>\n",
    "  </thead>\n",
    "  <tbody>\n",
    "    <tr>\n",
    "      <th>0</th>\n",
    "      <td>loan_amnt</td>\n",
    "      <td>The listed amount of the loan applied for by the borrower. If at some point in time, the credit department reduces the loan amount, then it will be reflected in this value.</td>\n",
    "    </tr>\n",
    "    <tr>\n",
    "      <th>1</th>\n",
    "      <td>term</td>\n",
    "      <td>The number of payments on the loan. Values are in months and can be either 36 or 60.</td>\n",
    "    </tr>\n",
    "    <tr>\n",
    "      <th>2</th>\n",
    "      <td>int_rate</td>\n",
    "      <td>Interest Rate on the loan</td>\n",
    "    </tr>\n",
    "    <tr>\n",
    "      <th>3</th>\n",
    "      <td>installment</td>\n",
    "      <td>The monthly payment owed by the borrower if the loan originates.</td>\n",
    "    </tr>\n",
    "    <tr>\n",
    "      <th>4</th>\n",
    "      <td>grade</td>\n",
    "      <td>LC assigned loan grade</td>\n",
    "    </tr>\n",
    "    <tr>\n",
    "      <th>5</th>\n",
    "      <td>sub_grade</td>\n",
    "      <td>LC assigned loan subgrade</td>\n",
    "    </tr>\n",
    "    <tr>\n",
    "      <th>6</th>\n",
    "      <td>emp_title</td>\n",
    "      <td>The job title supplied by the Borrower when applying for the loan.*</td>\n",
    "    </tr>\n",
    "    <tr>\n",
    "      <th>7</th>\n",
    "      <td>emp_length</td>\n",
    "      <td>Employment length in years. Possible values are between 0 and 10 where 0 means less than one year and 10 means ten or more years.</td>\n",
    "    </tr>\n",
    "    <tr>\n",
    "      <th>8</th>\n",
    "      <td>home_ownership</td>\n",
    "      <td>The home ownership status provided by the borrower during registration or obtained from the credit report. Our values are: RENT, OWN, MORTGAGE, OTHER</td>\n",
    "    </tr>\n",
    "    <tr>\n",
    "      <th>9</th>\n",
    "      <td>annual_inc</td>\n",
    "      <td>The self-reported annual income provided by the borrower during registration.</td>\n",
    "    </tr>\n",
    "    <tr>\n",
    "      <th>10</th>\n",
    "      <td>verification_status</td>\n",
    "      <td>Indicates if income was verified by LC, not verified, or if the income source was verified</td>\n",
    "    </tr>\n",
    "    <tr>\n",
    "      <th>11</th>\n",
    "      <td>issue_d</td>\n",
    "      <td>The month which the loan was funded</td>\n",
    "    </tr>\n",
    "    <tr>\n",
    "      <th>12</th>\n",
    "      <td>loan_status</td>\n",
    "      <td>Current status of the loan</td>\n",
    "    </tr>\n",
    "    <tr>\n",
    "      <th>13</th>\n",
    "      <td>purpose</td>\n",
    "      <td>A category provided by the borrower for the loan request.</td>\n",
    "    </tr>\n",
    "    <tr>\n",
    "      <th>14</th>\n",
    "      <td>title</td>\n",
    "      <td>The loan title provided by the borrower</td>\n",
    "    </tr>\n",
    "    <tr>\n",
    "      <th>15</th>\n",
    "      <td>zip_code</td>\n",
    "      <td>The first 3 numbers of the zip code provided by the borrower in the loan application.</td>\n",
    "    </tr>\n",
    "    <tr>\n",
    "      <th>16</th>\n",
    "      <td>addr_state</td>\n",
    "      <td>The state provided by the borrower in the loan application</td>\n",
    "    </tr>\n",
    "    <tr>\n",
    "      <th>17</th>\n",
    "      <td>dti</td>\n",
    "      <td>A ratio calculated using the borrower’s total monthly debt payments on the total debt obligations, excluding mortgage and the requested LC loan, divided by the borrower’s self-reported monthly income.</td>\n",
    "    </tr>\n",
    "    <tr>\n",
    "      <th>18</th>\n",
    "      <td>earliest_cr_line</td>\n",
    "      <td>The month the borrower's earliest reported credit line was opened</td>\n",
    "    </tr>\n",
    "    <tr>\n",
    "      <th>19</th>\n",
    "      <td>open_acc</td>\n",
    "      <td>The number of open credit lines in the borrower's credit file.</td>\n",
    "    </tr>\n",
    "    <tr>\n",
    "      <th>20</th>\n",
    "      <td>pub_rec</td>\n",
    "      <td>Number of derogatory public records</td>\n",
    "    </tr>\n",
    "    <tr>\n",
    "      <th>21</th>\n",
    "      <td>revol_bal</td>\n",
    "      <td>Total credit revolving balance</td>\n",
    "    </tr>\n",
    "    <tr>\n",
    "      <th>22</th>\n",
    "      <td>revol_util</td>\n",
    "      <td>Revolving line utilization rate, or the amount of credit the borrower is using relative to all available revolving credit.</td>\n",
    "    </tr>\n",
    "    <tr>\n",
    "      <th>23</th>\n",
    "      <td>total_acc</td>\n",
    "      <td>The total number of credit lines currently in the borrower's credit file</td>\n",
    "    </tr>\n",
    "    <tr>\n",
    "      <th>24</th>\n",
    "      <td>initial_list_status</td>\n",
    "      <td>The initial listing status of the loan. Possible values are – W, F</td>\n",
    "    </tr>\n",
    "    <tr>\n",
    "      <th>25</th>\n",
    "      <td>application_type</td>\n",
    "      <td>Indicates whether the loan is an individual application or a joint application with two co-borrowers</td>\n",
    "    </tr>\n",
    "    <tr>\n",
    "      <th>26</th>\n",
    "      <td>mort_acc</td>\n",
    "      <td>Number of mortgage accounts.</td>\n",
    "    </tr>\n",
    "    <tr>\n",
    "      <th>27</th>\n",
    "      <td>pub_rec_bankruptcies</td>\n",
    "      <td>Number of public record bankruptcies</td>\n",
    "    </tr>\n",
    "  </tbody>\n",
    "</table>"
   ]
  },
  {
   "cell_type": "code",
   "execution_count": 1,
   "id": "married-track",
   "metadata": {},
   "outputs": [],
   "source": [
    "# load all the libraries and packages used in this notebook\n",
    "import numpy as np\n",
    "import pandas as pd\n",
    "import seaborn as sns\n",
    "import matplotlib.pyplot as plt\n",
    "\n",
    "# configure user settings\n",
    "%config Completer.use_jedi = False"
   ]
  },
  {
   "cell_type": "code",
   "execution_count": 2,
   "id": "overall-belfast",
   "metadata": {},
   "outputs": [],
   "source": [
    "# import selected functions\n",
    "\n"
   ]
  },
  {
   "cell_type": "code",
   "execution_count": 3,
   "id": "excessive-laptop",
   "metadata": {},
   "outputs": [
    {
     "data": {
      "text/html": [
       "<div>\n",
       "<style scoped>\n",
       "    .dataframe tbody tr th:only-of-type {\n",
       "        vertical-align: middle;\n",
       "    }\n",
       "\n",
       "    .dataframe tbody tr th {\n",
       "        vertical-align: top;\n",
       "    }\n",
       "\n",
       "    .dataframe thead th {\n",
       "        text-align: right;\n",
       "    }\n",
       "</style>\n",
       "<table border=\"1\" class=\"dataframe\">\n",
       "  <thead>\n",
       "    <tr style=\"text-align: right;\">\n",
       "      <th></th>\n",
       "      <th>loan_amnt</th>\n",
       "      <th>term</th>\n",
       "      <th>int_rate</th>\n",
       "      <th>installment</th>\n",
       "      <th>grade</th>\n",
       "      <th>sub_grade</th>\n",
       "      <th>emp_title</th>\n",
       "      <th>emp_length</th>\n",
       "      <th>home_ownership</th>\n",
       "      <th>annual_inc</th>\n",
       "      <th>...</th>\n",
       "      <th>open_acc</th>\n",
       "      <th>pub_rec</th>\n",
       "      <th>revol_bal</th>\n",
       "      <th>revol_util</th>\n",
       "      <th>total_acc</th>\n",
       "      <th>initial_list_status</th>\n",
       "      <th>application_type</th>\n",
       "      <th>mort_acc</th>\n",
       "      <th>pub_rec_bankruptcies</th>\n",
       "      <th>address</th>\n",
       "    </tr>\n",
       "  </thead>\n",
       "  <tbody>\n",
       "    <tr>\n",
       "      <th>0</th>\n",
       "      <td>10000.0</td>\n",
       "      <td>36 months</td>\n",
       "      <td>11.44</td>\n",
       "      <td>329.48</td>\n",
       "      <td>B</td>\n",
       "      <td>B4</td>\n",
       "      <td>Marketing</td>\n",
       "      <td>10+ years</td>\n",
       "      <td>RENT</td>\n",
       "      <td>117000.0</td>\n",
       "      <td>...</td>\n",
       "      <td>16.0</td>\n",
       "      <td>0.0</td>\n",
       "      <td>36369.0</td>\n",
       "      <td>41.8</td>\n",
       "      <td>25.0</td>\n",
       "      <td>w</td>\n",
       "      <td>INDIVIDUAL</td>\n",
       "      <td>0.0</td>\n",
       "      <td>0.0</td>\n",
       "      <td>0174 Michelle Gateway\\r\\nMendozaberg, OK 22690</td>\n",
       "    </tr>\n",
       "    <tr>\n",
       "      <th>1</th>\n",
       "      <td>8000.0</td>\n",
       "      <td>36 months</td>\n",
       "      <td>11.99</td>\n",
       "      <td>265.68</td>\n",
       "      <td>B</td>\n",
       "      <td>B5</td>\n",
       "      <td>Credit analyst</td>\n",
       "      <td>4 years</td>\n",
       "      <td>MORTGAGE</td>\n",
       "      <td>65000.0</td>\n",
       "      <td>...</td>\n",
       "      <td>17.0</td>\n",
       "      <td>0.0</td>\n",
       "      <td>20131.0</td>\n",
       "      <td>53.3</td>\n",
       "      <td>27.0</td>\n",
       "      <td>f</td>\n",
       "      <td>INDIVIDUAL</td>\n",
       "      <td>3.0</td>\n",
       "      <td>0.0</td>\n",
       "      <td>1076 Carney Fort Apt. 347\\r\\nLoganmouth, SD 05113</td>\n",
       "    </tr>\n",
       "    <tr>\n",
       "      <th>2</th>\n",
       "      <td>15600.0</td>\n",
       "      <td>36 months</td>\n",
       "      <td>10.49</td>\n",
       "      <td>506.97</td>\n",
       "      <td>B</td>\n",
       "      <td>B3</td>\n",
       "      <td>Statistician</td>\n",
       "      <td>&lt; 1 year</td>\n",
       "      <td>RENT</td>\n",
       "      <td>43057.0</td>\n",
       "      <td>...</td>\n",
       "      <td>13.0</td>\n",
       "      <td>0.0</td>\n",
       "      <td>11987.0</td>\n",
       "      <td>92.2</td>\n",
       "      <td>26.0</td>\n",
       "      <td>f</td>\n",
       "      <td>INDIVIDUAL</td>\n",
       "      <td>0.0</td>\n",
       "      <td>0.0</td>\n",
       "      <td>87025 Mark Dale Apt. 269\\r\\nNew Sabrina, WV 05113</td>\n",
       "    </tr>\n",
       "    <tr>\n",
       "      <th>3</th>\n",
       "      <td>7200.0</td>\n",
       "      <td>36 months</td>\n",
       "      <td>6.49</td>\n",
       "      <td>220.65</td>\n",
       "      <td>A</td>\n",
       "      <td>A2</td>\n",
       "      <td>Client Advocate</td>\n",
       "      <td>6 years</td>\n",
       "      <td>RENT</td>\n",
       "      <td>54000.0</td>\n",
       "      <td>...</td>\n",
       "      <td>6.0</td>\n",
       "      <td>0.0</td>\n",
       "      <td>5472.0</td>\n",
       "      <td>21.5</td>\n",
       "      <td>13.0</td>\n",
       "      <td>f</td>\n",
       "      <td>INDIVIDUAL</td>\n",
       "      <td>0.0</td>\n",
       "      <td>0.0</td>\n",
       "      <td>823 Reid Ford\\r\\nDelacruzside, MA 00813</td>\n",
       "    </tr>\n",
       "    <tr>\n",
       "      <th>4</th>\n",
       "      <td>24375.0</td>\n",
       "      <td>60 months</td>\n",
       "      <td>17.27</td>\n",
       "      <td>609.33</td>\n",
       "      <td>C</td>\n",
       "      <td>C5</td>\n",
       "      <td>Destiny Management Inc.</td>\n",
       "      <td>9 years</td>\n",
       "      <td>MORTGAGE</td>\n",
       "      <td>55000.0</td>\n",
       "      <td>...</td>\n",
       "      <td>13.0</td>\n",
       "      <td>0.0</td>\n",
       "      <td>24584.0</td>\n",
       "      <td>69.8</td>\n",
       "      <td>43.0</td>\n",
       "      <td>f</td>\n",
       "      <td>INDIVIDUAL</td>\n",
       "      <td>1.0</td>\n",
       "      <td>0.0</td>\n",
       "      <td>679 Luna Roads\\r\\nGreggshire, VA 11650</td>\n",
       "    </tr>\n",
       "    <tr>\n",
       "      <th>...</th>\n",
       "      <td>...</td>\n",
       "      <td>...</td>\n",
       "      <td>...</td>\n",
       "      <td>...</td>\n",
       "      <td>...</td>\n",
       "      <td>...</td>\n",
       "      <td>...</td>\n",
       "      <td>...</td>\n",
       "      <td>...</td>\n",
       "      <td>...</td>\n",
       "      <td>...</td>\n",
       "      <td>...</td>\n",
       "      <td>...</td>\n",
       "      <td>...</td>\n",
       "      <td>...</td>\n",
       "      <td>...</td>\n",
       "      <td>...</td>\n",
       "      <td>...</td>\n",
       "      <td>...</td>\n",
       "      <td>...</td>\n",
       "      <td>...</td>\n",
       "    </tr>\n",
       "    <tr>\n",
       "      <th>396025</th>\n",
       "      <td>10000.0</td>\n",
       "      <td>60 months</td>\n",
       "      <td>10.99</td>\n",
       "      <td>217.38</td>\n",
       "      <td>B</td>\n",
       "      <td>B4</td>\n",
       "      <td>licensed bankere</td>\n",
       "      <td>2 years</td>\n",
       "      <td>RENT</td>\n",
       "      <td>40000.0</td>\n",
       "      <td>...</td>\n",
       "      <td>6.0</td>\n",
       "      <td>0.0</td>\n",
       "      <td>1990.0</td>\n",
       "      <td>34.3</td>\n",
       "      <td>23.0</td>\n",
       "      <td>w</td>\n",
       "      <td>INDIVIDUAL</td>\n",
       "      <td>0.0</td>\n",
       "      <td>0.0</td>\n",
       "      <td>12951 Williams Crossing\\r\\nJohnnyville, DC 30723</td>\n",
       "    </tr>\n",
       "    <tr>\n",
       "      <th>396026</th>\n",
       "      <td>21000.0</td>\n",
       "      <td>36 months</td>\n",
       "      <td>12.29</td>\n",
       "      <td>700.42</td>\n",
       "      <td>C</td>\n",
       "      <td>C1</td>\n",
       "      <td>Agent</td>\n",
       "      <td>5 years</td>\n",
       "      <td>MORTGAGE</td>\n",
       "      <td>110000.0</td>\n",
       "      <td>...</td>\n",
       "      <td>6.0</td>\n",
       "      <td>0.0</td>\n",
       "      <td>43263.0</td>\n",
       "      <td>95.7</td>\n",
       "      <td>8.0</td>\n",
       "      <td>f</td>\n",
       "      <td>INDIVIDUAL</td>\n",
       "      <td>1.0</td>\n",
       "      <td>0.0</td>\n",
       "      <td>0114 Fowler Field Suite 028\\r\\nRachelborough, ...</td>\n",
       "    </tr>\n",
       "    <tr>\n",
       "      <th>396027</th>\n",
       "      <td>5000.0</td>\n",
       "      <td>36 months</td>\n",
       "      <td>9.99</td>\n",
       "      <td>161.32</td>\n",
       "      <td>B</td>\n",
       "      <td>B1</td>\n",
       "      <td>City Carrier</td>\n",
       "      <td>10+ years</td>\n",
       "      <td>RENT</td>\n",
       "      <td>56500.0</td>\n",
       "      <td>...</td>\n",
       "      <td>15.0</td>\n",
       "      <td>0.0</td>\n",
       "      <td>32704.0</td>\n",
       "      <td>66.9</td>\n",
       "      <td>23.0</td>\n",
       "      <td>f</td>\n",
       "      <td>INDIVIDUAL</td>\n",
       "      <td>0.0</td>\n",
       "      <td>0.0</td>\n",
       "      <td>953 Matthew Points Suite 414\\r\\nReedfort, NY 7...</td>\n",
       "    </tr>\n",
       "    <tr>\n",
       "      <th>396028</th>\n",
       "      <td>21000.0</td>\n",
       "      <td>60 months</td>\n",
       "      <td>15.31</td>\n",
       "      <td>503.02</td>\n",
       "      <td>C</td>\n",
       "      <td>C2</td>\n",
       "      <td>Gracon Services, Inc</td>\n",
       "      <td>10+ years</td>\n",
       "      <td>MORTGAGE</td>\n",
       "      <td>64000.0</td>\n",
       "      <td>...</td>\n",
       "      <td>9.0</td>\n",
       "      <td>0.0</td>\n",
       "      <td>15704.0</td>\n",
       "      <td>53.8</td>\n",
       "      <td>20.0</td>\n",
       "      <td>f</td>\n",
       "      <td>INDIVIDUAL</td>\n",
       "      <td>5.0</td>\n",
       "      <td>0.0</td>\n",
       "      <td>7843 Blake Freeway Apt. 229\\r\\nNew Michael, FL...</td>\n",
       "    </tr>\n",
       "    <tr>\n",
       "      <th>396029</th>\n",
       "      <td>2000.0</td>\n",
       "      <td>36 months</td>\n",
       "      <td>13.61</td>\n",
       "      <td>67.98</td>\n",
       "      <td>C</td>\n",
       "      <td>C2</td>\n",
       "      <td>Internal Revenue Service</td>\n",
       "      <td>10+ years</td>\n",
       "      <td>RENT</td>\n",
       "      <td>42996.0</td>\n",
       "      <td>...</td>\n",
       "      <td>3.0</td>\n",
       "      <td>0.0</td>\n",
       "      <td>4292.0</td>\n",
       "      <td>91.3</td>\n",
       "      <td>19.0</td>\n",
       "      <td>f</td>\n",
       "      <td>INDIVIDUAL</td>\n",
       "      <td>NaN</td>\n",
       "      <td>0.0</td>\n",
       "      <td>787 Michelle Causeway\\r\\nBriannaton, AR 48052</td>\n",
       "    </tr>\n",
       "  </tbody>\n",
       "</table>\n",
       "<p>396030 rows × 27 columns</p>\n",
       "</div>"
      ],
      "text/plain": [
       "        loan_amnt        term  int_rate  installment grade sub_grade  \\\n",
       "0         10000.0   36 months     11.44       329.48     B        B4   \n",
       "1          8000.0   36 months     11.99       265.68     B        B5   \n",
       "2         15600.0   36 months     10.49       506.97     B        B3   \n",
       "3          7200.0   36 months      6.49       220.65     A        A2   \n",
       "4         24375.0   60 months     17.27       609.33     C        C5   \n",
       "...           ...         ...       ...          ...   ...       ...   \n",
       "396025    10000.0   60 months     10.99       217.38     B        B4   \n",
       "396026    21000.0   36 months     12.29       700.42     C        C1   \n",
       "396027     5000.0   36 months      9.99       161.32     B        B1   \n",
       "396028    21000.0   60 months     15.31       503.02     C        C2   \n",
       "396029     2000.0   36 months     13.61        67.98     C        C2   \n",
       "\n",
       "                       emp_title emp_length home_ownership  annual_inc  ...  \\\n",
       "0                      Marketing  10+ years           RENT    117000.0  ...   \n",
       "1                Credit analyst     4 years       MORTGAGE     65000.0  ...   \n",
       "2                   Statistician   < 1 year           RENT     43057.0  ...   \n",
       "3                Client Advocate    6 years           RENT     54000.0  ...   \n",
       "4        Destiny Management Inc.    9 years       MORTGAGE     55000.0  ...   \n",
       "...                          ...        ...            ...         ...  ...   \n",
       "396025          licensed bankere    2 years           RENT     40000.0  ...   \n",
       "396026                     Agent    5 years       MORTGAGE    110000.0  ...   \n",
       "396027              City Carrier  10+ years           RENT     56500.0  ...   \n",
       "396028      Gracon Services, Inc  10+ years       MORTGAGE     64000.0  ...   \n",
       "396029  Internal Revenue Service  10+ years           RENT     42996.0  ...   \n",
       "\n",
       "       open_acc pub_rec revol_bal revol_util total_acc  initial_list_status  \\\n",
       "0          16.0     0.0   36369.0       41.8      25.0                    w   \n",
       "1          17.0     0.0   20131.0       53.3      27.0                    f   \n",
       "2          13.0     0.0   11987.0       92.2      26.0                    f   \n",
       "3           6.0     0.0    5472.0       21.5      13.0                    f   \n",
       "4          13.0     0.0   24584.0       69.8      43.0                    f   \n",
       "...         ...     ...       ...        ...       ...                  ...   \n",
       "396025      6.0     0.0    1990.0       34.3      23.0                    w   \n",
       "396026      6.0     0.0   43263.0       95.7       8.0                    f   \n",
       "396027     15.0     0.0   32704.0       66.9      23.0                    f   \n",
       "396028      9.0     0.0   15704.0       53.8      20.0                    f   \n",
       "396029      3.0     0.0    4292.0       91.3      19.0                    f   \n",
       "\n",
       "       application_type  mort_acc  pub_rec_bankruptcies  \\\n",
       "0            INDIVIDUAL       0.0                   0.0   \n",
       "1            INDIVIDUAL       3.0                   0.0   \n",
       "2            INDIVIDUAL       0.0                   0.0   \n",
       "3            INDIVIDUAL       0.0                   0.0   \n",
       "4            INDIVIDUAL       1.0                   0.0   \n",
       "...                 ...       ...                   ...   \n",
       "396025       INDIVIDUAL       0.0                   0.0   \n",
       "396026       INDIVIDUAL       1.0                   0.0   \n",
       "396027       INDIVIDUAL       0.0                   0.0   \n",
       "396028       INDIVIDUAL       5.0                   0.0   \n",
       "396029       INDIVIDUAL       NaN                   0.0   \n",
       "\n",
       "                                                  address  \n",
       "0          0174 Michelle Gateway\\r\\nMendozaberg, OK 22690  \n",
       "1       1076 Carney Fort Apt. 347\\r\\nLoganmouth, SD 05113  \n",
       "2       87025 Mark Dale Apt. 269\\r\\nNew Sabrina, WV 05113  \n",
       "3                 823 Reid Ford\\r\\nDelacruzside, MA 00813  \n",
       "4                  679 Luna Roads\\r\\nGreggshire, VA 11650  \n",
       "...                                                   ...  \n",
       "396025   12951 Williams Crossing\\r\\nJohnnyville, DC 30723  \n",
       "396026  0114 Fowler Field Suite 028\\r\\nRachelborough, ...  \n",
       "396027  953 Matthew Points Suite 414\\r\\nReedfort, NY 7...  \n",
       "396028  7843 Blake Freeway Apt. 229\\r\\nNew Michael, FL...  \n",
       "396029      787 Michelle Causeway\\r\\nBriannaton, AR 48052  \n",
       "\n",
       "[396030 rows x 27 columns]"
      ]
     },
     "execution_count": 3,
     "metadata": {},
     "output_type": "execute_result"
    }
   ],
   "source": [
    "# read in the original data set\n",
    "df = pd.read_csv('./data/lending_club_loan_two.csv')\n",
    "df"
   ]
  },
  {
   "cell_type": "code",
   "execution_count": 4,
   "id": "upper-trail",
   "metadata": {},
   "outputs": [
    {
     "data": {
      "text/plain": [
       "array(['Fully Paid', 'Charged Off'], dtype=object)"
      ]
     },
     "execution_count": 4,
     "metadata": {},
     "output_type": "execute_result"
    }
   ],
   "source": [
    "# This is our target: we will be building a model to try and predict \"fully paid\" (good) or \"charged off\" (bad).\n",
    "# Therefore we will use a binary classification approach\n",
    "df['loan_status'].unique()"
   ]
  },
  {
   "cell_type": "code",
   "execution_count": 5,
   "id": "median-sucking",
   "metadata": {},
   "outputs": [
    {
     "name": "stdout",
     "output_type": "stream",
     "text": [
      "<class 'pandas.core.frame.DataFrame'>\n",
      "RangeIndex: 396030 entries, 0 to 396029\n",
      "Data columns (total 27 columns):\n",
      " #   Column                Non-Null Count   Dtype  \n",
      "---  ------                --------------   -----  \n",
      " 0   loan_amnt             396030 non-null  float64\n",
      " 1   term                  396030 non-null  object \n",
      " 2   int_rate              396030 non-null  float64\n",
      " 3   installment           396030 non-null  float64\n",
      " 4   grade                 396030 non-null  object \n",
      " 5   sub_grade             396030 non-null  object \n",
      " 6   emp_title             373103 non-null  object \n",
      " 7   emp_length            377729 non-null  object \n",
      " 8   home_ownership        396030 non-null  object \n",
      " 9   annual_inc            396030 non-null  float64\n",
      " 10  verification_status   396030 non-null  object \n",
      " 11  issue_d               396030 non-null  object \n",
      " 12  loan_status           396030 non-null  object \n",
      " 13  purpose               396030 non-null  object \n",
      " 14  title                 394275 non-null  object \n",
      " 15  dti                   396030 non-null  float64\n",
      " 16  earliest_cr_line      396030 non-null  object \n",
      " 17  open_acc              396030 non-null  float64\n",
      " 18  pub_rec               396030 non-null  float64\n",
      " 19  revol_bal             396030 non-null  float64\n",
      " 20  revol_util            395754 non-null  float64\n",
      " 21  total_acc             396030 non-null  float64\n",
      " 22  initial_list_status   396030 non-null  object \n",
      " 23  application_type      396030 non-null  object \n",
      " 24  mort_acc              358235 non-null  float64\n",
      " 25  pub_rec_bankruptcies  395495 non-null  float64\n",
      " 26  address               396030 non-null  object \n",
      "dtypes: float64(12), object(15)\n",
      "memory usage: 81.6+ MB\n"
     ]
    }
   ],
   "source": [
    "df.info()"
   ]
  },
  {
   "cell_type": "code",
   "execution_count": 6,
   "id": "reduced-tower",
   "metadata": {},
   "outputs": [
    {
     "data": {
      "text/plain": [
       "loan_amnt                   0\n",
       "term                        0\n",
       "int_rate                    0\n",
       "installment                 0\n",
       "grade                       0\n",
       "sub_grade                   0\n",
       "emp_title               22927\n",
       "emp_length              18301\n",
       "home_ownership              0\n",
       "annual_inc                  0\n",
       "verification_status         0\n",
       "issue_d                     0\n",
       "loan_status                 0\n",
       "purpose                     0\n",
       "title                    1755\n",
       "dti                         0\n",
       "earliest_cr_line            0\n",
       "open_acc                    0\n",
       "pub_rec                     0\n",
       "revol_bal                   0\n",
       "revol_util                276\n",
       "total_acc                   0\n",
       "initial_list_status         0\n",
       "application_type            0\n",
       "mort_acc                37795\n",
       "pub_rec_bankruptcies      535\n",
       "address                     0\n",
       "dtype: int64"
      ]
     },
     "execution_count": 6,
     "metadata": {},
     "output_type": "execute_result"
    }
   ],
   "source": [
    "df.isnull().sum()"
   ]
  },
  {
   "cell_type": "code",
   "execution_count": 7,
   "id": "local-internship",
   "metadata": {},
   "outputs": [
    {
     "data": {
      "text/plain": [
       "0.06969169002348306"
      ]
     },
     "execution_count": 7,
     "metadata": {},
     "output_type": "execute_result"
    }
   ],
   "source": [
    "100 * (276.0/len(df['revol_util']))"
   ]
  },
  {
   "cell_type": "code",
   "execution_count": 8,
   "id": "convertible-genius",
   "metadata": {},
   "outputs": [
    {
     "data": {
      "text/plain": [
       "53.79174863677942"
      ]
     },
     "execution_count": 8,
     "metadata": {},
     "output_type": "execute_result"
    }
   ],
   "source": [
    "df['revol_util'].mean()"
   ]
  },
  {
   "cell_type": "code",
   "execution_count": 9,
   "id": "sharp-benefit",
   "metadata": {},
   "outputs": [
    {
     "data": {
      "image/png": "[encoded data removed]",
      "text/plain": [
       "<Figure size 360x360 with 1 Axes>"
      ]
     },
     "metadata": {
      "needs_background": "light"
     },
     "output_type": "display_data"
    }
   ],
   "source": [
    "sns.displot(x='revol_util', data=df);"
   ]
  },
  {
   "cell_type": "code",
   "execution_count": 10,
   "id": "center-garlic",
   "metadata": {},
   "outputs": [
    {
     "data": {
      "image/png": "[encoded data removed]",
      "text/plain": [
       "<Figure size 360x360 with 1 Axes>"
      ]
     },
     "metadata": {
      "needs_background": "light"
     },
     "output_type": "display_data"
    }
   ],
   "source": [
    "sns.displot(x='annual_inc', data=df);"
   ]
  },
  {
   "cell_type": "code",
   "execution_count": 11,
   "id": "proper-amateur",
   "metadata": {},
   "outputs": [
    {
     "data": {
      "text/html": [
       "<div>\n",
       "<style scoped>\n",
       "    .dataframe tbody tr th:only-of-type {\n",
       "        vertical-align: middle;\n",
       "    }\n",
       "\n",
       "    .dataframe tbody tr th {\n",
       "        vertical-align: top;\n",
       "    }\n",
       "\n",
       "    .dataframe thead th {\n",
       "        text-align: right;\n",
       "    }\n",
       "</style>\n",
       "<table border=\"1\" class=\"dataframe\">\n",
       "  <thead>\n",
       "    <tr style=\"text-align: right;\">\n",
       "      <th></th>\n",
       "      <th>count</th>\n",
       "      <th>mean</th>\n",
       "      <th>std</th>\n",
       "      <th>min</th>\n",
       "      <th>25%</th>\n",
       "      <th>50%</th>\n",
       "      <th>75%</th>\n",
       "      <th>max</th>\n",
       "    </tr>\n",
       "  </thead>\n",
       "  <tbody>\n",
       "    <tr>\n",
       "      <th>loan_amnt</th>\n",
       "      <td>396030.0</td>\n",
       "      <td>14113.888089</td>\n",
       "      <td>8357.441341</td>\n",
       "      <td>500.00</td>\n",
       "      <td>8000.00</td>\n",
       "      <td>12000.00</td>\n",
       "      <td>20000.00</td>\n",
       "      <td>40000.00</td>\n",
       "    </tr>\n",
       "    <tr>\n",
       "      <th>int_rate</th>\n",
       "      <td>396030.0</td>\n",
       "      <td>13.639400</td>\n",
       "      <td>4.472157</td>\n",
       "      <td>5.32</td>\n",
       "      <td>10.49</td>\n",
       "      <td>13.33</td>\n",
       "      <td>16.49</td>\n",
       "      <td>30.99</td>\n",
       "    </tr>\n",
       "    <tr>\n",
       "      <th>installment</th>\n",
       "      <td>396030.0</td>\n",
       "      <td>431.849698</td>\n",
       "      <td>250.727790</td>\n",
       "      <td>16.08</td>\n",
       "      <td>250.33</td>\n",
       "      <td>375.43</td>\n",
       "      <td>567.30</td>\n",
       "      <td>1533.81</td>\n",
       "    </tr>\n",
       "    <tr>\n",
       "      <th>annual_inc</th>\n",
       "      <td>396030.0</td>\n",
       "      <td>74203.175798</td>\n",
       "      <td>61637.621158</td>\n",
       "      <td>0.00</td>\n",
       "      <td>45000.00</td>\n",
       "      <td>64000.00</td>\n",
       "      <td>90000.00</td>\n",
       "      <td>8706582.00</td>\n",
       "    </tr>\n",
       "    <tr>\n",
       "      <th>dti</th>\n",
       "      <td>396030.0</td>\n",
       "      <td>17.379514</td>\n",
       "      <td>18.019092</td>\n",
       "      <td>0.00</td>\n",
       "      <td>11.28</td>\n",
       "      <td>16.91</td>\n",
       "      <td>22.98</td>\n",
       "      <td>9999.00</td>\n",
       "    </tr>\n",
       "    <tr>\n",
       "      <th>open_acc</th>\n",
       "      <td>396030.0</td>\n",
       "      <td>11.311153</td>\n",
       "      <td>5.137649</td>\n",
       "      <td>0.00</td>\n",
       "      <td>8.00</td>\n",
       "      <td>10.00</td>\n",
       "      <td>14.00</td>\n",
       "      <td>90.00</td>\n",
       "    </tr>\n",
       "    <tr>\n",
       "      <th>pub_rec</th>\n",
       "      <td>396030.0</td>\n",
       "      <td>0.178191</td>\n",
       "      <td>0.530671</td>\n",
       "      <td>0.00</td>\n",
       "      <td>0.00</td>\n",
       "      <td>0.00</td>\n",
       "      <td>0.00</td>\n",
       "      <td>86.00</td>\n",
       "    </tr>\n",
       "    <tr>\n",
       "      <th>revol_bal</th>\n",
       "      <td>396030.0</td>\n",
       "      <td>15844.539853</td>\n",
       "      <td>20591.836109</td>\n",
       "      <td>0.00</td>\n",
       "      <td>6025.00</td>\n",
       "      <td>11181.00</td>\n",
       "      <td>19620.00</td>\n",
       "      <td>1743266.00</td>\n",
       "    </tr>\n",
       "    <tr>\n",
       "      <th>revol_util</th>\n",
       "      <td>395754.0</td>\n",
       "      <td>53.791749</td>\n",
       "      <td>24.452193</td>\n",
       "      <td>0.00</td>\n",
       "      <td>35.80</td>\n",
       "      <td>54.80</td>\n",
       "      <td>72.90</td>\n",
       "      <td>892.30</td>\n",
       "    </tr>\n",
       "    <tr>\n",
       "      <th>total_acc</th>\n",
       "      <td>396030.0</td>\n",
       "      <td>25.414744</td>\n",
       "      <td>11.886991</td>\n",
       "      <td>2.00</td>\n",
       "      <td>17.00</td>\n",
       "      <td>24.00</td>\n",
       "      <td>32.00</td>\n",
       "      <td>151.00</td>\n",
       "    </tr>\n",
       "    <tr>\n",
       "      <th>mort_acc</th>\n",
       "      <td>358235.0</td>\n",
       "      <td>1.813991</td>\n",
       "      <td>2.147930</td>\n",
       "      <td>0.00</td>\n",
       "      <td>0.00</td>\n",
       "      <td>1.00</td>\n",
       "      <td>3.00</td>\n",
       "      <td>34.00</td>\n",
       "    </tr>\n",
       "    <tr>\n",
       "      <th>pub_rec_bankruptcies</th>\n",
       "      <td>395495.0</td>\n",
       "      <td>0.121648</td>\n",
       "      <td>0.356174</td>\n",
       "      <td>0.00</td>\n",
       "      <td>0.00</td>\n",
       "      <td>0.00</td>\n",
       "      <td>0.00</td>\n",
       "      <td>8.00</td>\n",
       "    </tr>\n",
       "  </tbody>\n",
       "</table>\n",
       "</div>"
      ],
      "text/plain": [
       "                         count          mean           std     min       25%  \\\n",
       "loan_amnt             396030.0  14113.888089   8357.441341  500.00   8000.00   \n",
       "int_rate              396030.0     13.639400      4.472157    5.32     10.49   \n",
       "installment           396030.0    431.849698    250.727790   16.08    250.33   \n",
       "annual_inc            396030.0  74203.175798  61637.621158    0.00  45000.00   \n",
       "dti                   396030.0     17.379514     18.019092    0.00     11.28   \n",
       "open_acc              396030.0     11.311153      5.137649    0.00      8.00   \n",
       "pub_rec               396030.0      0.178191      0.530671    0.00      0.00   \n",
       "revol_bal             396030.0  15844.539853  20591.836109    0.00   6025.00   \n",
       "revol_util            395754.0     53.791749     24.452193    0.00     35.80   \n",
       "total_acc             396030.0     25.414744     11.886991    2.00     17.00   \n",
       "mort_acc              358235.0      1.813991      2.147930    0.00      0.00   \n",
       "pub_rec_bankruptcies  395495.0      0.121648      0.356174    0.00      0.00   \n",
       "\n",
       "                           50%       75%         max  \n",
       "loan_amnt             12000.00  20000.00    40000.00  \n",
       "int_rate                 13.33     16.49       30.99  \n",
       "installment             375.43    567.30     1533.81  \n",
       "annual_inc            64000.00  90000.00  8706582.00  \n",
       "dti                      16.91     22.98     9999.00  \n",
       "open_acc                 10.00     14.00       90.00  \n",
       "pub_rec                   0.00      0.00       86.00  \n",
       "revol_bal             11181.00  19620.00  1743266.00  \n",
       "revol_util               54.80     72.90      892.30  \n",
       "total_acc                24.00     32.00      151.00  \n",
       "mort_acc                  1.00      3.00       34.00  \n",
       "pub_rec_bankruptcies      0.00      0.00        8.00  "
      ]
     },
     "execution_count": 11,
     "metadata": {},
     "output_type": "execute_result"
    }
   ],
   "source": [
    "df.describe().transpose()"
   ]
  },
  {
   "cell_type": "code",
   "execution_count": 12,
   "id": "interstate-slovenia",
   "metadata": {},
   "outputs": [
    {
     "data": {
      "text/plain": [
       "137211    892.3\n",
       "329037    153.0\n",
       "82600     152.5\n",
       "65687     150.7\n",
       "350333    148.0\n",
       "165111    146.1\n",
       "312268    145.8\n",
       "296174    140.4\n",
       "108246    136.7\n",
       "211426    132.1\n",
       "153970    129.5\n",
       "16793     129.4\n",
       "391865    128.1\n",
       "51619     127.6\n",
       "319308    127.6\n",
       "75751     127.4\n",
       "257697    124.7\n",
       "335489    123.3\n",
       "130785    123.2\n",
       "266203    123.2\n",
       "Name: revol_util, dtype: float64"
      ]
     },
     "execution_count": 12,
     "metadata": {},
     "output_type": "execute_result"
    }
   ],
   "source": [
    "df['revol_util'].nlargest(20)"
   ]
  },
  {
   "cell_type": "code",
   "execution_count": 13,
   "id": "surprised-market",
   "metadata": {},
   "outputs": [
    {
     "data": {
      "text/plain": [
       "loan_amnt                                                     3500.0\n",
       "term                                                       36 months\n",
       "int_rate                                                       12.49\n",
       "installment                                                   117.08\n",
       "grade                                                              B\n",
       "sub_grade                                                         B4\n",
       "emp_title                                             Budget Analyst\n",
       "emp_length                                                 10+ years\n",
       "home_ownership                                                  RENT\n",
       "annual_inc                                                   45000.0\n",
       "verification_status                                         Verified\n",
       "issue_d                                                     Apr-2014\n",
       "loan_status                                               Fully Paid\n",
       "purpose                                           debt_consolidation\n",
       "title                                             Debt consolidation\n",
       "dti                                                            14.67\n",
       "earliest_cr_line                                            Oct-1998\n",
       "open_acc                                                         2.0\n",
       "pub_rec                                                          0.0\n",
       "revol_bal                                                     2677.0\n",
       "revol_util                                                     892.3\n",
       "total_acc                                                        9.0\n",
       "initial_list_status                                                f\n",
       "application_type                                          INDIVIDUAL\n",
       "mort_acc                                                         0.0\n",
       "pub_rec_bankruptcies                                             0.0\n",
       "address                 12506 Connie Burg\\r\\nVelasquezfort, TN 00813\n",
       "Name: 137211, dtype: object"
      ]
     },
     "execution_count": 13,
     "metadata": {},
     "output_type": "execute_result"
    }
   ],
   "source": [
    "df.iloc[137211]"
   ]
  },
  {
   "cell_type": "code",
   "execution_count": 14,
   "id": "bigger-parks",
   "metadata": {},
   "outputs": [
    {
     "data": {
      "text/plain": [
       "308700    8706582.0\n",
       "318255    7600000.0\n",
       "100370    7446395.0\n",
       "376306    7141778.0\n",
       "100946    7000000.0\n",
       "            ...    \n",
       "119450     920000.0\n",
       "395097     920000.0\n",
       "226245     900009.0\n",
       "5158       900000.0\n",
       "124962     900000.0\n",
       "Name: annual_inc, Length: 100, dtype: float64"
      ]
     },
     "execution_count": 14,
     "metadata": {},
     "output_type": "execute_result"
    }
   ],
   "source": [
    "df['annual_inc'].nlargest(100)"
   ]
  },
  {
   "cell_type": "code",
   "execution_count": 15,
   "id": "extensive-correction",
   "metadata": {},
   "outputs": [
    {
     "name": "stdout",
     "output_type": "stream",
     "text": [
      "254 0.06413655531146631 %\n"
     ]
    },
    {
     "data": {
      "image/png": "[encoded data removed]",
      "text/plain": [
       "<Figure size 360x360 with 1 Axes>"
      ]
     },
     "metadata": {
      "needs_background": "light"
     },
     "output_type": "display_data"
    }
   ],
   "source": [
    "# CLEANING #1: DROP OUTLIER INCOMES (<1% OF OBSERVATIONS)\n",
    "income_limit = 600000\n",
    "df_less_income = df[df['annual_inc'] <= income_limit]\n",
    "n_lost = len(df) - len(df_less_income)\n",
    "print(n_lost, 100*n_lost/len(df), '%')\n",
    "\n",
    "sns.displot(x='annual_inc', data=df_less_income);"
   ]
  },
  {
   "cell_type": "code",
   "execution_count": 16,
   "id": "french-return",
   "metadata": {},
   "outputs": [
    {
     "data": {
      "text/plain": [
       "array(['RENT', 'MORTGAGE', 'OWN', 'OTHER', 'NONE', 'ANY'], dtype=object)"
      ]
     },
     "execution_count": 16,
     "metadata": {},
     "output_type": "execute_result"
    }
   ],
   "source": [
    "df['home_ownership'].unique()"
   ]
  },
  {
   "cell_type": "code",
   "execution_count": 17,
   "id": "banner-precipitation",
   "metadata": {},
   "outputs": [
    {
     "data": {
      "text/plain": [
       "MORTGAGE    198184\n",
       "RENT        159738\n",
       "OWN          37708\n",
       "OTHER          112\n",
       "NONE            31\n",
       "ANY              3\n",
       "Name: home_ownership, dtype: int64"
      ]
     },
     "execution_count": 17,
     "metadata": {},
     "output_type": "execute_result"
    }
   ],
   "source": [
    "df_less_income['home_ownership'].value_counts()"
   ]
  },
  {
   "cell_type": "code",
   "execution_count": 18,
   "id": "going-mining",
   "metadata": {},
   "outputs": [
    {
     "data": {
      "text/plain": [
       "loan_amnt                   0\n",
       "term                        0\n",
       "int_rate                    0\n",
       "installment                 0\n",
       "grade                       0\n",
       "sub_grade                   0\n",
       "emp_title               22912\n",
       "emp_length              18297\n",
       "home_ownership              0\n",
       "annual_inc                  0\n",
       "verification_status         0\n",
       "issue_d                     0\n",
       "loan_status                 0\n",
       "purpose                     0\n",
       "title                    1755\n",
       "dti                         0\n",
       "earliest_cr_line            0\n",
       "open_acc                    0\n",
       "pub_rec                     0\n",
       "revol_bal                   0\n",
       "revol_util                275\n",
       "total_acc                   0\n",
       "initial_list_status         0\n",
       "application_type            0\n",
       "mort_acc                37756\n",
       "pub_rec_bankruptcies      534\n",
       "address                     0\n",
       "dtype: int64"
      ]
     },
     "execution_count": 18,
     "metadata": {},
     "output_type": "execute_result"
    }
   ],
   "source": [
    "df_less_income.isnull().sum()"
   ]
  },
  {
   "cell_type": "code",
   "execution_count": 19,
   "id": "expired-senator",
   "metadata": {},
   "outputs": [
    {
     "data": {
      "text/plain": [
       "array([ 0.,  3.,  1.,  4.,  2.,  6.,  5., nan, 10.,  7., 12., 11.,  8.,\n",
       "        9., 13., 14., 22., 34., 15., 25., 19., 16., 17., 32., 18., 24.,\n",
       "       21., 20., 31., 28., 30., 23., 26., 27.])"
      ]
     },
     "execution_count": 19,
     "metadata": {},
     "output_type": "execute_result"
    }
   ],
   "source": [
    "df['mort_acc'].unique()"
   ]
  },
  {
   "cell_type": "code",
   "execution_count": 20,
   "id": "confirmed-shelf",
   "metadata": {},
   "outputs": [
    {
     "data": {
      "text/plain": [
       "array([ 0.,  3.,  1.,  4.,  2.,  6.,  5., nan, 10.,  7., 12., 11.,  8.,\n",
       "        9., 13., 14., 22., 34., 15., 25., 19., 16., 17., 32., 18., 24.,\n",
       "       21., 20., 31., 28., 30., 23., 26., 27.])"
      ]
     },
     "execution_count": 20,
     "metadata": {},
     "output_type": "execute_result"
    }
   ],
   "source": [
    "df_less_income['mort_acc'].unique()"
   ]
  },
  {
   "cell_type": "code",
   "execution_count": 21,
   "id": "interpreted-antibody",
   "metadata": {},
   "outputs": [
    {
     "data": {
      "text/plain": [
       "array([ 0.,  3.,  4., nan,  5.,  1.,  6.,  2.,  7., 11.,  8.,  9., 10.,\n",
       "       12., 14., 16., 13., 17., 15., 20., 30., 18., 19.])"
      ]
     },
     "execution_count": 21,
     "metadata": {},
     "output_type": "execute_result"
    }
   ],
   "source": [
    "df[df['home_ownership'] == 'RENT']['mort_acc'].unique()"
   ]
  },
  {
   "cell_type": "code",
   "execution_count": 22,
   "id": "adopted-favorite",
   "metadata": {},
   "outputs": [
    {
     "data": {
      "text/plain": [
       "array([ 0.,  1.,  2.,  3., nan,  4.,  5.,  6.,  7.,  8.])"
      ]
     },
     "execution_count": 22,
     "metadata": {},
     "output_type": "execute_result"
    }
   ],
   "source": [
    "df['pub_rec_bankruptcies'].unique()"
   ]
  },
  {
   "cell_type": "code",
   "execution_count": 23,
   "id": "distinguished-bibliography",
   "metadata": {},
   "outputs": [
    {
     "data": {
      "text/plain": [
       "Debt consolidation         152472\n",
       "Credit card refinancing     51487\n",
       "Home improvement            15264\n",
       "Other                       12930\n",
       "Debt Consolidation          11608\n",
       "                            ...  \n",
       "MortyFree                       1\n",
       "Get Out Of Debt NOW             1\n",
       "Summer 2013 Moving              1\n",
       "Wedding Load                    1\n",
       "Loan20                          1\n",
       "Name: title, Length: 48817, dtype: int64"
      ]
     },
     "execution_count": 23,
     "metadata": {},
     "output_type": "execute_result"
    }
   ],
   "source": [
    "df['title'].value_counts()"
   ]
  },
  {
   "cell_type": "code",
   "execution_count": 24,
   "id": "disturbed-hunter",
   "metadata": {},
   "outputs": [
    {
     "data": {
      "text/html": [
       "<div>\n",
       "<style scoped>\n",
       "    .dataframe tbody tr th:only-of-type {\n",
       "        vertical-align: middle;\n",
       "    }\n",
       "\n",
       "    .dataframe tbody tr th {\n",
       "        vertical-align: top;\n",
       "    }\n",
       "\n",
       "    .dataframe thead th {\n",
       "        text-align: right;\n",
       "    }\n",
       "</style>\n",
       "<table border=\"1\" class=\"dataframe\">\n",
       "  <thead>\n",
       "    <tr style=\"text-align: right;\">\n",
       "      <th></th>\n",
       "      <th>loan_amnt</th>\n",
       "      <th>term</th>\n",
       "      <th>int_rate</th>\n",
       "      <th>installment</th>\n",
       "      <th>grade</th>\n",
       "      <th>sub_grade</th>\n",
       "      <th>emp_title</th>\n",
       "      <th>emp_length</th>\n",
       "      <th>home_ownership</th>\n",
       "      <th>annual_inc</th>\n",
       "      <th>...</th>\n",
       "      <th>open_acc</th>\n",
       "      <th>pub_rec</th>\n",
       "      <th>revol_bal</th>\n",
       "      <th>revol_util</th>\n",
       "      <th>total_acc</th>\n",
       "      <th>initial_list_status</th>\n",
       "      <th>application_type</th>\n",
       "      <th>mort_acc</th>\n",
       "      <th>pub_rec_bankruptcies</th>\n",
       "      <th>address</th>\n",
       "    </tr>\n",
       "  </thead>\n",
       "  <tbody>\n",
       "    <tr>\n",
       "      <th>35</th>\n",
       "      <td>5375.0</td>\n",
       "      <td>36 months</td>\n",
       "      <td>13.11</td>\n",
       "      <td>181.39</td>\n",
       "      <td>B</td>\n",
       "      <td>B4</td>\n",
       "      <td>NaN</td>\n",
       "      <td>NaN</td>\n",
       "      <td>RENT</td>\n",
       "      <td>34000.00</td>\n",
       "      <td>...</td>\n",
       "      <td>9.0</td>\n",
       "      <td>1.0</td>\n",
       "      <td>14998.0</td>\n",
       "      <td>88.7</td>\n",
       "      <td>20.0</td>\n",
       "      <td>f</td>\n",
       "      <td>INDIVIDUAL</td>\n",
       "      <td>5.0</td>\n",
       "      <td>1.0</td>\n",
       "      <td>23617 Michael Viaduct\\r\\nWest John, MS 05113</td>\n",
       "    </tr>\n",
       "    <tr>\n",
       "      <th>36</th>\n",
       "      <td>3250.0</td>\n",
       "      <td>36 months</td>\n",
       "      <td>16.78</td>\n",
       "      <td>115.52</td>\n",
       "      <td>C</td>\n",
       "      <td>C5</td>\n",
       "      <td>NaN</td>\n",
       "      <td>NaN</td>\n",
       "      <td>RENT</td>\n",
       "      <td>22500.00</td>\n",
       "      <td>...</td>\n",
       "      <td>7.0</td>\n",
       "      <td>0.0</td>\n",
       "      <td>7587.0</td>\n",
       "      <td>54.6</td>\n",
       "      <td>7.0</td>\n",
       "      <td>f</td>\n",
       "      <td>INDIVIDUAL</td>\n",
       "      <td>0.0</td>\n",
       "      <td>0.0</td>\n",
       "      <td>361 Erica Forest\\r\\nLake Mariaton, TN 30723</td>\n",
       "    </tr>\n",
       "    <tr>\n",
       "      <th>40</th>\n",
       "      <td>35000.0</td>\n",
       "      <td>60 months</td>\n",
       "      <td>16.99</td>\n",
       "      <td>869.66</td>\n",
       "      <td>D</td>\n",
       "      <td>D1</td>\n",
       "      <td>NaN</td>\n",
       "      <td>4 years</td>\n",
       "      <td>MORTGAGE</td>\n",
       "      <td>130000.00</td>\n",
       "      <td>...</td>\n",
       "      <td>10.0</td>\n",
       "      <td>0.0</td>\n",
       "      <td>34130.0</td>\n",
       "      <td>53.8</td>\n",
       "      <td>27.0</td>\n",
       "      <td>f</td>\n",
       "      <td>INDIVIDUAL</td>\n",
       "      <td>10.0</td>\n",
       "      <td>0.0</td>\n",
       "      <td>8268 Reed Gardens Suite 996\\r\\nEast Johnmouth,...</td>\n",
       "    </tr>\n",
       "    <tr>\n",
       "      <th>49</th>\n",
       "      <td>15000.0</td>\n",
       "      <td>36 months</td>\n",
       "      <td>7.89</td>\n",
       "      <td>469.29</td>\n",
       "      <td>A</td>\n",
       "      <td>A5</td>\n",
       "      <td>NaN</td>\n",
       "      <td>NaN</td>\n",
       "      <td>MORTGAGE</td>\n",
       "      <td>90000.00</td>\n",
       "      <td>...</td>\n",
       "      <td>7.0</td>\n",
       "      <td>0.0</td>\n",
       "      <td>8205.0</td>\n",
       "      <td>93.2</td>\n",
       "      <td>18.0</td>\n",
       "      <td>w</td>\n",
       "      <td>INDIVIDUAL</td>\n",
       "      <td>6.0</td>\n",
       "      <td>0.0</td>\n",
       "      <td>84009 David Stream\\r\\nSouth Nicolehaven, IL 05113</td>\n",
       "    </tr>\n",
       "    <tr>\n",
       "      <th>58</th>\n",
       "      <td>10000.0</td>\n",
       "      <td>36 months</td>\n",
       "      <td>17.56</td>\n",
       "      <td>359.33</td>\n",
       "      <td>D</td>\n",
       "      <td>D1</td>\n",
       "      <td>NaN</td>\n",
       "      <td>NaN</td>\n",
       "      <td>MORTGAGE</td>\n",
       "      <td>32000.00</td>\n",
       "      <td>...</td>\n",
       "      <td>6.0</td>\n",
       "      <td>0.0</td>\n",
       "      <td>11615.0</td>\n",
       "      <td>82.4</td>\n",
       "      <td>7.0</td>\n",
       "      <td>w</td>\n",
       "      <td>INDIVIDUAL</td>\n",
       "      <td>0.0</td>\n",
       "      <td>0.0</td>\n",
       "      <td>965 Spencer Courts\\r\\nPacetown, AZ 00813</td>\n",
       "    </tr>\n",
       "    <tr>\n",
       "      <th>...</th>\n",
       "      <td>...</td>\n",
       "      <td>...</td>\n",
       "      <td>...</td>\n",
       "      <td>...</td>\n",
       "      <td>...</td>\n",
       "      <td>...</td>\n",
       "      <td>...</td>\n",
       "      <td>...</td>\n",
       "      <td>...</td>\n",
       "      <td>...</td>\n",
       "      <td>...</td>\n",
       "      <td>...</td>\n",
       "      <td>...</td>\n",
       "      <td>...</td>\n",
       "      <td>...</td>\n",
       "      <td>...</td>\n",
       "      <td>...</td>\n",
       "      <td>...</td>\n",
       "      <td>...</td>\n",
       "      <td>...</td>\n",
       "      <td>...</td>\n",
       "    </tr>\n",
       "    <tr>\n",
       "      <th>395946</th>\n",
       "      <td>35000.0</td>\n",
       "      <td>60 months</td>\n",
       "      <td>16.20</td>\n",
       "      <td>854.86</td>\n",
       "      <td>C</td>\n",
       "      <td>C4</td>\n",
       "      <td>NaN</td>\n",
       "      <td>NaN</td>\n",
       "      <td>MORTGAGE</td>\n",
       "      <td>84000.00</td>\n",
       "      <td>...</td>\n",
       "      <td>7.0</td>\n",
       "      <td>0.0</td>\n",
       "      <td>4241.0</td>\n",
       "      <td>18.8</td>\n",
       "      <td>21.0</td>\n",
       "      <td>w</td>\n",
       "      <td>INDIVIDUAL</td>\n",
       "      <td>5.0</td>\n",
       "      <td>0.0</td>\n",
       "      <td>2645 Wayne Street\\r\\nMarymouth, HI 22690</td>\n",
       "    </tr>\n",
       "    <tr>\n",
       "      <th>395963</th>\n",
       "      <td>7000.0</td>\n",
       "      <td>36 months</td>\n",
       "      <td>20.20</td>\n",
       "      <td>260.86</td>\n",
       "      <td>E</td>\n",
       "      <td>E3</td>\n",
       "      <td>NaN</td>\n",
       "      <td>NaN</td>\n",
       "      <td>OWN</td>\n",
       "      <td>32964.00</td>\n",
       "      <td>...</td>\n",
       "      <td>24.0</td>\n",
       "      <td>1.0</td>\n",
       "      <td>3236.0</td>\n",
       "      <td>9.7</td>\n",
       "      <td>44.0</td>\n",
       "      <td>w</td>\n",
       "      <td>INDIVIDUAL</td>\n",
       "      <td>0.0</td>\n",
       "      <td>1.0</td>\n",
       "      <td>8339 Daniel Forges Suite 273\\r\\nPort Oscarmout...</td>\n",
       "    </tr>\n",
       "    <tr>\n",
       "      <th>395988</th>\n",
       "      <td>35000.0</td>\n",
       "      <td>60 months</td>\n",
       "      <td>15.59</td>\n",
       "      <td>843.53</td>\n",
       "      <td>D</td>\n",
       "      <td>D1</td>\n",
       "      <td>NaN</td>\n",
       "      <td>NaN</td>\n",
       "      <td>OWN</td>\n",
       "      <td>102396.00</td>\n",
       "      <td>...</td>\n",
       "      <td>15.0</td>\n",
       "      <td>0.0</td>\n",
       "      <td>31665.0</td>\n",
       "      <td>32.4</td>\n",
       "      <td>33.0</td>\n",
       "      <td>w</td>\n",
       "      <td>INDIVIDUAL</td>\n",
       "      <td>1.0</td>\n",
       "      <td>0.0</td>\n",
       "      <td>114 Sonya Pass\\r\\nCarlamouth, SD 00813</td>\n",
       "    </tr>\n",
       "    <tr>\n",
       "      <th>395999</th>\n",
       "      <td>11125.0</td>\n",
       "      <td>36 months</td>\n",
       "      <td>24.11</td>\n",
       "      <td>437.11</td>\n",
       "      <td>F</td>\n",
       "      <td>F2</td>\n",
       "      <td>NaN</td>\n",
       "      <td>NaN</td>\n",
       "      <td>MORTGAGE</td>\n",
       "      <td>31789.88</td>\n",
       "      <td>...</td>\n",
       "      <td>8.0</td>\n",
       "      <td>0.0</td>\n",
       "      <td>22385.0</td>\n",
       "      <td>81.0</td>\n",
       "      <td>24.0</td>\n",
       "      <td>w</td>\n",
       "      <td>INDIVIDUAL</td>\n",
       "      <td>4.0</td>\n",
       "      <td>0.0</td>\n",
       "      <td>1314 Bridget Terrace\\r\\nRebeccashire, NE 30723</td>\n",
       "    </tr>\n",
       "    <tr>\n",
       "      <th>396015</th>\n",
       "      <td>4000.0</td>\n",
       "      <td>36 months</td>\n",
       "      <td>9.16</td>\n",
       "      <td>127.50</td>\n",
       "      <td>B</td>\n",
       "      <td>B2</td>\n",
       "      <td>NaN</td>\n",
       "      <td>NaN</td>\n",
       "      <td>MORTGAGE</td>\n",
       "      <td>57400.00</td>\n",
       "      <td>...</td>\n",
       "      <td>12.0</td>\n",
       "      <td>0.0</td>\n",
       "      <td>3134.0</td>\n",
       "      <td>5.8</td>\n",
       "      <td>27.0</td>\n",
       "      <td>w</td>\n",
       "      <td>INDIVIDUAL</td>\n",
       "      <td>5.0</td>\n",
       "      <td>0.0</td>\n",
       "      <td>Unit 4067 Box 2110\\r\\nDPO AA 05113</td>\n",
       "    </tr>\n",
       "  </tbody>\n",
       "</table>\n",
       "<p>22927 rows × 27 columns</p>\n",
       "</div>"
      ],
      "text/plain": [
       "        loan_amnt        term  int_rate  installment grade sub_grade  \\\n",
       "35         5375.0   36 months     13.11       181.39     B        B4   \n",
       "36         3250.0   36 months     16.78       115.52     C        C5   \n",
       "40        35000.0   60 months     16.99       869.66     D        D1   \n",
       "49        15000.0   36 months      7.89       469.29     A        A5   \n",
       "58        10000.0   36 months     17.56       359.33     D        D1   \n",
       "...           ...         ...       ...          ...   ...       ...   \n",
       "395946    35000.0   60 months     16.20       854.86     C        C4   \n",
       "395963     7000.0   36 months     20.20       260.86     E        E3   \n",
       "395988    35000.0   60 months     15.59       843.53     D        D1   \n",
       "395999    11125.0   36 months     24.11       437.11     F        F2   \n",
       "396015     4000.0   36 months      9.16       127.50     B        B2   \n",
       "\n",
       "       emp_title emp_length home_ownership  annual_inc  ... open_acc pub_rec  \\\n",
       "35           NaN        NaN           RENT    34000.00  ...      9.0     1.0   \n",
       "36           NaN        NaN           RENT    22500.00  ...      7.0     0.0   \n",
       "40           NaN    4 years       MORTGAGE   130000.00  ...     10.0     0.0   \n",
       "49           NaN        NaN       MORTGAGE    90000.00  ...      7.0     0.0   \n",
       "58           NaN        NaN       MORTGAGE    32000.00  ...      6.0     0.0   \n",
       "...          ...        ...            ...         ...  ...      ...     ...   \n",
       "395946       NaN        NaN       MORTGAGE    84000.00  ...      7.0     0.0   \n",
       "395963       NaN        NaN            OWN    32964.00  ...     24.0     1.0   \n",
       "395988       NaN        NaN            OWN   102396.00  ...     15.0     0.0   \n",
       "395999       NaN        NaN       MORTGAGE    31789.88  ...      8.0     0.0   \n",
       "396015       NaN        NaN       MORTGAGE    57400.00  ...     12.0     0.0   \n",
       "\n",
       "       revol_bal revol_util total_acc  initial_list_status application_type  \\\n",
       "35       14998.0       88.7      20.0                    f       INDIVIDUAL   \n",
       "36        7587.0       54.6       7.0                    f       INDIVIDUAL   \n",
       "40       34130.0       53.8      27.0                    f       INDIVIDUAL   \n",
       "49        8205.0       93.2      18.0                    w       INDIVIDUAL   \n",
       "58       11615.0       82.4       7.0                    w       INDIVIDUAL   \n",
       "...          ...        ...       ...                  ...              ...   \n",
       "395946    4241.0       18.8      21.0                    w       INDIVIDUAL   \n",
       "395963    3236.0        9.7      44.0                    w       INDIVIDUAL   \n",
       "395988   31665.0       32.4      33.0                    w       INDIVIDUAL   \n",
       "395999   22385.0       81.0      24.0                    w       INDIVIDUAL   \n",
       "396015    3134.0        5.8      27.0                    w       INDIVIDUAL   \n",
       "\n",
       "        mort_acc  pub_rec_bankruptcies  \\\n",
       "35           5.0                   1.0   \n",
       "36           0.0                   0.0   \n",
       "40          10.0                   0.0   \n",
       "49           6.0                   0.0   \n",
       "58           0.0                   0.0   \n",
       "...          ...                   ...   \n",
       "395946       5.0                   0.0   \n",
       "395963       0.0                   1.0   \n",
       "395988       1.0                   0.0   \n",
       "395999       4.0                   0.0   \n",
       "396015       5.0                   0.0   \n",
       "\n",
       "                                                  address  \n",
       "35           23617 Michael Viaduct\\r\\nWest John, MS 05113  \n",
       "36            361 Erica Forest\\r\\nLake Mariaton, TN 30723  \n",
       "40      8268 Reed Gardens Suite 996\\r\\nEast Johnmouth,...  \n",
       "49      84009 David Stream\\r\\nSouth Nicolehaven, IL 05113  \n",
       "58               965 Spencer Courts\\r\\nPacetown, AZ 00813  \n",
       "...                                                   ...  \n",
       "395946           2645 Wayne Street\\r\\nMarymouth, HI 22690  \n",
       "395963  8339 Daniel Forges Suite 273\\r\\nPort Oscarmout...  \n",
       "395988             114 Sonya Pass\\r\\nCarlamouth, SD 00813  \n",
       "395999     1314 Bridget Terrace\\r\\nRebeccashire, NE 30723  \n",
       "396015                 Unit 4067 Box 2110\\r\\nDPO AA 05113  \n",
       "\n",
       "[22927 rows x 27 columns]"
      ]
     },
     "execution_count": 24,
     "metadata": {},
     "output_type": "execute_result"
    }
   ],
   "source": [
    "df[ df['emp_title'].isnull() ]"
   ]
  },
  {
   "cell_type": "code",
   "execution_count": 25,
   "id": "outdoor-catering",
   "metadata": {},
   "outputs": [
    {
     "data": {
      "text/plain": [
       "array(['Marketing', 'Credit analyst ', 'Statistician', ...,\n",
       "       \"Michael's Arts & Crafts\", 'licensed bankere',\n",
       "       'Gracon Services, Inc'], dtype=object)"
      ]
     },
     "execution_count": 25,
     "metadata": {},
     "output_type": "execute_result"
    }
   ],
   "source": [
    "df['emp_title'].unique()"
   ]
  },
  {
   "cell_type": "code",
   "execution_count": 26,
   "id": "silent-blues",
   "metadata": {},
   "outputs": [
    {
     "data": {
      "text/plain": [
       "array(['10+ years', '4 years', '< 1 year', '6 years', '9 years',\n",
       "       '2 years', '3 years', '8 years', '7 years', '5 years', '1 year',\n",
       "       nan], dtype=object)"
      ]
     },
     "execution_count": 26,
     "metadata": {},
     "output_type": "execute_result"
    }
   ],
   "source": [
    "df['emp_length'].unique()"
   ]
  },
  {
   "cell_type": "markdown",
   "id": "later-shakespeare",
   "metadata": {},
   "source": [
    "**Potential Data Cleaning Steps:**\n",
    "\n",
    "- drop the address column (and/or extract the state to keep at least some geographical info)\n",
    "- \"revol_util\": remove index 137211 because the revolving credit utilization is at 892% (only lose 1 row)\n",
    "- remove the extremely high income outliers: e.g., eliminate 254 (0.06%) people whose reported income is over \\$600,000.\n",
    "- convert the \"earliest_cr_line\" feature to a length of time instead, e.g. 24 months (using the present month: June, 2021); then drop this column\n",
    "- convert the \"home_ownership\" that is ambiguous (ANY and NONE) to the more general OTHER category\n",
    "\n",
    "\n",
    "**Handle Missing Values:**\n",
    "\n",
    "- \"revol_util\": replace 276 values with the average utilization (after dropping the one outlier, see above)\n",
    "- \"mort_acc\": can we drop this feature altogether?\n",
    "- \"pub_rec_bankruptcies\": fill missing values with zeros\n",
    "- \"title\": we can drop this column since there are too many unique categories\n",
    "- \"emp_length\": if nan, put either \"unemployed\" or \"unknown\" (unknown if they put a job title)\n",
    "- \"emp_title\": convert this nan data to \"employed\" or \"unemployed\""
   ]
  },
  {
   "cell_type": "code",
   "execution_count": 27,
   "id": "raising-absorption",
   "metadata": {},
   "outputs": [
    {
     "data": {
      "text/plain": [
       "395776"
      ]
     },
     "execution_count": 27,
     "metadata": {},
     "output_type": "execute_result"
    }
   ],
   "source": [
    "len(df_less_income)"
   ]
  },
  {
   "cell_type": "code",
   "execution_count": 28,
   "id": "rapid-patent",
   "metadata": {},
   "outputs": [],
   "source": [
    "# CLEANING #2: DROP USER-PROVIDED LOAN TITLE (FULL COLUMN)\n",
    "df_less_income = df_less_income.drop(['title'], axis=1)"
   ]
  },
  {
   "cell_type": "code",
   "execution_count": 29,
   "id": "south-bahrain",
   "metadata": {},
   "outputs": [
    {
     "data": {
      "text/plain": [
       "0            0174 Michelle Gateway\\r\\nMendozaberg, OK 22690\n",
       "1         1076 Carney Fort Apt. 347\\r\\nLoganmouth, SD 05113\n",
       "2         87025 Mark Dale Apt. 269\\r\\nNew Sabrina, WV 05113\n",
       "3                   823 Reid Ford\\r\\nDelacruzside, MA 00813\n",
       "4                    679 Luna Roads\\r\\nGreggshire, VA 11650\n",
       "                                ...                        \n",
       "396025     12951 Williams Crossing\\r\\nJohnnyville, DC 30723\n",
       "396026    0114 Fowler Field Suite 028\\r\\nRachelborough, ...\n",
       "396027    953 Matthew Points Suite 414\\r\\nReedfort, NY 7...\n",
       "396028    7843 Blake Freeway Apt. 229\\r\\nNew Michael, FL...\n",
       "396029        787 Michelle Causeway\\r\\nBriannaton, AR 48052\n",
       "Name: address, Length: 395776, dtype: object"
      ]
     },
     "execution_count": 29,
     "metadata": {},
     "output_type": "execute_result"
    }
   ],
   "source": [
    "df_less_income['address']"
   ]
  },
  {
   "cell_type": "code",
   "execution_count": 30,
   "id": "arranged-klein",
   "metadata": {},
   "outputs": [
    {
     "data": {
      "text/plain": [
       "'OK'"
      ]
     },
     "execution_count": 30,
     "metadata": {},
     "output_type": "execute_result"
    }
   ],
   "source": [
    "temp = \"0174 Michelle Gateway\\r\\nMendozaberg, OK 22690\"\n",
    "\n",
    "state = temp.split(', ')[-1][:2]\n",
    "\n",
    "state"
   ]
  },
  {
   "cell_type": "code",
   "execution_count": 31,
   "id": "native-sampling",
   "metadata": {},
   "outputs": [],
   "source": [
    "def get_state(x):\n",
    "    client_state = x.split(', ')[-1][:2]\n",
    "    return client_state"
   ]
  },
  {
   "cell_type": "code",
   "execution_count": 32,
   "id": "sticky-vegetation",
   "metadata": {},
   "outputs": [
    {
     "data": {
      "text/plain": [
       "Un    14280\n",
       "Bo    14049\n",
       "US    14031\n",
       "NJ     7082\n",
       "WI     7079\n",
       "LA     7064\n",
       "NV     7033\n",
       "AK     7028\n",
       "VA     7019\n",
       "MA     7018\n",
       "MS     7001\n",
       "VT     7000\n",
       "TX     7000\n",
       "NY     7000\n",
       "SC     6969\n",
       "AR     6968\n",
       "OH     6964\n",
       "GA     6964\n",
       "ME     6964\n",
       "IN     6955\n",
       "ID     6954\n",
       "WV     6942\n",
       "KS     6939\n",
       "RI     6935\n",
       "IL     6930\n",
       "WY     6930\n",
       "MO     6928\n",
       "HI     6924\n",
       "IA     6923\n",
       "NE     6921\n",
       "FL     6919\n",
       "AZ     6915\n",
       "CO     6909\n",
       "OK     6904\n",
       "MN     6902\n",
       "CT     6899\n",
       "NC     6895\n",
       "AL     6894\n",
       "OR     6894\n",
       "CA     6894\n",
       "MD     6892\n",
       "WA     6887\n",
       "UT     6885\n",
       "SD     6881\n",
       "MT     6876\n",
       "DE     6869\n",
       "TN     6863\n",
       "ND     6853\n",
       "MI     6850\n",
       "DC     6839\n",
       "NM     6837\n",
       "PA     6818\n",
       "NH     6812\n",
       "KY     6795\n",
       "Name: address, dtype: int64"
      ]
     },
     "execution_count": 32,
     "metadata": {},
     "output_type": "execute_result"
    }
   ],
   "source": [
    "df_less_income['address'].apply(get_state).value_counts()"
   ]
  },
  {
   "cell_type": "code",
   "execution_count": 33,
   "id": "greek-dealer",
   "metadata": {},
   "outputs": [],
   "source": [
    "# CLEANING #3: DROP ADDRESS COLUMN\n",
    "df_less_income = df_less_income.drop('address', axis=1)"
   ]
  },
  {
   "cell_type": "code",
   "execution_count": 34,
   "id": "eight-packing",
   "metadata": {},
   "outputs": [],
   "source": [
    "df_checkpoint = df_less_income.copy()"
   ]
  },
  {
   "cell_type": "code",
   "execution_count": 35,
   "id": "communist-governor",
   "metadata": {},
   "outputs": [],
   "source": [
    "def simplify_housing(x):\n",
    "    if (x == 'ANY' or x == 'NONE'):\n",
    "        y = 'OTHER'\n",
    "    else:\n",
    "        y = x\n",
    "    return y"
   ]
  },
  {
   "cell_type": "code",
   "execution_count": 36,
   "id": "bound-rider",
   "metadata": {},
   "outputs": [
    {
     "data": {
      "text/plain": [
       "'RENT'"
      ]
     },
     "execution_count": 36,
     "metadata": {},
     "output_type": "execute_result"
    }
   ],
   "source": [
    "df_less_income['home_ownership'].iloc[0]"
   ]
  },
  {
   "cell_type": "code",
   "execution_count": 37,
   "id": "outer-hours",
   "metadata": {},
   "outputs": [
    {
     "data": {
      "text/plain": [
       "MORTGAGE    198184\n",
       "RENT        159738\n",
       "OWN          37708\n",
       "OTHER          146\n",
       "Name: home_ownership, dtype: int64"
      ]
     },
     "execution_count": 37,
     "metadata": {},
     "output_type": "execute_result"
    }
   ],
   "source": [
    "df_less_income['home_ownership'].apply(simplify_housing).value_counts()"
   ]
  },
  {
   "cell_type": "code",
   "execution_count": 38,
   "id": "lonely-hepatitis",
   "metadata": {},
   "outputs": [],
   "source": [
    "# CLEANING #4: SIMPLIFY THE HOUSING CATEGORIES\n",
    "df_less_income['home_ownership'] = df_less_income['home_ownership'].apply(simplify_housing)"
   ]
  },
  {
   "cell_type": "code",
   "execution_count": 39,
   "id": "precise-roommate",
   "metadata": {},
   "outputs": [
    {
     "data": {
      "text/plain": [
       "MORTGAGE    198184\n",
       "RENT        159738\n",
       "OWN          37708\n",
       "OTHER          146\n",
       "Name: home_ownership, dtype: int64"
      ]
     },
     "execution_count": 39,
     "metadata": {},
     "output_type": "execute_result"
    }
   ],
   "source": [
    "df_less_income['home_ownership'].value_counts()"
   ]
  },
  {
   "cell_type": "code",
   "execution_count": 40,
   "id": "according-requirement",
   "metadata": {},
   "outputs": [
    {
     "data": {
      "text/plain": [
       "loan_amnt                   0\n",
       "term                        0\n",
       "int_rate                    0\n",
       "installment                 0\n",
       "grade                       0\n",
       "sub_grade                   0\n",
       "emp_title               22912\n",
       "emp_length              18297\n",
       "home_ownership              0\n",
       "annual_inc                  0\n",
       "verification_status         0\n",
       "issue_d                     0\n",
       "loan_status                 0\n",
       "purpose                     0\n",
       "dti                         0\n",
       "earliest_cr_line            0\n",
       "open_acc                    0\n",
       "pub_rec                     0\n",
       "revol_bal                   0\n",
       "revol_util                275\n",
       "total_acc                   0\n",
       "initial_list_status         0\n",
       "application_type            0\n",
       "mort_acc                37756\n",
       "pub_rec_bankruptcies      534\n",
       "dtype: int64"
      ]
     },
     "execution_count": 40,
     "metadata": {},
     "output_type": "execute_result"
    }
   ],
   "source": [
    "df_less_income.isnull().sum()"
   ]
  },
  {
   "cell_type": "code",
   "execution_count": 41,
   "id": "reported-remainder",
   "metadata": {},
   "outputs": [
    {
     "name": "stdout",
     "output_type": "stream",
     "text": [
      "<class 'pandas.core.frame.DataFrame'>\n",
      "Int64Index: 395776 entries, 0 to 396029\n",
      "Data columns (total 25 columns):\n",
      " #   Column                Non-Null Count   Dtype  \n",
      "---  ------                --------------   -----  \n",
      " 0   loan_amnt             395776 non-null  float64\n",
      " 1   term                  395776 non-null  object \n",
      " 2   int_rate              395776 non-null  float64\n",
      " 3   installment           395776 non-null  float64\n",
      " 4   grade                 395776 non-null  object \n",
      " 5   sub_grade             395776 non-null  object \n",
      " 6   emp_title             372864 non-null  object \n",
      " 7   emp_length            377479 non-null  object \n",
      " 8   home_ownership        395776 non-null  object \n",
      " 9   annual_inc            395776 non-null  float64\n",
      " 10  verification_status   395776 non-null  object \n",
      " 11  issue_d               395776 non-null  object \n",
      " 12  loan_status           395776 non-null  object \n",
      " 13  purpose               395776 non-null  object \n",
      " 14  dti                   395776 non-null  float64\n",
      " 15  earliest_cr_line      395776 non-null  object \n",
      " 16  open_acc              395776 non-null  float64\n",
      " 17  pub_rec               395776 non-null  float64\n",
      " 18  revol_bal             395776 non-null  float64\n",
      " 19  revol_util            395501 non-null  float64\n",
      " 20  total_acc             395776 non-null  float64\n",
      " 21  initial_list_status   395776 non-null  object \n",
      " 22  application_type      395776 non-null  object \n",
      " 23  mort_acc              358020 non-null  float64\n",
      " 24  pub_rec_bankruptcies  395242 non-null  float64\n",
      "dtypes: float64(12), object(13)\n",
      "memory usage: 78.5+ MB\n"
     ]
    }
   ],
   "source": [
    "df_less_income.info()"
   ]
  },
  {
   "cell_type": "code",
   "execution_count": 42,
   "id": "adopted-illinois",
   "metadata": {},
   "outputs": [],
   "source": [
    "# CLEANING #5: ASSUME THAT nan FOR BANKRUPTCY MEANS THE CLIENT HAS 0\n",
    "df_less_income['pub_rec_bankruptcies'].fillna(0.0, inplace=True)"
   ]
  },
  {
   "cell_type": "code",
   "execution_count": 43,
   "id": "christian-apple",
   "metadata": {},
   "outputs": [
    {
     "data": {
      "text/plain": [
       "0.0    350670\n",
       "1.0     42782\n",
       "2.0      1846\n",
       "3.0       351\n",
       "4.0        82\n",
       "5.0        32\n",
       "6.0         7\n",
       "7.0         4\n",
       "8.0         2\n",
       "Name: pub_rec_bankruptcies, dtype: int64"
      ]
     },
     "execution_count": 43,
     "metadata": {},
     "output_type": "execute_result"
    }
   ],
   "source": [
    "df_less_income['pub_rec_bankruptcies'].value_counts()"
   ]
  },
  {
   "cell_type": "code",
   "execution_count": 44,
   "id": "comparable-output",
   "metadata": {},
   "outputs": [
    {
     "data": {
      "text/plain": [
       "loan_amnt                   0\n",
       "term                        0\n",
       "int_rate                    0\n",
       "installment                 0\n",
       "grade                       0\n",
       "sub_grade                   0\n",
       "emp_title               22912\n",
       "emp_length              18297\n",
       "home_ownership              0\n",
       "annual_inc                  0\n",
       "verification_status         0\n",
       "issue_d                     0\n",
       "loan_status                 0\n",
       "purpose                     0\n",
       "dti                         0\n",
       "earliest_cr_line            0\n",
       "open_acc                    0\n",
       "pub_rec                     0\n",
       "revol_bal                   0\n",
       "revol_util                275\n",
       "total_acc                   0\n",
       "initial_list_status         0\n",
       "application_type            0\n",
       "mort_acc                37756\n",
       "pub_rec_bankruptcies        0\n",
       "dtype: int64"
      ]
     },
     "execution_count": 44,
     "metadata": {},
     "output_type": "execute_result"
    }
   ],
   "source": [
    "df_less_income.isnull().sum()"
   ]
  },
  {
   "cell_type": "code",
   "execution_count": 45,
   "id": "ordered-ridge",
   "metadata": {},
   "outputs": [
    {
     "data": {
      "text/plain": [
       "137211    892.3\n",
       "329037    153.0\n",
       "82600     152.5\n",
       "65687     150.7\n",
       "350333    148.0\n",
       "165111    146.1\n",
       "312268    145.8\n",
       "296174    140.4\n",
       "108246    136.7\n",
       "211426    132.1\n",
       "153970    129.5\n",
       "16793     129.4\n",
       "391865    128.1\n",
       "51619     127.6\n",
       "319308    127.6\n",
       "75751     127.4\n",
       "257697    124.7\n",
       "335489    123.3\n",
       "130785    123.2\n",
       "266203    123.2\n",
       "Name: revol_util, dtype: float64"
      ]
     },
     "execution_count": 45,
     "metadata": {},
     "output_type": "execute_result"
    }
   ],
   "source": [
    "df_less_income['revol_util'].nlargest(20)"
   ]
  },
  {
   "cell_type": "code",
   "execution_count": 46,
   "id": "transsexual-bicycle",
   "metadata": {},
   "outputs": [
    {
     "data": {
      "text/html": [
       "<div>\n",
       "<style scoped>\n",
       "    .dataframe tbody tr th:only-of-type {\n",
       "        vertical-align: middle;\n",
       "    }\n",
       "\n",
       "    .dataframe tbody tr th {\n",
       "        vertical-align: top;\n",
       "    }\n",
       "\n",
       "    .dataframe thead th {\n",
       "        text-align: right;\n",
       "    }\n",
       "</style>\n",
       "<table border=\"1\" class=\"dataframe\">\n",
       "  <thead>\n",
       "    <tr style=\"text-align: right;\">\n",
       "      <th></th>\n",
       "      <th>count</th>\n",
       "      <th>mean</th>\n",
       "      <th>std</th>\n",
       "      <th>min</th>\n",
       "      <th>25%</th>\n",
       "      <th>50%</th>\n",
       "      <th>75%</th>\n",
       "      <th>max</th>\n",
       "    </tr>\n",
       "  </thead>\n",
       "  <tbody>\n",
       "    <tr>\n",
       "      <th>loan_amnt</th>\n",
       "      <td>395776.0</td>\n",
       "      <td>14107.880973</td>\n",
       "      <td>8352.515475</td>\n",
       "      <td>500.00</td>\n",
       "      <td>8000.00</td>\n",
       "      <td>12000.00</td>\n",
       "      <td>20000.00</td>\n",
       "      <td>40000.00</td>\n",
       "    </tr>\n",
       "    <tr>\n",
       "      <th>int_rate</th>\n",
       "      <td>395776.0</td>\n",
       "      <td>13.639982</td>\n",
       "      <td>4.472058</td>\n",
       "      <td>5.32</td>\n",
       "      <td>10.49</td>\n",
       "      <td>13.33</td>\n",
       "      <td>16.49</td>\n",
       "      <td>30.99</td>\n",
       "    </tr>\n",
       "    <tr>\n",
       "      <th>installment</th>\n",
       "      <td>395776.0</td>\n",
       "      <td>431.659752</td>\n",
       "      <td>250.542600</td>\n",
       "      <td>16.08</td>\n",
       "      <td>250.33</td>\n",
       "      <td>375.43</td>\n",
       "      <td>567.17</td>\n",
       "      <td>1533.81</td>\n",
       "    </tr>\n",
       "    <tr>\n",
       "      <th>annual_inc</th>\n",
       "      <td>395776.0</td>\n",
       "      <td>73483.018564</td>\n",
       "      <td>44457.077568</td>\n",
       "      <td>0.00</td>\n",
       "      <td>45000.00</td>\n",
       "      <td>64000.00</td>\n",
       "      <td>90000.00</td>\n",
       "      <td>600000.00</td>\n",
       "    </tr>\n",
       "    <tr>\n",
       "      <th>dti</th>\n",
       "      <td>395776.0</td>\n",
       "      <td>17.387952</td>\n",
       "      <td>18.021475</td>\n",
       "      <td>0.00</td>\n",
       "      <td>11.30</td>\n",
       "      <td>16.91</td>\n",
       "      <td>22.99</td>\n",
       "      <td>9999.00</td>\n",
       "    </tr>\n",
       "    <tr>\n",
       "      <th>open_acc</th>\n",
       "      <td>395776.0</td>\n",
       "      <td>11.310312</td>\n",
       "      <td>5.137023</td>\n",
       "      <td>0.00</td>\n",
       "      <td>8.00</td>\n",
       "      <td>10.00</td>\n",
       "      <td>14.00</td>\n",
       "      <td>90.00</td>\n",
       "    </tr>\n",
       "    <tr>\n",
       "      <th>pub_rec</th>\n",
       "      <td>395776.0</td>\n",
       "      <td>0.178169</td>\n",
       "      <td>0.530534</td>\n",
       "      <td>0.00</td>\n",
       "      <td>0.00</td>\n",
       "      <td>0.00</td>\n",
       "      <td>0.00</td>\n",
       "      <td>86.00</td>\n",
       "    </tr>\n",
       "    <tr>\n",
       "      <th>revol_bal</th>\n",
       "      <td>395776.0</td>\n",
       "      <td>15800.835723</td>\n",
       "      <td>20079.244738</td>\n",
       "      <td>0.00</td>\n",
       "      <td>6024.00</td>\n",
       "      <td>11179.00</td>\n",
       "      <td>19609.00</td>\n",
       "      <td>1743266.00</td>\n",
       "    </tr>\n",
       "    <tr>\n",
       "      <th>revol_util</th>\n",
       "      <td>395501.0</td>\n",
       "      <td>53.795495</td>\n",
       "      <td>24.448584</td>\n",
       "      <td>0.00</td>\n",
       "      <td>35.80</td>\n",
       "      <td>54.80</td>\n",
       "      <td>72.90</td>\n",
       "      <td>892.30</td>\n",
       "    </tr>\n",
       "    <tr>\n",
       "      <th>total_acc</th>\n",
       "      <td>395776.0</td>\n",
       "      <td>25.411399</td>\n",
       "      <td>11.884801</td>\n",
       "      <td>2.00</td>\n",
       "      <td>17.00</td>\n",
       "      <td>24.00</td>\n",
       "      <td>32.00</td>\n",
       "      <td>151.00</td>\n",
       "    </tr>\n",
       "    <tr>\n",
       "      <th>mort_acc</th>\n",
       "      <td>358020.0</td>\n",
       "      <td>1.812974</td>\n",
       "      <td>2.147005</td>\n",
       "      <td>0.00</td>\n",
       "      <td>0.00</td>\n",
       "      <td>1.00</td>\n",
       "      <td>3.00</td>\n",
       "      <td>34.00</td>\n",
       "    </tr>\n",
       "    <tr>\n",
       "      <th>pub_rec_bankruptcies</th>\n",
       "      <td>395776.0</td>\n",
       "      <td>0.121536</td>\n",
       "      <td>0.356029</td>\n",
       "      <td>0.00</td>\n",
       "      <td>0.00</td>\n",
       "      <td>0.00</td>\n",
       "      <td>0.00</td>\n",
       "      <td>8.00</td>\n",
       "    </tr>\n",
       "  </tbody>\n",
       "</table>\n",
       "</div>"
      ],
      "text/plain": [
       "                         count          mean           std     min       25%  \\\n",
       "loan_amnt             395776.0  14107.880973   8352.515475  500.00   8000.00   \n",
       "int_rate              395776.0     13.639982      4.472058    5.32     10.49   \n",
       "installment           395776.0    431.659752    250.542600   16.08    250.33   \n",
       "annual_inc            395776.0  73483.018564  44457.077568    0.00  45000.00   \n",
       "dti                   395776.0     17.387952     18.021475    0.00     11.30   \n",
       "open_acc              395776.0     11.310312      5.137023    0.00      8.00   \n",
       "pub_rec               395776.0      0.178169      0.530534    0.00      0.00   \n",
       "revol_bal             395776.0  15800.835723  20079.244738    0.00   6024.00   \n",
       "revol_util            395501.0     53.795495     24.448584    0.00     35.80   \n",
       "total_acc             395776.0     25.411399     11.884801    2.00     17.00   \n",
       "mort_acc              358020.0      1.812974      2.147005    0.00      0.00   \n",
       "pub_rec_bankruptcies  395776.0      0.121536      0.356029    0.00      0.00   \n",
       "\n",
       "                           50%       75%         max  \n",
       "loan_amnt             12000.00  20000.00    40000.00  \n",
       "int_rate                 13.33     16.49       30.99  \n",
       "installment             375.43    567.17     1533.81  \n",
       "annual_inc            64000.00  90000.00   600000.00  \n",
       "dti                      16.91     22.99     9999.00  \n",
       "open_acc                 10.00     14.00       90.00  \n",
       "pub_rec                   0.00      0.00       86.00  \n",
       "revol_bal             11179.00  19609.00  1743266.00  \n",
       "revol_util               54.80     72.90      892.30  \n",
       "total_acc                24.00     32.00      151.00  \n",
       "mort_acc                  1.00      3.00       34.00  \n",
       "pub_rec_bankruptcies      0.00      0.00        8.00  "
      ]
     },
     "execution_count": 46,
     "metadata": {},
     "output_type": "execute_result"
    }
   ],
   "source": [
    "df_less_income.describe().transpose()"
   ]
  },
  {
   "cell_type": "code",
   "execution_count": 47,
   "id": "generic-robin",
   "metadata": {},
   "outputs": [
    {
     "data": {
      "text/plain": [
       "loan_amnt                   0\n",
       "term                        0\n",
       "int_rate                    0\n",
       "installment                 0\n",
       "grade                       0\n",
       "sub_grade                   0\n",
       "emp_title               22912\n",
       "emp_length              18297\n",
       "home_ownership              0\n",
       "annual_inc                  0\n",
       "verification_status         0\n",
       "issue_d                     0\n",
       "loan_status                 0\n",
       "purpose                     0\n",
       "dti                         0\n",
       "earliest_cr_line            0\n",
       "open_acc                    0\n",
       "pub_rec                     0\n",
       "revol_bal                   0\n",
       "revol_util                275\n",
       "total_acc                   0\n",
       "initial_list_status         0\n",
       "application_type            0\n",
       "mort_acc                37756\n",
       "pub_rec_bankruptcies        0\n",
       "dtype: int64"
      ]
     },
     "execution_count": 47,
     "metadata": {},
     "output_type": "execute_result"
    }
   ],
   "source": [
    "df_less_income.isnull().sum()"
   ]
  },
  {
   "cell_type": "code",
   "execution_count": 48,
   "id": "elegant-basketball",
   "metadata": {},
   "outputs": [
    {
     "data": {
      "image/png": "[encoded data removed]",
      "text/plain": [
       "<Figure size 360x360 with 1 Axes>"
      ]
     },
     "metadata": {
      "needs_background": "light"
     },
     "output_type": "display_data"
    }
   ],
   "source": [
    "sns.displot(data=df_less_income, x='revol_bal');"
   ]
  },
  {
   "cell_type": "code",
   "execution_count": 49,
   "id": "vertical-brisbane",
   "metadata": {},
   "outputs": [
    {
     "data": {
      "text/plain": [
       "118582    1743266.0\n",
       "53563     1190046.0\n",
       "255310    1023940.0\n",
       "238979     867528.0\n",
       "134154     814300.0\n",
       "181198     744190.0\n",
       "241384     693471.0\n",
       "103864     690987.0\n",
       "385370     669560.0\n",
       "379095     669257.0\n",
       "141152     664894.0\n",
       "318342     661711.0\n",
       "151343     658548.0\n",
       "367755     654134.0\n",
       "163841     643871.0\n",
       "343828     626102.0\n",
       "79165      624356.0\n",
       "30354      617838.0\n",
       "180789     607891.0\n",
       "37028      605627.0\n",
       "12926      605063.0\n",
       "373037     576771.0\n",
       "288796     570842.0\n",
       "395372     568659.0\n",
       "129342     563624.0\n",
       "136045     561634.0\n",
       "202156     555673.0\n",
       "210612     555597.0\n",
       "184206     552758.0\n",
       "108914     548344.0\n",
       "120844     544606.0\n",
       "378133     527694.0\n",
       "330610     527075.0\n",
       "114065     519324.0\n",
       "43915      510070.0\n",
       "160624     506030.0\n",
       "188680     502093.0\n",
       "290772     497895.0\n",
       "283825     492732.0\n",
       "279120     491712.0\n",
       "236460     488421.0\n",
       "308490     485261.0\n",
       "279656     482629.0\n",
       "285234     479916.0\n",
       "55424      478307.0\n",
       "387763     476869.0\n",
       "183064     476755.0\n",
       "210259     474130.0\n",
       "269782     464531.0\n",
       "39578      462076.0\n",
       "Name: revol_bal, dtype: float64"
      ]
     },
     "execution_count": 49,
     "metadata": {},
     "output_type": "execute_result"
    }
   ],
   "source": [
    "df_less_income['revol_bal'].nlargest(50)"
   ]
  },
  {
   "cell_type": "code",
   "execution_count": 50,
   "id": "domestic-valley",
   "metadata": {},
   "outputs": [
    {
     "data": {
      "text/plain": [
       "119763.0"
      ]
     },
     "execution_count": 50,
     "metadata": {},
     "output_type": "execute_result"
    }
   ],
   "source": [
    "q99 = df_less_income['revol_bal'].quantile(0.995)\n",
    "q99"
   ]
  },
  {
   "cell_type": "code",
   "execution_count": 51,
   "id": "phantom-final",
   "metadata": {},
   "outputs": [
    {
     "data": {
      "text/plain": [
       "105682    151.0\n",
       "123703    150.0\n",
       "53317     135.0\n",
       "82628     129.0\n",
       "96571     124.0\n",
       "116541    118.0\n",
       "154720    117.0\n",
       "322243    116.0\n",
       "337833    116.0\n",
       "140803    115.0\n",
       "41264     111.0\n",
       "175632    111.0\n",
       "84480     110.0\n",
       "14690     108.0\n",
       "107918    107.0\n",
       "133923    107.0\n",
       "221172    107.0\n",
       "250210    107.0\n",
       "23546     106.0\n",
       "177298    106.0\n",
       "10952     105.0\n",
       "112979    105.0\n",
       "140335    105.0\n",
       "6755      104.0\n",
       "359804    103.0\n",
       "77017     102.0\n",
       "138397    102.0\n",
       "268035    102.0\n",
       "317824    102.0\n",
       "51797     101.0\n",
       "394185    101.0\n",
       "223233    100.0\n",
       "72094      99.0\n",
       "122589     99.0\n",
       "127544     99.0\n",
       "165834     99.0\n",
       "364410     99.0\n",
       "209490     98.0\n",
       "273075     98.0\n",
       "11244      97.0\n",
       "Name: total_acc, dtype: float64"
      ]
     },
     "execution_count": 51,
     "metadata": {},
     "output_type": "execute_result"
    }
   ],
   "source": [
    "df_less_income['total_acc'].nlargest(40)"
   ]
  },
  {
   "cell_type": "code",
   "execution_count": 52,
   "id": "flexible-cabin",
   "metadata": {},
   "outputs": [
    {
     "data": {
      "image/png": "[encoded data removed]",
      "text/plain": [
       "<Figure size 360x360 with 1 Axes>"
      ]
     },
     "metadata": {
      "needs_background": "light"
     },
     "output_type": "display_data"
    }
   ],
   "source": [
    "sns.displot(data=df_less_income, x='total_acc');"
   ]
  },
  {
   "cell_type": "code",
   "execution_count": 53,
   "id": "presidential-reply",
   "metadata": {},
   "outputs": [],
   "source": [
    "# CLEANING #6: FILL nan VALUES FOR REVOLVING UTIL \n",
    "mean_util = df_less_income['revol_util'].sort_values(ascending=False)[1:].mean()\n",
    "df_less_income['revol_util'].fillna(mean_util, inplace=True)"
   ]
  },
  {
   "cell_type": "code",
   "execution_count": 54,
   "id": "corrected-profession",
   "metadata": {},
   "outputs": [],
   "source": [
    "# CLEANING #7: REMOVE THE HIGH REVOLVING UTIL CLIENT\n",
    "df_temp = df_less_income[ df_less_income['revol_util'] < 200 ]"
   ]
  },
  {
   "cell_type": "code",
   "execution_count": 55,
   "id": "absolute-joshua",
   "metadata": {},
   "outputs": [
    {
     "data": {
      "text/html": [
       "<div>\n",
       "<style scoped>\n",
       "    .dataframe tbody tr th:only-of-type {\n",
       "        vertical-align: middle;\n",
       "    }\n",
       "\n",
       "    .dataframe tbody tr th {\n",
       "        vertical-align: top;\n",
       "    }\n",
       "\n",
       "    .dataframe thead th {\n",
       "        text-align: right;\n",
       "    }\n",
       "</style>\n",
       "<table border=\"1\" class=\"dataframe\">\n",
       "  <thead>\n",
       "    <tr style=\"text-align: right;\">\n",
       "      <th></th>\n",
       "      <th>count</th>\n",
       "      <th>mean</th>\n",
       "      <th>std</th>\n",
       "      <th>min</th>\n",
       "      <th>25%</th>\n",
       "      <th>50%</th>\n",
       "      <th>75%</th>\n",
       "      <th>max</th>\n",
       "    </tr>\n",
       "  </thead>\n",
       "  <tbody>\n",
       "    <tr>\n",
       "      <th>loan_amnt</th>\n",
       "      <td>395775.0</td>\n",
       "      <td>14107.907776</td>\n",
       "      <td>8352.509007</td>\n",
       "      <td>500.00</td>\n",
       "      <td>8000.00</td>\n",
       "      <td>12000.00</td>\n",
       "      <td>20000.00</td>\n",
       "      <td>40000.00</td>\n",
       "    </tr>\n",
       "    <tr>\n",
       "      <th>int_rate</th>\n",
       "      <td>395775.0</td>\n",
       "      <td>13.639985</td>\n",
       "      <td>4.472063</td>\n",
       "      <td>5.32</td>\n",
       "      <td>10.49</td>\n",
       "      <td>13.33</td>\n",
       "      <td>16.49</td>\n",
       "      <td>30.99</td>\n",
       "    </tr>\n",
       "    <tr>\n",
       "      <th>installment</th>\n",
       "      <td>395775.0</td>\n",
       "      <td>431.660546</td>\n",
       "      <td>250.542418</td>\n",
       "      <td>16.08</td>\n",
       "      <td>250.33</td>\n",
       "      <td>375.43</td>\n",
       "      <td>567.17</td>\n",
       "      <td>1533.81</td>\n",
       "    </tr>\n",
       "    <tr>\n",
       "      <th>annual_inc</th>\n",
       "      <td>395775.0</td>\n",
       "      <td>73483.090532</td>\n",
       "      <td>44457.110678</td>\n",
       "      <td>0.00</td>\n",
       "      <td>45000.00</td>\n",
       "      <td>64000.00</td>\n",
       "      <td>90000.00</td>\n",
       "      <td>600000.00</td>\n",
       "    </tr>\n",
       "    <tr>\n",
       "      <th>dti</th>\n",
       "      <td>395775.0</td>\n",
       "      <td>17.387959</td>\n",
       "      <td>18.021497</td>\n",
       "      <td>0.00</td>\n",
       "      <td>11.30</td>\n",
       "      <td>16.91</td>\n",
       "      <td>22.99</td>\n",
       "      <td>9999.00</td>\n",
       "    </tr>\n",
       "    <tr>\n",
       "      <th>open_acc</th>\n",
       "      <td>395775.0</td>\n",
       "      <td>11.310335</td>\n",
       "      <td>5.137008</td>\n",
       "      <td>0.00</td>\n",
       "      <td>8.00</td>\n",
       "      <td>10.00</td>\n",
       "      <td>14.00</td>\n",
       "      <td>90.00</td>\n",
       "    </tr>\n",
       "    <tr>\n",
       "      <th>pub_rec</th>\n",
       "      <td>395775.0</td>\n",
       "      <td>0.178169</td>\n",
       "      <td>0.530535</td>\n",
       "      <td>0.00</td>\n",
       "      <td>0.00</td>\n",
       "      <td>0.00</td>\n",
       "      <td>0.00</td>\n",
       "      <td>86.00</td>\n",
       "    </tr>\n",
       "    <tr>\n",
       "      <th>revol_bal</th>\n",
       "      <td>395775.0</td>\n",
       "      <td>15800.868883</td>\n",
       "      <td>20079.259268</td>\n",
       "      <td>0.00</td>\n",
       "      <td>6024.00</td>\n",
       "      <td>11179.00</td>\n",
       "      <td>19609.00</td>\n",
       "      <td>1743266.00</td>\n",
       "    </tr>\n",
       "    <tr>\n",
       "      <th>revol_util</th>\n",
       "      <td>395775.0</td>\n",
       "      <td>53.793375</td>\n",
       "      <td>24.403749</td>\n",
       "      <td>0.00</td>\n",
       "      <td>35.90</td>\n",
       "      <td>54.80</td>\n",
       "      <td>72.90</td>\n",
       "      <td>153.00</td>\n",
       "    </tr>\n",
       "    <tr>\n",
       "      <th>total_acc</th>\n",
       "      <td>395775.0</td>\n",
       "      <td>25.411441</td>\n",
       "      <td>11.884787</td>\n",
       "      <td>2.00</td>\n",
       "      <td>17.00</td>\n",
       "      <td>24.00</td>\n",
       "      <td>32.00</td>\n",
       "      <td>151.00</td>\n",
       "    </tr>\n",
       "    <tr>\n",
       "      <th>mort_acc</th>\n",
       "      <td>358019.0</td>\n",
       "      <td>1.812979</td>\n",
       "      <td>2.147006</td>\n",
       "      <td>0.00</td>\n",
       "      <td>0.00</td>\n",
       "      <td>1.00</td>\n",
       "      <td>3.00</td>\n",
       "      <td>34.00</td>\n",
       "    </tr>\n",
       "    <tr>\n",
       "      <th>pub_rec_bankruptcies</th>\n",
       "      <td>395775.0</td>\n",
       "      <td>0.121536</td>\n",
       "      <td>0.356029</td>\n",
       "      <td>0.00</td>\n",
       "      <td>0.00</td>\n",
       "      <td>0.00</td>\n",
       "      <td>0.00</td>\n",
       "      <td>8.00</td>\n",
       "    </tr>\n",
       "  </tbody>\n",
       "</table>\n",
       "</div>"
      ],
      "text/plain": [
       "                         count          mean           std     min       25%  \\\n",
       "loan_amnt             395775.0  14107.907776   8352.509007  500.00   8000.00   \n",
       "int_rate              395775.0     13.639985      4.472063    5.32     10.49   \n",
       "installment           395775.0    431.660546    250.542418   16.08    250.33   \n",
       "annual_inc            395775.0  73483.090532  44457.110678    0.00  45000.00   \n",
       "dti                   395775.0     17.387959     18.021497    0.00     11.30   \n",
       "open_acc              395775.0     11.310335      5.137008    0.00      8.00   \n",
       "pub_rec               395775.0      0.178169      0.530535    0.00      0.00   \n",
       "revol_bal             395775.0  15800.868883  20079.259268    0.00   6024.00   \n",
       "revol_util            395775.0     53.793375     24.403749    0.00     35.90   \n",
       "total_acc             395775.0     25.411441     11.884787    2.00     17.00   \n",
       "mort_acc              358019.0      1.812979      2.147006    0.00      0.00   \n",
       "pub_rec_bankruptcies  395775.0      0.121536      0.356029    0.00      0.00   \n",
       "\n",
       "                           50%       75%         max  \n",
       "loan_amnt             12000.00  20000.00    40000.00  \n",
       "int_rate                 13.33     16.49       30.99  \n",
       "installment             375.43    567.17     1533.81  \n",
       "annual_inc            64000.00  90000.00   600000.00  \n",
       "dti                      16.91     22.99     9999.00  \n",
       "open_acc                 10.00     14.00       90.00  \n",
       "pub_rec                   0.00      0.00       86.00  \n",
       "revol_bal             11179.00  19609.00  1743266.00  \n",
       "revol_util               54.80     72.90      153.00  \n",
       "total_acc                24.00     32.00      151.00  \n",
       "mort_acc                  1.00      3.00       34.00  \n",
       "pub_rec_bankruptcies      0.00      0.00        8.00  "
      ]
     },
     "execution_count": 55,
     "metadata": {},
     "output_type": "execute_result"
    }
   ],
   "source": [
    "df_temp.describe().transpose()"
   ]
  },
  {
   "cell_type": "code",
   "execution_count": 56,
   "id": "ideal-noise",
   "metadata": {},
   "outputs": [
    {
     "data": {
      "text/plain": [
       "285674    9999.00\n",
       "350865    1622.00\n",
       "338571     380.53\n",
       "7011       189.90\n",
       "36015      145.65\n",
       "296164     138.03\n",
       "294182     120.66\n",
       "264045     107.55\n",
       "280972      93.86\n",
       "317615      92.13\n",
       "34083       88.21\n",
       "108842      77.95\n",
       "326512      71.40\n",
       "387612      68.56\n",
       "193404      68.30\n",
       "322920      63.98\n",
       "333754      63.10\n",
       "314513      62.80\n",
       "70873       62.70\n",
       "23346       59.26\n",
       "361343      59.26\n",
       "153278      59.18\n",
       "6273        58.90\n",
       "177109      57.14\n",
       "395810      55.53\n",
       "264739      55.42\n",
       "230165      54.96\n",
       "323601      54.90\n",
       "331001      52.80\n",
       "272876      52.69\n",
       "139043      52.20\n",
       "328072      52.02\n",
       "391401      51.73\n",
       "4413        51.20\n",
       "144341      50.10\n",
       "189013      49.83\n",
       "100414      49.56\n",
       "340817      49.55\n",
       "9752        49.42\n",
       "30139       49.38\n",
       "394511      49.38\n",
       "203639      49.25\n",
       "214983      49.21\n",
       "81534       49.16\n",
       "265562      49.15\n",
       "368821      49.14\n",
       "240059      48.78\n",
       "256296      48.77\n",
       "60477       48.68\n",
       "6957        48.56\n",
       "Name: dti, dtype: float64"
      ]
     },
     "execution_count": 56,
     "metadata": {},
     "output_type": "execute_result"
    }
   ],
   "source": [
    "df_temp['dti'].nlargest(50)"
   ]
  },
  {
   "cell_type": "code",
   "execution_count": 57,
   "id": "human-rainbow",
   "metadata": {},
   "outputs": [
    {
     "data": {
      "text/plain": [
       "395772"
      ]
     },
     "execution_count": 57,
     "metadata": {},
     "output_type": "execute_result"
    }
   ],
   "source": [
    "df_temp = df_temp[ df_temp['dti'] < 200 ]\n",
    "len(df_temp)"
   ]
  },
  {
   "cell_type": "code",
   "execution_count": 58,
   "id": "architectural-clark",
   "metadata": {},
   "outputs": [
    {
     "data": {
      "image/png": "[encoded data removed]",
      "text/plain": [
       "<Figure size 360x360 with 1 Axes>"
      ]
     },
     "metadata": {
      "needs_background": "light"
     },
     "output_type": "display_data"
    }
   ],
   "source": [
    "sns.displot(data=df_temp, x='dti');"
   ]
  },
  {
   "cell_type": "code",
   "execution_count": 59,
   "id": "terminal-grain",
   "metadata": {},
   "outputs": [
    {
     "data": {
      "text/plain": [
       "loan_amnt                   0\n",
       "term                        0\n",
       "int_rate                    0\n",
       "installment                 0\n",
       "grade                       0\n",
       "sub_grade                   0\n",
       "emp_title               22910\n",
       "emp_length              18295\n",
       "home_ownership              0\n",
       "annual_inc                  0\n",
       "verification_status         0\n",
       "issue_d                     0\n",
       "loan_status                 0\n",
       "purpose                     0\n",
       "dti                         0\n",
       "earliest_cr_line            0\n",
       "open_acc                    0\n",
       "pub_rec                     0\n",
       "revol_bal                   0\n",
       "revol_util                  0\n",
       "total_acc                   0\n",
       "initial_list_status         0\n",
       "application_type            0\n",
       "mort_acc                37756\n",
       "pub_rec_bankruptcies        0\n",
       "dtype: int64"
      ]
     },
     "execution_count": 59,
     "metadata": {},
     "output_type": "execute_result"
    }
   ],
   "source": [
    "df_temp.isnull().sum()"
   ]
  },
  {
   "cell_type": "code",
   "execution_count": 60,
   "id": "informed-armstrong",
   "metadata": {},
   "outputs": [
    {
     "data": {
      "text/plain": [
       "array(['10+ years', '4 years', '< 1 year', '6 years', '9 years',\n",
       "       '2 years', '3 years', '8 years', '7 years', '5 years', '1 year',\n",
       "       nan], dtype=object)"
      ]
     },
     "execution_count": 60,
     "metadata": {},
     "output_type": "execute_result"
    }
   ],
   "source": [
    "df_temp['emp_length'].unique()"
   ]
  },
  {
   "cell_type": "code",
   "execution_count": 61,
   "id": "capable-electron",
   "metadata": {},
   "outputs": [
    {
     "data": {
      "text/plain": [
       "1.8129776322845905"
      ]
     },
     "execution_count": 61,
     "metadata": {},
     "output_type": "execute_result"
    }
   ],
   "source": [
    "df_temp['mort_acc'].mean()"
   ]
  },
  {
   "cell_type": "code",
   "execution_count": 62,
   "id": "complex-argentina",
   "metadata": {},
   "outputs": [
    {
     "data": {
      "image/png": "[encoded data removed]",
      "text/plain": [
       "<Figure size 432x288 with 1 Axes>"
      ]
     },
     "metadata": {
      "needs_background": "light"
     },
     "output_type": "display_data"
    }
   ],
   "source": [
    "sns.countplot(data=df_temp, x='loan_status');"
   ]
  },
  {
   "cell_type": "code",
   "execution_count": 63,
   "id": "living-petroleum",
   "metadata": {},
   "outputs": [],
   "source": [
    "# CLEANING #8: CHANGE nan EMPLOYMENT LENGTH TO UNKNOWN (FOR NOW) \n",
    "df_temp['emp_length'].fillna('unknown', inplace=True)"
   ]
  },
  {
   "cell_type": "code",
   "execution_count": 64,
   "id": "architectural-charger",
   "metadata": {},
   "outputs": [
    {
     "data": {
      "text/plain": [
       "array(['10+ years', '4 years', '< 1 year', '6 years', '9 years',\n",
       "       '2 years', '3 years', '8 years', '7 years', '5 years', '1 year',\n",
       "       'unknown'], dtype=object)"
      ]
     },
     "execution_count": 64,
     "metadata": {},
     "output_type": "execute_result"
    }
   ],
   "source": [
    "df_temp['emp_length'].unique()"
   ]
  },
  {
   "cell_type": "code",
   "execution_count": 65,
   "id": "handled-madonna",
   "metadata": {},
   "outputs": [
    {
     "data": {
      "image/png": "[encoded data removed]",
      "text/plain": [
       "<Figure size 1200x600 with 1 Axes>"
      ]
     },
     "metadata": {
      "needs_background": "light"
     },
     "output_type": "display_data"
    }
   ],
   "source": [
    "plt.figure(figsize=(8,4), dpi=150)\n",
    "sns.countplot(data=df_temp, x='loan_status', hue='emp_length');"
   ]
  },
  {
   "cell_type": "code",
   "execution_count": 66,
   "id": "sized-february",
   "metadata": {},
   "outputs": [],
   "source": [
    "# CLEANING #9: CHANGE nan EMPLOYMENT TITLE TO UNKNOWN (FOR NOW) \n",
    "df_temp['emp_title'].fillna('unknown', inplace=True)"
   ]
  },
  {
   "cell_type": "code",
   "execution_count": 67,
   "id": "handmade-fighter",
   "metadata": {},
   "outputs": [
    {
     "data": {
      "text/plain": [
       "loan_amnt                   0\n",
       "term                        0\n",
       "int_rate                    0\n",
       "installment                 0\n",
       "grade                       0\n",
       "sub_grade                   0\n",
       "emp_title                   0\n",
       "emp_length                  0\n",
       "home_ownership              0\n",
       "annual_inc                  0\n",
       "verification_status         0\n",
       "issue_d                     0\n",
       "loan_status                 0\n",
       "purpose                     0\n",
       "dti                         0\n",
       "earliest_cr_line            0\n",
       "open_acc                    0\n",
       "pub_rec                     0\n",
       "revol_bal                   0\n",
       "revol_util                  0\n",
       "total_acc                   0\n",
       "initial_list_status         0\n",
       "application_type            0\n",
       "mort_acc                37756\n",
       "pub_rec_bankruptcies        0\n",
       "dtype: int64"
      ]
     },
     "execution_count": 67,
     "metadata": {},
     "output_type": "execute_result"
    }
   ],
   "source": [
    "df_temp.isnull().sum()"
   ]
  },
  {
   "cell_type": "code",
   "execution_count": 68,
   "id": "wicked-starter",
   "metadata": {},
   "outputs": [
    {
     "data": {
      "text/plain": [
       "unknown                              22910\n",
       "Teacher                               4389\n",
       "Manager                               4246\n",
       "Registered Nurse                      1855\n",
       "RN                                    1846\n",
       "                                     ...  \n",
       "IPS Industries Inc                       1\n",
       "Commander  (Supervisor )                 1\n",
       "mcconnell orthodontics                   1\n",
       "Vision Source                            1\n",
       "Minnesota Youth Athletic Services        1\n",
       "Name: emp_title, Length: 173033, dtype: int64"
      ]
     },
     "execution_count": 68,
     "metadata": {},
     "output_type": "execute_result"
    }
   ],
   "source": [
    "df_temp['emp_title'].value_counts()"
   ]
  },
  {
   "cell_type": "code",
   "execution_count": 69,
   "id": "lyric-nickname",
   "metadata": {},
   "outputs": [
    {
     "data": {
      "text/plain": [
       "395772"
      ]
     },
     "execution_count": 69,
     "metadata": {},
     "output_type": "execute_result"
    }
   ],
   "source": [
    "len(df_temp)"
   ]
  },
  {
   "cell_type": "code",
   "execution_count": 70,
   "id": "crazy-shanghai",
   "metadata": {},
   "outputs": [
    {
     "data": {
      "image/png": "[encoded data removed]",
      "text/plain": [
       "<Figure size 432x288 with 1 Axes>"
      ]
     },
     "metadata": {
      "needs_background": "light"
     },
     "output_type": "display_data"
    }
   ],
   "source": [
    "sns.boxplot(data=df_temp, x='loan_status', y='loan_amnt');"
   ]
  },
  {
   "cell_type": "code",
   "execution_count": 71,
   "id": "frequent-drain",
   "metadata": {},
   "outputs": [],
   "source": [
    "# CLEANING #10: DROP THE emp_title COLUMN COMPLETELY\n",
    "df_temp.drop('emp_title', axis=1, inplace=True)"
   ]
  },
  {
   "cell_type": "code",
   "execution_count": 72,
   "id": "allied-power",
   "metadata": {},
   "outputs": [
    {
     "name": "stdout",
     "output_type": "stream",
     "text": [
      "<class 'pandas.core.frame.DataFrame'>\n",
      "Int64Index: 395772 entries, 0 to 396029\n",
      "Data columns (total 24 columns):\n",
      " #   Column                Non-Null Count   Dtype  \n",
      "---  ------                --------------   -----  \n",
      " 0   loan_amnt             395772 non-null  float64\n",
      " 1   term                  395772 non-null  object \n",
      " 2   int_rate              395772 non-null  float64\n",
      " 3   installment           395772 non-null  float64\n",
      " 4   grade                 395772 non-null  object \n",
      " 5   sub_grade             395772 non-null  object \n",
      " 6   emp_length            395772 non-null  object \n",
      " 7   home_ownership        395772 non-null  object \n",
      " 8   annual_inc            395772 non-null  float64\n",
      " 9   verification_status   395772 non-null  object \n",
      " 10  issue_d               395772 non-null  object \n",
      " 11  loan_status           395772 non-null  object \n",
      " 12  purpose               395772 non-null  object \n",
      " 13  dti                   395772 non-null  float64\n",
      " 14  earliest_cr_line      395772 non-null  object \n",
      " 15  open_acc              395772 non-null  float64\n",
      " 16  pub_rec               395772 non-null  float64\n",
      " 17  revol_bal             395772 non-null  float64\n",
      " 18  revol_util            395772 non-null  float64\n",
      " 19  total_acc             395772 non-null  float64\n",
      " 20  initial_list_status   395772 non-null  object \n",
      " 21  application_type      395772 non-null  object \n",
      " 22  mort_acc              358016 non-null  float64\n",
      " 23  pub_rec_bankruptcies  395772 non-null  float64\n",
      "dtypes: float64(12), object(12)\n",
      "memory usage: 83.6+ MB\n"
     ]
    }
   ],
   "source": [
    "df_temp.info()"
   ]
  },
  {
   "cell_type": "code",
   "execution_count": 73,
   "id": "responsible-professor",
   "metadata": {},
   "outputs": [
    {
     "data": {
      "image/png": "[encoded data removed]",
      "text/plain": [
       "<Figure size 432x288 with 2 Axes>"
      ]
     },
     "metadata": {
      "needs_background": "light"
     },
     "output_type": "display_data"
    }
   ],
   "source": [
    "sns.heatmap(df_temp.corr());"
   ]
  },
  {
   "cell_type": "markdown",
   "id": "adaptive-swift",
   "metadata": {},
   "source": [
    "**How will we handle the mort_acc feature?**"
   ]
  },
  {
   "cell_type": "code",
   "execution_count": 74,
   "id": "dying-treat",
   "metadata": {},
   "outputs": [
    {
     "data": {
      "text/plain": [
       "0.0     139745\n",
       "1.0      60391\n",
       "2.0      49912\n",
       "3.0      38016\n",
       "4.0      27854\n",
       "5.0      18176\n",
       "6.0      11056\n",
       "7.0       6045\n",
       "8.0       3113\n",
       "9.0       1650\n",
       "10.0       864\n",
       "11.0       476\n",
       "12.0       262\n",
       "13.0       146\n",
       "14.0       106\n",
       "15.0        61\n",
       "16.0        36\n",
       "17.0        22\n",
       "18.0        18\n",
       "19.0        15\n",
       "20.0        13\n",
       "24.0        10\n",
       "22.0         7\n",
       "21.0         4\n",
       "25.0         4\n",
       "27.0         3\n",
       "23.0         2\n",
       "31.0         2\n",
       "26.0         2\n",
       "32.0         2\n",
       "28.0         1\n",
       "34.0         1\n",
       "30.0         1\n",
       "Name: mort_acc, dtype: int64"
      ]
     },
     "execution_count": 74,
     "metadata": {},
     "output_type": "execute_result"
    }
   ],
   "source": [
    "df_temp['mort_acc'].value_counts()"
   ]
  },
  {
   "cell_type": "code",
   "execution_count": 75,
   "id": "patent-airline",
   "metadata": {},
   "outputs": [],
   "source": [
    "# CLEANING #10: DROP THE mort_acc COLUMN FOR THIS FIRST VERSION OF PREPROCESSING\n",
    "df_clean = df_temp.drop('mort_acc', axis=1)"
   ]
  },
  {
   "cell_type": "code",
   "execution_count": 76,
   "id": "minute-tablet",
   "metadata": {},
   "outputs": [
    {
     "data": {
      "text/plain": [
       "loan_amnt               0\n",
       "term                    0\n",
       "int_rate                0\n",
       "installment             0\n",
       "grade                   0\n",
       "sub_grade               0\n",
       "emp_length              0\n",
       "home_ownership          0\n",
       "annual_inc              0\n",
       "verification_status     0\n",
       "issue_d                 0\n",
       "loan_status             0\n",
       "purpose                 0\n",
       "dti                     0\n",
       "earliest_cr_line        0\n",
       "open_acc                0\n",
       "pub_rec                 0\n",
       "revol_bal               0\n",
       "revol_util              0\n",
       "total_acc               0\n",
       "initial_list_status     0\n",
       "application_type        0\n",
       "pub_rec_bankruptcies    0\n",
       "dtype: int64"
      ]
     },
     "execution_count": 76,
     "metadata": {},
     "output_type": "execute_result"
    }
   ],
   "source": [
    "df_clean.isnull().sum()"
   ]
  },
  {
   "cell_type": "code",
   "execution_count": 77,
   "id": "falling-credit",
   "metadata": {},
   "outputs": [
    {
     "data": {
      "text/plain": [
       "395772"
      ]
     },
     "execution_count": 77,
     "metadata": {},
     "output_type": "execute_result"
    }
   ],
   "source": [
    "len(df_clean)"
   ]
  },
  {
   "cell_type": "code",
   "execution_count": 78,
   "id": "entire-flashing",
   "metadata": {},
   "outputs": [
    {
     "data": {
      "text/plain": [
       "396030"
      ]
     },
     "execution_count": 78,
     "metadata": {},
     "output_type": "execute_result"
    }
   ],
   "source": [
    "len(df)"
   ]
  },
  {
   "cell_type": "code",
   "execution_count": 79,
   "id": "parliamentary-participation",
   "metadata": {},
   "outputs": [
    {
     "name": "stdout",
     "output_type": "stream",
     "text": [
      "Percent of Data Kept: 99.93 %\n",
      "Number of Entried Lost: 258\n"
     ]
    }
   ],
   "source": [
    "# percent data kept after cleaning\n",
    "p = 100 * len(df_clean) / len(df)\n",
    "print('Percent of Data Kept:', round(p,2), '%')\n",
    "print('Number of Entried Lost:', len(df) - len(df_clean) )"
   ]
  },
  {
   "cell_type": "code",
   "execution_count": 80,
   "id": "standing-providence",
   "metadata": {},
   "outputs": [],
   "source": [
    "df_clean.reset_index(inplace=True, drop=True)"
   ]
  },
  {
   "cell_type": "code",
   "execution_count": 81,
   "id": "collected-hostel",
   "metadata": {},
   "outputs": [
    {
     "data": {
      "text/html": [
       "<div>\n",
       "<style scoped>\n",
       "    .dataframe tbody tr th:only-of-type {\n",
       "        vertical-align: middle;\n",
       "    }\n",
       "\n",
       "    .dataframe tbody tr th {\n",
       "        vertical-align: top;\n",
       "    }\n",
       "\n",
       "    .dataframe thead th {\n",
       "        text-align: right;\n",
       "    }\n",
       "</style>\n",
       "<table border=\"1\" class=\"dataframe\">\n",
       "  <thead>\n",
       "    <tr style=\"text-align: right;\">\n",
       "      <th></th>\n",
       "      <th>loan_amnt</th>\n",
       "      <th>term</th>\n",
       "      <th>int_rate</th>\n",
       "      <th>installment</th>\n",
       "      <th>grade</th>\n",
       "      <th>sub_grade</th>\n",
       "      <th>emp_length</th>\n",
       "      <th>home_ownership</th>\n",
       "      <th>annual_inc</th>\n",
       "      <th>verification_status</th>\n",
       "      <th>...</th>\n",
       "      <th>dti</th>\n",
       "      <th>earliest_cr_line</th>\n",
       "      <th>open_acc</th>\n",
       "      <th>pub_rec</th>\n",
       "      <th>revol_bal</th>\n",
       "      <th>revol_util</th>\n",
       "      <th>total_acc</th>\n",
       "      <th>initial_list_status</th>\n",
       "      <th>application_type</th>\n",
       "      <th>pub_rec_bankruptcies</th>\n",
       "    </tr>\n",
       "  </thead>\n",
       "  <tbody>\n",
       "    <tr>\n",
       "      <th>0</th>\n",
       "      <td>10000.0</td>\n",
       "      <td>36 months</td>\n",
       "      <td>11.44</td>\n",
       "      <td>329.48</td>\n",
       "      <td>B</td>\n",
       "      <td>B4</td>\n",
       "      <td>10+ years</td>\n",
       "      <td>RENT</td>\n",
       "      <td>117000.0</td>\n",
       "      <td>Not Verified</td>\n",
       "      <td>...</td>\n",
       "      <td>26.24</td>\n",
       "      <td>Jun-1990</td>\n",
       "      <td>16.0</td>\n",
       "      <td>0.0</td>\n",
       "      <td>36369.0</td>\n",
       "      <td>41.8</td>\n",
       "      <td>25.0</td>\n",
       "      <td>w</td>\n",
       "      <td>INDIVIDUAL</td>\n",
       "      <td>0.0</td>\n",
       "    </tr>\n",
       "    <tr>\n",
       "      <th>1</th>\n",
       "      <td>8000.0</td>\n",
       "      <td>36 months</td>\n",
       "      <td>11.99</td>\n",
       "      <td>265.68</td>\n",
       "      <td>B</td>\n",
       "      <td>B5</td>\n",
       "      <td>4 years</td>\n",
       "      <td>MORTGAGE</td>\n",
       "      <td>65000.0</td>\n",
       "      <td>Not Verified</td>\n",
       "      <td>...</td>\n",
       "      <td>22.05</td>\n",
       "      <td>Jul-2004</td>\n",
       "      <td>17.0</td>\n",
       "      <td>0.0</td>\n",
       "      <td>20131.0</td>\n",
       "      <td>53.3</td>\n",
       "      <td>27.0</td>\n",
       "      <td>f</td>\n",
       "      <td>INDIVIDUAL</td>\n",
       "      <td>0.0</td>\n",
       "    </tr>\n",
       "    <tr>\n",
       "      <th>2</th>\n",
       "      <td>15600.0</td>\n",
       "      <td>36 months</td>\n",
       "      <td>10.49</td>\n",
       "      <td>506.97</td>\n",
       "      <td>B</td>\n",
       "      <td>B3</td>\n",
       "      <td>&lt; 1 year</td>\n",
       "      <td>RENT</td>\n",
       "      <td>43057.0</td>\n",
       "      <td>Source Verified</td>\n",
       "      <td>...</td>\n",
       "      <td>12.79</td>\n",
       "      <td>Aug-2007</td>\n",
       "      <td>13.0</td>\n",
       "      <td>0.0</td>\n",
       "      <td>11987.0</td>\n",
       "      <td>92.2</td>\n",
       "      <td>26.0</td>\n",
       "      <td>f</td>\n",
       "      <td>INDIVIDUAL</td>\n",
       "      <td>0.0</td>\n",
       "    </tr>\n",
       "    <tr>\n",
       "      <th>3</th>\n",
       "      <td>7200.0</td>\n",
       "      <td>36 months</td>\n",
       "      <td>6.49</td>\n",
       "      <td>220.65</td>\n",
       "      <td>A</td>\n",
       "      <td>A2</td>\n",
       "      <td>6 years</td>\n",
       "      <td>RENT</td>\n",
       "      <td>54000.0</td>\n",
       "      <td>Not Verified</td>\n",
       "      <td>...</td>\n",
       "      <td>2.60</td>\n",
       "      <td>Sep-2006</td>\n",
       "      <td>6.0</td>\n",
       "      <td>0.0</td>\n",
       "      <td>5472.0</td>\n",
       "      <td>21.5</td>\n",
       "      <td>13.0</td>\n",
       "      <td>f</td>\n",
       "      <td>INDIVIDUAL</td>\n",
       "      <td>0.0</td>\n",
       "    </tr>\n",
       "    <tr>\n",
       "      <th>4</th>\n",
       "      <td>24375.0</td>\n",
       "      <td>60 months</td>\n",
       "      <td>17.27</td>\n",
       "      <td>609.33</td>\n",
       "      <td>C</td>\n",
       "      <td>C5</td>\n",
       "      <td>9 years</td>\n",
       "      <td>MORTGAGE</td>\n",
       "      <td>55000.0</td>\n",
       "      <td>Verified</td>\n",
       "      <td>...</td>\n",
       "      <td>33.95</td>\n",
       "      <td>Mar-1999</td>\n",
       "      <td>13.0</td>\n",
       "      <td>0.0</td>\n",
       "      <td>24584.0</td>\n",
       "      <td>69.8</td>\n",
       "      <td>43.0</td>\n",
       "      <td>f</td>\n",
       "      <td>INDIVIDUAL</td>\n",
       "      <td>0.0</td>\n",
       "    </tr>\n",
       "    <tr>\n",
       "      <th>...</th>\n",
       "      <td>...</td>\n",
       "      <td>...</td>\n",
       "      <td>...</td>\n",
       "      <td>...</td>\n",
       "      <td>...</td>\n",
       "      <td>...</td>\n",
       "      <td>...</td>\n",
       "      <td>...</td>\n",
       "      <td>...</td>\n",
       "      <td>...</td>\n",
       "      <td>...</td>\n",
       "      <td>...</td>\n",
       "      <td>...</td>\n",
       "      <td>...</td>\n",
       "      <td>...</td>\n",
       "      <td>...</td>\n",
       "      <td>...</td>\n",
       "      <td>...</td>\n",
       "      <td>...</td>\n",
       "      <td>...</td>\n",
       "      <td>...</td>\n",
       "    </tr>\n",
       "    <tr>\n",
       "      <th>395767</th>\n",
       "      <td>10000.0</td>\n",
       "      <td>60 months</td>\n",
       "      <td>10.99</td>\n",
       "      <td>217.38</td>\n",
       "      <td>B</td>\n",
       "      <td>B4</td>\n",
       "      <td>2 years</td>\n",
       "      <td>RENT</td>\n",
       "      <td>40000.0</td>\n",
       "      <td>Source Verified</td>\n",
       "      <td>...</td>\n",
       "      <td>15.63</td>\n",
       "      <td>Nov-2004</td>\n",
       "      <td>6.0</td>\n",
       "      <td>0.0</td>\n",
       "      <td>1990.0</td>\n",
       "      <td>34.3</td>\n",
       "      <td>23.0</td>\n",
       "      <td>w</td>\n",
       "      <td>INDIVIDUAL</td>\n",
       "      <td>0.0</td>\n",
       "    </tr>\n",
       "    <tr>\n",
       "      <th>395768</th>\n",
       "      <td>21000.0</td>\n",
       "      <td>36 months</td>\n",
       "      <td>12.29</td>\n",
       "      <td>700.42</td>\n",
       "      <td>C</td>\n",
       "      <td>C1</td>\n",
       "      <td>5 years</td>\n",
       "      <td>MORTGAGE</td>\n",
       "      <td>110000.0</td>\n",
       "      <td>Source Verified</td>\n",
       "      <td>...</td>\n",
       "      <td>21.45</td>\n",
       "      <td>Feb-2006</td>\n",
       "      <td>6.0</td>\n",
       "      <td>0.0</td>\n",
       "      <td>43263.0</td>\n",
       "      <td>95.7</td>\n",
       "      <td>8.0</td>\n",
       "      <td>f</td>\n",
       "      <td>INDIVIDUAL</td>\n",
       "      <td>0.0</td>\n",
       "    </tr>\n",
       "    <tr>\n",
       "      <th>395769</th>\n",
       "      <td>5000.0</td>\n",
       "      <td>36 months</td>\n",
       "      <td>9.99</td>\n",
       "      <td>161.32</td>\n",
       "      <td>B</td>\n",
       "      <td>B1</td>\n",
       "      <td>10+ years</td>\n",
       "      <td>RENT</td>\n",
       "      <td>56500.0</td>\n",
       "      <td>Verified</td>\n",
       "      <td>...</td>\n",
       "      <td>17.56</td>\n",
       "      <td>Mar-1997</td>\n",
       "      <td>15.0</td>\n",
       "      <td>0.0</td>\n",
       "      <td>32704.0</td>\n",
       "      <td>66.9</td>\n",
       "      <td>23.0</td>\n",
       "      <td>f</td>\n",
       "      <td>INDIVIDUAL</td>\n",
       "      <td>0.0</td>\n",
       "    </tr>\n",
       "    <tr>\n",
       "      <th>395770</th>\n",
       "      <td>21000.0</td>\n",
       "      <td>60 months</td>\n",
       "      <td>15.31</td>\n",
       "      <td>503.02</td>\n",
       "      <td>C</td>\n",
       "      <td>C2</td>\n",
       "      <td>10+ years</td>\n",
       "      <td>MORTGAGE</td>\n",
       "      <td>64000.0</td>\n",
       "      <td>Verified</td>\n",
       "      <td>...</td>\n",
       "      <td>15.88</td>\n",
       "      <td>Nov-1990</td>\n",
       "      <td>9.0</td>\n",
       "      <td>0.0</td>\n",
       "      <td>15704.0</td>\n",
       "      <td>53.8</td>\n",
       "      <td>20.0</td>\n",
       "      <td>f</td>\n",
       "      <td>INDIVIDUAL</td>\n",
       "      <td>0.0</td>\n",
       "    </tr>\n",
       "    <tr>\n",
       "      <th>395771</th>\n",
       "      <td>2000.0</td>\n",
       "      <td>36 months</td>\n",
       "      <td>13.61</td>\n",
       "      <td>67.98</td>\n",
       "      <td>C</td>\n",
       "      <td>C2</td>\n",
       "      <td>10+ years</td>\n",
       "      <td>RENT</td>\n",
       "      <td>42996.0</td>\n",
       "      <td>Verified</td>\n",
       "      <td>...</td>\n",
       "      <td>8.32</td>\n",
       "      <td>Sep-1998</td>\n",
       "      <td>3.0</td>\n",
       "      <td>0.0</td>\n",
       "      <td>4292.0</td>\n",
       "      <td>91.3</td>\n",
       "      <td>19.0</td>\n",
       "      <td>f</td>\n",
       "      <td>INDIVIDUAL</td>\n",
       "      <td>0.0</td>\n",
       "    </tr>\n",
       "  </tbody>\n",
       "</table>\n",
       "<p>395772 rows × 23 columns</p>\n",
       "</div>"
      ],
      "text/plain": [
       "        loan_amnt        term  int_rate  installment grade sub_grade  \\\n",
       "0         10000.0   36 months     11.44       329.48     B        B4   \n",
       "1          8000.0   36 months     11.99       265.68     B        B5   \n",
       "2         15600.0   36 months     10.49       506.97     B        B3   \n",
       "3          7200.0   36 months      6.49       220.65     A        A2   \n",
       "4         24375.0   60 months     17.27       609.33     C        C5   \n",
       "...           ...         ...       ...          ...   ...       ...   \n",
       "395767    10000.0   60 months     10.99       217.38     B        B4   \n",
       "395768    21000.0   36 months     12.29       700.42     C        C1   \n",
       "395769     5000.0   36 months      9.99       161.32     B        B1   \n",
       "395770    21000.0   60 months     15.31       503.02     C        C2   \n",
       "395771     2000.0   36 months     13.61        67.98     C        C2   \n",
       "\n",
       "       emp_length home_ownership  annual_inc verification_status  ...    dti  \\\n",
       "0       10+ years           RENT    117000.0        Not Verified  ...  26.24   \n",
       "1         4 years       MORTGAGE     65000.0        Not Verified  ...  22.05   \n",
       "2        < 1 year           RENT     43057.0     Source Verified  ...  12.79   \n",
       "3         6 years           RENT     54000.0        Not Verified  ...   2.60   \n",
       "4         9 years       MORTGAGE     55000.0            Verified  ...  33.95   \n",
       "...           ...            ...         ...                 ...  ...    ...   \n",
       "395767    2 years           RENT     40000.0     Source Verified  ...  15.63   \n",
       "395768    5 years       MORTGAGE    110000.0     Source Verified  ...  21.45   \n",
       "395769  10+ years           RENT     56500.0            Verified  ...  17.56   \n",
       "395770  10+ years       MORTGAGE     64000.0            Verified  ...  15.88   \n",
       "395771  10+ years           RENT     42996.0            Verified  ...   8.32   \n",
       "\n",
       "       earliest_cr_line open_acc  pub_rec revol_bal  revol_util  total_acc  \\\n",
       "0              Jun-1990     16.0      0.0   36369.0        41.8       25.0   \n",
       "1              Jul-2004     17.0      0.0   20131.0        53.3       27.0   \n",
       "2              Aug-2007     13.0      0.0   11987.0        92.2       26.0   \n",
       "3              Sep-2006      6.0      0.0    5472.0        21.5       13.0   \n",
       "4              Mar-1999     13.0      0.0   24584.0        69.8       43.0   \n",
       "...                 ...      ...      ...       ...         ...        ...   \n",
       "395767         Nov-2004      6.0      0.0    1990.0        34.3       23.0   \n",
       "395768         Feb-2006      6.0      0.0   43263.0        95.7        8.0   \n",
       "395769         Mar-1997     15.0      0.0   32704.0        66.9       23.0   \n",
       "395770         Nov-1990      9.0      0.0   15704.0        53.8       20.0   \n",
       "395771         Sep-1998      3.0      0.0    4292.0        91.3       19.0   \n",
       "\n",
       "        initial_list_status  application_type  pub_rec_bankruptcies  \n",
       "0                         w        INDIVIDUAL                   0.0  \n",
       "1                         f        INDIVIDUAL                   0.0  \n",
       "2                         f        INDIVIDUAL                   0.0  \n",
       "3                         f        INDIVIDUAL                   0.0  \n",
       "4                         f        INDIVIDUAL                   0.0  \n",
       "...                     ...               ...                   ...  \n",
       "395767                    w        INDIVIDUAL                   0.0  \n",
       "395768                    f        INDIVIDUAL                   0.0  \n",
       "395769                    f        INDIVIDUAL                   0.0  \n",
       "395770                    f        INDIVIDUAL                   0.0  \n",
       "395771                    f        INDIVIDUAL                   0.0  \n",
       "\n",
       "[395772 rows x 23 columns]"
      ]
     },
     "execution_count": 81,
     "metadata": {},
     "output_type": "execute_result"
    }
   ],
   "source": [
    "df_clean"
   ]
  },
  {
   "cell_type": "code",
   "execution_count": 82,
   "id": "beneficial-delight",
   "metadata": {},
   "outputs": [
    {
     "data": {
      "image/png": "[encoded data removed]",
      "text/plain": [
       "<Figure size 800x400 with 1 Axes>"
      ]
     },
     "metadata": {
      "needs_background": "light"
     },
     "output_type": "display_data"
    }
   ],
   "source": [
    "plt.figure(figsize=(8,4), dpi=100)\n",
    "sns.countplot(data=df_clean, x='emp_length', hue='loan_status')\n",
    "plt.xticks(rotation=90);"
   ]
  },
  {
   "cell_type": "code",
   "execution_count": 83,
   "id": "elect-automation",
   "metadata": {},
   "outputs": [
    {
     "name": "stdout",
     "output_type": "stream",
     "text": [
      "<class 'pandas.core.frame.DataFrame'>\n",
      "RangeIndex: 395772 entries, 0 to 395771\n",
      "Data columns (total 23 columns):\n",
      " #   Column                Non-Null Count   Dtype  \n",
      "---  ------                --------------   -----  \n",
      " 0   loan_amnt             395772 non-null  float64\n",
      " 1   term                  395772 non-null  object \n",
      " 2   int_rate              395772 non-null  float64\n",
      " 3   installment           395772 non-null  float64\n",
      " 4   grade                 395772 non-null  object \n",
      " 5   sub_grade             395772 non-null  object \n",
      " 6   emp_length            395772 non-null  object \n",
      " 7   home_ownership        395772 non-null  object \n",
      " 8   annual_inc            395772 non-null  float64\n",
      " 9   verification_status   395772 non-null  object \n",
      " 10  issue_d               395772 non-null  object \n",
      " 11  loan_status           395772 non-null  object \n",
      " 12  purpose               395772 non-null  object \n",
      " 13  dti                   395772 non-null  float64\n",
      " 14  earliest_cr_line      395772 non-null  object \n",
      " 15  open_acc              395772 non-null  float64\n",
      " 16  pub_rec               395772 non-null  float64\n",
      " 17  revol_bal             395772 non-null  float64\n",
      " 18  revol_util            395772 non-null  float64\n",
      " 19  total_acc             395772 non-null  float64\n",
      " 20  initial_list_status   395772 non-null  object \n",
      " 21  application_type      395772 non-null  object \n",
      " 22  pub_rec_bankruptcies  395772 non-null  float64\n",
      "dtypes: float64(11), object(12)\n",
      "memory usage: 69.4+ MB\n"
     ]
    }
   ],
   "source": [
    "# SPILT DATA INTO NUMERICAL AND CATEGORICAL DATA\n",
    "df_clean.info()"
   ]
  },
  {
   "cell_type": "markdown",
   "id": "fiscal-federal",
   "metadata": {},
   "source": [
    "**Split the loan issue date into month and year columns.**"
   ]
  },
  {
   "cell_type": "code",
   "execution_count": 84,
   "id": "suburban-papua",
   "metadata": {},
   "outputs": [
    {
     "data": {
      "text/plain": [
       "0         Jan-2015\n",
       "1         Jan-2015\n",
       "2         Jan-2015\n",
       "3         Nov-2014\n",
       "4         Apr-2013\n",
       "            ...   \n",
       "395767    Oct-2015\n",
       "395768    Feb-2015\n",
       "395769    Oct-2013\n",
       "395770    Aug-2012\n",
       "395771    Jun-2010\n",
       "Name: issue_d, Length: 395772, dtype: object"
      ]
     },
     "execution_count": 84,
     "metadata": {},
     "output_type": "execute_result"
    }
   ],
   "source": [
    "df_clean['issue_d']"
   ]
  },
  {
   "cell_type": "code",
   "execution_count": 85,
   "id": "victorian-cursor",
   "metadata": {},
   "outputs": [
    {
     "data": {
      "text/plain": [
       "['Jan', '2015']"
      ]
     },
     "execution_count": 85,
     "metadata": {},
     "output_type": "execute_result"
    }
   ],
   "source": [
    "x = 'Jan-2015'\n",
    "\n",
    "def split_dates(x):\n",
    "    y = x.split('-')\n",
    "    return y\n",
    "\n",
    "split_dates(x)"
   ]
  },
  {
   "cell_type": "code",
   "execution_count": 86,
   "id": "union-confusion",
   "metadata": {},
   "outputs": [
    {
     "data": {
      "text/plain": [
       "0         [Jan, 2015]\n",
       "1         [Jan, 2015]\n",
       "2         [Jan, 2015]\n",
       "3         [Nov, 2014]\n",
       "4         [Apr, 2013]\n",
       "             ...     \n",
       "395767    [Oct, 2015]\n",
       "395768    [Feb, 2015]\n",
       "395769    [Oct, 2013]\n",
       "395770    [Aug, 2012]\n",
       "395771    [Jun, 2010]\n",
       "Name: issue_d, Length: 395772, dtype: object"
      ]
     },
     "execution_count": 86,
     "metadata": {},
     "output_type": "execute_result"
    }
   ],
   "source": [
    "df_clean['issue_d'].apply(split_dates)"
   ]
  },
  {
   "cell_type": "code",
   "execution_count": 87,
   "id": "differential-spirituality",
   "metadata": {},
   "outputs": [],
   "source": [
    "def get_year(x):\n",
    "    y = x.split('-')\n",
    "    return y[-1]"
   ]
  },
  {
   "cell_type": "code",
   "execution_count": 88,
   "id": "serious-bronze",
   "metadata": {},
   "outputs": [],
   "source": [
    "# df_clean['issue_year'] = df_clean['issue_d'].apply(get_year).astype(int)"
   ]
  },
  {
   "cell_type": "code",
   "execution_count": 89,
   "id": "systematic-framework",
   "metadata": {},
   "outputs": [],
   "source": [
    "def get_month(x):\n",
    "    y = x.split('-')\n",
    "    return y[0]"
   ]
  },
  {
   "cell_type": "code",
   "execution_count": 90,
   "id": "stylish-nightlife",
   "metadata": {},
   "outputs": [],
   "source": [
    "# df_clean['issue_month'] = df_clean['issue_d'].apply(get_month)"
   ]
  },
  {
   "cell_type": "code",
   "execution_count": 91,
   "id": "sitting-hospital",
   "metadata": {},
   "outputs": [],
   "source": [
    "# df_clean.drop('issue_month', axis=1, inplace=True)"
   ]
  },
  {
   "cell_type": "code",
   "execution_count": 92,
   "id": "directed-wesley",
   "metadata": {},
   "outputs": [
    {
     "name": "stdout",
     "output_type": "stream",
     "text": [
      "<class 'pandas.core.frame.DataFrame'>\n",
      "RangeIndex: 395772 entries, 0 to 395771\n",
      "Data columns (total 24 columns):\n",
      " #   Column                Non-Null Count   Dtype  \n",
      "---  ------                --------------   -----  \n",
      " 0   loan_amnt             395772 non-null  float64\n",
      " 1   term                  395772 non-null  object \n",
      " 2   int_rate              395772 non-null  float64\n",
      " 3   installment           395772 non-null  float64\n",
      " 4   grade                 395772 non-null  object \n",
      " 5   sub_grade             395772 non-null  object \n",
      " 6   emp_length            395772 non-null  object \n",
      " 7   home_ownership        395772 non-null  object \n",
      " 8   annual_inc            395772 non-null  float64\n",
      " 9   verification_status   395772 non-null  object \n",
      " 10  issue_d               395772 non-null  object \n",
      " 11  loan_status           395772 non-null  object \n",
      " 12  purpose               395772 non-null  object \n",
      " 13  dti                   395772 non-null  float64\n",
      " 14  earliest_cr_line      395772 non-null  object \n",
      " 15  open_acc              395772 non-null  float64\n",
      " 16  pub_rec               395772 non-null  float64\n",
      " 17  revol_bal             395772 non-null  float64\n",
      " 18  revol_util            395772 non-null  float64\n",
      " 19  total_acc             395772 non-null  float64\n",
      " 20  initial_list_status   395772 non-null  object \n",
      " 21  application_type      395772 non-null  object \n",
      " 22  pub_rec_bankruptcies  395772 non-null  float64\n",
      " 23  issue_year            395772 non-null  int32  \n",
      "dtypes: float64(11), int32(1), object(12)\n",
      "memory usage: 71.0+ MB\n"
     ]
    }
   ],
   "source": [
    "# df_clean.drop('year', axis=1, inplace=True)\n",
    "df_clean.info()"
   ]
  },
  {
   "cell_type": "code",
   "execution_count": 93,
   "id": "pacific-delight",
   "metadata": {},
   "outputs": [
    {
     "data": {
      "image/png": "[encoded data removed]",
      "text/plain": [
       "<Figure size 432x288 with 1 Axes>"
      ]
     },
     "metadata": {
      "needs_background": "light"
     },
     "output_type": "display_data"
    }
   ],
   "source": [
    "sns.countplot(data=df_clean, x='issue_year', hue='loan_status');"
   ]
  },
  {
   "cell_type": "code",
   "execution_count": 95,
   "id": "attached-earthquake",
   "metadata": {},
   "outputs": [],
   "source": [
    "df_clean['result'] = df_clean['loan_status'].map({'Fully Paid': 1,\n",
    "                       'Charged Off': 0})"
   ]
  },
  {
   "cell_type": "code",
   "execution_count": 96,
   "id": "editorial-brisbane",
   "metadata": {},
   "outputs": [
    {
     "name": "stdout",
     "output_type": "stream",
     "text": [
      "<class 'pandas.core.frame.DataFrame'>\n",
      "RangeIndex: 395772 entries, 0 to 395771\n",
      "Data columns (total 25 columns):\n",
      " #   Column                Non-Null Count   Dtype  \n",
      "---  ------                --------------   -----  \n",
      " 0   loan_amnt             395772 non-null  float64\n",
      " 1   term                  395772 non-null  object \n",
      " 2   int_rate              395772 non-null  float64\n",
      " 3   installment           395772 non-null  float64\n",
      " 4   grade                 395772 non-null  object \n",
      " 5   sub_grade             395772 non-null  object \n",
      " 6   emp_length            395772 non-null  object \n",
      " 7   home_ownership        395772 non-null  object \n",
      " 8   annual_inc            395772 non-null  float64\n",
      " 9   verification_status   395772 non-null  object \n",
      " 10  issue_d               395772 non-null  object \n",
      " 11  loan_status           395772 non-null  object \n",
      " 12  purpose               395772 non-null  object \n",
      " 13  dti                   395772 non-null  float64\n",
      " 14  earliest_cr_line      395772 non-null  object \n",
      " 15  open_acc              395772 non-null  float64\n",
      " 16  pub_rec               395772 non-null  float64\n",
      " 17  revol_bal             395772 non-null  float64\n",
      " 18  revol_util            395772 non-null  float64\n",
      " 19  total_acc             395772 non-null  float64\n",
      " 20  initial_list_status   395772 non-null  object \n",
      " 21  application_type      395772 non-null  object \n",
      " 22  pub_rec_bankruptcies  395772 non-null  float64\n",
      " 23  issue_year            395772 non-null  int32  \n",
      " 24  result                395772 non-null  int64  \n",
      "dtypes: float64(11), int32(1), int64(1), object(12)\n",
      "memory usage: 74.0+ MB\n"
     ]
    }
   ],
   "source": [
    "df_clean.info()"
   ]
  },
  {
   "cell_type": "code",
   "execution_count": 104,
   "id": "novel-assistant",
   "metadata": {},
   "outputs": [
    {
     "data": {
      "image/png": "[encoded data removed]",
      "text/plain": [
       "<Figure size 432x288 with 1 Axes>"
      ]
     },
     "metadata": {
      "needs_background": "light"
     },
     "output_type": "display_data"
    }
   ],
   "source": [
    "df_clean.corr()['result'].sort_values()[:-1].plot(kind='bar');"
   ]
  },
  {
   "cell_type": "code",
   "execution_count": 106,
   "id": "colored-feedback",
   "metadata": {},
   "outputs": [
    {
     "data": {
      "text/plain": [
       "Index(['term', 'grade', 'sub_grade', 'emp_length', 'home_ownership',\n",
       "       'verification_status', 'issue_d', 'loan_status', 'purpose',\n",
       "       'earliest_cr_line', 'initial_list_status', 'application_type'],\n",
       "      dtype='object')"
      ]
     },
     "execution_count": 106,
     "metadata": {},
     "output_type": "execute_result"
    }
   ],
   "source": [
    "df_clean.select_dtypes(include=['object']).columns"
   ]
  },
  {
   "cell_type": "code",
   "execution_count": 108,
   "id": "working-toilet",
   "metadata": {},
   "outputs": [
    {
     "data": {
      "text/plain": [
       "Index(['loan_amnt', 'int_rate', 'installment', 'annual_inc', 'dti', 'open_acc',\n",
       "       'pub_rec', 'revol_bal', 'revol_util', 'total_acc',\n",
       "       'pub_rec_bankruptcies', 'issue_year', 'result'],\n",
       "      dtype='object')"
      ]
     },
     "execution_count": 108,
     "metadata": {},
     "output_type": "execute_result"
    }
   ],
   "source": [
    "df_clean.select_dtypes(exclude=['object']).columns"
   ]
  },
  {
   "cell_type": "code",
   "execution_count": 109,
   "id": "eight-fault",
   "metadata": {},
   "outputs": [],
   "source": [
    "df_checkpoint = df_clean.copy()"
   ]
  },
  {
   "cell_type": "code",
   "execution_count": null,
   "id": "beautiful-scanning",
   "metadata": {},
   "outputs": [],
   "source": [
    "# DROP COLUMNS THAT WE HAVE ALREADY REPLACED VIA FEATURE ENGINEERING\n",
    "# df_clean.drop(['issue_d', ], axis=1, inplace=True)"
   ]
  },
  {
   "cell_type": "code",
   "execution_count": 118,
   "id": "grateful-style",
   "metadata": {},
   "outputs": [
    {
     "name": "stdout",
     "output_type": "stream",
     "text": [
      "<class 'pandas.core.frame.DataFrame'>\n",
      "RangeIndex: 395772 entries, 0 to 395771\n",
      "Data columns (total 27 columns):\n",
      " #   Column                Non-Null Count   Dtype         \n",
      "---  ------                --------------   -----         \n",
      " 0   loan_amnt             395772 non-null  float64       \n",
      " 1   term                  395772 non-null  object        \n",
      " 2   int_rate              395772 non-null  float64       \n",
      " 3   installment           395772 non-null  float64       \n",
      " 4   grade                 395772 non-null  object        \n",
      " 5   sub_grade             395772 non-null  object        \n",
      " 6   emp_length            395772 non-null  object        \n",
      " 7   home_ownership        395772 non-null  object        \n",
      " 8   annual_inc            395772 non-null  float64       \n",
      " 9   verification_status   395772 non-null  object        \n",
      " 10  issue_d               395772 non-null  object        \n",
      " 11  loan_status           395772 non-null  object        \n",
      " 12  purpose               395772 non-null  object        \n",
      " 13  dti                   395772 non-null  float64       \n",
      " 14  earliest_cr_line      395772 non-null  object        \n",
      " 15  open_acc              395772 non-null  float64       \n",
      " 16  pub_rec               395772 non-null  float64       \n",
      " 17  revol_bal             395772 non-null  float64       \n",
      " 18  revol_util            395772 non-null  float64       \n",
      " 19  total_acc             395772 non-null  float64       \n",
      " 20  initial_list_status   395772 non-null  object        \n",
      " 21  application_type      395772 non-null  object        \n",
      " 22  pub_rec_bankruptcies  395772 non-null  float64       \n",
      " 23  issue_year            395772 non-null  int32         \n",
      " 24  result                395772 non-null  int64         \n",
      " 25  oldest_acct           395772 non-null  datetime64[ns]\n",
      " 26  issue_date            395772 non-null  datetime64[ns]\n",
      "dtypes: datetime64[ns](2), float64(11), int32(1), int64(1), object(12)\n",
      "memory usage: 80.0+ MB\n"
     ]
    }
   ],
   "source": [
    "df_clean.info()"
   ]
  },
  {
   "cell_type": "code",
   "execution_count": 113,
   "id": "forbidden-donor",
   "metadata": {},
   "outputs": [
    {
     "data": {
      "text/plain": [
       "0         Jan-2015\n",
       "1         Jan-2015\n",
       "2         Jan-2015\n",
       "3         Nov-2014\n",
       "4         Apr-2013\n",
       "            ...   \n",
       "395767    Oct-2015\n",
       "395768    Feb-2015\n",
       "395769    Oct-2013\n",
       "395770    Aug-2012\n",
       "395771    Jun-2010\n",
       "Name: issue_d, Length: 395772, dtype: object"
      ]
     },
     "execution_count": 113,
     "metadata": {},
     "output_type": "execute_result"
    }
   ],
   "source": [
    "df_clean['issue_d']"
   ]
  },
  {
   "cell_type": "code",
   "execution_count": 117,
   "id": "scheduled-surveillance",
   "metadata": {},
   "outputs": [],
   "source": [
    "df_clean['oldest_acct'] = pd.to_datetime(df_clean['earliest_cr_line'])\n",
    "df_clean['issue_date'] = pd.to_datetime(df_clean['issue_d'])"
   ]
  },
  {
   "cell_type": "code",
   "execution_count": 119,
   "id": "comfortable-formula",
   "metadata": {},
   "outputs": [],
   "source": [
    "df_clean.drop('issue_year', axis=1, inplace=True)"
   ]
  },
  {
   "cell_type": "code",
   "execution_count": 130,
   "id": "awful-cambodia",
   "metadata": {},
   "outputs": [
    {
     "name": "stdout",
     "output_type": "stream",
     "text": [
      "26664 days 00:00:00\n"
     ]
    }
   ],
   "source": [
    "# def compute_duration(x):\n",
    "report_date = 'Jan-2017'\n",
    "sample_date = 'Jan-1944'\n",
    "\n",
    "b = pd.to_datetime(report_date)    \n",
    "a = pd.to_datetime(sample_date)\n",
    "\n",
    "print(b - a)"
   ]
  },
  {
   "cell_type": "code",
   "execution_count": 131,
   "id": "hungry-shadow",
   "metadata": {},
   "outputs": [
    {
     "data": {
      "text/plain": [
       "pandas._libs.tslibs.timedeltas.Timedelta"
      ]
     },
     "execution_count": 131,
     "metadata": {},
     "output_type": "execute_result"
    }
   ],
   "source": [
    "x = b - a\n",
    "type(x)"
   ]
  },
  {
   "cell_type": "code",
   "execution_count": 133,
   "id": "danish-kitty",
   "metadata": {},
   "outputs": [
    {
     "data": {
      "text/plain": [
       "26664"
      ]
     },
     "execution_count": 133,
     "metadata": {},
     "output_type": "execute_result"
    }
   ],
   "source": [
    "x.days"
   ]
  },
  {
   "cell_type": "code",
   "execution_count": 129,
   "id": "breeding-guidance",
   "metadata": {},
   "outputs": [
    {
     "data": {
      "text/plain": [
       "57800    1944-01-01\n",
       "351561   1948-01-01\n",
       "208349   1950-10-01\n",
       "102130   1950-11-01\n",
       "174195   1950-12-01\n",
       "            ...    \n",
       "37748    2013-09-01\n",
       "199095   2013-09-01\n",
       "293329   2013-09-01\n",
       "358175   2013-10-01\n",
       "215512   2013-10-01\n",
       "Name: oldest_acct, Length: 395772, dtype: datetime64[ns]"
      ]
     },
     "execution_count": 129,
     "metadata": {},
     "output_type": "execute_result"
    }
   ],
   "source": [
    "df_clean['oldest_acct'].sort_values()"
   ]
  },
  {
   "cell_type": "code",
   "execution_count": 134,
   "id": "eleven-vision",
   "metadata": {},
   "outputs": [],
   "source": [
    "def get_days_since(x):\n",
    "    report_date = 'Jan-2017'\n",
    "    y = pd.to_datetime(report_date)\n",
    "    z = y - x\n",
    "    return z.days"
   ]
  },
  {
   "cell_type": "code",
   "execution_count": 137,
   "id": "severe-authority",
   "metadata": {},
   "outputs": [
    {
     "data": {
      "text/plain": [
       "366"
      ]
     },
     "execution_count": 137,
     "metadata": {},
     "output_type": "execute_result"
    }
   ],
   "source": [
    "x = pd.to_datetime('Jan-2016')\n",
    "get_days_since(x)"
   ]
  },
  {
   "cell_type": "code",
   "execution_count": 139,
   "id": "vertical-frame",
   "metadata": {},
   "outputs": [],
   "source": [
    "df_clean['oldest_acct_days'] = df_clean['oldest_acct'].apply(get_days_since)"
   ]
  },
  {
   "cell_type": "code",
   "execution_count": 140,
   "id": "young-involvement",
   "metadata": {},
   "outputs": [],
   "source": [
    "df_clean['issue_date_days'] = df_clean['issue_date'].apply(get_days_since)"
   ]
  },
  {
   "cell_type": "code",
   "execution_count": 141,
   "id": "excellent-discovery",
   "metadata": {},
   "outputs": [
    {
     "name": "stdout",
     "output_type": "stream",
     "text": [
      "<class 'pandas.core.frame.DataFrame'>\n",
      "RangeIndex: 395772 entries, 0 to 395771\n",
      "Data columns (total 28 columns):\n",
      " #   Column                Non-Null Count   Dtype         \n",
      "---  ------                --------------   -----         \n",
      " 0   loan_amnt             395772 non-null  float64       \n",
      " 1   term                  395772 non-null  object        \n",
      " 2   int_rate              395772 non-null  float64       \n",
      " 3   installment           395772 non-null  float64       \n",
      " 4   grade                 395772 non-null  object        \n",
      " 5   sub_grade             395772 non-null  object        \n",
      " 6   emp_length            395772 non-null  object        \n",
      " 7   home_ownership        395772 non-null  object        \n",
      " 8   annual_inc            395772 non-null  float64       \n",
      " 9   verification_status   395772 non-null  object        \n",
      " 10  issue_d               395772 non-null  object        \n",
      " 11  loan_status           395772 non-null  object        \n",
      " 12  purpose               395772 non-null  object        \n",
      " 13  dti                   395772 non-null  float64       \n",
      " 14  earliest_cr_line      395772 non-null  object        \n",
      " 15  open_acc              395772 non-null  float64       \n",
      " 16  pub_rec               395772 non-null  float64       \n",
      " 17  revol_bal             395772 non-null  float64       \n",
      " 18  revol_util            395772 non-null  float64       \n",
      " 19  total_acc             395772 non-null  float64       \n",
      " 20  initial_list_status   395772 non-null  object        \n",
      " 21  application_type      395772 non-null  object        \n",
      " 22  pub_rec_bankruptcies  395772 non-null  float64       \n",
      " 23  result                395772 non-null  int64         \n",
      " 24  oldest_acct           395772 non-null  datetime64[ns]\n",
      " 25  issue_date            395772 non-null  datetime64[ns]\n",
      " 26  oldest_acct_days      395772 non-null  int64         \n",
      " 27  issue_date_days       395772 non-null  int64         \n",
      "dtypes: datetime64[ns](2), float64(11), int64(3), object(12)\n",
      "memory usage: 84.5+ MB\n"
     ]
    }
   ],
   "source": [
    "df_clean.info()"
   ]
  },
  {
   "cell_type": "code",
   "execution_count": 144,
   "id": "interior-reaction",
   "metadata": {},
   "outputs": [
    {
     "data": {
      "image/png": "[encoded data removed]",
      "text/plain": [
       "<Figure size 432x288 with 1 Axes>"
      ]
     },
     "metadata": {
      "needs_background": "light"
     },
     "output_type": "display_data"
    }
   ],
   "source": [
    "df_clean.corr()['result'].sort_values()[:-1].plot(kind='bar');"
   ]
  },
  {
   "cell_type": "code",
   "execution_count": 160,
   "id": "compliant-galaxy",
   "metadata": {},
   "outputs": [
    {
     "data": {
      "text/html": [
       "<div>\n",
       "<style scoped>\n",
       "    .dataframe tbody tr th:only-of-type {\n",
       "        vertical-align: middle;\n",
       "    }\n",
       "\n",
       "    .dataframe tbody tr th {\n",
       "        vertical-align: top;\n",
       "    }\n",
       "\n",
       "    .dataframe thead th {\n",
       "        text-align: right;\n",
       "    }\n",
       "</style>\n",
       "<table border=\"1\" class=\"dataframe\">\n",
       "  <thead>\n",
       "    <tr style=\"text-align: right;\">\n",
       "      <th></th>\n",
       "      <th>count</th>\n",
       "      <th>mean</th>\n",
       "      <th>std</th>\n",
       "      <th>min</th>\n",
       "      <th>25%</th>\n",
       "      <th>50%</th>\n",
       "      <th>75%</th>\n",
       "      <th>max</th>\n",
       "    </tr>\n",
       "  </thead>\n",
       "  <tbody>\n",
       "    <tr>\n",
       "      <th>loan_amnt</th>\n",
       "      <td>395767.0</td>\n",
       "      <td>14107.787284</td>\n",
       "      <td>8352.361771</td>\n",
       "      <td>500.00</td>\n",
       "      <td>8000.00</td>\n",
       "      <td>12000.00</td>\n",
       "      <td>20000.00</td>\n",
       "      <td>40000.00</td>\n",
       "    </tr>\n",
       "    <tr>\n",
       "      <th>int_rate</th>\n",
       "      <td>395767.0</td>\n",
       "      <td>13.639987</td>\n",
       "      <td>4.472061</td>\n",
       "      <td>5.32</td>\n",
       "      <td>10.49</td>\n",
       "      <td>13.33</td>\n",
       "      <td>16.49</td>\n",
       "      <td>30.99</td>\n",
       "    </tr>\n",
       "    <tr>\n",
       "      <th>installment</th>\n",
       "      <td>395767.0</td>\n",
       "      <td>431.656306</td>\n",
       "      <td>250.536545</td>\n",
       "      <td>16.08</td>\n",
       "      <td>250.33</td>\n",
       "      <td>375.43</td>\n",
       "      <td>567.16</td>\n",
       "      <td>1533.81</td>\n",
       "    </tr>\n",
       "    <tr>\n",
       "      <th>annual_inc</th>\n",
       "      <td>395767.0</td>\n",
       "      <td>73481.797510</td>\n",
       "      <td>44450.678168</td>\n",
       "      <td>2500.00</td>\n",
       "      <td>45000.00</td>\n",
       "      <td>64000.00</td>\n",
       "      <td>90000.00</td>\n",
       "      <td>600000.00</td>\n",
       "    </tr>\n",
       "    <tr>\n",
       "      <th>dti</th>\n",
       "      <td>395767.0</td>\n",
       "      <td>17.357643</td>\n",
       "      <td>8.135883</td>\n",
       "      <td>0.00</td>\n",
       "      <td>11.30</td>\n",
       "      <td>16.91</td>\n",
       "      <td>22.99</td>\n",
       "      <td>189.90</td>\n",
       "    </tr>\n",
       "    <tr>\n",
       "      <th>open_acc</th>\n",
       "      <td>395767.0</td>\n",
       "      <td>11.310233</td>\n",
       "      <td>5.136927</td>\n",
       "      <td>0.00</td>\n",
       "      <td>8.00</td>\n",
       "      <td>10.00</td>\n",
       "      <td>14.00</td>\n",
       "      <td>90.00</td>\n",
       "    </tr>\n",
       "    <tr>\n",
       "      <th>pub_rec</th>\n",
       "      <td>395767.0</td>\n",
       "      <td>0.177852</td>\n",
       "      <td>0.508776</td>\n",
       "      <td>0.00</td>\n",
       "      <td>0.00</td>\n",
       "      <td>0.00</td>\n",
       "      <td>0.00</td>\n",
       "      <td>24.00</td>\n",
       "    </tr>\n",
       "    <tr>\n",
       "      <th>revol_bal</th>\n",
       "      <td>395767.0</td>\n",
       "      <td>15791.026493</td>\n",
       "      <td>19738.074242</td>\n",
       "      <td>0.00</td>\n",
       "      <td>6024.00</td>\n",
       "      <td>11179.00</td>\n",
       "      <td>19609.00</td>\n",
       "      <td>867528.00</td>\n",
       "    </tr>\n",
       "    <tr>\n",
       "      <th>revol_util</th>\n",
       "      <td>395767.0</td>\n",
       "      <td>53.793423</td>\n",
       "      <td>24.403713</td>\n",
       "      <td>0.00</td>\n",
       "      <td>35.90</td>\n",
       "      <td>54.80</td>\n",
       "      <td>72.90</td>\n",
       "      <td>153.00</td>\n",
       "    </tr>\n",
       "    <tr>\n",
       "      <th>total_acc</th>\n",
       "      <td>395767.0</td>\n",
       "      <td>25.411320</td>\n",
       "      <td>11.884623</td>\n",
       "      <td>2.00</td>\n",
       "      <td>17.00</td>\n",
       "      <td>24.00</td>\n",
       "      <td>32.00</td>\n",
       "      <td>151.00</td>\n",
       "    </tr>\n",
       "    <tr>\n",
       "      <th>pub_rec_bankruptcies</th>\n",
       "      <td>395767.0</td>\n",
       "      <td>0.121534</td>\n",
       "      <td>0.356027</td>\n",
       "      <td>0.00</td>\n",
       "      <td>0.00</td>\n",
       "      <td>0.00</td>\n",
       "      <td>0.00</td>\n",
       "      <td>8.00</td>\n",
       "    </tr>\n",
       "    <tr>\n",
       "      <th>result</th>\n",
       "      <td>395767.0</td>\n",
       "      <td>0.803834</td>\n",
       "      <td>0.397096</td>\n",
       "      <td>0.00</td>\n",
       "      <td>1.00</td>\n",
       "      <td>1.00</td>\n",
       "      <td>1.00</td>\n",
       "      <td>1.00</td>\n",
       "    </tr>\n",
       "    <tr>\n",
       "      <th>oldest_acct_days</th>\n",
       "      <td>395767.0</td>\n",
       "      <td>6816.492846</td>\n",
       "      <td>2629.353393</td>\n",
       "      <td>1188.00</td>\n",
       "      <td>5024.00</td>\n",
       "      <td>6332.00</td>\n",
       "      <td>8128.00</td>\n",
       "      <td>26664.00</td>\n",
       "    </tr>\n",
       "    <tr>\n",
       "      <th>issue_date_days</th>\n",
       "      <td>395767.0</td>\n",
       "      <td>1063.337807</td>\n",
       "      <td>530.246280</td>\n",
       "      <td>31.00</td>\n",
       "      <td>672.00</td>\n",
       "      <td>1006.00</td>\n",
       "      <td>1341.00</td>\n",
       "      <td>3502.00</td>\n",
       "    </tr>\n",
       "  </tbody>\n",
       "</table>\n",
       "</div>"
      ],
      "text/plain": [
       "                         count          mean           std      min       25%  \\\n",
       "loan_amnt             395767.0  14107.787284   8352.361771   500.00   8000.00   \n",
       "int_rate              395767.0     13.639987      4.472061     5.32     10.49   \n",
       "installment           395767.0    431.656306    250.536545    16.08    250.33   \n",
       "annual_inc            395767.0  73481.797510  44450.678168  2500.00  45000.00   \n",
       "dti                   395767.0     17.357643      8.135883     0.00     11.30   \n",
       "open_acc              395767.0     11.310233      5.136927     0.00      8.00   \n",
       "pub_rec               395767.0      0.177852      0.508776     0.00      0.00   \n",
       "revol_bal             395767.0  15791.026493  19738.074242     0.00   6024.00   \n",
       "revol_util            395767.0     53.793423     24.403713     0.00     35.90   \n",
       "total_acc             395767.0     25.411320     11.884623     2.00     17.00   \n",
       "pub_rec_bankruptcies  395767.0      0.121534      0.356027     0.00      0.00   \n",
       "result                395767.0      0.803834      0.397096     0.00      1.00   \n",
       "oldest_acct_days      395767.0   6816.492846   2629.353393  1188.00   5024.00   \n",
       "issue_date_days       395767.0   1063.337807    530.246280    31.00    672.00   \n",
       "\n",
       "                           50%       75%        max  \n",
       "loan_amnt             12000.00  20000.00   40000.00  \n",
       "int_rate                 13.33     16.49      30.99  \n",
       "installment             375.43    567.16    1533.81  \n",
       "annual_inc            64000.00  90000.00  600000.00  \n",
       "dti                      16.91     22.99     189.90  \n",
       "open_acc                 10.00     14.00      90.00  \n",
       "pub_rec                   0.00      0.00      24.00  \n",
       "revol_bal             11179.00  19609.00  867528.00  \n",
       "revol_util               54.80     72.90     153.00  \n",
       "total_acc                24.00     32.00     151.00  \n",
       "pub_rec_bankruptcies      0.00      0.00       8.00  \n",
       "result                    1.00      1.00       1.00  \n",
       "oldest_acct_days       6332.00   8128.00   26664.00  \n",
       "issue_date_days        1006.00   1341.00    3502.00  "
      ]
     },
     "execution_count": 160,
     "metadata": {},
     "output_type": "execute_result"
    }
   ],
   "source": [
    "df_clean.describe().transpose()"
   ]
  },
  {
   "cell_type": "code",
   "execution_count": 154,
   "id": "automatic-attraction",
   "metadata": {},
   "outputs": [
    {
     "data": {
      "image/png": "[encoded data removed]",
      "text/plain": [
       "<Figure size 432x288 with 1 Axes>"
      ]
     },
     "metadata": {
      "needs_background": "light"
     },
     "output_type": "display_data"
    }
   ],
   "source": [
    "sns.countplot(data=df_clean, x='pub_rec');"
   ]
  },
  {
   "cell_type": "code",
   "execution_count": 153,
   "id": "downtown-identity",
   "metadata": {},
   "outputs": [
    {
     "data": {
      "text/plain": [
       "252609    24.0\n",
       "58160     19.0\n",
       "112113    19.0\n",
       "150599    17.0\n",
       "355978    15.0\n",
       "90368     13.0\n",
       "162554    13.0\n",
       "215994    13.0\n",
       "271947    13.0\n",
       "219965    12.0\n",
       "234379    12.0\n",
       "344043    12.0\n",
       "364693    12.0\n",
       "16526     11.0\n",
       "45236     11.0\n",
       "116628    11.0\n",
       "145352    11.0\n",
       "226097    11.0\n",
       "290689    11.0\n",
       "346327    11.0\n",
       "370019    11.0\n",
       "13183     10.0\n",
       "57792     10.0\n",
       "58306     10.0\n",
       "103446    10.0\n",
       "Name: pub_rec, dtype: float64"
      ]
     },
     "execution_count": 153,
     "metadata": {},
     "output_type": "execute_result"
    }
   ],
   "source": [
    "df_clean['pub_rec'].nlargest(25)"
   ]
  },
  {
   "cell_type": "code",
   "execution_count": 152,
   "id": "broad-situation",
   "metadata": {},
   "outputs": [],
   "source": [
    "df_clean = df_clean[ df_clean['pub_rec'] < 40 ]"
   ]
  },
  {
   "cell_type": "code",
   "execution_count": 159,
   "id": "developed-representation",
   "metadata": {},
   "outputs": [
    {
     "data": {
      "image/png": "[encoded data removed]",
      "text/plain": [
       "<Figure size 432x288 with 1 Axes>"
      ]
     },
     "metadata": {
      "needs_background": "light"
     },
     "output_type": "display_data"
    }
   ],
   "source": [
    "sns.histplot(data=df_clean, x='revol_bal');"
   ]
  },
  {
   "cell_type": "code",
   "execution_count": 157,
   "id": "uniform-welcome",
   "metadata": {},
   "outputs": [],
   "source": [
    "df_clean = df_clean[ df_clean['revol_bal'] < 1000000 ]"
   ]
  },
  {
   "cell_type": "code",
   "execution_count": 158,
   "id": "lovely-bacon",
   "metadata": {},
   "outputs": [
    {
     "data": {
      "text/plain": [
       "238815    867528.0\n",
       "134064    814300.0\n",
       "181072    744190.0\n",
       "241218    693471.0\n",
       "103794    690987.0\n",
       "385116    669560.0\n",
       "378843    669257.0\n",
       "141054    664894.0\n",
       "318130    661711.0\n",
       "151237    658548.0\n",
       "367513    654134.0\n",
       "163724    643871.0\n",
       "343601    626102.0\n",
       "79106     624356.0\n",
       "30330     617838.0\n",
       "180664    607891.0\n",
       "37001     605627.0\n",
       "12919     605063.0\n",
       "372793    576771.0\n",
       "288601    570842.0\n",
       "395114    568659.0\n",
       "129256    563624.0\n",
       "135955    561634.0\n",
       "202013    555673.0\n",
       "210465    555597.0\n",
       "Name: revol_bal, dtype: float64"
      ]
     },
     "execution_count": 158,
     "metadata": {},
     "output_type": "execute_result"
    }
   ],
   "source": [
    "df_clean['revol_bal'].nlargest(25)"
   ]
  },
  {
   "cell_type": "code",
   "execution_count": 162,
   "id": "shaped-diving",
   "metadata": {},
   "outputs": [
    {
     "data": {
      "image/png": "[encoded data removed]",
      "text/plain": [
       "<Figure size 360x360 with 1 Axes>"
      ]
     },
     "metadata": {
      "needs_background": "light"
     },
     "output_type": "display_data"
    }
   ],
   "source": [
    "sns.displot(data=df_clean, x='open_acc');"
   ]
  },
  {
   "cell_type": "markdown",
   "id": "awful-pakistan",
   "metadata": {},
   "source": [
    "### Create Dummy Variables"
   ]
  },
  {
   "cell_type": "code",
   "execution_count": 179,
   "id": "challenging-sharing",
   "metadata": {},
   "outputs": [
    {
     "name": "stdout",
     "output_type": "stream",
     "text": [
      "<class 'pandas.core.frame.DataFrame'>\n",
      "Int64Index: 395767 entries, 0 to 395771\n",
      "Data columns (total 23 columns):\n",
      " #   Column                Non-Null Count   Dtype  \n",
      "---  ------                --------------   -----  \n",
      " 0   loan_amnt             395767 non-null  float64\n",
      " 1   term                  395767 non-null  object \n",
      " 2   int_rate              395767 non-null  float64\n",
      " 3   installment           395767 non-null  float64\n",
      " 4   grade                 395767 non-null  object \n",
      " 5   sub_grade             395767 non-null  object \n",
      " 6   emp_length            395767 non-null  object \n",
      " 7   home_ownership        395767 non-null  object \n",
      " 8   annual_inc            395767 non-null  float64\n",
      " 9   verification_status   395767 non-null  object \n",
      " 10  loan_status           395767 non-null  object \n",
      " 11  purpose               395767 non-null  object \n",
      " 12  dti                   395767 non-null  float64\n",
      " 13  open_acc              395767 non-null  float64\n",
      " 14  pub_rec               395767 non-null  float64\n",
      " 15  revol_bal             395767 non-null  float64\n",
      " 16  revol_util            395767 non-null  float64\n",
      " 17  total_acc             395767 non-null  float64\n",
      " 18  initial_list_status   395767 non-null  object \n",
      " 19  application_type      395767 non-null  object \n",
      " 20  pub_rec_bankruptcies  395767 non-null  float64\n",
      " 21  oldest_acct_days      395767 non-null  int64  \n",
      " 22  issue_date_days       395767 non-null  int64  \n",
      "dtypes: float64(11), int64(2), object(10)\n",
      "memory usage: 72.5+ MB\n"
     ]
    }
   ],
   "source": [
    "df_clean.info()"
   ]
  },
  {
   "cell_type": "code",
   "execution_count": 178,
   "id": "super-runner",
   "metadata": {},
   "outputs": [
    {
     "data": {
      "text/plain": [
       "array(['INDIVIDUAL', 'JOINT', 'DIRECT_PAY'], dtype=object)"
      ]
     },
     "execution_count": 178,
     "metadata": {},
     "output_type": "execute_result"
    }
   ],
   "source": [
    "df_clean['term'].unique()\n",
    "df_clean['grade'].unique()\n",
    "df_clean['application_type'].unique()"
   ]
  },
  {
   "cell_type": "code",
   "execution_count": 177,
   "id": "veterinary-utility",
   "metadata": {},
   "outputs": [
    {
     "data": {
      "text/plain": [
       "array(['vacation', 'debt_consolidation', 'credit_card',\n",
       "       'home_improvement', 'small_business', 'major_purchase', 'other',\n",
       "       'medical', 'wedding', 'car', 'moving', 'house', 'educational',\n",
       "       'renewable_energy'], dtype=object)"
      ]
     },
     "execution_count": 177,
     "metadata": {},
     "output_type": "execute_result"
    }
   ],
   "source": [
    "df_clean['term'].unique()\n",
    "df_clean['initial_list_status'].unique()\n",
    "df_clean['purpose'].unique()\n",
    "# df_clean['verification_status'].unique()"
   ]
  },
  {
   "cell_type": "code",
   "execution_count": 168,
   "id": "hundred-shade",
   "metadata": {},
   "outputs": [],
   "source": [
    "df_clean.drop('issue_d', axis=1, inplace=True)"
   ]
  },
  {
   "cell_type": "code",
   "execution_count": 169,
   "id": "painful-september",
   "metadata": {},
   "outputs": [],
   "source": [
    "df_clean.drop('result', axis=1, inplace=True)"
   ]
  },
  {
   "cell_type": "code",
   "execution_count": 170,
   "id": "fixed-shoulder",
   "metadata": {},
   "outputs": [],
   "source": [
    "df_clean.drop('oldest_acct', axis=1, inplace=True)"
   ]
  },
  {
   "cell_type": "code",
   "execution_count": 171,
   "id": "consistent-gilbert",
   "metadata": {},
   "outputs": [],
   "source": [
    "df_clean.drop('issue_date', axis=1, inplace=True)"
   ]
  },
  {
   "cell_type": "code",
   "execution_count": 175,
   "id": "present-trail",
   "metadata": {},
   "outputs": [],
   "source": [
    "df_clean.drop('earliest_cr_line', axis=1, inplace=True)"
   ]
  },
  {
   "cell_type": "code",
   "execution_count": 180,
   "id": "reported-daughter",
   "metadata": {},
   "outputs": [
    {
     "data": {
      "text/plain": [
       "Index(['term', 'grade', 'sub_grade', 'emp_length', 'home_ownership',\n",
       "       'verification_status', 'loan_status', 'purpose', 'initial_list_status',\n",
       "       'application_type'],\n",
       "      dtype='object')"
      ]
     },
     "execution_count": 180,
     "metadata": {},
     "output_type": "execute_result"
    }
   ],
   "source": [
    "df_clean.select_dtypes(include=['object']).columns"
   ]
  },
  {
   "cell_type": "code",
   "execution_count": 181,
   "id": "congressional-doubt",
   "metadata": {},
   "outputs": [],
   "source": [
    "dummy_cols = ['term', 'grade', 'sub_grade', 'emp_length', 'home_ownership',\n",
    "       'verification_status', 'purpose', 'initial_list_status',\n",
    "       'application_type']"
   ]
  },
  {
   "cell_type": "code",
   "execution_count": 183,
   "id": "central-jackson",
   "metadata": {},
   "outputs": [
    {
     "data": {
      "text/html": [
       "<div>\n",
       "<style scoped>\n",
       "    .dataframe tbody tr th:only-of-type {\n",
       "        vertical-align: middle;\n",
       "    }\n",
       "\n",
       "    .dataframe tbody tr th {\n",
       "        vertical-align: top;\n",
       "    }\n",
       "\n",
       "    .dataframe thead th {\n",
       "        text-align: right;\n",
       "    }\n",
       "</style>\n",
       "<table border=\"1\" class=\"dataframe\">\n",
       "  <thead>\n",
       "    <tr style=\"text-align: right;\">\n",
       "      <th></th>\n",
       "      <th>term</th>\n",
       "      <th>grade</th>\n",
       "      <th>sub_grade</th>\n",
       "      <th>emp_length</th>\n",
       "      <th>home_ownership</th>\n",
       "      <th>verification_status</th>\n",
       "      <th>purpose</th>\n",
       "      <th>initial_list_status</th>\n",
       "      <th>application_type</th>\n",
       "    </tr>\n",
       "  </thead>\n",
       "  <tbody>\n",
       "    <tr>\n",
       "      <th>0</th>\n",
       "      <td>36 months</td>\n",
       "      <td>B</td>\n",
       "      <td>B4</td>\n",
       "      <td>10+ years</td>\n",
       "      <td>RENT</td>\n",
       "      <td>Not Verified</td>\n",
       "      <td>vacation</td>\n",
       "      <td>w</td>\n",
       "      <td>INDIVIDUAL</td>\n",
       "    </tr>\n",
       "    <tr>\n",
       "      <th>1</th>\n",
       "      <td>36 months</td>\n",
       "      <td>B</td>\n",
       "      <td>B5</td>\n",
       "      <td>4 years</td>\n",
       "      <td>MORTGAGE</td>\n",
       "      <td>Not Verified</td>\n",
       "      <td>debt_consolidation</td>\n",
       "      <td>f</td>\n",
       "      <td>INDIVIDUAL</td>\n",
       "    </tr>\n",
       "    <tr>\n",
       "      <th>2</th>\n",
       "      <td>36 months</td>\n",
       "      <td>B</td>\n",
       "      <td>B3</td>\n",
       "      <td>&lt; 1 year</td>\n",
       "      <td>RENT</td>\n",
       "      <td>Source Verified</td>\n",
       "      <td>credit_card</td>\n",
       "      <td>f</td>\n",
       "      <td>INDIVIDUAL</td>\n",
       "    </tr>\n",
       "    <tr>\n",
       "      <th>3</th>\n",
       "      <td>36 months</td>\n",
       "      <td>A</td>\n",
       "      <td>A2</td>\n",
       "      <td>6 years</td>\n",
       "      <td>RENT</td>\n",
       "      <td>Not Verified</td>\n",
       "      <td>credit_card</td>\n",
       "      <td>f</td>\n",
       "      <td>INDIVIDUAL</td>\n",
       "    </tr>\n",
       "    <tr>\n",
       "      <th>4</th>\n",
       "      <td>60 months</td>\n",
       "      <td>C</td>\n",
       "      <td>C5</td>\n",
       "      <td>9 years</td>\n",
       "      <td>MORTGAGE</td>\n",
       "      <td>Verified</td>\n",
       "      <td>credit_card</td>\n",
       "      <td>f</td>\n",
       "      <td>INDIVIDUAL</td>\n",
       "    </tr>\n",
       "    <tr>\n",
       "      <th>...</th>\n",
       "      <td>...</td>\n",
       "      <td>...</td>\n",
       "      <td>...</td>\n",
       "      <td>...</td>\n",
       "      <td>...</td>\n",
       "      <td>...</td>\n",
       "      <td>...</td>\n",
       "      <td>...</td>\n",
       "      <td>...</td>\n",
       "    </tr>\n",
       "    <tr>\n",
       "      <th>395767</th>\n",
       "      <td>60 months</td>\n",
       "      <td>B</td>\n",
       "      <td>B4</td>\n",
       "      <td>2 years</td>\n",
       "      <td>RENT</td>\n",
       "      <td>Source Verified</td>\n",
       "      <td>debt_consolidation</td>\n",
       "      <td>w</td>\n",
       "      <td>INDIVIDUAL</td>\n",
       "    </tr>\n",
       "    <tr>\n",
       "      <th>395768</th>\n",
       "      <td>36 months</td>\n",
       "      <td>C</td>\n",
       "      <td>C1</td>\n",
       "      <td>5 years</td>\n",
       "      <td>MORTGAGE</td>\n",
       "      <td>Source Verified</td>\n",
       "      <td>debt_consolidation</td>\n",
       "      <td>f</td>\n",
       "      <td>INDIVIDUAL</td>\n",
       "    </tr>\n",
       "    <tr>\n",
       "      <th>395769</th>\n",
       "      <td>36 months</td>\n",
       "      <td>B</td>\n",
       "      <td>B1</td>\n",
       "      <td>10+ years</td>\n",
       "      <td>RENT</td>\n",
       "      <td>Verified</td>\n",
       "      <td>debt_consolidation</td>\n",
       "      <td>f</td>\n",
       "      <td>INDIVIDUAL</td>\n",
       "    </tr>\n",
       "    <tr>\n",
       "      <th>395770</th>\n",
       "      <td>60 months</td>\n",
       "      <td>C</td>\n",
       "      <td>C2</td>\n",
       "      <td>10+ years</td>\n",
       "      <td>MORTGAGE</td>\n",
       "      <td>Verified</td>\n",
       "      <td>debt_consolidation</td>\n",
       "      <td>f</td>\n",
       "      <td>INDIVIDUAL</td>\n",
       "    </tr>\n",
       "    <tr>\n",
       "      <th>395771</th>\n",
       "      <td>36 months</td>\n",
       "      <td>C</td>\n",
       "      <td>C2</td>\n",
       "      <td>10+ years</td>\n",
       "      <td>RENT</td>\n",
       "      <td>Verified</td>\n",
       "      <td>debt_consolidation</td>\n",
       "      <td>f</td>\n",
       "      <td>INDIVIDUAL</td>\n",
       "    </tr>\n",
       "  </tbody>\n",
       "</table>\n",
       "<p>395767 rows × 9 columns</p>\n",
       "</div>"
      ],
      "text/plain": [
       "              term grade sub_grade emp_length home_ownership  \\\n",
       "0        36 months     B        B4  10+ years           RENT   \n",
       "1        36 months     B        B5    4 years       MORTGAGE   \n",
       "2        36 months     B        B3   < 1 year           RENT   \n",
       "3        36 months     A        A2    6 years           RENT   \n",
       "4        60 months     C        C5    9 years       MORTGAGE   \n",
       "...            ...   ...       ...        ...            ...   \n",
       "395767   60 months     B        B4    2 years           RENT   \n",
       "395768   36 months     C        C1    5 years       MORTGAGE   \n",
       "395769   36 months     B        B1  10+ years           RENT   \n",
       "395770   60 months     C        C2  10+ years       MORTGAGE   \n",
       "395771   36 months     C        C2  10+ years           RENT   \n",
       "\n",
       "       verification_status             purpose initial_list_status  \\\n",
       "0             Not Verified            vacation                   w   \n",
       "1             Not Verified  debt_consolidation                   f   \n",
       "2          Source Verified         credit_card                   f   \n",
       "3             Not Verified         credit_card                   f   \n",
       "4                 Verified         credit_card                   f   \n",
       "...                    ...                 ...                 ...   \n",
       "395767     Source Verified  debt_consolidation                   w   \n",
       "395768     Source Verified  debt_consolidation                   f   \n",
       "395769            Verified  debt_consolidation                   f   \n",
       "395770            Verified  debt_consolidation                   f   \n",
       "395771            Verified  debt_consolidation                   f   \n",
       "\n",
       "       application_type  \n",
       "0            INDIVIDUAL  \n",
       "1            INDIVIDUAL  \n",
       "2            INDIVIDUAL  \n",
       "3            INDIVIDUAL  \n",
       "4            INDIVIDUAL  \n",
       "...                 ...  \n",
       "395767       INDIVIDUAL  \n",
       "395768       INDIVIDUAL  \n",
       "395769       INDIVIDUAL  \n",
       "395770       INDIVIDUAL  \n",
       "395771       INDIVIDUAL  \n",
       "\n",
       "[395767 rows x 9 columns]"
      ]
     },
     "execution_count": 183,
     "metadata": {},
     "output_type": "execute_result"
    }
   ],
   "source": [
    "df_clean[dummy_cols]"
   ]
  },
  {
   "cell_type": "code",
   "execution_count": 184,
   "id": "sound-chick",
   "metadata": {},
   "outputs": [
    {
     "data": {
      "text/html": [
       "<div>\n",
       "<style scoped>\n",
       "    .dataframe tbody tr th:only-of-type {\n",
       "        vertical-align: middle;\n",
       "    }\n",
       "\n",
       "    .dataframe tbody tr th {\n",
       "        vertical-align: top;\n",
       "    }\n",
       "\n",
       "    .dataframe thead th {\n",
       "        text-align: right;\n",
       "    }\n",
       "</style>\n",
       "<table border=\"1\" class=\"dataframe\">\n",
       "  <thead>\n",
       "    <tr style=\"text-align: right;\">\n",
       "      <th></th>\n",
       "      <th>term_ 60 months</th>\n",
       "      <th>grade_B</th>\n",
       "      <th>grade_C</th>\n",
       "      <th>grade_D</th>\n",
       "      <th>grade_E</th>\n",
       "      <th>grade_F</th>\n",
       "      <th>grade_G</th>\n",
       "      <th>sub_grade_A2</th>\n",
       "      <th>sub_grade_A3</th>\n",
       "      <th>sub_grade_A4</th>\n",
       "      <th>...</th>\n",
       "      <th>purpose_medical</th>\n",
       "      <th>purpose_moving</th>\n",
       "      <th>purpose_other</th>\n",
       "      <th>purpose_renewable_energy</th>\n",
       "      <th>purpose_small_business</th>\n",
       "      <th>purpose_vacation</th>\n",
       "      <th>purpose_wedding</th>\n",
       "      <th>initial_list_status_w</th>\n",
       "      <th>application_type_INDIVIDUAL</th>\n",
       "      <th>application_type_JOINT</th>\n",
       "    </tr>\n",
       "  </thead>\n",
       "  <tbody>\n",
       "    <tr>\n",
       "      <th>0</th>\n",
       "      <td>0</td>\n",
       "      <td>1</td>\n",
       "      <td>0</td>\n",
       "      <td>0</td>\n",
       "      <td>0</td>\n",
       "      <td>0</td>\n",
       "      <td>0</td>\n",
       "      <td>0</td>\n",
       "      <td>0</td>\n",
       "      <td>0</td>\n",
       "      <td>...</td>\n",
       "      <td>0</td>\n",
       "      <td>0</td>\n",
       "      <td>0</td>\n",
       "      <td>0</td>\n",
       "      <td>0</td>\n",
       "      <td>1</td>\n",
       "      <td>0</td>\n",
       "      <td>1</td>\n",
       "      <td>1</td>\n",
       "      <td>0</td>\n",
       "    </tr>\n",
       "    <tr>\n",
       "      <th>1</th>\n",
       "      <td>0</td>\n",
       "      <td>1</td>\n",
       "      <td>0</td>\n",
       "      <td>0</td>\n",
       "      <td>0</td>\n",
       "      <td>0</td>\n",
       "      <td>0</td>\n",
       "      <td>0</td>\n",
       "      <td>0</td>\n",
       "      <td>0</td>\n",
       "      <td>...</td>\n",
       "      <td>0</td>\n",
       "      <td>0</td>\n",
       "      <td>0</td>\n",
       "      <td>0</td>\n",
       "      <td>0</td>\n",
       "      <td>0</td>\n",
       "      <td>0</td>\n",
       "      <td>0</td>\n",
       "      <td>1</td>\n",
       "      <td>0</td>\n",
       "    </tr>\n",
       "    <tr>\n",
       "      <th>2</th>\n",
       "      <td>0</td>\n",
       "      <td>1</td>\n",
       "      <td>0</td>\n",
       "      <td>0</td>\n",
       "      <td>0</td>\n",
       "      <td>0</td>\n",
       "      <td>0</td>\n",
       "      <td>0</td>\n",
       "      <td>0</td>\n",
       "      <td>0</td>\n",
       "      <td>...</td>\n",
       "      <td>0</td>\n",
       "      <td>0</td>\n",
       "      <td>0</td>\n",
       "      <td>0</td>\n",
       "      <td>0</td>\n",
       "      <td>0</td>\n",
       "      <td>0</td>\n",
       "      <td>0</td>\n",
       "      <td>1</td>\n",
       "      <td>0</td>\n",
       "    </tr>\n",
       "    <tr>\n",
       "      <th>3</th>\n",
       "      <td>0</td>\n",
       "      <td>0</td>\n",
       "      <td>0</td>\n",
       "      <td>0</td>\n",
       "      <td>0</td>\n",
       "      <td>0</td>\n",
       "      <td>0</td>\n",
       "      <td>1</td>\n",
       "      <td>0</td>\n",
       "      <td>0</td>\n",
       "      <td>...</td>\n",
       "      <td>0</td>\n",
       "      <td>0</td>\n",
       "      <td>0</td>\n",
       "      <td>0</td>\n",
       "      <td>0</td>\n",
       "      <td>0</td>\n",
       "      <td>0</td>\n",
       "      <td>0</td>\n",
       "      <td>1</td>\n",
       "      <td>0</td>\n",
       "    </tr>\n",
       "    <tr>\n",
       "      <th>4</th>\n",
       "      <td>1</td>\n",
       "      <td>0</td>\n",
       "      <td>1</td>\n",
       "      <td>0</td>\n",
       "      <td>0</td>\n",
       "      <td>0</td>\n",
       "      <td>0</td>\n",
       "      <td>0</td>\n",
       "      <td>0</td>\n",
       "      <td>0</td>\n",
       "      <td>...</td>\n",
       "      <td>0</td>\n",
       "      <td>0</td>\n",
       "      <td>0</td>\n",
       "      <td>0</td>\n",
       "      <td>0</td>\n",
       "      <td>0</td>\n",
       "      <td>0</td>\n",
       "      <td>0</td>\n",
       "      <td>1</td>\n",
       "      <td>0</td>\n",
       "    </tr>\n",
       "    <tr>\n",
       "      <th>...</th>\n",
       "      <td>...</td>\n",
       "      <td>...</td>\n",
       "      <td>...</td>\n",
       "      <td>...</td>\n",
       "      <td>...</td>\n",
       "      <td>...</td>\n",
       "      <td>...</td>\n",
       "      <td>...</td>\n",
       "      <td>...</td>\n",
       "      <td>...</td>\n",
       "      <td>...</td>\n",
       "      <td>...</td>\n",
       "      <td>...</td>\n",
       "      <td>...</td>\n",
       "      <td>...</td>\n",
       "      <td>...</td>\n",
       "      <td>...</td>\n",
       "      <td>...</td>\n",
       "      <td>...</td>\n",
       "      <td>...</td>\n",
       "      <td>...</td>\n",
       "    </tr>\n",
       "    <tr>\n",
       "      <th>395767</th>\n",
       "      <td>1</td>\n",
       "      <td>1</td>\n",
       "      <td>0</td>\n",
       "      <td>0</td>\n",
       "      <td>0</td>\n",
       "      <td>0</td>\n",
       "      <td>0</td>\n",
       "      <td>0</td>\n",
       "      <td>0</td>\n",
       "      <td>0</td>\n",
       "      <td>...</td>\n",
       "      <td>0</td>\n",
       "      <td>0</td>\n",
       "      <td>0</td>\n",
       "      <td>0</td>\n",
       "      <td>0</td>\n",
       "      <td>0</td>\n",
       "      <td>0</td>\n",
       "      <td>1</td>\n",
       "      <td>1</td>\n",
       "      <td>0</td>\n",
       "    </tr>\n",
       "    <tr>\n",
       "      <th>395768</th>\n",
       "      <td>0</td>\n",
       "      <td>0</td>\n",
       "      <td>1</td>\n",
       "      <td>0</td>\n",
       "      <td>0</td>\n",
       "      <td>0</td>\n",
       "      <td>0</td>\n",
       "      <td>0</td>\n",
       "      <td>0</td>\n",
       "      <td>0</td>\n",
       "      <td>...</td>\n",
       "      <td>0</td>\n",
       "      <td>0</td>\n",
       "      <td>0</td>\n",
       "      <td>0</td>\n",
       "      <td>0</td>\n",
       "      <td>0</td>\n",
       "      <td>0</td>\n",
       "      <td>0</td>\n",
       "      <td>1</td>\n",
       "      <td>0</td>\n",
       "    </tr>\n",
       "    <tr>\n",
       "      <th>395769</th>\n",
       "      <td>0</td>\n",
       "      <td>1</td>\n",
       "      <td>0</td>\n",
       "      <td>0</td>\n",
       "      <td>0</td>\n",
       "      <td>0</td>\n",
       "      <td>0</td>\n",
       "      <td>0</td>\n",
       "      <td>0</td>\n",
       "      <td>0</td>\n",
       "      <td>...</td>\n",
       "      <td>0</td>\n",
       "      <td>0</td>\n",
       "      <td>0</td>\n",
       "      <td>0</td>\n",
       "      <td>0</td>\n",
       "      <td>0</td>\n",
       "      <td>0</td>\n",
       "      <td>0</td>\n",
       "      <td>1</td>\n",
       "      <td>0</td>\n",
       "    </tr>\n",
       "    <tr>\n",
       "      <th>395770</th>\n",
       "      <td>1</td>\n",
       "      <td>0</td>\n",
       "      <td>1</td>\n",
       "      <td>0</td>\n",
       "      <td>0</td>\n",
       "      <td>0</td>\n",
       "      <td>0</td>\n",
       "      <td>0</td>\n",
       "      <td>0</td>\n",
       "      <td>0</td>\n",
       "      <td>...</td>\n",
       "      <td>0</td>\n",
       "      <td>0</td>\n",
       "      <td>0</td>\n",
       "      <td>0</td>\n",
       "      <td>0</td>\n",
       "      <td>0</td>\n",
       "      <td>0</td>\n",
       "      <td>0</td>\n",
       "      <td>1</td>\n",
       "      <td>0</td>\n",
       "    </tr>\n",
       "    <tr>\n",
       "      <th>395771</th>\n",
       "      <td>0</td>\n",
       "      <td>0</td>\n",
       "      <td>1</td>\n",
       "      <td>0</td>\n",
       "      <td>0</td>\n",
       "      <td>0</td>\n",
       "      <td>0</td>\n",
       "      <td>0</td>\n",
       "      <td>0</td>\n",
       "      <td>0</td>\n",
       "      <td>...</td>\n",
       "      <td>0</td>\n",
       "      <td>0</td>\n",
       "      <td>0</td>\n",
       "      <td>0</td>\n",
       "      <td>0</td>\n",
       "      <td>0</td>\n",
       "      <td>0</td>\n",
       "      <td>0</td>\n",
       "      <td>1</td>\n",
       "      <td>0</td>\n",
       "    </tr>\n",
       "  </tbody>\n",
       "</table>\n",
       "<p>395767 rows × 73 columns</p>\n",
       "</div>"
      ],
      "text/plain": [
       "        term_ 60 months  grade_B  grade_C  grade_D  grade_E  grade_F  grade_G  \\\n",
       "0                     0        1        0        0        0        0        0   \n",
       "1                     0        1        0        0        0        0        0   \n",
       "2                     0        1        0        0        0        0        0   \n",
       "3                     0        0        0        0        0        0        0   \n",
       "4                     1        0        1        0        0        0        0   \n",
       "...                 ...      ...      ...      ...      ...      ...      ...   \n",
       "395767                1        1        0        0        0        0        0   \n",
       "395768                0        0        1        0        0        0        0   \n",
       "395769                0        1        0        0        0        0        0   \n",
       "395770                1        0        1        0        0        0        0   \n",
       "395771                0        0        1        0        0        0        0   \n",
       "\n",
       "        sub_grade_A2  sub_grade_A3  sub_grade_A4  ...  purpose_medical  \\\n",
       "0                  0             0             0  ...                0   \n",
       "1                  0             0             0  ...                0   \n",
       "2                  0             0             0  ...                0   \n",
       "3                  1             0             0  ...                0   \n",
       "4                  0             0             0  ...                0   \n",
       "...              ...           ...           ...  ...              ...   \n",
       "395767             0             0             0  ...                0   \n",
       "395768             0             0             0  ...                0   \n",
       "395769             0             0             0  ...                0   \n",
       "395770             0             0             0  ...                0   \n",
       "395771             0             0             0  ...                0   \n",
       "\n",
       "        purpose_moving  purpose_other  purpose_renewable_energy  \\\n",
       "0                    0              0                         0   \n",
       "1                    0              0                         0   \n",
       "2                    0              0                         0   \n",
       "3                    0              0                         0   \n",
       "4                    0              0                         0   \n",
       "...                ...            ...                       ...   \n",
       "395767               0              0                         0   \n",
       "395768               0              0                         0   \n",
       "395769               0              0                         0   \n",
       "395770               0              0                         0   \n",
       "395771               0              0                         0   \n",
       "\n",
       "        purpose_small_business  purpose_vacation  purpose_wedding  \\\n",
       "0                            0                 1                0   \n",
       "1                            0                 0                0   \n",
       "2                            0                 0                0   \n",
       "3                            0                 0                0   \n",
       "4                            0                 0                0   \n",
       "...                        ...               ...              ...   \n",
       "395767                       0                 0                0   \n",
       "395768                       0                 0                0   \n",
       "395769                       0                 0                0   \n",
       "395770                       0                 0                0   \n",
       "395771                       0                 0                0   \n",
       "\n",
       "        initial_list_status_w  application_type_INDIVIDUAL  \\\n",
       "0                           1                            1   \n",
       "1                           0                            1   \n",
       "2                           0                            1   \n",
       "3                           0                            1   \n",
       "4                           0                            1   \n",
       "...                       ...                          ...   \n",
       "395767                      1                            1   \n",
       "395768                      0                            1   \n",
       "395769                      0                            1   \n",
       "395770                      0                            1   \n",
       "395771                      0                            1   \n",
       "\n",
       "        application_type_JOINT  \n",
       "0                            0  \n",
       "1                            0  \n",
       "2                            0  \n",
       "3                            0  \n",
       "4                            0  \n",
       "...                        ...  \n",
       "395767                       0  \n",
       "395768                       0  \n",
       "395769                       0  \n",
       "395770                       0  \n",
       "395771                       0  \n",
       "\n",
       "[395767 rows x 73 columns]"
      ]
     },
     "execution_count": 184,
     "metadata": {},
     "output_type": "execute_result"
    }
   ],
   "source": [
    "df_dummies = pd.get_dummies(df_clean[dummy_cols], drop_first=True)\n",
    "df_dummies"
   ]
  },
  {
   "cell_type": "code",
   "execution_count": 185,
   "id": "eligible-petroleum",
   "metadata": {},
   "outputs": [],
   "source": [
    "# check correlation\n",
    "# df_clean[dummy_cols]"
   ]
  },
  {
   "cell_type": "code",
   "execution_count": 186,
   "id": "traditional-threat",
   "metadata": {},
   "outputs": [
    {
     "data": {
      "text/plain": [
       "Index(['loan_amnt', 'int_rate', 'installment', 'annual_inc', 'dti', 'open_acc',\n",
       "       'pub_rec', 'revol_bal', 'revol_util', 'total_acc',\n",
       "       'pub_rec_bankruptcies', 'oldest_acct_days', 'issue_date_days'],\n",
       "      dtype='object')"
      ]
     },
     "execution_count": 186,
     "metadata": {},
     "output_type": "execute_result"
    }
   ],
   "source": [
    "df_clean.select_dtypes(exclude=['object']).columns"
   ]
  },
  {
   "cell_type": "code",
   "execution_count": 187,
   "id": "tamil-programming",
   "metadata": {},
   "outputs": [],
   "source": [
    "numerical_cols = ['loan_amnt', 'int_rate', 'installment', 'annual_inc', 'dti', 'open_acc',\n",
    "       'pub_rec', 'revol_bal', 'revol_util', 'total_acc',\n",
    "       'pub_rec_bankruptcies', 'oldest_acct_days', 'issue_date_days']"
   ]
  },
  {
   "cell_type": "code",
   "execution_count": 188,
   "id": "russian-pharmacy",
   "metadata": {},
   "outputs": [
    {
     "data": {
      "text/html": [
       "<div>\n",
       "<style scoped>\n",
       "    .dataframe tbody tr th:only-of-type {\n",
       "        vertical-align: middle;\n",
       "    }\n",
       "\n",
       "    .dataframe tbody tr th {\n",
       "        vertical-align: top;\n",
       "    }\n",
       "\n",
       "    .dataframe thead th {\n",
       "        text-align: right;\n",
       "    }\n",
       "</style>\n",
       "<table border=\"1\" class=\"dataframe\">\n",
       "  <thead>\n",
       "    <tr style=\"text-align: right;\">\n",
       "      <th></th>\n",
       "      <th>loan_amnt</th>\n",
       "      <th>int_rate</th>\n",
       "      <th>installment</th>\n",
       "      <th>annual_inc</th>\n",
       "      <th>dti</th>\n",
       "      <th>open_acc</th>\n",
       "      <th>pub_rec</th>\n",
       "      <th>revol_bal</th>\n",
       "      <th>revol_util</th>\n",
       "      <th>total_acc</th>\n",
       "      <th>pub_rec_bankruptcies</th>\n",
       "      <th>oldest_acct_days</th>\n",
       "      <th>issue_date_days</th>\n",
       "    </tr>\n",
       "  </thead>\n",
       "  <tbody>\n",
       "    <tr>\n",
       "      <th>0</th>\n",
       "      <td>10000.0</td>\n",
       "      <td>11.44</td>\n",
       "      <td>329.48</td>\n",
       "      <td>117000.0</td>\n",
       "      <td>26.24</td>\n",
       "      <td>16.0</td>\n",
       "      <td>0.0</td>\n",
       "      <td>36369.0</td>\n",
       "      <td>41.8</td>\n",
       "      <td>25.0</td>\n",
       "      <td>0.0</td>\n",
       "      <td>9711</td>\n",
       "      <td>731</td>\n",
       "    </tr>\n",
       "    <tr>\n",
       "      <th>1</th>\n",
       "      <td>8000.0</td>\n",
       "      <td>11.99</td>\n",
       "      <td>265.68</td>\n",
       "      <td>65000.0</td>\n",
       "      <td>22.05</td>\n",
       "      <td>17.0</td>\n",
       "      <td>0.0</td>\n",
       "      <td>20131.0</td>\n",
       "      <td>53.3</td>\n",
       "      <td>27.0</td>\n",
       "      <td>0.0</td>\n",
       "      <td>4567</td>\n",
       "      <td>731</td>\n",
       "    </tr>\n",
       "    <tr>\n",
       "      <th>2</th>\n",
       "      <td>15600.0</td>\n",
       "      <td>10.49</td>\n",
       "      <td>506.97</td>\n",
       "      <td>43057.0</td>\n",
       "      <td>12.79</td>\n",
       "      <td>13.0</td>\n",
       "      <td>0.0</td>\n",
       "      <td>11987.0</td>\n",
       "      <td>92.2</td>\n",
       "      <td>26.0</td>\n",
       "      <td>0.0</td>\n",
       "      <td>3441</td>\n",
       "      <td>731</td>\n",
       "    </tr>\n",
       "    <tr>\n",
       "      <th>3</th>\n",
       "      <td>7200.0</td>\n",
       "      <td>6.49</td>\n",
       "      <td>220.65</td>\n",
       "      <td>54000.0</td>\n",
       "      <td>2.60</td>\n",
       "      <td>6.0</td>\n",
       "      <td>0.0</td>\n",
       "      <td>5472.0</td>\n",
       "      <td>21.5</td>\n",
       "      <td>13.0</td>\n",
       "      <td>0.0</td>\n",
       "      <td>3775</td>\n",
       "      <td>792</td>\n",
       "    </tr>\n",
       "    <tr>\n",
       "      <th>4</th>\n",
       "      <td>24375.0</td>\n",
       "      <td>17.27</td>\n",
       "      <td>609.33</td>\n",
       "      <td>55000.0</td>\n",
       "      <td>33.95</td>\n",
       "      <td>13.0</td>\n",
       "      <td>0.0</td>\n",
       "      <td>24584.0</td>\n",
       "      <td>69.8</td>\n",
       "      <td>43.0</td>\n",
       "      <td>0.0</td>\n",
       "      <td>6516</td>\n",
       "      <td>1371</td>\n",
       "    </tr>\n",
       "    <tr>\n",
       "      <th>...</th>\n",
       "      <td>...</td>\n",
       "      <td>...</td>\n",
       "      <td>...</td>\n",
       "      <td>...</td>\n",
       "      <td>...</td>\n",
       "      <td>...</td>\n",
       "      <td>...</td>\n",
       "      <td>...</td>\n",
       "      <td>...</td>\n",
       "      <td>...</td>\n",
       "      <td>...</td>\n",
       "      <td>...</td>\n",
       "      <td>...</td>\n",
       "    </tr>\n",
       "    <tr>\n",
       "      <th>395767</th>\n",
       "      <td>10000.0</td>\n",
       "      <td>10.99</td>\n",
       "      <td>217.38</td>\n",
       "      <td>40000.0</td>\n",
       "      <td>15.63</td>\n",
       "      <td>6.0</td>\n",
       "      <td>0.0</td>\n",
       "      <td>1990.0</td>\n",
       "      <td>34.3</td>\n",
       "      <td>23.0</td>\n",
       "      <td>0.0</td>\n",
       "      <td>4444</td>\n",
       "      <td>458</td>\n",
       "    </tr>\n",
       "    <tr>\n",
       "      <th>395768</th>\n",
       "      <td>21000.0</td>\n",
       "      <td>12.29</td>\n",
       "      <td>700.42</td>\n",
       "      <td>110000.0</td>\n",
       "      <td>21.45</td>\n",
       "      <td>6.0</td>\n",
       "      <td>0.0</td>\n",
       "      <td>43263.0</td>\n",
       "      <td>95.7</td>\n",
       "      <td>8.0</td>\n",
       "      <td>0.0</td>\n",
       "      <td>3987</td>\n",
       "      <td>700</td>\n",
       "    </tr>\n",
       "    <tr>\n",
       "      <th>395769</th>\n",
       "      <td>5000.0</td>\n",
       "      <td>9.99</td>\n",
       "      <td>161.32</td>\n",
       "      <td>56500.0</td>\n",
       "      <td>17.56</td>\n",
       "      <td>15.0</td>\n",
       "      <td>0.0</td>\n",
       "      <td>32704.0</td>\n",
       "      <td>66.9</td>\n",
       "      <td>23.0</td>\n",
       "      <td>0.0</td>\n",
       "      <td>7246</td>\n",
       "      <td>1188</td>\n",
       "    </tr>\n",
       "    <tr>\n",
       "      <th>395770</th>\n",
       "      <td>21000.0</td>\n",
       "      <td>15.31</td>\n",
       "      <td>503.02</td>\n",
       "      <td>64000.0</td>\n",
       "      <td>15.88</td>\n",
       "      <td>9.0</td>\n",
       "      <td>0.0</td>\n",
       "      <td>15704.0</td>\n",
       "      <td>53.8</td>\n",
       "      <td>20.0</td>\n",
       "      <td>0.0</td>\n",
       "      <td>9558</td>\n",
       "      <td>1614</td>\n",
       "    </tr>\n",
       "    <tr>\n",
       "      <th>395771</th>\n",
       "      <td>2000.0</td>\n",
       "      <td>13.61</td>\n",
       "      <td>67.98</td>\n",
       "      <td>42996.0</td>\n",
       "      <td>8.32</td>\n",
       "      <td>3.0</td>\n",
       "      <td>0.0</td>\n",
       "      <td>4292.0</td>\n",
       "      <td>91.3</td>\n",
       "      <td>19.0</td>\n",
       "      <td>0.0</td>\n",
       "      <td>6697</td>\n",
       "      <td>2406</td>\n",
       "    </tr>\n",
       "  </tbody>\n",
       "</table>\n",
       "<p>395767 rows × 13 columns</p>\n",
       "</div>"
      ],
      "text/plain": [
       "        loan_amnt  int_rate  installment  annual_inc    dti  open_acc  \\\n",
       "0         10000.0     11.44       329.48    117000.0  26.24      16.0   \n",
       "1          8000.0     11.99       265.68     65000.0  22.05      17.0   \n",
       "2         15600.0     10.49       506.97     43057.0  12.79      13.0   \n",
       "3          7200.0      6.49       220.65     54000.0   2.60       6.0   \n",
       "4         24375.0     17.27       609.33     55000.0  33.95      13.0   \n",
       "...           ...       ...          ...         ...    ...       ...   \n",
       "395767    10000.0     10.99       217.38     40000.0  15.63       6.0   \n",
       "395768    21000.0     12.29       700.42    110000.0  21.45       6.0   \n",
       "395769     5000.0      9.99       161.32     56500.0  17.56      15.0   \n",
       "395770    21000.0     15.31       503.02     64000.0  15.88       9.0   \n",
       "395771     2000.0     13.61        67.98     42996.0   8.32       3.0   \n",
       "\n",
       "        pub_rec  revol_bal  revol_util  total_acc  pub_rec_bankruptcies  \\\n",
       "0           0.0    36369.0        41.8       25.0                   0.0   \n",
       "1           0.0    20131.0        53.3       27.0                   0.0   \n",
       "2           0.0    11987.0        92.2       26.0                   0.0   \n",
       "3           0.0     5472.0        21.5       13.0                   0.0   \n",
       "4           0.0    24584.0        69.8       43.0                   0.0   \n",
       "...         ...        ...         ...        ...                   ...   \n",
       "395767      0.0     1990.0        34.3       23.0                   0.0   \n",
       "395768      0.0    43263.0        95.7        8.0                   0.0   \n",
       "395769      0.0    32704.0        66.9       23.0                   0.0   \n",
       "395770      0.0    15704.0        53.8       20.0                   0.0   \n",
       "395771      0.0     4292.0        91.3       19.0                   0.0   \n",
       "\n",
       "        oldest_acct_days  issue_date_days  \n",
       "0                   9711              731  \n",
       "1                   4567              731  \n",
       "2                   3441              731  \n",
       "3                   3775              792  \n",
       "4                   6516             1371  \n",
       "...                  ...              ...  \n",
       "395767              4444              458  \n",
       "395768              3987              700  \n",
       "395769              7246             1188  \n",
       "395770              9558             1614  \n",
       "395771              6697             2406  \n",
       "\n",
       "[395767 rows x 13 columns]"
      ]
     },
     "execution_count": 188,
     "metadata": {},
     "output_type": "execute_result"
    }
   ],
   "source": [
    "df_numerical = df_clean[numerical_cols]\n",
    "df_numerical"
   ]
  },
  {
   "cell_type": "code",
   "execution_count": 189,
   "id": "illegal-christopher",
   "metadata": {},
   "outputs": [
    {
     "data": {
      "text/html": [
       "<div>\n",
       "<style scoped>\n",
       "    .dataframe tbody tr th:only-of-type {\n",
       "        vertical-align: middle;\n",
       "    }\n",
       "\n",
       "    .dataframe tbody tr th {\n",
       "        vertical-align: top;\n",
       "    }\n",
       "\n",
       "    .dataframe thead th {\n",
       "        text-align: right;\n",
       "    }\n",
       "</style>\n",
       "<table border=\"1\" class=\"dataframe\">\n",
       "  <thead>\n",
       "    <tr style=\"text-align: right;\">\n",
       "      <th></th>\n",
       "      <th>loan_status</th>\n",
       "      <th>loan_amnt</th>\n",
       "      <th>int_rate</th>\n",
       "      <th>installment</th>\n",
       "      <th>annual_inc</th>\n",
       "      <th>dti</th>\n",
       "      <th>open_acc</th>\n",
       "      <th>pub_rec</th>\n",
       "      <th>revol_bal</th>\n",
       "      <th>revol_util</th>\n",
       "      <th>...</th>\n",
       "      <th>purpose_medical</th>\n",
       "      <th>purpose_moving</th>\n",
       "      <th>purpose_other</th>\n",
       "      <th>purpose_renewable_energy</th>\n",
       "      <th>purpose_small_business</th>\n",
       "      <th>purpose_vacation</th>\n",
       "      <th>purpose_wedding</th>\n",
       "      <th>initial_list_status_w</th>\n",
       "      <th>application_type_INDIVIDUAL</th>\n",
       "      <th>application_type_JOINT</th>\n",
       "    </tr>\n",
       "  </thead>\n",
       "  <tbody>\n",
       "    <tr>\n",
       "      <th>0</th>\n",
       "      <td>Fully Paid</td>\n",
       "      <td>10000.0</td>\n",
       "      <td>11.44</td>\n",
       "      <td>329.48</td>\n",
       "      <td>117000.0</td>\n",
       "      <td>26.24</td>\n",
       "      <td>16.0</td>\n",
       "      <td>0.0</td>\n",
       "      <td>36369.0</td>\n",
       "      <td>41.8</td>\n",
       "      <td>...</td>\n",
       "      <td>0</td>\n",
       "      <td>0</td>\n",
       "      <td>0</td>\n",
       "      <td>0</td>\n",
       "      <td>0</td>\n",
       "      <td>1</td>\n",
       "      <td>0</td>\n",
       "      <td>1</td>\n",
       "      <td>1</td>\n",
       "      <td>0</td>\n",
       "    </tr>\n",
       "    <tr>\n",
       "      <th>1</th>\n",
       "      <td>Fully Paid</td>\n",
       "      <td>8000.0</td>\n",
       "      <td>11.99</td>\n",
       "      <td>265.68</td>\n",
       "      <td>65000.0</td>\n",
       "      <td>22.05</td>\n",
       "      <td>17.0</td>\n",
       "      <td>0.0</td>\n",
       "      <td>20131.0</td>\n",
       "      <td>53.3</td>\n",
       "      <td>...</td>\n",
       "      <td>0</td>\n",
       "      <td>0</td>\n",
       "      <td>0</td>\n",
       "      <td>0</td>\n",
       "      <td>0</td>\n",
       "      <td>0</td>\n",
       "      <td>0</td>\n",
       "      <td>0</td>\n",
       "      <td>1</td>\n",
       "      <td>0</td>\n",
       "    </tr>\n",
       "    <tr>\n",
       "      <th>2</th>\n",
       "      <td>Fully Paid</td>\n",
       "      <td>15600.0</td>\n",
       "      <td>10.49</td>\n",
       "      <td>506.97</td>\n",
       "      <td>43057.0</td>\n",
       "      <td>12.79</td>\n",
       "      <td>13.0</td>\n",
       "      <td>0.0</td>\n",
       "      <td>11987.0</td>\n",
       "      <td>92.2</td>\n",
       "      <td>...</td>\n",
       "      <td>0</td>\n",
       "      <td>0</td>\n",
       "      <td>0</td>\n",
       "      <td>0</td>\n",
       "      <td>0</td>\n",
       "      <td>0</td>\n",
       "      <td>0</td>\n",
       "      <td>0</td>\n",
       "      <td>1</td>\n",
       "      <td>0</td>\n",
       "    </tr>\n",
       "    <tr>\n",
       "      <th>3</th>\n",
       "      <td>Fully Paid</td>\n",
       "      <td>7200.0</td>\n",
       "      <td>6.49</td>\n",
       "      <td>220.65</td>\n",
       "      <td>54000.0</td>\n",
       "      <td>2.60</td>\n",
       "      <td>6.0</td>\n",
       "      <td>0.0</td>\n",
       "      <td>5472.0</td>\n",
       "      <td>21.5</td>\n",
       "      <td>...</td>\n",
       "      <td>0</td>\n",
       "      <td>0</td>\n",
       "      <td>0</td>\n",
       "      <td>0</td>\n",
       "      <td>0</td>\n",
       "      <td>0</td>\n",
       "      <td>0</td>\n",
       "      <td>0</td>\n",
       "      <td>1</td>\n",
       "      <td>0</td>\n",
       "    </tr>\n",
       "    <tr>\n",
       "      <th>4</th>\n",
       "      <td>Charged Off</td>\n",
       "      <td>24375.0</td>\n",
       "      <td>17.27</td>\n",
       "      <td>609.33</td>\n",
       "      <td>55000.0</td>\n",
       "      <td>33.95</td>\n",
       "      <td>13.0</td>\n",
       "      <td>0.0</td>\n",
       "      <td>24584.0</td>\n",
       "      <td>69.8</td>\n",
       "      <td>...</td>\n",
       "      <td>0</td>\n",
       "      <td>0</td>\n",
       "      <td>0</td>\n",
       "      <td>0</td>\n",
       "      <td>0</td>\n",
       "      <td>0</td>\n",
       "      <td>0</td>\n",
       "      <td>0</td>\n",
       "      <td>1</td>\n",
       "      <td>0</td>\n",
       "    </tr>\n",
       "    <tr>\n",
       "      <th>...</th>\n",
       "      <td>...</td>\n",
       "      <td>...</td>\n",
       "      <td>...</td>\n",
       "      <td>...</td>\n",
       "      <td>...</td>\n",
       "      <td>...</td>\n",
       "      <td>...</td>\n",
       "      <td>...</td>\n",
       "      <td>...</td>\n",
       "      <td>...</td>\n",
       "      <td>...</td>\n",
       "      <td>...</td>\n",
       "      <td>...</td>\n",
       "      <td>...</td>\n",
       "      <td>...</td>\n",
       "      <td>...</td>\n",
       "      <td>...</td>\n",
       "      <td>...</td>\n",
       "      <td>...</td>\n",
       "      <td>...</td>\n",
       "      <td>...</td>\n",
       "    </tr>\n",
       "    <tr>\n",
       "      <th>395767</th>\n",
       "      <td>Fully Paid</td>\n",
       "      <td>10000.0</td>\n",
       "      <td>10.99</td>\n",
       "      <td>217.38</td>\n",
       "      <td>40000.0</td>\n",
       "      <td>15.63</td>\n",
       "      <td>6.0</td>\n",
       "      <td>0.0</td>\n",
       "      <td>1990.0</td>\n",
       "      <td>34.3</td>\n",
       "      <td>...</td>\n",
       "      <td>0</td>\n",
       "      <td>0</td>\n",
       "      <td>0</td>\n",
       "      <td>0</td>\n",
       "      <td>0</td>\n",
       "      <td>0</td>\n",
       "      <td>0</td>\n",
       "      <td>1</td>\n",
       "      <td>1</td>\n",
       "      <td>0</td>\n",
       "    </tr>\n",
       "    <tr>\n",
       "      <th>395768</th>\n",
       "      <td>Fully Paid</td>\n",
       "      <td>21000.0</td>\n",
       "      <td>12.29</td>\n",
       "      <td>700.42</td>\n",
       "      <td>110000.0</td>\n",
       "      <td>21.45</td>\n",
       "      <td>6.0</td>\n",
       "      <td>0.0</td>\n",
       "      <td>43263.0</td>\n",
       "      <td>95.7</td>\n",
       "      <td>...</td>\n",
       "      <td>0</td>\n",
       "      <td>0</td>\n",
       "      <td>0</td>\n",
       "      <td>0</td>\n",
       "      <td>0</td>\n",
       "      <td>0</td>\n",
       "      <td>0</td>\n",
       "      <td>0</td>\n",
       "      <td>1</td>\n",
       "      <td>0</td>\n",
       "    </tr>\n",
       "    <tr>\n",
       "      <th>395769</th>\n",
       "      <td>Fully Paid</td>\n",
       "      <td>5000.0</td>\n",
       "      <td>9.99</td>\n",
       "      <td>161.32</td>\n",
       "      <td>56500.0</td>\n",
       "      <td>17.56</td>\n",
       "      <td>15.0</td>\n",
       "      <td>0.0</td>\n",
       "      <td>32704.0</td>\n",
       "      <td>66.9</td>\n",
       "      <td>...</td>\n",
       "      <td>0</td>\n",
       "      <td>0</td>\n",
       "      <td>0</td>\n",
       "      <td>0</td>\n",
       "      <td>0</td>\n",
       "      <td>0</td>\n",
       "      <td>0</td>\n",
       "      <td>0</td>\n",
       "      <td>1</td>\n",
       "      <td>0</td>\n",
       "    </tr>\n",
       "    <tr>\n",
       "      <th>395770</th>\n",
       "      <td>Fully Paid</td>\n",
       "      <td>21000.0</td>\n",
       "      <td>15.31</td>\n",
       "      <td>503.02</td>\n",
       "      <td>64000.0</td>\n",
       "      <td>15.88</td>\n",
       "      <td>9.0</td>\n",
       "      <td>0.0</td>\n",
       "      <td>15704.0</td>\n",
       "      <td>53.8</td>\n",
       "      <td>...</td>\n",
       "      <td>0</td>\n",
       "      <td>0</td>\n",
       "      <td>0</td>\n",
       "      <td>0</td>\n",
       "      <td>0</td>\n",
       "      <td>0</td>\n",
       "      <td>0</td>\n",
       "      <td>0</td>\n",
       "      <td>1</td>\n",
       "      <td>0</td>\n",
       "    </tr>\n",
       "    <tr>\n",
       "      <th>395771</th>\n",
       "      <td>Fully Paid</td>\n",
       "      <td>2000.0</td>\n",
       "      <td>13.61</td>\n",
       "      <td>67.98</td>\n",
       "      <td>42996.0</td>\n",
       "      <td>8.32</td>\n",
       "      <td>3.0</td>\n",
       "      <td>0.0</td>\n",
       "      <td>4292.0</td>\n",
       "      <td>91.3</td>\n",
       "      <td>...</td>\n",
       "      <td>0</td>\n",
       "      <td>0</td>\n",
       "      <td>0</td>\n",
       "      <td>0</td>\n",
       "      <td>0</td>\n",
       "      <td>0</td>\n",
       "      <td>0</td>\n",
       "      <td>0</td>\n",
       "      <td>1</td>\n",
       "      <td>0</td>\n",
       "    </tr>\n",
       "  </tbody>\n",
       "</table>\n",
       "<p>395767 rows × 87 columns</p>\n",
       "</div>"
      ],
      "text/plain": [
       "        loan_status  loan_amnt  int_rate  installment  annual_inc    dti  \\\n",
       "0        Fully Paid    10000.0     11.44       329.48    117000.0  26.24   \n",
       "1        Fully Paid     8000.0     11.99       265.68     65000.0  22.05   \n",
       "2        Fully Paid    15600.0     10.49       506.97     43057.0  12.79   \n",
       "3        Fully Paid     7200.0      6.49       220.65     54000.0   2.60   \n",
       "4       Charged Off    24375.0     17.27       609.33     55000.0  33.95   \n",
       "...             ...        ...       ...          ...         ...    ...   \n",
       "395767   Fully Paid    10000.0     10.99       217.38     40000.0  15.63   \n",
       "395768   Fully Paid    21000.0     12.29       700.42    110000.0  21.45   \n",
       "395769   Fully Paid     5000.0      9.99       161.32     56500.0  17.56   \n",
       "395770   Fully Paid    21000.0     15.31       503.02     64000.0  15.88   \n",
       "395771   Fully Paid     2000.0     13.61        67.98     42996.0   8.32   \n",
       "\n",
       "        open_acc  pub_rec  revol_bal  revol_util  ...  purpose_medical  \\\n",
       "0           16.0      0.0    36369.0        41.8  ...                0   \n",
       "1           17.0      0.0    20131.0        53.3  ...                0   \n",
       "2           13.0      0.0    11987.0        92.2  ...                0   \n",
       "3            6.0      0.0     5472.0        21.5  ...                0   \n",
       "4           13.0      0.0    24584.0        69.8  ...                0   \n",
       "...          ...      ...        ...         ...  ...              ...   \n",
       "395767       6.0      0.0     1990.0        34.3  ...                0   \n",
       "395768       6.0      0.0    43263.0        95.7  ...                0   \n",
       "395769      15.0      0.0    32704.0        66.9  ...                0   \n",
       "395770       9.0      0.0    15704.0        53.8  ...                0   \n",
       "395771       3.0      0.0     4292.0        91.3  ...                0   \n",
       "\n",
       "        purpose_moving  purpose_other  purpose_renewable_energy  \\\n",
       "0                    0              0                         0   \n",
       "1                    0              0                         0   \n",
       "2                    0              0                         0   \n",
       "3                    0              0                         0   \n",
       "4                    0              0                         0   \n",
       "...                ...            ...                       ...   \n",
       "395767               0              0                         0   \n",
       "395768               0              0                         0   \n",
       "395769               0              0                         0   \n",
       "395770               0              0                         0   \n",
       "395771               0              0                         0   \n",
       "\n",
       "        purpose_small_business  purpose_vacation  purpose_wedding  \\\n",
       "0                            0                 1                0   \n",
       "1                            0                 0                0   \n",
       "2                            0                 0                0   \n",
       "3                            0                 0                0   \n",
       "4                            0                 0                0   \n",
       "...                        ...               ...              ...   \n",
       "395767                       0                 0                0   \n",
       "395768                       0                 0                0   \n",
       "395769                       0                 0                0   \n",
       "395770                       0                 0                0   \n",
       "395771                       0                 0                0   \n",
       "\n",
       "        initial_list_status_w  application_type_INDIVIDUAL  \\\n",
       "0                           1                            1   \n",
       "1                           0                            1   \n",
       "2                           0                            1   \n",
       "3                           0                            1   \n",
       "4                           0                            1   \n",
       "...                       ...                          ...   \n",
       "395767                      1                            1   \n",
       "395768                      0                            1   \n",
       "395769                      0                            1   \n",
       "395770                      0                            1   \n",
       "395771                      0                            1   \n",
       "\n",
       "        application_type_JOINT  \n",
       "0                            0  \n",
       "1                            0  \n",
       "2                            0  \n",
       "3                            0  \n",
       "4                            0  \n",
       "...                        ...  \n",
       "395767                       0  \n",
       "395768                       0  \n",
       "395769                       0  \n",
       "395770                       0  \n",
       "395771                       0  \n",
       "\n",
       "[395767 rows x 87 columns]"
      ]
     },
     "execution_count": 189,
     "metadata": {},
     "output_type": "execute_result"
    }
   ],
   "source": [
    "df_final = pd.concat([df_clean['loan_status'], df_numerical, df_dummies], axis=1)\n",
    "df_final"
   ]
  },
  {
   "cell_type": "code",
   "execution_count": 190,
   "id": "dramatic-world",
   "metadata": {},
   "outputs": [
    {
     "name": "stdout",
     "output_type": "stream",
     "text": [
      "<class 'pandas.core.frame.DataFrame'>\n",
      "Int64Index: 395767 entries, 0 to 395771\n",
      "Data columns (total 87 columns):\n",
      " #   Column                               Non-Null Count   Dtype  \n",
      "---  ------                               --------------   -----  \n",
      " 0   loan_status                          395767 non-null  object \n",
      " 1   loan_amnt                            395767 non-null  float64\n",
      " 2   int_rate                             395767 non-null  float64\n",
      " 3   installment                          395767 non-null  float64\n",
      " 4   annual_inc                           395767 non-null  float64\n",
      " 5   dti                                  395767 non-null  float64\n",
      " 6   open_acc                             395767 non-null  float64\n",
      " 7   pub_rec                              395767 non-null  float64\n",
      " 8   revol_bal                            395767 non-null  float64\n",
      " 9   revol_util                           395767 non-null  float64\n",
      " 10  total_acc                            395767 non-null  float64\n",
      " 11  pub_rec_bankruptcies                 395767 non-null  float64\n",
      " 12  oldest_acct_days                     395767 non-null  int64  \n",
      " 13  issue_date_days                      395767 non-null  int64  \n",
      " 14  term_ 60 months                      395767 non-null  uint8  \n",
      " 15  grade_B                              395767 non-null  uint8  \n",
      " 16  grade_C                              395767 non-null  uint8  \n",
      " 17  grade_D                              395767 non-null  uint8  \n",
      " 18  grade_E                              395767 non-null  uint8  \n",
      " 19  grade_F                              395767 non-null  uint8  \n",
      " 20  grade_G                              395767 non-null  uint8  \n",
      " 21  sub_grade_A2                         395767 non-null  uint8  \n",
      " 22  sub_grade_A3                         395767 non-null  uint8  \n",
      " 23  sub_grade_A4                         395767 non-null  uint8  \n",
      " 24  sub_grade_A5                         395767 non-null  uint8  \n",
      " 25  sub_grade_B1                         395767 non-null  uint8  \n",
      " 26  sub_grade_B2                         395767 non-null  uint8  \n",
      " 27  sub_grade_B3                         395767 non-null  uint8  \n",
      " 28  sub_grade_B4                         395767 non-null  uint8  \n",
      " 29  sub_grade_B5                         395767 non-null  uint8  \n",
      " 30  sub_grade_C1                         395767 non-null  uint8  \n",
      " 31  sub_grade_C2                         395767 non-null  uint8  \n",
      " 32  sub_grade_C3                         395767 non-null  uint8  \n",
      " 33  sub_grade_C4                         395767 non-null  uint8  \n",
      " 34  sub_grade_C5                         395767 non-null  uint8  \n",
      " 35  sub_grade_D1                         395767 non-null  uint8  \n",
      " 36  sub_grade_D2                         395767 non-null  uint8  \n",
      " 37  sub_grade_D3                         395767 non-null  uint8  \n",
      " 38  sub_grade_D4                         395767 non-null  uint8  \n",
      " 39  sub_grade_D5                         395767 non-null  uint8  \n",
      " 40  sub_grade_E1                         395767 non-null  uint8  \n",
      " 41  sub_grade_E2                         395767 non-null  uint8  \n",
      " 42  sub_grade_E3                         395767 non-null  uint8  \n",
      " 43  sub_grade_E4                         395767 non-null  uint8  \n",
      " 44  sub_grade_E5                         395767 non-null  uint8  \n",
      " 45  sub_grade_F1                         395767 non-null  uint8  \n",
      " 46  sub_grade_F2                         395767 non-null  uint8  \n",
      " 47  sub_grade_F3                         395767 non-null  uint8  \n",
      " 48  sub_grade_F4                         395767 non-null  uint8  \n",
      " 49  sub_grade_F5                         395767 non-null  uint8  \n",
      " 50  sub_grade_G1                         395767 non-null  uint8  \n",
      " 51  sub_grade_G2                         395767 non-null  uint8  \n",
      " 52  sub_grade_G3                         395767 non-null  uint8  \n",
      " 53  sub_grade_G4                         395767 non-null  uint8  \n",
      " 54  sub_grade_G5                         395767 non-null  uint8  \n",
      " 55  emp_length_10+ years                 395767 non-null  uint8  \n",
      " 56  emp_length_2 years                   395767 non-null  uint8  \n",
      " 57  emp_length_3 years                   395767 non-null  uint8  \n",
      " 58  emp_length_4 years                   395767 non-null  uint8  \n",
      " 59  emp_length_5 years                   395767 non-null  uint8  \n",
      " 60  emp_length_6 years                   395767 non-null  uint8  \n",
      " 61  emp_length_7 years                   395767 non-null  uint8  \n",
      " 62  emp_length_8 years                   395767 non-null  uint8  \n",
      " 63  emp_length_9 years                   395767 non-null  uint8  \n",
      " 64  emp_length_< 1 year                  395767 non-null  uint8  \n",
      " 65  emp_length_unknown                   395767 non-null  uint8  \n",
      " 66  home_ownership_OTHER                 395767 non-null  uint8  \n",
      " 67  home_ownership_OWN                   395767 non-null  uint8  \n",
      " 68  home_ownership_RENT                  395767 non-null  uint8  \n",
      " 69  verification_status_Source Verified  395767 non-null  uint8  \n",
      " 70  verification_status_Verified         395767 non-null  uint8  \n",
      " 71  purpose_credit_card                  395767 non-null  uint8  \n",
      " 72  purpose_debt_consolidation           395767 non-null  uint8  \n",
      " 73  purpose_educational                  395767 non-null  uint8  \n",
      " 74  purpose_home_improvement             395767 non-null  uint8  \n",
      " 75  purpose_house                        395767 non-null  uint8  \n",
      " 76  purpose_major_purchase               395767 non-null  uint8  \n",
      " 77  purpose_medical                      395767 non-null  uint8  \n",
      " 78  purpose_moving                       395767 non-null  uint8  \n",
      " 79  purpose_other                        395767 non-null  uint8  \n",
      " 80  purpose_renewable_energy             395767 non-null  uint8  \n",
      " 81  purpose_small_business               395767 non-null  uint8  \n",
      " 82  purpose_vacation                     395767 non-null  uint8  \n",
      " 83  purpose_wedding                      395767 non-null  uint8  \n",
      " 84  initial_list_status_w                395767 non-null  uint8  \n",
      " 85  application_type_INDIVIDUAL          395767 non-null  uint8  \n",
      " 86  application_type_JOINT               395767 non-null  uint8  \n",
      "dtypes: float64(11), int64(2), object(1), uint8(73)\n",
      "memory usage: 72.8+ MB\n"
     ]
    }
   ],
   "source": [
    "df_final.info()"
   ]
  },
  {
   "cell_type": "code",
   "execution_count": 191,
   "id": "architectural-rendering",
   "metadata": {},
   "outputs": [],
   "source": [
    "# SAVE FINAL PRE-PROCESSED DATA SET\n",
    "df_final.to_csv('./data/lending_club_clean_dummies.csv', index=False)"
   ]
  }
 ],
 "metadata": {
  "kernelspec": {
   "display_name": "Python 3",
   "language": "python",
   "name": "python3"
  },
  "language_info": {
   "codemirror_mode": {
    "name": "ipython",
    "version": 3
   },
   "file_extension": ".py",
   "mimetype": "text/x-python",
   "name": "python",
   "nbconvert_exporter": "python",
   "pygments_lexer": "ipython3",
   "version": "3.8.8"
  }
 },
 "nbformat": 4,
 "nbformat_minor": 5
}
