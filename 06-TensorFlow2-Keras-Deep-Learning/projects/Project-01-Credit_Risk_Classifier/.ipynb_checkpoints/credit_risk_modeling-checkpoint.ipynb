{
 "cells": [
  {
   "cell_type": "markdown",
   "id": "straight-buying",
   "metadata": {},
   "source": [
    "# Credit Risk Classifier - Neural Networks\n",
    "\n",
    "----\n",
    "\n",
    "### The Data\n",
    "\n",
    "We will be using a subset of the LendingClub data set obtained from Kaggle. The original dataset can be found at: https://www.kaggle.com/wordsforthewise/lending-club. The \"loan_status\" column contains our label (or classes used for the classification task). **NOTE: We are working with a special version of this data set that has some extra feature engineering requirements.**\n",
    "\n",
    "### Background\n",
    "\n",
    "LendingClub is a US peer-to-peer lending company, headquartered in San Francisco, California. It was the first peer-to-peer lender to register its offerings as securities with the Securities and Exchange Commission (SEC), and to offer loan trading on a secondary market. LendingClub is the world's largest peer-to-peer lending platform.\n",
    "\n",
    "### Project Goal\n",
    "\n",
    "Given historical data on loans given out with information on whether or not the borrower defaulted (charge-off), can we build a model that can predict wether or nor a borrower will pay back their loan? This way in the future when we get a new potential customer we can assess whether or not they are likely to pay back the loan. We will use typical classification metrics when evaluating the performance of our model.\n",
    "\n",
    "----"
   ]
  },
  {
   "cell_type": "code",
   "execution_count": 1,
   "id": "becoming-confidence",
   "metadata": {},
   "outputs": [],
   "source": [
    "# load all the libraries and packages used in this notebook\n",
    "import numpy as np\n",
    "import pandas as pd\n",
    "import seaborn as sns\n",
    "import matplotlib.pyplot as plt\n",
    "\n",
    "# configure user settings\n",
    "%config Completer.use_jedi = False"
   ]
  },
  {
   "cell_type": "code",
   "execution_count": 19,
   "id": "global-history",
   "metadata": {},
   "outputs": [],
   "source": [
    "# load specific functions\n",
    "\n",
    "from sklearn.model_selection import train_test_split\n",
    "from sklearn.preprocessing import StandardScaler, MinMaxScaler\n",
    "\n",
    "from tensorflow.keras.models import Sequential\n",
    "from tensorflow.keras.layers import Dense, Dropout\n",
    "from tensorflow.keras.callbacks import EarlyStopping"
   ]
  },
  {
   "cell_type": "markdown",
   "id": "perceived-horizon",
   "metadata": {},
   "source": [
    "### Load the Pre-processed Data Set"
   ]
  },
  {
   "cell_type": "code",
   "execution_count": 2,
   "id": "alleged-lighter",
   "metadata": {},
   "outputs": [],
   "source": [
    "df = pd.read_csv('./data/lending_club_clean_dummies.csv')"
   ]
  },
  {
   "cell_type": "code",
   "execution_count": 5,
   "id": "administrative-summit",
   "metadata": {},
   "outputs": [
    {
     "name": "stdout",
     "output_type": "stream",
     "text": [
      "<class 'pandas.core.frame.DataFrame'>\n",
      "RangeIndex: 395767 entries, 0 to 395766\n",
      "Data columns (total 87 columns):\n",
      " #   Column                               Non-Null Count   Dtype  \n",
      "---  ------                               --------------   -----  \n",
      " 0   loan_status                          395767 non-null  object \n",
      " 1   loan_amnt                            395767 non-null  float64\n",
      " 2   int_rate                             395767 non-null  float64\n",
      " 3   installment                          395767 non-null  float64\n",
      " 4   annual_inc                           395767 non-null  float64\n",
      " 5   dti                                  395767 non-null  float64\n",
      " 6   open_acc                             395767 non-null  float64\n",
      " 7   pub_rec                              395767 non-null  float64\n",
      " 8   revol_bal                            395767 non-null  float64\n",
      " 9   revol_util                           395767 non-null  float64\n",
      " 10  total_acc                            395767 non-null  float64\n",
      " 11  pub_rec_bankruptcies                 395767 non-null  float64\n",
      " 12  oldest_acct_days                     395767 non-null  int64  \n",
      " 13  issue_date_days                      395767 non-null  int64  \n",
      " 14  term_ 60 months                      395767 non-null  int64  \n",
      " 15  grade_B                              395767 non-null  int64  \n",
      " 16  grade_C                              395767 non-null  int64  \n",
      " 17  grade_D                              395767 non-null  int64  \n",
      " 18  grade_E                              395767 non-null  int64  \n",
      " 19  grade_F                              395767 non-null  int64  \n",
      " 20  grade_G                              395767 non-null  int64  \n",
      " 21  sub_grade_A2                         395767 non-null  int64  \n",
      " 22  sub_grade_A3                         395767 non-null  int64  \n",
      " 23  sub_grade_A4                         395767 non-null  int64  \n",
      " 24  sub_grade_A5                         395767 non-null  int64  \n",
      " 25  sub_grade_B1                         395767 non-null  int64  \n",
      " 26  sub_grade_B2                         395767 non-null  int64  \n",
      " 27  sub_grade_B3                         395767 non-null  int64  \n",
      " 28  sub_grade_B4                         395767 non-null  int64  \n",
      " 29  sub_grade_B5                         395767 non-null  int64  \n",
      " 30  sub_grade_C1                         395767 non-null  int64  \n",
      " 31  sub_grade_C2                         395767 non-null  int64  \n",
      " 32  sub_grade_C3                         395767 non-null  int64  \n",
      " 33  sub_grade_C4                         395767 non-null  int64  \n",
      " 34  sub_grade_C5                         395767 non-null  int64  \n",
      " 35  sub_grade_D1                         395767 non-null  int64  \n",
      " 36  sub_grade_D2                         395767 non-null  int64  \n",
      " 37  sub_grade_D3                         395767 non-null  int64  \n",
      " 38  sub_grade_D4                         395767 non-null  int64  \n",
      " 39  sub_grade_D5                         395767 non-null  int64  \n",
      " 40  sub_grade_E1                         395767 non-null  int64  \n",
      " 41  sub_grade_E2                         395767 non-null  int64  \n",
      " 42  sub_grade_E3                         395767 non-null  int64  \n",
      " 43  sub_grade_E4                         395767 non-null  int64  \n",
      " 44  sub_grade_E5                         395767 non-null  int64  \n",
      " 45  sub_grade_F1                         395767 non-null  int64  \n",
      " 46  sub_grade_F2                         395767 non-null  int64  \n",
      " 47  sub_grade_F3                         395767 non-null  int64  \n",
      " 48  sub_grade_F4                         395767 non-null  int64  \n",
      " 49  sub_grade_F5                         395767 non-null  int64  \n",
      " 50  sub_grade_G1                         395767 non-null  int64  \n",
      " 51  sub_grade_G2                         395767 non-null  int64  \n",
      " 52  sub_grade_G3                         395767 non-null  int64  \n",
      " 53  sub_grade_G4                         395767 non-null  int64  \n",
      " 54  sub_grade_G5                         395767 non-null  int64  \n",
      " 55  emp_length_10+ years                 395767 non-null  int64  \n",
      " 56  emp_length_2 years                   395767 non-null  int64  \n",
      " 57  emp_length_3 years                   395767 non-null  int64  \n",
      " 58  emp_length_4 years                   395767 non-null  int64  \n",
      " 59  emp_length_5 years                   395767 non-null  int64  \n",
      " 60  emp_length_6 years                   395767 non-null  int64  \n",
      " 61  emp_length_7 years                   395767 non-null  int64  \n",
      " 62  emp_length_8 years                   395767 non-null  int64  \n",
      " 63  emp_length_9 years                   395767 non-null  int64  \n",
      " 64  emp_length_< 1 year                  395767 non-null  int64  \n",
      " 65  emp_length_unknown                   395767 non-null  int64  \n",
      " 66  home_ownership_OTHER                 395767 non-null  int64  \n",
      " 67  home_ownership_OWN                   395767 non-null  int64  \n",
      " 68  home_ownership_RENT                  395767 non-null  int64  \n",
      " 69  verification_status_Source Verified  395767 non-null  int64  \n",
      " 70  verification_status_Verified         395767 non-null  int64  \n",
      " 71  purpose_credit_card                  395767 non-null  int64  \n",
      " 72  purpose_debt_consolidation           395767 non-null  int64  \n",
      " 73  purpose_educational                  395767 non-null  int64  \n",
      " 74  purpose_home_improvement             395767 non-null  int64  \n",
      " 75  purpose_house                        395767 non-null  int64  \n",
      " 76  purpose_major_purchase               395767 non-null  int64  \n",
      " 77  purpose_medical                      395767 non-null  int64  \n",
      " 78  purpose_moving                       395767 non-null  int64  \n",
      " 79  purpose_other                        395767 non-null  int64  \n",
      " 80  purpose_renewable_energy             395767 non-null  int64  \n",
      " 81  purpose_small_business               395767 non-null  int64  \n",
      " 82  purpose_vacation                     395767 non-null  int64  \n",
      " 83  purpose_wedding                      395767 non-null  int64  \n",
      " 84  initial_list_status_w                395767 non-null  int64  \n",
      " 85  application_type_INDIVIDUAL          395767 non-null  int64  \n",
      " 86  application_type_JOINT               395767 non-null  int64  \n",
      "dtypes: float64(11), int64(75), object(1)\n",
      "memory usage: 262.7+ MB\n"
     ]
    }
   ],
   "source": [
    "df.info()"
   ]
  },
  {
   "cell_type": "markdown",
   "id": "lovely-maker",
   "metadata": {},
   "source": [
    "### Split the Data for Modeling"
   ]
  },
  {
   "cell_type": "code",
   "execution_count": 28,
   "id": "published-cartoon",
   "metadata": {},
   "outputs": [],
   "source": [
    "X = df.drop('loan_status', axis=1)"
   ]
  },
  {
   "cell_type": "code",
   "execution_count": 29,
   "id": "finite-replica",
   "metadata": {},
   "outputs": [],
   "source": [
    "y = df['loan_status'].map({'Fully Paid': 1, 'Charged Off': 0})"
   ]
  },
  {
   "cell_type": "code",
   "execution_count": 30,
   "id": "danish-warren",
   "metadata": {},
   "outputs": [
    {
     "data": {
      "text/plain": [
       "(395767, 86)"
      ]
     },
     "execution_count": 30,
     "metadata": {},
     "output_type": "execute_result"
    }
   ],
   "source": [
    "X.shape"
   ]
  },
  {
   "cell_type": "code",
   "execution_count": 32,
   "id": "representative-spiritual",
   "metadata": {},
   "outputs": [
    {
     "data": {
      "text/plain": [
       "(395767,)"
      ]
     },
     "execution_count": 32,
     "metadata": {},
     "output_type": "execute_result"
    }
   ],
   "source": [
    "y.shape"
   ]
  },
  {
   "cell_type": "code",
   "execution_count": 33,
   "id": "broke-garage",
   "metadata": {},
   "outputs": [],
   "source": [
    "# train-validation-test split: 80-10-10\n",
    "\n",
    "# SPLIT #1\n",
    "X_train, X_temp, y_train, y_temp = train_test_split(X, y, test_size=0.20, random_state=101)\n",
    "\n",
    "# SPLIT #2\n",
    "X_valid, X_test, y_valid, y_test = train_test_split(X_temp, y_temp, test_size=0.50, random_state=101)"
   ]
  },
  {
   "cell_type": "code",
   "execution_count": 34,
   "id": "working-wholesale",
   "metadata": {},
   "outputs": [
    {
     "data": {
      "text/plain": [
       "(316613, 86)"
      ]
     },
     "execution_count": 34,
     "metadata": {},
     "output_type": "execute_result"
    }
   ],
   "source": [
    "X_train.shape"
   ]
  },
  {
   "cell_type": "code",
   "execution_count": 35,
   "id": "loving-chicken",
   "metadata": {},
   "outputs": [
    {
     "data": {
      "text/plain": [
       "(39577, 86)"
      ]
     },
     "execution_count": 35,
     "metadata": {},
     "output_type": "execute_result"
    }
   ],
   "source": [
    "X_valid.shape"
   ]
  },
  {
   "cell_type": "code",
   "execution_count": 36,
   "id": "dental-mining",
   "metadata": {},
   "outputs": [
    {
     "data": {
      "text/plain": [
       "(39577, 86)"
      ]
     },
     "execution_count": 36,
     "metadata": {},
     "output_type": "execute_result"
    }
   ],
   "source": [
    "X_test.shape"
   ]
  },
  {
   "cell_type": "markdown",
   "id": "remarkable-manhattan",
   "metadata": {},
   "source": [
    "### Scale the Input Data"
   ]
  },
  {
   "cell_type": "code",
   "execution_count": 37,
   "id": "central-brooks",
   "metadata": {},
   "outputs": [],
   "source": [
    "# OPTION 1: use the standard scaler\n",
    "scaler_1 = StandardScaler()\n",
    "X_train_1 = scaler_1.fit_transform(X_train)\n",
    "X_valid_1 = scaler_1.transform(X_valid)\n",
    "X_test_1 = scaler_1.transform(X_test)"
   ]
  },
  {
   "cell_type": "code",
   "execution_count": 38,
   "id": "colonial-float",
   "metadata": {},
   "outputs": [],
   "source": [
    "# OPTION 1: use the min-max scaler\n",
    "scaler_2 = MinMaxScaler()\n",
    "X_train_2 = scaler_2.fit_transform(X_train)\n",
    "X_valid_2 = scaler_2.transform(X_valid)\n",
    "X_test_2 = scaler_2.transform(X_test)"
   ]
  },
  {
   "cell_type": "markdown",
   "id": "therapeutic-pennsylvania",
   "metadata": {},
   "source": [
    "### Model 1\n",
    "\n",
    "* (put details about the model here)"
   ]
  },
  {
   "cell_type": "code",
   "execution_count": 39,
   "id": "removed-causing",
   "metadata": {},
   "outputs": [],
   "source": [
    "# initialize model\n",
    "model_1 = Sequential()\n",
    "\n",
    "# input layer\n",
    "model_1.add(Dense(128, activation='relu'))\n",
    "\n",
    "# hidden layer(s)\n",
    "model_1.add(Dense(64, activation='relu'))\n",
    "model_1.add(Dense(32, activation='relu'))\n",
    "\n",
    "# output layer\n",
    "model_1.add(Dense(1, activation='sigmoid'))\n",
    "\n",
    "# compile model\n",
    "model_1.compile(loss='binary_crossentropy', optimizer='adam')"
   ]
  },
  {
   "cell_type": "code",
   "execution_count": 42,
   "id": "tested-portsmouth",
   "metadata": {},
   "outputs": [],
   "source": [
    "# choose min because we want to minimize the loss (or error); for accuracy, use max\n",
    "early_stop = EarlyStopping(monitor='val_loss', \n",
    "                           mode='min', \n",
    "                           verbose=2, \n",
    "                           patience=20)"
   ]
  },
  {
   "cell_type": "code",
   "execution_count": 43,
   "id": "international-prefix",
   "metadata": {},
   "outputs": [
    {
     "name": "stdout",
     "output_type": "stream",
     "text": [
      "Epoch 1/10\n",
      "9895/9895 [==============================] - 37s 4ms/step - loss: 0.4479 - val_loss: 0.4496\n",
      "Epoch 2/10\n",
      "9895/9895 [==============================] - 35s 4ms/step - loss: 0.4451 - val_loss: 0.4485\n",
      "Epoch 3/10\n",
      "9895/9895 [==============================] - 35s 4ms/step - loss: 0.4430 - val_loss: 0.4474\n",
      "Epoch 4/10\n",
      "9895/9895 [==============================] - 35s 4ms/step - loss: 0.4419 - val_loss: 0.4464\n",
      "Epoch 5/10\n",
      "9895/9895 [==============================] - 35s 4ms/step - loss: 0.4411 - val_loss: 0.4455\n",
      "Epoch 6/10\n",
      "9895/9895 [==============================] - 35s 4ms/step - loss: 0.4404 - val_loss: 0.4454\n",
      "Epoch 7/10\n",
      "9895/9895 [==============================] - 35s 3ms/step - loss: 0.4399 - val_loss: 0.4462\n",
      "Epoch 8/10\n",
      "9895/9895 [==============================] - 33s 3ms/step - loss: 0.4396 - val_loss: 0.4452\n",
      "Epoch 9/10\n",
      "9895/9895 [==============================] - 32s 3ms/step - loss: 0.4392 - val_loss: 0.4448\n",
      "Epoch 10/10\n",
      "9895/9895 [==============================] - 26s 3ms/step - loss: 0.4390 - val_loss: 0.4448\n"
     ]
    },
    {
     "data": {
      "text/plain": [
       "<tensorflow.python.keras.callbacks.History at 0x2a098844430>"
      ]
     },
     "execution_count": 43,
     "metadata": {},
     "output_type": "execute_result"
    }
   ],
   "source": [
    "# train the NN model\n",
    "model_1.fit(x=X_train_1, y=y_train,\n",
    "            epochs=512,\n",
    "            batch_size=64,\n",
    "            validation_data=(X_valid_1, y_valid),\n",
    "            callbacks=[early_stop],\n",
    "            verbose=2)"
   ]
  },
  {
   "cell_type": "code",
   "execution_count": 44,
   "id": "cleared-whale",
   "metadata": {},
   "outputs": [
    {
     "data": {
      "image/png": "[encoded data removed]",
      "text/plain": [
       "<Figure size 432x288 with 1 Axes>"
      ]
     },
     "metadata": {
      "needs_background": "light"
     },
     "output_type": "display_data"
    }
   ],
   "source": [
    "# evaluate the loss for training and validation data\n",
    "losses_1 = pd.DataFrame(model_1.history.history)\n",
    "losses_1.plot()\n",
    "plt.show()"
   ]
  }
 ],
 "metadata": {
  "kernelspec": {
   "display_name": "Python 3",
   "language": "python",
   "name": "python3"
  },
  "language_info": {
   "codemirror_mode": {
    "name": "ipython",
    "version": 3
   },
   "file_extension": ".py",
   "mimetype": "text/x-python",
   "name": "python",
   "nbconvert_exporter": "python",
   "pygments_lexer": "ipython3",
   "version": "3.8.8"
  }
 },
 "nbformat": 4,
 "nbformat_minor": 5
}
