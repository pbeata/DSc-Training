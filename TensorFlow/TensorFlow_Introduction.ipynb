{
 "cells": [
  {
   "cell_type": "markdown",
   "id": "korean-elements",
   "metadata": {},
   "source": [
    "# TensorFlow 2.0 Complete Course\n",
    "## Python Neural Networks for Beginners Tutorial\n",
    "\n",
    "----"
   ]
  },
  {
   "cell_type": "markdown",
   "id": "deadly-jamaica",
   "metadata": {},
   "source": [
    "## Module 2: Introduction to TensorFlow"
   ]
  },
  {
   "cell_type": "code",
   "execution_count": 1,
   "id": "adult-space",
   "metadata": {},
   "outputs": [],
   "source": [
    "import numpy as np\n",
    "import pandas as pd\n",
    "\n",
    "import matplotlib.pyplot as plt\n",
    "import seaborn as sns\n",
    "\n",
    "%config Completer.use_jedi = False"
   ]
  },
  {
   "cell_type": "code",
   "execution_count": 2,
   "id": "vital-shanghai",
   "metadata": {},
   "outputs": [],
   "source": [
    "import tensorflow as tf"
   ]
  },
  {
   "cell_type": "code",
   "execution_count": 3,
   "id": "liked-edition",
   "metadata": {},
   "outputs": [
    {
     "name": "stdout",
     "output_type": "stream",
     "text": [
      "2.4.1\n"
     ]
    }
   ],
   "source": [
    "print(tf.__version__)"
   ]
  },
  {
   "cell_type": "code",
   "execution_count": 4,
   "id": "professional-difference",
   "metadata": {},
   "outputs": [],
   "source": [
    "string_ex = tf.Variable(\"this is a string\", tf.string)\n",
    "number_ex = tf.Variable(324, tf.int16)\n",
    "float_ex = tf.Variable(3.14, tf.float64)"
   ]
  },
  {
   "cell_type": "markdown",
   "id": "finnish-impact",
   "metadata": {},
   "source": [
    "### Rank of a Tensor"
   ]
  },
  {
   "cell_type": "code",
   "execution_count": 5,
   "id": "greater-serum",
   "metadata": {},
   "outputs": [
    {
     "data": {
      "text/plain": [
       "<tf.Tensor: shape=(), dtype=int32, numpy=1>"
      ]
     },
     "execution_count": 5,
     "metadata": {},
     "output_type": "execute_result"
    }
   ],
   "source": [
    "rank1_ex = tf.Variable(['Paul', 'Beata', '30', 'M', 'Data Scientist'], tf.string)\n",
    "tf.rank(rank1_ex)"
   ]
  },
  {
   "cell_type": "code",
   "execution_count": 6,
   "id": "coordinated-citizenship",
   "metadata": {},
   "outputs": [
    {
     "data": {
      "text/plain": [
       "<tf.Tensor: shape=(), dtype=int32, numpy=2>"
      ]
     },
     "execution_count": 6,
     "metadata": {},
     "output_type": "execute_result"
    }
   ],
   "source": [
    "rank2_ex = tf.Variable([[1, 2, 4, 8], [16, 32, 64, 128]], tf.int16)\n",
    "tf.rank(rank2_ex)"
   ]
  },
  {
   "cell_type": "markdown",
   "id": "welsh-savannah",
   "metadata": {},
   "source": [
    "### Shape of a Tensor"
   ]
  },
  {
   "cell_type": "code",
   "execution_count": 7,
   "id": "vanilla-remains",
   "metadata": {},
   "outputs": [
    {
     "data": {
      "text/plain": [
       "TensorShape([])"
      ]
     },
     "execution_count": 7,
     "metadata": {},
     "output_type": "execute_result"
    }
   ],
   "source": [
    "float_ex.shape"
   ]
  },
  {
   "cell_type": "code",
   "execution_count": 8,
   "id": "catholic-serve",
   "metadata": {},
   "outputs": [
    {
     "data": {
      "text/plain": [
       "TensorShape([5])"
      ]
     },
     "execution_count": 8,
     "metadata": {},
     "output_type": "execute_result"
    }
   ],
   "source": [
    "rank1_ex.shape"
   ]
  },
  {
   "cell_type": "code",
   "execution_count": 9,
   "id": "fourth-quarter",
   "metadata": {},
   "outputs": [
    {
     "data": {
      "text/plain": [
       "TensorShape([2, 4])"
      ]
     },
     "execution_count": 9,
     "metadata": {},
     "output_type": "execute_result"
    }
   ],
   "source": [
    "rank2_ex.shape"
   ]
  },
  {
   "cell_type": "markdown",
   "id": "practical-affair",
   "metadata": {},
   "source": [
    "### Changing Shapes"
   ]
  },
  {
   "cell_type": "code",
   "execution_count": 10,
   "id": "silver-instrumentation",
   "metadata": {},
   "outputs": [
    {
     "data": {
      "text/plain": [
       "<tf.Tensor: shape=(1, 2, 3), dtype=float32, numpy=\n",
       "array([[[1., 1., 1.],\n",
       "        [1., 1., 1.]]], dtype=float32)>"
      ]
     },
     "execution_count": 10,
     "metadata": {},
     "output_type": "execute_result"
    }
   ],
   "source": [
    "t1 = tf.ones([1, 2, 3])  # creates a shape (1, 2, 3) tensor full of ones\n",
    "t1"
   ]
  },
  {
   "cell_type": "code",
   "execution_count": 11,
   "id": "similar-rapid",
   "metadata": {},
   "outputs": [
    {
     "data": {
      "text/plain": [
       "<tf.Tensor: shape=(2, 3, 1), dtype=float32, numpy=\n",
       "array([[[1.],\n",
       "        [1.],\n",
       "        [1.]],\n",
       "\n",
       "       [[1.],\n",
       "        [1.],\n",
       "        [1.]]], dtype=float32)>"
      ]
     },
     "execution_count": 11,
     "metadata": {},
     "output_type": "execute_result"
    }
   ],
   "source": [
    "t2 = tf.reshape(t1, [2,3,1])\n",
    "t2"
   ]
  },
  {
   "cell_type": "code",
   "execution_count": 12,
   "id": "relative-mercy",
   "metadata": {},
   "outputs": [
    {
     "data": {
      "text/plain": [
       "<tf.Tensor: shape=(3, 2), dtype=float32, numpy=\n",
       "array([[1., 1.],\n",
       "       [1., 1.],\n",
       "       [1., 1.]], dtype=float32)>"
      ]
     },
     "execution_count": 12,
     "metadata": {},
     "output_type": "execute_result"
    }
   ],
   "source": [
    "t3 = tf.reshape(t2, [3, -1])\n",
    "t3"
   ]
  },
  {
   "cell_type": "markdown",
   "id": "cheap-chicago",
   "metadata": {},
   "source": [
    "### Types of Tensors\n",
    "\n",
    "* Variable\n",
    "* Constant (cannot change the values in the tensor after you create it)\n",
    "* Placeholder\n",
    "* SparseTensor"
   ]
  },
  {
   "cell_type": "code",
   "execution_count": 13,
   "id": "defensive-firewall",
   "metadata": {},
   "outputs": [],
   "source": [
    "# how to evaluate a tensor\n",
    "\n",
    "# with tf.Session() as sess:  # creates a session using the default graph\n",
    "#     my_tensor.eval()           # my_tensor will of course be the name of your tensor"
   ]
  },
  {
   "cell_type": "markdown",
   "id": "young-membrane",
   "metadata": {},
   "source": [
    "### Examples"
   ]
  },
  {
   "cell_type": "code",
   "execution_count": 14,
   "id": "aerial-exhaust",
   "metadata": {},
   "outputs": [
    {
     "data": {
      "text/plain": [
       "TensorShape([5, 5, 5, 5])"
      ]
     },
     "execution_count": 14,
     "metadata": {},
     "output_type": "execute_result"
    }
   ],
   "source": [
    "t = tf.zeros([5, 5, 5, 5])\n",
    "t.shape"
   ]
  },
  {
   "cell_type": "code",
   "execution_count": 15,
   "id": "moving-seafood",
   "metadata": {},
   "outputs": [
    {
     "data": {
      "text/plain": [
       "<tf.Tensor: shape=(625,), dtype=float32, numpy=\n",
       "array([0., 0., 0., 0., 0., 0., 0., 0., 0., 0., 0., 0., 0., 0., 0., 0., 0.,\n",
       "       0., 0., 0., 0., 0., 0., 0., 0., 0., 0., 0., 0., 0., 0., 0., 0., 0.,\n",
       "       0., 0., 0., 0., 0., 0., 0., 0., 0., 0., 0., 0., 0., 0., 0., 0., 0.,\n",
       "       0., 0., 0., 0., 0., 0., 0., 0., 0., 0., 0., 0., 0., 0., 0., 0., 0.,\n",
       "       0., 0., 0., 0., 0., 0., 0., 0., 0., 0., 0., 0., 0., 0., 0., 0., 0.,\n",
       "       0., 0., 0., 0., 0., 0., 0., 0., 0., 0., 0., 0., 0., 0., 0., 0., 0.,\n",
       "       0., 0., 0., 0., 0., 0., 0., 0., 0., 0., 0., 0., 0., 0., 0., 0., 0.,\n",
       "       0., 0., 0., 0., 0., 0., 0., 0., 0., 0., 0., 0., 0., 0., 0., 0., 0.,\n",
       "       0., 0., 0., 0., 0., 0., 0., 0., 0., 0., 0., 0., 0., 0., 0., 0., 0.,\n",
       "       0., 0., 0., 0., 0., 0., 0., 0., 0., 0., 0., 0., 0., 0., 0., 0., 0.,\n",
       "       0., 0., 0., 0., 0., 0., 0., 0., 0., 0., 0., 0., 0., 0., 0., 0., 0.,\n",
       "       0., 0., 0., 0., 0., 0., 0., 0., 0., 0., 0., 0., 0., 0., 0., 0., 0.,\n",
       "       0., 0., 0., 0., 0., 0., 0., 0., 0., 0., 0., 0., 0., 0., 0., 0., 0.,\n",
       "       0., 0., 0., 0., 0., 0., 0., 0., 0., 0., 0., 0., 0., 0., 0., 0., 0.,\n",
       "       0., 0., 0., 0., 0., 0., 0., 0., 0., 0., 0., 0., 0., 0., 0., 0., 0.,\n",
       "       0., 0., 0., 0., 0., 0., 0., 0., 0., 0., 0., 0., 0., 0., 0., 0., 0.,\n",
       "       0., 0., 0., 0., 0., 0., 0., 0., 0., 0., 0., 0., 0., 0., 0., 0., 0.,\n",
       "       0., 0., 0., 0., 0., 0., 0., 0., 0., 0., 0., 0., 0., 0., 0., 0., 0.,\n",
       "       0., 0., 0., 0., 0., 0., 0., 0., 0., 0., 0., 0., 0., 0., 0., 0., 0.,\n",
       "       0., 0., 0., 0., 0., 0., 0., 0., 0., 0., 0., 0., 0., 0., 0., 0., 0.,\n",
       "       0., 0., 0., 0., 0., 0., 0., 0., 0., 0., 0., 0., 0., 0., 0., 0., 0.,\n",
       "       0., 0., 0., 0., 0., 0., 0., 0., 0., 0., 0., 0., 0., 0., 0., 0., 0.,\n",
       "       0., 0., 0., 0., 0., 0., 0., 0., 0., 0., 0., 0., 0., 0., 0., 0., 0.,\n",
       "       0., 0., 0., 0., 0., 0., 0., 0., 0., 0., 0., 0., 0., 0., 0., 0., 0.,\n",
       "       0., 0., 0., 0., 0., 0., 0., 0., 0., 0., 0., 0., 0., 0., 0., 0., 0.,\n",
       "       0., 0., 0., 0., 0., 0., 0., 0., 0., 0., 0., 0., 0., 0., 0., 0., 0.,\n",
       "       0., 0., 0., 0., 0., 0., 0., 0., 0., 0., 0., 0., 0., 0., 0., 0., 0.,\n",
       "       0., 0., 0., 0., 0., 0., 0., 0., 0., 0., 0., 0., 0., 0., 0., 0., 0.,\n",
       "       0., 0., 0., 0., 0., 0., 0., 0., 0., 0., 0., 0., 0., 0., 0., 0., 0.,\n",
       "       0., 0., 0., 0., 0., 0., 0., 0., 0., 0., 0., 0., 0., 0., 0., 0., 0.,\n",
       "       0., 0., 0., 0., 0., 0., 0., 0., 0., 0., 0., 0., 0., 0., 0., 0., 0.,\n",
       "       0., 0., 0., 0., 0., 0., 0., 0., 0., 0., 0., 0., 0., 0., 0., 0., 0.,\n",
       "       0., 0., 0., 0., 0., 0., 0., 0., 0., 0., 0., 0., 0., 0., 0., 0., 0.,\n",
       "       0., 0., 0., 0., 0., 0., 0., 0., 0., 0., 0., 0., 0., 0., 0., 0., 0.,\n",
       "       0., 0., 0., 0., 0., 0., 0., 0., 0., 0., 0., 0., 0., 0., 0., 0., 0.,\n",
       "       0., 0., 0., 0., 0., 0., 0., 0., 0., 0., 0., 0., 0., 0., 0., 0., 0.,\n",
       "       0., 0., 0., 0., 0., 0., 0., 0., 0., 0., 0., 0., 0.], dtype=float32)>"
      ]
     },
     "execution_count": 15,
     "metadata": {},
     "output_type": "execute_result"
    }
   ],
   "source": [
    "# flatten the tensor\n",
    "tf.reshape(t, [625])"
   ]
  },
  {
   "cell_type": "code",
   "execution_count": 16,
   "id": "objective-capital",
   "metadata": {},
   "outputs": [
    {
     "data": {
      "text/plain": [
       "<tf.Tensor: shape=(125, 5), dtype=float32, numpy=\n",
       "array([[0., 0., 0., 0., 0.],\n",
       "       [0., 0., 0., 0., 0.],\n",
       "       [0., 0., 0., 0., 0.],\n",
       "       [0., 0., 0., 0., 0.],\n",
       "       [0., 0., 0., 0., 0.],\n",
       "       [0., 0., 0., 0., 0.],\n",
       "       [0., 0., 0., 0., 0.],\n",
       "       [0., 0., 0., 0., 0.],\n",
       "       [0., 0., 0., 0., 0.],\n",
       "       [0., 0., 0., 0., 0.],\n",
       "       [0., 0., 0., 0., 0.],\n",
       "       [0., 0., 0., 0., 0.],\n",
       "       [0., 0., 0., 0., 0.],\n",
       "       [0., 0., 0., 0., 0.],\n",
       "       [0., 0., 0., 0., 0.],\n",
       "       [0., 0., 0., 0., 0.],\n",
       "       [0., 0., 0., 0., 0.],\n",
       "       [0., 0., 0., 0., 0.],\n",
       "       [0., 0., 0., 0., 0.],\n",
       "       [0., 0., 0., 0., 0.],\n",
       "       [0., 0., 0., 0., 0.],\n",
       "       [0., 0., 0., 0., 0.],\n",
       "       [0., 0., 0., 0., 0.],\n",
       "       [0., 0., 0., 0., 0.],\n",
       "       [0., 0., 0., 0., 0.],\n",
       "       [0., 0., 0., 0., 0.],\n",
       "       [0., 0., 0., 0., 0.],\n",
       "       [0., 0., 0., 0., 0.],\n",
       "       [0., 0., 0., 0., 0.],\n",
       "       [0., 0., 0., 0., 0.],\n",
       "       [0., 0., 0., 0., 0.],\n",
       "       [0., 0., 0., 0., 0.],\n",
       "       [0., 0., 0., 0., 0.],\n",
       "       [0., 0., 0., 0., 0.],\n",
       "       [0., 0., 0., 0., 0.],\n",
       "       [0., 0., 0., 0., 0.],\n",
       "       [0., 0., 0., 0., 0.],\n",
       "       [0., 0., 0., 0., 0.],\n",
       "       [0., 0., 0., 0., 0.],\n",
       "       [0., 0., 0., 0., 0.],\n",
       "       [0., 0., 0., 0., 0.],\n",
       "       [0., 0., 0., 0., 0.],\n",
       "       [0., 0., 0., 0., 0.],\n",
       "       [0., 0., 0., 0., 0.],\n",
       "       [0., 0., 0., 0., 0.],\n",
       "       [0., 0., 0., 0., 0.],\n",
       "       [0., 0., 0., 0., 0.],\n",
       "       [0., 0., 0., 0., 0.],\n",
       "       [0., 0., 0., 0., 0.],\n",
       "       [0., 0., 0., 0., 0.],\n",
       "       [0., 0., 0., 0., 0.],\n",
       "       [0., 0., 0., 0., 0.],\n",
       "       [0., 0., 0., 0., 0.],\n",
       "       [0., 0., 0., 0., 0.],\n",
       "       [0., 0., 0., 0., 0.],\n",
       "       [0., 0., 0., 0., 0.],\n",
       "       [0., 0., 0., 0., 0.],\n",
       "       [0., 0., 0., 0., 0.],\n",
       "       [0., 0., 0., 0., 0.],\n",
       "       [0., 0., 0., 0., 0.],\n",
       "       [0., 0., 0., 0., 0.],\n",
       "       [0., 0., 0., 0., 0.],\n",
       "       [0., 0., 0., 0., 0.],\n",
       "       [0., 0., 0., 0., 0.],\n",
       "       [0., 0., 0., 0., 0.],\n",
       "       [0., 0., 0., 0., 0.],\n",
       "       [0., 0., 0., 0., 0.],\n",
       "       [0., 0., 0., 0., 0.],\n",
       "       [0., 0., 0., 0., 0.],\n",
       "       [0., 0., 0., 0., 0.],\n",
       "       [0., 0., 0., 0., 0.],\n",
       "       [0., 0., 0., 0., 0.],\n",
       "       [0., 0., 0., 0., 0.],\n",
       "       [0., 0., 0., 0., 0.],\n",
       "       [0., 0., 0., 0., 0.],\n",
       "       [0., 0., 0., 0., 0.],\n",
       "       [0., 0., 0., 0., 0.],\n",
       "       [0., 0., 0., 0., 0.],\n",
       "       [0., 0., 0., 0., 0.],\n",
       "       [0., 0., 0., 0., 0.],\n",
       "       [0., 0., 0., 0., 0.],\n",
       "       [0., 0., 0., 0., 0.],\n",
       "       [0., 0., 0., 0., 0.],\n",
       "       [0., 0., 0., 0., 0.],\n",
       "       [0., 0., 0., 0., 0.],\n",
       "       [0., 0., 0., 0., 0.],\n",
       "       [0., 0., 0., 0., 0.],\n",
       "       [0., 0., 0., 0., 0.],\n",
       "       [0., 0., 0., 0., 0.],\n",
       "       [0., 0., 0., 0., 0.],\n",
       "       [0., 0., 0., 0., 0.],\n",
       "       [0., 0., 0., 0., 0.],\n",
       "       [0., 0., 0., 0., 0.],\n",
       "       [0., 0., 0., 0., 0.],\n",
       "       [0., 0., 0., 0., 0.],\n",
       "       [0., 0., 0., 0., 0.],\n",
       "       [0., 0., 0., 0., 0.],\n",
       "       [0., 0., 0., 0., 0.],\n",
       "       [0., 0., 0., 0., 0.],\n",
       "       [0., 0., 0., 0., 0.],\n",
       "       [0., 0., 0., 0., 0.],\n",
       "       [0., 0., 0., 0., 0.],\n",
       "       [0., 0., 0., 0., 0.],\n",
       "       [0., 0., 0., 0., 0.],\n",
       "       [0., 0., 0., 0., 0.],\n",
       "       [0., 0., 0., 0., 0.],\n",
       "       [0., 0., 0., 0., 0.],\n",
       "       [0., 0., 0., 0., 0.],\n",
       "       [0., 0., 0., 0., 0.],\n",
       "       [0., 0., 0., 0., 0.],\n",
       "       [0., 0., 0., 0., 0.],\n",
       "       [0., 0., 0., 0., 0.],\n",
       "       [0., 0., 0., 0., 0.],\n",
       "       [0., 0., 0., 0., 0.],\n",
       "       [0., 0., 0., 0., 0.],\n",
       "       [0., 0., 0., 0., 0.],\n",
       "       [0., 0., 0., 0., 0.],\n",
       "       [0., 0., 0., 0., 0.],\n",
       "       [0., 0., 0., 0., 0.],\n",
       "       [0., 0., 0., 0., 0.],\n",
       "       [0., 0., 0., 0., 0.],\n",
       "       [0., 0., 0., 0., 0.],\n",
       "       [0., 0., 0., 0., 0.],\n",
       "       [0., 0., 0., 0., 0.],\n",
       "       [0., 0., 0., 0., 0.]], dtype=float32)>"
      ]
     },
     "execution_count": 16,
     "metadata": {},
     "output_type": "execute_result"
    }
   ],
   "source": [
    "tf.reshape(t, [125, -1])"
   ]
  },
  {
   "cell_type": "markdown",
   "id": "civil-package",
   "metadata": {},
   "source": [
    "# Module 3: Core Learning Algorithms"
   ]
  },
  {
   "cell_type": "code",
   "execution_count": 17,
   "id": "ethical-friendly",
   "metadata": {},
   "outputs": [],
   "source": [
    "from __future__ import absolute_import, division, print_function, unicode_literals"
   ]
  },
  {
   "cell_type": "code",
   "execution_count": 18,
   "id": "dangerous-rental",
   "metadata": {},
   "outputs": [],
   "source": [
    "from IPython.display import clear_output"
   ]
  },
  {
   "cell_type": "code",
   "execution_count": 19,
   "id": "union-walker",
   "metadata": {},
   "outputs": [],
   "source": [
    "from six.moves import urllib"
   ]
  },
  {
   "cell_type": "code",
   "execution_count": 20,
   "id": "spiritual-reaction",
   "metadata": {},
   "outputs": [],
   "source": [
    "import tensorflow.compat.v2.feature_column as fc"
   ]
  },
  {
   "cell_type": "code",
   "execution_count": 21,
   "id": "copyrighted-oxford",
   "metadata": {},
   "outputs": [
    {
     "name": "stdout",
     "output_type": "stream",
     "text": [
      "2.4.1\n"
     ]
    }
   ],
   "source": [
    "print(tf.__version__)"
   ]
  },
  {
   "cell_type": "markdown",
   "id": "ahead-success",
   "metadata": {},
   "source": [
    "### Linear Regression"
   ]
  },
  {
   "cell_type": "code",
   "execution_count": 22,
   "id": "dated-leone",
   "metadata": {},
   "outputs": [],
   "source": [
    "# load the Titanic dataset and notice that it is already split into TRAINING and TESTING sets\n",
    "df_train = pd.read_csv('https://storage.googleapis.com/tf-datasets/titanic/train.csv') # training data\n",
    "df_test = pd.read_csv('https://storage.googleapis.com/tf-datasets/titanic/eval.csv') # testing data"
   ]
  },
  {
   "cell_type": "code",
   "execution_count": 23,
   "id": "measured-chase",
   "metadata": {},
   "outputs": [
    {
     "data": {
      "text/html": [
       "<div>\n",
       "<style scoped>\n",
       "    .dataframe tbody tr th:only-of-type {\n",
       "        vertical-align: middle;\n",
       "    }\n",
       "\n",
       "    .dataframe tbody tr th {\n",
       "        vertical-align: top;\n",
       "    }\n",
       "\n",
       "    .dataframe thead th {\n",
       "        text-align: right;\n",
       "    }\n",
       "</style>\n",
       "<table border=\"1\" class=\"dataframe\">\n",
       "  <thead>\n",
       "    <tr style=\"text-align: right;\">\n",
       "      <th></th>\n",
       "      <th>survived</th>\n",
       "      <th>sex</th>\n",
       "      <th>age</th>\n",
       "      <th>n_siblings_spouses</th>\n",
       "      <th>parch</th>\n",
       "      <th>fare</th>\n",
       "      <th>class</th>\n",
       "      <th>deck</th>\n",
       "      <th>embark_town</th>\n",
       "      <th>alone</th>\n",
       "    </tr>\n",
       "  </thead>\n",
       "  <tbody>\n",
       "    <tr>\n",
       "      <th>0</th>\n",
       "      <td>0</td>\n",
       "      <td>male</td>\n",
       "      <td>22.0</td>\n",
       "      <td>1</td>\n",
       "      <td>0</td>\n",
       "      <td>7.2500</td>\n",
       "      <td>Third</td>\n",
       "      <td>unknown</td>\n",
       "      <td>Southampton</td>\n",
       "      <td>n</td>\n",
       "    </tr>\n",
       "    <tr>\n",
       "      <th>1</th>\n",
       "      <td>1</td>\n",
       "      <td>female</td>\n",
       "      <td>38.0</td>\n",
       "      <td>1</td>\n",
       "      <td>0</td>\n",
       "      <td>71.2833</td>\n",
       "      <td>First</td>\n",
       "      <td>C</td>\n",
       "      <td>Cherbourg</td>\n",
       "      <td>n</td>\n",
       "    </tr>\n",
       "    <tr>\n",
       "      <th>2</th>\n",
       "      <td>1</td>\n",
       "      <td>female</td>\n",
       "      <td>26.0</td>\n",
       "      <td>0</td>\n",
       "      <td>0</td>\n",
       "      <td>7.9250</td>\n",
       "      <td>Third</td>\n",
       "      <td>unknown</td>\n",
       "      <td>Southampton</td>\n",
       "      <td>y</td>\n",
       "    </tr>\n",
       "    <tr>\n",
       "      <th>3</th>\n",
       "      <td>1</td>\n",
       "      <td>female</td>\n",
       "      <td>35.0</td>\n",
       "      <td>1</td>\n",
       "      <td>0</td>\n",
       "      <td>53.1000</td>\n",
       "      <td>First</td>\n",
       "      <td>C</td>\n",
       "      <td>Southampton</td>\n",
       "      <td>n</td>\n",
       "    </tr>\n",
       "    <tr>\n",
       "      <th>4</th>\n",
       "      <td>0</td>\n",
       "      <td>male</td>\n",
       "      <td>28.0</td>\n",
       "      <td>0</td>\n",
       "      <td>0</td>\n",
       "      <td>8.4583</td>\n",
       "      <td>Third</td>\n",
       "      <td>unknown</td>\n",
       "      <td>Queenstown</td>\n",
       "      <td>y</td>\n",
       "    </tr>\n",
       "    <tr>\n",
       "      <th>...</th>\n",
       "      <td>...</td>\n",
       "      <td>...</td>\n",
       "      <td>...</td>\n",
       "      <td>...</td>\n",
       "      <td>...</td>\n",
       "      <td>...</td>\n",
       "      <td>...</td>\n",
       "      <td>...</td>\n",
       "      <td>...</td>\n",
       "      <td>...</td>\n",
       "    </tr>\n",
       "    <tr>\n",
       "      <th>622</th>\n",
       "      <td>0</td>\n",
       "      <td>male</td>\n",
       "      <td>28.0</td>\n",
       "      <td>0</td>\n",
       "      <td>0</td>\n",
       "      <td>10.5000</td>\n",
       "      <td>Second</td>\n",
       "      <td>unknown</td>\n",
       "      <td>Southampton</td>\n",
       "      <td>y</td>\n",
       "    </tr>\n",
       "    <tr>\n",
       "      <th>623</th>\n",
       "      <td>0</td>\n",
       "      <td>male</td>\n",
       "      <td>25.0</td>\n",
       "      <td>0</td>\n",
       "      <td>0</td>\n",
       "      <td>7.0500</td>\n",
       "      <td>Third</td>\n",
       "      <td>unknown</td>\n",
       "      <td>Southampton</td>\n",
       "      <td>y</td>\n",
       "    </tr>\n",
       "    <tr>\n",
       "      <th>624</th>\n",
       "      <td>1</td>\n",
       "      <td>female</td>\n",
       "      <td>19.0</td>\n",
       "      <td>0</td>\n",
       "      <td>0</td>\n",
       "      <td>30.0000</td>\n",
       "      <td>First</td>\n",
       "      <td>B</td>\n",
       "      <td>Southampton</td>\n",
       "      <td>y</td>\n",
       "    </tr>\n",
       "    <tr>\n",
       "      <th>625</th>\n",
       "      <td>0</td>\n",
       "      <td>female</td>\n",
       "      <td>28.0</td>\n",
       "      <td>1</td>\n",
       "      <td>2</td>\n",
       "      <td>23.4500</td>\n",
       "      <td>Third</td>\n",
       "      <td>unknown</td>\n",
       "      <td>Southampton</td>\n",
       "      <td>n</td>\n",
       "    </tr>\n",
       "    <tr>\n",
       "      <th>626</th>\n",
       "      <td>0</td>\n",
       "      <td>male</td>\n",
       "      <td>32.0</td>\n",
       "      <td>0</td>\n",
       "      <td>0</td>\n",
       "      <td>7.7500</td>\n",
       "      <td>Third</td>\n",
       "      <td>unknown</td>\n",
       "      <td>Queenstown</td>\n",
       "      <td>y</td>\n",
       "    </tr>\n",
       "  </tbody>\n",
       "</table>\n",
       "<p>627 rows × 10 columns</p>\n",
       "</div>"
      ],
      "text/plain": [
       "     survived     sex   age  n_siblings_spouses  parch     fare   class  \\\n",
       "0           0    male  22.0                   1      0   7.2500   Third   \n",
       "1           1  female  38.0                   1      0  71.2833   First   \n",
       "2           1  female  26.0                   0      0   7.9250   Third   \n",
       "3           1  female  35.0                   1      0  53.1000   First   \n",
       "4           0    male  28.0                   0      0   8.4583   Third   \n",
       "..        ...     ...   ...                 ...    ...      ...     ...   \n",
       "622         0    male  28.0                   0      0  10.5000  Second   \n",
       "623         0    male  25.0                   0      0   7.0500   Third   \n",
       "624         1  female  19.0                   0      0  30.0000   First   \n",
       "625         0  female  28.0                   1      2  23.4500   Third   \n",
       "626         0    male  32.0                   0      0   7.7500   Third   \n",
       "\n",
       "        deck  embark_town alone  \n",
       "0    unknown  Southampton     n  \n",
       "1          C    Cherbourg     n  \n",
       "2    unknown  Southampton     y  \n",
       "3          C  Southampton     n  \n",
       "4    unknown   Queenstown     y  \n",
       "..       ...          ...   ...  \n",
       "622  unknown  Southampton     y  \n",
       "623  unknown  Southampton     y  \n",
       "624        B  Southampton     y  \n",
       "625  unknown  Southampton     n  \n",
       "626  unknown   Queenstown     y  \n",
       "\n",
       "[627 rows x 10 columns]"
      ]
     },
     "execution_count": 23,
     "metadata": {},
     "output_type": "execute_result"
    }
   ],
   "source": [
    "df_train"
   ]
  },
  {
   "cell_type": "code",
   "execution_count": 24,
   "id": "peripheral-blair",
   "metadata": {},
   "outputs": [
    {
     "data": {
      "text/html": [
       "<div>\n",
       "<style scoped>\n",
       "    .dataframe tbody tr th:only-of-type {\n",
       "        vertical-align: middle;\n",
       "    }\n",
       "\n",
       "    .dataframe tbody tr th {\n",
       "        vertical-align: top;\n",
       "    }\n",
       "\n",
       "    .dataframe thead th {\n",
       "        text-align: right;\n",
       "    }\n",
       "</style>\n",
       "<table border=\"1\" class=\"dataframe\">\n",
       "  <thead>\n",
       "    <tr style=\"text-align: right;\">\n",
       "      <th></th>\n",
       "      <th>survived</th>\n",
       "      <th>sex</th>\n",
       "      <th>age</th>\n",
       "      <th>n_siblings_spouses</th>\n",
       "      <th>parch</th>\n",
       "      <th>fare</th>\n",
       "      <th>class</th>\n",
       "      <th>deck</th>\n",
       "      <th>embark_town</th>\n",
       "      <th>alone</th>\n",
       "    </tr>\n",
       "  </thead>\n",
       "  <tbody>\n",
       "    <tr>\n",
       "      <th>0</th>\n",
       "      <td>0</td>\n",
       "      <td>male</td>\n",
       "      <td>35.0</td>\n",
       "      <td>0</td>\n",
       "      <td>0</td>\n",
       "      <td>8.0500</td>\n",
       "      <td>Third</td>\n",
       "      <td>unknown</td>\n",
       "      <td>Southampton</td>\n",
       "      <td>y</td>\n",
       "    </tr>\n",
       "    <tr>\n",
       "      <th>1</th>\n",
       "      <td>0</td>\n",
       "      <td>male</td>\n",
       "      <td>54.0</td>\n",
       "      <td>0</td>\n",
       "      <td>0</td>\n",
       "      <td>51.8625</td>\n",
       "      <td>First</td>\n",
       "      <td>E</td>\n",
       "      <td>Southampton</td>\n",
       "      <td>y</td>\n",
       "    </tr>\n",
       "    <tr>\n",
       "      <th>2</th>\n",
       "      <td>1</td>\n",
       "      <td>female</td>\n",
       "      <td>58.0</td>\n",
       "      <td>0</td>\n",
       "      <td>0</td>\n",
       "      <td>26.5500</td>\n",
       "      <td>First</td>\n",
       "      <td>C</td>\n",
       "      <td>Southampton</td>\n",
       "      <td>y</td>\n",
       "    </tr>\n",
       "    <tr>\n",
       "      <th>3</th>\n",
       "      <td>1</td>\n",
       "      <td>female</td>\n",
       "      <td>55.0</td>\n",
       "      <td>0</td>\n",
       "      <td>0</td>\n",
       "      <td>16.0000</td>\n",
       "      <td>Second</td>\n",
       "      <td>unknown</td>\n",
       "      <td>Southampton</td>\n",
       "      <td>y</td>\n",
       "    </tr>\n",
       "    <tr>\n",
       "      <th>4</th>\n",
       "      <td>1</td>\n",
       "      <td>male</td>\n",
       "      <td>34.0</td>\n",
       "      <td>0</td>\n",
       "      <td>0</td>\n",
       "      <td>13.0000</td>\n",
       "      <td>Second</td>\n",
       "      <td>D</td>\n",
       "      <td>Southampton</td>\n",
       "      <td>y</td>\n",
       "    </tr>\n",
       "    <tr>\n",
       "      <th>...</th>\n",
       "      <td>...</td>\n",
       "      <td>...</td>\n",
       "      <td>...</td>\n",
       "      <td>...</td>\n",
       "      <td>...</td>\n",
       "      <td>...</td>\n",
       "      <td>...</td>\n",
       "      <td>...</td>\n",
       "      <td>...</td>\n",
       "      <td>...</td>\n",
       "    </tr>\n",
       "    <tr>\n",
       "      <th>259</th>\n",
       "      <td>1</td>\n",
       "      <td>female</td>\n",
       "      <td>25.0</td>\n",
       "      <td>0</td>\n",
       "      <td>1</td>\n",
       "      <td>26.0000</td>\n",
       "      <td>Second</td>\n",
       "      <td>unknown</td>\n",
       "      <td>Southampton</td>\n",
       "      <td>n</td>\n",
       "    </tr>\n",
       "    <tr>\n",
       "      <th>260</th>\n",
       "      <td>0</td>\n",
       "      <td>male</td>\n",
       "      <td>33.0</td>\n",
       "      <td>0</td>\n",
       "      <td>0</td>\n",
       "      <td>7.8958</td>\n",
       "      <td>Third</td>\n",
       "      <td>unknown</td>\n",
       "      <td>Southampton</td>\n",
       "      <td>y</td>\n",
       "    </tr>\n",
       "    <tr>\n",
       "      <th>261</th>\n",
       "      <td>0</td>\n",
       "      <td>female</td>\n",
       "      <td>39.0</td>\n",
       "      <td>0</td>\n",
       "      <td>5</td>\n",
       "      <td>29.1250</td>\n",
       "      <td>Third</td>\n",
       "      <td>unknown</td>\n",
       "      <td>Queenstown</td>\n",
       "      <td>n</td>\n",
       "    </tr>\n",
       "    <tr>\n",
       "      <th>262</th>\n",
       "      <td>0</td>\n",
       "      <td>male</td>\n",
       "      <td>27.0</td>\n",
       "      <td>0</td>\n",
       "      <td>0</td>\n",
       "      <td>13.0000</td>\n",
       "      <td>Second</td>\n",
       "      <td>unknown</td>\n",
       "      <td>Southampton</td>\n",
       "      <td>y</td>\n",
       "    </tr>\n",
       "    <tr>\n",
       "      <th>263</th>\n",
       "      <td>1</td>\n",
       "      <td>male</td>\n",
       "      <td>26.0</td>\n",
       "      <td>0</td>\n",
       "      <td>0</td>\n",
       "      <td>30.0000</td>\n",
       "      <td>First</td>\n",
       "      <td>C</td>\n",
       "      <td>Cherbourg</td>\n",
       "      <td>y</td>\n",
       "    </tr>\n",
       "  </tbody>\n",
       "</table>\n",
       "<p>264 rows × 10 columns</p>\n",
       "</div>"
      ],
      "text/plain": [
       "     survived     sex   age  n_siblings_spouses  parch     fare   class  \\\n",
       "0           0    male  35.0                   0      0   8.0500   Third   \n",
       "1           0    male  54.0                   0      0  51.8625   First   \n",
       "2           1  female  58.0                   0      0  26.5500   First   \n",
       "3           1  female  55.0                   0      0  16.0000  Second   \n",
       "4           1    male  34.0                   0      0  13.0000  Second   \n",
       "..        ...     ...   ...                 ...    ...      ...     ...   \n",
       "259         1  female  25.0                   0      1  26.0000  Second   \n",
       "260         0    male  33.0                   0      0   7.8958   Third   \n",
       "261         0  female  39.0                   0      5  29.1250   Third   \n",
       "262         0    male  27.0                   0      0  13.0000  Second   \n",
       "263         1    male  26.0                   0      0  30.0000   First   \n",
       "\n",
       "        deck  embark_town alone  \n",
       "0    unknown  Southampton     y  \n",
       "1          E  Southampton     y  \n",
       "2          C  Southampton     y  \n",
       "3    unknown  Southampton     y  \n",
       "4          D  Southampton     y  \n",
       "..       ...          ...   ...  \n",
       "259  unknown  Southampton     n  \n",
       "260  unknown  Southampton     y  \n",
       "261  unknown   Queenstown     n  \n",
       "262  unknown  Southampton     y  \n",
       "263        C    Cherbourg     y  \n",
       "\n",
       "[264 rows x 10 columns]"
      ]
     },
     "execution_count": 24,
     "metadata": {},
     "output_type": "execute_result"
    }
   ],
   "source": [
    "df_test"
   ]
  },
  {
   "cell_type": "code",
   "execution_count": 25,
   "id": "inside-serial",
   "metadata": {},
   "outputs": [],
   "source": [
    "# these are the target labels (whether or not the passenger survived)\n",
    "y_train = df_train.pop('survived')\n",
    "y_test = df_test.pop('survived')"
   ]
  },
  {
   "cell_type": "code",
   "execution_count": 26,
   "id": "equivalent-heaven",
   "metadata": {},
   "outputs": [
    {
     "data": {
      "text/plain": [
       "sex                          male\n",
       "age                          22.0\n",
       "n_siblings_spouses              1\n",
       "parch                           0\n",
       "fare                         7.25\n",
       "class                       Third\n",
       "deck                      unknown\n",
       "embark_town           Southampton\n",
       "alone                           n\n",
       "Name: 0, dtype: object"
      ]
     },
     "execution_count": 26,
     "metadata": {},
     "output_type": "execute_result"
    }
   ],
   "source": [
    "# check a single row of the training data\n",
    "df_train.loc[0]"
   ]
  },
  {
   "cell_type": "code",
   "execution_count": 27,
   "id": "electrical-consciousness",
   "metadata": {},
   "outputs": [
    {
     "data": {
      "text/html": [
       "<div>\n",
       "<style scoped>\n",
       "    .dataframe tbody tr th:only-of-type {\n",
       "        vertical-align: middle;\n",
       "    }\n",
       "\n",
       "    .dataframe tbody tr th {\n",
       "        vertical-align: top;\n",
       "    }\n",
       "\n",
       "    .dataframe thead th {\n",
       "        text-align: right;\n",
       "    }\n",
       "</style>\n",
       "<table border=\"1\" class=\"dataframe\">\n",
       "  <thead>\n",
       "    <tr style=\"text-align: right;\">\n",
       "      <th></th>\n",
       "      <th>age</th>\n",
       "      <th>n_siblings_spouses</th>\n",
       "      <th>parch</th>\n",
       "      <th>fare</th>\n",
       "    </tr>\n",
       "  </thead>\n",
       "  <tbody>\n",
       "    <tr>\n",
       "      <th>count</th>\n",
       "      <td>627.000000</td>\n",
       "      <td>627.000000</td>\n",
       "      <td>627.000000</td>\n",
       "      <td>627.000000</td>\n",
       "    </tr>\n",
       "    <tr>\n",
       "      <th>mean</th>\n",
       "      <td>29.631308</td>\n",
       "      <td>0.545455</td>\n",
       "      <td>0.379585</td>\n",
       "      <td>34.385399</td>\n",
       "    </tr>\n",
       "    <tr>\n",
       "      <th>std</th>\n",
       "      <td>12.511818</td>\n",
       "      <td>1.151090</td>\n",
       "      <td>0.792999</td>\n",
       "      <td>54.597730</td>\n",
       "    </tr>\n",
       "    <tr>\n",
       "      <th>min</th>\n",
       "      <td>0.750000</td>\n",
       "      <td>0.000000</td>\n",
       "      <td>0.000000</td>\n",
       "      <td>0.000000</td>\n",
       "    </tr>\n",
       "    <tr>\n",
       "      <th>25%</th>\n",
       "      <td>23.000000</td>\n",
       "      <td>0.000000</td>\n",
       "      <td>0.000000</td>\n",
       "      <td>7.895800</td>\n",
       "    </tr>\n",
       "    <tr>\n",
       "      <th>50%</th>\n",
       "      <td>28.000000</td>\n",
       "      <td>0.000000</td>\n",
       "      <td>0.000000</td>\n",
       "      <td>15.045800</td>\n",
       "    </tr>\n",
       "    <tr>\n",
       "      <th>75%</th>\n",
       "      <td>35.000000</td>\n",
       "      <td>1.000000</td>\n",
       "      <td>0.000000</td>\n",
       "      <td>31.387500</td>\n",
       "    </tr>\n",
       "    <tr>\n",
       "      <th>max</th>\n",
       "      <td>80.000000</td>\n",
       "      <td>8.000000</td>\n",
       "      <td>5.000000</td>\n",
       "      <td>512.329200</td>\n",
       "    </tr>\n",
       "  </tbody>\n",
       "</table>\n",
       "</div>"
      ],
      "text/plain": [
       "              age  n_siblings_spouses       parch        fare\n",
       "count  627.000000          627.000000  627.000000  627.000000\n",
       "mean    29.631308            0.545455    0.379585   34.385399\n",
       "std     12.511818            1.151090    0.792999   54.597730\n",
       "min      0.750000            0.000000    0.000000    0.000000\n",
       "25%     23.000000            0.000000    0.000000    7.895800\n",
       "50%     28.000000            0.000000    0.000000   15.045800\n",
       "75%     35.000000            1.000000    0.000000   31.387500\n",
       "max     80.000000            8.000000    5.000000  512.329200"
      ]
     },
     "execution_count": 27,
     "metadata": {},
     "output_type": "execute_result"
    }
   ],
   "source": [
    "df_train.describe()"
   ]
  },
  {
   "cell_type": "code",
   "execution_count": 28,
   "id": "julian-plate",
   "metadata": {},
   "outputs": [
    {
     "data": {
      "text/plain": [
       "(627, 9)"
      ]
     },
     "execution_count": 28,
     "metadata": {},
     "output_type": "execute_result"
    }
   ],
   "source": [
    "df_train.shape"
   ]
  },
  {
   "cell_type": "code",
   "execution_count": 29,
   "id": "electoral-butterfly",
   "metadata": {},
   "outputs": [
    {
     "data": {
      "text/plain": [
       "(627,)"
      ]
     },
     "execution_count": 29,
     "metadata": {},
     "output_type": "execute_result"
    }
   ],
   "source": [
    "y_train.shape"
   ]
  },
  {
   "cell_type": "code",
   "execution_count": 30,
   "id": "offensive-behavior",
   "metadata": {},
   "outputs": [
    {
     "data": {
      "image/png": "[encoded data removed]",
      "text/plain": [
       "<Figure size 432x288 with 1 Axes>"
      ]
     },
     "metadata": {
      "needs_background": "light"
     },
     "output_type": "display_data"
    }
   ],
   "source": [
    "df_train['age'].hist(bins=20);"
   ]
  },
  {
   "cell_type": "code",
   "execution_count": 31,
   "id": "sexual-overview",
   "metadata": {},
   "outputs": [
    {
     "data": {
      "image/png": "[encoded data removed]",
      "text/plain": [
       "<Figure size 432x288 with 1 Axes>"
      ]
     },
     "metadata": {
      "needs_background": "light"
     },
     "output_type": "display_data"
    }
   ],
   "source": [
    "sns.histplot(data=df_train, x='age');"
   ]
  },
  {
   "cell_type": "code",
   "execution_count": 32,
   "id": "continuous-detection",
   "metadata": {},
   "outputs": [
    {
     "data": {
      "image/png": "[encoded data removed]",
      "text/plain": [
       "<Figure size 432x288 with 1 Axes>"
      ]
     },
     "metadata": {
      "needs_background": "light"
     },
     "output_type": "display_data"
    }
   ],
   "source": [
    "sns.countplot(data=df_train, x='sex');"
   ]
  },
  {
   "cell_type": "code",
   "execution_count": 33,
   "id": "banner-flood",
   "metadata": {},
   "outputs": [
    {
     "data": {
      "image/png": "[encoded data removed]",
      "text/plain": [
       "<Figure size 432x288 with 1 Axes>"
      ]
     },
     "metadata": {
      "needs_background": "light"
     },
     "output_type": "display_data"
    }
   ],
   "source": [
    "# check the survival rate by sex\n",
    "sns.countplot(data=pd.concat([df_train, y_train], axis=1), \n",
    "              hue='survived',\n",
    "              x='sex');"
   ]
  },
  {
   "cell_type": "code",
   "execution_count": 34,
   "id": "designing-taxation",
   "metadata": {},
   "outputs": [
    {
     "data": {
      "image/png": "[encoded data removed]",
      "text/plain": [
       "<Figure size 432x288 with 1 Axes>"
      ]
     },
     "metadata": {
      "needs_background": "light"
     },
     "output_type": "display_data"
    }
   ],
   "source": [
    "pd.concat([df_train, y_train], axis=1).groupby('sex').survived.mean().plot(kind='barh').set_xlabel('% survive');"
   ]
  },
  {
   "cell_type": "code",
   "execution_count": 35,
   "id": "theoretical-broadcasting",
   "metadata": {},
   "outputs": [
    {
     "data": {
      "image/png": "[encoded data removed]",
      "text/plain": [
       "<Figure size 432x288 with 1 Axes>"
      ]
     },
     "metadata": {
      "needs_background": "light"
     },
     "output_type": "display_data"
    }
   ],
   "source": [
    "sns.countplot(data=pd.concat([df_train, y_train], axis=1), \n",
    "              hue='class',\n",
    "              x='survived');"
   ]
  },
  {
   "cell_type": "markdown",
   "id": "satellite-constitutional",
   "metadata": {},
   "source": [
    "**Handle Categorical Data**"
   ]
  },
  {
   "cell_type": "code",
   "execution_count": 36,
   "id": "higher-pakistan",
   "metadata": {},
   "outputs": [
    {
     "name": "stdout",
     "output_type": "stream",
     "text": [
      "<class 'pandas.core.frame.DataFrame'>\n",
      "RangeIndex: 627 entries, 0 to 626\n",
      "Data columns (total 9 columns):\n",
      " #   Column              Non-Null Count  Dtype  \n",
      "---  ------              --------------  -----  \n",
      " 0   sex                 627 non-null    object \n",
      " 1   age                 627 non-null    float64\n",
      " 2   n_siblings_spouses  627 non-null    int64  \n",
      " 3   parch               627 non-null    int64  \n",
      " 4   fare                627 non-null    float64\n",
      " 5   class               627 non-null    object \n",
      " 6   deck                627 non-null    object \n",
      " 7   embark_town         627 non-null    object \n",
      " 8   alone               627 non-null    object \n",
      "dtypes: float64(2), int64(2), object(5)\n",
      "memory usage: 44.2+ KB\n"
     ]
    }
   ],
   "source": [
    "df_train.info()"
   ]
  },
  {
   "cell_type": "code",
   "execution_count": 37,
   "id": "incredible-vienna",
   "metadata": {},
   "outputs": [
    {
     "data": {
      "text/plain": [
       "Index(['sex', 'age', 'n_siblings_spouses', 'parch', 'fare', 'class', 'deck',\n",
       "       'embark_town', 'alone'],\n",
       "      dtype='object')"
      ]
     },
     "execution_count": 37,
     "metadata": {},
     "output_type": "execute_result"
    }
   ],
   "source": [
    "df_train.columns"
   ]
  },
  {
   "cell_type": "code",
   "execution_count": 38,
   "id": "activated-collective",
   "metadata": {},
   "outputs": [],
   "source": [
    "# categorical feature labels\n",
    "cat_cols = ['sex', \n",
    "            'n_siblings_spouses', \n",
    "            'parch', \n",
    "            'class', \n",
    "            'deck',\n",
    "            'embark_town', \n",
    "            'alone']\n",
    "\n",
    "# numerical feature labels\n",
    "num_cols = ['age', \n",
    "            'fare']"
   ]
  },
  {
   "cell_type": "code",
   "execution_count": 39,
   "id": "dependent-liberia",
   "metadata": {},
   "outputs": [],
   "source": [
    "# we need to create the feature columns for TF\n",
    "feature_columns = []\n",
    "for feature_name in cat_cols:\n",
    "    vocabulary = df_train[feature_name].unique()\n",
    "    feature_columns.append( tf.feature_column.categorical_column_with_vocabulary_list(feature_name, vocabulary ) )"
   ]
  },
  {
   "cell_type": "code",
   "execution_count": 40,
   "id": "dying-ceremony",
   "metadata": {},
   "outputs": [],
   "source": [
    "# now we do the same thing for the numerical data\n",
    "for feature_name in num_cols:\n",
    "    feature_columns.append( tf.feature_column.numeric_column(feature_name, dtype=tf.float32) )"
   ]
  },
  {
   "cell_type": "code",
   "execution_count": 41,
   "id": "excessive-maldives",
   "metadata": {},
   "outputs": [
    {
     "data": {
      "text/plain": [
       "[VocabularyListCategoricalColumn(key='sex', vocabulary_list=('male', 'female'), dtype=tf.string, default_value=-1, num_oov_buckets=0),\n",
       " VocabularyListCategoricalColumn(key='n_siblings_spouses', vocabulary_list=(1, 0, 3, 4, 2, 5, 8), dtype=tf.int64, default_value=-1, num_oov_buckets=0),\n",
       " VocabularyListCategoricalColumn(key='parch', vocabulary_list=(0, 1, 2, 5, 3, 4), dtype=tf.int64, default_value=-1, num_oov_buckets=0),\n",
       " VocabularyListCategoricalColumn(key='class', vocabulary_list=('Third', 'First', 'Second'), dtype=tf.string, default_value=-1, num_oov_buckets=0),\n",
       " VocabularyListCategoricalColumn(key='deck', vocabulary_list=('unknown', 'C', 'G', 'A', 'B', 'D', 'F', 'E'), dtype=tf.string, default_value=-1, num_oov_buckets=0),\n",
       " VocabularyListCategoricalColumn(key='embark_town', vocabulary_list=('Southampton', 'Cherbourg', 'Queenstown', 'unknown'), dtype=tf.string, default_value=-1, num_oov_buckets=0),\n",
       " VocabularyListCategoricalColumn(key='alone', vocabulary_list=('n', 'y'), dtype=tf.string, default_value=-1, num_oov_buckets=0),\n",
       " NumericColumn(key='age', shape=(1,), default_value=None, dtype=tf.float32, normalizer_fn=None),\n",
       " NumericColumn(key='fare', shape=(1,), default_value=None, dtype=tf.float32, normalizer_fn=None)]"
      ]
     },
     "execution_count": 41,
     "metadata": {},
     "output_type": "execute_result"
    }
   ],
   "source": [
    "# check our feature columns\n",
    "feature_columns"
   ]
  },
  {
   "cell_type": "markdown",
   "id": "sought-sweden",
   "metadata": {},
   "source": [
    "### The Training Process\n",
    "* We choose a small batch size of 32\n",
    "* Epoch: one stram of the entire data set (if there are 10, then model will see the same data set 10 times)"
   ]
  },
  {
   "cell_type": "markdown",
   "id": "enclosed-distributor",
   "metadata": {},
   "source": [
    "### Input Function\n",
    "\n",
    "We need to take our Pandas DataFrame structure and make it usable by TF: so, we will create a version of our data that is of type tf.data.Dataset for training and testing. To do this, we will create an Input Function to convert our current data into this format."
   ]
  },
  {
   "cell_type": "code",
   "execution_count": 42,
   "id": "adapted-birth",
   "metadata": {},
   "outputs": [],
   "source": [
    "def make_input_fn(data_df, label_df, num_epochs=10, shuffle=True, batch_size=32):\n",
    "    # this inner function will be returned\n",
    "    def input_function(): \n",
    "        \n",
    "        # create the tf.data.Dataset object using our input X data and y labels\n",
    "        ds = tf.data.Dataset.from_tensor_slices((dict(data_df), label_df))\n",
    "        \n",
    "        # randomize the order of the data\n",
    "        if shuffle:\n",
    "            ds = ds.shuffle(1000)\n",
    "        \n",
    "        # split data set into batches of \"batch_size\" and repeat the process for \"num_epochs\" amount of times\n",
    "        ds = ds.batch(batch_size).repeat(num_epochs)\n",
    "        \n",
    "        # return a batch of the data set\n",
    "        return ds\n",
    "    #====================================\n",
    "    return input_function"
   ]
  },
  {
   "cell_type": "code",
   "execution_count": 43,
   "id": "applicable-jesus",
   "metadata": {},
   "outputs": [],
   "source": [
    "train_input_fn = make_input_fn(df_train, y_train)\n",
    "test_input_fn = make_input_fn(df_test, y_test, num_epochs=1, shuffle=False)"
   ]
  },
  {
   "cell_type": "markdown",
   "id": "quality-enforcement",
   "metadata": {},
   "source": [
    "### Creating the Model"
   ]
  },
  {
   "cell_type": "code",
   "execution_count": 44,
   "id": "organizational-formula",
   "metadata": {},
   "outputs": [
    {
     "name": "stdout",
     "output_type": "stream",
     "text": [
      "INFO:tensorflow:Using default config.\n",
      "WARNING:tensorflow:Using temporary folder as model directory: C:\\Users\\pbeata\\AppData\\Local\\Temp\\tmpc29r4w1e\n",
      "INFO:tensorflow:Using config: {'_model_dir': 'C:\\\\Users\\\\pbeata\\\\AppData\\\\Local\\\\Temp\\\\tmpc29r4w1e', '_tf_random_seed': None, '_save_summary_steps': 100, '_save_checkpoints_steps': None, '_save_checkpoints_secs': 600, '_session_config': allow_soft_placement: true\n",
      "graph_options {\n",
      "  rewrite_options {\n",
      "    meta_optimizer_iterations: ONE\n",
      "  }\n",
      "}\n",
      ", '_keep_checkpoint_max': 5, '_keep_checkpoint_every_n_hours': 10000, '_log_step_count_steps': 100, '_train_distribute': None, '_device_fn': None, '_protocol': None, '_eval_distribute': None, '_experimental_distribute': None, '_experimental_max_worker_delay_secs': None, '_session_creation_timeout_secs': 7200, '_checkpoint_save_graph_def': True, '_service': None, '_cluster_spec': ClusterSpec({}), '_task_type': 'worker', '_task_id': 0, '_global_id_in_cluster': 0, '_master': '', '_evaluation_master': '', '_is_chief': True, '_num_ps_replicas': 0, '_num_worker_replicas': 1}\n"
     ]
    }
   ],
   "source": [
    "# create the linear classifier model\n",
    "linear_est = tf.estimator.LinearClassifier(feature_columns=feature_columns)"
   ]
  },
  {
   "cell_type": "code",
   "execution_count": 45,
   "id": "working-vinyl",
   "metadata": {},
   "outputs": [
    {
     "name": "stdout",
     "output_type": "stream",
     "text": [
      "0.7537879\n"
     ]
    }
   ],
   "source": [
    "# training\n",
    "linear_est.train(train_input_fn)\n",
    "\n",
    "# testing: get model metrics and stats by using the test data now\n",
    "result = linear_est.evaluate(test_input_fn)\n",
    "\n",
    "# clear console output\n",
    "clear_output()\n",
    "\n",
    "# the results variable is now just a dict with stats about our model\n",
    "print(result['accuracy'])"
   ]
  },
  {
   "cell_type": "code",
   "execution_count": 46,
   "id": "light-vertex",
   "metadata": {},
   "outputs": [
    {
     "name": "stdout",
     "output_type": "stream",
     "text": [
      "INFO:tensorflow:Calling model_fn.\n",
      "INFO:tensorflow:Done calling model_fn.\n",
      "INFO:tensorflow:Graph was finalized.\n",
      "INFO:tensorflow:Restoring parameters from C:\\Users\\pbeata\\AppData\\Local\\Temp\\tmpc29r4w1e\\model.ckpt-200\n",
      "INFO:tensorflow:Running local_init_op.\n",
      "INFO:tensorflow:Done running local_init_op.\n",
      "[{'logits': array([-2.8722997], dtype=float32), 'logistic': array([0.05354005], dtype=float32), 'probabilities': array([0.94645995, 0.05354   ], dtype=float32), 'class_ids': array([0], dtype=int64), 'classes': array([b'0'], dtype=object), 'all_class_ids': array([0, 1]), 'all_classes': array([b'0', b'1'], dtype=object)}, {'logits': array([-2.146079], dtype=float32), 'logistic': array([0.10469818], dtype=float32), 'probabilities': array([0.89530176, 0.10469818], dtype=float32), 'class_ids': array([0], dtype=int64), 'classes': array([b'0'], dtype=object), 'all_class_ids': array([0, 1]), 'all_classes': array([b'0', b'1'], dtype=object)}, {'logits': array([-0.16976243], dtype=float32), 'logistic': array([0.45766103], dtype=float32), 'probabilities': array([0.54233897, 0.45766103], dtype=float32), 'class_ids': array([0], dtype=int64), 'classes': array([b'0'], dtype=object), 'all_class_ids': array([0, 1]), 'all_classes': array([b'0', b'1'], dtype=object)}, {'logits': array([-0.11703617], dtype=float32), 'logistic': array([0.47077432], dtype=float32), 'probabilities': array([0.52922565, 0.47077426], dtype=float32), 'class_ids': array([0], dtype=int64), 'classes': array([b'0'], dtype=object), 'all_class_ids': array([0, 1]), 'all_classes': array([b'0', b'1'], dtype=object)}, {'logits': array([-1.534744], dtype=float32), 'logistic': array([0.1773006], dtype=float32), 'probabilities': array([0.82269937, 0.17730063], dtype=float32), 'class_ids': array([0], dtype=int64), 'classes': array([b'0'], dtype=object), 'all_class_ids': array([0, 1]), 'all_classes': array([b'0', b'1'], dtype=object)}, {'logits': array([0.7503619], dtype=float32), 'logistic': array([0.6792575], dtype=float32), 'probabilities': array([0.32074246, 0.6792576 ], dtype=float32), 'class_ids': array([1], dtype=int64), 'classes': array([b'1'], dtype=object), 'all_class_ids': array([0, 1]), 'all_classes': array([b'0', b'1'], dtype=object)}, {'logits': array([-0.40459377], dtype=float32), 'logistic': array([0.40020916], dtype=float32), 'probabilities': array([0.5997909 , 0.40020916], dtype=float32), 'class_ids': array([0], dtype=int64), 'classes': array([b'0'], dtype=object), 'all_class_ids': array([0, 1]), 'all_classes': array([b'0', b'1'], dtype=object)}, {'logits': array([-2.4445376], dtype=float32), 'logistic': array([0.07983893], dtype=float32), 'probabilities': array([0.92016107, 0.07983892], dtype=float32), 'class_ids': array([0], dtype=int64), 'classes': array([b'0'], dtype=object), 'all_class_ids': array([0, 1]), 'all_classes': array([b'0', b'1'], dtype=object)}, {'logits': array([-0.17823952], dtype=float32), 'logistic': array([0.4555577], dtype=float32), 'probabilities': array([0.5444423 , 0.45555773], dtype=float32), 'class_ids': array([0], dtype=int64), 'classes': array([b'0'], dtype=object), 'all_class_ids': array([0, 1]), 'all_classes': array([b'0', b'1'], dtype=object)}, {'logits': array([0.6307242], dtype=float32), 'logistic': array([0.65265363], dtype=float32), 'probabilities': array([0.34734634, 0.65265363], dtype=float32), 'class_ids': array([1], dtype=int64), 'classes': array([b'1'], dtype=object), 'all_class_ids': array([0, 1]), 'all_classes': array([b'0', b'1'], dtype=object)}, {'logits': array([0.35795647], dtype=float32), 'logistic': array([0.5885457], dtype=float32), 'probabilities': array([0.41145432, 0.5885457 ], dtype=float32), 'class_ids': array([1], dtype=int64), 'classes': array([b'1'], dtype=object), 'all_class_ids': array([0, 1]), 'all_classes': array([b'0', b'1'], dtype=object)}, {'logits': array([-2.4402375], dtype=float32), 'logistic': array([0.08015543], dtype=float32), 'probabilities': array([0.91984457, 0.08015539], dtype=float32), 'class_ids': array([0], dtype=int64), 'classes': array([b'0'], dtype=object), 'all_class_ids': array([0, 1]), 'all_classes': array([b'0', b'1'], dtype=object)}, {'logits': array([0.9166157], dtype=float32), 'logistic': array([0.714352], dtype=float32), 'probabilities': array([0.28564796, 0.714352  ], dtype=float32), 'class_ids': array([1], dtype=int64), 'classes': array([b'1'], dtype=object), 'all_class_ids': array([0, 1]), 'all_classes': array([b'0', b'1'], dtype=object)}, {'logits': array([-1.3785206], dtype=float32), 'logistic': array([0.20124671], dtype=float32), 'probabilities': array([0.7987533 , 0.20124671], dtype=float32), 'class_ids': array([0], dtype=int64), 'classes': array([b'0'], dtype=object), 'all_class_ids': array([0, 1]), 'all_classes': array([b'0', b'1'], dtype=object)}, {'logits': array([1.1459461], dtype=float32), 'logistic': array([0.75876963], dtype=float32), 'probabilities': array([0.24123032, 0.7587697 ], dtype=float32), 'class_ids': array([1], dtype=int64), 'classes': array([b'1'], dtype=object), 'all_class_ids': array([0, 1]), 'all_classes': array([b'0', b'1'], dtype=object)}, {'logits': array([-1.0854671], dtype=float32), 'logistic': array([0.25247282], dtype=float32), 'probabilities': array([0.7475272 , 0.25247282], dtype=float32), 'class_ids': array([0], dtype=int64), 'classes': array([b'0'], dtype=object), 'all_class_ids': array([0, 1]), 'all_classes': array([b'0', b'1'], dtype=object)}, {'logits': array([-2.2645183], dtype=float32), 'logistic': array([0.09410447], dtype=float32), 'probabilities': array([0.90589553, 0.09410448], dtype=float32), 'class_ids': array([0], dtype=int64), 'classes': array([b'0'], dtype=object), 'all_class_ids': array([0, 1]), 'all_classes': array([b'0', b'1'], dtype=object)}, {'logits': array([1.1386284], dtype=float32), 'logistic': array([0.7574277], dtype=float32), 'probabilities': array([0.24257228, 0.7574277 ], dtype=float32), 'class_ids': array([1], dtype=int64), 'classes': array([b'1'], dtype=object), 'all_class_ids': array([0, 1]), 'all_classes': array([b'0', b'1'], dtype=object)}, {'logits': array([-1.1877587], dtype=float32), 'logistic': array([0.23366001], dtype=float32), 'probabilities': array([0.76633996, 0.23366004], dtype=float32), 'class_ids': array([0], dtype=int64), 'classes': array([b'0'], dtype=object), 'all_class_ids': array([0, 1]), 'all_classes': array([b'0', b'1'], dtype=object)}, {'logits': array([-2.688973], dtype=float32), 'logistic': array([0.06362715], dtype=float32), 'probabilities': array([0.9363728 , 0.06362718], dtype=float32), 'class_ids': array([0], dtype=int64), 'classes': array([b'0'], dtype=object), 'all_class_ids': array([0, 1]), 'all_classes': array([b'0', b'1'], dtype=object)}, {'logits': array([-2.4106154], dtype=float32), 'logistic': array([0.08236673], dtype=float32), 'probabilities': array([0.9176332 , 0.08236679], dtype=float32), 'class_ids': array([0], dtype=int64), 'classes': array([b'0'], dtype=object), 'all_class_ids': array([0, 1]), 'all_classes': array([b'0', b'1'], dtype=object)}, {'logits': array([-3.104709], dtype=float32), 'logistic': array([0.04291341], dtype=float32), 'probabilities': array([0.95708656, 0.04291343], dtype=float32), 'class_ids': array([0], dtype=int64), 'classes': array([b'0'], dtype=object), 'all_class_ids': array([0, 1]), 'all_classes': array([b'0', b'1'], dtype=object)}, {'logits': array([0.26124185], dtype=float32), 'logistic': array([0.5649415], dtype=float32), 'probabilities': array([0.43505844, 0.5649415 ], dtype=float32), 'class_ids': array([1], dtype=int64), 'classes': array([b'1'], dtype=object), 'all_class_ids': array([0, 1]), 'all_classes': array([b'0', b'1'], dtype=object)}, {'logits': array([-2.9613109], dtype=float32), 'logistic': array([0.04920462], dtype=float32), 'probabilities': array([0.95079535, 0.04920464], dtype=float32), 'class_ids': array([0], dtype=int64), 'classes': array([b'0'], dtype=object), 'all_class_ids': array([0, 1]), 'all_classes': array([b'0', b'1'], dtype=object)}, {'logits': array([0.20225674], dtype=float32), 'logistic': array([0.5503925], dtype=float32), 'probabilities': array([0.4496075, 0.5503925], dtype=float32), 'class_ids': array([1], dtype=int64), 'classes': array([b'1'], dtype=object), 'all_class_ids': array([0, 1]), 'all_classes': array([b'0', b'1'], dtype=object)}, {'logits': array([-0.55150384], dtype=float32), 'logistic': array([0.3655156], dtype=float32), 'probabilities': array([0.6344844 , 0.36551556], dtype=float32), 'class_ids': array([0], dtype=int64), 'classes': array([b'0'], dtype=object), 'all_class_ids': array([0, 1]), 'all_classes': array([b'0', b'1'], dtype=object)}, {'logits': array([-3.1191764], dtype=float32), 'logistic': array([0.04232317], dtype=float32), 'probabilities': array([0.9576769 , 0.04232314], dtype=float32), 'class_ids': array([0], dtype=int64), 'classes': array([b'0'], dtype=object), 'all_class_ids': array([0, 1]), 'all_classes': array([b'0', b'1'], dtype=object)}, {'logits': array([-3.0162911], dtype=float32), 'logistic': array([0.04669532], dtype=float32), 'probabilities': array([0.95330477, 0.0466953 ], dtype=float32), 'class_ids': array([0], dtype=int64), 'classes': array([b'0'], dtype=object), 'all_class_ids': array([0, 1]), 'all_classes': array([b'0', b'1'], dtype=object)}, {'logits': array([-1.7815033], dtype=float32), 'logistic': array([0.14411762], dtype=float32), 'probabilities': array([0.8558824 , 0.14411761], dtype=float32), 'class_ids': array([0], dtype=int64), 'classes': array([b'0'], dtype=object), 'all_class_ids': array([0, 1]), 'all_classes': array([b'0', b'1'], dtype=object)}, {'logits': array([0.7204692], dtype=float32), 'logistic': array([0.6727103], dtype=float32), 'probabilities': array([0.32728967, 0.67271036], dtype=float32), 'class_ids': array([1], dtype=int64), 'classes': array([b'1'], dtype=object), 'all_class_ids': array([0, 1]), 'all_classes': array([b'0', b'1'], dtype=object)}, {'logits': array([-2.3134682], dtype=float32), 'logistic': array([0.09001368], dtype=float32), 'probabilities': array([0.9099863 , 0.09001365], dtype=float32), 'class_ids': array([0], dtype=int64), 'classes': array([b'0'], dtype=object), 'all_class_ids': array([0, 1]), 'all_classes': array([b'0', b'1'], dtype=object)}, {'logits': array([0.453255], dtype=float32), 'logistic': array([0.6114129], dtype=float32), 'probabilities': array([0.38858715, 0.6114129 ], dtype=float32), 'class_ids': array([1], dtype=int64), 'classes': array([b'1'], dtype=object), 'all_class_ids': array([0, 1]), 'all_classes': array([b'0', b'1'], dtype=object)}, {'logits': array([-1.847705], dtype=float32), 'logistic': array([0.13614258], dtype=float32), 'probabilities': array([0.8638574 , 0.13614257], dtype=float32), 'class_ids': array([0], dtype=int64), 'classes': array([b'0'], dtype=object), 'all_class_ids': array([0, 1]), 'all_classes': array([b'0', b'1'], dtype=object)}, {'logits': array([-0.02358658], dtype=float32), 'logistic': array([0.49410364], dtype=float32), 'probabilities': array([0.5058964 , 0.49410364], dtype=float32), 'class_ids': array([0], dtype=int64), 'classes': array([b'0'], dtype=object), 'all_class_ids': array([0, 1]), 'all_classes': array([b'0', b'1'], dtype=object)}, {'logits': array([-2.0158222], dtype=float32), 'logistic': array([0.11755165], dtype=float32), 'probabilities': array([0.88244826, 0.11755167], dtype=float32), 'class_ids': array([0], dtype=int64), 'classes': array([b'0'], dtype=object), 'all_class_ids': array([0, 1]), 'all_classes': array([b'0', b'1'], dtype=object)}, {'logits': array([-2.6234918], dtype=float32), 'logistic': array([0.06764174], dtype=float32), 'probabilities': array([0.93235826, 0.06764175], dtype=float32), 'class_ids': array([0], dtype=int64), 'classes': array([b'0'], dtype=object), 'all_class_ids': array([0, 1]), 'all_classes': array([b'0', b'1'], dtype=object)}, {'logits': array([-2.481442], dtype=float32), 'logistic': array([0.07716942], dtype=float32), 'probabilities': array([0.9228305 , 0.07716945], dtype=float32), 'class_ids': array([0], dtype=int64), 'classes': array([b'0'], dtype=object), 'all_class_ids': array([0, 1]), 'all_classes': array([b'0', b'1'], dtype=object)}, {'logits': array([-2.3671303], dtype=float32), 'logistic': array([0.08571377], dtype=float32), 'probabilities': array([0.9142862 , 0.08571376], dtype=float32), 'class_ids': array([0], dtype=int64), 'classes': array([b'0'], dtype=object), 'all_class_ids': array([0, 1]), 'all_classes': array([b'0', b'1'], dtype=object)}, {'logits': array([0.18923444], dtype=float32), 'logistic': array([0.54716796], dtype=float32), 'probabilities': array([0.4528321 , 0.54716796], dtype=float32), 'class_ids': array([1], dtype=int64), 'classes': array([b'1'], dtype=object), 'all_class_ids': array([0, 1]), 'all_classes': array([b'0', b'1'], dtype=object)}, {'logits': array([-2.7195272], dtype=float32), 'logistic': array([0.06183091], dtype=float32), 'probabilities': array([0.9381691 , 0.06183089], dtype=float32), 'class_ids': array([0], dtype=int64), 'classes': array([b'0'], dtype=object), 'all_class_ids': array([0, 1]), 'all_classes': array([b'0', b'1'], dtype=object)}, {'logits': array([0.34558004], dtype=float32), 'logistic': array([0.58554536], dtype=float32), 'probabilities': array([0.41445467, 0.58554536], dtype=float32), 'class_ids': array([1], dtype=int64), 'classes': array([b'1'], dtype=object), 'all_class_ids': array([0, 1]), 'all_classes': array([b'0', b'1'], dtype=object)}, {'logits': array([-2.7251868], dtype=float32), 'logistic': array([0.06150338], dtype=float32), 'probabilities': array([0.9384966, 0.0615034], dtype=float32), 'class_ids': array([0], dtype=int64), 'classes': array([b'0'], dtype=object), 'all_class_ids': array([0, 1]), 'all_classes': array([b'0', b'1'], dtype=object)}, {'logits': array([-1.1999257], dtype=float32), 'logistic': array([0.23148844], dtype=float32), 'probabilities': array([0.76851153, 0.23148844], dtype=float32), 'class_ids': array([0], dtype=int64), 'classes': array([b'0'], dtype=object), 'all_class_ids': array([0, 1]), 'all_classes': array([b'0', b'1'], dtype=object)}, {'logits': array([-1.8427047], dtype=float32), 'logistic': array([0.13673171], dtype=float32), 'probabilities': array([0.86326826, 0.13673173], dtype=float32), 'class_ids': array([0], dtype=int64), 'classes': array([b'0'], dtype=object), 'all_class_ids': array([0, 1]), 'all_classes': array([b'0', b'1'], dtype=object)}, {'logits': array([-2.478221], dtype=float32), 'logistic': array([0.07739913], dtype=float32), 'probabilities': array([0.92260087, 0.07739915], dtype=float32), 'class_ids': array([0], dtype=int64), 'classes': array([b'0'], dtype=object), 'all_class_ids': array([0, 1]), 'all_classes': array([b'0', b'1'], dtype=object)}, {'logits': array([0.86945945], dtype=float32), 'logistic': array([0.70463324], dtype=float32), 'probabilities': array([0.2953668 , 0.70463324], dtype=float32), 'class_ids': array([1], dtype=int64), 'classes': array([b'1'], dtype=object), 'all_class_ids': array([0, 1]), 'all_classes': array([b'0', b'1'], dtype=object)}, {'logits': array([-2.4423876], dtype=float32), 'logistic': array([0.079997], dtype=float32), 'probabilities': array([0.92000294, 0.07999702], dtype=float32), 'class_ids': array([0], dtype=int64), 'classes': array([b'0'], dtype=object), 'all_class_ids': array([0, 1]), 'all_classes': array([b'0', b'1'], dtype=object)}, {'logits': array([-1.8655993], dtype=float32), 'logistic': array([0.13405174], dtype=float32), 'probabilities': array([0.86594826, 0.13405174], dtype=float32), 'class_ids': array([0], dtype=int64), 'classes': array([b'0'], dtype=object), 'all_class_ids': array([0, 1]), 'all_classes': array([b'0', b'1'], dtype=object)}, {'logits': array([-1.4315706], dtype=float32), 'logistic': array([0.1928541], dtype=float32), 'probabilities': array([0.80714595, 0.19285409], dtype=float32), 'class_ids': array([0], dtype=int64), 'classes': array([b'0'], dtype=object), 'all_class_ids': array([0, 1]), 'all_classes': array([b'0', b'1'], dtype=object)}, {'logits': array([-1.837164], dtype=float32), 'logistic': array([0.13738707], dtype=float32), 'probabilities': array([0.86261296, 0.13738705], dtype=float32), 'class_ids': array([0], dtype=int64), 'classes': array([b'0'], dtype=object), 'all_class_ids': array([0, 1]), 'all_classes': array([b'0', b'1'], dtype=object)}, {'logits': array([-2.7838516], dtype=float32), 'logistic': array([0.05820304], dtype=float32), 'probabilities': array([0.94179696, 0.05820307], dtype=float32), 'class_ids': array([0], dtype=int64), 'classes': array([b'0'], dtype=object), 'all_class_ids': array([0, 1]), 'all_classes': array([b'0', b'1'], dtype=object)}, {'logits': array([-1.6643785], dtype=float32), 'logistic': array([0.1591751], dtype=float32), 'probabilities': array([0.8408249 , 0.15917511], dtype=float32), 'class_ids': array([0], dtype=int64), 'classes': array([b'0'], dtype=object), 'all_class_ids': array([0, 1]), 'all_classes': array([b'0', b'1'], dtype=object)}, {'logits': array([-3.1759968], dtype=float32), 'logistic': array([0.04007903], dtype=float32), 'probabilities': array([0.95992094, 0.04007906], dtype=float32), 'class_ids': array([0], dtype=int64), 'classes': array([b'0'], dtype=object), 'all_class_ids': array([0, 1]), 'all_classes': array([b'0', b'1'], dtype=object)}, {'logits': array([-2.6838613], dtype=float32), 'logistic': array([0.06393239], dtype=float32), 'probabilities': array([0.9360676, 0.0639324], dtype=float32), 'class_ids': array([0], dtype=int64), 'classes': array([b'0'], dtype=object), 'all_class_ids': array([0, 1]), 'all_classes': array([b'0', b'1'], dtype=object)}, {'logits': array([-2.3528743], dtype=float32), 'logistic': array([0.08683759], dtype=float32), 'probabilities': array([0.91316247, 0.08683759], dtype=float32), 'class_ids': array([0], dtype=int64), 'classes': array([b'0'], dtype=object), 'all_class_ids': array([0, 1]), 'all_classes': array([b'0', b'1'], dtype=object)}, {'logits': array([-2.5190015], dtype=float32), 'logistic': array([0.0745368], dtype=float32), 'probabilities': array([0.92546326, 0.0745368 ], dtype=float32), 'class_ids': array([0], dtype=int64), 'classes': array([b'0'], dtype=object), 'all_class_ids': array([0, 1]), 'all_classes': array([b'0', b'1'], dtype=object)}, {'logits': array([-2.000477], dtype=float32), 'logistic': array([0.11915281], dtype=float32), 'probabilities': array([0.88084716, 0.11915284], dtype=float32), 'class_ids': array([0], dtype=int64), 'classes': array([b'0'], dtype=object), 'all_class_ids': array([0, 1]), 'all_classes': array([b'0', b'1'], dtype=object)}, {'logits': array([0.950727], dtype=float32), 'logistic': array([0.7212613], dtype=float32), 'probabilities': array([0.27873865, 0.7212614 ], dtype=float32), 'class_ids': array([1], dtype=int64), 'classes': array([b'1'], dtype=object), 'all_class_ids': array([0, 1]), 'all_classes': array([b'0', b'1'], dtype=object)}, {'logits': array([-1.9088138], dtype=float32), 'logistic': array([0.12911418], dtype=float32), 'probabilities': array([0.8708858 , 0.12911417], dtype=float32), 'class_ids': array([0], dtype=int64), 'classes': array([b'0'], dtype=object), 'all_class_ids': array([0, 1]), 'all_classes': array([b'0', b'1'], dtype=object)}, {'logits': array([-2.6557665], dtype=float32), 'logistic': array([0.06563446], dtype=float32), 'probabilities': array([0.93436545, 0.06563448], dtype=float32), 'class_ids': array([0], dtype=int64), 'classes': array([b'0'], dtype=object), 'all_class_ids': array([0, 1]), 'all_classes': array([b'0', b'1'], dtype=object)}, {'logits': array([-3.4009993], dtype=float32), 'logistic': array([0.03226426], dtype=float32), 'probabilities': array([0.9677357 , 0.03226425], dtype=float32), 'class_ids': array([0], dtype=int64), 'classes': array([b'0'], dtype=object), 'all_class_ids': array([0, 1]), 'all_classes': array([b'0', b'1'], dtype=object)}, {'logits': array([-0.6451022], dtype=float32), 'logistic': array([0.3440941], dtype=float32), 'probabilities': array([0.65590596, 0.3440941 ], dtype=float32), 'class_ids': array([0], dtype=int64), 'classes': array([b'0'], dtype=object), 'all_class_ids': array([0, 1]), 'all_classes': array([b'0', b'1'], dtype=object)}, {'logits': array([-1.7741524], dtype=float32), 'logistic': array([0.14502668], dtype=float32), 'probabilities': array([0.85497326, 0.14502668], dtype=float32), 'class_ids': array([0], dtype=int64), 'classes': array([b'0'], dtype=object), 'all_class_ids': array([0, 1]), 'all_classes': array([b'0', b'1'], dtype=object)}, {'logits': array([0.709988], dtype=float32), 'logistic': array([0.6703985], dtype=float32), 'probabilities': array([0.3296015 , 0.67039853], dtype=float32), 'class_ids': array([1], dtype=int64), 'classes': array([b'1'], dtype=object), 'all_class_ids': array([0, 1]), 'all_classes': array([b'0', b'1'], dtype=object)}, {'logits': array([-1.9269246], dtype=float32), 'logistic': array([0.12709138], dtype=float32), 'probabilities': array([0.8729086 , 0.12709138], dtype=float32), 'class_ids': array([0], dtype=int64), 'classes': array([b'0'], dtype=object), 'all_class_ids': array([0, 1]), 'all_classes': array([b'0', b'1'], dtype=object)}, {'logits': array([0.13687426], dtype=float32), 'logistic': array([0.53416526], dtype=float32), 'probabilities': array([0.46583477, 0.53416526], dtype=float32), 'class_ids': array([1], dtype=int64), 'classes': array([b'1'], dtype=object), 'all_class_ids': array([0, 1]), 'all_classes': array([b'0', b'1'], dtype=object)}, {'logits': array([-1.9307076], dtype=float32), 'logistic': array([0.1266723], dtype=float32), 'probabilities': array([0.87332773, 0.12667228], dtype=float32), 'class_ids': array([0], dtype=int64), 'classes': array([b'0'], dtype=object), 'all_class_ids': array([0, 1]), 'all_classes': array([b'0', b'1'], dtype=object)}, {'logits': array([-3.0095053], dtype=float32), 'logistic': array([0.04699832], dtype=float32), 'probabilities': array([0.95300174, 0.0469983 ], dtype=float32), 'class_ids': array([0], dtype=int64), 'classes': array([b'0'], dtype=object), 'all_class_ids': array([0, 1]), 'all_classes': array([b'0', b'1'], dtype=object)}, {'logits': array([-2.99088], dtype=float32), 'logistic': array([0.04783958], dtype=float32), 'probabilities': array([0.95216036, 0.04783959], dtype=float32), 'class_ids': array([0], dtype=int64), 'classes': array([b'0'], dtype=object), 'all_class_ids': array([0, 1]), 'all_classes': array([b'0', b'1'], dtype=object)}, {'logits': array([-0.05150694], dtype=float32), 'logistic': array([0.4871261], dtype=float32), 'probabilities': array([0.5128739, 0.4871261], dtype=float32), 'class_ids': array([0], dtype=int64), 'classes': array([b'0'], dtype=object), 'all_class_ids': array([0, 1]), 'all_classes': array([b'0', b'1'], dtype=object)}, {'logits': array([0.25630385], dtype=float32), 'logistic': array([0.5637275], dtype=float32), 'probabilities': array([0.43627253, 0.5637275 ], dtype=float32), 'class_ids': array([1], dtype=int64), 'classes': array([b'1'], dtype=object), 'all_class_ids': array([0, 1]), 'all_classes': array([b'0', b'1'], dtype=object)}, {'logits': array([-2.5058565], dtype=float32), 'logistic': array([0.07544866], dtype=float32), 'probabilities': array([0.92455137, 0.07544864], dtype=float32), 'class_ids': array([0], dtype=int64), 'classes': array([b'0'], dtype=object), 'all_class_ids': array([0, 1]), 'all_classes': array([b'0', b'1'], dtype=object)}, {'logits': array([-3.4714572], dtype=float32), 'logistic': array([0.03013539], dtype=float32), 'probabilities': array([0.96986467, 0.03013536], dtype=float32), 'class_ids': array([0], dtype=int64), 'classes': array([b'0'], dtype=object), 'all_class_ids': array([0, 1]), 'all_classes': array([b'0', b'1'], dtype=object)}, {'logits': array([-2.3834286], dtype=float32), 'logistic': array([0.08444506], dtype=float32), 'probabilities': array([0.91555494, 0.08444512], dtype=float32), 'class_ids': array([0], dtype=int64), 'classes': array([b'0'], dtype=object), 'all_class_ids': array([0, 1]), 'all_classes': array([b'0', b'1'], dtype=object)}, {'logits': array([-2.326655], dtype=float32), 'logistic': array([0.08893934], dtype=float32), 'probabilities': array([0.91106063, 0.08893934], dtype=float32), 'class_ids': array([0], dtype=int64), 'classes': array([b'0'], dtype=object), 'all_class_ids': array([0, 1]), 'all_classes': array([b'0', b'1'], dtype=object)}, {'logits': array([-2.7444663], dtype=float32), 'logistic': array([0.06039992], dtype=float32), 'probabilities': array([0.9396    , 0.06039993], dtype=float32), 'class_ids': array([0], dtype=int64), 'classes': array([b'0'], dtype=object), 'all_class_ids': array([0, 1]), 'all_classes': array([b'0', b'1'], dtype=object)}, {'logits': array([-2.4724398], dtype=float32), 'logistic': array([0.07781294], dtype=float32), 'probabilities': array([0.92218703, 0.07781298], dtype=float32), 'class_ids': array([0], dtype=int64), 'classes': array([b'0'], dtype=object), 'all_class_ids': array([0, 1]), 'all_classes': array([b'0', b'1'], dtype=object)}, {'logits': array([-2.3671303], dtype=float32), 'logistic': array([0.08571377], dtype=float32), 'probabilities': array([0.9142862 , 0.08571376], dtype=float32), 'class_ids': array([0], dtype=int64), 'classes': array([b'0'], dtype=object), 'all_class_ids': array([0, 1]), 'all_classes': array([b'0', b'1'], dtype=object)}, {'logits': array([0.5412832], dtype=float32), 'logistic': array([0.63211083], dtype=float32), 'probabilities': array([0.3678891 , 0.63211083], dtype=float32), 'class_ids': array([1], dtype=int64), 'classes': array([b'1'], dtype=object), 'all_class_ids': array([0, 1]), 'all_classes': array([b'0', b'1'], dtype=object)}, {'logits': array([0.9565828], dtype=float32), 'logistic': array([0.7224371], dtype=float32), 'probabilities': array([0.2775629, 0.7224371], dtype=float32), 'class_ids': array([1], dtype=int64), 'classes': array([b'1'], dtype=object), 'all_class_ids': array([0, 1]), 'all_classes': array([b'0', b'1'], dtype=object)}, {'logits': array([0.14893931], dtype=float32), 'logistic': array([0.5371661], dtype=float32), 'probabilities': array([0.46283385, 0.5371662 ], dtype=float32), 'class_ids': array([1], dtype=int64), 'classes': array([b'1'], dtype=object), 'all_class_ids': array([0, 1]), 'all_classes': array([b'0', b'1'], dtype=object)}, {'logits': array([-1.3785206], dtype=float32), 'logistic': array([0.20124671], dtype=float32), 'probabilities': array([0.7987533 , 0.20124671], dtype=float32), 'class_ids': array([0], dtype=int64), 'classes': array([b'0'], dtype=object), 'all_class_ids': array([0, 1]), 'all_classes': array([b'0', b'1'], dtype=object)}, {'logits': array([-2.011736], dtype=float32), 'logistic': array([0.11797619], dtype=float32), 'probabilities': array([0.88202375, 0.11797622], dtype=float32), 'class_ids': array([0], dtype=int64), 'classes': array([b'0'], dtype=object), 'all_class_ids': array([0, 1]), 'all_classes': array([b'0', b'1'], dtype=object)}, {'logits': array([-0.9006035], dtype=float32), 'logistic': array([0.28892654], dtype=float32), 'probabilities': array([0.7110735, 0.2889265], dtype=float32), 'class_ids': array([0], dtype=int64), 'classes': array([b'0'], dtype=object), 'all_class_ids': array([0, 1]), 'all_classes': array([b'0', b'1'], dtype=object)}, {'logits': array([-2.9606643], dtype=float32), 'logistic': array([0.0492349], dtype=float32), 'probabilities': array([0.9507651, 0.0492349], dtype=float32), 'class_ids': array([0], dtype=int64), 'classes': array([b'0'], dtype=object), 'all_class_ids': array([0, 1]), 'all_classes': array([b'0', b'1'], dtype=object)}, {'logits': array([-3.5665045], dtype=float32), 'logistic': array([0.02747807], dtype=float32), 'probabilities': array([0.97252196, 0.02747807], dtype=float32), 'class_ids': array([0], dtype=int64), 'classes': array([b'0'], dtype=object), 'all_class_ids': array([0, 1]), 'all_classes': array([b'0', b'1'], dtype=object)}, {'logits': array([0.10495751], dtype=float32), 'logistic': array([0.5262153], dtype=float32), 'probabilities': array([0.4737847, 0.5262153], dtype=float32), 'class_ids': array([1], dtype=int64), 'classes': array([b'1'], dtype=object), 'all_class_ids': array([0, 1]), 'all_classes': array([b'0', b'1'], dtype=object)}, {'logits': array([-2.7509828], dtype=float32), 'logistic': array([0.06003112], dtype=float32), 'probabilities': array([0.9399688 , 0.06003117], dtype=float32), 'class_ids': array([0], dtype=int64), 'classes': array([b'0'], dtype=object), 'all_class_ids': array([0, 1]), 'all_classes': array([b'0', b'1'], dtype=object)}, {'logits': array([1.0219175], dtype=float32), 'logistic': array([0.73534596], dtype=float32), 'probabilities': array([0.26465407, 0.73534596], dtype=float32), 'class_ids': array([1], dtype=int64), 'classes': array([b'1'], dtype=object), 'all_class_ids': array([0, 1]), 'all_classes': array([b'0', b'1'], dtype=object)}, {'logits': array([1.1030467], dtype=float32), 'logistic': array([0.75083053], dtype=float32), 'probabilities': array([0.24916948, 0.75083053], dtype=float32), 'class_ids': array([1], dtype=int64), 'classes': array([b'1'], dtype=object), 'all_class_ids': array([0, 1]), 'all_classes': array([b'0', b'1'], dtype=object)}, {'logits': array([1.5859498], dtype=float32), 'logistic': array([0.8300455], dtype=float32), 'probabilities': array([0.1699545 , 0.83004546], dtype=float32), 'class_ids': array([1], dtype=int64), 'classes': array([b'1'], dtype=object), 'all_class_ids': array([0, 1]), 'all_classes': array([b'0', b'1'], dtype=object)}, {'logits': array([-2.5202703], dtype=float32), 'logistic': array([0.0744493], dtype=float32), 'probabilities': array([0.92555064, 0.07444931], dtype=float32), 'class_ids': array([0], dtype=int64), 'classes': array([b'0'], dtype=object), 'all_class_ids': array([0, 1]), 'all_classes': array([b'0', b'1'], dtype=object)}, {'logits': array([-2.81603], dtype=float32), 'logistic': array([0.05646405], dtype=float32), 'probabilities': array([0.9435359 , 0.05646406], dtype=float32), 'class_ids': array([0], dtype=int64), 'classes': array([b'0'], dtype=object), 'all_class_ids': array([0, 1]), 'all_classes': array([b'0', b'1'], dtype=object)}, {'logits': array([0.02379196], dtype=float32), 'logistic': array([0.5059477], dtype=float32), 'probabilities': array([0.4940523, 0.5059477], dtype=float32), 'class_ids': array([1], dtype=int64), 'classes': array([b'1'], dtype=object), 'all_class_ids': array([0, 1]), 'all_classes': array([b'0', b'1'], dtype=object)}, {'logits': array([-0.9375334], dtype=float32), 'logistic': array([0.2813989], dtype=float32), 'probabilities': array([0.71860117, 0.28139886], dtype=float32), 'class_ids': array([0], dtype=int64), 'classes': array([b'0'], dtype=object), 'all_class_ids': array([0, 1]), 'all_classes': array([b'0', b'1'], dtype=object)}, {'logits': array([-4.3788447], dtype=float32), 'logistic': array([0.01238453], dtype=float32), 'probabilities': array([0.98761547, 0.01238454], dtype=float32), 'class_ids': array([0], dtype=int64), 'classes': array([b'0'], dtype=object), 'all_class_ids': array([0, 1]), 'all_classes': array([b'0', b'1'], dtype=object)}, {'logits': array([-1.972533], dtype=float32), 'logistic': array([0.12211707], dtype=float32), 'probabilities': array([0.8778829 , 0.12211708], dtype=float32), 'class_ids': array([0], dtype=int64), 'classes': array([b'0'], dtype=object), 'all_class_ids': array([0, 1]), 'all_classes': array([b'0', b'1'], dtype=object)}, {'logits': array([-3.0967152], dtype=float32), 'logistic': array([0.04324293], dtype=float32), 'probabilities': array([0.95675707, 0.04324295], dtype=float32), 'class_ids': array([0], dtype=int64), 'classes': array([b'0'], dtype=object), 'all_class_ids': array([0, 1]), 'all_classes': array([b'0', b'1'], dtype=object)}, {'logits': array([-2.5258555], dtype=float32), 'logistic': array([0.07406536], dtype=float32), 'probabilities': array([0.92593455, 0.07406536], dtype=float32), 'class_ids': array([0], dtype=int64), 'classes': array([b'0'], dtype=object), 'all_class_ids': array([0, 1]), 'all_classes': array([b'0', b'1'], dtype=object)}, {'logits': array([-2.097363], dtype=float32), 'logistic': array([0.10935339], dtype=float32), 'probabilities': array([0.89064664, 0.10935339], dtype=float32), 'class_ids': array([0], dtype=int64), 'classes': array([b'0'], dtype=object), 'all_class_ids': array([0, 1]), 'all_classes': array([b'0', b'1'], dtype=object)}, {'logits': array([-2.7057679], dtype=float32), 'logistic': array([0.06263387], dtype=float32), 'probabilities': array([0.9373662 , 0.06263387], dtype=float32), 'class_ids': array([0], dtype=int64), 'classes': array([b'0'], dtype=object), 'all_class_ids': array([0, 1]), 'all_classes': array([b'0', b'1'], dtype=object)}, {'logits': array([-0.87862104], dtype=float32), 'logistic': array([0.29346365], dtype=float32), 'probabilities': array([0.7065364 , 0.29346362], dtype=float32), 'class_ids': array([0], dtype=int64), 'classes': array([b'0'], dtype=object), 'all_class_ids': array([0, 1]), 'all_classes': array([b'0', b'1'], dtype=object)}, {'logits': array([-3.0512123], dtype=float32), 'logistic': array([0.04516512], dtype=float32), 'probabilities': array([0.9548349 , 0.04516517], dtype=float32), 'class_ids': array([0], dtype=int64), 'classes': array([b'0'], dtype=object), 'all_class_ids': array([0, 1]), 'all_classes': array([b'0', b'1'], dtype=object)}, {'logits': array([-0.25182158], dtype=float32), 'logistic': array([0.4373752], dtype=float32), 'probabilities': array([0.5626248 , 0.43737522], dtype=float32), 'class_ids': array([0], dtype=int64), 'classes': array([b'0'], dtype=object), 'all_class_ids': array([0, 1]), 'all_classes': array([b'0', b'1'], dtype=object)}, {'logits': array([0.23756725], dtype=float32), 'logistic': array([0.55911404], dtype=float32), 'probabilities': array([0.44088596, 0.55911404], dtype=float32), 'class_ids': array([1], dtype=int64), 'classes': array([b'1'], dtype=object), 'all_class_ids': array([0, 1]), 'all_classes': array([b'0', b'1'], dtype=object)}, {'logits': array([-1.8494707], dtype=float32), 'logistic': array([0.13593501], dtype=float32), 'probabilities': array([0.864065  , 0.13593505], dtype=float32), 'class_ids': array([0], dtype=int64), 'classes': array([b'0'], dtype=object), 'all_class_ids': array([0, 1]), 'all_classes': array([b'0', b'1'], dtype=object)}, {'logits': array([0.795488], dtype=float32), 'logistic': array([0.6890085], dtype=float32), 'probabilities': array([0.3109915, 0.6890085], dtype=float32), 'class_ids': array([1], dtype=int64), 'classes': array([b'1'], dtype=object), 'all_class_ids': array([0, 1]), 'all_classes': array([b'0', b'1'], dtype=object)}, {'logits': array([0.14171165], dtype=float32), 'logistic': array([0.53536874], dtype=float32), 'probabilities': array([0.46463126, 0.53536874], dtype=float32), 'class_ids': array([1], dtype=int64), 'classes': array([b'1'], dtype=object), 'all_class_ids': array([0, 1]), 'all_classes': array([b'0', b'1'], dtype=object)}, {'logits': array([0.5150959], dtype=float32), 'logistic': array([0.6260003], dtype=float32), 'probabilities': array([0.37399966, 0.6260003 ], dtype=float32), 'class_ids': array([1], dtype=int64), 'classes': array([b'1'], dtype=object), 'all_class_ids': array([0, 1]), 'all_classes': array([b'0', b'1'], dtype=object)}, {'logits': array([-3.0094004], dtype=float32), 'logistic': array([0.04700297], dtype=float32), 'probabilities': array([0.95299697, 0.047003  ], dtype=float32), 'class_ids': array([0], dtype=int64), 'classes': array([b'0'], dtype=object), 'all_class_ids': array([0, 1]), 'all_classes': array([b'0', b'1'], dtype=object)}, {'logits': array([0.7655511], dtype=float32), 'logistic': array([0.6825577], dtype=float32), 'probabilities': array([0.3174423 , 0.68255776], dtype=float32), 'class_ids': array([1], dtype=int64), 'classes': array([b'1'], dtype=object), 'all_class_ids': array([0, 1]), 'all_classes': array([b'0', b'1'], dtype=object)}, {'logits': array([0.17170233], dtype=float32), 'logistic': array([0.54282045], dtype=float32), 'probabilities': array([0.45717958, 0.54282045], dtype=float32), 'class_ids': array([1], dtype=int64), 'classes': array([b'1'], dtype=object), 'all_class_ids': array([0, 1]), 'all_classes': array([b'0', b'1'], dtype=object)}, {'logits': array([0.27438194], dtype=float32), 'logistic': array([0.56816834], dtype=float32), 'probabilities': array([0.43183163, 0.56816834], dtype=float32), 'class_ids': array([1], dtype=int64), 'classes': array([b'1'], dtype=object), 'all_class_ids': array([0, 1]), 'all_classes': array([b'0', b'1'], dtype=object)}, {'logits': array([-3.356011], dtype=float32), 'logistic': array([0.03369889], dtype=float32), 'probabilities': array([0.96630114, 0.03369888], dtype=float32), 'class_ids': array([0], dtype=int64), 'classes': array([b'0'], dtype=object), 'all_class_ids': array([0, 1]), 'all_classes': array([b'0', b'1'], dtype=object)}, {'logits': array([-0.23701221], dtype=float32), 'logistic': array([0.44102278], dtype=float32), 'probabilities': array([0.55897725, 0.4410228 ], dtype=float32), 'class_ids': array([0], dtype=int64), 'classes': array([b'0'], dtype=object), 'all_class_ids': array([0, 1]), 'all_classes': array([b'0', b'1'], dtype=object)}, {'logits': array([-0.11918897], dtype=float32), 'logistic': array([0.470238], dtype=float32), 'probabilities': array([0.529762, 0.470238], dtype=float32), 'class_ids': array([0], dtype=int64), 'classes': array([b'0'], dtype=object), 'all_class_ids': array([0, 1]), 'all_classes': array([b'0', b'1'], dtype=object)}, {'logits': array([-2.6859632], dtype=float32), 'logistic': array([0.06380674], dtype=float32), 'probabilities': array([0.9361932 , 0.06380673], dtype=float32), 'class_ids': array([0], dtype=int64), 'classes': array([b'0'], dtype=object), 'all_class_ids': array([0, 1]), 'all_classes': array([b'0', b'1'], dtype=object)}, {'logits': array([-0.01169509], dtype=float32), 'logistic': array([0.49707627], dtype=float32), 'probabilities': array([0.5029237 , 0.49707624], dtype=float32), 'class_ids': array([0], dtype=int64), 'classes': array([b'0'], dtype=object), 'all_class_ids': array([0, 1]), 'all_classes': array([b'0', b'1'], dtype=object)}, {'logits': array([-2.644659], dtype=float32), 'logistic': array([0.06631896], dtype=float32), 'probabilities': array([0.9336811 , 0.06631896], dtype=float32), 'class_ids': array([0], dtype=int64), 'classes': array([b'0'], dtype=object), 'all_class_ids': array([0, 1]), 'all_classes': array([b'0', b'1'], dtype=object)}, {'logits': array([0.4838094], dtype=float32), 'logistic': array([0.618647], dtype=float32), 'probabilities': array([0.381353, 0.618647], dtype=float32), 'class_ids': array([1], dtype=int64), 'classes': array([b'1'], dtype=object), 'all_class_ids': array([0, 1]), 'all_classes': array([b'0', b'1'], dtype=object)}, {'logits': array([-0.7913882], dtype=float32), 'logistic': array([0.31187066], dtype=float32), 'probabilities': array([0.6881293 , 0.31187066], dtype=float32), 'class_ids': array([0], dtype=int64), 'classes': array([b'0'], dtype=object), 'all_class_ids': array([0, 1]), 'all_classes': array([b'0', b'1'], dtype=object)}, {'logits': array([-2.6141565], dtype=float32), 'logistic': array([0.06823286], dtype=float32), 'probabilities': array([0.9317671 , 0.06823287], dtype=float32), 'class_ids': array([0], dtype=int64), 'classes': array([b'0'], dtype=object), 'all_class_ids': array([0, 1]), 'all_classes': array([b'0', b'1'], dtype=object)}, {'logits': array([-2.084539], dtype=float32), 'logistic': array([0.11060864], dtype=float32), 'probabilities': array([0.8893913 , 0.11060866], dtype=float32), 'class_ids': array([0], dtype=int64), 'classes': array([b'0'], dtype=object), 'all_class_ids': array([0, 1]), 'all_classes': array([b'0', b'1'], dtype=object)}, {'logits': array([1.0223283], dtype=float32), 'logistic': array([0.73542583], dtype=float32), 'probabilities': array([0.26457414, 0.7354259 ], dtype=float32), 'class_ids': array([1], dtype=int64), 'classes': array([b'1'], dtype=object), 'all_class_ids': array([0, 1]), 'all_classes': array([b'0', b'1'], dtype=object)}, {'logits': array([-2.9155083], dtype=float32), 'logistic': array([0.05139226], dtype=float32), 'probabilities': array([0.9486078 , 0.05139224], dtype=float32), 'class_ids': array([0], dtype=int64), 'classes': array([b'0'], dtype=object), 'all_class_ids': array([0, 1]), 'all_classes': array([b'0', b'1'], dtype=object)}, {'logits': array([-2.6584187], dtype=float32), 'logistic': array([0.06547195], dtype=float32), 'probabilities': array([0.93452793, 0.06547201], dtype=float32), 'class_ids': array([0], dtype=int64), 'classes': array([b'0'], dtype=object), 'all_class_ids': array([0, 1]), 'all_classes': array([b'0', b'1'], dtype=object)}, {'logits': array([0.13033205], dtype=float32), 'logistic': array([0.532537], dtype=float32), 'probabilities': array([0.46746305, 0.532537  ], dtype=float32), 'class_ids': array([1], dtype=int64), 'classes': array([b'1'], dtype=object), 'all_class_ids': array([0, 1]), 'all_classes': array([b'0', b'1'], dtype=object)}, {'logits': array([-2.340943], dtype=float32), 'logistic': array([0.08778837], dtype=float32), 'probabilities': array([0.91221166, 0.08778837], dtype=float32), 'class_ids': array([0], dtype=int64), 'classes': array([b'0'], dtype=object), 'all_class_ids': array([0, 1]), 'all_classes': array([b'0', b'1'], dtype=object)}, {'logits': array([-2.550457], dtype=float32), 'logistic': array([0.07239574], dtype=float32), 'probabilities': array([0.92760426, 0.07239579], dtype=float32), 'class_ids': array([0], dtype=int64), 'classes': array([b'0'], dtype=object), 'all_class_ids': array([0, 1]), 'all_classes': array([b'0', b'1'], dtype=object)}, {'logits': array([-1.7157775], dtype=float32), 'logistic': array([0.15241584], dtype=float32), 'probabilities': array([0.8475841 , 0.15241584], dtype=float32), 'class_ids': array([0], dtype=int64), 'classes': array([b'0'], dtype=object), 'all_class_ids': array([0, 1]), 'all_classes': array([b'0', b'1'], dtype=object)}, {'logits': array([-2.9744978], dtype=float32), 'logistic': array([0.04859135], dtype=float32), 'probabilities': array([0.9514086 , 0.04859136], dtype=float32), 'class_ids': array([0], dtype=int64), 'classes': array([b'0'], dtype=object), 'all_class_ids': array([0, 1]), 'all_classes': array([b'0', b'1'], dtype=object)}, {'logits': array([0.19306403], dtype=float32), 'logistic': array([0.5481166], dtype=float32), 'probabilities': array([0.45188332, 0.5481166 ], dtype=float32), 'class_ids': array([1], dtype=int64), 'classes': array([b'1'], dtype=object), 'all_class_ids': array([0, 1]), 'all_classes': array([b'0', b'1'], dtype=object)}, {'logits': array([-2.46599], dtype=float32), 'logistic': array([0.07827705], dtype=float32), 'probabilities': array([0.92172295, 0.07827707], dtype=float32), 'class_ids': array([0], dtype=int64), 'classes': array([b'0'], dtype=object), 'all_class_ids': array([0, 1]), 'all_classes': array([b'0', b'1'], dtype=object)}, {'logits': array([-3.330616], dtype=float32), 'logistic': array([0.03453568], dtype=float32), 'probabilities': array([0.96546435, 0.03453569], dtype=float32), 'class_ids': array([0], dtype=int64), 'classes': array([b'0'], dtype=object), 'all_class_ids': array([0, 1]), 'all_classes': array([b'0', b'1'], dtype=object)}, {'logits': array([-2.7195272], dtype=float32), 'logistic': array([0.06183091], dtype=float32), 'probabilities': array([0.9381691 , 0.06183089], dtype=float32), 'class_ids': array([0], dtype=int64), 'classes': array([b'0'], dtype=object), 'all_class_ids': array([0, 1]), 'all_classes': array([b'0', b'1'], dtype=object)}, {'logits': array([-2.430778], dtype=float32), 'logistic': array([0.08085561], dtype=float32), 'probabilities': array([0.9191444 , 0.08085563], dtype=float32), 'class_ids': array([0], dtype=int64), 'classes': array([b'0'], dtype=object), 'all_class_ids': array([0, 1]), 'all_classes': array([b'0', b'1'], dtype=object)}, {'logits': array([-2.844936], dtype=float32), 'logistic': array([0.05494368], dtype=float32), 'probabilities': array([0.9450563 , 0.05494368], dtype=float32), 'class_ids': array([0], dtype=int64), 'classes': array([b'0'], dtype=object), 'all_class_ids': array([0, 1]), 'all_classes': array([b'0', b'1'], dtype=object)}, {'logits': array([-2.2735662], dtype=float32), 'logistic': array([0.09333596], dtype=float32), 'probabilities': array([0.906664  , 0.09333599], dtype=float32), 'class_ids': array([0], dtype=int64), 'classes': array([b'0'], dtype=object), 'all_class_ids': array([0, 1]), 'all_classes': array([b'0', b'1'], dtype=object)}, {'logits': array([0.19242984], dtype=float32), 'logistic': array([0.54795957], dtype=float32), 'probabilities': array([0.45204043, 0.54795957], dtype=float32), 'class_ids': array([1], dtype=int64), 'classes': array([b'1'], dtype=object), 'all_class_ids': array([0, 1]), 'all_classes': array([b'0', b'1'], dtype=object)}, {'logits': array([-2.7796736], dtype=float32), 'logistic': array([0.05843252], dtype=float32), 'probabilities': array([0.9415674 , 0.05843251], dtype=float32), 'class_ids': array([0], dtype=int64), 'classes': array([b'0'], dtype=object), 'all_class_ids': array([0, 1]), 'all_classes': array([b'0', b'1'], dtype=object)}, {'logits': array([-2.5318289], dtype=float32), 'logistic': array([0.07365677], dtype=float32), 'probabilities': array([0.92634326, 0.07365677], dtype=float32), 'class_ids': array([0], dtype=int64), 'classes': array([b'0'], dtype=object), 'all_class_ids': array([0, 1]), 'all_classes': array([b'0', b'1'], dtype=object)}, {'logits': array([0.36003417], dtype=float32), 'logistic': array([0.5890487], dtype=float32), 'probabilities': array([0.41095132, 0.58904874], dtype=float32), 'class_ids': array([1], dtype=int64), 'classes': array([b'1'], dtype=object), 'all_class_ids': array([0, 1]), 'all_classes': array([b'0', b'1'], dtype=object)}, {'logits': array([0.68406594], dtype=float32), 'logistic': array([0.66464555], dtype=float32), 'probabilities': array([0.33535442, 0.66464555], dtype=float32), 'class_ids': array([1], dtype=int64), 'classes': array([b'1'], dtype=object), 'all_class_ids': array([0, 1]), 'all_classes': array([b'0', b'1'], dtype=object)}, {'logits': array([-2.9073782], dtype=float32), 'logistic': array([0.05179003], dtype=float32), 'probabilities': array([0.94821   , 0.05179004], dtype=float32), 'class_ids': array([0], dtype=int64), 'classes': array([b'0'], dtype=object), 'all_class_ids': array([0, 1]), 'all_classes': array([b'0', b'1'], dtype=object)}, {'logits': array([-2.3714976], dtype=float32), 'logistic': array([0.08537209], dtype=float32), 'probabilities': array([0.91462785, 0.08537212], dtype=float32), 'class_ids': array([0], dtype=int64), 'classes': array([b'0'], dtype=object), 'all_class_ids': array([0, 1]), 'all_classes': array([b'0', b'1'], dtype=object)}, {'logits': array([-2.6584187], dtype=float32), 'logistic': array([0.06547195], dtype=float32), 'probabilities': array([0.93452793, 0.06547201], dtype=float32), 'class_ids': array([0], dtype=int64), 'classes': array([b'0'], dtype=object), 'all_class_ids': array([0, 1]), 'all_classes': array([b'0', b'1'], dtype=object)}, {'logits': array([-1.1562276], dtype=float32), 'logistic': array([0.23935342], dtype=float32), 'probabilities': array([0.7606466 , 0.23935343], dtype=float32), 'class_ids': array([0], dtype=int64), 'classes': array([b'0'], dtype=object), 'all_class_ids': array([0, 1]), 'all_classes': array([b'0', b'1'], dtype=object)}, {'logits': array([-2.6230116], dtype=float32), 'logistic': array([0.06767207], dtype=float32), 'probabilities': array([0.932328  , 0.06767204], dtype=float32), 'class_ids': array([0], dtype=int64), 'classes': array([b'0'], dtype=object), 'all_class_ids': array([0, 1]), 'all_classes': array([b'0', b'1'], dtype=object)}, {'logits': array([-2.1491587], dtype=float32), 'logistic': array([0.10440984], dtype=float32), 'probabilities': array([0.8955902 , 0.10440987], dtype=float32), 'class_ids': array([0], dtype=int64), 'classes': array([b'0'], dtype=object), 'all_class_ids': array([0, 1]), 'all_classes': array([b'0', b'1'], dtype=object)}, {'logits': array([-2.9923673], dtype=float32), 'logistic': array([0.04777187], dtype=float32), 'probabilities': array([0.9522281 , 0.04777189], dtype=float32), 'class_ids': array([0], dtype=int64), 'classes': array([b'0'], dtype=object), 'all_class_ids': array([0, 1]), 'all_classes': array([b'0', b'1'], dtype=object)}, {'logits': array([-2.149231], dtype=float32), 'logistic': array([0.10440305], dtype=float32), 'probabilities': array([0.89559686, 0.10440311], dtype=float32), 'class_ids': array([0], dtype=int64), 'classes': array([b'0'], dtype=object), 'all_class_ids': array([0, 1]), 'all_classes': array([b'0', b'1'], dtype=object)}, {'logits': array([-2.7693539], dtype=float32), 'logistic': array([0.05900285], dtype=float32), 'probabilities': array([0.9409971 , 0.05900288], dtype=float32), 'class_ids': array([0], dtype=int64), 'classes': array([b'0'], dtype=object), 'all_class_ids': array([0, 1]), 'all_classes': array([b'0', b'1'], dtype=object)}, {'logits': array([-2.337308], dtype=float32), 'logistic': array([0.0880799], dtype=float32), 'probabilities': array([0.9119201 , 0.08807991], dtype=float32), 'class_ids': array([0], dtype=int64), 'classes': array([b'0'], dtype=object), 'all_class_ids': array([0, 1]), 'all_classes': array([b'0', b'1'], dtype=object)}, {'logits': array([-2.943954], dtype=float32), 'logistic': array([0.05002308], dtype=float32), 'probabilities': array([0.9499769 , 0.05002304], dtype=float32), 'class_ids': array([0], dtype=int64), 'classes': array([b'0'], dtype=object), 'all_class_ids': array([0, 1]), 'all_classes': array([b'0', b'1'], dtype=object)}, {'logits': array([-1.6797236], dtype=float32), 'logistic': array([0.15713209], dtype=float32), 'probabilities': array([0.842868  , 0.15713207], dtype=float32), 'class_ids': array([0], dtype=int64), 'classes': array([b'0'], dtype=object), 'all_class_ids': array([0, 1]), 'all_classes': array([b'0', b'1'], dtype=object)}, {'logits': array([-1.9658321], dtype=float32), 'logistic': array([0.12283722], dtype=float32), 'probabilities': array([0.8771627 , 0.12283726], dtype=float32), 'class_ids': array([0], dtype=int64), 'classes': array([b'0'], dtype=object), 'all_class_ids': array([0, 1]), 'all_classes': array([b'0', b'1'], dtype=object)}, {'logits': array([-2.892305], dtype=float32), 'logistic': array([0.05253527], dtype=float32), 'probabilities': array([0.9474647 , 0.05253527], dtype=float32), 'class_ids': array([0], dtype=int64), 'classes': array([b'0'], dtype=object), 'all_class_ids': array([0, 1]), 'all_classes': array([b'0', b'1'], dtype=object)}, {'logits': array([-1.9479681], dtype=float32), 'logistic': array([0.12477505], dtype=float32), 'probabilities': array([0.8752249 , 0.12477507], dtype=float32), 'class_ids': array([0], dtype=int64), 'classes': array([b'0'], dtype=object), 'all_class_ids': array([0, 1]), 'all_classes': array([b'0', b'1'], dtype=object)}, {'logits': array([0.04048102], dtype=float32), 'logistic': array([0.5101189], dtype=float32), 'probabilities': array([0.48988116, 0.5101189 ], dtype=float32), 'class_ids': array([1], dtype=int64), 'classes': array([b'1'], dtype=object), 'all_class_ids': array([0, 1]), 'all_classes': array([b'0', b'1'], dtype=object)}, {'logits': array([-2.149231], dtype=float32), 'logistic': array([0.10440305], dtype=float32), 'probabilities': array([0.89559686, 0.10440311], dtype=float32), 'class_ids': array([0], dtype=int64), 'classes': array([b'0'], dtype=object), 'all_class_ids': array([0, 1]), 'all_classes': array([b'0', b'1'], dtype=object)}, {'logits': array([0.35795647], dtype=float32), 'logistic': array([0.5885457], dtype=float32), 'probabilities': array([0.41145432, 0.5885457 ], dtype=float32), 'class_ids': array([1], dtype=int64), 'classes': array([b'1'], dtype=object), 'all_class_ids': array([0, 1]), 'all_classes': array([b'0', b'1'], dtype=object)}, {'logits': array([-2.494364], dtype=float32), 'logistic': array([0.07625419], dtype=float32), 'probabilities': array([0.92374575, 0.07625423], dtype=float32), 'class_ids': array([0], dtype=int64), 'classes': array([b'0'], dtype=object), 'all_class_ids': array([0, 1]), 'all_classes': array([b'0', b'1'], dtype=object)}, {'logits': array([0.8895637], dtype=float32), 'logistic': array([0.70880014], dtype=float32), 'probabilities': array([0.29119986, 0.7088001 ], dtype=float32), 'class_ids': array([1], dtype=int64), 'classes': array([b'1'], dtype=object), 'all_class_ids': array([0, 1]), 'all_classes': array([b'0', b'1'], dtype=object)}, {'logits': array([0.37320215], dtype=float32), 'logistic': array([0.59223247], dtype=float32), 'probabilities': array([0.4077675, 0.5922325], dtype=float32), 'class_ids': array([1], dtype=int64), 'classes': array([b'1'], dtype=object), 'all_class_ids': array([0, 1]), 'all_classes': array([b'0', b'1'], dtype=object)}, {'logits': array([-2.7784863], dtype=float32), 'logistic': array([0.05849788], dtype=float32), 'probabilities': array([0.94150215, 0.05849787], dtype=float32), 'class_ids': array([0], dtype=int64), 'classes': array([b'0'], dtype=object), 'all_class_ids': array([0, 1]), 'all_classes': array([b'0', b'1'], dtype=object)}, {'logits': array([-0.48759192], dtype=float32), 'logistic': array([0.38046104], dtype=float32), 'probabilities': array([0.61953896, 0.380461  ], dtype=float32), 'class_ids': array([0], dtype=int64), 'classes': array([b'0'], dtype=object), 'all_class_ids': array([0, 1]), 'all_classes': array([b'0', b'1'], dtype=object)}, {'logits': array([-2.957374], dtype=float32), 'logistic': array([0.04938915], dtype=float32), 'probabilities': array([0.9506108 , 0.04938914], dtype=float32), 'class_ids': array([0], dtype=int64), 'classes': array([b'0'], dtype=object), 'all_class_ids': array([0, 1]), 'all_classes': array([b'0', b'1'], dtype=object)}, {'logits': array([-2.1747427], dtype=float32), 'logistic': array([0.10204163], dtype=float32), 'probabilities': array([0.89795834, 0.10204164], dtype=float32), 'class_ids': array([0], dtype=int64), 'classes': array([b'0'], dtype=object), 'all_class_ids': array([0, 1]), 'all_classes': array([b'0', b'1'], dtype=object)}, {'logits': array([0.74211335], dtype=float32), 'logistic': array([0.6774578], dtype=float32), 'probabilities': array([0.3225422, 0.6774578], dtype=float32), 'class_ids': array([1], dtype=int64), 'classes': array([b'1'], dtype=object), 'all_class_ids': array([0, 1]), 'all_classes': array([b'0', b'1'], dtype=object)}, {'logits': array([-2.475092], dtype=float32), 'logistic': array([0.07762286], dtype=float32), 'probabilities': array([0.92237717, 0.07762288], dtype=float32), 'class_ids': array([0], dtype=int64), 'classes': array([b'0'], dtype=object), 'all_class_ids': array([0, 1]), 'all_classes': array([b'0', b'1'], dtype=object)}, {'logits': array([0.3969974], dtype=float32), 'logistic': array([0.597966], dtype=float32), 'probabilities': array([0.40203395, 0.5979661 ], dtype=float32), 'class_ids': array([1], dtype=int64), 'classes': array([b'1'], dtype=object), 'all_class_ids': array([0, 1]), 'all_classes': array([b'0', b'1'], dtype=object)}, {'logits': array([-2.6557665], dtype=float32), 'logistic': array([0.06563446], dtype=float32), 'probabilities': array([0.93436545, 0.06563448], dtype=float32), 'class_ids': array([0], dtype=int64), 'classes': array([b'0'], dtype=object), 'all_class_ids': array([0, 1]), 'all_classes': array([b'0', b'1'], dtype=object)}, {'logits': array([-2.1260629], dtype=float32), 'logistic': array([0.10658935], dtype=float32), 'probabilities': array([0.8934107 , 0.10658934], dtype=float32), 'class_ids': array([0], dtype=int64), 'classes': array([b'0'], dtype=object), 'all_class_ids': array([0, 1]), 'all_classes': array([b'0', b'1'], dtype=object)}, {'logits': array([-3.1472893], dtype=float32), 'logistic': array([0.04119816], dtype=float32), 'probabilities': array([0.9588018 , 0.04119822], dtype=float32), 'class_ids': array([0], dtype=int64), 'classes': array([b'0'], dtype=object), 'all_class_ids': array([0, 1]), 'all_classes': array([b'0', b'1'], dtype=object)}, {'logits': array([-2.340943], dtype=float32), 'logistic': array([0.08778837], dtype=float32), 'probabilities': array([0.91221166, 0.08778837], dtype=float32), 'class_ids': array([0], dtype=int64), 'classes': array([b'0'], dtype=object), 'all_class_ids': array([0, 1]), 'all_classes': array([b'0', b'1'], dtype=object)}, {'logits': array([-0.08899552], dtype=float32), 'logistic': array([0.4777658], dtype=float32), 'probabilities': array([0.5222342 , 0.47776577], dtype=float32), 'class_ids': array([0], dtype=int64), 'classes': array([b'0'], dtype=object), 'all_class_ids': array([0, 1]), 'all_classes': array([b'0', b'1'], dtype=object)}, {'logits': array([1.1756657], dtype=float32), 'logistic': array([0.76416755], dtype=float32), 'probabilities': array([0.23583241, 0.7641676 ], dtype=float32), 'class_ids': array([1], dtype=int64), 'classes': array([b'1'], dtype=object), 'all_class_ids': array([0, 1]), 'all_classes': array([b'0', b'1'], dtype=object)}, {'logits': array([-2.2950726], dtype=float32), 'logistic': array([0.09153181], dtype=float32), 'probabilities': array([0.9084682 , 0.09153188], dtype=float32), 'class_ids': array([0], dtype=int64), 'classes': array([b'0'], dtype=object), 'all_class_ids': array([0, 1]), 'all_classes': array([b'0', b'1'], dtype=object)}, {'logits': array([-2.1926498], dtype=float32), 'logistic': array([0.10041249], dtype=float32), 'probabilities': array([0.8995876 , 0.10041248], dtype=float32), 'class_ids': array([0], dtype=int64), 'classes': array([b'0'], dtype=object), 'all_class_ids': array([0, 1]), 'all_classes': array([b'0', b'1'], dtype=object)}, {'logits': array([-2.4411697], dtype=float32), 'logistic': array([0.08008668], dtype=float32), 'probabilities': array([0.91991335, 0.08008669], dtype=float32), 'class_ids': array([0], dtype=int64), 'classes': array([b'0'], dtype=object), 'all_class_ids': array([0, 1]), 'all_classes': array([b'0', b'1'], dtype=object)}, {'logits': array([-2.5829916], dtype=float32), 'logistic': array([0.07024109], dtype=float32), 'probabilities': array([0.92975885, 0.0702411 ], dtype=float32), 'class_ids': array([0], dtype=int64), 'classes': array([b'0'], dtype=object), 'all_class_ids': array([0, 1]), 'all_classes': array([b'0', b'1'], dtype=object)}, {'logits': array([-1.3968128], dtype=float32), 'logistic': array([0.19832239], dtype=float32), 'probabilities': array([0.80167764, 0.19832236], dtype=float32), 'class_ids': array([0], dtype=int64), 'classes': array([b'0'], dtype=object), 'all_class_ids': array([0, 1]), 'all_classes': array([b'0', b'1'], dtype=object)}, {'logits': array([-2.2018828], dtype=float32), 'logistic': array([0.09958154], dtype=float32), 'probabilities': array([0.90041846, 0.09958153], dtype=float32), 'class_ids': array([0], dtype=int64), 'classes': array([b'0'], dtype=object), 'all_class_ids': array([0, 1]), 'all_classes': array([b'0', b'1'], dtype=object)}, {'logits': array([1.2305285], dtype=float32), 'logistic': array([0.77391106], dtype=float32), 'probabilities': array([0.22608896, 0.77391106], dtype=float32), 'class_ids': array([1], dtype=int64), 'classes': array([b'1'], dtype=object), 'all_class_ids': array([0, 1]), 'all_classes': array([b'0', b'1'], dtype=object)}, {'logits': array([-0.68766946], dtype=float32), 'logistic': array([0.33455172], dtype=float32), 'probabilities': array([0.6654483 , 0.33455175], dtype=float32), 'class_ids': array([0], dtype=int64), 'classes': array([b'0'], dtype=object), 'all_class_ids': array([0, 1]), 'all_classes': array([b'0', b'1'], dtype=object)}, {'logits': array([-2.3807764], dtype=float32), 'logistic': array([0.08465037], dtype=float32), 'probabilities': array([0.9153496 , 0.08465039], dtype=float32), 'class_ids': array([0], dtype=int64), 'classes': array([b'0'], dtype=object), 'all_class_ids': array([0, 1]), 'all_classes': array([b'0', b'1'], dtype=object)}, {'logits': array([-1.9482282], dtype=float32), 'logistic': array([0.12474668], dtype=float32), 'probabilities': array([0.8752533 , 0.12474668], dtype=float32), 'class_ids': array([0], dtype=int64), 'classes': array([b'0'], dtype=object), 'all_class_ids': array([0, 1]), 'all_classes': array([b'0', b'1'], dtype=object)}, {'logits': array([0.35659426], dtype=float32), 'logistic': array([0.58821577], dtype=float32), 'probabilities': array([0.41178423, 0.5882157 ], dtype=float32), 'class_ids': array([1], dtype=int64), 'classes': array([b'1'], dtype=object), 'all_class_ids': array([0, 1]), 'all_classes': array([b'0', b'1'], dtype=object)}, {'logits': array([0.68070006], dtype=float32), 'logistic': array([0.6638949], dtype=float32), 'probabilities': array([0.33610508, 0.6638949 ], dtype=float32), 'class_ids': array([1], dtype=int64), 'classes': array([b'1'], dtype=object), 'all_class_ids': array([0, 1]), 'all_classes': array([b'0', b'1'], dtype=object)}, {'logits': array([-1.7865962], dtype=float32), 'logistic': array([0.14349052], dtype=float32), 'probabilities': array([0.85650945, 0.14349054], dtype=float32), 'class_ids': array([0], dtype=int64), 'classes': array([b'0'], dtype=object), 'all_class_ids': array([0, 1]), 'all_classes': array([b'0', b'1'], dtype=object)}, {'logits': array([-3.6114156], dtype=float32), 'logistic': array([0.02630299], dtype=float32), 'probabilities': array([0.973697  , 0.02630304], dtype=float32), 'class_ids': array([0], dtype=int64), 'classes': array([b'0'], dtype=object), 'all_class_ids': array([0, 1]), 'all_classes': array([b'0', b'1'], dtype=object)}, {'logits': array([-2.515812], dtype=float32), 'logistic': array([0.07475713], dtype=float32), 'probabilities': array([0.92524284, 0.07475711], dtype=float32), 'class_ids': array([0], dtype=int64), 'classes': array([b'0'], dtype=object), 'all_class_ids': array([0, 1]), 'all_classes': array([b'0', b'1'], dtype=object)}, {'logits': array([-3.455275], dtype=float32), 'logistic': array([0.0306119], dtype=float32), 'probabilities': array([0.969388  , 0.03061193], dtype=float32), 'class_ids': array([0], dtype=int64), 'classes': array([b'0'], dtype=object), 'all_class_ids': array([0, 1]), 'all_classes': array([b'0', b'1'], dtype=object)}, {'logits': array([0.25701755], dtype=float32), 'logistic': array([0.563903], dtype=float32), 'probabilities': array([0.436097, 0.563903], dtype=float32), 'class_ids': array([1], dtype=int64), 'classes': array([b'1'], dtype=object), 'all_class_ids': array([0, 1]), 'all_classes': array([b'0', b'1'], dtype=object)}, {'logits': array([-3.1796565], dtype=float32), 'logistic': array([0.03993848], dtype=float32), 'probabilities': array([0.96006143, 0.0399385 ], dtype=float32), 'class_ids': array([0], dtype=int64), 'classes': array([b'0'], dtype=object), 'all_class_ids': array([0, 1]), 'all_classes': array([b'0', b'1'], dtype=object)}, {'logits': array([-2.551478], dtype=float32), 'logistic': array([0.07232726], dtype=float32), 'probabilities': array([0.92767274, 0.07232726], dtype=float32), 'class_ids': array([0], dtype=int64), 'classes': array([b'0'], dtype=object), 'all_class_ids': array([0, 1]), 'all_classes': array([b'0', b'1'], dtype=object)}, {'logits': array([-1.2289476], dtype=float32), 'logistic': array([0.22636569], dtype=float32), 'probabilities': array([0.7736343 , 0.22636566], dtype=float32), 'class_ids': array([0], dtype=int64), 'classes': array([b'0'], dtype=object), 'all_class_ids': array([0, 1]), 'all_classes': array([b'0', b'1'], dtype=object)}, {'logits': array([0.35129172], dtype=float32), 'logistic': array([0.58693075], dtype=float32), 'probabilities': array([0.41306922, 0.5869308 ], dtype=float32), 'class_ids': array([1], dtype=int64), 'classes': array([b'1'], dtype=object), 'all_class_ids': array([0, 1]), 'all_classes': array([b'0', b'1'], dtype=object)}, {'logits': array([-2.1361547], dtype=float32), 'logistic': array([0.10563213], dtype=float32), 'probabilities': array([0.8943679 , 0.10563213], dtype=float32), 'class_ids': array([0], dtype=int64), 'classes': array([b'0'], dtype=object), 'all_class_ids': array([0, 1]), 'all_classes': array([b'0', b'1'], dtype=object)}, {'logits': array([-3.4127285], dtype=float32), 'logistic': array([0.03190005], dtype=float32), 'probabilities': array([0.9681    , 0.03190003], dtype=float32), 'class_ids': array([0], dtype=int64), 'classes': array([b'0'], dtype=object), 'all_class_ids': array([0, 1]), 'all_classes': array([b'0', b'1'], dtype=object)}, {'logits': array([-2.0574954], dtype=float32), 'logistic': array([0.11329719], dtype=float32), 'probabilities': array([0.8867028, 0.1132972], dtype=float32), 'class_ids': array([0], dtype=int64), 'classes': array([b'0'], dtype=object), 'all_class_ids': array([0, 1]), 'all_classes': array([b'0', b'1'], dtype=object)}, {'logits': array([-2.6812744], dtype=float32), 'logistic': array([0.06408739], dtype=float32), 'probabilities': array([0.9359126, 0.0640874], dtype=float32), 'class_ids': array([0], dtype=int64), 'classes': array([b'0'], dtype=object), 'all_class_ids': array([0, 1]), 'all_classes': array([b'0', b'1'], dtype=object)}, {'logits': array([-3.1472893], dtype=float32), 'logistic': array([0.04119816], dtype=float32), 'probabilities': array([0.9588018 , 0.04119822], dtype=float32), 'class_ids': array([0], dtype=int64), 'classes': array([b'0'], dtype=object), 'all_class_ids': array([0, 1]), 'all_classes': array([b'0', b'1'], dtype=object)}, {'logits': array([-2.70533], dtype=float32), 'logistic': array([0.06265959], dtype=float32), 'probabilities': array([0.9373404 , 0.06265958], dtype=float32), 'class_ids': array([0], dtype=int64), 'classes': array([b'0'], dtype=object), 'all_class_ids': array([0, 1]), 'all_classes': array([b'0', b'1'], dtype=object)}, {'logits': array([-1.9612737], dtype=float32), 'logistic': array([0.12332928], dtype=float32), 'probabilities': array([0.8766707 , 0.12332927], dtype=float32), 'class_ids': array([0], dtype=int64), 'classes': array([b'0'], dtype=object), 'all_class_ids': array([0, 1]), 'all_classes': array([b'0', b'1'], dtype=object)}, {'logits': array([0.6472239], dtype=float32), 'logistic': array([0.6563846], dtype=float32), 'probabilities': array([0.34361538, 0.6563846 ], dtype=float32), 'class_ids': array([1], dtype=int64), 'classes': array([b'1'], dtype=object), 'all_class_ids': array([0, 1]), 'all_classes': array([b'0', b'1'], dtype=object)}, {'logits': array([-2.6460733], dtype=float32), 'logistic': array([0.06623143], dtype=float32), 'probabilities': array([0.9337686 , 0.06623144], dtype=float32), 'class_ids': array([0], dtype=int64), 'classes': array([b'0'], dtype=object), 'all_class_ids': array([0, 1]), 'all_classes': array([b'0', b'1'], dtype=object)}, {'logits': array([0.23150629], dtype=float32), 'logistic': array([0.55761945], dtype=float32), 'probabilities': array([0.44238055, 0.55761945], dtype=float32), 'class_ids': array([1], dtype=int64), 'classes': array([b'1'], dtype=object), 'all_class_ids': array([0, 1]), 'all_classes': array([b'0', b'1'], dtype=object)}, {'logits': array([-1.3395542], dtype=float32), 'logistic': array([0.20758337], dtype=float32), 'probabilities': array([0.79241663, 0.20758337], dtype=float32), 'class_ids': array([0], dtype=int64), 'classes': array([b'0'], dtype=object), 'all_class_ids': array([0, 1]), 'all_classes': array([b'0', b'1'], dtype=object)}, {'logits': array([-2.6726747], dtype=float32), 'logistic': array([0.06460515], dtype=float32), 'probabilities': array([0.9353949 , 0.06460515], dtype=float32), 'class_ids': array([0], dtype=int64), 'classes': array([b'0'], dtype=object), 'all_class_ids': array([0, 1]), 'all_classes': array([b'0', b'1'], dtype=object)}, {'logits': array([-2.3573236], dtype=float32), 'logistic': array([0.08648539], dtype=float32), 'probabilities': array([0.91351455, 0.0864854 ], dtype=float32), 'class_ids': array([0], dtype=int64), 'classes': array([b'0'], dtype=object), 'all_class_ids': array([0, 1]), 'all_classes': array([b'0', b'1'], dtype=object)}, {'logits': array([-2.1226947], dtype=float32), 'logistic': array([0.1069105], dtype=float32), 'probabilities': array([0.8930895, 0.1069105], dtype=float32), 'class_ids': array([0], dtype=int64), 'classes': array([b'0'], dtype=object), 'all_class_ids': array([0, 1]), 'all_classes': array([b'0', b'1'], dtype=object)}, {'logits': array([-2.4245176], dtype=float32), 'logistic': array([0.0813221], dtype=float32), 'probabilities': array([0.9186779 , 0.08132211], dtype=float32), 'class_ids': array([0], dtype=int64), 'classes': array([b'0'], dtype=object), 'all_class_ids': array([0, 1]), 'all_classes': array([b'0', b'1'], dtype=object)}, {'logits': array([0.3581714], dtype=float32), 'logistic': array([0.5885977], dtype=float32), 'probabilities': array([0.4114023, 0.5885977], dtype=float32), 'class_ids': array([1], dtype=int64), 'classes': array([b'1'], dtype=object), 'all_class_ids': array([0, 1]), 'all_classes': array([b'0', b'1'], dtype=object)}, {'logits': array([-2.81215], dtype=float32), 'logistic': array([0.05667111], dtype=float32), 'probabilities': array([0.9433289 , 0.05667114], dtype=float32), 'class_ids': array([0], dtype=int64), 'classes': array([b'0'], dtype=object), 'all_class_ids': array([0, 1]), 'all_classes': array([b'0', b'1'], dtype=object)}, {'logits': array([-1.082928], dtype=float32), 'logistic': array([0.25295234], dtype=float32), 'probabilities': array([0.74704766, 0.25295234], dtype=float32), 'class_ids': array([0], dtype=int64), 'classes': array([b'0'], dtype=object), 'all_class_ids': array([0, 1]), 'all_classes': array([b'0', b'1'], dtype=object)}, {'logits': array([-1.3248407], dtype=float32), 'logistic': array([0.21001408], dtype=float32), 'probabilities': array([0.78998595, 0.21001405], dtype=float32), 'class_ids': array([0], dtype=int64), 'classes': array([b'0'], dtype=object), 'all_class_ids': array([0, 1]), 'all_classes': array([b'0', b'1'], dtype=object)}, {'logits': array([-2.747932], dtype=float32), 'logistic': array([0.06020349], dtype=float32), 'probabilities': array([0.93979645, 0.06020355], dtype=float32), 'class_ids': array([0], dtype=int64), 'classes': array([b'0'], dtype=object), 'all_class_ids': array([0, 1]), 'all_classes': array([b'0', b'1'], dtype=object)}, {'logits': array([-2.4445574], dtype=float32), 'logistic': array([0.07983744], dtype=float32), 'probabilities': array([0.9201625 , 0.07983746], dtype=float32), 'class_ids': array([0], dtype=int64), 'classes': array([b'0'], dtype=object), 'all_class_ids': array([0, 1]), 'all_classes': array([b'0', b'1'], dtype=object)}, {'logits': array([0.69842243], dtype=float32), 'logistic': array([0.6678379], dtype=float32), 'probabilities': array([0.33216208, 0.6678379 ], dtype=float32), 'class_ids': array([1], dtype=int64), 'classes': array([b'1'], dtype=object), 'all_class_ids': array([0, 1]), 'all_classes': array([b'0', b'1'], dtype=object)}, {'logits': array([-1.4992856], dtype=float32), 'logistic': array([0.18253213], dtype=float32), 'probabilities': array([0.8174679, 0.1825321], dtype=float32), 'class_ids': array([0], dtype=int64), 'classes': array([b'0'], dtype=object), 'all_class_ids': array([0, 1]), 'all_classes': array([b'0', b'1'], dtype=object)}, {'logits': array([-2.4326065], dtype=float32), 'logistic': array([0.08071983], dtype=float32), 'probabilities': array([0.9192802 , 0.08071985], dtype=float32), 'class_ids': array([0], dtype=int64), 'classes': array([b'0'], dtype=object), 'all_class_ids': array([0, 1]), 'all_classes': array([b'0', b'1'], dtype=object)}, {'logits': array([-1.0730754], dtype=float32), 'logistic': array([0.25481868], dtype=float32), 'probabilities': array([0.7451814 , 0.25481868], dtype=float32), 'class_ids': array([0], dtype=int64), 'classes': array([b'0'], dtype=object), 'all_class_ids': array([0, 1]), 'all_classes': array([b'0', b'1'], dtype=object)}, {'logits': array([-1.6080251], dtype=float32), 'logistic': array([0.166863], dtype=float32), 'probabilities': array([0.833137  , 0.16686298], dtype=float32), 'class_ids': array([0], dtype=int64), 'classes': array([b'0'], dtype=object), 'all_class_ids': array([0, 1]), 'all_classes': array([b'0', b'1'], dtype=object)}, {'logits': array([0.1646406], dtype=float32), 'logistic': array([0.5410674], dtype=float32), 'probabilities': array([0.45893255, 0.5410674 ], dtype=float32), 'class_ids': array([1], dtype=int64), 'classes': array([b'1'], dtype=object), 'all_class_ids': array([0, 1]), 'all_classes': array([b'0', b'1'], dtype=object)}, {'logits': array([-0.79517716], dtype=float32), 'logistic': array([0.31105816], dtype=float32), 'probabilities': array([0.6889419 , 0.31105813], dtype=float32), 'class_ids': array([0], dtype=int64), 'classes': array([b'0'], dtype=object), 'all_class_ids': array([0, 1]), 'all_classes': array([b'0', b'1'], dtype=object)}, {'logits': array([-2.2870355], dtype=float32), 'logistic': array([0.09220237], dtype=float32), 'probabilities': array([0.9077976 , 0.09220239], dtype=float32), 'class_ids': array([0], dtype=int64), 'classes': array([b'0'], dtype=object), 'all_class_ids': array([0, 1]), 'all_classes': array([b'0', b'1'], dtype=object)}, {'logits': array([0.2815705], dtype=float32), 'logistic': array([0.5699312], dtype=float32), 'probabilities': array([0.4300688, 0.5699312], dtype=float32), 'class_ids': array([1], dtype=int64), 'classes': array([b'1'], dtype=object), 'all_class_ids': array([0, 1]), 'all_classes': array([b'0', b'1'], dtype=object)}, {'logits': array([-2.5611398], dtype=float32), 'logistic': array([0.07168159], dtype=float32), 'probabilities': array([0.9283184 , 0.07168166], dtype=float32), 'class_ids': array([0], dtype=int64), 'classes': array([b'0'], dtype=object), 'all_class_ids': array([0, 1]), 'all_classes': array([b'0', b'1'], dtype=object)}, {'logits': array([-2.1491587], dtype=float32), 'logistic': array([0.10440984], dtype=float32), 'probabilities': array([0.8955902 , 0.10440987], dtype=float32), 'class_ids': array([0], dtype=int64), 'classes': array([b'0'], dtype=object), 'all_class_ids': array([0, 1]), 'all_classes': array([b'0', b'1'], dtype=object)}, {'logits': array([-0.2664259], dtype=float32), 'logistic': array([0.43378475], dtype=float32), 'probabilities': array([0.5662153 , 0.43378475], dtype=float32), 'class_ids': array([0], dtype=int64), 'classes': array([b'0'], dtype=object), 'all_class_ids': array([0, 1]), 'all_classes': array([b'0', b'1'], dtype=object)}, {'logits': array([-2.3407283], dtype=float32), 'logistic': array([0.08780554], dtype=float32), 'probabilities': array([0.9121945 , 0.08780557], dtype=float32), 'class_ids': array([0], dtype=int64), 'classes': array([b'0'], dtype=object), 'all_class_ids': array([0, 1]), 'all_classes': array([b'0', b'1'], dtype=object)}, {'logits': array([-2.3717442], dtype=float32), 'logistic': array([0.08535281], dtype=float32), 'probabilities': array([0.9146471 , 0.08535288], dtype=float32), 'class_ids': array([0], dtype=int64), 'classes': array([b'0'], dtype=object), 'all_class_ids': array([0, 1]), 'all_classes': array([b'0', b'1'], dtype=object)}, {'logits': array([1.0079851], dtype=float32), 'logistic': array([0.7326256], dtype=float32), 'probabilities': array([0.26737437, 0.73262566], dtype=float32), 'class_ids': array([1], dtype=int64), 'classes': array([b'1'], dtype=object), 'all_class_ids': array([0, 1]), 'all_classes': array([b'0', b'1'], dtype=object)}, {'logits': array([-2.5529957], dtype=float32), 'logistic': array([0.07222548], dtype=float32), 'probabilities': array([0.92777455, 0.07222549], dtype=float32), 'class_ids': array([0], dtype=int64), 'classes': array([b'0'], dtype=object), 'all_class_ids': array([0, 1]), 'all_classes': array([b'0', b'1'], dtype=object)}, {'logits': array([0.35555726], dtype=float32), 'logistic': array([0.58796453], dtype=float32), 'probabilities': array([0.4120354 , 0.58796453], dtype=float32), 'class_ids': array([1], dtype=int64), 'classes': array([b'1'], dtype=object), 'all_class_ids': array([0, 1]), 'all_classes': array([b'0', b'1'], dtype=object)}, {'logits': array([-2.7354188], dtype=float32), 'logistic': array([0.06091538], dtype=float32), 'probabilities': array([0.9390846 , 0.06091544], dtype=float32), 'class_ids': array([0], dtype=int64), 'classes': array([b'0'], dtype=object), 'all_class_ids': array([0, 1]), 'all_classes': array([b'0', b'1'], dtype=object)}, {'logits': array([-1.4124079], dtype=float32), 'logistic': array([0.19585454], dtype=float32), 'probabilities': array([0.80414546, 0.19585456], dtype=float32), 'class_ids': array([0], dtype=int64), 'classes': array([b'0'], dtype=object), 'all_class_ids': array([0, 1]), 'all_classes': array([b'0', b'1'], dtype=object)}, {'logits': array([-2.6093748], dtype=float32), 'logistic': array([0.06853747], dtype=float32), 'probabilities': array([0.9314625 , 0.06853751], dtype=float32), 'class_ids': array([0], dtype=int64), 'classes': array([b'0'], dtype=object), 'all_class_ids': array([0, 1]), 'all_classes': array([b'0', b'1'], dtype=object)}, {'logits': array([0.35075527], dtype=float32), 'logistic': array([0.5868007], dtype=float32), 'probabilities': array([0.4131993 , 0.58680075], dtype=float32), 'class_ids': array([1], dtype=int64), 'classes': array([b'1'], dtype=object), 'all_class_ids': array([0, 1]), 'all_classes': array([b'0', b'1'], dtype=object)}, {'logits': array([-0.67372173], dtype=float32), 'logistic': array([0.337664], dtype=float32), 'probabilities': array([0.662336  , 0.33766398], dtype=float32), 'class_ids': array([0], dtype=int64), 'classes': array([b'0'], dtype=object), 'all_class_ids': array([0, 1]), 'all_classes': array([b'0', b'1'], dtype=object)}, {'logits': array([-3.0892162], dtype=float32), 'logistic': array([0.04355425], dtype=float32), 'probabilities': array([0.95644575, 0.04355428], dtype=float32), 'class_ids': array([0], dtype=int64), 'classes': array([b'0'], dtype=object), 'all_class_ids': array([0, 1]), 'all_classes': array([b'0', b'1'], dtype=object)}, {'logits': array([-1.7023572], dtype=float32), 'logistic': array([0.15415761], dtype=float32), 'probabilities': array([0.84584236, 0.15415767], dtype=float32), 'class_ids': array([0], dtype=int64), 'classes': array([b'0'], dtype=object), 'all_class_ids': array([0, 1]), 'all_classes': array([b'0', b'1'], dtype=object)}, {'logits': array([0.8483518], dtype=float32), 'logistic': array([0.70022124], dtype=float32), 'probabilities': array([0.2997787 , 0.70022124], dtype=float32), 'class_ids': array([1], dtype=int64), 'classes': array([b'1'], dtype=object), 'all_class_ids': array([0, 1]), 'all_classes': array([b'0', b'1'], dtype=object)}, {'logits': array([-1.4649248], dtype=float32), 'logistic': array([0.18771526], dtype=float32), 'probabilities': array([0.81228477, 0.18771525], dtype=float32), 'class_ids': array([0], dtype=int64), 'classes': array([b'0'], dtype=object), 'all_class_ids': array([0, 1]), 'all_classes': array([b'0', b'1'], dtype=object)}, {'logits': array([-0.37616986], dtype=float32), 'logistic': array([0.40705103], dtype=float32), 'probabilities': array([0.592949, 0.407051], dtype=float32), 'class_ids': array([0], dtype=int64), 'classes': array([b'0'], dtype=object), 'all_class_ids': array([0, 1]), 'all_classes': array([b'0', b'1'], dtype=object)}, {'logits': array([-1.151061], dtype=float32), 'logistic': array([0.24029532], dtype=float32), 'probabilities': array([0.75970465, 0.24029534], dtype=float32), 'class_ids': array([0], dtype=int64), 'classes': array([b'0'], dtype=object), 'all_class_ids': array([0, 1]), 'all_classes': array([b'0', b'1'], dtype=object)}, {'logits': array([-3.6138694], dtype=float32), 'logistic': array([0.02624026], dtype=float32), 'probabilities': array([0.9737597 , 0.02624027], dtype=float32), 'class_ids': array([0], dtype=int64), 'classes': array([b'0'], dtype=object), 'all_class_ids': array([0, 1]), 'all_classes': array([b'0', b'1'], dtype=object)}, {'logits': array([-2.4118333], dtype=float32), 'logistic': array([0.08227476], dtype=float32), 'probabilities': array([0.91772527, 0.08227479], dtype=float32), 'class_ids': array([0], dtype=int64), 'classes': array([b'0'], dtype=object), 'all_class_ids': array([0, 1]), 'all_classes': array([b'0', b'1'], dtype=object)}, {'logits': array([-2.3328543], dtype=float32), 'logistic': array([0.08843827], dtype=float32), 'probabilities': array([0.91156167, 0.08843829], dtype=float32), 'class_ids': array([0], dtype=int64), 'classes': array([b'0'], dtype=object), 'all_class_ids': array([0, 1]), 'all_classes': array([b'0', b'1'], dtype=object)}, {'logits': array([-4.0591927], dtype=float32), 'logistic': array([0.01696998], dtype=float32), 'probabilities': array([0.98303, 0.01697], dtype=float32), 'class_ids': array([0], dtype=int64), 'classes': array([b'0'], dtype=object), 'all_class_ids': array([0, 1]), 'all_classes': array([b'0', b'1'], dtype=object)}, {'logits': array([1.0493622], dtype=float32), 'logistic': array([0.7406524], dtype=float32), 'probabilities': array([0.2593476, 0.7406524], dtype=float32), 'class_ids': array([1], dtype=int64), 'classes': array([b'1'], dtype=object), 'all_class_ids': array([0, 1]), 'all_classes': array([b'0', b'1'], dtype=object)}, {'logits': array([-0.00506146], dtype=float32), 'logistic': array([0.49873465], dtype=float32), 'probabilities': array([0.5012654 , 0.49873468], dtype=float32), 'class_ids': array([0], dtype=int64), 'classes': array([b'0'], dtype=object), 'all_class_ids': array([0, 1]), 'all_classes': array([b'0', b'1'], dtype=object)}, {'logits': array([-2.149231], dtype=float32), 'logistic': array([0.10440305], dtype=float32), 'probabilities': array([0.89559686, 0.10440311], dtype=float32), 'class_ids': array([0], dtype=int64), 'classes': array([b'0'], dtype=object), 'all_class_ids': array([0, 1]), 'all_classes': array([b'0', b'1'], dtype=object)}, {'logits': array([-1.7518195], dtype=float32), 'logistic': array([0.14781785], dtype=float32), 'probabilities': array([0.8521821 , 0.14781785], dtype=float32), 'class_ids': array([0], dtype=int64), 'classes': array([b'0'], dtype=object), 'all_class_ids': array([0, 1]), 'all_classes': array([b'0', b'1'], dtype=object)}, {'logits': array([0.83298504], dtype=float32), 'logistic': array([0.6969857], dtype=float32), 'probabilities': array([0.30301428, 0.6969857 ], dtype=float32), 'class_ids': array([1], dtype=int64), 'classes': array([b'1'], dtype=object), 'all_class_ids': array([0, 1]), 'all_classes': array([b'0', b'1'], dtype=object)}, {'logits': array([-2.0467553], dtype=float32), 'logistic': array([0.11438063], dtype=float32), 'probabilities': array([0.8856194 , 0.11438065], dtype=float32), 'class_ids': array([0], dtype=int64), 'classes': array([b'0'], dtype=object), 'all_class_ids': array([0, 1]), 'all_classes': array([b'0', b'1'], dtype=object)}, {'logits': array([-2.6833575], dtype=float32), 'logistic': array([0.06396258], dtype=float32), 'probabilities': array([0.9360374 , 0.06396256], dtype=float32), 'class_ids': array([0], dtype=int64), 'classes': array([b'0'], dtype=object), 'all_class_ids': array([0, 1]), 'all_classes': array([b'0', b'1'], dtype=object)}, {'logits': array([-0.67092985], dtype=float32), 'logistic': array([0.33828866], dtype=float32), 'probabilities': array([0.66171134, 0.33828866], dtype=float32), 'class_ids': array([0], dtype=int64), 'classes': array([b'0'], dtype=object), 'all_class_ids': array([0, 1]), 'all_classes': array([b'0', b'1'], dtype=object)}, {'logits': array([0.5438798], dtype=float32), 'logistic': array([0.6327145], dtype=float32), 'probabilities': array([0.3672855, 0.6327145], dtype=float32), 'class_ids': array([1], dtype=int64), 'classes': array([b'1'], dtype=object), 'all_class_ids': array([0, 1]), 'all_classes': array([b'0', b'1'], dtype=object)}, {'logits': array([-2.8085384], dtype=float32), 'logistic': array([0.05686453], dtype=float32), 'probabilities': array([0.94313544, 0.05686451], dtype=float32), 'class_ids': array([0], dtype=int64), 'classes': array([b'0'], dtype=object), 'all_class_ids': array([0, 1]), 'all_classes': array([b'0', b'1'], dtype=object)}, {'logits': array([-0.7386598], dtype=float32), 'logistic': array([0.32329732], dtype=float32), 'probabilities': array([0.67670274, 0.32329726], dtype=float32), 'class_ids': array([0], dtype=int64), 'classes': array([b'0'], dtype=object), 'all_class_ids': array([0, 1]), 'all_classes': array([b'0', b'1'], dtype=object)}, {'logits': array([-1.9088138], dtype=float32), 'logistic': array([0.12911418], dtype=float32), 'probabilities': array([0.8708858 , 0.12911417], dtype=float32), 'class_ids': array([0], dtype=int64), 'classes': array([b'0'], dtype=object), 'all_class_ids': array([0, 1]), 'all_classes': array([b'0', b'1'], dtype=object)}, {'logits': array([-1.4551876], dtype=float32), 'logistic': array([0.18920448], dtype=float32), 'probabilities': array([0.81079555, 0.18920448], dtype=float32), 'class_ids': array([0], dtype=int64), 'classes': array([b'0'], dtype=object), 'all_class_ids': array([0, 1]), 'all_classes': array([b'0', b'1'], dtype=object)}]\n"
     ]
    }
   ],
   "source": [
    "y_pred = list(linear_est.predict(test_input_fn))\n",
    "print(y_pred)"
   ]
  },
  {
   "cell_type": "code",
   "execution_count": 47,
   "id": "standing-newton",
   "metadata": {},
   "outputs": [
    {
     "name": "stdout",
     "output_type": "stream",
     "text": [
      "{'logits': array([-2.8722997], dtype=float32), 'logistic': array([0.05354005], dtype=float32), 'probabilities': array([0.94645995, 0.05354   ], dtype=float32), 'class_ids': array([0], dtype=int64), 'classes': array([b'0'], dtype=object), 'all_class_ids': array([0, 1]), 'all_classes': array([b'0', b'1'], dtype=object)}\n"
     ]
    }
   ],
   "source": [
    "print(y_pred[0])"
   ]
  },
  {
   "cell_type": "code",
   "execution_count": 51,
   "id": "tribal-comfort",
   "metadata": {},
   "outputs": [
    {
     "name": "stdout",
     "output_type": "stream",
     "text": [
      "0.054\n"
     ]
    }
   ],
   "source": [
    "# we want probabilities that the passenger will survive\n",
    "print(y_pred[0]['probabilities'][1].round(3))"
   ]
  },
  {
   "cell_type": "code",
   "execution_count": 49,
   "id": "political-member",
   "metadata": {},
   "outputs": [
    {
     "name": "stdout",
     "output_type": "stream",
     "text": [
      "sex                          male\n",
      "age                          24.0\n",
      "n_siblings_spouses              0\n",
      "parch                           0\n",
      "fare                         7.05\n",
      "class                       Third\n",
      "deck                      unknown\n",
      "embark_town           Southampton\n",
      "alone                           y\n",
      "Name: 55, dtype: object\n",
      "\n",
      "Percent chance of survival for passenger: 7.45\n",
      "Passenger's real fate: 0\n"
     ]
    }
   ],
   "source": [
    "passenger_id = 55\n",
    "\n",
    "print(df_test.loc[passenger_id])\n",
    "\n",
    "print(\"\\nPercent chance of survival for passenger:\", (100*y_pred[passenger_id]['probabilities'][1]).round(2) )\n",
    "\n",
    "print(\"Passenger's real fate:\", y_test.loc[passenger_id])"
   ]
  },
  {
   "cell_type": "markdown",
   "id": "vulnerable-pakistan",
   "metadata": {},
   "source": [
    "### Classification\n",
    "\n",
    "For this classification task, we will separate (or classify) flowers into three different species based on their features. \n",
    "\n",
    "* The three species are Setosa, Versicolor, and Virginica\n",
    "* The four features are sepal length, sepal width, petal length, and petal width"
   ]
  },
  {
   "cell_type": "code",
   "execution_count": 52,
   "id": "neutral-lewis",
   "metadata": {},
   "outputs": [],
   "source": [
    "SPECIES = ['Setosa', 'Versicolor', 'Virginica']\n",
    "FEATURES = ['sepal_length', 'sepal_width', 'petal_length', 'petal_width', 'species']  # features in [cm]"
   ]
  },
  {
   "cell_type": "code",
   "execution_count": 53,
   "id": "central-produce",
   "metadata": {},
   "outputs": [
    {
     "name": "stdout",
     "output_type": "stream",
     "text": [
      "Downloading data from https://storage.googleapis.com/download.tensorflow.org/data/iris_training.csv\n",
      "8192/2194 [================================================================================================================] - 0s 2us/step\n",
      "Downloading data from https://storage.googleapis.com/download.tensorflow.org/data/iris_test.csv\n",
      "8192/573 [============================================================================================================================================================================================================================================================================================================================================================================================================================================] - 0s 0us/step\n"
     ]
    }
   ],
   "source": [
    "# download the training and testing data from the TF data set for Iris Flowers\n",
    "train_path = tf.keras.utils.get_file(\n",
    "    \"iris_training.csv\", \"https://storage.googleapis.com/download.tensorflow.org/data/iris_training.csv\")\n",
    "test_path = tf.keras.utils.get_file(\n",
    "    \"iris_test.csv\", \"https://storage.googleapis.com/download.tensorflow.org/data/iris_test.csv\")\n",
    "\n",
    "# Here we use keras (a module inside of TensorFlow) to grab our datasets and read them into a pandas dataframe\n",
    "train = pd.read_csv(train_path, names=FEATURES, header=0)\n",
    "test = pd.read_csv(test_path, names=FEATURES, header=0)"
   ]
  },
  {
   "cell_type": "code",
   "execution_count": 54,
   "id": "another-lincoln",
   "metadata": {},
   "outputs": [
    {
     "data": {
      "text/html": [
       "<div>\n",
       "<style scoped>\n",
       "    .dataframe tbody tr th:only-of-type {\n",
       "        vertical-align: middle;\n",
       "    }\n",
       "\n",
       "    .dataframe tbody tr th {\n",
       "        vertical-align: top;\n",
       "    }\n",
       "\n",
       "    .dataframe thead th {\n",
       "        text-align: right;\n",
       "    }\n",
       "</style>\n",
       "<table border=\"1\" class=\"dataframe\">\n",
       "  <thead>\n",
       "    <tr style=\"text-align: right;\">\n",
       "      <th></th>\n",
       "      <th>sepal_length</th>\n",
       "      <th>sepal_width</th>\n",
       "      <th>petal_length</th>\n",
       "      <th>petal_width</th>\n",
       "      <th>species</th>\n",
       "    </tr>\n",
       "  </thead>\n",
       "  <tbody>\n",
       "    <tr>\n",
       "      <th>0</th>\n",
       "      <td>6.4</td>\n",
       "      <td>2.8</td>\n",
       "      <td>5.6</td>\n",
       "      <td>2.2</td>\n",
       "      <td>2</td>\n",
       "    </tr>\n",
       "    <tr>\n",
       "      <th>1</th>\n",
       "      <td>5.0</td>\n",
       "      <td>2.3</td>\n",
       "      <td>3.3</td>\n",
       "      <td>1.0</td>\n",
       "      <td>1</td>\n",
       "    </tr>\n",
       "    <tr>\n",
       "      <th>2</th>\n",
       "      <td>4.9</td>\n",
       "      <td>2.5</td>\n",
       "      <td>4.5</td>\n",
       "      <td>1.7</td>\n",
       "      <td>2</td>\n",
       "    </tr>\n",
       "    <tr>\n",
       "      <th>3</th>\n",
       "      <td>4.9</td>\n",
       "      <td>3.1</td>\n",
       "      <td>1.5</td>\n",
       "      <td>0.1</td>\n",
       "      <td>0</td>\n",
       "    </tr>\n",
       "    <tr>\n",
       "      <th>4</th>\n",
       "      <td>5.7</td>\n",
       "      <td>3.8</td>\n",
       "      <td>1.7</td>\n",
       "      <td>0.3</td>\n",
       "      <td>0</td>\n",
       "    </tr>\n",
       "  </tbody>\n",
       "</table>\n",
       "</div>"
      ],
      "text/plain": [
       "   sepal_length  sepal_width  petal_length  petal_width  species\n",
       "0           6.4          2.8           5.6          2.2        2\n",
       "1           5.0          2.3           3.3          1.0        1\n",
       "2           4.9          2.5           4.5          1.7        2\n",
       "3           4.9          3.1           1.5          0.1        0\n",
       "4           5.7          3.8           1.7          0.3        0"
      ]
     },
     "execution_count": 54,
     "metadata": {},
     "output_type": "execute_result"
    }
   ],
   "source": [
    "# notice that the species name has already been converted to a numeric value: 0, 1, 2\n",
    "#   0 - Setosa\n",
    "#   1 - Versicolor\n",
    "#   2 - Virginica\n",
    "train.head()"
   ]
  },
  {
   "cell_type": "code",
   "execution_count": 55,
   "id": "artificial-access",
   "metadata": {},
   "outputs": [
    {
     "data": {
      "text/html": [
       "<div>\n",
       "<style scoped>\n",
       "    .dataframe tbody tr th:only-of-type {\n",
       "        vertical-align: middle;\n",
       "    }\n",
       "\n",
       "    .dataframe tbody tr th {\n",
       "        vertical-align: top;\n",
       "    }\n",
       "\n",
       "    .dataframe thead th {\n",
       "        text-align: right;\n",
       "    }\n",
       "</style>\n",
       "<table border=\"1\" class=\"dataframe\">\n",
       "  <thead>\n",
       "    <tr style=\"text-align: right;\">\n",
       "      <th></th>\n",
       "      <th>sepal_length</th>\n",
       "      <th>sepal_width</th>\n",
       "      <th>petal_length</th>\n",
       "      <th>petal_width</th>\n",
       "    </tr>\n",
       "  </thead>\n",
       "  <tbody>\n",
       "    <tr>\n",
       "      <th>0</th>\n",
       "      <td>6.4</td>\n",
       "      <td>2.8</td>\n",
       "      <td>5.6</td>\n",
       "      <td>2.2</td>\n",
       "    </tr>\n",
       "    <tr>\n",
       "      <th>1</th>\n",
       "      <td>5.0</td>\n",
       "      <td>2.3</td>\n",
       "      <td>3.3</td>\n",
       "      <td>1.0</td>\n",
       "    </tr>\n",
       "    <tr>\n",
       "      <th>2</th>\n",
       "      <td>4.9</td>\n",
       "      <td>2.5</td>\n",
       "      <td>4.5</td>\n",
       "      <td>1.7</td>\n",
       "    </tr>\n",
       "    <tr>\n",
       "      <th>3</th>\n",
       "      <td>4.9</td>\n",
       "      <td>3.1</td>\n",
       "      <td>1.5</td>\n",
       "      <td>0.1</td>\n",
       "    </tr>\n",
       "    <tr>\n",
       "      <th>4</th>\n",
       "      <td>5.7</td>\n",
       "      <td>3.8</td>\n",
       "      <td>1.7</td>\n",
       "      <td>0.3</td>\n",
       "    </tr>\n",
       "  </tbody>\n",
       "</table>\n",
       "</div>"
      ],
      "text/plain": [
       "   sepal_length  sepal_width  petal_length  petal_width\n",
       "0           6.4          2.8           5.6          2.2\n",
       "1           5.0          2.3           3.3          1.0\n",
       "2           4.9          2.5           4.5          1.7\n",
       "3           4.9          3.1           1.5          0.1\n",
       "4           5.7          3.8           1.7          0.3"
      ]
     },
     "execution_count": 55,
     "metadata": {},
     "output_type": "execute_result"
    }
   ],
   "source": [
    "# define our y targets by popping off the species label\n",
    "y_train = train.pop('species')\n",
    "y_test = test.pop('species')\n",
    "\n",
    "train.head()"
   ]
  },
  {
   "cell_type": "code",
   "execution_count": 56,
   "id": "cordless-rebound",
   "metadata": {},
   "outputs": [
    {
     "data": {
      "text/plain": [
       "(120, 4)"
      ]
     },
     "execution_count": 56,
     "metadata": {},
     "output_type": "execute_result"
    }
   ],
   "source": [
    "train.shape"
   ]
  },
  {
   "cell_type": "code",
   "execution_count": 57,
   "id": "royal-flower",
   "metadata": {},
   "outputs": [
    {
     "data": {
      "text/plain": [
       "(30, 4)"
      ]
     },
     "execution_count": 57,
     "metadata": {},
     "output_type": "execute_result"
    }
   ],
   "source": [
    "test.shape"
   ]
  },
  {
   "cell_type": "code",
   "execution_count": 58,
   "id": "answering-exemption",
   "metadata": {},
   "outputs": [],
   "source": [
    "# INPUT FUNCTION\n",
    "def input_fn(features, labels, training=True, batch_size=256):\n",
    "    \n",
    "    # convert the input to a Dataset object\n",
    "    dataset = tf.data.Dataset.from_tensor_slices((dict(features), labels))\n",
    "    \n",
    "    # shuffle and repeat only when doing training\n",
    "    if training:\n",
    "        dataset = dataset.shuffle(1000).repeat()\n",
    "        \n",
    "    # return the dataset\n",
    "    return dataset.batch(batch_size)"
   ]
  },
  {
   "cell_type": "code",
   "execution_count": 59,
   "id": "valid-italic",
   "metadata": {},
   "outputs": [
    {
     "name": "stdout",
     "output_type": "stream",
     "text": [
      "[NumericColumn(key='sepal_length', shape=(1,), default_value=None, dtype=tf.float32, normalizer_fn=None), NumericColumn(key='sepal_width', shape=(1,), default_value=None, dtype=tf.float32, normalizer_fn=None), NumericColumn(key='petal_length', shape=(1,), default_value=None, dtype=tf.float32, normalizer_fn=None), NumericColumn(key='petal_width', shape=(1,), default_value=None, dtype=tf.float32, normalizer_fn=None)]\n"
     ]
    }
   ],
   "source": [
    "# set up our feature columns\n",
    "iris_feature_columns = []\n",
    "for key in train.keys():\n",
    "    iris_feature_columns.append(tf.feature_column.numeric_column(key=key))\n",
    "print(iris_feature_columns)"
   ]
  },
  {
   "cell_type": "markdown",
   "id": "moral-louis",
   "metadata": {},
   "source": [
    "### Building the Model"
   ]
  },
  {
   "cell_type": "markdown",
   "id": "clinical-replication",
   "metadata": {},
   "source": [
    "And now we are ready to choose a model. For classification tasks there are variety of different estimators/models that we can pick from. Some options are listed below.\n",
    "- ```DNNClassifier``` (Deep Neural Network)\n",
    "- ```LinearClassifier```\n",
    "\n",
    "We can choose either model but the DNN seems to be the best choice. This is because we may not be able to find a linear coorespondence in our data. "
   ]
  },
  {
   "cell_type": "code",
   "execution_count": 60,
   "id": "dangerous-computer",
   "metadata": {},
   "outputs": [
    {
     "name": "stdout",
     "output_type": "stream",
     "text": [
      "INFO:tensorflow:Using default config.\n",
      "WARNING:tensorflow:Using temporary folder as model directory: C:\\Users\\pbeata\\AppData\\Local\\Temp\\tmperdgod9b\n",
      "INFO:tensorflow:Using config: {'_model_dir': 'C:\\\\Users\\\\pbeata\\\\AppData\\\\Local\\\\Temp\\\\tmperdgod9b', '_tf_random_seed': None, '_save_summary_steps': 100, '_save_checkpoints_steps': None, '_save_checkpoints_secs': 600, '_session_config': allow_soft_placement: true\n",
      "graph_options {\n",
      "  rewrite_options {\n",
      "    meta_optimizer_iterations: ONE\n",
      "  }\n",
      "}\n",
      ", '_keep_checkpoint_max': 5, '_keep_checkpoint_every_n_hours': 10000, '_log_step_count_steps': 100, '_train_distribute': None, '_device_fn': None, '_protocol': None, '_eval_distribute': None, '_experimental_distribute': None, '_experimental_max_worker_delay_secs': None, '_session_creation_timeout_secs': 7200, '_checkpoint_save_graph_def': True, '_service': None, '_cluster_spec': ClusterSpec({}), '_task_type': 'worker', '_task_id': 0, '_global_id_in_cluster': 0, '_master': '', '_evaluation_master': '', '_is_chief': True, '_num_ps_replicas': 0, '_num_worker_replicas': 1}\n"
     ]
    }
   ],
   "source": [
    "# build a Deep NN with 2 hidden layers with 30 and 10 hidden nodes each\n",
    "classifier = tf.estimator.DNNClassifier(\n",
    "    \n",
    "    # these are our input features\n",
    "    feature_columns=iris_feature_columns,\n",
    "    \n",
    "    # define 2 hidden layers with different sizes\n",
    "    hidden_units=[30, 10],\n",
    "    \n",
    "    # there are 3 possible output classes\n",
    "    n_classes=3\n",
    ")"
   ]
  },
  {
   "cell_type": "code",
   "execution_count": 62,
   "id": "liberal-commission",
   "metadata": {},
   "outputs": [
    {
     "name": "stdout",
     "output_type": "stream",
     "text": [
      "INFO:tensorflow:Calling model_fn.\n",
      "INFO:tensorflow:Done calling model_fn.\n",
      "INFO:tensorflow:Create CheckpointSaverHook.\n",
      "INFO:tensorflow:Graph was finalized.\n",
      "INFO:tensorflow:Running local_init_op.\n",
      "INFO:tensorflow:Done running local_init_op.\n",
      "INFO:tensorflow:Calling checkpoint listeners before saving checkpoint 0...\n",
      "INFO:tensorflow:Saving checkpoints for 0 into C:\\Users\\pbeata\\AppData\\Local\\Temp\\tmperdgod9b\\model.ckpt.\n",
      "INFO:tensorflow:Calling checkpoint listeners after saving checkpoint 0...\n",
      "INFO:tensorflow:loss = 2.576901, step = 0\n",
      "INFO:tensorflow:global_step/sec: 568.302\n",
      "INFO:tensorflow:loss = 1.231569, step = 100 (0.178 sec)\n",
      "INFO:tensorflow:global_step/sec: 738.4\n",
      "INFO:tensorflow:loss = 0.9871359, step = 200 (0.136 sec)\n",
      "INFO:tensorflow:global_step/sec: 779.886\n",
      "INFO:tensorflow:loss = 0.8729467, step = 300 (0.125 sec)\n",
      "INFO:tensorflow:global_step/sec: 769.597\n",
      "INFO:tensorflow:loss = 0.80580723, step = 400 (0.140 sec)\n",
      "INFO:tensorflow:global_step/sec: 713.957\n",
      "INFO:tensorflow:loss = 0.7711118, step = 500 (0.130 sec)\n",
      "INFO:tensorflow:global_step/sec: 714.138\n",
      "INFO:tensorflow:loss = 0.7391272, step = 600 (0.140 sec)\n",
      "INFO:tensorflow:global_step/sec: 714.8\n",
      "INFO:tensorflow:loss = 0.70485544, step = 700 (0.140 sec)\n",
      "INFO:tensorflow:global_step/sec: 769.471\n",
      "INFO:tensorflow:loss = 0.68960625, step = 800 (0.130 sec)\n",
      "INFO:tensorflow:global_step/sec: 712.072\n",
      "INFO:tensorflow:loss = 0.68269897, step = 900 (0.142 sec)\n",
      "INFO:tensorflow:global_step/sec: 754.769\n",
      "INFO:tensorflow:loss = 0.65196574, step = 1000 (0.132 sec)\n",
      "INFO:tensorflow:global_step/sec: 784.735\n",
      "INFO:tensorflow:loss = 0.6489898, step = 1100 (0.125 sec)\n",
      "INFO:tensorflow:global_step/sec: 715.351\n",
      "INFO:tensorflow:loss = 0.63648033, step = 1200 (0.140 sec)\n",
      "INFO:tensorflow:global_step/sec: 770.215\n",
      "INFO:tensorflow:loss = 0.61792004, step = 1300 (0.130 sec)\n",
      "INFO:tensorflow:global_step/sec: 768.375\n",
      "INFO:tensorflow:loss = 0.6002768, step = 1400 (0.140 sec)\n",
      "INFO:tensorflow:global_step/sec: 714.95\n",
      "INFO:tensorflow:loss = 0.59164107, step = 1500 (0.130 sec)\n",
      "INFO:tensorflow:global_step/sec: 768.38\n",
      "INFO:tensorflow:loss = 0.58794844, step = 1600 (0.130 sec)\n",
      "INFO:tensorflow:global_step/sec: 769.902\n",
      "INFO:tensorflow:loss = 0.5669372, step = 1700 (0.130 sec)\n",
      "INFO:tensorflow:global_step/sec: 767.835\n",
      "INFO:tensorflow:loss = 0.5645627, step = 1800 (0.140 sec)\n",
      "INFO:tensorflow:global_step/sec: 571.819\n",
      "INFO:tensorflow:loss = 0.5461381, step = 1900 (0.170 sec)\n",
      "INFO:tensorflow:global_step/sec: 645.325\n",
      "INFO:tensorflow:loss = 0.5505647, step = 2000 (0.150 sec)\n",
      "INFO:tensorflow:global_step/sec: 712.642\n",
      "INFO:tensorflow:loss = 0.53606534, step = 2100 (0.140 sec)\n",
      "INFO:tensorflow:global_step/sec: 771.775\n",
      "INFO:tensorflow:loss = 0.5151545, step = 2200 (0.140 sec)\n",
      "INFO:tensorflow:global_step/sec: 690.148\n",
      "INFO:tensorflow:loss = 0.5103875, step = 2300 (0.136 sec)\n",
      "INFO:tensorflow:global_step/sec: 739.693\n",
      "INFO:tensorflow:loss = 0.506125, step = 2400 (0.133 sec)\n",
      "INFO:tensorflow:global_step/sec: 714.804\n",
      "INFO:tensorflow:loss = 0.52021414, step = 2500 (0.140 sec)\n",
      "INFO:tensorflow:global_step/sec: 624.174\n",
      "INFO:tensorflow:loss = 0.5000122, step = 2600 (0.160 sec)\n",
      "INFO:tensorflow:global_step/sec: 714.53\n",
      "INFO:tensorflow:loss = 0.49924374, step = 2700 (0.150 sec)\n",
      "INFO:tensorflow:global_step/sec: 712.727\n",
      "INFO:tensorflow:loss = 0.49275059, step = 2800 (0.130 sec)\n",
      "INFO:tensorflow:global_step/sec: 714.889\n",
      "INFO:tensorflow:loss = 0.4914791, step = 2900 (0.140 sec)\n",
      "INFO:tensorflow:global_step/sec: 701.491\n",
      "INFO:tensorflow:loss = 0.4787815, step = 3000 (0.145 sec)\n",
      "INFO:tensorflow:global_step/sec: 727.278\n",
      "INFO:tensorflow:loss = 0.47847438, step = 3100 (0.136 sec)\n",
      "INFO:tensorflow:global_step/sec: 771.19\n",
      "INFO:tensorflow:loss = 0.46699435, step = 3200 (0.140 sec)\n",
      "INFO:tensorflow:global_step/sec: 624.437\n",
      "INFO:tensorflow:loss = 0.46863744, step = 3300 (0.150 sec)\n",
      "INFO:tensorflow:global_step/sec: 573.709\n",
      "INFO:tensorflow:loss = 0.4573679, step = 3400 (0.174 sec)\n",
      "INFO:tensorflow:global_step/sec: 796.816\n",
      "INFO:tensorflow:loss = 0.45288742, step = 3500 (0.136 sec)\n",
      "INFO:tensorflow:global_step/sec: 712.601\n",
      "INFO:tensorflow:loss = 0.4613533, step = 3600 (0.130 sec)\n",
      "INFO:tensorflow:global_step/sec: 630.339\n",
      "INFO:tensorflow:loss = 0.44822547, step = 3700 (0.162 sec)\n",
      "INFO:tensorflow:global_step/sec: 762.526\n",
      "INFO:tensorflow:loss = 0.43825737, step = 3800 (0.127 sec)\n",
      "INFO:tensorflow:global_step/sec: 713.543\n",
      "INFO:tensorflow:loss = 0.44965848, step = 3900 (0.140 sec)\n",
      "INFO:tensorflow:global_step/sec: 767.618\n",
      "INFO:tensorflow:loss = 0.43807065, step = 4000 (0.130 sec)\n",
      "INFO:tensorflow:global_step/sec: 716.747\n",
      "INFO:tensorflow:loss = 0.43979228, step = 4100 (0.140 sec)\n",
      "INFO:tensorflow:global_step/sec: 712.154\n",
      "INFO:tensorflow:loss = 0.43037444, step = 4200 (0.140 sec)\n",
      "INFO:tensorflow:global_step/sec: 770.653\n",
      "INFO:tensorflow:loss = 0.43444294, step = 4300 (0.130 sec)\n",
      "INFO:tensorflow:global_step/sec: 732.809\n",
      "INFO:tensorflow:loss = 0.4325551, step = 4400 (0.137 sec)\n",
      "INFO:tensorflow:global_step/sec: 741.663\n",
      "INFO:tensorflow:loss = 0.42176035, step = 4500 (0.136 sec)\n",
      "INFO:tensorflow:global_step/sec: 777.338\n",
      "INFO:tensorflow:loss = 0.4243427, step = 4600 (0.127 sec)\n",
      "INFO:tensorflow:global_step/sec: 713.719\n",
      "INFO:tensorflow:loss = 0.41451883, step = 4700 (0.140 sec)\n",
      "INFO:tensorflow:global_step/sec: 714.676\n",
      "INFO:tensorflow:loss = 0.41751537, step = 4800 (0.140 sec)\n",
      "INFO:tensorflow:global_step/sec: 667.307\n",
      "INFO:tensorflow:loss = 0.41535076, step = 4900 (0.160 sec)\n",
      "INFO:tensorflow:Calling checkpoint listeners before saving checkpoint 5000...\n",
      "INFO:tensorflow:Saving checkpoints for 5000 into C:\\Users\\pbeata\\AppData\\Local\\Temp\\tmperdgod9b\\model.ckpt.\n",
      "INFO:tensorflow:Calling checkpoint listeners after saving checkpoint 5000...\n",
      "INFO:tensorflow:Loss for final step: 0.4099515.\n"
     ]
    },
    {
     "data": {
      "text/plain": [
       "<tensorflow_estimator.python.estimator.canned.dnn.DNNClassifierV2 at 0x217cef31b20>"
      ]
     },
     "execution_count": 62,
     "metadata": {},
     "output_type": "execute_result"
    }
   ],
   "source": [
    "# training\n",
    "classifier.train(\n",
    "    input_fn=lambda: input_fn(train, y_train, training=True),\n",
    "    steps=5000)"
   ]
  },
  {
   "cell_type": "code",
   "execution_count": 61,
   "id": "waiting-forest",
   "metadata": {},
   "outputs": [
    {
     "name": "stdout",
     "output_type": "stream",
     "text": [
      "hi\n"
     ]
    }
   ],
   "source": [
    "# we use lambda functions above to call the input function\n",
    "x = lambda: print(\"hi\")\n",
    "x()"
   ]
  },
  {
   "cell_type": "code",
   "execution_count": 67,
   "id": "declared-performance",
   "metadata": {},
   "outputs": [
    {
     "name": "stdout",
     "output_type": "stream",
     "text": [
      "INFO:tensorflow:Calling model_fn.\n",
      "INFO:tensorflow:Done calling model_fn.\n",
      "INFO:tensorflow:Starting evaluation at 2021-05-18T10:49:41Z\n",
      "INFO:tensorflow:Graph was finalized.\n",
      "INFO:tensorflow:Restoring parameters from C:\\Users\\pbeata\\AppData\\Local\\Temp\\tmperdgod9b\\model.ckpt-5000\n",
      "INFO:tensorflow:Running local_init_op.\n",
      "INFO:tensorflow:Done running local_init_op.\n",
      "INFO:tensorflow:Inference Time : 0.22528s\n",
      "INFO:tensorflow:Finished evaluation at 2021-05-18-10:49:41\n",
      "INFO:tensorflow:Saving dict for global step 5000: accuracy = 0.8666667, average_loss = 0.48629645, global_step = 5000, loss = 0.48629645\n",
      "INFO:tensorflow:Saving 'checkpoint_path' summary for global step 5000: C:\\Users\\pbeata\\AppData\\Local\\Temp\\tmperdgod9b\\model.ckpt-5000\n"
     ]
    }
   ],
   "source": [
    "# evaluation\n",
    "results = classifier.evaluate(input_fn=lambda: input_fn(test, y_test, training=False))"
   ]
  },
  {
   "cell_type": "code",
   "execution_count": 68,
   "id": "classified-shame",
   "metadata": {},
   "outputs": [
    {
     "name": "stdout",
     "output_type": "stream",
     "text": [
      "\n",
      "Test Set Accuracy: 0.867\n",
      "\n"
     ]
    }
   ],
   "source": [
    "print('\\nTest Set Accuracy: {accuracy:0.3f}\\n'.format(**results))"
   ]
  },
  {
   "cell_type": "code",
   "execution_count": 71,
   "id": "played-jenny",
   "metadata": {},
   "outputs": [
    {
     "name": "stdout",
     "output_type": "stream",
     "text": [
      "Please type numeric values as promted.\n",
      "sepal_length: 2.4\n",
      "sepal_width: 2.6\n",
      "petal_length: 6.5\n",
      "petal_width: 6.3\n",
      "INFO:tensorflow:Calling model_fn.\n",
      "INFO:tensorflow:Done calling model_fn.\n",
      "INFO:tensorflow:Graph was finalized.\n",
      "INFO:tensorflow:Restoring parameters from C:\\Users\\pbeata\\AppData\\Local\\Temp\\tmperdgod9b\\model.ckpt-5000\n",
      "INFO:tensorflow:Running local_init_op.\n",
      "INFO:tensorflow:Done running local_init_op.\n",
      "Prediction is \"Virginica\" (98.4%)\n"
     ]
    }
   ],
   "source": [
    "# MAKING NEW PREDICTIONS WITH OUR MODEL\n",
    "\n",
    "# convert inputs to Dataset object without labels\n",
    "def input_fn_no_labels(features, batch_size=256):\n",
    "    return tf.data.Dataset.from_tensor_slices(dict(features)).batch(batch_size)\n",
    "\n",
    "features = ['sepal_length', 'sepal_width', 'petal_length', 'petal_width']\n",
    "predict = {}\n",
    "\n",
    "print(\"Please type numeric values as promted.\")\n",
    "for feat in features:\n",
    "    valid = True\n",
    "    while valid:\n",
    "        value = input(feat + \": \")\n",
    "        if not value.isdigit(): \n",
    "            valid = False\n",
    "    predict[feat] = [float(value)]\n",
    "\n",
    "predictions = classifier.predict(input_fn=lambda: input_fn_no_labels(predict))\n",
    "\n",
    "for pred in predictions:\n",
    "    class_id = pred['class_ids'][0]\n",
    "    prob = pred['probabilities'][class_id]\n",
    "    print('Prediction is \"{}\" ({:.1f}%)'.format(SPECIES[class_id], 100 * prob))"
   ]
  },
  {
   "cell_type": "code",
   "execution_count": 72,
   "id": "unusual-tokyo",
   "metadata": {},
   "outputs": [
    {
     "data": {
      "text/plain": [
       "<generator object Estimator.predict at 0x00000217CEDE2660>"
      ]
     },
     "execution_count": 72,
     "metadata": {},
     "output_type": "execute_result"
    }
   ],
   "source": [
    "predictions"
   ]
  },
  {
   "cell_type": "code",
   "execution_count": 73,
   "id": "super-clark",
   "metadata": {},
   "outputs": [
    {
     "data": {
      "text/plain": [
       "{'sepal_length': [2.4],\n",
       " 'sepal_width': [2.6],\n",
       " 'petal_length': [6.5],\n",
       " 'petal_width': [6.3]}"
      ]
     },
     "execution_count": 73,
     "metadata": {},
     "output_type": "execute_result"
    }
   ],
   "source": [
    "predict"
   ]
  },
  {
   "cell_type": "code",
   "execution_count": 74,
   "id": "automotive-plastic",
   "metadata": {},
   "outputs": [],
   "source": [
    "# further testing with predictions\n",
    "expected_labels = ['Setosa', 'Versicolor', 'Virginica']\n",
    "\n",
    "x_pred = {'sepal_length': [5.1, 5.9, 6.9],\n",
    "         'sepal_width':   [3.3, 3.0, 3.1],\n",
    "         'petal_length':  [1.7, 4.2, 5.4],\n",
    "         'petal_width':   [0.5, 1.5, 2.1]}"
   ]
  },
  {
   "cell_type": "code",
   "execution_count": 75,
   "id": "varying-nevada",
   "metadata": {},
   "outputs": [
    {
     "name": "stdout",
     "output_type": "stream",
     "text": [
      "INFO:tensorflow:Calling model_fn.\n",
      "INFO:tensorflow:Done calling model_fn.\n",
      "INFO:tensorflow:Graph was finalized.\n",
      "INFO:tensorflow:Restoring parameters from C:\\Users\\pbeata\\AppData\\Local\\Temp\\tmperdgod9b\\model.ckpt-5000\n",
      "INFO:tensorflow:Running local_init_op.\n",
      "INFO:tensorflow:Done running local_init_op.\n",
      "Prediction is \"Setosa\" (84.2%)\n",
      "Prediction is \"Versicolor\" (47.8%)\n",
      "Prediction is \"Virginica\" (62.5%)\n"
     ]
    }
   ],
   "source": [
    "predictions = classifier.predict(input_fn=lambda: input_fn_no_labels(x_pred))\n",
    "\n",
    "for pred in predictions:\n",
    "    class_id = pred['class_ids'][0]\n",
    "    prob = pred['probabilities'][class_id]\n",
    "    print('Prediction is \"{}\" ({:.1f}%)'.format(SPECIES[class_id], 100 * prob))"
   ]
  },
  {
   "cell_type": "markdown",
   "id": "exempt-stephen",
   "metadata": {},
   "source": [
    "### Clustering\n",
    "\n",
    "* Unsupervised Learning\n",
    "* Hidden Markov Models (HMM)\n",
    "* Weather prediction example"
   ]
  },
  {
   "cell_type": "code",
   "execution_count": null,
   "id": "intimate-entry",
   "metadata": {},
   "outputs": [],
   "source": []
  }
 ],
 "metadata": {
  "kernelspec": {
   "display_name": "Python 3",
   "language": "python",
   "name": "python3"
  },
  "language_info": {
   "codemirror_mode": {
    "name": "ipython",
    "version": 3
   },
   "file_extension": ".py",
   "mimetype": "text/x-python",
   "name": "python",
   "nbconvert_exporter": "python",
   "pygments_lexer": "ipython3",
   "version": "3.8.8"
  }
 },
 "nbformat": 4,
 "nbformat_minor": 5
}
