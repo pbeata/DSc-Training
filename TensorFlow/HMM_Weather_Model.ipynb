{
 "cells": [
  {
   "cell_type": "markdown",
   "id": "emerging-convert",
   "metadata": {},
   "source": [
    "## Hidden Markov Model (HMM)\n",
    "\n",
    "The Weather Model:\n",
    "\n",
    "* Cold days are encoded as 0 and hot days are encoded as 1\n",
    "* The first day has an 80% of being cold\n",
    "* A cold day has a 30% chance of being followed by a hot day\n",
    "* A hot day has a 20% chance of being followed by a cold day\n",
    "* Each day the temperature is normally distributed with a mean and standard deviation of 0 and 5 on a cold day and 15 and 10 on a hot day, respectively."
   ]
  },
  {
   "cell_type": "code",
   "execution_count": 3,
   "id": "accessory-acceptance",
   "metadata": {},
   "outputs": [],
   "source": [
    "%config Completer.use_jedi = False"
   ]
  },
  {
   "cell_type": "code",
   "execution_count": 4,
   "id": "labeled-warren",
   "metadata": {},
   "outputs": [
    {
     "name": "stdout",
     "output_type": "stream",
     "text": [
      "2.4.1\n"
     ]
    }
   ],
   "source": [
    "import tensorflow as tf\n",
    "print(tf.__version__)"
   ]
  },
  {
   "cell_type": "code",
   "execution_count": 6,
   "id": "congressional-generic",
   "metadata": {},
   "outputs": [
    {
     "name": "stdout",
     "output_type": "stream",
     "text": [
      "Requirement already satisfied: tensorflow_probability in c:\\users\\pbeata\\anaconda3\\envs\\py3-tf2.0\\lib\\site-packages (0.12.2)\n",
      "Requirement already satisfied: numpy>=1.13.3 in c:\\users\\pbeata\\anaconda3\\envs\\py3-tf2.0\\lib\\site-packages (from tensorflow_probability) (1.19.2)\n",
      "Requirement already satisfied: dm-tree in c:\\users\\pbeata\\anaconda3\\envs\\py3-tf2.0\\lib\\site-packages (from tensorflow_probability) (0.1.6)\n",
      "Requirement already satisfied: decorator in c:\\users\\pbeata\\anaconda3\\envs\\py3-tf2.0\\lib\\site-packages (from tensorflow_probability) (4.4.2)\n",
      "Requirement already satisfied: cloudpickle>=1.3 in c:\\users\\pbeata\\anaconda3\\envs\\py3-tf2.0\\lib\\site-packages (from tensorflow_probability) (1.6.0)\n",
      "Requirement already satisfied: six>=1.10.0 in c:\\users\\pbeata\\anaconda3\\envs\\py3-tf2.0\\lib\\site-packages (from tensorflow_probability) (1.15.0)\n",
      "Requirement already satisfied: gast>=0.3.2 in c:\\users\\pbeata\\anaconda3\\envs\\py3-tf2.0\\lib\\site-packages (from tensorflow_probability) (0.3.3)\n",
      "Note: you may need to restart the kernel to use updated packages.\n"
     ]
    }
   ],
   "source": [
    "# pip install tensorflow_probability"
   ]
  },
  {
   "cell_type": "code",
   "execution_count": 5,
   "id": "practical-lucas",
   "metadata": {},
   "outputs": [],
   "source": [
    "import tensorflow_probability as tfp"
   ]
  },
  {
   "cell_type": "markdown",
   "id": "flexible-authority",
   "metadata": {},
   "source": [
    "### Building the Model"
   ]
  },
  {
   "cell_type": "code",
   "execution_count": 7,
   "id": "german-drunk",
   "metadata": {},
   "outputs": [],
   "source": [
    "# make this shortcut to use TF probability distributions later on\n",
    "tfd = tfp.distributions"
   ]
  },
  {
   "cell_type": "code",
   "execution_count": 8,
   "id": "compact-review",
   "metadata": {},
   "outputs": [],
   "source": [
    "# from: \"the first day has an 80% of being cold\"\n",
    "initial_dist = tfd.Categorical(probs=[0.8, 0.2])"
   ]
  },
  {
   "cell_type": "code",
   "execution_count": 9,
   "id": "private-craps",
   "metadata": {},
   "outputs": [],
   "source": [
    "# this refers to the transition from hot to cold or cold to hot days defined above:\n",
    "transition_dist = tfd.Categorical(probs=[[0.7, 0.3],\n",
    "                                         [0.2, 0.8]])"
   ]
  },
  {
   "cell_type": "code",
   "execution_count": 10,
   "id": "stylish-direction",
   "metadata": {},
   "outputs": [],
   "source": [
    "# definition of the cold and hot days as above (observations): loc is mean and scale is stdev\n",
    "observation_dist = tfd.Normal(loc=[0.0, 15.0], scale=[5.0, 10.0])"
   ]
  },
  {
   "cell_type": "code",
   "execution_count": 11,
   "id": "encouraging-concern",
   "metadata": {},
   "outputs": [],
   "source": [
    "# MODEL\n",
    "\n",
    "# num_steps: how many days we are going to predict here \n",
    "model = tfd.HiddenMarkovModel(\n",
    "    initial_distribution=initial_dist,\n",
    "    transition_distribution=transition_dist,\n",
    "    observation_distribution=observation_dist,\n",
    "    num_steps=7)"
   ]
  },
  {
   "cell_type": "code",
   "execution_count": 14,
   "id": "bizarre-express",
   "metadata": {},
   "outputs": [
    {
     "name": "stdout",
     "output_type": "stream",
     "text": [
      "[2.9999998 5.9999995 7.4999995 8.25      8.625001  8.812501  8.90625  ]\n"
     ]
    }
   ],
   "source": [
    "# results\n",
    "mean = model.mean()\n",
    "\n",
    "# we need to evaluate part of the graph from within a session to see the value of this tensor\n",
    "with tf.compat.v1.Session() as sess:\n",
    "    x = mean.numpy()\n",
    "    print(x)"
   ]
  },
  {
   "cell_type": "markdown",
   "id": "adopted-suicide",
   "metadata": {},
   "source": [
    "### Building the Model - Single Block"
   ]
  },
  {
   "cell_type": "code",
   "execution_count": 18,
   "id": "educated-masters",
   "metadata": {},
   "outputs": [
    {
     "name": "stdout",
     "output_type": "stream",
     "text": [
      "[3.    6.    7.5   8.25  8.625 8.813 8.906]\n"
     ]
    }
   ],
   "source": [
    "# initial state\n",
    "initial_dist = tfd.Categorical(probs=[0.8, 0.2])\n",
    "\n",
    "# define transitions\n",
    "transition_dist = tfd.Categorical(probs=[[0.7, 0.3],\n",
    "                                         [0.2, 0.8]])\n",
    "\n",
    "# observations\n",
    "observation_dist = tfd.Normal(loc=[0.0, 15.0], scale=[5.0, 10.0])\n",
    "\n",
    "# num_steps: how many days we are going to predict here \n",
    "model = tfd.HiddenMarkovModel(\n",
    "    initial_distribution=initial_dist,\n",
    "    transition_distribution=transition_dist,\n",
    "    observation_distribution=observation_dist,\n",
    "    num_steps=7)\n",
    "\n",
    "# results\n",
    "mean = model.mean()\n",
    "with tf.compat.v1.Session() as sess:\n",
    "    x = mean.numpy()\n",
    "    x = x.round(3)\n",
    "    print(x)"
   ]
  },
  {
   "cell_type": "code",
   "execution_count": 21,
   "id": "valuable-hampton",
   "metadata": {},
   "outputs": [
    {
     "name": "stdout",
     "output_type": "stream",
     "text": [
      "Mean Temperatures by Day:\n",
      "M  T  W  R  F  S  S\n",
      "[ 3.   8.4 10.  10.5 10.7 10.7 10.7]\n"
     ]
    }
   ],
   "source": [
    "# initial state (point 2)\n",
    "initial_dist = tfd.Categorical(probs=[0.8, 0.2])\n",
    "\n",
    "# define transitions (points 3-4)\n",
    "transition_dist = tfd.Categorical(probs=[[0.5, 0.5],\n",
    "                                         [0.2, 0.8]])\n",
    "\n",
    "# observations (point 5)\n",
    "observation_dist = tfd.Normal(loc=[0.0, 15.0], scale=[5.0, 10.0])\n",
    "\n",
    "# num_steps: how many days we are going to predict here \n",
    "model = tfd.HiddenMarkovModel(\n",
    "    initial_distribution=initial_dist,\n",
    "    transition_distribution=transition_dist,\n",
    "    observation_distribution=observation_dist,\n",
    "    num_steps=7)\n",
    "\n",
    "# results\n",
    "mean = model.mean()\n",
    "with tf.compat.v1.Session() as sess:\n",
    "    x = mean.numpy()\n",
    "    x = x.round(1)\n",
    "    print('Mean Temperatures by Day:')\n",
    "    print('M  T  W  R  F  S  S')\n",
    "    print(x)"
   ]
  }
 ],
 "metadata": {
  "kernelspec": {
   "display_name": "Python 3",
   "language": "python",
   "name": "python3"
  },
  "language_info": {
   "codemirror_mode": {
    "name": "ipython",
    "version": 3
   },
   "file_extension": ".py",
   "mimetype": "text/x-python",
   "name": "python",
   "nbconvert_exporter": "python",
   "pygments_lexer": "ipython3",
   "version": "3.8.8"
  }
 },
 "nbformat": 4,
 "nbformat_minor": 5
}
