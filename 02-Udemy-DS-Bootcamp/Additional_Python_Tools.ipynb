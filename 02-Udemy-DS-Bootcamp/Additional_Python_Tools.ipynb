{
 "cells": [
  {
   "cell_type": "markdown",
   "metadata": {},
   "source": [
    "<hr style=\"border:5px solid #108999\"> </hr>"
   ]
  },
  {
   "cell_type": "markdown",
   "metadata": {},
   "source": [
    "# Additional Python Tools <hr style=\"border:4.5px solid #108999\"> </hr>"
   ]
  },
  {
   "cell_type": "markdown",
   "metadata": {},
   "source": [
    "## Using the .format() Method"
   ]
  },
  {
   "cell_type": "markdown",
   "metadata": {},
   "source": [
    "Consider the following string."
   ]
  },
  {
   "cell_type": "code",
   "execution_count": 1,
   "metadata": {},
   "outputs": [
    {
     "data": {
      "text/plain": [
       "\"{} expect their next year's sales of Q{} to {}.\""
      ]
     },
     "execution_count": 1,
     "metadata": {},
     "output_type": "execute_result"
    }
   ],
   "source": [
    "\"{} expect their next year's sales of Q{} to {}.\""
   ]
  },
  {
   "cell_type": "markdown",
   "metadata": {},
   "source": [
    "Use the **.format()** method to substitute the pairs of braces in the string with the following three values, thus obtaining information about the sales of Company A for the third quarter of next year:\n",
    "<br>'Company A'\n",
    "<br>3\n",
    "<br>'increase'"
   ]
  },
  {
   "cell_type": "code",
   "execution_count": 1,
   "metadata": {},
   "outputs": [
    {
     "name": "stdout",
     "output_type": "stream",
     "text": [
      "Company A expects their next year's sales of Q3 to increase.\n"
     ]
    }
   ],
   "source": [
    "print(\"{x} expects their next year's sales of Q{y} to {z}.\".format(x='Company A', y='3', z='increase') )"
   ]
  },
  {
   "cell_type": "markdown",
   "metadata": {},
   "source": [
    "Execute the next cell to create three variables that store information about companies, quarters and sales performance predictions, respectively."
   ]
  },
  {
   "cell_type": "code",
   "execution_count": 2,
   "metadata": {},
   "outputs": [],
   "source": [
    "companies = ['Company A', 'Company B']\n",
    "quarter = [1, 2, 3, 4]\n",
    "sales_performance_prediction = ['increase', 'decrease', 'remain the same']"
   ]
  },
  {
   "cell_type": "markdown",
   "metadata": {},
   "source": [
    "Obtain the same output as above while referring to the three lists you just created. Help yourself with using appropriate indexing.\n",
    "<br>Here's the output you need to aim for as a reference.\n",
    "<br>\"Company A expect their next year's sales of Q3 to increase.\""
   ]
  },
  {
   "cell_type": "code",
   "execution_count": 3,
   "metadata": {},
   "outputs": [
    {
     "name": "stdout",
     "output_type": "stream",
     "text": [
      "Company A expects their next year's sales of Q3 to increase.\n"
     ]
    }
   ],
   "source": [
    "print(\"{x} expects their next year's sales of Q{y} to {z}.\".format(x=companies[0], y=quarter[2], z=sales_performance_prediction[0]) )"
   ]
  },
  {
   "cell_type": "markdown",
   "metadata": {},
   "source": [
    "Feel free to experiment with the same line of code while referencing different values from the three lists that have been given."
   ]
  },
  {
   "cell_type": "markdown",
   "metadata": {},
   "source": [
    "Here's an example:"
   ]
  },
  {
   "cell_type": "code",
   "execution_count": 4,
   "metadata": {},
   "outputs": [
    {
     "data": {
      "text/plain": [
       "\"Company B expect their next year's sales of Q1 to remain the same.\""
      ]
     },
     "execution_count": 4,
     "metadata": {},
     "output_type": "execute_result"
    }
   ],
   "source": [
    "\"{} expect their next year's sales of Q{} to {}.\".format(companies[1], quarter[0], sales_performance_prediction[2])"
   ]
  },
  {
   "cell_type": "markdown",
   "metadata": {},
   "source": [
    "## Iterating Over Range Objects, <br><br> Nested For Loops - Introduction, <br><br> Triple Nested For Loops"
   ]
  },
  {
   "cell_type": "markdown",
   "metadata": {},
   "source": [
    "Create a 'range' object with a stop value of 10. \n",
    "Do this operation twice - once without indicating a start value, and then by indicating the start value of 0."
   ]
  },
  {
   "cell_type": "code",
   "execution_count": 7,
   "metadata": {},
   "outputs": [
    {
     "data": {
      "text/plain": [
       "range(0, 10)"
      ]
     },
     "execution_count": 7,
     "metadata": {},
     "output_type": "execute_result"
    }
   ],
   "source": [
    "range(10)"
   ]
  },
  {
   "cell_type": "code",
   "execution_count": 6,
   "metadata": {},
   "outputs": [
    {
     "data": {
      "text/plain": [
       "[1, 3, 5, 7, 9]"
      ]
     },
     "execution_count": 6,
     "metadata": {},
     "output_type": "execute_result"
    }
   ],
   "source": [
    "list(range(1, 10, 2))"
   ]
  },
  {
   "cell_type": "markdown",
   "metadata": {},
   "source": [
    "Turn this 'range' object into a list of values."
   ]
  },
  {
   "cell_type": "code",
   "execution_count": 8,
   "metadata": {},
   "outputs": [
    {
     "data": {
      "text/plain": [
       "[0, 1, 2, 3, 4, 5, 6, 7, 8, 9]"
      ]
     },
     "execution_count": 8,
     "metadata": {},
     "output_type": "execute_result"
    }
   ],
   "source": [
    "list(range(0, 10))"
   ]
  },
  {
   "cell_type": "markdown",
   "metadata": {},
   "source": [
    "Obtain all integers from 0 to 9 again, this time using a for-loop with a range() function. Let Python display the values in the output vertically."
   ]
  },
  {
   "cell_type": "code",
   "execution_count": 9,
   "metadata": {},
   "outputs": [
    {
     "name": "stdout",
     "output_type": "stream",
     "text": [
      "0\n",
      "1\n",
      "2\n",
      "3\n",
      "4\n",
      "5\n",
      "6\n",
      "7\n",
      "8\n",
      "9\n"
     ]
    }
   ],
   "source": [
    "for i in range(10):\n",
    "    print(i, end=\"\\n\")"
   ]
  },
  {
   "cell_type": "markdown",
   "metadata": {},
   "source": [
    "Repeat the same task, this time printing the values from the output on the same line."
   ]
  },
  {
   "cell_type": "code",
   "execution_count": 10,
   "metadata": {},
   "outputs": [
    {
     "name": "stdout",
     "output_type": "stream",
     "text": [
      "0 1 2 3 4 5 6 7 8 9 "
     ]
    }
   ],
   "source": [
    "for i in range(10):\n",
    "    print(i, end=\" \")"
   ]
  },
  {
   "cell_type": "markdown",
   "metadata": {},
   "source": [
    "Create a nested loop that delivers all possible combinations of the elements from the following two lists in the form of lists:"
   ]
  },
  {
   "cell_type": "code",
   "execution_count": 11,
   "metadata": {},
   "outputs": [],
   "source": [
    "products_on_sale = ['Chair_Type_1', 'Chair_Type_2', 'Chair_Type_3', 'Chair_Type_4']\n",
    "sale_prices = [100, 120, 135, 150]"
   ]
  },
  {
   "cell_type": "code",
   "execution_count": 12,
   "metadata": {},
   "outputs": [
    {
     "name": "stdout",
     "output_type": "stream",
     "text": [
      "Product Chair_Type_1 costs $100\n",
      "Product Chair_Type_1 costs $120\n",
      "Product Chair_Type_1 costs $135\n",
      "Product Chair_Type_1 costs $150\n",
      "Product Chair_Type_2 costs $100\n",
      "Product Chair_Type_2 costs $120\n",
      "Product Chair_Type_2 costs $135\n",
      "Product Chair_Type_2 costs $150\n",
      "Product Chair_Type_3 costs $100\n",
      "Product Chair_Type_3 costs $120\n",
      "Product Chair_Type_3 costs $135\n",
      "Product Chair_Type_3 costs $150\n",
      "Product Chair_Type_4 costs $100\n",
      "Product Chair_Type_4 costs $120\n",
      "Product Chair_Type_4 costs $135\n",
      "Product Chair_Type_4 costs $150\n"
     ]
    }
   ],
   "source": [
    "for prod in products_on_sale:\n",
    "    for price in sale_prices:\n",
    "        print(\"Product {x} costs ${y}\".format(x=prod, y=price))"
   ]
  },
  {
   "cell_type": "markdown",
   "metadata": {},
   "source": [
    "Consider the following list with data, which is our third for this exercise. It represents the possible quantities in which the relevant items can be put on sale."
   ]
  },
  {
   "cell_type": "code",
   "execution_count": 13,
   "metadata": {},
   "outputs": [],
   "source": [
    "quantities = [1000, 1500, 1300]"
   ]
  },
  {
   "cell_type": "markdown",
   "metadata": {},
   "source": [
    "Create a triple nested loop that shows the potential revenue generated from each chair type. Use iterator variables with more meaningful names than letters such as i, j, k.\n",
    "<br>Present two versions of the nested loop. Let the first one return a Python list where the chair type is the first element, while the potential revenue is the second element. \n",
    "<br>Then, let the second loop return a more presentable output, where the quantity and potential revenue have been explicitly stated."
   ]
  },
  {
   "cell_type": "code",
   "execution_count": 14,
   "metadata": {},
   "outputs": [
    {
     "name": "stdout",
     "output_type": "stream",
     "text": [
      "Product Chair_Type_1 revenue will be $100000\n",
      "Product Chair_Type_1 revenue will be $150000\n",
      "Product Chair_Type_1 revenue will be $130000\n",
      "Product Chair_Type_1 revenue will be $120000\n",
      "Product Chair_Type_1 revenue will be $180000\n",
      "Product Chair_Type_1 revenue will be $156000\n",
      "Product Chair_Type_1 revenue will be $135000\n",
      "Product Chair_Type_1 revenue will be $202500\n",
      "Product Chair_Type_1 revenue will be $175500\n",
      "Product Chair_Type_1 revenue will be $150000\n",
      "Product Chair_Type_1 revenue will be $225000\n",
      "Product Chair_Type_1 revenue will be $195000\n",
      "Product Chair_Type_2 revenue will be $100000\n",
      "Product Chair_Type_2 revenue will be $150000\n",
      "Product Chair_Type_2 revenue will be $130000\n",
      "Product Chair_Type_2 revenue will be $120000\n",
      "Product Chair_Type_2 revenue will be $180000\n",
      "Product Chair_Type_2 revenue will be $156000\n",
      "Product Chair_Type_2 revenue will be $135000\n",
      "Product Chair_Type_2 revenue will be $202500\n",
      "Product Chair_Type_2 revenue will be $175500\n",
      "Product Chair_Type_2 revenue will be $150000\n",
      "Product Chair_Type_2 revenue will be $225000\n",
      "Product Chair_Type_2 revenue will be $195000\n",
      "Product Chair_Type_3 revenue will be $100000\n",
      "Product Chair_Type_3 revenue will be $150000\n",
      "Product Chair_Type_3 revenue will be $130000\n",
      "Product Chair_Type_3 revenue will be $120000\n",
      "Product Chair_Type_3 revenue will be $180000\n",
      "Product Chair_Type_3 revenue will be $156000\n",
      "Product Chair_Type_3 revenue will be $135000\n",
      "Product Chair_Type_3 revenue will be $202500\n",
      "Product Chair_Type_3 revenue will be $175500\n",
      "Product Chair_Type_3 revenue will be $150000\n",
      "Product Chair_Type_3 revenue will be $225000\n",
      "Product Chair_Type_3 revenue will be $195000\n",
      "Product Chair_Type_4 revenue will be $100000\n",
      "Product Chair_Type_4 revenue will be $150000\n",
      "Product Chair_Type_4 revenue will be $130000\n",
      "Product Chair_Type_4 revenue will be $120000\n",
      "Product Chair_Type_4 revenue will be $180000\n",
      "Product Chair_Type_4 revenue will be $156000\n",
      "Product Chair_Type_4 revenue will be $135000\n",
      "Product Chair_Type_4 revenue will be $202500\n",
      "Product Chair_Type_4 revenue will be $175500\n",
      "Product Chair_Type_4 revenue will be $150000\n",
      "Product Chair_Type_4 revenue will be $225000\n",
      "Product Chair_Type_4 revenue will be $195000\n"
     ]
    }
   ],
   "source": [
    "for prod in products_on_sale:\n",
    "    for price in sale_prices:\n",
    "        for amt in quantities:\n",
    "            revenue = amt * price\n",
    "            print(\"Product {x} revenue will be ${z}\".format(x=prod, z=revenue))"
   ]
  },
  {
   "cell_type": "code",
   "execution_count": 16,
   "metadata": {},
   "outputs": [
    {
     "name": "stdout",
     "output_type": "stream",
     "text": [
      "Product Chair_Type_1 price is $100 and we will sell a quantity of 1000.\n",
      "Product Chair_Type_1 price is $100 and we will sell a quantity of 1500.\n",
      "Product Chair_Type_1 price is $100 and we will sell a quantity of 1300.\n",
      "Product Chair_Type_1 price is $120 and we will sell a quantity of 1000.\n",
      "Product Chair_Type_1 price is $120 and we will sell a quantity of 1500.\n",
      "Product Chair_Type_1 price is $120 and we will sell a quantity of 1300.\n",
      "Product Chair_Type_1 price is $135 and we will sell a quantity of 1000.\n",
      "Product Chair_Type_1 price is $135 and we will sell a quantity of 1500.\n",
      "Product Chair_Type_1 price is $135 and we will sell a quantity of 1300.\n",
      "Product Chair_Type_1 price is $150 and we will sell a quantity of 1000.\n",
      "Product Chair_Type_1 price is $150 and we will sell a quantity of 1500.\n",
      "Product Chair_Type_1 price is $150 and we will sell a quantity of 1300.\n",
      "Product Chair_Type_2 price is $100 and we will sell a quantity of 1000.\n",
      "Product Chair_Type_2 price is $100 and we will sell a quantity of 1500.\n",
      "Product Chair_Type_2 price is $100 and we will sell a quantity of 1300.\n",
      "Product Chair_Type_2 price is $120 and we will sell a quantity of 1000.\n",
      "Product Chair_Type_2 price is $120 and we will sell a quantity of 1500.\n",
      "Product Chair_Type_2 price is $120 and we will sell a quantity of 1300.\n",
      "Product Chair_Type_2 price is $135 and we will sell a quantity of 1000.\n",
      "Product Chair_Type_2 price is $135 and we will sell a quantity of 1500.\n",
      "Product Chair_Type_2 price is $135 and we will sell a quantity of 1300.\n",
      "Product Chair_Type_2 price is $150 and we will sell a quantity of 1000.\n",
      "Product Chair_Type_2 price is $150 and we will sell a quantity of 1500.\n",
      "Product Chair_Type_2 price is $150 and we will sell a quantity of 1300.\n",
      "Product Chair_Type_3 price is $100 and we will sell a quantity of 1000.\n",
      "Product Chair_Type_3 price is $100 and we will sell a quantity of 1500.\n",
      "Product Chair_Type_3 price is $100 and we will sell a quantity of 1300.\n",
      "Product Chair_Type_3 price is $120 and we will sell a quantity of 1000.\n",
      "Product Chair_Type_3 price is $120 and we will sell a quantity of 1500.\n",
      "Product Chair_Type_3 price is $120 and we will sell a quantity of 1300.\n",
      "Product Chair_Type_3 price is $135 and we will sell a quantity of 1000.\n",
      "Product Chair_Type_3 price is $135 and we will sell a quantity of 1500.\n",
      "Product Chair_Type_3 price is $135 and we will sell a quantity of 1300.\n",
      "Product Chair_Type_3 price is $150 and we will sell a quantity of 1000.\n",
      "Product Chair_Type_3 price is $150 and we will sell a quantity of 1500.\n",
      "Product Chair_Type_3 price is $150 and we will sell a quantity of 1300.\n",
      "Product Chair_Type_4 price is $100 and we will sell a quantity of 1000.\n",
      "Product Chair_Type_4 price is $100 and we will sell a quantity of 1500.\n",
      "Product Chair_Type_4 price is $100 and we will sell a quantity of 1300.\n",
      "Product Chair_Type_4 price is $120 and we will sell a quantity of 1000.\n",
      "Product Chair_Type_4 price is $120 and we will sell a quantity of 1500.\n",
      "Product Chair_Type_4 price is $120 and we will sell a quantity of 1300.\n",
      "Product Chair_Type_4 price is $135 and we will sell a quantity of 1000.\n",
      "Product Chair_Type_4 price is $135 and we will sell a quantity of 1500.\n",
      "Product Chair_Type_4 price is $135 and we will sell a quantity of 1300.\n",
      "Product Chair_Type_4 price is $150 and we will sell a quantity of 1000.\n",
      "Product Chair_Type_4 price is $150 and we will sell a quantity of 1500.\n",
      "Product Chair_Type_4 price is $150 and we will sell a quantity of 1300.\n"
     ]
    }
   ],
   "source": [
    "for prod in products_on_sale:\n",
    "    for price in sale_prices:\n",
    "        for amt in quantities:\n",
    "            print(\"Product {x} price is ${y} and we will sell a quantity of {z}.\".format(x=prod, y=price, z=amt))"
   ]
  },
  {
   "cell_type": "markdown",
   "metadata": {},
   "source": [
    "## List Comprehensions"
   ]
  },
  {
   "cell_type": "markdown",
   "metadata": {},
   "source": [
    "Execute the code cell below to create the following three lists: **products_on_sale**, **sale_prices**, **quantities**"
   ]
  },
  {
   "cell_type": "code",
   "execution_count": 17,
   "metadata": {},
   "outputs": [],
   "source": [
    "products_on_sale = ['Chair_Type_1', 'Chair_Type_2', 'Chair_Type_3', 'Chair_Type_4']\n",
    "sale_prices = [100, 120, 135, 150]\n",
    "quantities = [1000, 1500, 1300]"
   ]
  },
  {
   "cell_type": "markdown",
   "metadata": {},
   "source": [
    "The following code cell will execute a nested loop that will deliver all possible combinations of the elements from the **products_on_sale**, **sale_prices** and **quantities** lists:"
   ]
  },
  {
   "cell_type": "code",
   "execution_count": 18,
   "metadata": {},
   "outputs": [
    {
     "name": "stdout",
     "output_type": "stream",
     "text": [
      "['Chair_Type_1', 100000]\n",
      "['Chair_Type_1', 150000]\n",
      "['Chair_Type_1', 130000]\n",
      "['Chair_Type_1', 120000]\n",
      "['Chair_Type_1', 180000]\n",
      "['Chair_Type_1', 156000]\n",
      "['Chair_Type_1', 135000]\n",
      "['Chair_Type_1', 202500]\n",
      "['Chair_Type_1', 175500]\n",
      "['Chair_Type_1', 150000]\n",
      "['Chair_Type_1', 225000]\n",
      "['Chair_Type_1', 195000]\n",
      "['Chair_Type_2', 100000]\n",
      "['Chair_Type_2', 150000]\n",
      "['Chair_Type_2', 130000]\n",
      "['Chair_Type_2', 120000]\n",
      "['Chair_Type_2', 180000]\n",
      "['Chair_Type_2', 156000]\n",
      "['Chair_Type_2', 135000]\n",
      "['Chair_Type_2', 202500]\n",
      "['Chair_Type_2', 175500]\n",
      "['Chair_Type_2', 150000]\n",
      "['Chair_Type_2', 225000]\n",
      "['Chair_Type_2', 195000]\n",
      "['Chair_Type_3', 100000]\n",
      "['Chair_Type_3', 150000]\n",
      "['Chair_Type_3', 130000]\n",
      "['Chair_Type_3', 120000]\n",
      "['Chair_Type_3', 180000]\n",
      "['Chair_Type_3', 156000]\n",
      "['Chair_Type_3', 135000]\n",
      "['Chair_Type_3', 202500]\n",
      "['Chair_Type_3', 175500]\n",
      "['Chair_Type_3', 150000]\n",
      "['Chair_Type_3', 225000]\n",
      "['Chair_Type_3', 195000]\n",
      "['Chair_Type_4', 100000]\n",
      "['Chair_Type_4', 150000]\n",
      "['Chair_Type_4', 130000]\n",
      "['Chair_Type_4', 120000]\n",
      "['Chair_Type_4', 180000]\n",
      "['Chair_Type_4', 156000]\n",
      "['Chair_Type_4', 135000]\n",
      "['Chair_Type_4', 202500]\n",
      "['Chair_Type_4', 175500]\n",
      "['Chair_Type_4', 150000]\n",
      "['Chair_Type_4', 225000]\n",
      "['Chair_Type_4', 195000]\n"
     ]
    }
   ],
   "source": [
    "for chair_type in products_on_sale:\n",
    "    for price in sale_prices:\n",
    "        for quantity in quantities:\n",
    "            print ([chair_type, price*quantity])"
   ]
  },
  {
   "cell_type": "markdown",
   "metadata": {},
   "source": [
    "Use a list comprehension to obtain the same output. Store it in a variable called **sales_revenue**. <br/>\n",
    "Make sure you refrain from obtaining any inexistent \"None\" values."
   ]
  },
  {
   "cell_type": "code",
   "execution_count": 19,
   "metadata": {},
   "outputs": [],
   "source": [
    "sales_revenue = [[chair_type, price*quantity] for chair_type in products_on_sale for price in sale_prices for quantity in quantities]\n",
    "\n",
    "# for chair_type in products_on_sale:\n",
    "#     for price in sale_prices:\n",
    "#         for quantity in quantities:\n",
    "#             print ([chair_type, price*quantity])"
   ]
  },
  {
   "cell_type": "code",
   "execution_count": 20,
   "metadata": {},
   "outputs": [
    {
     "data": {
      "text/plain": [
       "[['Chair_Type_1', 100000],\n",
       " ['Chair_Type_1', 150000],\n",
       " ['Chair_Type_1', 130000],\n",
       " ['Chair_Type_1', 120000],\n",
       " ['Chair_Type_1', 180000],\n",
       " ['Chair_Type_1', 156000],\n",
       " ['Chair_Type_1', 135000],\n",
       " ['Chair_Type_1', 202500],\n",
       " ['Chair_Type_1', 175500],\n",
       " ['Chair_Type_1', 150000],\n",
       " ['Chair_Type_1', 225000],\n",
       " ['Chair_Type_1', 195000],\n",
       " ['Chair_Type_2', 100000],\n",
       " ['Chair_Type_2', 150000],\n",
       " ['Chair_Type_2', 130000],\n",
       " ['Chair_Type_2', 120000],\n",
       " ['Chair_Type_2', 180000],\n",
       " ['Chair_Type_2', 156000],\n",
       " ['Chair_Type_2', 135000],\n",
       " ['Chair_Type_2', 202500],\n",
       " ['Chair_Type_2', 175500],\n",
       " ['Chair_Type_2', 150000],\n",
       " ['Chair_Type_2', 225000],\n",
       " ['Chair_Type_2', 195000],\n",
       " ['Chair_Type_3', 100000],\n",
       " ['Chair_Type_3', 150000],\n",
       " ['Chair_Type_3', 130000],\n",
       " ['Chair_Type_3', 120000],\n",
       " ['Chair_Type_3', 180000],\n",
       " ['Chair_Type_3', 156000],\n",
       " ['Chair_Type_3', 135000],\n",
       " ['Chair_Type_3', 202500],\n",
       " ['Chair_Type_3', 175500],\n",
       " ['Chair_Type_3', 150000],\n",
       " ['Chair_Type_3', 225000],\n",
       " ['Chair_Type_3', 195000],\n",
       " ['Chair_Type_4', 100000],\n",
       " ['Chair_Type_4', 150000],\n",
       " ['Chair_Type_4', 130000],\n",
       " ['Chair_Type_4', 120000],\n",
       " ['Chair_Type_4', 180000],\n",
       " ['Chair_Type_4', 156000],\n",
       " ['Chair_Type_4', 135000],\n",
       " ['Chair_Type_4', 202500],\n",
       " ['Chair_Type_4', 175500],\n",
       " ['Chair_Type_4', 150000],\n",
       " ['Chair_Type_4', 225000],\n",
       " ['Chair_Type_4', 195000]]"
      ]
     },
     "execution_count": 20,
     "metadata": {},
     "output_type": "execute_result"
    }
   ],
   "source": [
    "sales_revenue"
   ]
  },
  {
   "cell_type": "markdown",
   "metadata": {},
   "source": [
    "**List comprehensions with Conditionals**\n",
    "<br> <br> **Conditional on the iterable**"
   ]
  },
  {
   "cell_type": "markdown",
   "metadata": {},
   "source": [
    "Use a list comprehension to return a list with all even numbers between 1 and 10 inclusive, multiplied by 10."
   ]
  },
  {
   "cell_type": "code",
   "execution_count": 21,
   "metadata": {},
   "outputs": [
    {
     "data": {
      "text/plain": [
       "[20, 40, 60, 80, 100]"
      ]
     },
     "execution_count": 21,
     "metadata": {},
     "output_type": "execute_result"
    }
   ],
   "source": [
    "[i * 10 for i in range(1, 11, 1) if i % 2 == 0]"
   ]
  },
  {
   "cell_type": "markdown",
   "metadata": {},
   "source": [
    "We consider the previous answer as the Pythonic way to obtain the output because it involved the use of a list comprehension.\n",
    "Can you think of a way to obtain identical output in the \"Non-Pythonic\" way, i.e. by using a double nested loop?"
   ]
  },
  {
   "cell_type": "code",
   "execution_count": 22,
   "metadata": {},
   "outputs": [
    {
     "name": "stdout",
     "output_type": "stream",
     "text": [
      "20 40 60 80 100 "
     ]
    }
   ],
   "source": [
    "for i in range(1, 11):\n",
    "    if (i % 2 == 0):\n",
    "        print(i * 10, end=\" \")"
   ]
  },
  {
   "cell_type": "markdown",
   "metadata": {},
   "source": [
    "**Conditional on the output**"
   ]
  },
  {
   "cell_type": "markdown",
   "metadata": {},
   "source": [
    "Return a list that contains the element from range(1, 11) multiplied by 10 if the number is even, and \"None\" if that number is odd."
   ]
  },
  {
   "cell_type": "code",
   "execution_count": 23,
   "metadata": {},
   "outputs": [
    {
     "name": "stdout",
     "output_type": "stream",
     "text": [
      "None 20 None 40 None 60 None 80 None 100 "
     ]
    }
   ],
   "source": [
    "for i in range(1, 11):\n",
    "    if (i % 2 == 0):\n",
    "        print(i * 10, end=\" \")\n",
    "    else:\n",
    "        print(None, end=\" \")"
   ]
  },
  {
   "cell_type": "markdown",
   "metadata": {},
   "source": [
    "## Anonymous Functions"
   ]
  },
  {
   "cell_type": "markdown",
   "metadata": {},
   "source": [
    "Define a function called **multiply_by_10** that will return a value ten times bigger than the argument."
   ]
  },
  {
   "cell_type": "code",
   "execution_count": 24,
   "metadata": {},
   "outputs": [],
   "source": [
    "def mult10(x):\n",
    "    return x * 10"
   ]
  },
  {
   "cell_type": "markdown",
   "metadata": {},
   "source": [
    "Apply **multiply_by_10** to the argument of 5. Clearly, you should obtain 50."
   ]
  },
  {
   "cell_type": "code",
   "execution_count": 25,
   "metadata": {},
   "outputs": [
    {
     "data": {
      "text/plain": [
       "50"
      ]
     },
     "execution_count": 25,
     "metadata": {},
     "output_type": "execute_result"
    }
   ],
   "source": [
    "mult10(5)"
   ]
  },
  {
   "cell_type": "markdown",
   "metadata": {},
   "source": [
    "#### Lambda Functions"
   ]
  },
  {
   "cell_type": "markdown",
   "metadata": {},
   "source": [
    "This time, create **multiply_by_10** as a Lambda funciton. Execute it with an argument of 7."
   ]
  },
  {
   "cell_type": "code",
   "execution_count": 26,
   "metadata": {},
   "outputs": [
    {
     "data": {
      "text/plain": [
       "70"
      ]
     },
     "execution_count": 26,
     "metadata": {},
     "output_type": "execute_result"
    }
   ],
   "source": [
    "(lambda x: x * 10) (7)"
   ]
  },
  {
   "cell_type": "markdown",
   "metadata": {},
   "source": [
    "Define a Lambda function named **product_xy** that returns the product of two parameters, x and y. Execute it with arguments 4 and 20."
   ]
  },
  {
   "cell_type": "code",
   "execution_count": 27,
   "metadata": {},
   "outputs": [
    {
     "data": {
      "text/plain": [
       "80"
      ]
     },
     "execution_count": 27,
     "metadata": {},
     "output_type": "execute_result"
    }
   ],
   "source": [
    "(lambda x, y: x * y) (4, 20)"
   ]
  }
 ],
 "metadata": {
  "kernelspec": {
   "display_name": "Python 3",
   "language": "python",
   "name": "python3"
  },
  "language_info": {
   "codemirror_mode": {
    "name": "ipython",
    "version": 3
   },
   "file_extension": ".py",
   "mimetype": "text/x-python",
   "name": "python",
   "nbconvert_exporter": "python",
   "pygments_lexer": "ipython3",
   "version": "3.8.8"
  }
 },
 "nbformat": 4,
 "nbformat_minor": 2
}
