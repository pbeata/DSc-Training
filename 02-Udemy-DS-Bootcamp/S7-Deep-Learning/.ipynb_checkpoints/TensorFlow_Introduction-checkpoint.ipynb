{
 "cells": [
  {
   "cell_type": "markdown",
   "id": "moving-ownership",
   "metadata": {},
   "source": [
    "### TensorFlow 2 Introduction"
   ]
  },
  {
   "cell_type": "code",
   "execution_count": 1,
   "id": "mighty-training",
   "metadata": {},
   "outputs": [
    {
     "name": "stdout",
     "output_type": "stream",
     "text": [
      "2.4.1\n"
     ]
    }
   ],
   "source": [
    "import tensorflow as tf\n",
    "\n",
    "# check to see that we have properly installed tensorflow 2\n",
    "print(tf.__version__)"
   ]
  },
  {
   "cell_type": "code",
   "execution_count": 2,
   "id": "tracked-allergy",
   "metadata": {},
   "outputs": [],
   "source": [
    "import numpy as np\n",
    "import matplotlib.pyplot as plt"
   ]
  },
  {
   "cell_type": "markdown",
   "id": "treated-tsunami",
   "metadata": {},
   "source": [
    "### Data Generation"
   ]
  },
  {
   "cell_type": "code",
   "execution_count": 4,
   "id": "extreme-possession",
   "metadata": {},
   "outputs": [],
   "source": [
    "N_observations = 1000\n",
    "\n",
    "xs = np.random.uniform(low=-10, high=10, size=(N_observations, 1))\n",
    "zs = np.random.uniform(-10, 10, (N_observations, 1))\n",
    "noise = np.random.uniform(-1, 1, (N_observations, 1))\n",
    "\n",
    "generated_inputs = np.column_stack((xs, zs))\n",
    "generated_targets = 2 * xs - 3 * zs + 5 + noise"
   ]
  },
  {
   "cell_type": "code",
   "execution_count": 6,
   "id": "prospective-curtis",
   "metadata": {},
   "outputs": [],
   "source": [
    "np.savez('./TF_intro', inputs=generated_inputs, targets=generated_targets)"
   ]
  },
  {
   "cell_type": "markdown",
   "id": "mounted-overview",
   "metadata": {},
   "source": [
    "### Solving with TensorFlow"
   ]
  },
  {
   "cell_type": "code",
   "execution_count": 7,
   "id": "ruled-wholesale",
   "metadata": {},
   "outputs": [],
   "source": [
    "training_data = np.load('./TF_intro.npz')"
   ]
  },
  {
   "cell_type": "code",
   "execution_count": 8,
   "id": "acting-province",
   "metadata": {},
   "outputs": [],
   "source": [
    "input_size = 2\n",
    "output_size = 1"
   ]
  },
  {
   "cell_type": "code",
   "execution_count": 9,
   "id": "signal-reverse",
   "metadata": {},
   "outputs": [],
   "source": [
    "# in TF2, we must build the model\n",
    "model = tf.keras.Sequential([tf.keras.layers.Dense(output_size)])"
   ]
  },
  {
   "cell_type": "code",
   "execution_count": 10,
   "id": "fossil-bridges",
   "metadata": {},
   "outputs": [],
   "source": [
    "model.compile(optimizer='sgd', loss='mean_squared_error')"
   ]
  },
  {
   "cell_type": "code",
   "execution_count": 11,
   "id": "imperial-afternoon",
   "metadata": {},
   "outputs": [
    {
     "data": {
      "text/plain": [
       "<tensorflow.python.keras.callbacks.History at 0x2bf359f25b0>"
      ]
     },
     "execution_count": 11,
     "metadata": {},
     "output_type": "execute_result"
    }
   ],
   "source": [
    "model.fit(training_data['inputs'], training_data['targets'], epochs=100, verbose=0)"
   ]
  },
  {
   "cell_type": "code",
   "execution_count": null,
   "id": "chief-arlington",
   "metadata": {},
   "outputs": [],
   "source": []
  }
 ],
 "metadata": {
  "kernelspec": {
   "display_name": "Python 3",
   "language": "python",
   "name": "python3"
  },
  "language_info": {
   "codemirror_mode": {
    "name": "ipython",
    "version": 3
   },
   "file_extension": ".py",
   "mimetype": "text/x-python",
   "name": "python",
   "nbconvert_exporter": "python",
   "pygments_lexer": "ipython3",
   "version": "3.8.8"
  }
 },
 "nbformat": 4,
 "nbformat_minor": 5
}
