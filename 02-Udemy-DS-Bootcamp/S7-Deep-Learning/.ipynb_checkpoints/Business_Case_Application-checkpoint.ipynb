{
 "cells": [
  {
   "cell_type": "markdown",
   "id": "adolescent-ireland",
   "metadata": {},
   "source": [
    "# Audiobooks and Customer Conversion"
   ]
  },
  {
   "cell_type": "code",
   "execution_count": 1,
   "id": "historical-circulation",
   "metadata": {},
   "outputs": [],
   "source": [
    "import numpy as np\n",
    "from sklearn import preprocessing"
   ]
  },
  {
   "cell_type": "code",
   "execution_count": 2,
   "id": "funny-spyware",
   "metadata": {},
   "outputs": [],
   "source": [
    "# load the dataset\n",
    "raw_data = np.loadtxt('../data/audiobook_data.csv', delimiter=',')"
   ]
  },
  {
   "cell_type": "code",
   "execution_count": 3,
   "id": "computational-texas",
   "metadata": {},
   "outputs": [],
   "source": [
    "# extract data from the .csv file\n",
    "unscaled_inputs_all = raw_data[:, 1:-1]\n",
    "targets_all = raw_data[:, -1]"
   ]
  },
  {
   "cell_type": "code",
   "execution_count": 4,
   "id": "crucial-locking",
   "metadata": {},
   "outputs": [],
   "source": [
    "# NEW\n",
    "# Let's shuffle the data BEFORE balancing instead this time\n",
    "shuffled_indices_all = np.arange(unscaled_inputs_all.shape[0])\n",
    "np.random.shuffle(shuffled_indices_all)"
   ]
  },
  {
   "cell_type": "code",
   "execution_count": 5,
   "id": "ignored-adoption",
   "metadata": {},
   "outputs": [],
   "source": [
    "shuffled_inputs_all = unscaled_inputs_all[shuffled_indices_all]\n",
    "shuffled_targets_all = targets_all[shuffled_indices_all]"
   ]
  },
  {
   "cell_type": "code",
   "execution_count": 6,
   "id": "checked-tourism",
   "metadata": {},
   "outputs": [
    {
     "data": {
      "text/plain": [
       "2237"
      ]
     },
     "execution_count": 6,
     "metadata": {},
     "output_type": "execute_result"
    }
   ],
   "source": [
    "# balance the dataset 50/50:\n",
    "#   1. count the values that have a target = 1\n",
    "#   2. keep as many 0s as there are 1s\n",
    "num_ones = int(np.sum(shuffled_targets_all))\n",
    "num_ones"
   ]
  },
  {
   "cell_type": "code",
   "execution_count": 7,
   "id": "applicable-terror",
   "metadata": {},
   "outputs": [
    {
     "data": {
      "text/plain": [
       "(14084, 10)"
      ]
     },
     "execution_count": 7,
     "metadata": {},
     "output_type": "execute_result"
    }
   ],
   "source": [
    "shuffled_inputs_all.shape"
   ]
  },
  {
   "cell_type": "code",
   "execution_count": 8,
   "id": "varying-marsh",
   "metadata": {},
   "outputs": [],
   "source": [
    "zero_counter = 0\n",
    "indices_to_remove = []\n",
    "\n",
    "for i in range (shuffled_targets_all.shape[0]):\n",
    "    if (shuffled_targets_all[i] == 0):\n",
    "        zero_counter += 1\n",
    "        if (zero_counter > num_ones):\n",
    "            indices_to_remove.append(i)\n",
    "\n",
    "unscaled_inputs_equal_priors = np.delete(shuffled_inputs_all, indices_to_remove, axis=0)\n",
    "targets_equal_priors = np.delete(shuffled_targets_all, indices_to_remove, axis=0)"
   ]
  },
  {
   "cell_type": "code",
   "execution_count": 9,
   "id": "durable-projector",
   "metadata": {},
   "outputs": [
    {
     "data": {
      "text/plain": [
       "(4474, 10)"
      ]
     },
     "execution_count": 9,
     "metadata": {},
     "output_type": "execute_result"
    }
   ],
   "source": [
    "# standardize the inputs\n",
    "scaled_inputs = preprocessing.scale(unscaled_inputs_equal_priors)\n",
    "scaled_inputs.shape"
   ]
  },
  {
   "cell_type": "code",
   "execution_count": 10,
   "id": "alpha-adolescent",
   "metadata": {},
   "outputs": [],
   "source": [
    "# since we going to batch, we must shuffle the data as well\n",
    "shuffled_indices = np.arange(scaled_inputs.shape[0])\n",
    "np.random.shuffle(shuffled_indices)"
   ]
  },
  {
   "cell_type": "code",
   "execution_count": 11,
   "id": "excess-squad",
   "metadata": {},
   "outputs": [],
   "source": [
    "shuffled_inputs = scaled_inputs[shuffled_indices]\n",
    "shuffled_targets = targets_equal_priors[shuffled_indices]"
   ]
  },
  {
   "cell_type": "code",
   "execution_count": 12,
   "id": "fifty-arena",
   "metadata": {},
   "outputs": [
    {
     "data": {
      "text/plain": [
       "4474"
      ]
     },
     "execution_count": 12,
     "metadata": {},
     "output_type": "execute_result"
    }
   ],
   "source": [
    "# split scaled and shuffled datasets into train, validation, and test\n",
    "num_samples = shuffled_inputs.shape[0]\n",
    "num_samples"
   ]
  },
  {
   "cell_type": "code",
   "execution_count": 13,
   "id": "jewish-effects",
   "metadata": {},
   "outputs": [],
   "source": [
    "# use the 80-10-10 split\n",
    "num_train_samples = int(0.8 * num_samples)\n",
    "num_validation_samples = int(0.1 * num_samples)\n",
    "num_testing_samples = num_samples - num_train_samples - num_validation_samples"
   ]
  },
  {
   "cell_type": "code",
   "execution_count": 14,
   "id": "better-death",
   "metadata": {},
   "outputs": [
    {
     "name": "stdout",
     "output_type": "stream",
     "text": [
      "79.99552972731337\n",
      "9.991059454626733\n",
      "10.013410818059901\n"
     ]
    }
   ],
   "source": [
    "print( 100 * num_train_samples/num_samples )\n",
    "print( 100 * num_validation_samples/num_samples )\n",
    "print( 100 * num_testing_samples/num_samples )"
   ]
  },
  {
   "cell_type": "code",
   "execution_count": 15,
   "id": "black-syndrome",
   "metadata": {},
   "outputs": [],
   "source": [
    "# extract data subsets from the main dataset:\n",
    "\n",
    "# 1. TRAINING DATA\n",
    "train_inputs = shuffled_inputs[:num_train_samples]\n",
    "train_targets = shuffled_targets[:num_train_samples]\n",
    "\n",
    "# 2. VALIDATION DATA\n",
    "split_limit = num_train_samples + num_validation_samples\n",
    "validation_inputs = shuffled_inputs[num_train_samples:split_limit]\n",
    "validation_targets = shuffled_targets[num_train_samples:split_limit]\n",
    "\n",
    "# 3. TESTING DATA\n",
    "test_inputs = shuffled_inputs[split_limit:]\n",
    "test_targets = shuffled_targets[split_limit:]"
   ]
  },
  {
   "cell_type": "code",
   "execution_count": 16,
   "id": "brazilian-spell",
   "metadata": {},
   "outputs": [
    {
     "name": "stdout",
     "output_type": "stream",
     "text": [
      "0.4981838502374965\n",
      "0.5190156599552572\n",
      "0.4955357142857143\n"
     ]
    }
   ],
   "source": [
    "# check to see if the data subsets are balanced:\n",
    "print( np.sum(train_targets) / num_train_samples )\n",
    "print( np.sum(validation_targets) / num_validation_samples )\n",
    "print( np.sum(test_targets) / num_testing_samples )"
   ]
  },
  {
   "cell_type": "code",
   "execution_count": 17,
   "id": "portable-hearts",
   "metadata": {},
   "outputs": [],
   "source": [
    "# save the data in tensor format using .npz files\n",
    "np.savez('./out/audiobook_training_data', inputs=train_inputs, targets=train_targets)\n",
    "np.savez('./out/audiobook_validation_data', inputs=validation_inputs, targets=validation_targets)\n",
    "np.savez('./out/audiobook_testing_data', inputs=test_inputs, targets=test_targets)"
   ]
  }
 ],
 "metadata": {
  "kernelspec": {
   "display_name": "Python 3",
   "language": "python",
   "name": "python3"
  },
  "language_info": {
   "codemirror_mode": {
    "name": "ipython",
    "version": 3
   },
   "file_extension": ".py",
   "mimetype": "text/x-python",
   "name": "python",
   "nbconvert_exporter": "python",
   "pygments_lexer": "ipython3",
   "version": "3.8.8"
  }
 },
 "nbformat": 4,
 "nbformat_minor": 5
}
