{
 "cells": [
  {
   "cell_type": "markdown",
   "id": "intimate-shareware",
   "metadata": {},
   "source": [
    "### TensorFlow 2 Introduction"
   ]
  },
  {
   "cell_type": "code",
   "execution_count": 1,
   "id": "progressive-azerbaijan",
   "metadata": {},
   "outputs": [
    {
     "name": "stdout",
     "output_type": "stream",
     "text": [
      "2.4.1\n"
     ]
    }
   ],
   "source": [
    "import tensorflow as tf\n",
    "\n",
    "# check to see that we have properly installed tensorflow 2\n",
    "print(tf.__version__)"
   ]
  },
  {
   "cell_type": "code",
   "execution_count": 2,
   "id": "varying-champagne",
   "metadata": {},
   "outputs": [],
   "source": [
    "import numpy as np\n",
    "import pandas as pd\n",
    "import matplotlib.pyplot as plt"
   ]
  },
  {
   "cell_type": "markdown",
   "id": "burning-minister",
   "metadata": {},
   "source": [
    "### Data Generation"
   ]
  },
  {
   "cell_type": "code",
   "execution_count": 3,
   "id": "african-desktop",
   "metadata": {},
   "outputs": [],
   "source": [
    "N_observations = 10000\n",
    "\n",
    "xs = np.random.uniform(low=-10, high=10, size=(N_observations, 1))\n",
    "zs = np.random.uniform(low=-10, high=10, size=(N_observations, 1))\n",
    "noise = np.random.uniform(-1, 1, (N_observations, 1))\n",
    "\n",
    "generated_inputs = np.column_stack((xs, zs))\n",
    "generated_targets = 2 * xs - 3 * zs + 5 + noise"
   ]
  },
  {
   "cell_type": "code",
   "execution_count": 4,
   "id": "imported-baghdad",
   "metadata": {},
   "outputs": [],
   "source": [
    "np.savez('./out/TF_intro', inputs=generated_inputs, targets=generated_targets)"
   ]
  },
  {
   "cell_type": "markdown",
   "id": "linear-smith",
   "metadata": {},
   "source": [
    "### Solving with TensorFlow"
   ]
  },
  {
   "cell_type": "code",
   "execution_count": 5,
   "id": "searching-exclusion",
   "metadata": {},
   "outputs": [],
   "source": [
    "training_data = np.load('./out/TF_intro.npz')"
   ]
  },
  {
   "cell_type": "code",
   "execution_count": 6,
   "id": "curious-gibraltar",
   "metadata": {},
   "outputs": [],
   "source": [
    "input_size = 2\n",
    "output_size = 1"
   ]
  },
  {
   "cell_type": "code",
   "execution_count": 7,
   "id": "fuzzy-phrase",
   "metadata": {},
   "outputs": [],
   "source": [
    "# in TF2, we must build the model\n",
    "model = tf.keras.Sequential([\n",
    "        tf.keras.layers.Dense(output_size,\n",
    "                              kernel_initializer=tf.random_uniform_initializer(minval=-0.1, maxval=0.1),\n",
    "                              bias_initializer=tf.random_uniform_initializer(minval=-0.1, maxval=0.1)\n",
    "                             )\n",
    "])"
   ]
  },
  {
   "cell_type": "code",
   "execution_count": 8,
   "id": "clear-corporation",
   "metadata": {},
   "outputs": [],
   "source": [
    "# original where we use the optimizer from TF without specifying additional parameters\n",
    "# model.compile(optimizer='sgd', loss='mean_squared_error')"
   ]
  },
  {
   "cell_type": "code",
   "execution_count": 8,
   "id": "exposed-liability",
   "metadata": {},
   "outputs": [],
   "source": [
    "# NEW where we get to set the learning rate\n",
    "custom_opt_func = tf.keras.optimizers.SGD(learning_rate=0.02)\n",
    "\n",
    "# NEW change the loss function\n",
    "model.compile(optimizer=custom_opt_func, loss='mean_squared_error')\n",
    "# model.compile(optimizer=custom_opt_func, loss='huber_loss')"
   ]
  },
  {
   "cell_type": "code",
   "execution_count": 9,
   "id": "major-interest",
   "metadata": {},
   "outputs": [
    {
     "name": "stdout",
     "output_type": "stream",
     "text": [
      "Epoch 1/100\n",
      "313/313 - 2s - loss: 3.2530\n",
      "Epoch 2/100\n",
      "313/313 - 1s - loss: 0.3753\n",
      "Epoch 3/100\n",
      "313/313 - 0s - loss: 0.3872\n",
      "Epoch 4/100\n",
      "313/313 - 0s - loss: 0.3910\n",
      "Epoch 5/100\n",
      "313/313 - 0s - loss: 0.3854\n",
      "Epoch 6/100\n",
      "313/313 - 0s - loss: 0.3902\n",
      "Epoch 7/100\n",
      "313/313 - 1s - loss: 0.3905\n",
      "Epoch 8/100\n",
      "313/313 - 0s - loss: 0.3734\n",
      "Epoch 9/100\n",
      "313/313 - 0s - loss: 0.3877\n",
      "Epoch 10/100\n",
      "313/313 - 0s - loss: 0.3751\n",
      "Epoch 11/100\n",
      "313/313 - 0s - loss: 0.3867\n",
      "Epoch 12/100\n",
      "313/313 - 0s - loss: 0.3710\n",
      "Epoch 13/100\n",
      "313/313 - 0s - loss: 0.3824\n",
      "Epoch 14/100\n",
      "313/313 - 0s - loss: 0.3882\n",
      "Epoch 15/100\n",
      "313/313 - 0s - loss: 0.3727\n",
      "Epoch 16/100\n",
      "313/313 - 0s - loss: 0.3846\n",
      "Epoch 17/100\n",
      "313/313 - 0s - loss: 0.3850\n",
      "Epoch 18/100\n",
      "313/313 - 0s - loss: 0.3791\n",
      "Epoch 19/100\n",
      "313/313 - 0s - loss: 0.3951\n",
      "Epoch 20/100\n",
      "313/313 - 0s - loss: 0.3816\n",
      "Epoch 21/100\n",
      "313/313 - 0s - loss: 0.3729\n",
      "Epoch 22/100\n",
      "313/313 - 0s - loss: 0.3871\n",
      "Epoch 23/100\n",
      "313/313 - 0s - loss: 0.3827\n",
      "Epoch 24/100\n",
      "313/313 - 0s - loss: 0.3843\n",
      "Epoch 25/100\n",
      "313/313 - 0s - loss: 0.3798\n",
      "Epoch 26/100\n",
      "313/313 - 1s - loss: 0.3774\n",
      "Epoch 27/100\n",
      "313/313 - 0s - loss: 0.3831\n",
      "Epoch 28/100\n",
      "313/313 - 0s - loss: 0.3766\n",
      "Epoch 29/100\n",
      "313/313 - 0s - loss: 0.3894\n",
      "Epoch 30/100\n",
      "313/313 - 0s - loss: 0.3871\n",
      "Epoch 31/100\n",
      "313/313 - 0s - loss: 0.3760\n",
      "Epoch 32/100\n",
      "313/313 - 0s - loss: 0.3761\n",
      "Epoch 33/100\n",
      "313/313 - 0s - loss: 0.3838\n",
      "Epoch 34/100\n",
      "313/313 - 0s - loss: 0.3839\n",
      "Epoch 35/100\n",
      "313/313 - 0s - loss: 0.3756\n",
      "Epoch 36/100\n",
      "313/313 - 0s - loss: 0.3768\n",
      "Epoch 37/100\n",
      "313/313 - 0s - loss: 0.3702\n",
      "Epoch 38/100\n",
      "313/313 - 0s - loss: 0.3796\n",
      "Epoch 39/100\n",
      "313/313 - 0s - loss: 0.3761\n",
      "Epoch 40/100\n",
      "313/313 - 0s - loss: 0.3838\n",
      "Epoch 41/100\n",
      "313/313 - 0s - loss: 0.3879\n",
      "Epoch 42/100\n",
      "313/313 - 1s - loss: 0.3898\n",
      "Epoch 43/100\n",
      "313/313 - 0s - loss: 0.3853\n",
      "Epoch 44/100\n",
      "313/313 - 1s - loss: 0.3801\n",
      "Epoch 45/100\n",
      "313/313 - 0s - loss: 0.3790\n",
      "Epoch 46/100\n",
      "313/313 - 0s - loss: 0.3836\n",
      "Epoch 47/100\n",
      "313/313 - 0s - loss: 0.3857\n",
      "Epoch 48/100\n",
      "313/313 - 0s - loss: 0.3783\n",
      "Epoch 49/100\n",
      "313/313 - 0s - loss: 0.4002\n",
      "Epoch 50/100\n",
      "313/313 - 0s - loss: 0.3824\n",
      "Epoch 51/100\n",
      "313/313 - 1s - loss: 0.3757\n",
      "Epoch 52/100\n",
      "313/313 - 1s - loss: 0.3711\n",
      "Epoch 53/100\n",
      "313/313 - 1s - loss: 0.3881\n",
      "Epoch 54/100\n",
      "313/313 - 1s - loss: 0.3849\n",
      "Epoch 55/100\n",
      "313/313 - 0s - loss: 0.3884\n",
      "Epoch 56/100\n",
      "313/313 - 1s - loss: 0.3829\n",
      "Epoch 57/100\n",
      "313/313 - 1s - loss: 0.3880\n",
      "Epoch 58/100\n",
      "313/313 - 1s - loss: 0.3842\n",
      "Epoch 59/100\n",
      "313/313 - 1s - loss: 0.3889\n",
      "Epoch 60/100\n",
      "313/313 - 0s - loss: 0.3800\n",
      "Epoch 61/100\n",
      "313/313 - 0s - loss: 0.3883\n",
      "Epoch 62/100\n",
      "313/313 - 0s - loss: 0.3786\n",
      "Epoch 63/100\n",
      "313/313 - 0s - loss: 0.3818\n",
      "Epoch 64/100\n",
      "313/313 - 0s - loss: 0.3823\n",
      "Epoch 65/100\n",
      "313/313 - 0s - loss: 0.3878\n",
      "Epoch 66/100\n",
      "313/313 - 0s - loss: 0.3860\n",
      "Epoch 67/100\n",
      "313/313 - 0s - loss: 0.3761\n",
      "Epoch 68/100\n",
      "313/313 - 0s - loss: 0.3866\n",
      "Epoch 69/100\n",
      "313/313 - 0s - loss: 0.3860\n",
      "Epoch 70/100\n",
      "313/313 - 1s - loss: 0.3799\n",
      "Epoch 71/100\n",
      "313/313 - 1s - loss: 0.3820\n",
      "Epoch 72/100\n",
      "313/313 - 1s - loss: 0.3795\n",
      "Epoch 73/100\n",
      "313/313 - 1s - loss: 0.3765\n",
      "Epoch 74/100\n",
      "313/313 - 1s - loss: 0.3862\n",
      "Epoch 75/100\n",
      "313/313 - 0s - loss: 0.3820\n",
      "Epoch 76/100\n",
      "313/313 - 0s - loss: 0.3755\n",
      "Epoch 77/100\n",
      "313/313 - 0s - loss: 0.3846\n",
      "Epoch 78/100\n",
      "313/313 - 0s - loss: 0.3791\n",
      "Epoch 79/100\n",
      "313/313 - 1s - loss: 0.3761\n",
      "Epoch 80/100\n",
      "313/313 - 1s - loss: 0.3890\n",
      "Epoch 81/100\n",
      "313/313 - 1s - loss: 0.3714\n",
      "Epoch 82/100\n",
      "313/313 - 1s - loss: 0.3834\n",
      "Epoch 83/100\n",
      "313/313 - 1s - loss: 0.3879\n",
      "Epoch 84/100\n",
      "313/313 - 1s - loss: 0.3787\n",
      "Epoch 85/100\n",
      "313/313 - 1s - loss: 0.3759\n",
      "Epoch 86/100\n",
      "313/313 - 1s - loss: 0.3857\n",
      "Epoch 87/100\n",
      "313/313 - 1s - loss: 0.3923\n",
      "Epoch 88/100\n",
      "313/313 - 1s - loss: 0.3904\n",
      "Epoch 89/100\n",
      "313/313 - 1s - loss: 0.3845\n",
      "Epoch 90/100\n",
      "313/313 - 1s - loss: 0.3997\n",
      "Epoch 91/100\n",
      "313/313 - 1s - loss: 0.3764\n",
      "Epoch 92/100\n",
      "313/313 - 0s - loss: 0.3912\n",
      "Epoch 93/100\n",
      "313/313 - 0s - loss: 0.3820\n",
      "Epoch 94/100\n",
      "313/313 - 0s - loss: 0.3780\n",
      "Epoch 95/100\n",
      "313/313 - 0s - loss: 0.3862\n",
      "Epoch 96/100\n",
      "313/313 - 0s - loss: 0.3872\n",
      "Epoch 97/100\n",
      "313/313 - 0s - loss: 0.3756\n",
      "Epoch 98/100\n",
      "313/313 - 0s - loss: 0.3819\n",
      "Epoch 99/100\n",
      "313/313 - 0s - loss: 0.3818\n",
      "Epoch 100/100\n",
      "313/313 - 1s - loss: 0.3910\n"
     ]
    },
    {
     "data": {
      "text/plain": [
       "<tensorflow.python.keras.callbacks.History at 0x1f6608b1be0>"
      ]
     },
     "execution_count": 9,
     "metadata": {},
     "output_type": "execute_result"
    }
   ],
   "source": [
    "model.fit(training_data['inputs'], training_data['targets'], epochs=100, verbose=2)"
   ]
  },
  {
   "cell_type": "markdown",
   "id": "patent-republic",
   "metadata": {},
   "source": [
    "### Extract Weights and Biases"
   ]
  },
  {
   "cell_type": "code",
   "execution_count": 10,
   "id": "pursuant-panama",
   "metadata": {},
   "outputs": [
    {
     "data": {
      "text/plain": [
       "array([[ 1.9760479],\n",
       "       [-3.0048745]], dtype=float32)"
      ]
     },
     "execution_count": 10,
     "metadata": {},
     "output_type": "execute_result"
    }
   ],
   "source": [
    "weights = model.layers[0].get_weights()[0]\n",
    "weights"
   ]
  },
  {
   "cell_type": "code",
   "execution_count": 11,
   "id": "rolled-progress",
   "metadata": {},
   "outputs": [
    {
     "data": {
      "text/plain": [
       "array([4.9895654], dtype=float32)"
      ]
     },
     "execution_count": 11,
     "metadata": {},
     "output_type": "execute_result"
    }
   ],
   "source": [
    "biases = model.layers[0].get_weights()[1]\n",
    "biases"
   ]
  },
  {
   "cell_type": "markdown",
   "id": "cosmetic-substitute",
   "metadata": {},
   "source": [
    "### Make Predictions"
   ]
  },
  {
   "cell_type": "code",
   "execution_count": 12,
   "id": "polish-standard",
   "metadata": {},
   "outputs": [
    {
     "data": {
      "text/plain": [
       "array([[  5.16],\n",
       "       [-23.05],\n",
       "       [ -6.74],\n",
       "       ...,\n",
       "       [ -4.24],\n",
       "       [ 16.62],\n",
       "       [  4.92]], dtype=float32)"
      ]
     },
     "execution_count": 12,
     "metadata": {},
     "output_type": "execute_result"
    }
   ],
   "source": [
    "model.predict_on_batch(training_data['inputs']).round(2)"
   ]
  },
  {
   "cell_type": "code",
   "execution_count": 14,
   "id": "bulgarian-rubber",
   "metadata": {},
   "outputs": [],
   "source": [
    "# optional: compare with our target values\n",
    "# training_data['targets']"
   ]
  },
  {
   "cell_type": "markdown",
   "id": "plastic-staff",
   "metadata": {},
   "source": [
    "### Plot the Data"
   ]
  },
  {
   "cell_type": "code",
   "execution_count": 13,
   "id": "mysterious-navigator",
   "metadata": {},
   "outputs": [
    {
     "data": {
      "image/png": "[encoded data removed]",
      "text/plain": [
       "<Figure size 432x288 with 1 Axes>"
      ]
     },
     "metadata": {
      "needs_background": "light"
     },
     "output_type": "display_data"
    }
   ],
   "source": [
    "plt.plot(np.squeeze(model.predict_on_batch(training_data['inputs'])),  \n",
    "         np.squeeze(training_data['targets']))\n",
    "\n",
    "x45 = [-40, 50]\n",
    "y45 = [-40, 50]\n",
    "plt.plot(x45, y45, 'r-', lw=2)\n",
    "\n",
    "plt.xlabel('Outputs')\n",
    "plt.ylabel('Targets')\n",
    "plt.show()"
   ]
  },
  {
   "cell_type": "code",
   "execution_count": 15,
   "id": "funded-consideration",
   "metadata": {},
   "outputs": [
    {
     "data": {
      "text/plain": [
       "(10000, 1)"
      ]
     },
     "execution_count": 15,
     "metadata": {},
     "output_type": "execute_result"
    }
   ],
   "source": [
    "# mean absolute error\n",
    "y_pred = model.predict_on_batch(training_data['inputs'])\n",
    "y_pred.shape"
   ]
  },
  {
   "cell_type": "code",
   "execution_count": 17,
   "id": "behind-rings",
   "metadata": {},
   "outputs": [
    {
     "data": {
      "text/plain": [
       "(10000, 1)"
      ]
     },
     "execution_count": 17,
     "metadata": {},
     "output_type": "execute_result"
    }
   ],
   "source": [
    "y_test = training_data['targets']\n",
    "y_test.shape"
   ]
  },
  {
   "cell_type": "code",
   "execution_count": 18,
   "id": "accurate-opportunity",
   "metadata": {},
   "outputs": [
    {
     "data": {
      "text/plain": [
       "(10000, 1)"
      ]
     },
     "execution_count": 18,
     "metadata": {},
     "output_type": "execute_result"
    }
   ],
   "source": [
    "abs_error = np.abs(y_pred - y_test)\n",
    "abs_error.shape"
   ]
  },
  {
   "cell_type": "code",
   "execution_count": 19,
   "id": "dried-standing",
   "metadata": {},
   "outputs": [
    {
     "data": {
      "text/plain": [
       "0.5109615566548703"
      ]
     },
     "execution_count": 19,
     "metadata": {},
     "output_type": "execute_result"
    }
   ],
   "source": [
    "mae = np.mean(abs_error)\n",
    "mae"
   ]
  },
  {
   "cell_type": "code",
   "execution_count": 20,
   "id": "charitable-cuisine",
   "metadata": {},
   "outputs": [
    {
     "data": {
      "text/plain": [
       "5.362570469910676"
      ]
     },
     "execution_count": 20,
     "metadata": {},
     "output_type": "execute_result"
    }
   ],
   "source": [
    "mean_value = np.mean(y_test)\n",
    "mean_value"
   ]
  },
  {
   "cell_type": "code",
   "execution_count": 23,
   "id": "superior-mouse",
   "metadata": {},
   "outputs": [
    {
     "name": "stdout",
     "output_type": "stream",
     "text": [
      "9.53 %\n"
     ]
    }
   ],
   "source": [
    "mae_perc = 100.0 * (mae / mean_value)\n",
    "print(mae_perc.round(2), \"%\")"
   ]
  },
  {
   "cell_type": "code",
   "execution_count": 24,
   "id": "acoustic-prevention",
   "metadata": {},
   "outputs": [
    {
     "data": {
      "text/plain": [
       "0.594695911166779"
      ]
     },
     "execution_count": 24,
     "metadata": {},
     "output_type": "execute_result"
    }
   ],
   "source": [
    "sq_error = (y_pred - y_test) ** 2\n",
    "mse = np.mean(sq_error)\n",
    "rmse = np.sqrt(mse)\n",
    "rmse"
   ]
  },
  {
   "cell_type": "code",
   "execution_count": 25,
   "id": "corrected-master",
   "metadata": {},
   "outputs": [
    {
     "name": "stdout",
     "output_type": "stream",
     "text": [
      "11.09 %\n"
     ]
    }
   ],
   "source": [
    "rmse_perc = 100.0 * (rmse / mean_value)\n",
    "print(rmse_perc.round(2), \"%\")"
   ]
  }
 ],
 "metadata": {
  "kernelspec": {
   "display_name": "Python 3",
   "language": "python",
   "name": "python3"
  },
  "language_info": {
   "codemirror_mode": {
    "name": "ipython",
    "version": 3
   },
   "file_extension": ".py",
   "mimetype": "text/x-python",
   "name": "python",
   "nbconvert_exporter": "python",
   "pygments_lexer": "ipython3",
   "version": "3.8.8"
  }
 },
 "nbformat": 4,
 "nbformat_minor": 5
}
