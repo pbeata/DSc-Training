{
 "cells": [
  {
   "cell_type": "markdown",
   "metadata": {},
   "source": [
    "## Simple Linear Regression Example"
   ]
  },
  {
   "cell_type": "markdown",
   "metadata": {},
   "source": [
    "1. Import relevant libraries\n",
    "2. Generate random input data to train on\n",
    "3. Create the targets we will aim at\n",
    "4. Plot the training data\n",
    "5. Compute the weights\n",
    "6. Compute the biases\n",
    "7. Set a learning rate"
   ]
  },
  {
   "cell_type": "code",
   "execution_count": 1,
   "metadata": {},
   "outputs": [],
   "source": [
    "import numpy as np\n",
    "import matplotlib.pyplot as plt\n",
    "from mpl_toolkits.mplot3d import Axes3D  # for nice 3D graphics"
   ]
  },
  {
   "cell_type": "code",
   "execution_count": 2,
   "metadata": {},
   "outputs": [],
   "source": [
    "# INPUT\n",
    "\n",
    "# generate random data to train on\n",
    "n_observations = 100000\n",
    "\n",
    "# set the initial weights and biases to be within this range\n",
    "init_range = 0.1\n",
    "\n",
    "# SET a learning rate\n",
    "eta = 0.001\n",
    "\n",
    "# number of iterations for the GD algorithm\n",
    "n = 1000"
   ]
  },
  {
   "cell_type": "markdown",
   "metadata": {},
   "source": [
    "We are about to create a two-variable linear model with variables $x$ and $z$:\n",
    "\n",
    "$f(x,z) = ax + bz + c$"
   ]
  },
  {
   "cell_type": "code",
   "execution_count": 3,
   "metadata": {},
   "outputs": [
    {
     "data": {
      "text/plain": [
       "(100000, 2)"
      ]
     },
     "execution_count": 3,
     "metadata": {},
     "output_type": "execute_result"
    }
   ],
   "source": [
    "xs = np.random.uniform(low=-10, high=10, size=(n_observations,1))\n",
    "zs = np.random.uniform(low=-10, high=10, size=(n_observations,1))\n",
    "\n",
    "# create matrix of size: n x 2\n",
    "inputs = np.column_stack((xs, zs))\n",
    "inputs.shape"
   ]
  },
  {
   "cell_type": "markdown",
   "metadata": {},
   "source": [
    "We set the targets using an arbitrary function for this example. Conceptually, the algorithm must learn that this is the underlying function:\n",
    "\n",
    "$f(x,z) = 2x - 3z + 5 + noise$"
   ]
  },
  {
   "cell_type": "code",
   "execution_count": 4,
   "metadata": {},
   "outputs": [
    {
     "data": {
      "text/plain": [
       "(100000, 1)"
      ]
     },
     "execution_count": 4,
     "metadata": {},
     "output_type": "execute_result"
    }
   ],
   "source": [
    "noise = np.random.uniform(-1, 1, (n_observations,1))\n",
    "\n",
    "targets = 2 * xs - 3 * zs + 5 + noise\n",
    "targets.shape"
   ]
  },
  {
   "cell_type": "code",
   "execution_count": 5,
   "metadata": {},
   "outputs": [],
   "source": [
    "# We don't want to start from an arbitrary number that we choose.\n",
    "# Instead, we will initialize the weights and biases with random values. \n",
    "\n",
    "weights = np.random.uniform(-init_range, init_range, size=(2,1))\n",
    "\n",
    "biases = np.random.uniform(-init_range, init_range, size=1)"
   ]
  },
  {
   "cell_type": "markdown",
   "metadata": {},
   "source": [
    "### Train the Model"
   ]
  },
  {
   "cell_type": "markdown",
   "metadata": {},
   "source": [
    "Plan for our for loop:\n",
    "\n",
    "* calculate outputs\n",
    "* compare outputs to targets through the loss function\n",
    "* calculate the loss\n",
    "* adjust the weights and biases\n",
    "* (repeat)"
   ]
  },
  {
   "cell_type": "code",
   "execution_count": 6,
   "metadata": {},
   "outputs": [],
   "source": [
    "for i in range(n):\n",
    "    # y = mx + b\n",
    "    outputs = np.dot(inputs, weights) + biases\n",
    "    deltas = outputs - targets\n",
    "    \n",
    "    # get the average loss by dividing it by the number of observations\n",
    "    loss = np.sum(deltas ** 2) / 2 / n_observations\n",
    "    \n",
    "#     print(loss)\n",
    "    \n",
    "    deltas_scaled = deltas / n_observations\n",
    "    \n",
    "    weights = weights - eta * np.dot(inputs.T, deltas_scaled)\n",
    "    biases = biases - eta * np.sum(deltas_scaled)"
   ]
  },
  {
   "cell_type": "code",
   "execution_count": 7,
   "metadata": {},
   "outputs": [
    {
     "data": {
      "text/plain": [
       "array([[ 1.99907141],\n",
       "       [-3.00054173]])"
      ]
     },
     "execution_count": 7,
     "metadata": {},
     "output_type": "execute_result"
    }
   ],
   "source": [
    "weights"
   ]
  },
  {
   "cell_type": "code",
   "execution_count": 8,
   "metadata": {},
   "outputs": [
    {
     "data": {
      "text/plain": [
       "array([3.15296497])"
      ]
     },
     "execution_count": 8,
     "metadata": {},
     "output_type": "execute_result"
    }
   ],
   "source": [
    "biases"
   ]
  },
  {
   "cell_type": "code",
   "execution_count": 9,
   "metadata": {},
   "outputs": [
    {
     "data": {
      "image/png": "[encoded data removed]",
      "text/plain": [
       "<Figure size 432x288 with 1 Axes>"
      ]
     },
     "metadata": {
      "needs_background": "light"
     },
     "output_type": "display_data"
    }
   ],
   "source": [
    "x = [-50, 0, 50]\n",
    "y = [-50, 0, 50]\n",
    "\n",
    "plt.plot(outputs, targets, 'k.')\n",
    "plt.plot(x, y, 'r-')\n",
    "plt.show()"
   ]
  }
 ],
 "metadata": {
  "kernelspec": {
   "display_name": "Python 3",
   "language": "python",
   "name": "python3"
  },
  "language_info": {
   "codemirror_mode": {
    "name": "ipython",
    "version": 3
   },
   "file_extension": ".py",
   "mimetype": "text/x-python",
   "name": "python",
   "nbconvert_exporter": "python",
   "pygments_lexer": "ipython3",
   "version": "3.8.5"
  }
 },
 "nbformat": 4,
 "nbformat_minor": 4
}
