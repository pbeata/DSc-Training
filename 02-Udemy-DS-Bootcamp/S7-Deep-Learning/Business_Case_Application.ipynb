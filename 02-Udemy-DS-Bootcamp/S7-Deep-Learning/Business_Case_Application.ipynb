{
 "cells": [
  {
   "cell_type": "markdown",
   "id": "hydraulic-medicaid",
   "metadata": {},
   "source": [
    "# Audiobooks and Customer Conversion"
   ]
  },
  {
   "cell_type": "code",
   "execution_count": 1,
   "id": "affecting-bristol",
   "metadata": {},
   "outputs": [],
   "source": [
    "import numpy as np\n",
    "from sklearn import preprocessing"
   ]
  },
  {
   "cell_type": "code",
   "execution_count": 2,
   "id": "removed-budget",
   "metadata": {},
   "outputs": [],
   "source": [
    "# load the dataset\n",
    "raw_data = np.loadtxt('../data/audiobook_data.csv', delimiter=',')"
   ]
  },
  {
   "cell_type": "code",
   "execution_count": 3,
   "id": "decent-groove",
   "metadata": {},
   "outputs": [],
   "source": [
    "# extract data from the .csv file\n",
    "unscaled_inputs_all = raw_data[:, 1:-1]\n",
    "targets_all = raw_data[:, -1]"
   ]
  },
  {
   "cell_type": "code",
   "execution_count": 4,
   "id": "prepared-municipality",
   "metadata": {},
   "outputs": [],
   "source": [
    "# NEW\n",
    "# Let's shuffle the data BEFORE balancing instead this time\n",
    "shuffled_indices_all = np.arange(unscaled_inputs_all.shape[0])\n",
    "np.random.shuffle(shuffled_indices_all)"
   ]
  },
  {
   "cell_type": "code",
   "execution_count": 5,
   "id": "prescribed-enough",
   "metadata": {},
   "outputs": [],
   "source": [
    "shuffled_inputs_all = unscaled_inputs_all[shuffled_indices_all]\n",
    "shuffled_targets_all = targets_all[shuffled_indices_all]"
   ]
  },
  {
   "cell_type": "code",
   "execution_count": 6,
   "id": "heavy-harvest",
   "metadata": {},
   "outputs": [
    {
     "data": {
      "text/plain": [
       "2237"
      ]
     },
     "execution_count": 6,
     "metadata": {},
     "output_type": "execute_result"
    }
   ],
   "source": [
    "# balance the dataset 50/50:\n",
    "#   1. count the values that have a target = 1\n",
    "#   2. keep as many 0s as there are 1s\n",
    "num_ones = int(np.sum(shuffled_targets_all))\n",
    "num_ones"
   ]
  },
  {
   "cell_type": "code",
   "execution_count": 7,
   "id": "cheap-certification",
   "metadata": {},
   "outputs": [
    {
     "data": {
      "text/plain": [
       "(14084, 10)"
      ]
     },
     "execution_count": 7,
     "metadata": {},
     "output_type": "execute_result"
    }
   ],
   "source": [
    "shuffled_inputs_all.shape"
   ]
  },
  {
   "cell_type": "code",
   "execution_count": 8,
   "id": "applicable-miracle",
   "metadata": {},
   "outputs": [],
   "source": [
    "zero_counter = 0\n",
    "indices_to_remove = []\n",
    "\n",
    "for i in range (shuffled_targets_all.shape[0]):\n",
    "    if (shuffled_targets_all[i] == 0):\n",
    "        zero_counter += 1\n",
    "        if (zero_counter > num_ones):\n",
    "            indices_to_remove.append(i)\n",
    "\n",
    "unscaled_inputs_equal_priors = np.delete(shuffled_inputs_all, indices_to_remove, axis=0)\n",
    "targets_equal_priors = np.delete(shuffled_targets_all, indices_to_remove, axis=0)"
   ]
  },
  {
   "cell_type": "code",
   "execution_count": 9,
   "id": "ecological-charm",
   "metadata": {},
   "outputs": [
    {
     "data": {
      "text/plain": [
       "(4474, 10)"
      ]
     },
     "execution_count": 9,
     "metadata": {},
     "output_type": "execute_result"
    }
   ],
   "source": [
    "# standardize the inputs\n",
    "scaled_inputs = preprocessing.scale(unscaled_inputs_equal_priors)\n",
    "scaled_inputs.shape"
   ]
  },
  {
   "cell_type": "code",
   "execution_count": 10,
   "id": "civic-skirt",
   "metadata": {},
   "outputs": [],
   "source": [
    "# since we going to batch, we must shuffle the data as well\n",
    "shuffled_indices = np.arange(scaled_inputs.shape[0])\n",
    "np.random.shuffle(shuffled_indices)"
   ]
  },
  {
   "cell_type": "code",
   "execution_count": 11,
   "id": "proved-sigma",
   "metadata": {},
   "outputs": [],
   "source": [
    "shuffled_inputs = scaled_inputs[shuffled_indices]\n",
    "shuffled_targets = targets_equal_priors[shuffled_indices]"
   ]
  },
  {
   "cell_type": "code",
   "execution_count": 12,
   "id": "entertaining-aruba",
   "metadata": {},
   "outputs": [
    {
     "data": {
      "text/plain": [
       "4474"
      ]
     },
     "execution_count": 12,
     "metadata": {},
     "output_type": "execute_result"
    }
   ],
   "source": [
    "# split scaled and shuffled datasets into train, validation, and test\n",
    "num_samples = shuffled_inputs.shape[0]\n",
    "num_samples"
   ]
  },
  {
   "cell_type": "code",
   "execution_count": 13,
   "id": "silver-accordance",
   "metadata": {},
   "outputs": [],
   "source": [
    "# use the 80-10-10 split\n",
    "num_train_samples = int(0.8 * num_samples)\n",
    "num_validation_samples = int(0.1 * num_samples)\n",
    "num_testing_samples = num_samples - num_train_samples - num_validation_samples"
   ]
  },
  {
   "cell_type": "code",
   "execution_count": 14,
   "id": "gentle-republic",
   "metadata": {},
   "outputs": [
    {
     "name": "stdout",
     "output_type": "stream",
     "text": [
      "79.99552972731337\n",
      "9.991059454626733\n",
      "10.013410818059901\n"
     ]
    }
   ],
   "source": [
    "print( 100 * num_train_samples/num_samples )\n",
    "print( 100 * num_validation_samples/num_samples )\n",
    "print( 100 * num_testing_samples/num_samples )"
   ]
  },
  {
   "cell_type": "code",
   "execution_count": 15,
   "id": "accessory-cycling",
   "metadata": {},
   "outputs": [],
   "source": [
    "# extract data subsets from the main dataset:\n",
    "\n",
    "# 1. TRAINING DATA\n",
    "train_inputs = shuffled_inputs[:num_train_samples]\n",
    "train_targets = shuffled_targets[:num_train_samples]\n",
    "\n",
    "# 2. VALIDATION DATA\n",
    "split_limit = num_train_samples + num_validation_samples\n",
    "validation_inputs = shuffled_inputs[num_train_samples:split_limit]\n",
    "validation_targets = shuffled_targets[num_train_samples:split_limit]\n",
    "\n",
    "# 3. TESTING DATA\n",
    "test_inputs = shuffled_inputs[split_limit:]\n",
    "test_targets = shuffled_targets[split_limit:]"
   ]
  },
  {
   "cell_type": "code",
   "execution_count": 16,
   "id": "magnetic-sally",
   "metadata": {},
   "outputs": [
    {
     "name": "stdout",
     "output_type": "stream",
     "text": [
      "0.4973456272701872\n",
      "0.49440715883668906\n",
      "0.5267857142857143\n"
     ]
    }
   ],
   "source": [
    "# check to see if the data subsets are balanced:\n",
    "print( np.sum(train_targets) / num_train_samples )\n",
    "print( np.sum(validation_targets) / num_validation_samples )\n",
    "print( np.sum(test_targets) / num_testing_samples )"
   ]
  },
  {
   "cell_type": "code",
   "execution_count": 17,
   "id": "interested-festival",
   "metadata": {},
   "outputs": [],
   "source": [
    "# save the data in tensor format using .npz files\n",
    "np.savez('./out/audiobook_training_data', inputs=train_inputs, targets=train_targets)\n",
    "np.savez('./out/audiobook_validation_data', inputs=validation_inputs, targets=validation_targets)\n",
    "np.savez('./out/audiobook_testing_data', inputs=test_inputs, targets=test_targets)"
   ]
  },
  {
   "cell_type": "markdown",
   "id": "weird-transmission",
   "metadata": {},
   "source": [
    "### Create the ML Algorithm"
   ]
  },
  {
   "cell_type": "code",
   "execution_count": 18,
   "id": "minute-communications",
   "metadata": {},
   "outputs": [],
   "source": [
    "import tensorflow as tf"
   ]
  },
  {
   "cell_type": "code",
   "execution_count": 19,
   "id": "under-programmer",
   "metadata": {},
   "outputs": [],
   "source": [
    "# load the .npz data files that we had saved from part 1:\n",
    "\n",
    "train_npz = np.load('./out/audiobook_training_data.npz')\n",
    "train_inputs = train_npz['inputs'].astype(np.float)\n",
    "train_targets = train_npz['targets'].astype(np.int)\n",
    "\n",
    "val_npz = np.load('./out/audiobook_validation_data.npz')\n",
    "validation_inputs = val_npz['inputs'].astype(np.float)\n",
    "validation_targets = val_npz['targets'].astype(np.int)\n",
    "\n",
    "test_npz = np.load('./out/audiobook_testing_data.npz')\n",
    "test_inputs = test_npz['inputs'].astype(np.float)\n",
    "test_targets = test_npz['targets'].astype(np.int)"
   ]
  },
  {
   "cell_type": "markdown",
   "id": "lightweight-clear",
   "metadata": {},
   "source": [
    "### MODEL"
   ]
  },
  {
   "cell_type": "code",
   "execution_count": 20,
   "id": "selective-public",
   "metadata": {},
   "outputs": [],
   "source": [
    "input_size = 10\n",
    "output_size = 2\n",
    "hidden_layer_size = 128\n",
    "\n",
    "model = tf.keras.Sequential([\n",
    "    tf.keras.layers.Dense(hidden_layer_size, activation='relu'),\n",
    "    tf.keras.layers.Dense(hidden_layer_size, activation='relu'),\n",
    "    tf.keras.layers.Dense(output_size, activation='softmax'),\n",
    "])"
   ]
  },
  {
   "cell_type": "code",
   "execution_count": 21,
   "id": "protected-blend",
   "metadata": {},
   "outputs": [],
   "source": [
    "model.compile(optimizer='adam', \n",
    "              loss='sparse_categorical_crossentropy',\n",
    "              metrics=['accuracy'])"
   ]
  },
  {
   "cell_type": "code",
   "execution_count": 22,
   "id": "multiple-wisconsin",
   "metadata": {},
   "outputs": [],
   "source": [
    "BATCH_SIZE = 10\n",
    "MAX_EPOCHS = 100\n",
    "early_stopping = tf.keras.callbacks.EarlyStopping(patience=2)"
   ]
  },
  {
   "cell_type": "code",
   "execution_count": 23,
   "id": "minute-remainder",
   "metadata": {},
   "outputs": [
    {
     "name": "stdout",
     "output_type": "stream",
     "text": [
      "Epoch 1/100\n",
      "358/358 - 1s - loss: 0.4469 - accuracy: 0.7550 - val_loss: 0.4139 - val_accuracy: 0.7673\n",
      "Epoch 2/100\n",
      "358/358 - 0s - loss: 0.3898 - accuracy: 0.7882 - val_loss: 0.3783 - val_accuracy: 0.8009\n",
      "Epoch 3/100\n",
      "358/358 - 0s - loss: 0.3800 - accuracy: 0.7991 - val_loss: 0.3689 - val_accuracy: 0.8098\n",
      "Epoch 4/100\n",
      "358/358 - 0s - loss: 0.3693 - accuracy: 0.8016 - val_loss: 0.3853 - val_accuracy: 0.7785\n",
      "Epoch 5/100\n",
      "358/358 - 0s - loss: 0.3652 - accuracy: 0.8033 - val_loss: 0.3761 - val_accuracy: 0.7673\n"
     ]
    },
    {
     "data": {
      "text/plain": [
       "<tensorflow.python.keras.callbacks.History at 0x2466cf5e3d0>"
      ]
     },
     "execution_count": 23,
     "metadata": {},
     "output_type": "execute_result"
    }
   ],
   "source": [
    "model.fit(train_inputs, \n",
    "          train_targets, \n",
    "          batch_size=BATCH_SIZE, \n",
    "          epochs=MAX_EPOCHS,\n",
    "          callbacks=early_stopping,\n",
    "          validation_data=(validation_inputs, validation_targets),\n",
    "          verbose=2)"
   ]
  },
  {
   "cell_type": "markdown",
   "id": "temporal-contributor",
   "metadata": {},
   "source": [
    "### TESTING"
   ]
  },
  {
   "cell_type": "code",
   "execution_count": 24,
   "id": "coated-perfume",
   "metadata": {},
   "outputs": [
    {
     "name": "stdout",
     "output_type": "stream",
     "text": [
      "14/14 [==============================] - 0s 846us/step - loss: 0.3783 - accuracy: 0.7879\n"
     ]
    }
   ],
   "source": [
    "test_loss, test_acc = model.evaluate(test_inputs, test_targets)"
   ]
  }
 ],
 "metadata": {
  "kernelspec": {
   "display_name": "Python 3",
   "language": "python",
   "name": "python3"
  },
  "language_info": {
   "codemirror_mode": {
    "name": "ipython",
    "version": 3
   },
   "file_extension": ".py",
   "mimetype": "text/x-python",
   "name": "python",
   "nbconvert_exporter": "python",
   "pygments_lexer": "ipython3",
   "version": "3.8.8"
  }
 },
 "nbformat": 4,
 "nbformat_minor": 5
}
