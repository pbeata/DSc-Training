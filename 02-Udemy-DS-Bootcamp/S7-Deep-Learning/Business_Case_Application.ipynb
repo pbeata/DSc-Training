{
 "cells": [
  {
   "cell_type": "markdown",
   "id": "thousand-princeton",
   "metadata": {},
   "source": [
    "# Audiobooks and Customer Conversion"
   ]
  },
  {
   "cell_type": "code",
   "execution_count": 1,
   "id": "attractive-mailman",
   "metadata": {},
   "outputs": [],
   "source": [
    "import numpy as np\n",
    "from sklearn import preprocessing"
   ]
  },
  {
   "cell_type": "code",
   "execution_count": 2,
   "id": "least-timeline",
   "metadata": {},
   "outputs": [],
   "source": [
    "# load the dataset\n",
    "raw_data = np.loadtxt('../data/audiobook_data.csv', delimiter=',')"
   ]
  },
  {
   "cell_type": "code",
   "execution_count": 3,
   "id": "dense-affiliation",
   "metadata": {},
   "outputs": [],
   "source": [
    "# extract data from the .csv file\n",
    "unscaled_inputs_all = raw_data[:, 1:-1]\n",
    "targets_all = raw_data[:, -1]"
   ]
  },
  {
   "cell_type": "code",
   "execution_count": 4,
   "id": "inclusive-synthesis",
   "metadata": {},
   "outputs": [],
   "source": [
    "# NEW\n",
    "# Let's shuffle the data BEFORE balancing instead this time\n",
    "shuffled_indices_all = np.arange(unscaled_inputs_all.shape[0])\n",
    "np.random.shuffle(shuffled_indices_all)"
   ]
  },
  {
   "cell_type": "code",
   "execution_count": 5,
   "id": "hollywood-slovakia",
   "metadata": {},
   "outputs": [],
   "source": [
    "shuffled_inputs_all = unscaled_inputs_all[shuffled_indices_all]\n",
    "shuffled_targets_all = targets_all[shuffled_indices_all]"
   ]
  },
  {
   "cell_type": "code",
   "execution_count": 6,
   "id": "quality-watershed",
   "metadata": {},
   "outputs": [
    {
     "data": {
      "text/plain": [
       "2237"
      ]
     },
     "execution_count": 6,
     "metadata": {},
     "output_type": "execute_result"
    }
   ],
   "source": [
    "# balance the dataset 50/50:\n",
    "#   1. count the values that have a target = 1\n",
    "#   2. keep as many 0s as there are 1s\n",
    "num_ones = int(np.sum(shuffled_targets_all))\n",
    "num_ones"
   ]
  },
  {
   "cell_type": "code",
   "execution_count": 7,
   "id": "parallel-safety",
   "metadata": {},
   "outputs": [
    {
     "data": {
      "text/plain": [
       "(14084, 10)"
      ]
     },
     "execution_count": 7,
     "metadata": {},
     "output_type": "execute_result"
    }
   ],
   "source": [
    "shuffled_inputs_all.shape"
   ]
  },
  {
   "cell_type": "code",
   "execution_count": 8,
   "id": "major-december",
   "metadata": {},
   "outputs": [],
   "source": [
    "zero_counter = 0\n",
    "indices_to_remove = []\n",
    "\n",
    "for i in range (shuffled_targets_all.shape[0]):\n",
    "    if (shuffled_targets_all[i] == 0):\n",
    "        zero_counter += 1\n",
    "        if (zero_counter > num_ones):\n",
    "            indices_to_remove.append(i)\n",
    "\n",
    "unscaled_inputs_equal_priors = np.delete(shuffled_inputs_all, indices_to_remove, axis=0)\n",
    "targets_equal_priors = np.delete(shuffled_targets_all, indices_to_remove, axis=0)"
   ]
  },
  {
   "cell_type": "code",
   "execution_count": 9,
   "id": "nominated-edgar",
   "metadata": {},
   "outputs": [
    {
     "data": {
      "text/plain": [
       "(4474, 10)"
      ]
     },
     "execution_count": 9,
     "metadata": {},
     "output_type": "execute_result"
    }
   ],
   "source": [
    "# standardize the inputs\n",
    "scaled_inputs = preprocessing.scale(unscaled_inputs_equal_priors)\n",
    "scaled_inputs.shape"
   ]
  },
  {
   "cell_type": "code",
   "execution_count": 10,
   "id": "gentle-conference",
   "metadata": {},
   "outputs": [],
   "source": [
    "# since we are going to batch, we must shuffle the data as well\n",
    "shuffled_indices = np.arange(scaled_inputs.shape[0])\n",
    "np.random.shuffle(shuffled_indices)"
   ]
  },
  {
   "cell_type": "code",
   "execution_count": 11,
   "id": "ongoing-attention",
   "metadata": {},
   "outputs": [],
   "source": [
    "shuffled_inputs = scaled_inputs[shuffled_indices]\n",
    "shuffled_targets = targets_equal_priors[shuffled_indices]"
   ]
  },
  {
   "cell_type": "code",
   "execution_count": 12,
   "id": "cross-allowance",
   "metadata": {},
   "outputs": [
    {
     "data": {
      "text/plain": [
       "4474"
      ]
     },
     "execution_count": 12,
     "metadata": {},
     "output_type": "execute_result"
    }
   ],
   "source": [
    "# split scaled and shuffled datasets into train, validation, and test\n",
    "num_samples = shuffled_inputs.shape[0]\n",
    "num_samples"
   ]
  },
  {
   "cell_type": "code",
   "execution_count": 13,
   "id": "functioning-poultry",
   "metadata": {},
   "outputs": [
    {
     "name": "stdout",
     "output_type": "stream",
     "text": [
      "79.99552972731337\n",
      "9.991059454626733\n",
      "10.013410818059901\n"
     ]
    }
   ],
   "source": [
    "# use the 80-10-10 split\n",
    "num_train_samples = int(0.8 * num_samples)\n",
    "num_validation_samples = int(0.1 * num_samples)\n",
    "num_testing_samples = num_samples - num_train_samples - num_validation_samples\n",
    "\n",
    "print( 100 * num_train_samples/num_samples )\n",
    "print( 100 * num_validation_samples/num_samples )\n",
    "print( 100 * num_testing_samples/num_samples )"
   ]
  },
  {
   "cell_type": "code",
   "execution_count": 14,
   "id": "anonymous-affect",
   "metadata": {},
   "outputs": [],
   "source": [
    "# extract data subsets from the main dataset:\n",
    "\n",
    "# 1. TRAINING DATA\n",
    "train_inputs = shuffled_inputs[:num_train_samples]\n",
    "train_targets = shuffled_targets[:num_train_samples]\n",
    "\n",
    "# 2. VALIDATION DATA\n",
    "split_limit = num_train_samples + num_validation_samples\n",
    "validation_inputs = shuffled_inputs[num_train_samples:split_limit]\n",
    "validation_targets = shuffled_targets[num_train_samples:split_limit]\n",
    "\n",
    "# 3. TESTING DATA\n",
    "test_inputs = shuffled_inputs[split_limit:]\n",
    "test_targets = shuffled_targets[split_limit:]"
   ]
  },
  {
   "cell_type": "code",
   "execution_count": 15,
   "id": "russian-french",
   "metadata": {},
   "outputs": [
    {
     "name": "stdout",
     "output_type": "stream",
     "text": [
      "0.5032131880413523\n",
      "0.48322147651006714\n",
      "0.49107142857142855\n"
     ]
    }
   ],
   "source": [
    "# check to see if the data subsets are balanced:\n",
    "print( np.sum(train_targets) / num_train_samples )\n",
    "print( np.sum(validation_targets) / num_validation_samples )\n",
    "print( np.sum(test_targets) / num_testing_samples )"
   ]
  },
  {
   "cell_type": "code",
   "execution_count": 16,
   "id": "infinite-tiger",
   "metadata": {},
   "outputs": [],
   "source": [
    "# save the data in tensor format using .npz files\n",
    "np.savez('./out/audiobook_training_data', inputs=train_inputs, targets=train_targets)\n",
    "np.savez('./out/audiobook_validation_data', inputs=validation_inputs, targets=validation_targets)\n",
    "np.savez('./out/audiobook_testing_data', inputs=test_inputs, targets=test_targets)"
   ]
  },
  {
   "cell_type": "markdown",
   "id": "alleged-apartment",
   "metadata": {},
   "source": [
    "### Create the ML Algorithm"
   ]
  },
  {
   "cell_type": "code",
   "execution_count": 17,
   "id": "macro-banks",
   "metadata": {},
   "outputs": [],
   "source": [
    "import tensorflow as tf"
   ]
  },
  {
   "cell_type": "code",
   "execution_count": 18,
   "id": "aging-kidney",
   "metadata": {},
   "outputs": [],
   "source": [
    "# load the .npz data files that we had saved from part 1:\n",
    "\n",
    "train_npz = np.load('./out/audiobook_training_data.npz')\n",
    "train_inputs = train_npz['inputs'].astype(np.float)\n",
    "train_targets = train_npz['targets'].astype(np.int)\n",
    "\n",
    "val_npz = np.load('./out/audiobook_validation_data.npz')\n",
    "validation_inputs = val_npz['inputs'].astype(np.float)\n",
    "validation_targets = val_npz['targets'].astype(np.int)\n",
    "\n",
    "test_npz = np.load('./out/audiobook_testing_data.npz')\n",
    "test_inputs = test_npz['inputs'].astype(np.float)\n",
    "test_targets = test_npz['targets'].astype(np.int)"
   ]
  },
  {
   "cell_type": "markdown",
   "id": "conceptual-stick",
   "metadata": {},
   "source": [
    "### MODEL"
   ]
  },
  {
   "cell_type": "code",
   "execution_count": 19,
   "id": "hazardous-aside",
   "metadata": {},
   "outputs": [],
   "source": [
    "input_size = 10\n",
    "output_size = 2\n",
    "hidden_layer_size = 128\n",
    "\n",
    "model = tf.keras.Sequential([\n",
    "    tf.keras.layers.Dense(hidden_layer_size, activation='relu'),\n",
    "    tf.keras.layers.Dense(hidden_layer_size, activation='relu'),\n",
    "    tf.keras.layers.Dense(output_size, activation='softmax'),\n",
    "])"
   ]
  },
  {
   "cell_type": "code",
   "execution_count": 20,
   "id": "metric-recommendation",
   "metadata": {},
   "outputs": [],
   "source": [
    "model.compile(optimizer='adam', \n",
    "              loss='sparse_categorical_crossentropy',\n",
    "              metrics=['accuracy'])"
   ]
  },
  {
   "cell_type": "code",
   "execution_count": 21,
   "id": "tired-andrews",
   "metadata": {},
   "outputs": [],
   "source": [
    "BATCH_SIZE = 10\n",
    "MAX_EPOCHS = 100\n",
    "early_stopping = tf.keras.callbacks.EarlyStopping(patience=2)"
   ]
  },
  {
   "cell_type": "code",
   "execution_count": 22,
   "id": "wicked-greenhouse",
   "metadata": {},
   "outputs": [
    {
     "name": "stdout",
     "output_type": "stream",
     "text": [
      "Epoch 1/100\n",
      "358/358 - 4s - loss: 0.4278 - accuracy: 0.7698 - val_loss: 0.3956 - val_accuracy: 0.8076\n",
      "Epoch 2/100\n",
      "358/358 - 1s - loss: 0.3844 - accuracy: 0.7910 - val_loss: 0.3666 - val_accuracy: 0.7987\n",
      "Epoch 3/100\n",
      "358/358 - 1s - loss: 0.3797 - accuracy: 0.7999 - val_loss: 0.3821 - val_accuracy: 0.8210\n",
      "Epoch 4/100\n",
      "358/358 - 1s - loss: 0.3676 - accuracy: 0.8064 - val_loss: 0.3723 - val_accuracy: 0.8166\n"
     ]
    },
    {
     "data": {
      "text/plain": [
       "<tensorflow.python.keras.callbacks.History at 0x2eb24a63460>"
      ]
     },
     "execution_count": 22,
     "metadata": {},
     "output_type": "execute_result"
    }
   ],
   "source": [
    "model.fit(train_inputs, \n",
    "          train_targets, \n",
    "          batch_size=BATCH_SIZE, \n",
    "          epochs=MAX_EPOCHS,\n",
    "          callbacks=early_stopping,\n",
    "          validation_data=(validation_inputs, validation_targets),\n",
    "          verbose=2)"
   ]
  },
  {
   "cell_type": "markdown",
   "id": "fewer-present",
   "metadata": {},
   "source": [
    "### TESTING"
   ]
  },
  {
   "cell_type": "code",
   "execution_count": 23,
   "id": "political-powell",
   "metadata": {},
   "outputs": [
    {
     "name": "stdout",
     "output_type": "stream",
     "text": [
      "14/14 [==============================] - 0s 9ms/step - loss: 0.3739 - accuracy: 0.8103\n"
     ]
    }
   ],
   "source": [
    "test_loss, test_acc = model.evaluate(test_inputs, test_targets)"
   ]
  }
 ],
 "metadata": {
  "kernelspec": {
   "display_name": "Python 3",
   "language": "python",
   "name": "python3"
  },
  "language_info": {
   "codemirror_mode": {
    "name": "ipython",
    "version": 3
   },
   "file_extension": ".py",
   "mimetype": "text/x-python",
   "name": "python",
   "nbconvert_exporter": "python",
   "pygments_lexer": "ipython3",
   "version": "3.8.8"
  }
 },
 "nbformat": 4,
 "nbformat_minor": 5
}
