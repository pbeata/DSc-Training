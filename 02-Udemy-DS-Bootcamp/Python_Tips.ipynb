{
 "cells": [
  {
   "cell_type": "markdown",
   "id": "short-horizontal",
   "metadata": {},
   "source": [
    "### Using the Python .format() Method"
   ]
  },
  {
   "cell_type": "code",
   "execution_count": 1,
   "id": "metallic-retreat",
   "metadata": {},
   "outputs": [
    {
     "data": {
      "text/plain": [
       "(1, 3, 12)"
      ]
     },
     "execution_count": 1,
     "metadata": {},
     "output_type": "execute_result"
    }
   ],
   "source": [
    "time_horizon = (1, 3, 12)\n",
    "time_horizon"
   ]
  },
  {
   "cell_type": "code",
   "execution_count": 2,
   "id": "organized-dover",
   "metadata": {},
   "outputs": [
    {
     "data": {
      "text/plain": [
       "['Product A', 'Product B']"
      ]
     },
     "execution_count": 2,
     "metadata": {},
     "output_type": "execute_result"
    }
   ],
   "source": [
    "products = ['Product A', 'Product B']\n",
    "products"
   ]
  },
  {
   "cell_type": "code",
   "execution_count": 3,
   "id": "changing-listening",
   "metadata": {},
   "outputs": [
    {
     "data": {
      "text/plain": [
       "'Expected sales for a period of 12 month(s) for Product B:'"
      ]
     },
     "execution_count": 3,
     "metadata": {},
     "output_type": "execute_result"
    }
   ],
   "source": [
    "'Expected sales for a period of {} month(s) for {}:'.format(12, 'Product B')"
   ]
  },
  {
   "cell_type": "code",
   "execution_count": 5,
   "id": "expensive-event",
   "metadata": {},
   "outputs": [
    {
     "data": {
      "text/plain": [
       "'Expected sales for a period of 12 month(s) for Product B:'"
      ]
     },
     "execution_count": 5,
     "metadata": {},
     "output_type": "execute_result"
    }
   ],
   "source": [
    "'Expected sales for a period of {} month(s) for {}:'.format(time_horizon[2], products[1])"
   ]
  },
  {
   "cell_type": "code",
   "execution_count": 6,
   "id": "liberal-moral",
   "metadata": {},
   "outputs": [
    {
     "data": {
      "text/plain": [
       "'Expected sales for a period of 12 month(s) for Product B:'"
      ]
     },
     "execution_count": 6,
     "metadata": {},
     "output_type": "execute_result"
    }
   ],
   "source": [
    "'Expected sales for a period of {0} month(s) for {1}:'.format(time_horizon[2], products[1])"
   ]
  },
  {
   "cell_type": "code",
   "execution_count": 7,
   "id": "english-albany",
   "metadata": {},
   "outputs": [
    {
     "data": {
      "text/plain": [
       "'Expected sales for a period of 12 month(s) for Product B:'"
      ]
     },
     "execution_count": 7,
     "metadata": {},
     "output_type": "execute_result"
    }
   ],
   "source": [
    "# keyword arguments instead of index\n",
    "'Expected sales for a period of {time_int} month(s) for {prod}:'.format(time_int=12, prod='Product B')"
   ]
  },
  {
   "cell_type": "code",
   "execution_count": 8,
   "id": "emotional-bacteria",
   "metadata": {},
   "outputs": [
    {
     "data": {
      "text/plain": [
       "\"Expected sales for a period of 12 month(s) for ['Product A', 'Product B']:\""
      ]
     },
     "execution_count": 8,
     "metadata": {},
     "output_type": "execute_result"
    }
   ],
   "source": [
    "'Expected sales for a period of {time_int} month(s) for {prod}:'.format(time_int=12, prod=products)"
   ]
  },
  {
   "cell_type": "code",
   "execution_count": 10,
   "id": "dated-disney",
   "metadata": {},
   "outputs": [
    {
     "data": {
      "text/plain": [
       "'Expected sales for a period of 12 month(s) for Product B:'"
      ]
     },
     "execution_count": 10,
     "metadata": {},
     "output_type": "execute_result"
    }
   ],
   "source": [
    "'Expected sales for a period of {time_int[2]} month(s) for {prod[1]}:'.format(time_int=time_horizon, prod=products)"
   ]
  },
  {
   "cell_type": "code",
   "execution_count": 12,
   "id": "expected-intervention",
   "metadata": {},
   "outputs": [
    {
     "data": {
      "text/plain": [
       "'Expected sales for a period of 12 month(s) for Product B: $10000'"
      ]
     },
     "execution_count": 12,
     "metadata": {},
     "output_type": "execute_result"
    }
   ],
   "source": [
    "'Expected sales for a period of {time_int[2]} month(s) for {prod[1]}: ${sales}'.format(time_int=time_horizon, prod=products, sales=10000)"
   ]
  },
  {
   "cell_type": "markdown",
   "id": "periodic-dynamics",
   "metadata": {},
   "source": [
    "### Iterating Over Range Objects"
   ]
  },
  {
   "cell_type": "code",
   "execution_count": 13,
   "id": "martial-merit",
   "metadata": {},
   "outputs": [
    {
     "data": {
      "text/plain": [
       "(4, 5, 6, 7)"
      ]
     },
     "execution_count": 13,
     "metadata": {},
     "output_type": "execute_result"
    }
   ],
   "source": [
    "t = (4, 5, 6, 7)\n",
    "t"
   ]
  },
  {
   "cell_type": "code",
   "execution_count": 14,
   "id": "vital-hamburg",
   "metadata": {},
   "outputs": [
    {
     "data": {
      "text/plain": [
       "[10.5, 20.75, 30.0]"
      ]
     },
     "execution_count": 14,
     "metadata": {},
     "output_type": "execute_result"
    }
   ],
   "source": [
    "my_list = [10.5, 20.75, 30.00]\n",
    "my_list"
   ]
  },
  {
   "cell_type": "code",
   "execution_count": 15,
   "id": "close-gasoline",
   "metadata": {},
   "outputs": [
    {
     "data": {
      "text/plain": [
       "'abcde'"
      ]
     },
     "execution_count": 15,
     "metadata": {},
     "output_type": "execute_result"
    }
   ],
   "source": [
    "s = 'abcde'\n",
    "s"
   ]
  },
  {
   "cell_type": "code",
   "execution_count": 16,
   "id": "organic-cyprus",
   "metadata": {},
   "outputs": [
    {
     "name": "stdout",
     "output_type": "stream",
     "text": [
      "4 5 6 7 "
     ]
    }
   ],
   "source": [
    "for i in t:  # t is an \"iterable\" -> an object you can loop over\n",
    "    print(i, end=\" \")"
   ]
  },
  {
   "cell_type": "code",
   "execution_count": 17,
   "id": "plain-driving",
   "metadata": {},
   "outputs": [
    {
     "name": "stdout",
     "output_type": "stream",
     "text": [
      "0 1 2 3 4 "
     ]
    }
   ],
   "source": [
    "for i in range(5):\n",
    "    print(i, end=\" \")"
   ]
  },
  {
   "cell_type": "markdown",
   "id": "tracked-lender",
   "metadata": {},
   "source": [
    "### Nested Loops"
   ]
  },
  {
   "cell_type": "code",
   "execution_count": 20,
   "id": "opponent-mechanism",
   "metadata": {},
   "outputs": [
    {
     "name": "stdout",
     "output_type": "stream",
     "text": [
      "0\n",
      "1\n"
     ]
    }
   ],
   "source": [
    "for i in range(2):\n",
    "    print (i)"
   ]
  },
  {
   "cell_type": "code",
   "execution_count": 21,
   "id": "critical-beast",
   "metadata": {},
   "outputs": [
    {
     "name": "stdout",
     "output_type": "stream",
     "text": [
      "0\n",
      "1\n",
      "2\n",
      "3\n",
      "4\n"
     ]
    }
   ],
   "source": [
    "for j in range(5):\n",
    "    print (j)"
   ]
  },
  {
   "cell_type": "code",
   "execution_count": 23,
   "id": "earlier-radical",
   "metadata": {},
   "outputs": [
    {
     "name": "stdout",
     "output_type": "stream",
     "text": [
      "[0, 0]\n",
      "[0, 1]\n",
      "[0, 2]\n",
      "[0, 3]\n",
      "[0, 4]\n",
      "[1, 0]\n",
      "[1, 1]\n",
      "[1, 2]\n",
      "[1, 3]\n",
      "[1, 4]\n"
     ]
    }
   ],
   "source": [
    "for i in range(2):\n",
    "    for j in range(5):  # j loop is the inner loop nested inside the outer i loop\n",
    "        print([i, j])"
   ]
  },
  {
   "cell_type": "code",
   "execution_count": 24,
   "id": "incorrect-upset",
   "metadata": {},
   "outputs": [
    {
     "name": "stdout",
     "output_type": "stream",
     "text": [
      "['Product A', 0]\n",
      "['Product A', 1]\n",
      "['Product A', 2]\n",
      "['Product A', 3]\n",
      "['Product A', 4]\n",
      "['Product B', 0]\n",
      "['Product B', 1]\n",
      "['Product B', 2]\n",
      "['Product B', 3]\n",
      "['Product B', 4]\n"
     ]
    }
   ],
   "source": [
    "for i in products:\n",
    "    for j in range(5):\n",
    "        print([i, j])"
   ]
  },
  {
   "cell_type": "code",
   "execution_count": 25,
   "id": "through-donna",
   "metadata": {},
   "outputs": [
    {
     "name": "stdout",
     "output_type": "stream",
     "text": [
      "['Product A', 10000]\n",
      "['Product A', 12000]\n",
      "['Product A', 14000]\n",
      "['Product A', 16000]\n",
      "['Product A', 18000]\n",
      "['Product B', 10000]\n",
      "['Product B', 12000]\n",
      "['Product B', 14000]\n",
      "['Product B', 16000]\n",
      "['Product B', 18000]\n"
     ]
    }
   ],
   "source": [
    "expected_sales = [10000, 12000, 14000, 16000, 18000]\n",
    "\n",
    "for i in products:\n",
    "    for j in expected_sales:\n",
    "        print([i, j])"
   ]
  },
  {
   "cell_type": "code",
   "execution_count": 26,
   "id": "daily-quarterly",
   "metadata": {},
   "outputs": [
    {
     "name": "stdout",
     "output_type": "stream",
     "text": [
      "['Product A', 10000]\n",
      "['Product A', 30000]\n",
      "['Product A', 120000]\n",
      "['Product A', 12000]\n",
      "['Product A', 36000]\n",
      "['Product A', 144000]\n",
      "['Product A', 14000]\n",
      "['Product A', 42000]\n",
      "['Product A', 168000]\n",
      "['Product A', 16000]\n",
      "['Product A', 48000]\n",
      "['Product A', 192000]\n",
      "['Product A', 18000]\n",
      "['Product A', 54000]\n",
      "['Product A', 216000]\n",
      "['Product B', 10000]\n",
      "['Product B', 30000]\n",
      "['Product B', 120000]\n",
      "['Product B', 12000]\n",
      "['Product B', 36000]\n",
      "['Product B', 144000]\n",
      "['Product B', 14000]\n",
      "['Product B', 42000]\n",
      "['Product B', 168000]\n",
      "['Product B', 16000]\n",
      "['Product B', 48000]\n",
      "['Product B', 192000]\n",
      "['Product B', 18000]\n",
      "['Product B', 54000]\n",
      "['Product B', 216000]\n"
     ]
    }
   ],
   "source": [
    "# triple nested loops\n",
    "for i in products:\n",
    "    for j in expected_sales:\n",
    "        for k in time_horizon:\n",
    "            print([i, j*k])"
   ]
  },
  {
   "cell_type": "code",
   "execution_count": 30,
   "id": "subject-found",
   "metadata": {},
   "outputs": [
    {
     "name": "stdout",
     "output_type": "stream",
     "text": [
      "sales for a period of 1 month(s) for Product A: $10000\n",
      "sales for a period of 3 month(s) for Product A: $10000\n",
      "sales for a period of 12 month(s) for Product A: $10000\n",
      "sales for a period of 1 month(s) for Product A: $12000\n",
      "sales for a period of 3 month(s) for Product A: $12000\n",
      "sales for a period of 12 month(s) for Product A: $12000\n",
      "sales for a period of 1 month(s) for Product A: $14000\n",
      "sales for a period of 3 month(s) for Product A: $14000\n",
      "sales for a period of 12 month(s) for Product A: $14000\n",
      "sales for a period of 1 month(s) for Product A: $16000\n",
      "sales for a period of 3 month(s) for Product A: $16000\n",
      "sales for a period of 12 month(s) for Product A: $16000\n",
      "sales for a period of 1 month(s) for Product A: $18000\n",
      "sales for a period of 3 month(s) for Product A: $18000\n",
      "sales for a period of 12 month(s) for Product A: $18000\n",
      "sales for a period of 1 month(s) for Product B: $10000\n",
      "sales for a period of 3 month(s) for Product B: $10000\n",
      "sales for a period of 12 month(s) for Product B: $10000\n",
      "sales for a period of 1 month(s) for Product B: $12000\n",
      "sales for a period of 3 month(s) for Product B: $12000\n",
      "sales for a period of 12 month(s) for Product B: $12000\n",
      "sales for a period of 1 month(s) for Product B: $14000\n",
      "sales for a period of 3 month(s) for Product B: $14000\n",
      "sales for a period of 12 month(s) for Product B: $14000\n",
      "sales for a period of 1 month(s) for Product B: $16000\n",
      "sales for a period of 3 month(s) for Product B: $16000\n",
      "sales for a period of 12 month(s) for Product B: $16000\n",
      "sales for a period of 1 month(s) for Product B: $18000\n",
      "sales for a period of 3 month(s) for Product B: $18000\n",
      "sales for a period of 12 month(s) for Product B: $18000\n"
     ]
    }
   ],
   "source": [
    "# use descriptive names for the iterators in a professional setting:\n",
    "for prod in products:\n",
    "    for sales in expected_sales:\n",
    "        for months in time_horizon:\n",
    "#             print([prod, months*sales])\n",
    "            print('sales for a period of {time_int} month(s) for {prod}: ${sales}'.format(time_int=months, prod=prod, sales=sales) )"
   ]
  },
  {
   "cell_type": "markdown",
   "id": "framed-branch",
   "metadata": {},
   "source": [
    "### List Comprehensions"
   ]
  },
  {
   "cell_type": "code",
   "execution_count": 31,
   "id": "biological-professional",
   "metadata": {},
   "outputs": [
    {
     "data": {
      "text/plain": [
       "[1, 13, 4, 5, 63, 100]"
      ]
     },
     "execution_count": 31,
     "metadata": {},
     "output_type": "execute_result"
    }
   ],
   "source": [
    "numbers = [1, 13, 4, 5, 63, 100]\n",
    "numbers"
   ]
  },
  {
   "cell_type": "code",
   "execution_count": 32,
   "id": "instructional-raising",
   "metadata": {},
   "outputs": [
    {
     "name": "stdout",
     "output_type": "stream",
     "text": [
      "[2, 26, 8, 10, 126, 200]\n"
     ]
    }
   ],
   "source": [
    "new_numbers = []\n",
    "\n",
    "for n in numbers:\n",
    "    new_numbers.append(n * 2)\n",
    "    \n",
    "print(new_numbers)"
   ]
  },
  {
   "cell_type": "code",
   "execution_count": 33,
   "id": "electronic-mailing",
   "metadata": {},
   "outputs": [
    {
     "name": "stdout",
     "output_type": "stream",
     "text": [
      "[2, 26, 8, 10, 126, 200]\n"
     ]
    }
   ],
   "source": [
    "new_numbers = [n * 2 for n in numbers]   # list comprehension is much better for code readability\n",
    "print(new_numbers)"
   ]
  },
  {
   "cell_type": "code",
   "execution_count": 34,
   "id": "raised-advancement",
   "metadata": {},
   "outputs": [
    {
     "name": "stdout",
     "output_type": "stream",
     "text": [
      "0 1 2 3 4 1 2 3 4 5 "
     ]
    }
   ],
   "source": [
    "for i in range(2):\n",
    "    for j in range(5):\n",
    "        print(i + j, end=\" \")"
   ]
  },
  {
   "cell_type": "code",
   "execution_count": 37,
   "id": "horizontal-sugar",
   "metadata": {},
   "outputs": [
    {
     "name": "stdout",
     "output_type": "stream",
     "text": [
      "[0, 1, 2, 3, 4, 1, 2, 3, 4, 5]\n"
     ]
    }
   ],
   "source": [
    "new_list_comp1 = [ (i + j) for i in range(2) for j in range(5)]\n",
    "print(new_list_comp1)"
   ]
  },
  {
   "cell_type": "code",
   "execution_count": 39,
   "id": "democratic-liberty",
   "metadata": {},
   "outputs": [
    {
     "data": {
      "text/plain": [
       "int"
      ]
     },
     "execution_count": 39,
     "metadata": {},
     "output_type": "execute_result"
    }
   ],
   "source": [
    "type(new_list_comp1[0])"
   ]
  },
  {
   "cell_type": "code",
   "execution_count": 38,
   "id": "stopped-anxiety",
   "metadata": {},
   "outputs": [
    {
     "name": "stdout",
     "output_type": "stream",
     "text": [
      "[[0, 1], [1, 2], [2, 3], [3, 4], [4, 5]]\n"
     ]
    }
   ],
   "source": [
    "new_list_comp2 = [ [(i + j) for i in range(2)] for j in range(5)]\n",
    "print(new_list_comp2)"
   ]
  },
  {
   "cell_type": "code",
   "execution_count": 40,
   "id": "fifth-congress",
   "metadata": {},
   "outputs": [
    {
     "data": {
      "text/plain": [
       "list"
      ]
     },
     "execution_count": 40,
     "metadata": {},
     "output_type": "execute_result"
    }
   ],
   "source": [
    "type(new_list_comp2[0])"
   ]
  },
  {
   "cell_type": "code",
   "execution_count": 41,
   "id": "signed-drunk",
   "metadata": {},
   "outputs": [
    {
     "data": {
      "text/plain": [
       "[1, 2, 3, 4, 5, 6, 7, 8, 9, 10]"
      ]
     },
     "execution_count": 41,
     "metadata": {},
     "output_type": "execute_result"
    }
   ],
   "source": [
    "# using list comprehension with conditionals\n",
    "list(range(1,11))"
   ]
  },
  {
   "cell_type": "code",
   "execution_count": 42,
   "id": "vital-static",
   "metadata": {},
   "outputs": [
    {
     "data": {
      "text/plain": [
       "[1, 27, 125, 343, 729]"
      ]
     },
     "execution_count": 42,
     "metadata": {},
     "output_type": "execute_result"
    }
   ],
   "source": [
    "[num ** 3 for num in range(1,11) if num % 2 != 0]"
   ]
  },
  {
   "cell_type": "code",
   "execution_count": 43,
   "id": "extraordinary-beauty",
   "metadata": {},
   "outputs": [
    {
     "name": "stdout",
     "output_type": "stream",
     "text": [
      "1 27 125 343 729 "
     ]
    }
   ],
   "source": [
    "# equivalent output using loops\n",
    "for i in range(1, 11):\n",
    "    if (i % 2 != 0):\n",
    "        print(i ** 3, end=\" \")"
   ]
  },
  {
   "cell_type": "code",
   "execution_count": 44,
   "id": "protected-prescription",
   "metadata": {},
   "outputs": [
    {
     "data": {
      "text/plain": [
       "[1, 'even', 27, 'even', 125, 'even', 343, 'even', 729, 'even']"
      ]
     },
     "execution_count": 44,
     "metadata": {},
     "output_type": "execute_result"
    }
   ],
   "source": [
    "[num ** 3 if num % 2 != 0 else \"even\" for num in range(1,11) ]"
   ]
  },
  {
   "cell_type": "markdown",
   "id": "opponent-national",
   "metadata": {},
   "source": [
    "List Comprehensions:\n",
    "* A very powerful tool (it can be applied to a very wide range of cases and can deliver many types of output)\n",
    "* A fantastic example of HIGH-QUALITY CODE\n",
    "* Require more memory and run more slowly than some alternatives (like nested loops)"
   ]
  },
  {
   "cell_type": "markdown",
   "id": "personalized-retention",
   "metadata": {},
   "source": [
    "### Lambda Functions"
   ]
  },
  {
   "cell_type": "code",
   "execution_count": 45,
   "id": "junior-australian",
   "metadata": {},
   "outputs": [],
   "source": [
    "def raise_to_power_2 (x):\n",
    "    return x ** 2"
   ]
  },
  {
   "cell_type": "code",
   "execution_count": 46,
   "id": "hindu-rabbit",
   "metadata": {},
   "outputs": [
    {
     "data": {
      "text/plain": [
       "9"
      ]
     },
     "execution_count": 46,
     "metadata": {},
     "output_type": "execute_result"
    }
   ],
   "source": [
    "raise_to_power_2(3)"
   ]
  },
  {
   "cell_type": "code",
   "execution_count": 47,
   "id": "identified-hometown",
   "metadata": {},
   "outputs": [
    {
     "data": {
      "text/plain": [
       "<function __main__.<lambda>(x)>"
      ]
     },
     "execution_count": 47,
     "metadata": {},
     "output_type": "execute_result"
    }
   ],
   "source": [
    "lambda x: x ** 2"
   ]
  },
  {
   "cell_type": "code",
   "execution_count": 48,
   "id": "meaning-cameroon",
   "metadata": {},
   "outputs": [],
   "source": [
    "power2_lambda = lambda x: x ** 2"
   ]
  },
  {
   "cell_type": "code",
   "execution_count": 49,
   "id": "cognitive-ethiopia",
   "metadata": {},
   "outputs": [
    {
     "data": {
      "text/plain": [
       "9"
      ]
     },
     "execution_count": 49,
     "metadata": {},
     "output_type": "execute_result"
    }
   ],
   "source": [
    "power2_lambda(3)"
   ]
  },
  {
   "cell_type": "code",
   "execution_count": 50,
   "id": "editorial-fraction",
   "metadata": {},
   "outputs": [
    {
     "data": {
      "text/plain": [
       "5.5"
      ]
     },
     "execution_count": 50,
     "metadata": {},
     "output_type": "execute_result"
    }
   ],
   "source": [
    "(lambda x: x / 2) (11)"
   ]
  },
  {
   "cell_type": "code",
   "execution_count": 51,
   "id": "blank-france",
   "metadata": {},
   "outputs": [
    {
     "data": {
      "text/plain": [
       "5"
      ]
     },
     "execution_count": 51,
     "metadata": {},
     "output_type": "execute_result"
    }
   ],
   "source": [
    "sum_xy = lambda x, y: x + y\n",
    "sum_xy(2, 3)"
   ]
  },
  {
   "cell_type": "code",
   "execution_count": 52,
   "id": "swiss-scholarship",
   "metadata": {},
   "outputs": [],
   "source": [
    "sum_xy = lambda x, y: x + y(x)"
   ]
  },
  {
   "cell_type": "code",
   "execution_count": 53,
   "id": "hybrid-upper",
   "metadata": {},
   "outputs": [
    {
     "data": {
      "text/plain": [
       "12"
      ]
     },
     "execution_count": 53,
     "metadata": {},
     "output_type": "execute_result"
    }
   ],
   "source": [
    "sum_xy(2, lambda x: x * 5)"
   ]
  }
 ],
 "metadata": {
  "kernelspec": {
   "display_name": "Python 3",
   "language": "python",
   "name": "python3"
  },
  "language_info": {
   "codemirror_mode": {
    "name": "ipython",
    "version": 3
   },
   "file_extension": ".py",
   "mimetype": "text/x-python",
   "name": "python",
   "nbconvert_exporter": "python",
   "pygments_lexer": "ipython3",
   "version": "3.8.8"
  }
 },
 "nbformat": 4,
 "nbformat_minor": 5
}
