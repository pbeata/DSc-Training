{
 "cells": [
  {
   "cell_type": "markdown",
   "metadata": {},
   "source": [
    "## Practical Example: Descriptive Statistics Exercise (L94)\n",
    "\n",
    "### The Data Science Course 2021 (Udemy)\n",
    "#### Paul A. Beata - January 29, 2021"
   ]
  },
  {
   "cell_type": "markdown",
   "metadata": {},
   "source": [
    "Summary: analysis of real estate data in California  "
   ]
  },
  {
   "cell_type": "code",
   "execution_count": 1,
   "metadata": {},
   "outputs": [],
   "source": [
    "import pandas as pd\n",
    "import numpy as np\n",
    "import matplotlib.pyplot as plt"
   ]
  },
  {
   "cell_type": "code",
   "execution_count": 43,
   "metadata": {},
   "outputs": [
    {
     "data": {
      "text/html": [
       "<div>\n",
       "<style scoped>\n",
       "    .dataframe tbody tr th:only-of-type {\n",
       "        vertical-align: middle;\n",
       "    }\n",
       "\n",
       "    .dataframe tbody tr th {\n",
       "        vertical-align: top;\n",
       "    }\n",
       "\n",
       "    .dataframe thead th {\n",
       "        text-align: right;\n",
       "    }\n",
       "</style>\n",
       "<table border=\"1\" class=\"dataframe\">\n",
       "  <thead>\n",
       "    <tr style=\"text-align: right;\">\n",
       "      <th></th>\n",
       "      <th>ID</th>\n",
       "      <th>Price</th>\n",
       "      <th>Area (ft^2)</th>\n",
       "    </tr>\n",
       "  </thead>\n",
       "  <tbody>\n",
       "    <tr>\n",
       "      <th>0</th>\n",
       "      <td>1030</td>\n",
       "      <td>$246,172.68</td>\n",
       "      <td>743.09</td>\n",
       "    </tr>\n",
       "    <tr>\n",
       "      <th>1</th>\n",
       "      <td>1029</td>\n",
       "      <td>$246,331.90</td>\n",
       "      <td>756.21</td>\n",
       "    </tr>\n",
       "    <tr>\n",
       "      <th>2</th>\n",
       "      <td>2002</td>\n",
       "      <td>$209,280.91</td>\n",
       "      <td>587.28</td>\n",
       "    </tr>\n",
       "    <tr>\n",
       "      <th>3</th>\n",
       "      <td>2031</td>\n",
       "      <td>$452,667.01</td>\n",
       "      <td>1604.75</td>\n",
       "    </tr>\n",
       "    <tr>\n",
       "      <th>4</th>\n",
       "      <td>1049</td>\n",
       "      <td>$467,083.31</td>\n",
       "      <td>1375.45</td>\n",
       "    </tr>\n",
       "    <tr>\n",
       "      <th>...</th>\n",
       "      <td>...</td>\n",
       "      <td>...</td>\n",
       "      <td>...</td>\n",
       "    </tr>\n",
       "    <tr>\n",
       "      <th>262</th>\n",
       "      <td>5044</td>\n",
       "      <td>$322,610.74</td>\n",
       "      <td>1238.58</td>\n",
       "    </tr>\n",
       "    <tr>\n",
       "      <th>263</th>\n",
       "      <td>5047</td>\n",
       "      <td>$279,191.26</td>\n",
       "      <td>794.52</td>\n",
       "    </tr>\n",
       "    <tr>\n",
       "      <th>264</th>\n",
       "      <td>5048</td>\n",
       "      <td>$287,996.53</td>\n",
       "      <td>1013.27</td>\n",
       "    </tr>\n",
       "    <tr>\n",
       "      <th>265</th>\n",
       "      <td>5050</td>\n",
       "      <td>$365,868.78</td>\n",
       "      <td>1074.71</td>\n",
       "    </tr>\n",
       "    <tr>\n",
       "      <th>266</th>\n",
       "      <td>5051</td>\n",
       "      <td>$199,216.40</td>\n",
       "      <td>789.25</td>\n",
       "    </tr>\n",
       "  </tbody>\n",
       "</table>\n",
       "<p>267 rows × 3 columns</p>\n",
       "</div>"
      ],
      "text/plain": [
       "       ID        Price  Area (ft^2)\n",
       "0    1030  $246,172.68       743.09\n",
       "1    1029  $246,331.90       756.21\n",
       "2    2002  $209,280.91       587.28\n",
       "3    2031  $452,667.01      1604.75\n",
       "4    1049  $467,083.31      1375.45\n",
       "..    ...          ...          ...\n",
       "262  5044  $322,610.74      1238.58\n",
       "263  5047  $279,191.26       794.52\n",
       "264  5048  $287,996.53      1013.27\n",
       "265  5050  $365,868.78      1074.71\n",
       "266  5051  $199,216.40       789.25\n",
       "\n",
       "[267 rows x 3 columns]"
      ]
     },
     "execution_count": 43,
     "metadata": {},
     "output_type": "execute_result"
    }
   ],
   "source": [
    "# load in our real estate dataset \n",
    "# Columns: ID, Price\n",
    "data = pd.read_csv('./data/real_estate.csv')\n",
    "data"
   ]
  },
  {
   "cell_type": "markdown",
   "metadata": {},
   "source": [
    "We need to convert this currency data to floating point numbers in a new column."
   ]
  },
  {
   "cell_type": "code",
   "execution_count": 44,
   "metadata": {},
   "outputs": [
    {
     "data": {
      "text/html": [
       "<div>\n",
       "<style scoped>\n",
       "    .dataframe tbody tr th:only-of-type {\n",
       "        vertical-align: middle;\n",
       "    }\n",
       "\n",
       "    .dataframe tbody tr th {\n",
       "        vertical-align: top;\n",
       "    }\n",
       "\n",
       "    .dataframe thead th {\n",
       "        text-align: right;\n",
       "    }\n",
       "</style>\n",
       "<table border=\"1\" class=\"dataframe\">\n",
       "  <thead>\n",
       "    <tr style=\"text-align: right;\">\n",
       "      <th></th>\n",
       "      <th>ID</th>\n",
       "      <th>Price</th>\n",
       "      <th>Area (ft^2)</th>\n",
       "      <th>Price_Value</th>\n",
       "    </tr>\n",
       "  </thead>\n",
       "  <tbody>\n",
       "    <tr>\n",
       "      <th>0</th>\n",
       "      <td>1030</td>\n",
       "      <td>$246,172.68</td>\n",
       "      <td>743.09</td>\n",
       "      <td>246172.68</td>\n",
       "    </tr>\n",
       "    <tr>\n",
       "      <th>1</th>\n",
       "      <td>1029</td>\n",
       "      <td>$246,331.90</td>\n",
       "      <td>756.21</td>\n",
       "      <td>246331.90</td>\n",
       "    </tr>\n",
       "    <tr>\n",
       "      <th>2</th>\n",
       "      <td>2002</td>\n",
       "      <td>$209,280.91</td>\n",
       "      <td>587.28</td>\n",
       "      <td>209280.91</td>\n",
       "    </tr>\n",
       "    <tr>\n",
       "      <th>3</th>\n",
       "      <td>2031</td>\n",
       "      <td>$452,667.01</td>\n",
       "      <td>1604.75</td>\n",
       "      <td>452667.01</td>\n",
       "    </tr>\n",
       "    <tr>\n",
       "      <th>4</th>\n",
       "      <td>1049</td>\n",
       "      <td>$467,083.31</td>\n",
       "      <td>1375.45</td>\n",
       "      <td>467083.31</td>\n",
       "    </tr>\n",
       "    <tr>\n",
       "      <th>5</th>\n",
       "      <td>3011</td>\n",
       "      <td>$203,491.85</td>\n",
       "      <td>675.19</td>\n",
       "      <td>203491.85</td>\n",
       "    </tr>\n",
       "    <tr>\n",
       "      <th>6</th>\n",
       "      <td>3026</td>\n",
       "      <td>$212,520.83</td>\n",
       "      <td>670.89</td>\n",
       "      <td>212520.83</td>\n",
       "    </tr>\n",
       "    <tr>\n",
       "      <th>7</th>\n",
       "      <td>3023</td>\n",
       "      <td>$198,591.85</td>\n",
       "      <td>720.81</td>\n",
       "      <td>198591.85</td>\n",
       "    </tr>\n",
       "    <tr>\n",
       "      <th>8</th>\n",
       "      <td>1031</td>\n",
       "      <td>$265,467.68</td>\n",
       "      <td>782.25</td>\n",
       "      <td>265467.68</td>\n",
       "    </tr>\n",
       "    <tr>\n",
       "      <th>9</th>\n",
       "      <td>4023</td>\n",
       "      <td>$235,633.26</td>\n",
       "      <td>794.52</td>\n",
       "      <td>235633.26</td>\n",
       "    </tr>\n",
       "  </tbody>\n",
       "</table>\n",
       "</div>"
      ],
      "text/plain": [
       "     ID        Price  Area (ft^2)  Price_Value\n",
       "0  1030  $246,172.68       743.09    246172.68\n",
       "1  1029  $246,331.90       756.21    246331.90\n",
       "2  2002  $209,280.91       587.28    209280.91\n",
       "3  2031  $452,667.01      1604.75    452667.01\n",
       "4  1049  $467,083.31      1375.45    467083.31\n",
       "5  3011  $203,491.85       675.19    203491.85\n",
       "6  3026  $212,520.83       670.89    212520.83\n",
       "7  3023  $198,591.85       720.81    198591.85\n",
       "8  1031  $265,467.68       782.25    265467.68\n",
       "9  4023  $235,633.26       794.52    235633.26"
      ]
     },
     "execution_count": 44,
     "metadata": {},
     "output_type": "execute_result"
    }
   ],
   "source": [
    "temp = data['Price'].str.lstrip('$')\n",
    "temp2 = temp.str.replace(',', '')\n",
    "data['Price_Value'] = temp2.astype(float)\n",
    "data.head(10)"
   ]
  },
  {
   "cell_type": "code",
   "execution_count": 45,
   "metadata": {},
   "outputs": [
    {
     "data": {
      "image/png": "[encoded data removed]",
      "text/plain": [
       "<Figure size 432x288 with 1 Axes>"
      ]
     },
     "metadata": {
      "needs_background": "light"
     },
     "output_type": "display_data"
    }
   ],
   "source": [
    "fig1, ax1 = plt.subplots(1, 1)\n",
    "\n",
    "plt.hist(data['Price_Value'], bins=272)\n",
    "\n",
    "plt.title('Fig. 1: CA Housing Prices from Local RE Agency')\n",
    "plt.xlabel('House Price (USD)')\n",
    "plt.ylabel('Frequency')\n",
    "\n",
    "# format xticks to show dollar signs:\n",
    "fmt = '${x:,.0f}'\n",
    "ax1.xaxis.set_major_formatter(fmt)\n",
    "# ax.xaxis.set_major_formatter('${x:1.0f}')\n",
    "\n",
    "# add rotation, if needed:\n",
    "plt.xticks(rotation=25)\n",
    "\n",
    "plt.show()"
   ]
  },
  {
   "cell_type": "code",
   "execution_count": 46,
   "metadata": {},
   "outputs": [
    {
     "data": {
      "image/png": "[encoded data removed]",
      "text/plain": [
       "<Figure size 432x288 with 1 Axes>"
      ]
     },
     "metadata": {
      "needs_background": "light"
     },
     "output_type": "display_data"
    }
   ],
   "source": [
    "my_bins = np.arange(100000, 700000, 100000)\n",
    "my_bins = np.arange(100000, 650000, 50000)\n",
    "my_bins = np.arange(0, 650000, 50000)\n",
    "\n",
    "fig2, ax2 = plt.subplots(1, 1)\n",
    "\n",
    "vals, bins, patches = plt.hist(data['Price_Value'], bins=my_bins, edgecolor='black', linewidth=0.8)\n",
    "\n",
    "plt.title('Fig. 2: CA Housing Prices from Local RE Agency')\n",
    "plt.xlabel('House Price (USD)')\n",
    "plt.ylabel('Frequency')\n",
    "\n",
    "# format xticks to show dollar signs:\n",
    "fmt = '${x:,.0f}'\n",
    "ax2.xaxis.set_major_formatter(fmt)\n",
    "\n",
    "# add rotation, if needed:\n",
    "plt.xticks(rotation=25)\n",
    "\n",
    "plt.show()"
   ]
  },
  {
   "cell_type": "code",
   "execution_count": 34,
   "metadata": {},
   "outputs": [
    {
     "data": {
      "text/plain": [
       "array([  0.,   0.,   2.,  28., 105.,  48.,  28.,  23.,  12.,  14.,   7.,\n",
       "         0.])"
      ]
     },
     "execution_count": 34,
     "metadata": {},
     "output_type": "execute_result"
    }
   ],
   "source": [
    "vals"
   ]
  },
  {
   "cell_type": "code",
   "execution_count": 35,
   "metadata": {},
   "outputs": [
    {
     "data": {
      "text/plain": [
       "array([     0,  50000, 100000, 150000, 200000, 250000, 300000, 350000,\n",
       "       400000, 450000, 500000, 550000, 600000])"
      ]
     },
     "execution_count": 35,
     "metadata": {},
     "output_type": "execute_result"
    }
   ],
   "source": [
    "bins"
   ]
  },
  {
   "cell_type": "code",
   "execution_count": 41,
   "metadata": {},
   "outputs": [
    {
     "data": {
      "text/plain": [
       "0    460001.26\n",
       "dtype: float64"
      ]
     },
     "execution_count": 41,
     "metadata": {},
     "output_type": "execute_result"
    }
   ],
   "source": [
    "# data['Price_Value'].mean()\n",
    "data['Price_Value'].mode()\n"
   ]
  },
  {
   "cell_type": "markdown",
   "metadata": {},
   "source": [
    "From the histograms in Figures 1 and 2, we see that the frequency data reviews a right-skewness and that the majority of the homes are in the 200k to 300k range. In fact, in this interval, there are 153 homes. "
   ]
  },
  {
   "cell_type": "code",
   "execution_count": 57,
   "metadata": {},
   "outputs": [
    {
     "data": {
      "image/png": "[encoded data removed]",
      "text/plain": [
       "<Figure size 432x288 with 1 Axes>"
      ]
     },
     "metadata": {
      "needs_background": "light"
     },
     "output_type": "display_data"
    }
   ],
   "source": [
    "price = data['Price_Value']\n",
    "area = data['Area (ft^2)']\n",
    "\n",
    "fig3, ax3 = plt.subplots(1, 1)\n",
    "plt.plot(price, area, 'k.')\n",
    "\n",
    "plt.title('Fig. 3: Comparing Housing Prices and Sizes')\n",
    "plt.xlabel('House Price ($USD$)')\n",
    "plt.ylabel('House Area ($ft^2$)')\n",
    "\n",
    "# format xticks to show dollar signs:\n",
    "fmt = '${x:,.0f}'\n",
    "ax3.xaxis.set_major_formatter(fmt)\n",
    "\n",
    "plt.show()"
   ]
  }
 ],
 "metadata": {
  "kernelspec": {
   "display_name": "Python 3",
   "language": "python",
   "name": "python3"
  },
  "language_info": {
   "codemirror_mode": {
    "name": "ipython",
    "version": 3
   },
   "file_extension": ".py",
   "mimetype": "text/x-python",
   "name": "python",
   "nbconvert_exporter": "python",
   "pygments_lexer": "ipython3",
   "version": "3.8.5"
  }
 },
 "nbformat": 4,
 "nbformat_minor": 4
}
