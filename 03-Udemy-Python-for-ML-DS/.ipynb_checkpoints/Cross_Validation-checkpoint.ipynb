{
 "cells": [
  {
   "cell_type": "code",
   "execution_count": 1,
   "id": "technological-framing",
   "metadata": {},
   "outputs": [],
   "source": [
    "import numpy as np\n",
    "import pandas as pd\n",
    "import matplotlib.pyplot as plt\n",
    "import seaborn as sns"
   ]
  },
  {
   "cell_type": "code",
   "execution_count": 2,
   "id": "existing-centre",
   "metadata": {},
   "outputs": [],
   "source": [
    "%config Completer.use_jedi = False"
   ]
  },
  {
   "cell_type": "code",
   "execution_count": 3,
   "id": "boolean-mistress",
   "metadata": {},
   "outputs": [
    {
     "data": {
      "text/html": [
       "<div>\n",
       "<style scoped>\n",
       "    .dataframe tbody tr th:only-of-type {\n",
       "        vertical-align: middle;\n",
       "    }\n",
       "\n",
       "    .dataframe tbody tr th {\n",
       "        vertical-align: top;\n",
       "    }\n",
       "\n",
       "    .dataframe thead th {\n",
       "        text-align: right;\n",
       "    }\n",
       "</style>\n",
       "<table border=\"1\" class=\"dataframe\">\n",
       "  <thead>\n",
       "    <tr style=\"text-align: right;\">\n",
       "      <th></th>\n",
       "      <th>TV</th>\n",
       "      <th>radio</th>\n",
       "      <th>newspaper</th>\n",
       "      <th>sales</th>\n",
       "    </tr>\n",
       "  </thead>\n",
       "  <tbody>\n",
       "    <tr>\n",
       "      <th>0</th>\n",
       "      <td>230.1</td>\n",
       "      <td>37.8</td>\n",
       "      <td>69.2</td>\n",
       "      <td>22.1</td>\n",
       "    </tr>\n",
       "    <tr>\n",
       "      <th>1</th>\n",
       "      <td>44.5</td>\n",
       "      <td>39.3</td>\n",
       "      <td>45.1</td>\n",
       "      <td>10.4</td>\n",
       "    </tr>\n",
       "    <tr>\n",
       "      <th>2</th>\n",
       "      <td>17.2</td>\n",
       "      <td>45.9</td>\n",
       "      <td>69.3</td>\n",
       "      <td>9.3</td>\n",
       "    </tr>\n",
       "    <tr>\n",
       "      <th>3</th>\n",
       "      <td>151.5</td>\n",
       "      <td>41.3</td>\n",
       "      <td>58.5</td>\n",
       "      <td>18.5</td>\n",
       "    </tr>\n",
       "    <tr>\n",
       "      <th>4</th>\n",
       "      <td>180.8</td>\n",
       "      <td>10.8</td>\n",
       "      <td>58.4</td>\n",
       "      <td>12.9</td>\n",
       "    </tr>\n",
       "    <tr>\n",
       "      <th>...</th>\n",
       "      <td>...</td>\n",
       "      <td>...</td>\n",
       "      <td>...</td>\n",
       "      <td>...</td>\n",
       "    </tr>\n",
       "    <tr>\n",
       "      <th>195</th>\n",
       "      <td>38.2</td>\n",
       "      <td>3.7</td>\n",
       "      <td>13.8</td>\n",
       "      <td>7.6</td>\n",
       "    </tr>\n",
       "    <tr>\n",
       "      <th>196</th>\n",
       "      <td>94.2</td>\n",
       "      <td>4.9</td>\n",
       "      <td>8.1</td>\n",
       "      <td>9.7</td>\n",
       "    </tr>\n",
       "    <tr>\n",
       "      <th>197</th>\n",
       "      <td>177.0</td>\n",
       "      <td>9.3</td>\n",
       "      <td>6.4</td>\n",
       "      <td>12.8</td>\n",
       "    </tr>\n",
       "    <tr>\n",
       "      <th>198</th>\n",
       "      <td>283.6</td>\n",
       "      <td>42.0</td>\n",
       "      <td>66.2</td>\n",
       "      <td>25.5</td>\n",
       "    </tr>\n",
       "    <tr>\n",
       "      <th>199</th>\n",
       "      <td>232.1</td>\n",
       "      <td>8.6</td>\n",
       "      <td>8.7</td>\n",
       "      <td>13.4</td>\n",
       "    </tr>\n",
       "  </tbody>\n",
       "</table>\n",
       "<p>200 rows × 4 columns</p>\n",
       "</div>"
      ],
      "text/plain": [
       "        TV  radio  newspaper  sales\n",
       "0    230.1   37.8       69.2   22.1\n",
       "1     44.5   39.3       45.1   10.4\n",
       "2     17.2   45.9       69.3    9.3\n",
       "3    151.5   41.3       58.5   18.5\n",
       "4    180.8   10.8       58.4   12.9\n",
       "..     ...    ...        ...    ...\n",
       "195   38.2    3.7       13.8    7.6\n",
       "196   94.2    4.9        8.1    9.7\n",
       "197  177.0    9.3        6.4   12.8\n",
       "198  283.6   42.0       66.2   25.5\n",
       "199  232.1    8.6        8.7   13.4\n",
       "\n",
       "[200 rows x 4 columns]"
      ]
     },
     "execution_count": 3,
     "metadata": {},
     "output_type": "execute_result"
    }
   ],
   "source": [
    "df = pd.read_csv('./data/advertising.csv')\n",
    "df"
   ]
  },
  {
   "cell_type": "markdown",
   "id": "funny-albert",
   "metadata": {},
   "source": [
    "### Train-Test Split\n",
    "\n",
    "0. Clean and adjust the data as needed for X and y\n",
    "1. Split data into TRAIN and TEST sets for both X and y\n",
    "2. Fit/train scaler on the TRAINing X data\n",
    "3. Scale the X TEST data\n",
    "4. Create the model\n",
    "5. Fit/train model on the X TRAINing data\n",
    "6. Evaluate model on X TEST data (by computing predictions and comparing to y TEST)\n",
    "7. Adjust parameters as needed and repeat steps 5 and 6"
   ]
  },
  {
   "cell_type": "code",
   "execution_count": 4,
   "id": "accessory-garden",
   "metadata": {},
   "outputs": [],
   "source": [
    "X = df.drop('sales', axis=1)\n",
    "y = df['sales']"
   ]
  },
  {
   "cell_type": "code",
   "execution_count": 5,
   "id": "major-assessment",
   "metadata": {},
   "outputs": [],
   "source": [
    "from sklearn.model_selection import train_test_split"
   ]
  },
  {
   "cell_type": "code",
   "execution_count": 6,
   "id": "nutritional-kruger",
   "metadata": {},
   "outputs": [],
   "source": [
    "X_train, X_test, y_train, y_test = train_test_split(\n",
    "...     X, y, test_size=0.3, random_state=101)"
   ]
  },
  {
   "cell_type": "code",
   "execution_count": 7,
   "id": "final-hawaii",
   "metadata": {},
   "outputs": [],
   "source": [
    "from sklearn.preprocessing import StandardScaler"
   ]
  },
  {
   "cell_type": "code",
   "execution_count": 8,
   "id": "split-clark",
   "metadata": {},
   "outputs": [],
   "source": [
    "scaler = StandardScaler()"
   ]
  },
  {
   "cell_type": "code",
   "execution_count": 9,
   "id": "clinical-shark",
   "metadata": {},
   "outputs": [
    {
     "data": {
      "text/plain": [
       "StandardScaler()"
      ]
     },
     "execution_count": 9,
     "metadata": {},
     "output_type": "execute_result"
    }
   ],
   "source": [
    "scaler.fit(X_train)"
   ]
  },
  {
   "cell_type": "code",
   "execution_count": 10,
   "id": "educated-costs",
   "metadata": {},
   "outputs": [],
   "source": [
    "X_train = scaler.transform(X_train)"
   ]
  },
  {
   "cell_type": "code",
   "execution_count": 11,
   "id": "opening-barrel",
   "metadata": {},
   "outputs": [],
   "source": [
    "X_test = scaler.transform(X_test)"
   ]
  },
  {
   "cell_type": "code",
   "execution_count": 12,
   "id": "split-glenn",
   "metadata": {},
   "outputs": [],
   "source": [
    "from sklearn.linear_model import Ridge"
   ]
  },
  {
   "cell_type": "code",
   "execution_count": 13,
   "id": "western-vacuum",
   "metadata": {},
   "outputs": [],
   "source": [
    "model = Ridge(alpha=100)"
   ]
  },
  {
   "cell_type": "code",
   "execution_count": 14,
   "id": "moving-repeat",
   "metadata": {},
   "outputs": [
    {
     "data": {
      "text/plain": [
       "Ridge(alpha=100)"
      ]
     },
     "execution_count": 14,
     "metadata": {},
     "output_type": "execute_result"
    }
   ],
   "source": [
    "model.fit(X_train, y_train)"
   ]
  },
  {
   "cell_type": "code",
   "execution_count": 15,
   "id": "sapphire-breath",
   "metadata": {},
   "outputs": [],
   "source": [
    "y_pred = model.predict(X_test)"
   ]
  },
  {
   "cell_type": "code",
   "execution_count": 16,
   "id": "individual-civilization",
   "metadata": {},
   "outputs": [],
   "source": [
    "from sklearn.metrics import mean_squared_error"
   ]
  },
  {
   "cell_type": "code",
   "execution_count": 17,
   "id": "potential-general",
   "metadata": {},
   "outputs": [
    {
     "data": {
      "text/plain": [
       "7.341775789034129"
      ]
     },
     "execution_count": 17,
     "metadata": {},
     "output_type": "execute_result"
    }
   ],
   "source": [
    "mean_squared_error(y_test, y_pred)"
   ]
  },
  {
   "cell_type": "code",
   "execution_count": 18,
   "id": "limiting-intent",
   "metadata": {},
   "outputs": [],
   "source": [
    "model2 = Ridge(alpha=1)"
   ]
  },
  {
   "cell_type": "code",
   "execution_count": 19,
   "id": "above-coral",
   "metadata": {},
   "outputs": [
    {
     "data": {
      "text/plain": [
       "Ridge(alpha=1)"
      ]
     },
     "execution_count": 19,
     "metadata": {},
     "output_type": "execute_result"
    }
   ],
   "source": [
    "model2.fit(X_train, y_train)"
   ]
  },
  {
   "cell_type": "code",
   "execution_count": 20,
   "id": "original-consensus",
   "metadata": {},
   "outputs": [],
   "source": [
    "y_pred2 = model2.predict(X_test)"
   ]
  },
  {
   "cell_type": "code",
   "execution_count": 21,
   "id": "embedded-collective",
   "metadata": {},
   "outputs": [
    {
     "data": {
      "text/plain": [
       "2.3190215794287514"
      ]
     },
     "execution_count": 21,
     "metadata": {},
     "output_type": "execute_result"
    }
   ],
   "source": [
    "mean_squared_error(y_test, y_pred2)"
   ]
  },
  {
   "cell_type": "markdown",
   "id": "hungry-waters",
   "metadata": {},
   "source": [
    "### Training-Validation-Test Split"
   ]
  },
  {
   "cell_type": "code",
   "execution_count": 22,
   "id": "relative-girlfriend",
   "metadata": {},
   "outputs": [],
   "source": [
    "# 70% Training\n",
    "# 30% Validation and Testing"
   ]
  },
  {
   "cell_type": "code",
   "execution_count": 23,
   "id": "spare-prophet",
   "metadata": {},
   "outputs": [],
   "source": [
    "X = df.drop('sales', axis=1)\n",
    "y = df['sales']"
   ]
  },
  {
   "cell_type": "code",
   "execution_count": 28,
   "id": "designing-driving",
   "metadata": {},
   "outputs": [],
   "source": [
    "# FIRST SPLIT: 70% for trainging and 30% for OTHER (to be split again)\n",
    "X_train, X_other, y_train, y_other = train_test_split(X, y, test_size=0.3, random_state=101)"
   ]
  },
  {
   "cell_type": "code",
   "execution_count": 29,
   "id": "critical-globe",
   "metadata": {},
   "outputs": [],
   "source": [
    "# SECOND SPLIT\n",
    "# test_size=0.5 (50% of the 30% \"other\" from the previous split: therefore, 15% test data from all the data)\n",
    "X_eval, X_test, y_eval, y_test = train_test_split(X_other, y_other, test_size=0.5, random_state=101)"
   ]
  },
  {
   "cell_type": "code",
   "execution_count": 33,
   "id": "objective-match",
   "metadata": {},
   "outputs": [
    {
     "data": {
      "text/plain": [
       "200"
      ]
     },
     "execution_count": 33,
     "metadata": {},
     "output_type": "execute_result"
    }
   ],
   "source": [
    "len(X)"
   ]
  },
  {
   "cell_type": "code",
   "execution_count": 30,
   "id": "parliamentary-calendar",
   "metadata": {},
   "outputs": [
    {
     "data": {
      "text/plain": [
       "140"
      ]
     },
     "execution_count": 30,
     "metadata": {},
     "output_type": "execute_result"
    }
   ],
   "source": [
    "len(X_train)"
   ]
  },
  {
   "cell_type": "code",
   "execution_count": 31,
   "id": "neither-bathroom",
   "metadata": {},
   "outputs": [
    {
     "data": {
      "text/plain": [
       "30"
      ]
     },
     "execution_count": 31,
     "metadata": {},
     "output_type": "execute_result"
    }
   ],
   "source": [
    "len(X_eval)"
   ]
  },
  {
   "cell_type": "code",
   "execution_count": 32,
   "id": "numerical-proxy",
   "metadata": {},
   "outputs": [
    {
     "data": {
      "text/plain": [
       "30"
      ]
     },
     "execution_count": 32,
     "metadata": {},
     "output_type": "execute_result"
    }
   ],
   "source": [
    "len(X_test)"
   ]
  },
  {
   "cell_type": "code",
   "execution_count": 35,
   "id": "ethical-patient",
   "metadata": {},
   "outputs": [
    {
     "data": {
      "text/plain": [
       "StandardScaler()"
      ]
     },
     "execution_count": 35,
     "metadata": {},
     "output_type": "execute_result"
    }
   ],
   "source": [
    "scaler = StandardScaler()\n",
    "scaler.fit(X_train)"
   ]
  },
  {
   "cell_type": "code",
   "execution_count": 36,
   "id": "reflected-virginia",
   "metadata": {},
   "outputs": [],
   "source": [
    "X_train = scaler.transform(X_train)\n",
    "X_eval = scaler.transform(X_eval)\n",
    "X_test = scaler.transform(X_test)"
   ]
  },
  {
   "cell_type": "code",
   "execution_count": 37,
   "id": "roman-ballot",
   "metadata": {},
   "outputs": [
    {
     "data": {
      "text/plain": [
       "7.320101458823872"
      ]
     },
     "execution_count": 37,
     "metadata": {},
     "output_type": "execute_result"
    }
   ],
   "source": [
    "model_1 = Ridge(alpha=100)\n",
    "model_1.fit(X_train, y_train)\n",
    "y_eval_pred = model_1.predict(X_eval)\n",
    "mean_squared_error(y_eval, y_eval_pred)"
   ]
  },
  {
   "cell_type": "code",
   "execution_count": 39,
   "id": "experienced-latino",
   "metadata": {},
   "outputs": [
    {
     "data": {
      "text/plain": [
       "2.3837830750569866"
      ]
     },
     "execution_count": 39,
     "metadata": {},
     "output_type": "execute_result"
    }
   ],
   "source": [
    "model_2 = Ridge(alpha=1)\n",
    "model_2.fit(X_train, y_train)\n",
    "y_eval_pred = model_2.predict(X_eval)\n",
    "mean_squared_error(y_eval, y_eval_pred)"
   ]
  },
  {
   "cell_type": "code",
   "execution_count": 41,
   "id": "adapted-boring",
   "metadata": {},
   "outputs": [
    {
     "data": {
      "text/plain": [
       "2.254260083800517"
      ]
     },
     "execution_count": 41,
     "metadata": {},
     "output_type": "execute_result"
    }
   ],
   "source": [
    "# FINAL EVALUATION FOR REPORTING MODEL PERFORMANCE\n",
    "y_final = model_2.predict(X_test)\n",
    "mean_squared_error(y_test, y_final)"
   ]
  },
  {
   "cell_type": "markdown",
   "id": "welsh-machinery",
   "metadata": {},
   "source": [
    "### K-Fold Cross Validation"
   ]
  },
  {
   "cell_type": "code",
   "execution_count": 42,
   "id": "orange-quarterly",
   "metadata": {},
   "outputs": [],
   "source": [
    "X = df.drop('sales', axis=1)\n",
    "y = df['sales']"
   ]
  },
  {
   "cell_type": "code",
   "execution_count": 43,
   "id": "great-hardwood",
   "metadata": {},
   "outputs": [],
   "source": [
    "X_train, X_test, y_train, y_test = train_test_split(X, y, test_size=0.3, random_state=101)"
   ]
  },
  {
   "cell_type": "code",
   "execution_count": 44,
   "id": "smaller-pioneer",
   "metadata": {},
   "outputs": [],
   "source": [
    "scaler = StandardScaler()\n",
    "scaler.fit(X_train)\n",
    "\n",
    "X_train = scaler.transform(X_train)\n",
    "X_test = scaler.transform(X_test)"
   ]
  },
  {
   "cell_type": "code",
   "execution_count": 61,
   "id": "ordinary-forty",
   "metadata": {},
   "outputs": [],
   "source": [
    "from sklearn.model_selection import cross_val_score"
   ]
  },
  {
   "cell_type": "code",
   "execution_count": 66,
   "id": "double-guide",
   "metadata": {},
   "outputs": [
    {
     "data": {
      "text/plain": [
       "8.215396464543607"
      ]
     },
     "execution_count": 66,
     "metadata": {},
     "output_type": "execute_result"
    }
   ],
   "source": [
    "# MODEL 1\n",
    "model = Ridge(alpha=100)\n",
    "\n",
    "scores = cross_val_score(model, \n",
    "                         X_train, \n",
    "                         y_train, \n",
    "                         scoring='neg_mean_squared_error', \n",
    "                         cv=5)  # CV is number of FOLDS\n",
    "\n",
    "# positive mean squared error to use for comparison\n",
    "abs(scores.mean())"
   ]
  },
  {
   "cell_type": "code",
   "execution_count": 67,
   "id": "integral-sussex",
   "metadata": {},
   "outputs": [
    {
     "data": {
      "text/plain": [
       "3.344839296530695"
      ]
     },
     "execution_count": 67,
     "metadata": {},
     "output_type": "execute_result"
    }
   ],
   "source": [
    "# MODEL 2\n",
    "model = Ridge(alpha=1)\n",
    "\n",
    "scores = cross_val_score(model, \n",
    "                         X_train, \n",
    "                         y_train, \n",
    "                         scoring='neg_mean_squared_error', \n",
    "                         cv=5)  # CV is number of FOLDS\n",
    "\n",
    "# positive mean squared error to use for comparison\n",
    "abs(scores.mean())"
   ]
  },
  {
   "cell_type": "code",
   "execution_count": 68,
   "id": "every-narrow",
   "metadata": {},
   "outputs": [
    {
     "data": {
      "text/plain": [
       "Ridge(alpha=1)"
      ]
     },
     "execution_count": 68,
     "metadata": {},
     "output_type": "execute_result"
    }
   ],
   "source": [
    "# if we are satisfied with our error:\n",
    "# now fit the model on all the data again\n",
    "\n",
    "model.fit(X_train, y_train)"
   ]
  },
  {
   "cell_type": "code",
   "execution_count": 69,
   "id": "composed-theology",
   "metadata": {},
   "outputs": [],
   "source": [
    "y_final = model.predict(X_test)"
   ]
  },
  {
   "cell_type": "code",
   "execution_count": 71,
   "id": "later-joint",
   "metadata": {},
   "outputs": [
    {
     "data": {
      "text/plain": [
       "2.3190215794287514"
      ]
     },
     "execution_count": 71,
     "metadata": {},
     "output_type": "execute_result"
    }
   ],
   "source": [
    "# ... and then this is the final prediction for reporting the model performance:\n",
    "mean_squared_error(y_test, y_final)"
   ]
  },
  {
   "cell_type": "markdown",
   "id": "alleged-logan",
   "metadata": {},
   "source": [
    "### Scikit-Learn \"cross_validate\" Method"
   ]
  },
  {
   "cell_type": "code",
   "execution_count": 72,
   "id": "criminal-departure",
   "metadata": {},
   "outputs": [],
   "source": [
    "# CREATE X AND y\n",
    "X = df.drop('sales', axis=1)\n",
    "y = df['sales']"
   ]
  },
  {
   "cell_type": "code",
   "execution_count": 73,
   "id": "yellow-reward",
   "metadata": {},
   "outputs": [],
   "source": [
    "# PERFORM TRAIN-TEST SPLIT\n",
    "X_train, X_test, y_train, y_test = train_test_split(X, y, test_size=0.3, random_state=101)"
   ]
  },
  {
   "cell_type": "code",
   "execution_count": 74,
   "id": "accessory-bolivia",
   "metadata": {},
   "outputs": [],
   "source": [
    "# SCALE X DATA\n",
    "scaler = StandardScaler()\n",
    "scaler.fit(X_train)\n",
    "X_train = scaler.transform(X_train)\n",
    "X_test = scaler.transform(X_test)"
   ]
  },
  {
   "cell_type": "code",
   "execution_count": 75,
   "id": "informative-milan",
   "metadata": {},
   "outputs": [],
   "source": [
    "from sklearn.model_selection import cross_validate"
   ]
  },
  {
   "cell_type": "code",
   "execution_count": 76,
   "id": "available-future",
   "metadata": {},
   "outputs": [],
   "source": [
    "model = Ridge(alpha=100)"
   ]
  },
  {
   "cell_type": "code",
   "execution_count": 77,
   "id": "cardiac-orange",
   "metadata": {},
   "outputs": [],
   "source": [
    "scores = cross_validate(model, \n",
    "                        X_train, \n",
    "                        y_train, \n",
    "                        scoring=['neg_mean_squared_error', 'neg_mean_absolute_error'],\n",
    "                        cv=10)"
   ]
  },
  {
   "cell_type": "code",
   "execution_count": 79,
   "id": "adult-black",
   "metadata": {},
   "outputs": [
    {
     "data": {
      "text/html": [
       "<div>\n",
       "<style scoped>\n",
       "    .dataframe tbody tr th:only-of-type {\n",
       "        vertical-align: middle;\n",
       "    }\n",
       "\n",
       "    .dataframe tbody tr th {\n",
       "        vertical-align: top;\n",
       "    }\n",
       "\n",
       "    .dataframe thead th {\n",
       "        text-align: right;\n",
       "    }\n",
       "</style>\n",
       "<table border=\"1\" class=\"dataframe\">\n",
       "  <thead>\n",
       "    <tr style=\"text-align: right;\">\n",
       "      <th></th>\n",
       "      <th>fit_time</th>\n",
       "      <th>score_time</th>\n",
       "      <th>test_neg_mean_squared_error</th>\n",
       "      <th>test_neg_mean_absolute_error</th>\n",
       "    </tr>\n",
       "  </thead>\n",
       "  <tbody>\n",
       "    <tr>\n",
       "      <th>0</th>\n",
       "      <td>0.002539</td>\n",
       "      <td>0.001338</td>\n",
       "      <td>-6.060671</td>\n",
       "      <td>-1.810212</td>\n",
       "    </tr>\n",
       "    <tr>\n",
       "      <th>1</th>\n",
       "      <td>0.001952</td>\n",
       "      <td>0.002429</td>\n",
       "      <td>-10.627031</td>\n",
       "      <td>-2.541958</td>\n",
       "    </tr>\n",
       "    <tr>\n",
       "      <th>2</th>\n",
       "      <td>0.001533</td>\n",
       "      <td>0.001005</td>\n",
       "      <td>-3.993426</td>\n",
       "      <td>-1.469594</td>\n",
       "    </tr>\n",
       "    <tr>\n",
       "      <th>3</th>\n",
       "      <td>0.001089</td>\n",
       "      <td>0.000906</td>\n",
       "      <td>-5.009494</td>\n",
       "      <td>-1.862769</td>\n",
       "    </tr>\n",
       "    <tr>\n",
       "      <th>4</th>\n",
       "      <td>0.000998</td>\n",
       "      <td>0.000362</td>\n",
       "      <td>-9.141800</td>\n",
       "      <td>-2.520697</td>\n",
       "    </tr>\n",
       "    <tr>\n",
       "      <th>5</th>\n",
       "      <td>0.000748</td>\n",
       "      <td>0.000998</td>\n",
       "      <td>-13.086256</td>\n",
       "      <td>-2.459995</td>\n",
       "    </tr>\n",
       "    <tr>\n",
       "      <th>6</th>\n",
       "      <td>0.002611</td>\n",
       "      <td>0.001928</td>\n",
       "      <td>-3.839405</td>\n",
       "      <td>-1.451971</td>\n",
       "    </tr>\n",
       "    <tr>\n",
       "      <th>7</th>\n",
       "      <td>0.001995</td>\n",
       "      <td>0.000532</td>\n",
       "      <td>-9.058786</td>\n",
       "      <td>-2.377395</td>\n",
       "    </tr>\n",
       "    <tr>\n",
       "      <th>8</th>\n",
       "      <td>0.001026</td>\n",
       "      <td>0.001222</td>\n",
       "      <td>-9.055457</td>\n",
       "      <td>-2.443344</td>\n",
       "    </tr>\n",
       "    <tr>\n",
       "      <th>9</th>\n",
       "      <td>0.000999</td>\n",
       "      <td>0.001090</td>\n",
       "      <td>-5.778882</td>\n",
       "      <td>-1.899797</td>\n",
       "    </tr>\n",
       "  </tbody>\n",
       "</table>\n",
       "</div>"
      ],
      "text/plain": [
       "   fit_time  score_time  test_neg_mean_squared_error  \\\n",
       "0  0.002539    0.001338                    -6.060671   \n",
       "1  0.001952    0.002429                   -10.627031   \n",
       "2  0.001533    0.001005                    -3.993426   \n",
       "3  0.001089    0.000906                    -5.009494   \n",
       "4  0.000998    0.000362                    -9.141800   \n",
       "5  0.000748    0.000998                   -13.086256   \n",
       "6  0.002611    0.001928                    -3.839405   \n",
       "7  0.001995    0.000532                    -9.058786   \n",
       "8  0.001026    0.001222                    -9.055457   \n",
       "9  0.000999    0.001090                    -5.778882   \n",
       "\n",
       "   test_neg_mean_absolute_error  \n",
       "0                     -1.810212  \n",
       "1                     -2.541958  \n",
       "2                     -1.469594  \n",
       "3                     -1.862769  \n",
       "4                     -2.520697  \n",
       "5                     -2.459995  \n",
       "6                     -1.451971  \n",
       "7                     -2.377395  \n",
       "8                     -2.443344  \n",
       "9                     -1.899797  "
      ]
     },
     "execution_count": 79,
     "metadata": {},
     "output_type": "execute_result"
    }
   ],
   "source": [
    "scores = pd.DataFrame(scores)\n",
    "scores"
   ]
  },
  {
   "cell_type": "code",
   "execution_count": 80,
   "id": "bright-summer",
   "metadata": {},
   "outputs": [
    {
     "data": {
      "text/plain": [
       "fit_time                        0.001549\n",
       "score_time                      0.001181\n",
       "test_neg_mean_squared_error    -7.565121\n",
       "test_neg_mean_absolute_error   -2.083773\n",
       "dtype: float64"
      ]
     },
     "execution_count": 80,
     "metadata": {},
     "output_type": "execute_result"
    }
   ],
   "source": [
    "scores.mean()"
   ]
  },
  {
   "cell_type": "code",
   "execution_count": 81,
   "id": "european-semiconductor",
   "metadata": {},
   "outputs": [],
   "source": [
    "model = Ridge(alpha=1)"
   ]
  },
  {
   "cell_type": "code",
   "execution_count": 82,
   "id": "another-auckland",
   "metadata": {},
   "outputs": [
    {
     "data": {
      "text/plain": [
       "fit_time                        0.001838\n",
       "score_time                      0.001274\n",
       "test_neg_mean_squared_error    -3.323018\n",
       "test_neg_mean_absolute_error   -1.308467\n",
       "dtype: float64"
      ]
     },
     "execution_count": 82,
     "metadata": {},
     "output_type": "execute_result"
    }
   ],
   "source": [
    "scores = cross_validate(model, \n",
    "                        X_train, \n",
    "                        y_train, \n",
    "                        scoring=['neg_mean_squared_error', 'neg_mean_absolute_error'],\n",
    "                        cv=10)\n",
    "\n",
    "scores = pd.DataFrame(scores)\n",
    "scores.mean()"
   ]
  },
  {
   "cell_type": "code",
   "execution_count": 83,
   "id": "confirmed-fault",
   "metadata": {},
   "outputs": [
    {
     "data": {
      "text/plain": [
       "2.3190215794287514"
      ]
     },
     "execution_count": 83,
     "metadata": {},
     "output_type": "execute_result"
    }
   ],
   "source": [
    "model.fit(X_train, y_train)\n",
    "y_final = model.predict(X_test)\n",
    "mean_squared_error(y_final, y_test)"
   ]
  },
  {
   "cell_type": "markdown",
   "id": "painted-script",
   "metadata": {},
   "source": [
    "### Grid Search"
   ]
  },
  {
   "cell_type": "code",
   "execution_count": 85,
   "id": "received-findings",
   "metadata": {},
   "outputs": [],
   "source": [
    "# CREATE X AND y\n",
    "X = df.drop('sales', axis=1)\n",
    "y = df['sales']\n",
    "\n",
    "# PERFORM TRAIN-TEST SPLIT\n",
    "X_train, X_test, y_train, y_test = train_test_split(X, y, test_size=0.3, random_state=101)\n",
    "\n",
    "# SCALE X DATA\n",
    "scaler = StandardScaler()\n",
    "scaler.fit(X_train)\n",
    "X_train = scaler.transform(X_train)\n",
    "X_test = scaler.transform(X_test)"
   ]
  },
  {
   "cell_type": "code",
   "execution_count": 86,
   "id": "forward-office",
   "metadata": {},
   "outputs": [],
   "source": [
    "from sklearn.linear_model import ElasticNet"
   ]
  },
  {
   "cell_type": "code",
   "execution_count": 87,
   "id": "elementary-examination",
   "metadata": {},
   "outputs": [],
   "source": [
    "base_elastic_net_model = ElasticNet()"
   ]
  },
  {
   "cell_type": "code",
   "execution_count": 88,
   "id": "faced-basement",
   "metadata": {},
   "outputs": [],
   "source": [
    "# optimizing multiple hyperparameters\n",
    "parameter_grid = {'alpha': [0.1, 1.0, 10.0, 50.0, 100.0],\n",
    "                  'l1_ratio': [0.1, 0.5, 0.7, 0.95, 0.99, 1.0]}"
   ]
  },
  {
   "cell_type": "code",
   "execution_count": 89,
   "id": "separated-wesley",
   "metadata": {},
   "outputs": [],
   "source": [
    "from sklearn.model_selection import GridSearchCV"
   ]
  },
  {
   "cell_type": "code",
   "execution_count": 90,
   "id": "defensive-windsor",
   "metadata": {},
   "outputs": [],
   "source": [
    "grid_model = GridSearchCV(estimator=base_elastic_net_model,\n",
    "                          param_grid=parameter_grid,\n",
    "                          scoring='neg_mean_squared_error',\n",
    "                          cv=5,\n",
    "                          verbose=2)"
   ]
  },
  {
   "cell_type": "code",
   "execution_count": 91,
   "id": "fuzzy-garbage",
   "metadata": {},
   "outputs": [
    {
     "name": "stdout",
     "output_type": "stream",
     "text": [
      "Fitting 5 folds for each of 30 candidates, totalling 150 fits\n",
      "[CV] END ............................alpha=0.1, l1_ratio=0.1; total time=   0.0s\n",
      "[CV] END ............................alpha=0.1, l1_ratio=0.1; total time=   0.0s\n",
      "[CV] END ............................alpha=0.1, l1_ratio=0.1; total time=   0.0s\n",
      "[CV] END ............................alpha=0.1, l1_ratio=0.1; total time=   0.0s\n",
      "[CV] END ............................alpha=0.1, l1_ratio=0.1; total time=   0.0s\n",
      "[CV] END ............................alpha=0.1, l1_ratio=0.5; total time=   0.0s\n",
      "[CV] END ............................alpha=0.1, l1_ratio=0.5; total time=   0.0s\n",
      "[CV] END ............................alpha=0.1, l1_ratio=0.5; total time=   0.0s\n",
      "[CV] END ............................alpha=0.1, l1_ratio=0.5; total time=   0.0s\n",
      "[CV] END ............................alpha=0.1, l1_ratio=0.5; total time=   0.0s\n",
      "[CV] END ............................alpha=0.1, l1_ratio=0.7; total time=   0.0s\n",
      "[CV] END ............................alpha=0.1, l1_ratio=0.7; total time=   0.0s\n",
      "[CV] END ............................alpha=0.1, l1_ratio=0.7; total time=   0.0s\n",
      "[CV] END ............................alpha=0.1, l1_ratio=0.7; total time=   0.0s\n",
      "[CV] END ............................alpha=0.1, l1_ratio=0.7; total time=   0.0s\n",
      "[CV] END ...........................alpha=0.1, l1_ratio=0.95; total time=   0.0s\n",
      "[CV] END ...........................alpha=0.1, l1_ratio=0.95; total time=   0.0s\n",
      "[CV] END ...........................alpha=0.1, l1_ratio=0.95; total time=   0.0s\n",
      "[CV] END ...........................alpha=0.1, l1_ratio=0.95; total time=   0.0s\n",
      "[CV] END ...........................alpha=0.1, l1_ratio=0.95; total time=   0.0s\n",
      "[CV] END ...........................alpha=0.1, l1_ratio=0.99; total time=   0.0s\n",
      "[CV] END ...........................alpha=0.1, l1_ratio=0.99; total time=   0.0s\n",
      "[CV] END ...........................alpha=0.1, l1_ratio=0.99; total time=   0.0s\n",
      "[CV] END ...........................alpha=0.1, l1_ratio=0.99; total time=   0.0s\n",
      "[CV] END ...........................alpha=0.1, l1_ratio=0.99; total time=   0.0s\n",
      "[CV] END ............................alpha=0.1, l1_ratio=1.0; total time=   0.0s\n",
      "[CV] END ............................alpha=0.1, l1_ratio=1.0; total time=   0.0s\n",
      "[CV] END ............................alpha=0.1, l1_ratio=1.0; total time=   0.0s\n",
      "[CV] END ............................alpha=0.1, l1_ratio=1.0; total time=   0.0s\n",
      "[CV] END ............................alpha=0.1, l1_ratio=1.0; total time=   0.0s\n",
      "[CV] END ............................alpha=1.0, l1_ratio=0.1; total time=   0.0s\n",
      "[CV] END ............................alpha=1.0, l1_ratio=0.1; total time=   0.0s\n",
      "[CV] END ............................alpha=1.0, l1_ratio=0.1; total time=   0.0s\n",
      "[CV] END ............................alpha=1.0, l1_ratio=0.1; total time=   0.0s\n",
      "[CV] END ............................alpha=1.0, l1_ratio=0.1; total time=   0.0s\n",
      "[CV] END ............................alpha=1.0, l1_ratio=0.5; total time=   0.0s\n",
      "[CV] END ............................alpha=1.0, l1_ratio=0.5; total time=   0.0s\n",
      "[CV] END ............................alpha=1.0, l1_ratio=0.5; total time=   0.0s\n",
      "[CV] END ............................alpha=1.0, l1_ratio=0.5; total time=   0.0s\n",
      "[CV] END ............................alpha=1.0, l1_ratio=0.5; total time=   0.0s\n",
      "[CV] END ............................alpha=1.0, l1_ratio=0.7; total time=   0.0s\n",
      "[CV] END ............................alpha=1.0, l1_ratio=0.7; total time=   0.0s\n",
      "[CV] END ............................alpha=1.0, l1_ratio=0.7; total time=   0.0s\n",
      "[CV] END ............................alpha=1.0, l1_ratio=0.7; total time=   0.0s\n",
      "[CV] END ............................alpha=1.0, l1_ratio=0.7; total time=   0.0s\n",
      "[CV] END ...........................alpha=1.0, l1_ratio=0.95; total time=   0.0s\n",
      "[CV] END ...........................alpha=1.0, l1_ratio=0.95; total time=   0.0s\n",
      "[CV] END ...........................alpha=1.0, l1_ratio=0.95; total time=   0.0s\n",
      "[CV] END ...........................alpha=1.0, l1_ratio=0.95; total time=   0.0s\n",
      "[CV] END ...........................alpha=1.0, l1_ratio=0.95; total time=   0.0s\n",
      "[CV] END ...........................alpha=1.0, l1_ratio=0.99; total time=   0.0s\n",
      "[CV] END ...........................alpha=1.0, l1_ratio=0.99; total time=   0.0s\n",
      "[CV] END ...........................alpha=1.0, l1_ratio=0.99; total time=   0.0s\n",
      "[CV] END ...........................alpha=1.0, l1_ratio=0.99; total time=   0.0s\n",
      "[CV] END ...........................alpha=1.0, l1_ratio=0.99; total time=   0.0s\n",
      "[CV] END ............................alpha=1.0, l1_ratio=1.0; total time=   0.0s\n",
      "[CV] END ............................alpha=1.0, l1_ratio=1.0; total time=   0.0s\n",
      "[CV] END ............................alpha=1.0, l1_ratio=1.0; total time=   0.0s\n",
      "[CV] END ............................alpha=1.0, l1_ratio=1.0; total time=   0.0s\n",
      "[CV] END ............................alpha=1.0, l1_ratio=1.0; total time=   0.0s\n",
      "[CV] END ...........................alpha=10.0, l1_ratio=0.1; total time=   0.0s\n",
      "[CV] END ...........................alpha=10.0, l1_ratio=0.1; total time=   0.0s\n",
      "[CV] END ...........................alpha=10.0, l1_ratio=0.1; total time=   0.0s\n",
      "[CV] END ...........................alpha=10.0, l1_ratio=0.1; total time=   0.0s\n",
      "[CV] END ...........................alpha=10.0, l1_ratio=0.1; total time=   0.0s\n",
      "[CV] END ...........................alpha=10.0, l1_ratio=0.5; total time=   0.0s\n",
      "[CV] END ...........................alpha=10.0, l1_ratio=0.5; total time=   0.0s\n",
      "[CV] END ...........................alpha=10.0, l1_ratio=0.5; total time=   0.0s\n",
      "[CV] END ...........................alpha=10.0, l1_ratio=0.5; total time=   0.0s\n",
      "[CV] END ...........................alpha=10.0, l1_ratio=0.5; total time=   0.0s\n",
      "[CV] END ...........................alpha=10.0, l1_ratio=0.7; total time=   0.0s\n",
      "[CV] END ...........................alpha=10.0, l1_ratio=0.7; total time=   0.0s\n",
      "[CV] END ...........................alpha=10.0, l1_ratio=0.7; total time=   0.0s\n",
      "[CV] END ...........................alpha=10.0, l1_ratio=0.7; total time=   0.0s\n",
      "[CV] END ...........................alpha=10.0, l1_ratio=0.7; total time=   0.0s\n",
      "[CV] END ..........................alpha=10.0, l1_ratio=0.95; total time=   0.0s\n",
      "[CV] END ..........................alpha=10.0, l1_ratio=0.95; total time=   0.0s\n",
      "[CV] END ..........................alpha=10.0, l1_ratio=0.95; total time=   0.0s\n",
      "[CV] END ..........................alpha=10.0, l1_ratio=0.95; total time=   0.0s\n",
      "[CV] END ..........................alpha=10.0, l1_ratio=0.95; total time=   0.0s\n",
      "[CV] END ..........................alpha=10.0, l1_ratio=0.99; total time=   0.0s\n",
      "[CV] END ..........................alpha=10.0, l1_ratio=0.99; total time=   0.0s\n",
      "[CV] END ..........................alpha=10.0, l1_ratio=0.99; total time=   0.0s\n",
      "[CV] END ..........................alpha=10.0, l1_ratio=0.99; total time=   0.0s\n",
      "[CV] END ..........................alpha=10.0, l1_ratio=0.99; total time=   0.0s\n",
      "[CV] END ...........................alpha=10.0, l1_ratio=1.0; total time=   0.0s\n",
      "[CV] END ...........................alpha=10.0, l1_ratio=1.0; total time=   0.0s\n",
      "[CV] END ...........................alpha=10.0, l1_ratio=1.0; total time=   0.0s\n",
      "[CV] END ...........................alpha=10.0, l1_ratio=1.0; total time=   0.0s\n",
      "[CV] END ...........................alpha=10.0, l1_ratio=1.0; total time=   0.0s\n",
      "[CV] END ...........................alpha=50.0, l1_ratio=0.1; total time=   0.0s\n",
      "[CV] END ...........................alpha=50.0, l1_ratio=0.1; total time=   0.0s\n",
      "[CV] END ...........................alpha=50.0, l1_ratio=0.1; total time=   0.0s\n",
      "[CV] END ...........................alpha=50.0, l1_ratio=0.1; total time=   0.0s\n",
      "[CV] END ...........................alpha=50.0, l1_ratio=0.1; total time=   0.0s\n",
      "[CV] END ...........................alpha=50.0, l1_ratio=0.5; total time=   0.0s\n",
      "[CV] END ...........................alpha=50.0, l1_ratio=0.5; total time=   0.0s\n",
      "[CV] END ...........................alpha=50.0, l1_ratio=0.5; total time=   0.0s\n",
      "[CV] END ...........................alpha=50.0, l1_ratio=0.5; total time=   0.0s\n",
      "[CV] END ...........................alpha=50.0, l1_ratio=0.5; total time=   0.0s\n",
      "[CV] END ...........................alpha=50.0, l1_ratio=0.7; total time=   0.0s\n",
      "[CV] END ...........................alpha=50.0, l1_ratio=0.7; total time=   0.0s\n",
      "[CV] END ...........................alpha=50.0, l1_ratio=0.7; total time=   0.0s\n",
      "[CV] END ...........................alpha=50.0, l1_ratio=0.7; total time=   0.0s\n",
      "[CV] END ...........................alpha=50.0, l1_ratio=0.7; total time=   0.0s\n",
      "[CV] END ..........................alpha=50.0, l1_ratio=0.95; total time=   0.0s\n",
      "[CV] END ..........................alpha=50.0, l1_ratio=0.95; total time=   0.0s\n",
      "[CV] END ..........................alpha=50.0, l1_ratio=0.95; total time=   0.0s\n",
      "[CV] END ..........................alpha=50.0, l1_ratio=0.95; total time=   0.0s\n",
      "[CV] END ..........................alpha=50.0, l1_ratio=0.95; total time=   0.0s\n",
      "[CV] END ..........................alpha=50.0, l1_ratio=0.99; total time=   0.0s\n",
      "[CV] END ..........................alpha=50.0, l1_ratio=0.99; total time=   0.0s\n",
      "[CV] END ..........................alpha=50.0, l1_ratio=0.99; total time=   0.0s\n",
      "[CV] END ..........................alpha=50.0, l1_ratio=0.99; total time=   0.0s\n",
      "[CV] END ..........................alpha=50.0, l1_ratio=0.99; total time=   0.0s\n",
      "[CV] END ...........................alpha=50.0, l1_ratio=1.0; total time=   0.0s\n",
      "[CV] END ...........................alpha=50.0, l1_ratio=1.0; total time=   0.0s\n",
      "[CV] END ...........................alpha=50.0, l1_ratio=1.0; total time=   0.0s\n",
      "[CV] END ...........................alpha=50.0, l1_ratio=1.0; total time=   0.0s\n",
      "[CV] END ...........................alpha=50.0, l1_ratio=1.0; total time=   0.0s\n",
      "[CV] END ..........................alpha=100.0, l1_ratio=0.1; total time=   0.0s\n",
      "[CV] END ..........................alpha=100.0, l1_ratio=0.1; total time=   0.0s\n",
      "[CV] END ..........................alpha=100.0, l1_ratio=0.1; total time=   0.0s\n",
      "[CV] END ..........................alpha=100.0, l1_ratio=0.1; total time=   0.0s\n",
      "[CV] END ..........................alpha=100.0, l1_ratio=0.1; total time=   0.0s\n"
     ]
    },
    {
     "name": "stdout",
     "output_type": "stream",
     "text": [
      "[CV] END ..........................alpha=100.0, l1_ratio=0.5; total time=   0.0s\n",
      "[CV] END ..........................alpha=100.0, l1_ratio=0.5; total time=   0.0s\n",
      "[CV] END ..........................alpha=100.0, l1_ratio=0.5; total time=   0.0s\n",
      "[CV] END ..........................alpha=100.0, l1_ratio=0.5; total time=   0.0s\n",
      "[CV] END ..........................alpha=100.0, l1_ratio=0.5; total time=   0.0s\n",
      "[CV] END ..........................alpha=100.0, l1_ratio=0.7; total time=   0.0s\n",
      "[CV] END ..........................alpha=100.0, l1_ratio=0.7; total time=   0.0s\n",
      "[CV] END ..........................alpha=100.0, l1_ratio=0.7; total time=   0.0s\n",
      "[CV] END ..........................alpha=100.0, l1_ratio=0.7; total time=   0.0s\n",
      "[CV] END ..........................alpha=100.0, l1_ratio=0.7; total time=   0.0s\n",
      "[CV] END .........................alpha=100.0, l1_ratio=0.95; total time=   0.0s\n",
      "[CV] END .........................alpha=100.0, l1_ratio=0.95; total time=   0.0s\n",
      "[CV] END .........................alpha=100.0, l1_ratio=0.95; total time=   0.0s\n",
      "[CV] END .........................alpha=100.0, l1_ratio=0.95; total time=   0.0s\n",
      "[CV] END .........................alpha=100.0, l1_ratio=0.95; total time=   0.0s\n",
      "[CV] END .........................alpha=100.0, l1_ratio=0.99; total time=   0.0s\n",
      "[CV] END .........................alpha=100.0, l1_ratio=0.99; total time=   0.0s\n",
      "[CV] END .........................alpha=100.0, l1_ratio=0.99; total time=   0.0s\n",
      "[CV] END .........................alpha=100.0, l1_ratio=0.99; total time=   0.0s\n",
      "[CV] END .........................alpha=100.0, l1_ratio=0.99; total time=   0.0s\n",
      "[CV] END ..........................alpha=100.0, l1_ratio=1.0; total time=   0.0s\n",
      "[CV] END ..........................alpha=100.0, l1_ratio=1.0; total time=   0.0s\n",
      "[CV] END ..........................alpha=100.0, l1_ratio=1.0; total time=   0.0s\n",
      "[CV] END ..........................alpha=100.0, l1_ratio=1.0; total time=   0.0s\n",
      "[CV] END ..........................alpha=100.0, l1_ratio=1.0; total time=   0.0s\n"
     ]
    },
    {
     "data": {
      "text/plain": [
       "GridSearchCV(cv=5, estimator=ElasticNet(),\n",
       "             param_grid={'alpha': [0.1, 1.0, 10.0, 50.0, 100.0],\n",
       "                         'l1_ratio': [0.1, 0.5, 0.7, 0.95, 0.99, 1.0]},\n",
       "             scoring='neg_mean_squared_error', verbose=2)"
      ]
     },
     "execution_count": 91,
     "metadata": {},
     "output_type": "execute_result"
    }
   ],
   "source": [
    "grid_model.fit(X_train, y_train)"
   ]
  },
  {
   "cell_type": "code",
   "execution_count": 92,
   "id": "connected-envelope",
   "metadata": {},
   "outputs": [
    {
     "data": {
      "text/plain": [
       "ElasticNet(alpha=0.1, l1_ratio=1.0)"
      ]
     },
     "execution_count": 92,
     "metadata": {},
     "output_type": "execute_result"
    }
   ],
   "source": [
    "grid_model.best_estimator_"
   ]
  },
  {
   "cell_type": "code",
   "execution_count": 93,
   "id": "confidential-battle",
   "metadata": {},
   "outputs": [
    {
     "data": {
      "text/plain": [
       "{'alpha': 0.1, 'l1_ratio': 1.0}"
      ]
     },
     "execution_count": 93,
     "metadata": {},
     "output_type": "execute_result"
    }
   ],
   "source": [
    "grid_model.best_params_"
   ]
  },
  {
   "cell_type": "code",
   "execution_count": 95,
   "id": "organic-implement",
   "metadata": {},
   "outputs": [
    {
     "data": {
      "text/html": [
       "<div>\n",
       "<style scoped>\n",
       "    .dataframe tbody tr th:only-of-type {\n",
       "        vertical-align: middle;\n",
       "    }\n",
       "\n",
       "    .dataframe tbody tr th {\n",
       "        vertical-align: top;\n",
       "    }\n",
       "\n",
       "    .dataframe thead th {\n",
       "        text-align: right;\n",
       "    }\n",
       "</style>\n",
       "<table border=\"1\" class=\"dataframe\">\n",
       "  <thead>\n",
       "    <tr style=\"text-align: right;\">\n",
       "      <th></th>\n",
       "      <th>mean_fit_time</th>\n",
       "      <th>std_fit_time</th>\n",
       "      <th>mean_score_time</th>\n",
       "      <th>std_score_time</th>\n",
       "      <th>param_alpha</th>\n",
       "      <th>param_l1_ratio</th>\n",
       "      <th>params</th>\n",
       "      <th>split0_test_score</th>\n",
       "      <th>split1_test_score</th>\n",
       "      <th>split2_test_score</th>\n",
       "      <th>split3_test_score</th>\n",
       "      <th>split4_test_score</th>\n",
       "      <th>mean_test_score</th>\n",
       "      <th>std_test_score</th>\n",
       "      <th>rank_test_score</th>\n",
       "    </tr>\n",
       "  </thead>\n",
       "  <tbody>\n",
       "    <tr>\n",
       "      <th>0</th>\n",
       "      <td>0.014106</td>\n",
       "      <td>0.023715</td>\n",
       "      <td>0.000797</td>\n",
       "      <td>0.000746</td>\n",
       "      <td>0.1</td>\n",
       "      <td>0.1</td>\n",
       "      <td>{'alpha': 0.1, 'l1_ratio': 0.1}</td>\n",
       "      <td>-3.453021</td>\n",
       "      <td>-1.405190</td>\n",
       "      <td>-5.789125</td>\n",
       "      <td>-2.187302</td>\n",
       "      <td>-4.645576</td>\n",
       "      <td>-3.496043</td>\n",
       "      <td>1.591601</td>\n",
       "      <td>6</td>\n",
       "    </tr>\n",
       "    <tr>\n",
       "      <th>1</th>\n",
       "      <td>0.002739</td>\n",
       "      <td>0.000461</td>\n",
       "      <td>0.000809</td>\n",
       "      <td>0.000405</td>\n",
       "      <td>0.1</td>\n",
       "      <td>0.5</td>\n",
       "      <td>{'alpha': 0.1, 'l1_ratio': 0.5}</td>\n",
       "      <td>-3.325440</td>\n",
       "      <td>-1.427522</td>\n",
       "      <td>-5.595610</td>\n",
       "      <td>-2.163089</td>\n",
       "      <td>-4.451679</td>\n",
       "      <td>-3.392668</td>\n",
       "      <td>1.506827</td>\n",
       "      <td>5</td>\n",
       "    </tr>\n",
       "    <tr>\n",
       "      <th>2</th>\n",
       "      <td>0.002322</td>\n",
       "      <td>0.000631</td>\n",
       "      <td>0.001097</td>\n",
       "      <td>0.000148</td>\n",
       "      <td>0.1</td>\n",
       "      <td>0.7</td>\n",
       "      <td>{'alpha': 0.1, 'l1_ratio': 0.7}</td>\n",
       "      <td>-3.269880</td>\n",
       "      <td>-1.442432</td>\n",
       "      <td>-5.502437</td>\n",
       "      <td>-2.163950</td>\n",
       "      <td>-4.356738</td>\n",
       "      <td>-3.347088</td>\n",
       "      <td>1.462765</td>\n",
       "      <td>4</td>\n",
       "    </tr>\n",
       "    <tr>\n",
       "      <th>3</th>\n",
       "      <td>0.003210</td>\n",
       "      <td>0.001246</td>\n",
       "      <td>0.000799</td>\n",
       "      <td>0.000399</td>\n",
       "      <td>0.1</td>\n",
       "      <td>0.95</td>\n",
       "      <td>{'alpha': 0.1, 'l1_ratio': 0.95}</td>\n",
       "      <td>-3.213052</td>\n",
       "      <td>-1.472417</td>\n",
       "      <td>-5.396258</td>\n",
       "      <td>-2.177452</td>\n",
       "      <td>-4.241080</td>\n",
       "      <td>-3.300052</td>\n",
       "      <td>1.406248</td>\n",
       "      <td>3</td>\n",
       "    </tr>\n",
       "    <tr>\n",
       "      <th>4</th>\n",
       "      <td>0.002032</td>\n",
       "      <td>0.000154</td>\n",
       "      <td>0.000890</td>\n",
       "      <td>0.000118</td>\n",
       "      <td>0.1</td>\n",
       "      <td>0.99</td>\n",
       "      <td>{'alpha': 0.1, 'l1_ratio': 0.99}</td>\n",
       "      <td>-3.208124</td>\n",
       "      <td>-1.478489</td>\n",
       "      <td>-5.380242</td>\n",
       "      <td>-2.181097</td>\n",
       "      <td>-4.222968</td>\n",
       "      <td>-3.294184</td>\n",
       "      <td>1.396953</td>\n",
       "      <td>2</td>\n",
       "    </tr>\n",
       "    <tr>\n",
       "      <th>5</th>\n",
       "      <td>0.003919</td>\n",
       "      <td>0.002088</td>\n",
       "      <td>0.000802</td>\n",
       "      <td>0.000748</td>\n",
       "      <td>0.1</td>\n",
       "      <td>1.0</td>\n",
       "      <td>{'alpha': 0.1, 'l1_ratio': 1.0}</td>\n",
       "      <td>-3.206943</td>\n",
       "      <td>-1.480065</td>\n",
       "      <td>-5.376257</td>\n",
       "      <td>-2.182076</td>\n",
       "      <td>-4.218460</td>\n",
       "      <td>-3.292760</td>\n",
       "      <td>1.394613</td>\n",
       "      <td>1</td>\n",
       "    </tr>\n",
       "    <tr>\n",
       "      <th>6</th>\n",
       "      <td>0.005541</td>\n",
       "      <td>0.001415</td>\n",
       "      <td>0.002176</td>\n",
       "      <td>0.000897</td>\n",
       "      <td>1.0</td>\n",
       "      <td>0.1</td>\n",
       "      <td>{'alpha': 1.0, 'l1_ratio': 0.1}</td>\n",
       "      <td>-9.827475</td>\n",
       "      <td>-5.261525</td>\n",
       "      <td>-11.875347</td>\n",
       "      <td>-7.449195</td>\n",
       "      <td>-8.542329</td>\n",
       "      <td>-8.591174</td>\n",
       "      <td>2.222939</td>\n",
       "      <td>12</td>\n",
       "    </tr>\n",
       "    <tr>\n",
       "      <th>7</th>\n",
       "      <td>0.004515</td>\n",
       "      <td>0.000653</td>\n",
       "      <td>0.001677</td>\n",
       "      <td>0.000426</td>\n",
       "      <td>1.0</td>\n",
       "      <td>0.5</td>\n",
       "      <td>{'alpha': 1.0, 'l1_ratio': 0.5}</td>\n",
       "      <td>-8.707071</td>\n",
       "      <td>-4.214228</td>\n",
       "      <td>-10.879261</td>\n",
       "      <td>-6.204545</td>\n",
       "      <td>-7.173031</td>\n",
       "      <td>-7.435627</td>\n",
       "      <td>2.255532</td>\n",
       "      <td>11</td>\n",
       "    </tr>\n",
       "    <tr>\n",
       "      <th>8</th>\n",
       "      <td>0.004642</td>\n",
       "      <td>0.000499</td>\n",
       "      <td>0.001517</td>\n",
       "      <td>0.000605</td>\n",
       "      <td>1.0</td>\n",
       "      <td>0.7</td>\n",
       "      <td>{'alpha': 1.0, 'l1_ratio': 0.7}</td>\n",
       "      <td>-7.920870</td>\n",
       "      <td>-3.549562</td>\n",
       "      <td>-10.024877</td>\n",
       "      <td>-5.379553</td>\n",
       "      <td>-6.324836</td>\n",
       "      <td>-6.639940</td>\n",
       "      <td>2.206213</td>\n",
       "      <td>10</td>\n",
       "    </tr>\n",
       "    <tr>\n",
       "      <th>9</th>\n",
       "      <td>0.005076</td>\n",
       "      <td>0.000706</td>\n",
       "      <td>0.001693</td>\n",
       "      <td>0.000484</td>\n",
       "      <td>1.0</td>\n",
       "      <td>0.95</td>\n",
       "      <td>{'alpha': 1.0, 'l1_ratio': 0.95}</td>\n",
       "      <td>-6.729435</td>\n",
       "      <td>-2.591285</td>\n",
       "      <td>-8.709842</td>\n",
       "      <td>-4.156317</td>\n",
       "      <td>-5.329916</td>\n",
       "      <td>-5.503359</td>\n",
       "      <td>2.102835</td>\n",
       "      <td>9</td>\n",
       "    </tr>\n",
       "    <tr>\n",
       "      <th>10</th>\n",
       "      <td>0.004442</td>\n",
       "      <td>0.001063</td>\n",
       "      <td>0.001461</td>\n",
       "      <td>0.000423</td>\n",
       "      <td>1.0</td>\n",
       "      <td>0.99</td>\n",
       "      <td>{'alpha': 1.0, 'l1_ratio': 0.99}</td>\n",
       "      <td>-6.521344</td>\n",
       "      <td>-2.431385</td>\n",
       "      <td>-8.471086</td>\n",
       "      <td>-3.946327</td>\n",
       "      <td>-5.151344</td>\n",
       "      <td>-5.304297</td>\n",
       "      <td>2.079945</td>\n",
       "      <td>8</td>\n",
       "    </tr>\n",
       "    <tr>\n",
       "      <th>11</th>\n",
       "      <td>0.004329</td>\n",
       "      <td>0.000345</td>\n",
       "      <td>0.002739</td>\n",
       "      <td>0.001410</td>\n",
       "      <td>1.0</td>\n",
       "      <td>1.0</td>\n",
       "      <td>{'alpha': 1.0, 'l1_ratio': 1.0}</td>\n",
       "      <td>-6.468807</td>\n",
       "      <td>-2.391483</td>\n",
       "      <td>-8.410171</td>\n",
       "      <td>-3.893566</td>\n",
       "      <td>-5.105922</td>\n",
       "      <td>-5.253990</td>\n",
       "      <td>2.073832</td>\n",
       "      <td>7</td>\n",
       "    </tr>\n",
       "    <tr>\n",
       "      <th>12</th>\n",
       "      <td>0.005455</td>\n",
       "      <td>0.000854</td>\n",
       "      <td>0.001900</td>\n",
       "      <td>0.000614</td>\n",
       "      <td>10.0</td>\n",
       "      <td>0.1</td>\n",
       "      <td>{'alpha': 10.0, 'l1_ratio': 0.1}</td>\n",
       "      <td>-27.385346</td>\n",
       "      <td>-19.159534</td>\n",
       "      <td>-27.635464</td>\n",
       "      <td>-24.154104</td>\n",
       "      <td>-18.968161</td>\n",
       "      <td>-23.460522</td>\n",
       "      <td>3.794608</td>\n",
       "      <td>13</td>\n",
       "    </tr>\n",
       "    <tr>\n",
       "      <th>13</th>\n",
       "      <td>0.004696</td>\n",
       "      <td>0.001152</td>\n",
       "      <td>0.002071</td>\n",
       "      <td>0.000374</td>\n",
       "      <td>10.0</td>\n",
       "      <td>0.5</td>\n",
       "      <td>{'alpha': 10.0, 'l1_ratio': 0.5}</td>\n",
       "      <td>-31.130307</td>\n",
       "      <td>-22.549433</td>\n",
       "      <td>-31.155204</td>\n",
       "      <td>-27.963447</td>\n",
       "      <td>-21.698192</td>\n",
       "      <td>-26.899317</td>\n",
       "      <td>4.077240</td>\n",
       "      <td>14</td>\n",
       "    </tr>\n",
       "    <tr>\n",
       "      <th>14</th>\n",
       "      <td>0.004944</td>\n",
       "      <td>0.001876</td>\n",
       "      <td>0.001219</td>\n",
       "      <td>0.000733</td>\n",
       "      <td>10.0</td>\n",
       "      <td>0.7</td>\n",
       "      <td>{'alpha': 10.0, 'l1_ratio': 0.7}</td>\n",
       "      <td>-31.130307</td>\n",
       "      <td>-22.549433</td>\n",
       "      <td>-31.155204</td>\n",
       "      <td>-27.963447</td>\n",
       "      <td>-21.698192</td>\n",
       "      <td>-26.899317</td>\n",
       "      <td>4.077240</td>\n",
       "      <td>14</td>\n",
       "    </tr>\n",
       "    <tr>\n",
       "      <th>15</th>\n",
       "      <td>0.004836</td>\n",
       "      <td>0.000879</td>\n",
       "      <td>0.001696</td>\n",
       "      <td>0.000569</td>\n",
       "      <td>10.0</td>\n",
       "      <td>0.95</td>\n",
       "      <td>{'alpha': 10.0, 'l1_ratio': 0.95}</td>\n",
       "      <td>-31.130307</td>\n",
       "      <td>-22.549433</td>\n",
       "      <td>-31.155204</td>\n",
       "      <td>-27.963447</td>\n",
       "      <td>-21.698192</td>\n",
       "      <td>-26.899317</td>\n",
       "      <td>4.077240</td>\n",
       "      <td>14</td>\n",
       "    </tr>\n",
       "    <tr>\n",
       "      <th>16</th>\n",
       "      <td>0.006496</td>\n",
       "      <td>0.000676</td>\n",
       "      <td>0.001901</td>\n",
       "      <td>0.000733</td>\n",
       "      <td>10.0</td>\n",
       "      <td>0.99</td>\n",
       "      <td>{'alpha': 10.0, 'l1_ratio': 0.99}</td>\n",
       "      <td>-31.130307</td>\n",
       "      <td>-22.549433</td>\n",
       "      <td>-31.155204</td>\n",
       "      <td>-27.963447</td>\n",
       "      <td>-21.698192</td>\n",
       "      <td>-26.899317</td>\n",
       "      <td>4.077240</td>\n",
       "      <td>14</td>\n",
       "    </tr>\n",
       "    <tr>\n",
       "      <th>17</th>\n",
       "      <td>0.005028</td>\n",
       "      <td>0.001168</td>\n",
       "      <td>0.001732</td>\n",
       "      <td>0.000790</td>\n",
       "      <td>10.0</td>\n",
       "      <td>1.0</td>\n",
       "      <td>{'alpha': 10.0, 'l1_ratio': 1.0}</td>\n",
       "      <td>-31.130307</td>\n",
       "      <td>-22.549433</td>\n",
       "      <td>-31.155204</td>\n",
       "      <td>-27.963447</td>\n",
       "      <td>-21.698192</td>\n",
       "      <td>-26.899317</td>\n",
       "      <td>4.077240</td>\n",
       "      <td>14</td>\n",
       "    </tr>\n",
       "    <tr>\n",
       "      <th>18</th>\n",
       "      <td>0.004102</td>\n",
       "      <td>0.000747</td>\n",
       "      <td>0.000942</td>\n",
       "      <td>0.000648</td>\n",
       "      <td>50.0</td>\n",
       "      <td>0.1</td>\n",
       "      <td>{'alpha': 50.0, 'l1_ratio': 0.1}</td>\n",
       "      <td>-31.130307</td>\n",
       "      <td>-22.549433</td>\n",
       "      <td>-31.155204</td>\n",
       "      <td>-27.963447</td>\n",
       "      <td>-21.698192</td>\n",
       "      <td>-26.899317</td>\n",
       "      <td>4.077240</td>\n",
       "      <td>14</td>\n",
       "    </tr>\n",
       "    <tr>\n",
       "      <th>19</th>\n",
       "      <td>0.005768</td>\n",
       "      <td>0.001192</td>\n",
       "      <td>0.001872</td>\n",
       "      <td>0.000577</td>\n",
       "      <td>50.0</td>\n",
       "      <td>0.5</td>\n",
       "      <td>{'alpha': 50.0, 'l1_ratio': 0.5}</td>\n",
       "      <td>-31.130307</td>\n",
       "      <td>-22.549433</td>\n",
       "      <td>-31.155204</td>\n",
       "      <td>-27.963447</td>\n",
       "      <td>-21.698192</td>\n",
       "      <td>-26.899317</td>\n",
       "      <td>4.077240</td>\n",
       "      <td>14</td>\n",
       "    </tr>\n",
       "    <tr>\n",
       "      <th>20</th>\n",
       "      <td>0.005952</td>\n",
       "      <td>0.001324</td>\n",
       "      <td>0.001852</td>\n",
       "      <td>0.000666</td>\n",
       "      <td>50.0</td>\n",
       "      <td>0.7</td>\n",
       "      <td>{'alpha': 50.0, 'l1_ratio': 0.7}</td>\n",
       "      <td>-31.130307</td>\n",
       "      <td>-22.549433</td>\n",
       "      <td>-31.155204</td>\n",
       "      <td>-27.963447</td>\n",
       "      <td>-21.698192</td>\n",
       "      <td>-26.899317</td>\n",
       "      <td>4.077240</td>\n",
       "      <td>14</td>\n",
       "    </tr>\n",
       "    <tr>\n",
       "      <th>21</th>\n",
       "      <td>0.004672</td>\n",
       "      <td>0.000468</td>\n",
       "      <td>0.002110</td>\n",
       "      <td>0.000592</td>\n",
       "      <td>50.0</td>\n",
       "      <td>0.95</td>\n",
       "      <td>{'alpha': 50.0, 'l1_ratio': 0.95}</td>\n",
       "      <td>-31.130307</td>\n",
       "      <td>-22.549433</td>\n",
       "      <td>-31.155204</td>\n",
       "      <td>-27.963447</td>\n",
       "      <td>-21.698192</td>\n",
       "      <td>-26.899317</td>\n",
       "      <td>4.077240</td>\n",
       "      <td>14</td>\n",
       "    </tr>\n",
       "    <tr>\n",
       "      <th>22</th>\n",
       "      <td>0.004304</td>\n",
       "      <td>0.000594</td>\n",
       "      <td>0.001925</td>\n",
       "      <td>0.000514</td>\n",
       "      <td>50.0</td>\n",
       "      <td>0.99</td>\n",
       "      <td>{'alpha': 50.0, 'l1_ratio': 0.99}</td>\n",
       "      <td>-31.130307</td>\n",
       "      <td>-22.549433</td>\n",
       "      <td>-31.155204</td>\n",
       "      <td>-27.963447</td>\n",
       "      <td>-21.698192</td>\n",
       "      <td>-26.899317</td>\n",
       "      <td>4.077240</td>\n",
       "      <td>14</td>\n",
       "    </tr>\n",
       "    <tr>\n",
       "      <th>23</th>\n",
       "      <td>0.004836</td>\n",
       "      <td>0.001249</td>\n",
       "      <td>0.001761</td>\n",
       "      <td>0.000466</td>\n",
       "      <td>50.0</td>\n",
       "      <td>1.0</td>\n",
       "      <td>{'alpha': 50.0, 'l1_ratio': 1.0}</td>\n",
       "      <td>-31.130307</td>\n",
       "      <td>-22.549433</td>\n",
       "      <td>-31.155204</td>\n",
       "      <td>-27.963447</td>\n",
       "      <td>-21.698192</td>\n",
       "      <td>-26.899317</td>\n",
       "      <td>4.077240</td>\n",
       "      <td>14</td>\n",
       "    </tr>\n",
       "    <tr>\n",
       "      <th>24</th>\n",
       "      <td>0.004280</td>\n",
       "      <td>0.000925</td>\n",
       "      <td>0.001470</td>\n",
       "      <td>0.000397</td>\n",
       "      <td>100.0</td>\n",
       "      <td>0.1</td>\n",
       "      <td>{'alpha': 100.0, 'l1_ratio': 0.1}</td>\n",
       "      <td>-31.130307</td>\n",
       "      <td>-22.549433</td>\n",
       "      <td>-31.155204</td>\n",
       "      <td>-27.963447</td>\n",
       "      <td>-21.698192</td>\n",
       "      <td>-26.899317</td>\n",
       "      <td>4.077240</td>\n",
       "      <td>14</td>\n",
       "    </tr>\n",
       "    <tr>\n",
       "      <th>25</th>\n",
       "      <td>0.004801</td>\n",
       "      <td>0.000962</td>\n",
       "      <td>0.001474</td>\n",
       "      <td>0.000476</td>\n",
       "      <td>100.0</td>\n",
       "      <td>0.5</td>\n",
       "      <td>{'alpha': 100.0, 'l1_ratio': 0.5}</td>\n",
       "      <td>-31.130307</td>\n",
       "      <td>-22.549433</td>\n",
       "      <td>-31.155204</td>\n",
       "      <td>-27.963447</td>\n",
       "      <td>-21.698192</td>\n",
       "      <td>-26.899317</td>\n",
       "      <td>4.077240</td>\n",
       "      <td>14</td>\n",
       "    </tr>\n",
       "    <tr>\n",
       "      <th>26</th>\n",
       "      <td>0.006112</td>\n",
       "      <td>0.000347</td>\n",
       "      <td>0.002064</td>\n",
       "      <td>0.000370</td>\n",
       "      <td>100.0</td>\n",
       "      <td>0.7</td>\n",
       "      <td>{'alpha': 100.0, 'l1_ratio': 0.7}</td>\n",
       "      <td>-31.130307</td>\n",
       "      <td>-22.549433</td>\n",
       "      <td>-31.155204</td>\n",
       "      <td>-27.963447</td>\n",
       "      <td>-21.698192</td>\n",
       "      <td>-26.899317</td>\n",
       "      <td>4.077240</td>\n",
       "      <td>14</td>\n",
       "    </tr>\n",
       "    <tr>\n",
       "      <th>27</th>\n",
       "      <td>0.005220</td>\n",
       "      <td>0.000785</td>\n",
       "      <td>0.001856</td>\n",
       "      <td>0.000569</td>\n",
       "      <td>100.0</td>\n",
       "      <td>0.95</td>\n",
       "      <td>{'alpha': 100.0, 'l1_ratio': 0.95}</td>\n",
       "      <td>-31.130307</td>\n",
       "      <td>-22.549433</td>\n",
       "      <td>-31.155204</td>\n",
       "      <td>-27.963447</td>\n",
       "      <td>-21.698192</td>\n",
       "      <td>-26.899317</td>\n",
       "      <td>4.077240</td>\n",
       "      <td>14</td>\n",
       "    </tr>\n",
       "    <tr>\n",
       "      <th>28</th>\n",
       "      <td>0.005638</td>\n",
       "      <td>0.001308</td>\n",
       "      <td>0.002001</td>\n",
       "      <td>0.000272</td>\n",
       "      <td>100.0</td>\n",
       "      <td>0.99</td>\n",
       "      <td>{'alpha': 100.0, 'l1_ratio': 0.99}</td>\n",
       "      <td>-31.130307</td>\n",
       "      <td>-22.549433</td>\n",
       "      <td>-31.155204</td>\n",
       "      <td>-27.963447</td>\n",
       "      <td>-21.698192</td>\n",
       "      <td>-26.899317</td>\n",
       "      <td>4.077240</td>\n",
       "      <td>14</td>\n",
       "    </tr>\n",
       "    <tr>\n",
       "      <th>29</th>\n",
       "      <td>0.006051</td>\n",
       "      <td>0.001116</td>\n",
       "      <td>0.001952</td>\n",
       "      <td>0.000506</td>\n",
       "      <td>100.0</td>\n",
       "      <td>1.0</td>\n",
       "      <td>{'alpha': 100.0, 'l1_ratio': 1.0}</td>\n",
       "      <td>-31.130307</td>\n",
       "      <td>-22.549433</td>\n",
       "      <td>-31.155204</td>\n",
       "      <td>-27.963447</td>\n",
       "      <td>-21.698192</td>\n",
       "      <td>-26.899317</td>\n",
       "      <td>4.077240</td>\n",
       "      <td>14</td>\n",
       "    </tr>\n",
       "  </tbody>\n",
       "</table>\n",
       "</div>"
      ],
      "text/plain": [
       "    mean_fit_time  std_fit_time  mean_score_time  std_score_time param_alpha  \\\n",
       "0        0.014106      0.023715         0.000797        0.000746         0.1   \n",
       "1        0.002739      0.000461         0.000809        0.000405         0.1   \n",
       "2        0.002322      0.000631         0.001097        0.000148         0.1   \n",
       "3        0.003210      0.001246         0.000799        0.000399         0.1   \n",
       "4        0.002032      0.000154         0.000890        0.000118         0.1   \n",
       "5        0.003919      0.002088         0.000802        0.000748         0.1   \n",
       "6        0.005541      0.001415         0.002176        0.000897         1.0   \n",
       "7        0.004515      0.000653         0.001677        0.000426         1.0   \n",
       "8        0.004642      0.000499         0.001517        0.000605         1.0   \n",
       "9        0.005076      0.000706         0.001693        0.000484         1.0   \n",
       "10       0.004442      0.001063         0.001461        0.000423         1.0   \n",
       "11       0.004329      0.000345         0.002739        0.001410         1.0   \n",
       "12       0.005455      0.000854         0.001900        0.000614        10.0   \n",
       "13       0.004696      0.001152         0.002071        0.000374        10.0   \n",
       "14       0.004944      0.001876         0.001219        0.000733        10.0   \n",
       "15       0.004836      0.000879         0.001696        0.000569        10.0   \n",
       "16       0.006496      0.000676         0.001901        0.000733        10.0   \n",
       "17       0.005028      0.001168         0.001732        0.000790        10.0   \n",
       "18       0.004102      0.000747         0.000942        0.000648        50.0   \n",
       "19       0.005768      0.001192         0.001872        0.000577        50.0   \n",
       "20       0.005952      0.001324         0.001852        0.000666        50.0   \n",
       "21       0.004672      0.000468         0.002110        0.000592        50.0   \n",
       "22       0.004304      0.000594         0.001925        0.000514        50.0   \n",
       "23       0.004836      0.001249         0.001761        0.000466        50.0   \n",
       "24       0.004280      0.000925         0.001470        0.000397       100.0   \n",
       "25       0.004801      0.000962         0.001474        0.000476       100.0   \n",
       "26       0.006112      0.000347         0.002064        0.000370       100.0   \n",
       "27       0.005220      0.000785         0.001856        0.000569       100.0   \n",
       "28       0.005638      0.001308         0.002001        0.000272       100.0   \n",
       "29       0.006051      0.001116         0.001952        0.000506       100.0   \n",
       "\n",
       "   param_l1_ratio                              params  split0_test_score  \\\n",
       "0             0.1     {'alpha': 0.1, 'l1_ratio': 0.1}          -3.453021   \n",
       "1             0.5     {'alpha': 0.1, 'l1_ratio': 0.5}          -3.325440   \n",
       "2             0.7     {'alpha': 0.1, 'l1_ratio': 0.7}          -3.269880   \n",
       "3            0.95    {'alpha': 0.1, 'l1_ratio': 0.95}          -3.213052   \n",
       "4            0.99    {'alpha': 0.1, 'l1_ratio': 0.99}          -3.208124   \n",
       "5             1.0     {'alpha': 0.1, 'l1_ratio': 1.0}          -3.206943   \n",
       "6             0.1     {'alpha': 1.0, 'l1_ratio': 0.1}          -9.827475   \n",
       "7             0.5     {'alpha': 1.0, 'l1_ratio': 0.5}          -8.707071   \n",
       "8             0.7     {'alpha': 1.0, 'l1_ratio': 0.7}          -7.920870   \n",
       "9            0.95    {'alpha': 1.0, 'l1_ratio': 0.95}          -6.729435   \n",
       "10           0.99    {'alpha': 1.0, 'l1_ratio': 0.99}          -6.521344   \n",
       "11            1.0     {'alpha': 1.0, 'l1_ratio': 1.0}          -6.468807   \n",
       "12            0.1    {'alpha': 10.0, 'l1_ratio': 0.1}         -27.385346   \n",
       "13            0.5    {'alpha': 10.0, 'l1_ratio': 0.5}         -31.130307   \n",
       "14            0.7    {'alpha': 10.0, 'l1_ratio': 0.7}         -31.130307   \n",
       "15           0.95   {'alpha': 10.0, 'l1_ratio': 0.95}         -31.130307   \n",
       "16           0.99   {'alpha': 10.0, 'l1_ratio': 0.99}         -31.130307   \n",
       "17            1.0    {'alpha': 10.0, 'l1_ratio': 1.0}         -31.130307   \n",
       "18            0.1    {'alpha': 50.0, 'l1_ratio': 0.1}         -31.130307   \n",
       "19            0.5    {'alpha': 50.0, 'l1_ratio': 0.5}         -31.130307   \n",
       "20            0.7    {'alpha': 50.0, 'l1_ratio': 0.7}         -31.130307   \n",
       "21           0.95   {'alpha': 50.0, 'l1_ratio': 0.95}         -31.130307   \n",
       "22           0.99   {'alpha': 50.0, 'l1_ratio': 0.99}         -31.130307   \n",
       "23            1.0    {'alpha': 50.0, 'l1_ratio': 1.0}         -31.130307   \n",
       "24            0.1   {'alpha': 100.0, 'l1_ratio': 0.1}         -31.130307   \n",
       "25            0.5   {'alpha': 100.0, 'l1_ratio': 0.5}         -31.130307   \n",
       "26            0.7   {'alpha': 100.0, 'l1_ratio': 0.7}         -31.130307   \n",
       "27           0.95  {'alpha': 100.0, 'l1_ratio': 0.95}         -31.130307   \n",
       "28           0.99  {'alpha': 100.0, 'l1_ratio': 0.99}         -31.130307   \n",
       "29            1.0   {'alpha': 100.0, 'l1_ratio': 1.0}         -31.130307   \n",
       "\n",
       "    split1_test_score  split2_test_score  split3_test_score  \\\n",
       "0           -1.405190          -5.789125          -2.187302   \n",
       "1           -1.427522          -5.595610          -2.163089   \n",
       "2           -1.442432          -5.502437          -2.163950   \n",
       "3           -1.472417          -5.396258          -2.177452   \n",
       "4           -1.478489          -5.380242          -2.181097   \n",
       "5           -1.480065          -5.376257          -2.182076   \n",
       "6           -5.261525         -11.875347          -7.449195   \n",
       "7           -4.214228         -10.879261          -6.204545   \n",
       "8           -3.549562         -10.024877          -5.379553   \n",
       "9           -2.591285          -8.709842          -4.156317   \n",
       "10          -2.431385          -8.471086          -3.946327   \n",
       "11          -2.391483          -8.410171          -3.893566   \n",
       "12         -19.159534         -27.635464         -24.154104   \n",
       "13         -22.549433         -31.155204         -27.963447   \n",
       "14         -22.549433         -31.155204         -27.963447   \n",
       "15         -22.549433         -31.155204         -27.963447   \n",
       "16         -22.549433         -31.155204         -27.963447   \n",
       "17         -22.549433         -31.155204         -27.963447   \n",
       "18         -22.549433         -31.155204         -27.963447   \n",
       "19         -22.549433         -31.155204         -27.963447   \n",
       "20         -22.549433         -31.155204         -27.963447   \n",
       "21         -22.549433         -31.155204         -27.963447   \n",
       "22         -22.549433         -31.155204         -27.963447   \n",
       "23         -22.549433         -31.155204         -27.963447   \n",
       "24         -22.549433         -31.155204         -27.963447   \n",
       "25         -22.549433         -31.155204         -27.963447   \n",
       "26         -22.549433         -31.155204         -27.963447   \n",
       "27         -22.549433         -31.155204         -27.963447   \n",
       "28         -22.549433         -31.155204         -27.963447   \n",
       "29         -22.549433         -31.155204         -27.963447   \n",
       "\n",
       "    split4_test_score  mean_test_score  std_test_score  rank_test_score  \n",
       "0           -4.645576        -3.496043        1.591601                6  \n",
       "1           -4.451679        -3.392668        1.506827                5  \n",
       "2           -4.356738        -3.347088        1.462765                4  \n",
       "3           -4.241080        -3.300052        1.406248                3  \n",
       "4           -4.222968        -3.294184        1.396953                2  \n",
       "5           -4.218460        -3.292760        1.394613                1  \n",
       "6           -8.542329        -8.591174        2.222939               12  \n",
       "7           -7.173031        -7.435627        2.255532               11  \n",
       "8           -6.324836        -6.639940        2.206213               10  \n",
       "9           -5.329916        -5.503359        2.102835                9  \n",
       "10          -5.151344        -5.304297        2.079945                8  \n",
       "11          -5.105922        -5.253990        2.073832                7  \n",
       "12         -18.968161       -23.460522        3.794608               13  \n",
       "13         -21.698192       -26.899317        4.077240               14  \n",
       "14         -21.698192       -26.899317        4.077240               14  \n",
       "15         -21.698192       -26.899317        4.077240               14  \n",
       "16         -21.698192       -26.899317        4.077240               14  \n",
       "17         -21.698192       -26.899317        4.077240               14  \n",
       "18         -21.698192       -26.899317        4.077240               14  \n",
       "19         -21.698192       -26.899317        4.077240               14  \n",
       "20         -21.698192       -26.899317        4.077240               14  \n",
       "21         -21.698192       -26.899317        4.077240               14  \n",
       "22         -21.698192       -26.899317        4.077240               14  \n",
       "23         -21.698192       -26.899317        4.077240               14  \n",
       "24         -21.698192       -26.899317        4.077240               14  \n",
       "25         -21.698192       -26.899317        4.077240               14  \n",
       "26         -21.698192       -26.899317        4.077240               14  \n",
       "27         -21.698192       -26.899317        4.077240               14  \n",
       "28         -21.698192       -26.899317        4.077240               14  \n",
       "29         -21.698192       -26.899317        4.077240               14  "
      ]
     },
     "execution_count": 95,
     "metadata": {},
     "output_type": "execute_result"
    }
   ],
   "source": [
    "pd.DataFrame(grid_model.cv_results_)"
   ]
  },
  {
   "cell_type": "code",
   "execution_count": 96,
   "id": "minimal-printer",
   "metadata": {},
   "outputs": [],
   "source": [
    "y_pred = grid_model.predict(X_test)"
   ]
  },
  {
   "cell_type": "code",
   "execution_count": 97,
   "id": "separate-mistake",
   "metadata": {},
   "outputs": [
    {
     "data": {
      "text/plain": [
       "2.3873426420874737"
      ]
     },
     "execution_count": 97,
     "metadata": {},
     "output_type": "execute_result"
    }
   ],
   "source": [
    "mean_squared_error(y_test, y_pred)"
   ]
  }
 ],
 "metadata": {
  "kernelspec": {
   "display_name": "Python 3",
   "language": "python",
   "name": "python3"
  },
  "language_info": {
   "codemirror_mode": {
    "name": "ipython",
    "version": 3
   },
   "file_extension": ".py",
   "mimetype": "text/x-python",
   "name": "python",
   "nbconvert_exporter": "python",
   "pygments_lexer": "ipython3",
   "version": "3.8.8"
  }
 },
 "nbformat": 4,
 "nbformat_minor": 5
}
