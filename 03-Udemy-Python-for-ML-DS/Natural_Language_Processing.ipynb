{
 "cells": [
  {
   "cell_type": "code",
   "execution_count": 11,
   "id": "measured-cyprus",
   "metadata": {},
   "outputs": [],
   "source": [
    "with open ('./data/One.txt') as my_text:\n",
    "    a = my_text.read()\n",
    "#     b = my_text.readlines()"
   ]
  },
  {
   "cell_type": "code",
   "execution_count": 5,
   "id": "nutritional-league",
   "metadata": {},
   "outputs": [
    {
     "data": {
      "text/plain": [
       "'This is a story about dogs\\nour canine pets\\nDogs are furry animals\\n'"
      ]
     },
     "execution_count": 5,
     "metadata": {},
     "output_type": "execute_result"
    }
   ],
   "source": [
    "a"
   ]
  },
  {
   "cell_type": "code",
   "execution_count": 6,
   "id": "vertical-combine",
   "metadata": {},
   "outputs": [
    {
     "name": "stdout",
     "output_type": "stream",
     "text": [
      "This is a story about dogs\n",
      "our canine pets\n",
      "Dogs are furry animals\n",
      "\n"
     ]
    }
   ],
   "source": [
    "print(a)"
   ]
  },
  {
   "cell_type": "code",
   "execution_count": 10,
   "id": "accepting-performance",
   "metadata": {},
   "outputs": [
    {
     "data": {
      "text/plain": [
       "['This is a story about dogs\\n',\n",
       " 'our canine pets\\n',\n",
       " 'Dogs are furry animals\\n']"
      ]
     },
     "execution_count": 10,
     "metadata": {},
     "output_type": "execute_result"
    }
   ],
   "source": [
    "b"
   ]
  },
  {
   "cell_type": "code",
   "execution_count": 12,
   "id": "official-boston",
   "metadata": {},
   "outputs": [
    {
     "data": {
      "text/plain": [
       "['this',\n",
       " 'is',\n",
       " 'a',\n",
       " 'story',\n",
       " 'about',\n",
       " 'dogs',\n",
       " 'our',\n",
       " 'canine',\n",
       " 'pets',\n",
       " 'dogs',\n",
       " 'are',\n",
       " 'furry',\n",
       " 'animals']"
      ]
     },
     "execution_count": 12,
     "metadata": {},
     "output_type": "execute_result"
    }
   ],
   "source": [
    "a.lower().split()"
   ]
  },
  {
   "cell_type": "markdown",
   "id": "intended-poster",
   "metadata": {},
   "source": [
    "### Bag of Words\n",
    "\n",
    "Build a vocabulary."
   ]
  },
  {
   "cell_type": "code",
   "execution_count": 14,
   "id": "documented-moore",
   "metadata": {},
   "outputs": [
    {
     "data": {
      "text/plain": [
       "['this',\n",
       " 'story',\n",
       " 'is',\n",
       " 'about',\n",
       " 'surfing',\n",
       " 'catching',\n",
       " 'waves',\n",
       " 'is',\n",
       " 'fun',\n",
       " 'surfing',\n",
       " 'is',\n",
       " 'a',\n",
       " 'popular',\n",
       " 'water',\n",
       " 'sport']"
      ]
     },
     "execution_count": 14,
     "metadata": {},
     "output_type": "execute_result"
    }
   ],
   "source": [
    "with open ('./data/Two.txt') as my_text:\n",
    "    a = my_text.read()\n",
    "a.lower().split()"
   ]
  },
  {
   "cell_type": "code",
   "execution_count": 15,
   "id": "harmful-indonesia",
   "metadata": {},
   "outputs": [],
   "source": [
    "with open ('./data/One.txt') as my_text:\n",
    "    words_one = my_text.read().lower().split()\n",
    "    unique_one = set(words_one) "
   ]
  },
  {
   "cell_type": "code",
   "execution_count": 17,
   "id": "headed-circumstances",
   "metadata": {},
   "outputs": [
    {
     "data": {
      "text/plain": [
       "{'a',\n",
       " 'about',\n",
       " 'animals',\n",
       " 'are',\n",
       " 'canine',\n",
       " 'dogs',\n",
       " 'furry',\n",
       " 'is',\n",
       " 'our',\n",
       " 'pets',\n",
       " 'story',\n",
       " 'this'}"
      ]
     },
     "execution_count": 17,
     "metadata": {},
     "output_type": "execute_result"
    }
   ],
   "source": [
    "# duplicates removed\n",
    "unique_one"
   ]
  },
  {
   "cell_type": "code",
   "execution_count": 18,
   "id": "reliable-collar",
   "metadata": {},
   "outputs": [],
   "source": [
    "with open ('./data/Two.txt') as my_text:\n",
    "    words_two = my_text.read().lower().split()\n",
    "    unique_two = set(words_two) "
   ]
  },
  {
   "cell_type": "code",
   "execution_count": 19,
   "id": "intense-journal",
   "metadata": {},
   "outputs": [],
   "source": [
    "all_unique_words = set()"
   ]
  },
  {
   "cell_type": "code",
   "execution_count": 20,
   "id": "industrial-routine",
   "metadata": {},
   "outputs": [],
   "source": [
    "all_unique_words.update(unique_one)"
   ]
  },
  {
   "cell_type": "code",
   "execution_count": 21,
   "id": "registered-closing",
   "metadata": {},
   "outputs": [],
   "source": [
    "all_unique_words.update(unique_two)"
   ]
  },
  {
   "cell_type": "code",
   "execution_count": 22,
   "id": "studied-leather",
   "metadata": {},
   "outputs": [
    {
     "data": {
      "text/plain": [
       "{'a',\n",
       " 'about',\n",
       " 'animals',\n",
       " 'are',\n",
       " 'canine',\n",
       " 'catching',\n",
       " 'dogs',\n",
       " 'fun',\n",
       " 'furry',\n",
       " 'is',\n",
       " 'our',\n",
       " 'pets',\n",
       " 'popular',\n",
       " 'sport',\n",
       " 'story',\n",
       " 'surfing',\n",
       " 'this',\n",
       " 'water',\n",
       " 'waves'}"
      ]
     },
     "execution_count": 22,
     "metadata": {},
     "output_type": "execute_result"
    }
   ],
   "source": [
    "all_unique_words"
   ]
  },
  {
   "cell_type": "code",
   "execution_count": 25,
   "id": "legislative-survey",
   "metadata": {},
   "outputs": [],
   "source": [
    "full_vocab = dict()\n",
    "i = 0\n",
    "for word in all_unique_words:\n",
    "    full_vocab[word] = i\n",
    "    i = i + 1"
   ]
  },
  {
   "cell_type": "code",
   "execution_count": 26,
   "id": "heated-tissue",
   "metadata": {},
   "outputs": [
    {
     "data": {
      "text/plain": [
       "{'furry': 0,\n",
       " 'about': 1,\n",
       " 'waves': 2,\n",
       " 'a': 3,\n",
       " 'water': 4,\n",
       " 'are': 5,\n",
       " 'story': 6,\n",
       " 'fun': 7,\n",
       " 'sport': 8,\n",
       " 'canine': 9,\n",
       " 'is': 10,\n",
       " 'surfing': 11,\n",
       " 'animals': 12,\n",
       " 'our': 13,\n",
       " 'pets': 14,\n",
       " 'dogs': 15,\n",
       " 'catching': 16,\n",
       " 'popular': 17,\n",
       " 'this': 18}"
      ]
     },
     "execution_count": 26,
     "metadata": {},
     "output_type": "execute_result"
    }
   ],
   "source": [
    "full_vocab"
   ]
  },
  {
   "cell_type": "code",
   "execution_count": 27,
   "id": "weighted-helena",
   "metadata": {},
   "outputs": [],
   "source": [
    "one_freq = [0] * len(full_vocab)\n",
    "two_freq = [0] * len(full_vocab)\n",
    "all_words = [''] * len(full_vocab)"
   ]
  },
  {
   "cell_type": "code",
   "execution_count": 28,
   "id": "according-ceremony",
   "metadata": {},
   "outputs": [],
   "source": [
    "with open ('./data/One.txt') as f:\n",
    "    one_text = f.read().lower().split()"
   ]
  },
  {
   "cell_type": "code",
   "execution_count": 29,
   "id": "automotive-dollar",
   "metadata": {},
   "outputs": [],
   "source": [
    "for word in one_text:\n",
    "    word_index = full_vocab[word]\n",
    "    one_freq[word_index] += 1"
   ]
  },
  {
   "cell_type": "code",
   "execution_count": 30,
   "id": "instructional-answer",
   "metadata": {},
   "outputs": [
    {
     "data": {
      "text/plain": [
       "[1, 1, 0, 1, 0, 1, 1, 0, 0, 1, 1, 0, 1, 1, 1, 2, 0, 0, 1]"
      ]
     },
     "execution_count": 30,
     "metadata": {},
     "output_type": "execute_result"
    }
   ],
   "source": [
    "one_freq"
   ]
  },
  {
   "cell_type": "code",
   "execution_count": 31,
   "id": "consolidated-calculator",
   "metadata": {},
   "outputs": [],
   "source": [
    "with open ('./data/Two.txt') as f:\n",
    "    two_text = f.read().lower().split()"
   ]
  },
  {
   "cell_type": "code",
   "execution_count": 32,
   "id": "defined-petite",
   "metadata": {},
   "outputs": [],
   "source": [
    "for word in two_text:\n",
    "    word_index = full_vocab[word]\n",
    "    two_freq[word_index] += 1"
   ]
  },
  {
   "cell_type": "code",
   "execution_count": 34,
   "id": "variable-liver",
   "metadata": {},
   "outputs": [
    {
     "data": {
      "text/plain": [
       "[0, 1, 1, 1, 1, 0, 1, 1, 1, 0, 3, 2, 0, 0, 0, 0, 1, 1, 1]"
      ]
     },
     "execution_count": 34,
     "metadata": {},
     "output_type": "execute_result"
    }
   ],
   "source": [
    "two_freq"
   ]
  },
  {
   "cell_type": "code",
   "execution_count": 35,
   "id": "exclusive-music",
   "metadata": {},
   "outputs": [
    {
     "data": {
      "text/plain": [
       "['', '', '', '', '', '', '', '', '', '', '', '', '', '', '', '', '', '', '']"
      ]
     },
     "execution_count": 35,
     "metadata": {},
     "output_type": "execute_result"
    }
   ],
   "source": [
    "all_words"
   ]
  },
  {
   "cell_type": "code",
   "execution_count": 36,
   "id": "duplicate-airplane",
   "metadata": {},
   "outputs": [],
   "source": [
    "for word in full_vocab:\n",
    "    word_index = full_vocab[word]\n",
    "    all_words[word_index] = word"
   ]
  },
  {
   "cell_type": "code",
   "execution_count": 37,
   "id": "protected-setting",
   "metadata": {},
   "outputs": [
    {
     "data": {
      "text/plain": [
       "['furry',\n",
       " 'about',\n",
       " 'waves',\n",
       " 'a',\n",
       " 'water',\n",
       " 'are',\n",
       " 'story',\n",
       " 'fun',\n",
       " 'sport',\n",
       " 'canine',\n",
       " 'is',\n",
       " 'surfing',\n",
       " 'animals',\n",
       " 'our',\n",
       " 'pets',\n",
       " 'dogs',\n",
       " 'catching',\n",
       " 'popular',\n",
       " 'this']"
      ]
     },
     "execution_count": 37,
     "metadata": {},
     "output_type": "execute_result"
    }
   ],
   "source": [
    "all_words"
   ]
  },
  {
   "cell_type": "code",
   "execution_count": 38,
   "id": "fiscal-associate",
   "metadata": {},
   "outputs": [],
   "source": [
    "import pandas as pd"
   ]
  },
  {
   "cell_type": "code",
   "execution_count": 39,
   "id": "prescribed-keyboard",
   "metadata": {},
   "outputs": [
    {
     "data": {
      "text/html": [
       "<div>\n",
       "<style scoped>\n",
       "    .dataframe tbody tr th:only-of-type {\n",
       "        vertical-align: middle;\n",
       "    }\n",
       "\n",
       "    .dataframe tbody tr th {\n",
       "        vertical-align: top;\n",
       "    }\n",
       "\n",
       "    .dataframe thead th {\n",
       "        text-align: right;\n",
       "    }\n",
       "</style>\n",
       "<table border=\"1\" class=\"dataframe\">\n",
       "  <thead>\n",
       "    <tr style=\"text-align: right;\">\n",
       "      <th></th>\n",
       "      <th>furry</th>\n",
       "      <th>about</th>\n",
       "      <th>waves</th>\n",
       "      <th>a</th>\n",
       "      <th>water</th>\n",
       "      <th>are</th>\n",
       "      <th>story</th>\n",
       "      <th>fun</th>\n",
       "      <th>sport</th>\n",
       "      <th>canine</th>\n",
       "      <th>is</th>\n",
       "      <th>surfing</th>\n",
       "      <th>animals</th>\n",
       "      <th>our</th>\n",
       "      <th>pets</th>\n",
       "      <th>dogs</th>\n",
       "      <th>catching</th>\n",
       "      <th>popular</th>\n",
       "      <th>this</th>\n",
       "    </tr>\n",
       "  </thead>\n",
       "  <tbody>\n",
       "    <tr>\n",
       "      <th>0</th>\n",
       "      <td>1</td>\n",
       "      <td>1</td>\n",
       "      <td>0</td>\n",
       "      <td>1</td>\n",
       "      <td>0</td>\n",
       "      <td>1</td>\n",
       "      <td>1</td>\n",
       "      <td>0</td>\n",
       "      <td>0</td>\n",
       "      <td>1</td>\n",
       "      <td>1</td>\n",
       "      <td>0</td>\n",
       "      <td>1</td>\n",
       "      <td>1</td>\n",
       "      <td>1</td>\n",
       "      <td>2</td>\n",
       "      <td>0</td>\n",
       "      <td>0</td>\n",
       "      <td>1</td>\n",
       "    </tr>\n",
       "    <tr>\n",
       "      <th>1</th>\n",
       "      <td>0</td>\n",
       "      <td>1</td>\n",
       "      <td>1</td>\n",
       "      <td>1</td>\n",
       "      <td>1</td>\n",
       "      <td>0</td>\n",
       "      <td>1</td>\n",
       "      <td>1</td>\n",
       "      <td>1</td>\n",
       "      <td>0</td>\n",
       "      <td>3</td>\n",
       "      <td>2</td>\n",
       "      <td>0</td>\n",
       "      <td>0</td>\n",
       "      <td>0</td>\n",
       "      <td>0</td>\n",
       "      <td>1</td>\n",
       "      <td>1</td>\n",
       "      <td>1</td>\n",
       "    </tr>\n",
       "  </tbody>\n",
       "</table>\n",
       "</div>"
      ],
      "text/plain": [
       "   furry  about  waves  a  water  are  story  fun  sport  canine  is  surfing  \\\n",
       "0      1      1      0  1      0    1      1    0      0       1   1        0   \n",
       "1      0      1      1  1      1    0      1    1      1       0   3        2   \n",
       "\n",
       "   animals  our  pets  dogs  catching  popular  this  \n",
       "0        1    1     1     2         0        0     1  \n",
       "1        0    0     0     0         1        1     1  "
      ]
     },
     "execution_count": 39,
     "metadata": {},
     "output_type": "execute_result"
    }
   ],
   "source": [
    "# bag of words\n",
    "bow = pd.DataFrame(data=[one_freq, two_freq],\n",
    "             columns=all_words)\n",
    "\n",
    "bow"
   ]
  },
  {
   "cell_type": "code",
   "execution_count": null,
   "id": "metric-student",
   "metadata": {},
   "outputs": [],
   "source": []
  }
 ],
 "metadata": {
  "kernelspec": {
   "display_name": "Python 3",
   "language": "python",
   "name": "python3"
  },
  "language_info": {
   "codemirror_mode": {
    "name": "ipython",
    "version": 3
   },
   "file_extension": ".py",
   "mimetype": "text/x-python",
   "name": "python",
   "nbconvert_exporter": "python",
   "pygments_lexer": "ipython3",
   "version": "3.8.8"
  }
 },
 "nbformat": 4,
 "nbformat_minor": 5
}
