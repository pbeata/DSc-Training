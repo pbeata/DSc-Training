{
 "cells": [
  {
   "cell_type": "markdown",
   "metadata": {},
   "source": [
    "## Project 1: Personal Finance Analysis"
   ]
  },
  {
   "cell_type": "markdown",
   "metadata": {},
   "source": [
    "In this study, I wanted to investigate how major life events (and the COVID-19 pandemic) have affected my spending from 2017 to 2020. The following data was extracted from my Mint (Intuit) profile and includes all transactions that were made with by debit card, credit card, peer-to-peer transfer (e.g., Zelle), or check. It does not include cash transactions, cash gifts, or gift cards; however, since using a card or money transfer is the most popular method to complete transactions, this analysis should give an accurate estimation of how my spending patterns have changes over time."
   ]
  },
  {
   "cell_type": "markdown",
   "metadata": {},
   "source": [
    "Questions for this analysis:\n",
    "1. How have the spending patterns changed due to a move?\n",
    "2. How have the spending patterns changed due to a change in employment? \n",
    "3. How have the spending patterns changed due to marriage? \n",
    "4. How has the COVID-19 pandemic affected these spending patterns for the year 2020?\n",
    "\n",
    "We are particularly interested in changes in food and travel expenses related to the COVID-19 pandemic."
   ]
  },
  {
   "cell_type": "code",
   "execution_count": 1,
   "metadata": {},
   "outputs": [],
   "source": [
    "import numpy as np\n",
    "import pandas as pd\n",
    "import matplotlib.pyplot as plt"
   ]
  },
  {
   "cell_type": "code",
   "execution_count": 63,
   "metadata": {},
   "outputs": [
    {
     "data": {
      "text/html": [
       "<div>\n",
       "<style scoped>\n",
       "    .dataframe tbody tr th:only-of-type {\n",
       "        vertical-align: middle;\n",
       "    }\n",
       "\n",
       "    .dataframe tbody tr th {\n",
       "        vertical-align: top;\n",
       "    }\n",
       "\n",
       "    .dataframe thead th {\n",
       "        text-align: right;\n",
       "    }\n",
       "</style>\n",
       "<table border=\"1\" class=\"dataframe\">\n",
       "  <thead>\n",
       "    <tr style=\"text-align: right;\">\n",
       "      <th></th>\n",
       "      <th>Dates</th>\n",
       "      <th>Spending</th>\n",
       "    </tr>\n",
       "  </thead>\n",
       "  <tbody>\n",
       "    <tr>\n",
       "      <th>1</th>\n",
       "      <td>January 2014</td>\n",
       "      <td>$1,897.84</td>\n",
       "    </tr>\n",
       "    <tr>\n",
       "      <th>2</th>\n",
       "      <td>February 2014</td>\n",
       "      <td>$2,302.91</td>\n",
       "    </tr>\n",
       "    <tr>\n",
       "      <th>3</th>\n",
       "      <td>March 2014</td>\n",
       "      <td>$4,023.44</td>\n",
       "    </tr>\n",
       "    <tr>\n",
       "      <th>4</th>\n",
       "      <td>April 2014</td>\n",
       "      <td>$2,853.33</td>\n",
       "    </tr>\n",
       "    <tr>\n",
       "      <th>5</th>\n",
       "      <td>May 2014</td>\n",
       "      <td>$1,699.02</td>\n",
       "    </tr>\n",
       "    <tr>\n",
       "      <th>...</th>\n",
       "      <td>...</td>\n",
       "      <td>...</td>\n",
       "    </tr>\n",
       "    <tr>\n",
       "      <th>80</th>\n",
       "      <td>August 2020</td>\n",
       "      <td>$5,973.40</td>\n",
       "    </tr>\n",
       "    <tr>\n",
       "      <th>81</th>\n",
       "      <td>September 2020</td>\n",
       "      <td>$1,626.05</td>\n",
       "    </tr>\n",
       "    <tr>\n",
       "      <th>82</th>\n",
       "      <td>October 2020</td>\n",
       "      <td>$5,580.04</td>\n",
       "    </tr>\n",
       "    <tr>\n",
       "      <th>83</th>\n",
       "      <td>November 2020</td>\n",
       "      <td>$2,164.89</td>\n",
       "    </tr>\n",
       "    <tr>\n",
       "      <th>84</th>\n",
       "      <td>December 2020</td>\n",
       "      <td>$2,725.43</td>\n",
       "    </tr>\n",
       "  </tbody>\n",
       "</table>\n",
       "<p>84 rows × 2 columns</p>\n",
       "</div>"
      ],
      "text/plain": [
       "             Dates   Spending\n",
       "1     January 2014  $1,897.84\n",
       "2    February 2014  $2,302.91\n",
       "3       March 2014  $4,023.44\n",
       "4       April 2014  $2,853.33\n",
       "5         May 2014  $1,699.02\n",
       "..             ...        ...\n",
       "80     August 2020  $5,973.40\n",
       "81  September 2020  $1,626.05\n",
       "82    October 2020  $5,580.04\n",
       "83   November 2020  $2,164.89\n",
       "84   December 2020  $2,725.43\n",
       "\n",
       "[84 rows x 2 columns]"
      ]
     },
     "execution_count": 63,
     "metadata": {},
     "output_type": "execute_result"
    }
   ],
   "source": [
    "expenses = pd.read_csv('./totals/all_time_spending.csv')\n",
    "expenses = expenses.drop(0)\n",
    "# expenses.head(10)\n",
    "\n",
    "# df.drop(df.head(n).index,inplace=True) # drop first n rows\n",
    "\n",
    "expenses.drop(expenses.tail(2).index, inplace=True) # drop last n=2 rows\n",
    "expenses"
   ]
  },
  {
   "cell_type": "code",
   "execution_count": 22,
   "metadata": {},
   "outputs": [
    {
     "name": "stdout",
     "output_type": "stream",
     "text": [
      "January 2017\n",
      "['January', '2017']\n"
     ]
    }
   ],
   "source": [
    "x = \"January 2017\"\n",
    "type(x)\n",
    "\n",
    "y = x.split()\n",
    "\n",
    "print(x)\n",
    "print(y)"
   ]
  },
  {
   "cell_type": "code",
   "execution_count": null,
   "metadata": {},
   "outputs": [],
   "source": [
    "# expenses.Spending[4]\n",
    "\n",
    "# plt.plot(expenses['Dates'], expenses['Spending'], 'b.-')\n",
    "\n",
    "# my_bins = [1000, 2000, 3000, 4000, 5000, 6000, 7000, 8000, 9000]\n",
    "# plt.hist(expenses['Spending'], bins=my_bins)\n",
    "# plt.xticks(my_bins)\n",
    "\n",
    "# plt.show()"
   ]
  },
  {
   "cell_type": "code",
   "execution_count": 34,
   "metadata": {},
   "outputs": [
    {
     "data": {
      "text/plain": [
       "str"
      ]
     },
     "execution_count": 34,
     "metadata": {},
     "output_type": "execute_result"
    }
   ],
   "source": [
    "type(expenses['Dates'][1])"
   ]
  },
  {
   "cell_type": "code",
   "execution_count": 64,
   "metadata": {},
   "outputs": [
    {
     "data": {
      "text/html": [
       "<div>\n",
       "<style scoped>\n",
       "    .dataframe tbody tr th:only-of-type {\n",
       "        vertical-align: middle;\n",
       "    }\n",
       "\n",
       "    .dataframe tbody tr th {\n",
       "        vertical-align: top;\n",
       "    }\n",
       "\n",
       "    .dataframe thead th {\n",
       "        text-align: right;\n",
       "    }\n",
       "</style>\n",
       "<table border=\"1\" class=\"dataframe\">\n",
       "  <thead>\n",
       "    <tr style=\"text-align: right;\">\n",
       "      <th></th>\n",
       "      <th>Dates</th>\n",
       "      <th>Spending</th>\n",
       "      <th>Month</th>\n",
       "      <th>Year</th>\n",
       "    </tr>\n",
       "  </thead>\n",
       "  <tbody>\n",
       "    <tr>\n",
       "      <th>1</th>\n",
       "      <td>January 2014</td>\n",
       "      <td>$1,897.84</td>\n",
       "      <td>January</td>\n",
       "      <td>2014</td>\n",
       "    </tr>\n",
       "    <tr>\n",
       "      <th>2</th>\n",
       "      <td>February 2014</td>\n",
       "      <td>$2,302.91</td>\n",
       "      <td>February</td>\n",
       "      <td>2014</td>\n",
       "    </tr>\n",
       "    <tr>\n",
       "      <th>3</th>\n",
       "      <td>March 2014</td>\n",
       "      <td>$4,023.44</td>\n",
       "      <td>March</td>\n",
       "      <td>2014</td>\n",
       "    </tr>\n",
       "    <tr>\n",
       "      <th>4</th>\n",
       "      <td>April 2014</td>\n",
       "      <td>$2,853.33</td>\n",
       "      <td>April</td>\n",
       "      <td>2014</td>\n",
       "    </tr>\n",
       "    <tr>\n",
       "      <th>5</th>\n",
       "      <td>May 2014</td>\n",
       "      <td>$1,699.02</td>\n",
       "      <td>May</td>\n",
       "      <td>2014</td>\n",
       "    </tr>\n",
       "    <tr>\n",
       "      <th>...</th>\n",
       "      <td>...</td>\n",
       "      <td>...</td>\n",
       "      <td>...</td>\n",
       "      <td>...</td>\n",
       "    </tr>\n",
       "    <tr>\n",
       "      <th>80</th>\n",
       "      <td>August 2020</td>\n",
       "      <td>$5,973.40</td>\n",
       "      <td>August</td>\n",
       "      <td>2020</td>\n",
       "    </tr>\n",
       "    <tr>\n",
       "      <th>81</th>\n",
       "      <td>September 2020</td>\n",
       "      <td>$1,626.05</td>\n",
       "      <td>September</td>\n",
       "      <td>2020</td>\n",
       "    </tr>\n",
       "    <tr>\n",
       "      <th>82</th>\n",
       "      <td>October 2020</td>\n",
       "      <td>$5,580.04</td>\n",
       "      <td>October</td>\n",
       "      <td>2020</td>\n",
       "    </tr>\n",
       "    <tr>\n",
       "      <th>83</th>\n",
       "      <td>November 2020</td>\n",
       "      <td>$2,164.89</td>\n",
       "      <td>November</td>\n",
       "      <td>2020</td>\n",
       "    </tr>\n",
       "    <tr>\n",
       "      <th>84</th>\n",
       "      <td>December 2020</td>\n",
       "      <td>$2,725.43</td>\n",
       "      <td>December</td>\n",
       "      <td>2020</td>\n",
       "    </tr>\n",
       "  </tbody>\n",
       "</table>\n",
       "<p>84 rows × 4 columns</p>\n",
       "</div>"
      ],
      "text/plain": [
       "             Dates   Spending      Month  Year\n",
       "1     January 2014  $1,897.84    January  2014\n",
       "2    February 2014  $2,302.91   February  2014\n",
       "3       March 2014  $4,023.44      March  2014\n",
       "4       April 2014  $2,853.33      April  2014\n",
       "5         May 2014  $1,699.02        May  2014\n",
       "..             ...        ...        ...   ...\n",
       "80     August 2020  $5,973.40     August  2020\n",
       "81  September 2020  $1,626.05  September  2020\n",
       "82    October 2020  $5,580.04    October  2020\n",
       "83   November 2020  $2,164.89   November  2020\n",
       "84   December 2020  $2,725.43   December  2020\n",
       "\n",
       "[84 rows x 4 columns]"
      ]
     },
     "execution_count": 64,
     "metadata": {},
     "output_type": "execute_result"
    }
   ],
   "source": [
    "new = expenses[\"Dates\"].str.split(\" \", n=1, expand=True)\n",
    "\n",
    "# making separate Month column from new data frame \n",
    "expenses[\"Month\"]= new[0] \n",
    "  \n",
    "# making separate Year column from new data frame \n",
    "expenses[\"Year\"]= new[1] \n",
    "\n",
    "expenses"
   ]
  },
  {
   "cell_type": "code",
   "execution_count": 65,
   "metadata": {},
   "outputs": [
    {
     "data": {
      "text/html": [
       "<div>\n",
       "<style scoped>\n",
       "    .dataframe tbody tr th:only-of-type {\n",
       "        vertical-align: middle;\n",
       "    }\n",
       "\n",
       "    .dataframe tbody tr th {\n",
       "        vertical-align: top;\n",
       "    }\n",
       "\n",
       "    .dataframe thead th {\n",
       "        text-align: right;\n",
       "    }\n",
       "</style>\n",
       "<table border=\"1\" class=\"dataframe\">\n",
       "  <thead>\n",
       "    <tr style=\"text-align: right;\">\n",
       "      <th></th>\n",
       "      <th>Dates</th>\n",
       "      <th>Spending</th>\n",
       "      <th>Month</th>\n",
       "      <th>Year</th>\n",
       "    </tr>\n",
       "  </thead>\n",
       "  <tbody>\n",
       "    <tr>\n",
       "      <th>count</th>\n",
       "      <td>84</td>\n",
       "      <td>84</td>\n",
       "      <td>84</td>\n",
       "      <td>84</td>\n",
       "    </tr>\n",
       "    <tr>\n",
       "      <th>unique</th>\n",
       "      <td>84</td>\n",
       "      <td>84</td>\n",
       "      <td>12</td>\n",
       "      <td>7</td>\n",
       "    </tr>\n",
       "    <tr>\n",
       "      <th>top</th>\n",
       "      <td>January 2018</td>\n",
       "      <td>$4,735.27</td>\n",
       "      <td>February</td>\n",
       "      <td>2015</td>\n",
       "    </tr>\n",
       "    <tr>\n",
       "      <th>freq</th>\n",
       "      <td>1</td>\n",
       "      <td>1</td>\n",
       "      <td>7</td>\n",
       "      <td>12</td>\n",
       "    </tr>\n",
       "  </tbody>\n",
       "</table>\n",
       "</div>"
      ],
      "text/plain": [
       "               Dates   Spending     Month  Year\n",
       "count             84         84        84    84\n",
       "unique            84         84        12     7\n",
       "top     January 2018  $4,735.27  February  2015\n",
       "freq               1          1         7    12"
      ]
     },
     "execution_count": 65,
     "metadata": {},
     "output_type": "execute_result"
    }
   ],
   "source": [
    "expenses.describe()"
   ]
  }
 ],
 "metadata": {
  "kernelspec": {
   "display_name": "Python 3",
   "language": "python",
   "name": "python3"
  },
  "language_info": {
   "codemirror_mode": {
    "name": "ipython",
    "version": 3
   },
   "file_extension": ".py",
   "mimetype": "text/x-python",
   "name": "python",
   "nbconvert_exporter": "python",
   "pygments_lexer": "ipython3",
   "version": "3.8.5"
  }
 },
 "nbformat": 4,
 "nbformat_minor": 4
}
