{
 "cells": [
  {
   "cell_type": "markdown",
   "metadata": {},
   "source": [
    "## Project 1: Personal Finance Analysis"
   ]
  },
  {
   "cell_type": "markdown",
   "metadata": {},
   "source": [
    "In this study, I wanted to investigate how major life events (and the COVID-19 pandemic) have affected my spending from 2017 to 2020. The following data was extracted from my Mint (Intuit) profile and includes all transactions that were made with by debit card, credit card, peer-to-peer transfer (e.g., Zelle), or check. It does not include cash transactions, cash gifts, or gift cards; however, since using a card or money transfer is the most popular method to complete transactions, this analysis should give an accurate estimation of how my spending patterns have changes over time."
   ]
  },
  {
   "cell_type": "markdown",
   "metadata": {},
   "source": [
    "Questions for this analysis:\n",
    "1. How have the spending patterns changed due to a move?\n",
    "2. How have the spending patterns changed due to a change in employment? \n",
    "3. How have the spending patterns changed due to marriage? \n",
    "4. How has the COVID-19 pandemic affected these spending patterns for the year 2020?\n",
    "\n",
    "We are particularly interested in changes in food and travel expenses related to the COVID-19 pandemic."
   ]
  },
  {
   "cell_type": "code",
   "execution_count": 1,
   "metadata": {},
   "outputs": [],
   "source": [
    "import numpy as np\n",
    "import pandas as pd\n",
    "import matplotlib.pyplot as plt"
   ]
  },
  {
   "cell_type": "code",
   "execution_count": 2,
   "metadata": {},
   "outputs": [
    {
     "data": {
      "text/html": [
       "<div>\n",
       "<style scoped>\n",
       "    .dataframe tbody tr th:only-of-type {\n",
       "        vertical-align: middle;\n",
       "    }\n",
       "\n",
       "    .dataframe tbody tr th {\n",
       "        vertical-align: top;\n",
       "    }\n",
       "\n",
       "    .dataframe thead th {\n",
       "        text-align: right;\n",
       "    }\n",
       "</style>\n",
       "<table border=\"1\" class=\"dataframe\">\n",
       "  <thead>\n",
       "    <tr style=\"text-align: right;\">\n",
       "      <th></th>\n",
       "      <th>Dates</th>\n",
       "      <th>Spending</th>\n",
       "    </tr>\n",
       "  </thead>\n",
       "  <tbody>\n",
       "    <tr>\n",
       "      <th>1</th>\n",
       "      <td>January 2014</td>\n",
       "      <td>$1,897.84</td>\n",
       "    </tr>\n",
       "    <tr>\n",
       "      <th>2</th>\n",
       "      <td>February 2014</td>\n",
       "      <td>$2,302.91</td>\n",
       "    </tr>\n",
       "    <tr>\n",
       "      <th>3</th>\n",
       "      <td>March 2014</td>\n",
       "      <td>$4,023.44</td>\n",
       "    </tr>\n",
       "    <tr>\n",
       "      <th>4</th>\n",
       "      <td>April 2014</td>\n",
       "      <td>$2,853.33</td>\n",
       "    </tr>\n",
       "    <tr>\n",
       "      <th>5</th>\n",
       "      <td>May 2014</td>\n",
       "      <td>$1,699.02</td>\n",
       "    </tr>\n",
       "    <tr>\n",
       "      <th>...</th>\n",
       "      <td>...</td>\n",
       "      <td>...</td>\n",
       "    </tr>\n",
       "    <tr>\n",
       "      <th>80</th>\n",
       "      <td>August 2020</td>\n",
       "      <td>$5,973.40</td>\n",
       "    </tr>\n",
       "    <tr>\n",
       "      <th>81</th>\n",
       "      <td>September 2020</td>\n",
       "      <td>$1,626.05</td>\n",
       "    </tr>\n",
       "    <tr>\n",
       "      <th>82</th>\n",
       "      <td>October 2020</td>\n",
       "      <td>$5,580.04</td>\n",
       "    </tr>\n",
       "    <tr>\n",
       "      <th>83</th>\n",
       "      <td>November 2020</td>\n",
       "      <td>$2,164.89</td>\n",
       "    </tr>\n",
       "    <tr>\n",
       "      <th>84</th>\n",
       "      <td>December 2020</td>\n",
       "      <td>$2,725.43</td>\n",
       "    </tr>\n",
       "  </tbody>\n",
       "</table>\n",
       "<p>84 rows × 2 columns</p>\n",
       "</div>"
      ],
      "text/plain": [
       "             Dates   Spending\n",
       "1     January 2014  $1,897.84\n",
       "2    February 2014  $2,302.91\n",
       "3       March 2014  $4,023.44\n",
       "4       April 2014  $2,853.33\n",
       "5         May 2014  $1,699.02\n",
       "..             ...        ...\n",
       "80     August 2020  $5,973.40\n",
       "81  September 2020  $1,626.05\n",
       "82    October 2020  $5,580.04\n",
       "83   November 2020  $2,164.89\n",
       "84   December 2020  $2,725.43\n",
       "\n",
       "[84 rows x 2 columns]"
      ]
     },
     "execution_count": 2,
     "metadata": {},
     "output_type": "execute_result"
    }
   ],
   "source": [
    "expenses = pd.read_csv('./totals/all_time_spending.csv')\n",
    "expenses = expenses.drop(0)\n",
    "# expenses.head(10)\n",
    "\n",
    "# df.drop(df.head(n).index,inplace=True) # drop first n rows\n",
    "\n",
    "expenses.drop(expenses.tail(2).index, inplace=True) # drop last n=2 rows\n",
    "expenses"
   ]
  },
  {
   "cell_type": "code",
   "execution_count": 3,
   "metadata": {},
   "outputs": [
    {
     "name": "stdout",
     "output_type": "stream",
     "text": [
      "January 2017\n",
      "['January', '2017']\n"
     ]
    }
   ],
   "source": [
    "x = \"January 2017\"\n",
    "type(x)\n",
    "\n",
    "y = x.split()\n",
    "\n",
    "print(x)\n",
    "print(y)"
   ]
  },
  {
   "cell_type": "code",
   "execution_count": 4,
   "metadata": {},
   "outputs": [],
   "source": [
    "# expenses.Spending[4]\n",
    "\n",
    "# plt.plot(expenses['Dates'], expenses['Spending'], 'b.-')\n",
    "\n",
    "# my_bins = [1000, 2000, 3000, 4000, 5000, 6000, 7000, 8000, 9000]\n",
    "# plt.hist(expenses['Spending'], bins=my_bins)\n",
    "# plt.xticks(my_bins)\n",
    "\n",
    "# plt.show()"
   ]
  },
  {
   "cell_type": "code",
   "execution_count": 5,
   "metadata": {},
   "outputs": [
    {
     "data": {
      "text/plain": [
       "str"
      ]
     },
     "execution_count": 5,
     "metadata": {},
     "output_type": "execute_result"
    }
   ],
   "source": [
    "type(expenses['Dates'][1])"
   ]
  },
  {
   "cell_type": "code",
   "execution_count": 7,
   "metadata": {},
   "outputs": [
    {
     "data": {
      "text/html": [
       "<div>\n",
       "<style scoped>\n",
       "    .dataframe tbody tr th:only-of-type {\n",
       "        vertical-align: middle;\n",
       "    }\n",
       "\n",
       "    .dataframe tbody tr th {\n",
       "        vertical-align: top;\n",
       "    }\n",
       "\n",
       "    .dataframe thead th {\n",
       "        text-align: right;\n",
       "    }\n",
       "</style>\n",
       "<table border=\"1\" class=\"dataframe\">\n",
       "  <thead>\n",
       "    <tr style=\"text-align: right;\">\n",
       "      <th></th>\n",
       "      <th>Dates</th>\n",
       "      <th>Spending</th>\n",
       "      <th>Month</th>\n",
       "      <th>Year</th>\n",
       "    </tr>\n",
       "  </thead>\n",
       "  <tbody>\n",
       "    <tr>\n",
       "      <th>1</th>\n",
       "      <td>January 2014</td>\n",
       "      <td>$1,897.84</td>\n",
       "      <td>January</td>\n",
       "      <td>2014</td>\n",
       "    </tr>\n",
       "    <tr>\n",
       "      <th>2</th>\n",
       "      <td>February 2014</td>\n",
       "      <td>$2,302.91</td>\n",
       "      <td>February</td>\n",
       "      <td>2014</td>\n",
       "    </tr>\n",
       "    <tr>\n",
       "      <th>3</th>\n",
       "      <td>March 2014</td>\n",
       "      <td>$4,023.44</td>\n",
       "      <td>March</td>\n",
       "      <td>2014</td>\n",
       "    </tr>\n",
       "    <tr>\n",
       "      <th>4</th>\n",
       "      <td>April 2014</td>\n",
       "      <td>$2,853.33</td>\n",
       "      <td>April</td>\n",
       "      <td>2014</td>\n",
       "    </tr>\n",
       "    <tr>\n",
       "      <th>5</th>\n",
       "      <td>May 2014</td>\n",
       "      <td>$1,699.02</td>\n",
       "      <td>May</td>\n",
       "      <td>2014</td>\n",
       "    </tr>\n",
       "    <tr>\n",
       "      <th>...</th>\n",
       "      <td>...</td>\n",
       "      <td>...</td>\n",
       "      <td>...</td>\n",
       "      <td>...</td>\n",
       "    </tr>\n",
       "    <tr>\n",
       "      <th>80</th>\n",
       "      <td>August 2020</td>\n",
       "      <td>$5,973.40</td>\n",
       "      <td>August</td>\n",
       "      <td>2020</td>\n",
       "    </tr>\n",
       "    <tr>\n",
       "      <th>81</th>\n",
       "      <td>September 2020</td>\n",
       "      <td>$1,626.05</td>\n",
       "      <td>September</td>\n",
       "      <td>2020</td>\n",
       "    </tr>\n",
       "    <tr>\n",
       "      <th>82</th>\n",
       "      <td>October 2020</td>\n",
       "      <td>$5,580.04</td>\n",
       "      <td>October</td>\n",
       "      <td>2020</td>\n",
       "    </tr>\n",
       "    <tr>\n",
       "      <th>83</th>\n",
       "      <td>November 2020</td>\n",
       "      <td>$2,164.89</td>\n",
       "      <td>November</td>\n",
       "      <td>2020</td>\n",
       "    </tr>\n",
       "    <tr>\n",
       "      <th>84</th>\n",
       "      <td>December 2020</td>\n",
       "      <td>$2,725.43</td>\n",
       "      <td>December</td>\n",
       "      <td>2020</td>\n",
       "    </tr>\n",
       "  </tbody>\n",
       "</table>\n",
       "<p>84 rows × 4 columns</p>\n",
       "</div>"
      ],
      "text/plain": [
       "             Dates   Spending      Month  Year\n",
       "1     January 2014  $1,897.84    January  2014\n",
       "2    February 2014  $2,302.91   February  2014\n",
       "3       March 2014  $4,023.44      March  2014\n",
       "4       April 2014  $2,853.33      April  2014\n",
       "5         May 2014  $1,699.02        May  2014\n",
       "..             ...        ...        ...   ...\n",
       "80     August 2020  $5,973.40     August  2020\n",
       "81  September 2020  $1,626.05  September  2020\n",
       "82    October 2020  $5,580.04    October  2020\n",
       "83   November 2020  $2,164.89   November  2020\n",
       "84   December 2020  $2,725.43   December  2020\n",
       "\n",
       "[84 rows x 4 columns]"
      ]
     },
     "execution_count": 7,
     "metadata": {},
     "output_type": "execute_result"
    }
   ],
   "source": [
    "new = expenses[\"Dates\"].str.split(\" \", n=1, expand=True)\n",
    "\n",
    "# making separate Month column from new data frame \n",
    "expenses[\"Month\"]= new[0] \n",
    "  \n",
    "# making separate Year column from new data frame \n",
    "expenses[\"Year\"]= new[1] \n",
    "\n",
    "expenses"
   ]
  },
  {
   "cell_type": "code",
   "execution_count": 8,
   "metadata": {},
   "outputs": [],
   "source": [
    "# expenses.describe()"
   ]
  },
  {
   "cell_type": "code",
   "execution_count": 9,
   "metadata": {},
   "outputs": [
    {
     "data": {
      "text/html": [
       "<div>\n",
       "<style scoped>\n",
       "    .dataframe tbody tr th:only-of-type {\n",
       "        vertical-align: middle;\n",
       "    }\n",
       "\n",
       "    .dataframe tbody tr th {\n",
       "        vertical-align: top;\n",
       "    }\n",
       "\n",
       "    .dataframe thead th {\n",
       "        text-align: right;\n",
       "    }\n",
       "</style>\n",
       "<table border=\"1\" class=\"dataframe\">\n",
       "  <thead>\n",
       "    <tr style=\"text-align: right;\">\n",
       "      <th></th>\n",
       "      <th>Dates</th>\n",
       "      <th>Spending</th>\n",
       "      <th>Month</th>\n",
       "      <th>Year</th>\n",
       "      <th>Amount</th>\n",
       "    </tr>\n",
       "  </thead>\n",
       "  <tbody>\n",
       "    <tr>\n",
       "      <th>1</th>\n",
       "      <td>January 2014</td>\n",
       "      <td>$1,897.84</td>\n",
       "      <td>January</td>\n",
       "      <td>2014</td>\n",
       "      <td>1897.84</td>\n",
       "    </tr>\n",
       "    <tr>\n",
       "      <th>2</th>\n",
       "      <td>February 2014</td>\n",
       "      <td>$2,302.91</td>\n",
       "      <td>February</td>\n",
       "      <td>2014</td>\n",
       "      <td>2302.91</td>\n",
       "    </tr>\n",
       "    <tr>\n",
       "      <th>3</th>\n",
       "      <td>March 2014</td>\n",
       "      <td>$4,023.44</td>\n",
       "      <td>March</td>\n",
       "      <td>2014</td>\n",
       "      <td>4023.44</td>\n",
       "    </tr>\n",
       "    <tr>\n",
       "      <th>4</th>\n",
       "      <td>April 2014</td>\n",
       "      <td>$2,853.33</td>\n",
       "      <td>April</td>\n",
       "      <td>2014</td>\n",
       "      <td>2853.33</td>\n",
       "    </tr>\n",
       "    <tr>\n",
       "      <th>5</th>\n",
       "      <td>May 2014</td>\n",
       "      <td>$1,699.02</td>\n",
       "      <td>May</td>\n",
       "      <td>2014</td>\n",
       "      <td>1699.02</td>\n",
       "    </tr>\n",
       "    <tr>\n",
       "      <th>...</th>\n",
       "      <td>...</td>\n",
       "      <td>...</td>\n",
       "      <td>...</td>\n",
       "      <td>...</td>\n",
       "      <td>...</td>\n",
       "    </tr>\n",
       "    <tr>\n",
       "      <th>80</th>\n",
       "      <td>August 2020</td>\n",
       "      <td>$5,973.40</td>\n",
       "      <td>August</td>\n",
       "      <td>2020</td>\n",
       "      <td>5973.40</td>\n",
       "    </tr>\n",
       "    <tr>\n",
       "      <th>81</th>\n",
       "      <td>September 2020</td>\n",
       "      <td>$1,626.05</td>\n",
       "      <td>September</td>\n",
       "      <td>2020</td>\n",
       "      <td>1626.05</td>\n",
       "    </tr>\n",
       "    <tr>\n",
       "      <th>82</th>\n",
       "      <td>October 2020</td>\n",
       "      <td>$5,580.04</td>\n",
       "      <td>October</td>\n",
       "      <td>2020</td>\n",
       "      <td>5580.04</td>\n",
       "    </tr>\n",
       "    <tr>\n",
       "      <th>83</th>\n",
       "      <td>November 2020</td>\n",
       "      <td>$2,164.89</td>\n",
       "      <td>November</td>\n",
       "      <td>2020</td>\n",
       "      <td>2164.89</td>\n",
       "    </tr>\n",
       "    <tr>\n",
       "      <th>84</th>\n",
       "      <td>December 2020</td>\n",
       "      <td>$2,725.43</td>\n",
       "      <td>December</td>\n",
       "      <td>2020</td>\n",
       "      <td>2725.43</td>\n",
       "    </tr>\n",
       "  </tbody>\n",
       "</table>\n",
       "<p>84 rows × 5 columns</p>\n",
       "</div>"
      ],
      "text/plain": [
       "             Dates   Spending      Month  Year   Amount\n",
       "1     January 2014  $1,897.84    January  2014  1897.84\n",
       "2    February 2014  $2,302.91   February  2014  2302.91\n",
       "3       March 2014  $4,023.44      March  2014  4023.44\n",
       "4       April 2014  $2,853.33      April  2014  2853.33\n",
       "5         May 2014  $1,699.02        May  2014  1699.02\n",
       "..             ...        ...        ...   ...      ...\n",
       "80     August 2020  $5,973.40     August  2020  5973.40\n",
       "81  September 2020  $1,626.05  September  2020  1626.05\n",
       "82    October 2020  $5,580.04    October  2020  5580.04\n",
       "83   November 2020  $2,164.89   November  2020  2164.89\n",
       "84   December 2020  $2,725.43   December  2020  2725.43\n",
       "\n",
       "[84 rows x 5 columns]"
      ]
     },
     "execution_count": 9,
     "metadata": {},
     "output_type": "execute_result"
    }
   ],
   "source": [
    "# expenses.Amount = [float(x.lstrip('$')) if type(x) == str else x for x in expenses.Spending]\n",
    "# expenses\n",
    "\n",
    "temp = expenses.Spending.str.lstrip('$')\n",
    "temp2 = temp.str.replace(',', '')\n",
    "expenses['Amount'] = temp2\n",
    "expenses\n",
    "\n",
    "# temp2\n",
    "\n",
    "# print(type(temp2[2]))\n",
    "# x = float(temp2[3])\n",
    "# print(x)\n",
    "# print(type(x))"
   ]
  },
  {
   "cell_type": "code",
   "execution_count": 17,
   "metadata": {},
   "outputs": [
    {
     "data": {
      "image/png": "[encoded data removed]",
      "text/plain": [
       "<Figure size 432x288 with 1 Axes>"
      ]
     },
     "metadata": {
      "needs_background": "light"
     },
     "output_type": "display_data"
    }
   ],
   "source": [
    "expenses['Amount'] = expenses['Amount'].astype(float)\n",
    "\n",
    "# my_bins = [0, 1000, 2000, 3000, 4000, 5000, 6000, 7000, 8000, 9000, 10000]\n",
    "my_bins = list(range(1000, 11000, 1000))\n",
    "\n",
    "plt.hist(expenses['Amount'], bins=my_bins)\n",
    "plt.xticks(my_bins)\n",
    "\n",
    "plt.show()"
   ]
  },
  {
   "cell_type": "code",
   "execution_count": 32,
   "metadata": {},
   "outputs": [
    {
     "data": {
      "text/html": [
       "<div>\n",
       "<style scoped>\n",
       "    .dataframe tbody tr th:only-of-type {\n",
       "        vertical-align: middle;\n",
       "    }\n",
       "\n",
       "    .dataframe tbody tr th {\n",
       "        vertical-align: top;\n",
       "    }\n",
       "\n",
       "    .dataframe thead th {\n",
       "        text-align: right;\n",
       "    }\n",
       "</style>\n",
       "<table border=\"1\" class=\"dataframe\">\n",
       "  <thead>\n",
       "    <tr style=\"text-align: right;\">\n",
       "      <th></th>\n",
       "      <th>Amount</th>\n",
       "    </tr>\n",
       "  </thead>\n",
       "  <tbody>\n",
       "    <tr>\n",
       "      <th>count</th>\n",
       "      <td>84.000000</td>\n",
       "    </tr>\n",
       "    <tr>\n",
       "      <th>mean</th>\n",
       "      <td>2929.641429</td>\n",
       "    </tr>\n",
       "    <tr>\n",
       "      <th>std</th>\n",
       "      <td>1661.329473</td>\n",
       "    </tr>\n",
       "    <tr>\n",
       "      <th>min</th>\n",
       "      <td>1192.480000</td>\n",
       "    </tr>\n",
       "    <tr>\n",
       "      <th>25%</th>\n",
       "      <td>1848.892500</td>\n",
       "    </tr>\n",
       "    <tr>\n",
       "      <th>50%</th>\n",
       "      <td>2570.320000</td>\n",
       "    </tr>\n",
       "    <tr>\n",
       "      <th>75%</th>\n",
       "      <td>3301.170000</td>\n",
       "    </tr>\n",
       "    <tr>\n",
       "      <th>max</th>\n",
       "      <td>9551.200000</td>\n",
       "    </tr>\n",
       "  </tbody>\n",
       "</table>\n",
       "</div>"
      ],
      "text/plain": [
       "            Amount\n",
       "count    84.000000\n",
       "mean   2929.641429\n",
       "std    1661.329473\n",
       "min    1192.480000\n",
       "25%    1848.892500\n",
       "50%    2570.320000\n",
       "75%    3301.170000\n",
       "max    9551.200000"
      ]
     },
     "execution_count": 32,
     "metadata": {},
     "output_type": "execute_result"
    }
   ],
   "source": [
    "df = expenses[['Month', 'Year', 'Amount']]\n",
    "df.head(5)\n",
    "df.describe()"
   ]
  },
  {
   "cell_type": "code",
   "execution_count": 33,
   "metadata": {},
   "outputs": [
    {
     "name": "stderr",
     "output_type": "stream",
     "text": [
      "<ipython-input-33-ed67a2b00dce>:1: SettingWithCopyWarning: \n",
      "A value is trying to be set on a copy of a slice from a DataFrame.\n",
      "Try using .loc[row_indexer,col_indexer] = value instead\n",
      "\n",
      "See the caveats in the documentation: https://pandas.pydata.org/pandas-docs/stable/user_guide/indexing.html#returning-a-view-versus-a-copy\n",
      "  df['Count'] = 1\n"
     ]
    },
    {
     "data": {
      "text/html": [
       "<div>\n",
       "<style scoped>\n",
       "    .dataframe tbody tr th:only-of-type {\n",
       "        vertical-align: middle;\n",
       "    }\n",
       "\n",
       "    .dataframe tbody tr th {\n",
       "        vertical-align: top;\n",
       "    }\n",
       "\n",
       "    .dataframe thead th {\n",
       "        text-align: right;\n",
       "    }\n",
       "</style>\n",
       "<table border=\"1\" class=\"dataframe\">\n",
       "  <thead>\n",
       "    <tr style=\"text-align: right;\">\n",
       "      <th></th>\n",
       "      <th>Month</th>\n",
       "      <th>Year</th>\n",
       "      <th>Amount</th>\n",
       "      <th>Count</th>\n",
       "    </tr>\n",
       "  </thead>\n",
       "  <tbody>\n",
       "    <tr>\n",
       "      <th>1</th>\n",
       "      <td>January</td>\n",
       "      <td>2014</td>\n",
       "      <td>1897.84</td>\n",
       "      <td>1</td>\n",
       "    </tr>\n",
       "    <tr>\n",
       "      <th>2</th>\n",
       "      <td>February</td>\n",
       "      <td>2014</td>\n",
       "      <td>2302.91</td>\n",
       "      <td>1</td>\n",
       "    </tr>\n",
       "    <tr>\n",
       "      <th>3</th>\n",
       "      <td>March</td>\n",
       "      <td>2014</td>\n",
       "      <td>4023.44</td>\n",
       "      <td>1</td>\n",
       "    </tr>\n",
       "    <tr>\n",
       "      <th>4</th>\n",
       "      <td>April</td>\n",
       "      <td>2014</td>\n",
       "      <td>2853.33</td>\n",
       "      <td>1</td>\n",
       "    </tr>\n",
       "    <tr>\n",
       "      <th>5</th>\n",
       "      <td>May</td>\n",
       "      <td>2014</td>\n",
       "      <td>1699.02</td>\n",
       "      <td>1</td>\n",
       "    </tr>\n",
       "  </tbody>\n",
       "</table>\n",
       "</div>"
      ],
      "text/plain": [
       "      Month  Year   Amount  Count\n",
       "1   January  2014  1897.84      1\n",
       "2  February  2014  2302.91      1\n",
       "3     March  2014  4023.44      1\n",
       "4     April  2014  2853.33      1\n",
       "5       May  2014  1699.02      1"
      ]
     },
     "execution_count": 33,
     "metadata": {},
     "output_type": "execute_result"
    }
   ],
   "source": [
    "df['Count'] = 1\n",
    "df.head(5)"
   ]
  },
  {
   "cell_type": "code",
   "execution_count": 34,
   "metadata": {},
   "outputs": [],
   "source": [
    "# plt.boxplot([df.Amount])\n",
    "# plt.show()"
   ]
  },
  {
   "cell_type": "code",
   "execution_count": 35,
   "metadata": {},
   "outputs": [],
   "source": [
    "df.to_csv('./totals/all_data_mod.csv', index=False)"
   ]
  },
  {
   "cell_type": "code",
   "execution_count": 36,
   "metadata": {},
   "outputs": [
    {
     "data": {
      "text/plain": [
       "Year\n",
       "2014    12\n",
       "2015    12\n",
       "2016    12\n",
       "2017    12\n",
       "2018    12\n",
       "2019    12\n",
       "2020    12\n",
       "Name: Count, dtype: int64"
      ]
     },
     "execution_count": 36,
     "metadata": {},
     "output_type": "execute_result"
    }
   ],
   "source": [
    "df.groupby(['Year']).count()['Count']"
   ]
  },
  {
   "cell_type": "code",
   "execution_count": 46,
   "metadata": {},
   "outputs": [
    {
     "data": {
      "text/plain": [
       "Year\n",
       "2014    2432.899167\n",
       "2015    2413.317500\n",
       "2016    2249.960833\n",
       "2017    2242.847500\n",
       "2018    2891.016667\n",
       "2019    4086.055000\n",
       "2020    4191.393333\n",
       "Name: Amount, dtype: float64"
      ]
     },
     "execution_count": 46,
     "metadata": {},
     "output_type": "execute_result"
    }
   ],
   "source": [
    "df.groupby(['Year']).mean()['Amount']"
   ]
  },
  {
   "cell_type": "code",
   "execution_count": 49,
   "metadata": {},
   "outputs": [
    {
     "data": {
      "text/plain": [
       "Year\n",
       "2014    4023.44\n",
       "2015    8126.01\n",
       "2016    7014.89\n",
       "2017    3725.14\n",
       "2018    3709.38\n",
       "2019    9551.20\n",
       "2020    7893.29\n",
       "Name: Amount, dtype: float64"
      ]
     },
     "execution_count": 49,
     "metadata": {},
     "output_type": "execute_result"
    }
   ],
   "source": [
    "amax = df.groupby(['Year']).max()['Amount']\n",
    "# new_data['MaxVal'] = amax\n",
    "\n",
    "amax\n"
   ]
  },
  {
   "cell_type": "code",
   "execution_count": 39,
   "metadata": {},
   "outputs": [
    {
     "data": {
      "text/plain": [
       "Year\n",
       "2014    1681.59\n",
       "2015    1192.48\n",
       "2016    1231.79\n",
       "2017    1348.76\n",
       "2018    2099.40\n",
       "2019    1627.88\n",
       "2020    1626.05\n",
       "Name: Amount, dtype: float64"
      ]
     },
     "execution_count": 39,
     "metadata": {},
     "output_type": "execute_result"
    }
   ],
   "source": [
    "df.groupby(['Year']).min()['Amount']"
   ]
  },
  {
   "cell_type": "code",
   "execution_count": 56,
   "metadata": {},
   "outputs": [
    {
     "data": {
      "image/png": "[encoded data removed]",
      "text/plain": [
       "<Figure size 640x480 with 1 Axes>"
      ]
     },
     "metadata": {},
     "output_type": "display_data"
    }
   ],
   "source": [
    "all_2017 = df.loc[df.Year == '2017']['Amount']\n",
    "all_2018 = df.loc[df.Year == '2018']['Amount']\n",
    "all_2019 = df.loc[df.Year == '2019']['Amount']\n",
    "all_2020 = df.loc[df.Year == '2020']['Amount']\n",
    "\n",
    "box_labels = ['2017', '2018', '2019', '2020']\n",
    "plt.style.use('default')\n",
    "boxes = plt.boxplot([all_2017, all_2018, all_2019, all_2020], labels=box_labels)\n",
    "plt.show()"
   ]
  }
 ],
 "metadata": {
  "kernelspec": {
   "display_name": "Python 3",
   "language": "python",
   "name": "python3"
  },
  "language_info": {
   "codemirror_mode": {
    "name": "ipython",
    "version": 3
   },
   "file_extension": ".py",
   "mimetype": "text/x-python",
   "name": "python",
   "nbconvert_exporter": "python",
   "pygments_lexer": "ipython3",
   "version": "3.8.5"
  }
 },
 "nbformat": 4,
 "nbformat_minor": 4
}
